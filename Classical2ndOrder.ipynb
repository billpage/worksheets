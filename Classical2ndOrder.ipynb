{
 "cells": [
  {
   "cell_type": "markdown",
   "metadata": {},
   "source": [
    "# Classical Euler-Lagrange equation of 2nd order for a function of a single variable $x(t)$ using differential forms. #"
   ]
  },
  {
   "cell_type": "code",
   "execution_count": 1,
   "metadata": {
    "collapsed": true
   },
   "outputs": [],
   "source": [
    "%display typeset"
   ]
  },
  {
   "cell_type": "markdown",
   "metadata": {},
   "source": [
    "There are 3 independent variables."
   ]
  },
  {
   "cell_type": "code",
   "execution_count": 2,
   "metadata": {
    "collapsed": true
   },
   "outputs": [],
   "source": [
    "M = Manifold(3,'M')\n",
    "coord.<t, x, v> = M.chart()\n",
    "basis = coord.frame()\n",
    "[Dt,Dx,Dv] = [basis[i] for i in range(M.dim())]\n",
    "cobasis=coord.coframe()\n",
    "[dt,dx,dv] = [cobasis[i] for i in range(M.dim())]\n",
    "t = M.scalar_field(var('t'))\n",
    "x = M.scalar_field(var('x'))\n",
    "v = M.scalar_field(var('v'))\n",
    "a = M.scalar_field(var('a'))\n",
    "d = xder\n",
    "def ev(N): return (lambda x: N.contract(x))"
   ]
  },
  {
   "cell_type": "markdown",
   "metadata": {},
   "source": [
    "Lagrangian"
   ]
  },
  {
   "cell_type": "code",
   "execution_count": 3,
   "metadata": {
    "collapsed": false
   },
   "outputs": [
    {
     "data": {
      "text/html": [
       "<html><script type=\"math/tex; mode=display\">\\newcommand{\\Bold}[1]{\\mathbf{#1}}\\begin{array}{llcl} & M & \\longrightarrow & \\mathbb{R} \\\\ & \\left(t, x, v\\right) & \\longmapsto & L\\left(t, x, v\\right) \\end{array}</script></html>"
      ],
      "text/plain": [
       "M --> R\n",
       "(t, x, v) |--> L(t, x, v)"
      ]
     },
     "execution_count": 3,
     "metadata": {},
     "output_type": "execute_result"
    }
   ],
   "source": [
    "# General Lagrangian\n",
    "L = M.scalar_field(function('L')(*list(coord)))\n",
    "# Classical Lagrangian\n",
    "#m=var('m')\n",
    "#V=M.scalar_field(function('V')(x.expr()))\n",
    "#L = 1/2*m*v^2 - V\n",
    "L.display()"
   ]
  },
  {
   "cell_type": "markdown",
   "metadata": {},
   "source": [
    "Kinetics"
   ]
  },
  {
   "cell_type": "code",
   "execution_count": 4,
   "metadata": {
    "collapsed": false
   },
   "outputs": [
    {
     "data": {
      "text/html": [
       "<html><script type=\"math/tex; mode=display\">\\newcommand{\\Bold}[1]{\\mathbf{#1}}\\frac{\\partial}{\\partial t } + v \\frac{\\partial}{\\partial x } + a \\frac{\\partial}{\\partial v }</script></html>"
      ],
      "text/plain": [
       "d/dt + v d/dx + a d/dv"
      ]
     },
     "execution_count": 4,
     "metadata": {},
     "output_type": "execute_result"
    }
   ],
   "source": [
    "N = Dt + v*Dx + a*Dv\n",
    "N.display()"
   ]
  },
  {
   "cell_type": "code",
   "execution_count": 5,
   "metadata": {
    "collapsed": false
   },
   "outputs": [
    {
     "data": {
      "text/html": [
       "<html><script type=\"math/tex; mode=display\">\\newcommand{\\Bold}[1]{\\mathbf{#1}}1</script></html>"
      ],
      "text/plain": [
       "1"
      ]
     },
     "execution_count": 5,
     "metadata": {},
     "output_type": "execute_result"
    }
   ],
   "source": [
    "N(t).expr()"
   ]
  },
  {
   "cell_type": "code",
   "execution_count": 6,
   "metadata": {
    "collapsed": false
   },
   "outputs": [
    {
     "data": {
      "text/html": [
       "<html><script type=\"math/tex; mode=display\">\\newcommand{\\Bold}[1]{\\mathbf{#1}}v</script></html>"
      ],
      "text/plain": [
       "v"
      ]
     },
     "execution_count": 6,
     "metadata": {},
     "output_type": "execute_result"
    }
   ],
   "source": [
    "N(x).expr()"
   ]
  },
  {
   "cell_type": "code",
   "execution_count": 7,
   "metadata": {
    "collapsed": false
   },
   "outputs": [
    {
     "data": {
      "text/html": [
       "<html><script type=\"math/tex; mode=display\">\\newcommand{\\Bold}[1]{\\mathbf{#1}}a</script></html>"
      ],
      "text/plain": [
       "a"
      ]
     },
     "execution_count": 7,
     "metadata": {},
     "output_type": "execute_result"
    }
   ],
   "source": [
    "N(v).expr()"
   ]
  },
  {
   "cell_type": "markdown",
   "metadata": {},
   "source": [
    "Auxillary scalar field."
   ]
  },
  {
   "cell_type": "code",
   "execution_count": 8,
   "metadata": {
    "collapsed": true
   },
   "outputs": [],
   "source": [
    "p = M.scalar_field(function('p')(*list(coord)))"
   ]
  },
  {
   "cell_type": "markdown",
   "metadata": {},
   "source": [
    "Action differential form."
   ]
  },
  {
   "cell_type": "code",
   "execution_count": 9,
   "metadata": {
    "collapsed": true
   },
   "outputs": [],
   "source": [
    "alpha = L*dt + p*(dx-v*dt)"
   ]
  },
  {
   "cell_type": "markdown",
   "metadata": {},
   "source": [
    "Euler-Lagrange equation. Let $E=0$."
   ]
  },
  {
   "cell_type": "code",
   "execution_count": 10,
   "metadata": {
    "collapsed": false
   },
   "outputs": [
    {
     "data": {
      "text/html": [
       "<html><script type=\"math/tex; mode=display\">\\newcommand{\\Bold}[1]{\\mathbf{#1}}\\left( -v^{2} \\frac{\\partial\\,p}{\\partial x} - {\\left(a \\frac{\\partial\\,p}{\\partial v} - \\frac{\\partial\\,L}{\\partial x} + \\frac{\\partial\\,p}{\\partial t}\\right)} v - a p\\left(t, x, v\\right) + a \\frac{\\partial\\,L}{\\partial v} \\right) \\mathrm{d} t + \\left( v \\frac{\\partial\\,p}{\\partial x} + a \\frac{\\partial\\,p}{\\partial v} - \\frac{\\partial\\,L}{\\partial x} + \\frac{\\partial\\,p}{\\partial t} \\right) \\mathrm{d} x + \\left( p\\left(t, x, v\\right) - \\frac{\\partial\\,L}{\\partial v} \\right) \\mathrm{d} v</script></html>"
      ],
      "text/plain": [
       "(-v^2*d(p)/dx - (a*d(p)/dv - d(L)/dx + d(p)/dt)*v - a*p(t, x, v) + a*d(L)/dv) dt + (v*d(p)/dx + a*d(p)/dv - d(L)/dx + d(p)/dt) dx + (p(t, x, v) - d(L)/dv) dv"
      ]
     },
     "execution_count": 10,
     "metadata": {},
     "output_type": "execute_result"
    }
   ],
   "source": [
    "E = ev(N)(d(alpha))\n",
    "E.display()"
   ]
  },
  {
   "cell_type": "markdown",
   "metadata": {},
   "source": [
    "Consider the scalar parts separately."
   ]
  },
  {
   "cell_type": "code",
   "execution_count": 11,
   "metadata": {
    "collapsed": false
   },
   "outputs": [
    {
     "data": {
      "text/html": [
       "<html><script type=\"math/tex; mode=display\">\\newcommand{\\Bold}[1]{\\mathbf{#1}}\\begin{array}{llcl} & M & \\longrightarrow & \\mathbb{R} \\\\ & \\left(t, x, v\\right) & \\longmapsto & -v^{2} \\frac{\\partial\\,p}{\\partial x} - {\\left(a \\frac{\\partial\\,p}{\\partial v} - \\frac{\\partial\\,L}{\\partial x} + \\frac{\\partial\\,p}{\\partial t}\\right)} v - a p\\left(t, x, v\\right) + a \\frac{\\partial\\,L}{\\partial v} \\end{array}</script></html>"
      ],
      "text/plain": [
       "M --> R\n",
       "(t, x, v) |--> -v^2*d(p)/dx - (a*d(p)/dv - d(L)/dx + d(p)/dt)*v - a*p(t, x, v) + a*d(L)/dv"
      ]
     },
     "execution_count": 11,
     "metadata": {},
     "output_type": "execute_result"
    }
   ],
   "source": [
    "Dt(E).display()"
   ]
  },
  {
   "cell_type": "code",
   "execution_count": 12,
   "metadata": {
    "collapsed": false
   },
   "outputs": [
    {
     "data": {
      "text/html": [
       "<html><script type=\"math/tex; mode=display\">\\newcommand{\\Bold}[1]{\\mathbf{#1}}\\begin{array}{llcl} & M & \\longrightarrow & \\mathbb{R} \\\\ & \\left(t, x, v\\right) & \\longmapsto & v \\frac{\\partial\\,p}{\\partial x} + a \\frac{\\partial\\,p}{\\partial v} - \\frac{\\partial\\,L}{\\partial x} + \\frac{\\partial\\,p}{\\partial t} \\end{array}</script></html>"
      ],
      "text/plain": [
       "M --> R\n",
       "(t, x, v) |--> v*d(p)/dx + a*d(p)/dv - d(L)/dx + d(p)/dt"
      ]
     },
     "execution_count": 12,
     "metadata": {},
     "output_type": "execute_result"
    }
   ],
   "source": [
    "Dx(E).display()"
   ]
  },
  {
   "cell_type": "code",
   "execution_count": 13,
   "metadata": {
    "collapsed": false
   },
   "outputs": [
    {
     "data": {
      "text/html": [
       "<html><script type=\"math/tex; mode=display\">\\newcommand{\\Bold}[1]{\\mathbf{#1}}\\begin{array}{llcl} & M & \\longrightarrow & \\mathbb{R} \\\\ & \\left(t, x, v\\right) & \\longmapsto & p\\left(t, x, v\\right) - \\frac{\\partial\\,L}{\\partial v} \\end{array}</script></html>"
      ],
      "text/plain": [
       "M --> R\n",
       "(t, x, v) |--> p(t, x, v) - d(L)/dv"
      ]
     },
     "execution_count": 13,
     "metadata": {},
     "output_type": "execute_result"
    }
   ],
   "source": [
    "Dv(E).display()"
   ]
  },
  {
   "cell_type": "markdown",
   "metadata": {},
   "source": [
    "Solve $Dv(E)=0$ for $p$."
   ]
  },
  {
   "cell_type": "code",
   "execution_count": 14,
   "metadata": {
    "collapsed": false
   },
   "outputs": [
    {
     "data": {
      "text/html": [
       "<html><script type=\"math/tex; mode=display\">\\newcommand{\\Bold}[1]{\\mathbf{#1}}p\\left(t, x, v\\right) = D[2]\\left(L\\right)\\left(t, x, v\\right)</script></html>"
      ],
      "text/plain": [
       "p(t, x, v) == D[2](L)(t, x, v)"
      ]
     },
     "execution_count": 14,
     "metadata": {},
     "output_type": "execute_result"
    }
   ],
   "source": [
    "peq = solve(Dv(E).expr()==0,p.expr())[0]\n",
    "peq"
   ]
  },
  {
   "cell_type": "markdown",
   "metadata": {},
   "source": [
    "Substitute the value for $p$ in the previous expressions."
   ]
  },
  {
   "cell_type": "code",
   "execution_count": 15,
   "metadata": {
    "collapsed": false
   },
   "outputs": [
    {
     "data": {
      "text/html": [
       "<html><script type=\"math/tex; mode=display\">\\newcommand{\\Bold}[1]{\\mathbf{#1}}v D[1, 2]\\left(L\\right)\\left(t, x, v\\right) + a D[2, 2]\\left(L\\right)\\left(t, x, v\\right) + D[0, 2]\\left(L\\right)\\left(t, x, v\\right) - D[1]\\left(L\\right)\\left(t, x, v\\right)</script></html>"
      ],
      "text/plain": [
       "v*D[1, 2](L)(t, x, v) + a*D[2, 2](L)(t, x, v) + D[0, 2](L)(t, x, v) - D[1](L)(t, x, v)"
      ]
     },
     "execution_count": 15,
     "metadata": {},
     "output_type": "execute_result"
    }
   ],
   "source": [
    "Dx(E).expr().substitute_function(peq.lhs().operator(), peq.rhs().function(*list(coord)))"
   ]
  },
  {
   "cell_type": "code",
   "execution_count": 16,
   "metadata": {
    "collapsed": false
   },
   "outputs": [
    {
     "data": {
      "text/html": [
       "<html><script type=\"math/tex; mode=display\">\\newcommand{\\Bold}[1]{\\mathbf{#1}}-v^{2} D[1, 2]\\left(L\\right)\\left(t, x, v\\right) - {\\left(a D[2, 2]\\left(L\\right)\\left(t, x, v\\right) + D[0, 2]\\left(L\\right)\\left(t, x, v\\right) - D[1]\\left(L\\right)\\left(t, x, v\\right)\\right)} v</script></html>"
      ],
      "text/plain": [
       "-v^2*D[1, 2](L)(t, x, v) - (a*D[2, 2](L)(t, x, v) + D[0, 2](L)(t, x, v) - D[1](L)(t, x, v))*v"
      ]
     },
     "execution_count": 16,
     "metadata": {},
     "output_type": "execute_result"
    }
   ],
   "source": [
    "Dt(E).expr().substitute_function(peq.lhs().operator(), peq.rhs().function(*list(coord)))"
   ]
  },
  {
   "cell_type": "code",
   "execution_count": 17,
   "metadata": {
    "collapsed": false
   },
   "outputs": [
    {
     "data": {
      "text/html": [
       "<html><script type=\"math/tex; mode=display\">\\newcommand{\\Bold}[1]{\\mathbf{#1}}\\mathrm{True}</script></html>"
      ],
      "text/plain": [
       "True"
      ]
     },
     "execution_count": 17,
     "metadata": {},
     "output_type": "execute_result"
    }
   ],
   "source": [
    "-v*Out[15] == Out[16]"
   ]
  },
  {
   "cell_type": "code",
   "execution_count": null,
   "metadata": {
    "collapsed": true
   },
   "outputs": [],
   "source": []
  }
 ],
 "metadata": {
  "kernelspec": {
   "display_name": "SageMath 7.2",
   "language": "",
   "name": "sagemath"
  },
  "language_info": {
   "codemirror_mode": {
    "name": "ipython",
    "version": 2
   },
   "file_extension": ".py",
   "mimetype": "text/x-python",
   "name": "python",
   "nbconvert_exporter": "python",
   "pygments_lexer": "ipython2",
   "version": "2.7.10"
  }
 },
 "nbformat": 4,
 "nbformat_minor": 0
}
