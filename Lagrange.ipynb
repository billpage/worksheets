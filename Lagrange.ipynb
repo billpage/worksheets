{
 "cells": [
  {
   "cell_type": "markdown",
   "metadata": {},
   "source": [
    "# Bohmian Trajectories in 1-D for the Time-Independent Schrodinger Equation #\n",
    "\n",
    "Schiff-Poirier, eqs. (1-4)"
   ]
  },
  {
   "cell_type": "code",
   "execution_count": 1,
   "metadata": {
    "collapsed": true
   },
   "outputs": [],
   "source": [
    "%display typeset"
   ]
  },
  {
   "cell_type": "markdown",
   "metadata": {},
   "source": [
    "Notation"
   ]
  },
  {
   "cell_type": "code",
   "execution_count": 2,
   "metadata": {
    "collapsed": false
   },
   "outputs": [
    {
     "data": {
      "text/html": [
       "<html><script type=\"math/tex; mode=display\">\\newcommand{\\Bold}[1]{\\mathbf{#1}}{\\hbar}</script></html>"
      ],
      "text/plain": [
       "hbar"
      ]
     },
     "execution_count": 2,
     "metadata": {},
     "output_type": "execute_result"
    }
   ],
   "source": [
    "hbar = var('hbar',latex_name='\\hbar')\n",
    "hbar"
   ]
  },
  {
   "cell_type": "code",
   "execution_count": 3,
   "metadata": {
    "collapsed": false
   },
   "outputs": [
    {
     "data": {
      "text/html": [
       "<html><script type=\"math/tex; mode=display\">\\newcommand{\\Bold}[1]{\\mathbf{#1}}m</script></html>"
      ],
      "text/plain": [
       "m"
      ]
     },
     "execution_count": 3,
     "metadata": {},
     "output_type": "execute_result"
    }
   ],
   "source": [
    "m = var('m')\n",
    "m"
   ]
  },
  {
   "cell_type": "code",
   "execution_count": 4,
   "metadata": {
    "collapsed": false
   },
   "outputs": [
    {
     "data": {
      "text/html": [
       "<html><script type=\"math/tex; mode=display\">\\newcommand{\\Bold}[1]{\\mathbf{#1}}x\\left(t\\right)</script></html>"
      ],
      "text/plain": [
       "x(t)"
      ]
     },
     "execution_count": 4,
     "metadata": {},
     "output_type": "execute_result"
    }
   ],
   "source": [
    "t = var('t')\n",
    "x = function('x')\n",
    "x0t = var('x0t',latex_name='x')\n",
    "x(t)"
   ]
  },
  {
   "cell_type": "code",
   "execution_count": 5,
   "metadata": {
    "collapsed": false
   },
   "outputs": [
    {
     "data": {
      "text/html": [
       "<html><script type=\"math/tex; mode=display\">\\newcommand{\\Bold}[1]{\\mathbf{#1}}V\\left({x}\\right)</script></html>"
      ],
      "text/plain": [
       "V(x0t)"
      ]
     },
     "execution_count": 5,
     "metadata": {},
     "output_type": "execute_result"
    }
   ],
   "source": [
    "V = function('V')\n",
    "V(x0t)"
   ]
  },
  {
   "cell_type": "markdown",
   "metadata": {
    "collapsed": false
   },
   "source": [
    "Derivatives"
   ]
  },
  {
   "cell_type": "code",
   "execution_count": 6,
   "metadata": {
    "collapsed": false
   },
   "outputs": [
    {
     "data": {
      "text/html": [
       "<html><script type=\"math/tex; mode=display\">\\newcommand{\\Bold}[1]{\\mathbf{#1}}\\left\\{{x^{(4)}} : D[0, 0, 0, 0]\\left(x\\right)\\left(t\\right), {x^{(6)}} : D[0, 0, 0, 0, 0, 0]\\left(x\\right)\\left(t\\right), {x} : x\\left(t\\right), {\\ddot{x}} : D[0, 0]\\left(x\\right)\\left(t\\right), {\\dddot{x}} : D[0, 0, 0]\\left(x\\right)\\left(t\\right), {x^{(5)}} : D[0, 0, 0, 0, 0]\\left(x\\right)\\left(t\\right), {\\dot{x}} : D[0]\\left(x\\right)\\left(t\\right)\\right\\}</script></html>"
      ],
      "text/plain": [
       "{x4t: D[0, 0, 0, 0](x)(t),\n",
       " x6t: D[0, 0, 0, 0, 0, 0](x)(t),\n",
       " x0t: x(t),\n",
       " x2t: D[0, 0](x)(t),\n",
       " x3t: D[0, 0, 0](x)(t),\n",
       " x5t: D[0, 0, 0, 0, 0](x)(t),\n",
       " x1t: D[0](x)(t)}"
      ]
     },
     "execution_count": 6,
     "metadata": {},
     "output_type": "execute_result"
    }
   ],
   "source": [
    "x1t = var('x1t',latex_name='\\dot{x}')\n",
    "x2t = var('x2t',latex_name='\\ddot{x}')\n",
    "x3t = var('x3t',latex_name='\\dddot{x}')\n",
    "x4t = var('x4t',latex_name='x^{(4)}')\n",
    "x5t = var('x5t',latex_name='x^{(5)}')\n",
    "x6t = var('x6t',latex_name='x^{(6)}')\n",
    "xt = {x0t:x(t),x1t:diff(x(t),t),x2t:diff(x(t),[t,t]),\n",
    "      x3t:diff(x(t),[t,t,t]),x4t:diff(x(t),t,4),\n",
    "      x5t:diff(x(t),t,5),x6t:diff(x(t),t,6)}\n",
    "tx = dict([v,k] for k,v in xt.items())\n",
    "xt"
   ]
  },
  {
   "cell_type": "markdown",
   "metadata": {},
   "source": [
    "Variables"
   ]
  },
  {
   "cell_type": "code",
   "execution_count": 7,
   "metadata": {
    "collapsed": false
   },
   "outputs": [
    {
     "data": {
      "text/html": [
       "<html><script type=\"math/tex; mode=display\">\\newcommand{\\Bold}[1]{\\mathbf{#1}}\\left[{x}, {\\dot{x}}, {\\ddot{x}}, {\\dddot{x}}\\right]</script></html>"
      ],
      "text/plain": [
       "[x0t, x1t, x2t, x3t]"
      ]
     },
     "execution_count": 7,
     "metadata": {},
     "output_type": "execute_result"
    }
   ],
   "source": [
    "X = [x0t,x1t,x2t,x3t]; X"
   ]
  },
  {
   "cell_type": "markdown",
   "metadata": {},
   "source": [
    "Quantum Potential"
   ]
  },
  {
   "cell_type": "code",
   "execution_count": 8,
   "metadata": {
    "collapsed": false
   },
   "outputs": [
    {
     "data": {
      "text/html": [
       "<html><script type=\"math/tex; mode=display\">\\newcommand{\\Bold}[1]{\\mathbf{#1}}-\\frac{{\\hbar}^{2} {\\left(\\frac{5 \\, {\\ddot{x}}^{2}}{{\\dot{x}}^{4}} - \\frac{2 \\, {\\dddot{x}}}{{\\dot{x}}^{3}}\\right)}}{8 \\, m}</script></html>"
      ],
      "text/plain": [
       "-1/8*hbar^2*(5*x2t^2/x1t^4 - 2*x3t/x1t^3)/m"
      ]
     },
     "execution_count": 8,
     "metadata": {},
     "output_type": "execute_result"
    }
   ],
   "source": [
    "def QI(x0t,x1t,x2t,x3t):\n",
    "    return hbar^2/4/m * (x3t/x1t^3 - 5/2 * x2t^2/x1t^4)\n",
    "QI(*X)"
   ]
  },
  {
   "cell_type": "markdown",
   "metadata": {},
   "source": [
    "Lagrangian"
   ]
  },
  {
   "cell_type": "code",
   "execution_count": 9,
   "metadata": {
    "collapsed": false
   },
   "outputs": [
    {
     "data": {
      "text/html": [
       "<html><script type=\"math/tex; mode=display\">\\newcommand{\\Bold}[1]{\\mathbf{#1}}L\\left({x}, {\\dot{x}}, {\\ddot{x}}, {\\dddot{x}}\\right)</script></html>"
      ],
      "text/plain": [
       "L(x0t, x1t, x2t, x3t)"
      ]
     },
     "execution_count": 9,
     "metadata": {},
     "output_type": "execute_result"
    }
   ],
   "source": [
    "function('L')(*X)"
   ]
  },
  {
   "cell_type": "code",
   "execution_count": 10,
   "metadata": {
    "collapsed": false
   },
   "outputs": [
    {
     "data": {
      "text/html": [
       "<html><script type=\"math/tex; mode=display\">\\newcommand{\\Bold}[1]{\\mathbf{#1}}\\frac{1}{2} \\, m {\\dot{x}}^{2} + \\frac{{\\hbar}^{2} {\\left(\\frac{5 \\, {\\ddot{x}}^{2}}{{\\dot{x}}^{4}} - \\frac{2 \\, {\\dddot{x}}}{{\\dot{x}}^{3}}\\right)}}{8 \\, m} - V\\left({x}\\right)</script></html>"
      ],
      "text/plain": [
       "1/2*m*x1t^2 + 1/8*hbar^2*(5*x2t^2/x1t^4 - 2*x3t/x1t^3)/m - V(x0t)"
      ]
     },
     "execution_count": 10,
     "metadata": {},
     "output_type": "execute_result"
    }
   ],
   "source": [
    "def LI(x0t,x1t,x2t,x3t):\n",
    "    return 1/2 * m*x1t^2 - QI(x0t,x1t,x2t,x3t)  - V(x0t)\n",
    "LI(*X)"
   ]
  },
  {
   "cell_type": "markdown",
   "metadata": {},
   "source": [
    "The Lagrangian is singular in the sense of Ostrogradsky."
   ]
  },
  {
   "cell_type": "code",
   "execution_count": 11,
   "metadata": {
    "collapsed": false
   },
   "outputs": [
    {
     "data": {
      "text/html": [
       "<html><script type=\"math/tex; mode=display\">\\newcommand{\\Bold}[1]{\\mathbf{#1}}0</script></html>"
      ],
      "text/plain": [
       "0"
      ]
     },
     "execution_count": 11,
     "metadata": {},
     "output_type": "execute_result"
    }
   ],
   "source": [
    "diff(LI(*X),[x3t,x3t])"
   ]
  },
  {
   "cell_type": "markdown",
   "metadata": {},
   "source": [
    "## Higher-order Euler-Lagrange Equation for a function of one variable ##\n",
    "\n",
    "$$\n",
    "{\\cfrac {\\partial {\\mathcal {L}}}{\\partial f}}-{\\cfrac {\\mathrm {d} }{\\mathrm {d} x}}\\left({\\cfrac {\\partial {\\mathcal {L}}}{\\partial f'}}\\right)+{\\cfrac {\\mathrm {d} ^{2}}{\\mathrm {d} x^{2}}}\\left({\\cfrac {\\partial {\\mathcal {L}}}{\\partial f''}}\\right)-\\dots +(-1)^{n}{\\cfrac {\\mathrm {d} ^{n}}{\\mathrm {d} x^{n}}}\\left({\\cfrac {\\partial {\\mathcal {L}}}{\\partial f^{(n)}}}\\right)=0\n",
    "$$\n",
    "where $f=x(t)$, $x=t$, $f'=\\dot{x}$, etc.\n",
    "$$\n",
    "\\frac{\\partial \\mathcal{L}}{\\partial x} - \\frac{\\partial}{\\partial t} \\left(\\frac{\\mathcal{L}}{\\dot{x}}\\right) + \\frac{\\partial^2}{\\partial t^2}\\left(\\frac{\\mathcal{L}}{\\ddot{x}}\\right) - ... + (-1)^n \\frac{\\partial^n}{\\partial t^n}\\left(\\frac{\\mathcal{L}}{x^{(n)}}\\right) = 0\n",
    "$$"
   ]
  },
  {
   "cell_type": "code",
   "execution_count": 12,
   "metadata": {
    "collapsed": false
   },
   "outputs": [
    {
     "data": {
      "text/html": [
       "<html><script type=\"math/tex; mode=display\">\\newcommand{\\Bold}[1]{\\mathbf{#1}}-m {\\ddot{x}} - \\frac{5 \\, {\\hbar}^{2} {\\ddot{x}}^{3}}{2 \\, m {\\dot{x}}^{6}} + \\frac{2 \\, {\\hbar}^{2} {\\ddot{x}} {\\dddot{x}}}{m {\\dot{x}}^{5}} - \\frac{{\\hbar}^{2} {x^{(4)}}}{4 \\, m {\\dot{x}}^{4}} - D[0]\\left(V\\right)\\left({x}\\right)</script></html>"
      ],
      "text/plain": [
       "-m*x2t - 5/2*hbar^2*x2t^3/(m*x1t^6) + 2*hbar^2*x2t*x3t/(m*x1t^5) - 1/4*hbar^2*x4t/(m*x1t^4) - D[0](V)(x0t)"
      ]
     },
     "execution_count": 12,
     "metadata": {},
     "output_type": "execute_result"
    }
   ],
   "source": [
    "def EL(L):\n",
    "    return (diff(LI(*X),X[0]) -\n",
    "            diff(diff(LI(*X),X[1]).subs(xt),t) +\n",
    "            diff(diff(LI(*X),X[2]).subs(xt),t,2) -\n",
    "            diff(diff(LI(*X),X[3]).subs(xt),t,3))\n",
    "EL(LI).subs(tx).expand()"
   ]
  },
  {
   "cell_type": "code",
   "execution_count": 13,
   "metadata": {
    "collapsed": false
   },
   "outputs": [
    {
     "data": {
      "text/html": [
       "<html><script type=\"math/tex; mode=display\">\\newcommand{\\Bold}[1]{\\mathbf{#1}}D[0]\\left(V\\right)\\left({x}\\right)</script></html>"
      ],
      "text/plain": [
       "D[0](V)(x0t)"
      ]
     },
     "execution_count": 13,
     "metadata": {},
     "output_type": "execute_result"
    }
   ],
   "source": [
    "diff(V(x0t),x0t)"
   ]
  },
  {
   "cell_type": "markdown",
   "metadata": {},
   "source": [
    "## Ostrogradsky momenta ##"
   ]
  },
  {
   "cell_type": "code",
   "execution_count": 14,
   "metadata": {
    "collapsed": true
   },
   "outputs": [],
   "source": [
    "P = list(range(4))\n",
    "P[1] = (diff(LI(*X),X[1]) - diff(diff(LI(*X),X[2]).subs(xt),t) +\n",
    "        diff(diff(LI(*X),X[3]).subs(xt),t,2))\n",
    "P[2] = diff(LI(*X),X[2]) - diff(diff(LI(*X),X[3]).subs(xt),t)\n",
    "P[3] = diff(LI(*X),X[3])"
   ]
  },
  {
   "cell_type": "code",
   "execution_count": 15,
   "metadata": {
    "collapsed": false
   },
   "outputs": [
    {
     "data": {
      "text/html": [
       "<html><script type=\"math/tex; mode=display\">\\newcommand{\\Bold}[1]{\\mathbf{#1}}m {\\dot{x}} - \\frac{{\\hbar}^{2} {\\ddot{x}}^{2}}{2 \\, m {\\dot{x}}^{5}} + \\frac{{\\hbar}^{2} {\\dddot{x}}}{4 \\, m {\\dot{x}}^{4}}</script></html>"
      ],
      "text/plain": [
       "m*x1t - 1/2*hbar^2*x2t^2/(m*x1t^5) + 1/4*hbar^2*x3t/(m*x1t^4)"
      ]
     },
     "execution_count": 15,
     "metadata": {},
     "output_type": "execute_result"
    }
   ],
   "source": [
    "P[1].subs(tx).expand()"
   ]
  },
  {
   "cell_type": "code",
   "execution_count": 16,
   "metadata": {
    "collapsed": false
   },
   "outputs": [
    {
     "data": {
      "text/html": [
       "<html><script type=\"math/tex; mode=display\">\\newcommand{\\Bold}[1]{\\mathbf{#1}}\\frac{{\\hbar}^{2} {\\ddot{x}}}{2 \\, m {\\dot{x}}^{4}}</script></html>"
      ],
      "text/plain": [
       "1/2*hbar^2*x2t/(m*x1t^4)"
      ]
     },
     "execution_count": 16,
     "metadata": {},
     "output_type": "execute_result"
    }
   ],
   "source": [
    "P[2].subs(tx).expand()"
   ]
  },
  {
   "cell_type": "code",
   "execution_count": 17,
   "metadata": {
    "collapsed": false
   },
   "outputs": [
    {
     "data": {
      "text/html": [
       "<html><script type=\"math/tex; mode=display\">\\newcommand{\\Bold}[1]{\\mathbf{#1}}-\\frac{{\\hbar}^{2}}{4 \\, m {\\dot{x}}^{3}}</script></html>"
      ],
      "text/plain": [
       "-1/4*hbar^2/(m*x1t^3)"
      ]
     },
     "execution_count": 17,
     "metadata": {},
     "output_type": "execute_result"
    }
   ],
   "source": [
    "P[3].subs(tx).expand()"
   ]
  },
  {
   "cell_type": "code",
   "execution_count": 18,
   "metadata": {
    "collapsed": false
   },
   "outputs": [
    {
     "data": {
      "text/html": [
       "<html><script type=\"math/tex; mode=display\">\\newcommand{\\Bold}[1]{\\mathbf{#1}}\\frac{1}{2} \\, m {\\dot{x}}^{2} - \\frac{5 \\, {\\hbar}^{2} {\\ddot{x}}^{2}}{8 \\, m {\\dot{x}}^{4}} + \\frac{{\\hbar}^{2} {\\dddot{x}}}{4 \\, m {\\dot{x}}^{3}} + V\\left({x}\\right)</script></html>"
      ],
      "text/plain": [
       "1/2*m*x1t^2 - 5/8*hbar^2*x2t^2/(m*x1t^4) + 1/4*hbar^2*x3t/(m*x1t^3) + V(x0t)"
      ]
     },
     "execution_count": 18,
     "metadata": {},
     "output_type": "execute_result"
    }
   ],
   "source": [
    "H = P[1] * X[1] + P[2] * X[2] + P[3] * X[3] - LI(*X)\n",
    "H.subs(tx).expand()"
   ]
  },
  {
   "cell_type": "code",
   "execution_count": 19,
   "metadata": {
    "collapsed": false
   },
   "outputs": [
    {
     "data": {
      "text/html": [
       "<html><script type=\"math/tex; mode=display\">\\newcommand{\\Bold}[1]{\\mathbf{#1}}\\mathrm{True}</script></html>"
      ],
      "text/plain": [
       "True"
      ]
     },
     "execution_count": 19,
     "metadata": {},
     "output_type": "execute_result"
    }
   ],
   "source": [
    "bool( H.subs(tx).expand() == 1/2*m*x1t^2+V(x0t)+QI(*X) )"
   ]
  },
  {
   "cell_type": "markdown",
   "metadata": {},
   "source": [
    "Schiff-Poirier eqs. (5-8)"
   ]
  },
  {
   "cell_type": "code",
   "execution_count": 20,
   "metadata": {
    "collapsed": false
   },
   "outputs": [
    {
     "data": {
      "text/html": [
       "<html><script type=\"math/tex; mode=display\">\\newcommand{\\Bold}[1]{\\mathbf{#1}}\\frac{1}{2} \\, m {\\dot{x}}^{2} - \\frac{5 \\, {\\hbar}^{2} {\\ddot{x}}^{2}}{8 \\, m {\\dot{x}}^{4}} + \\frac{{\\hbar}^{2} {\\dddot{x}}}{4 \\, m {\\dot{x}}^{3}} + V\\left({x}\\right)</script></html>"
      ],
      "text/plain": [
       "1/2*m*x1t^2 - 5/8*hbar^2*x2t^2/(m*x1t^4) + 1/4*hbar^2*x3t/(m*x1t^3) + V(x0t)"
      ]
     },
     "execution_count": 20,
     "metadata": {},
     "output_type": "execute_result"
    }
   ],
   "source": [
    "p,r,s = var('p,r,s')\n",
    "(s*(2*p-s)/2/m+V(X[0])-2*r^2*s^4/m/hbar^2).subs({\n",
    "        s:m*X[1], r:hbar^2*X[2]/4/m^2/X[1]^4,\n",
    "        p:m*X[1]+hbar^2/4/m*(X[3]/X[1]^4-2*X[2]^2/X[1]^5)}\n",
    ").expand()"
   ]
  },
  {
   "cell_type": "markdown",
   "metadata": {},
   "source": [
    "# Bohmian Trajectories in 1-D for the Time-Dependent Schrodinger Equation #\n",
    "Schiff-Poirier eqs. (10,11)."
   ]
  },
  {
   "cell_type": "markdown",
   "metadata": {},
   "source": [
    "Notation"
   ]
  },
  {
   "cell_type": "code",
   "execution_count": 21,
   "metadata": {
    "collapsed": true
   },
   "outputs": [],
   "source": [
    "C=var('C')"
   ]
  },
  {
   "cell_type": "markdown",
   "metadata": {},
   "source": [
    "Derivatives"
   ]
  },
  {
   "cell_type": "code",
   "execution_count": 22,
   "metadata": {
    "collapsed": false
   },
   "outputs": [
    {
     "data": {
      "text/html": [
       "<html><script type=\"math/tex; mode=display\">\\newcommand{\\Bold}[1]{\\mathbf{#1}}\\left\\{{x''''} : D[1, 1, 1, 1]\\left(x\\right)\\left(t, C\\right), {x} : x\\left(t, C\\right), {\\ddot{x}} : D[0, 0]\\left(x\\right)\\left(t, C\\right), {x'''} : D[1, 1, 1]\\left(x\\right)\\left(t, C\\right), {x''} : D[1, 1]\\left(x\\right)\\left(t, C\\right), {x'} : D[1]\\left(x\\right)\\left(t, C\\right), {\\dot{x}} : D[0]\\left(x\\right)\\left(t, C\\right)\\right\\}</script></html>"
      ],
      "text/plain": [
       "{x4t: D[1, 1, 1, 1](x)(t, C),\n",
       " x0t: x(t, C),\n",
       " x2t: D[0, 0](x)(t, C),\n",
       " x3t: D[1, 1, 1](x)(t, C),\n",
       " x2c: D[1, 1](x)(t, C),\n",
       " x1c: D[1](x)(t, C),\n",
       " x1t: D[0](x)(t, C)}"
      ]
     },
     "execution_count": 22,
     "metadata": {},
     "output_type": "execute_result"
    }
   ],
   "source": [
    "x1c = var('x1c',latex_name=\"x'\")\n",
    "x2c = var('x2c',latex_name=\"x''\")\n",
    "x3c = var('x3t',latex_name=\"x'''\")\n",
    "x4c = var('x4t',latex_name=\"x''''\")\n",
    "xc = {x0t:x(t,C),x1t:diff(x(t,C),t),x2t:diff(x(t,C),[t,t]),x1c:diff(x(t,C),C),\n",
    "      x2c:diff(x(t,C),C,2),x3c:diff(x(t,C),C,3),x4c:diff(x(t,C),C,4)}\n",
    "cx = dict([v,k] for k,v in xc.items())\n",
    "xc"
   ]
  },
  {
   "cell_type": "markdown",
   "metadata": {},
   "source": [
    "Variables"
   ]
  },
  {
   "cell_type": "code",
   "execution_count": 23,
   "metadata": {
    "collapsed": false
   },
   "outputs": [
    {
     "data": {
      "text/html": [
       "<html><script type=\"math/tex; mode=display\">\\newcommand{\\Bold}[1]{\\mathbf{#1}}\\left[{x}, {\\dot{x}}, {x'}, {x''}, {x'''}\\right]</script></html>"
      ],
      "text/plain": [
       "[x0t, x1t, x1c, x2c, x3t]"
      ]
     },
     "execution_count": 23,
     "metadata": {},
     "output_type": "execute_result"
    }
   ],
   "source": [
    "XC = [x0t,x1t,x1c,x2c,x3c];XC"
   ]
  },
  {
   "cell_type": "markdown",
   "metadata": {},
   "source": [
    "Quantum Potential"
   ]
  },
  {
   "cell_type": "code",
   "execution_count": 24,
   "metadata": {
    "collapsed": false
   },
   "outputs": [
    {
     "data": {
      "text/html": [
       "<html><script type=\"math/tex; mode=display\">\\newcommand{\\Bold}[1]{\\mathbf{#1}}-\\frac{{\\hbar}^{2} {\\left(\\frac{5 \\, {x''}^{2}}{{x'}^{4}} - \\frac{2 \\, {x'''}}{{x'}^{3}}\\right)}}{8 \\, m}</script></html>"
      ],
      "text/plain": [
       "-1/8*hbar^2*(5*x2c^2/x1c^4 - 2*x3t/x1c^3)/m"
      ]
     },
     "execution_count": 24,
     "metadata": {},
     "output_type": "execute_result"
    }
   ],
   "source": [
    "def QC(x0t,x1t,x1c,x2c,x3c):\n",
    "    return hbar^2/4/m * (x3c/x1c^3 - 5/2 * x2c^2/x1c^4)\n",
    "QC(*XC)"
   ]
  },
  {
   "cell_type": "markdown",
   "metadata": {},
   "source": [
    "Lagrangian"
   ]
  },
  {
   "cell_type": "code",
   "execution_count": 25,
   "metadata": {
    "collapsed": false
   },
   "outputs": [
    {
     "data": {
      "text/html": [
       "<html><script type=\"math/tex; mode=display\">\\newcommand{\\Bold}[1]{\\mathbf{#1}}L\\left({x}, {\\dot{x}}, {x'}, {x''}, {x'''}\\right)</script></html>"
      ],
      "text/plain": [
       "L(x0t, x1t, x1c, x2c, x3t)"
      ]
     },
     "execution_count": 25,
     "metadata": {},
     "output_type": "execute_result"
    }
   ],
   "source": [
    "function('L')(*XC)"
   ]
  },
  {
   "cell_type": "code",
   "execution_count": 26,
   "metadata": {
    "collapsed": false
   },
   "outputs": [
    {
     "data": {
      "text/html": [
       "<html><script type=\"math/tex; mode=display\">\\newcommand{\\Bold}[1]{\\mathbf{#1}}\\frac{1}{2} \\, m {\\dot{x}}^{2} + \\frac{{\\hbar}^{2} {\\left(\\frac{5 \\, {x''}^{2}}{{x'}^{4}} - \\frac{2 \\, {x'''}}{{x'}^{3}}\\right)}}{8 \\, m} - V\\left({x}\\right)</script></html>"
      ],
      "text/plain": [
       "1/2*m*x1t^2 + 1/8*hbar^2*(5*x2c^2/x1c^4 - 2*x3t/x1c^3)/m - V(x0t)"
      ]
     },
     "execution_count": 26,
     "metadata": {},
     "output_type": "execute_result"
    }
   ],
   "source": [
    "def LC(x0t,x1t,x1c,x2c,x3c):\n",
    "    return 1/2 * m*x1t^2 - QC(x0t,x1t,x1c,x2c,x3c)  - V(x0t)\n",
    "LC(*XC)"
   ]
  },
  {
   "cell_type": "markdown",
   "metadata": {},
   "source": [
    "## Euler-Lagrange equation for a single function of two variables with higher-order derivatives ##\n",
    "\n",
    "$$\n",
    "{\\begin{aligned}{\\frac {\\partial {\\mathcal {L}}}{\\partial f}}&-{\\frac {\\partial }{\\partial x_{1}}}\\left({\\frac {\\partial {\\mathcal {L}}}{\\partial f_{,1}}}\\right)-{\\frac {\\partial }{\\partial x_{2}}}\\left({\\frac {\\partial {\\mathcal {L}}}{\\partial f_{,2}}}\\right)+{\\frac {\\partial ^{2}}{\\partial x_{1}^{2}}}\\left({\\frac {\\partial {\\mathcal {L}}}{\\partial f_{,11}}}\\right)+{\\frac {\\partial ^{2}}{\\partial x_{1}\\partial x_{2}}}\\left({\\frac {\\partial {\\mathcal {L}}}{\\partial f_{,12}}}\\right)+{\\frac {\\partial ^{2}}{\\partial x_{2}^{2}}}\\left({\\frac {\\partial {\\mathcal {L}}}{\\partial f_{,22}}}\\right)\\\\&-\\dots +(-1)^{n}{\\frac {\\partial ^{n}}{\\partial x_{2}^{n}}}\\left({\\frac {\\partial {\\mathcal {L}}}{\\partial f_{,22\\dots 2}}}\\right)=0\\end{aligned}}\n",
    "$$\n",
    "where $f=x(t,C)$, $x_1=t$, $x_2=C$, $f_{,1}=\\dot{x}$,$f_{,2}=x'$, etc.\n",
    "\n",
    "In our case this is:\n",
    "$$\n",
    "\\frac{\\partial \\mathcal{L}}{x} - \\frac{\\partial}{\\partial t}\\left(\\frac{\\mathcal{L}}{\\dot{x}}\\right)  - \\frac{\\partial}{\\partial C}\\left(\\frac{\\mathcal{L}}{x'}\\right)  + \\frac{\\partial^2}{\\partial C^2}\\left(\\frac{\\mathcal{L}}{x''}\\right) - \\frac{\\partial^3}{\\partial C^3}\\left(\\frac{\\mathcal{L}}{x'''}\\right)\n",
    "$$"
   ]
  },
  {
   "cell_type": "code",
   "execution_count": 27,
   "metadata": {
    "collapsed": false
   },
   "outputs": [
    {
     "data": {
      "text/html": [
       "<html><script type=\"math/tex; mode=display\">\\newcommand{\\Bold}[1]{\\mathbf{#1}}-m {\\ddot{x}} - \\frac{5 \\, {\\hbar}^{2} {x''}^{3}}{2 \\, m {x'}^{6}} + \\frac{2 \\, {\\hbar}^{2} {x''} {x'''}}{m {x'}^{5}} - \\frac{{\\hbar}^{2} {x''''}}{4 \\, m {x'}^{4}} - D[0]\\left(V\\right)\\left({x}\\right)</script></html>"
      ],
      "text/plain": [
       "-m*x2t - 5/2*hbar^2*x2c^3/(m*x1c^6) + 2*hbar^2*x2c*x3t/(m*x1c^5) - 1/4*hbar^2*x4t/(m*x1c^4) - D[0](V)(x0t)"
      ]
     },
     "execution_count": 27,
     "metadata": {},
     "output_type": "execute_result"
    }
   ],
   "source": [
    "def ELC(LC):\n",
    "    return (diff(LC(*XC),XC[0]) - \n",
    "            diff(diff(LC(*XC),XC[1]).subs(xc),t) -\n",
    "            diff(diff(LC(*XC),XC[2]).subs(xc),C) +\n",
    "            diff(diff(LC(*XC),XC[3]).subs(xc),C,2) -\n",
    "            diff(diff(LC(*XC),XC[4]).subs(xc),C,3))\n",
    "ELC(LC).subs(cx).expand()"
   ]
  },
  {
   "cell_type": "code",
   "execution_count": null,
   "metadata": {
    "collapsed": true
   },
   "outputs": [],
   "source": []
  }
 ],
 "metadata": {
  "kernelspec": {
   "display_name": "SageMath 7.2",
   "language": "",
   "name": "sagemath"
  },
  "language_info": {
   "codemirror_mode": {
    "name": "ipython",
    "version": 2
   },
   "file_extension": ".py",
   "mimetype": "text/x-python",
   "name": "python",
   "nbconvert_exporter": "python",
   "pygments_lexer": "ipython2",
   "version": "2.7.10"
  }
 },
 "nbformat": 4,
 "nbformat_minor": 0
}
