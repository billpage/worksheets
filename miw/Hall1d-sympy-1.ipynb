{
 "cells": [
  {
   "cell_type": "code",
   "execution_count": 1,
   "metadata": {
    "collapsed": false
   },
   "outputs": [
    {
     "name": "stdout",
     "output_type": "stream",
     "text": [
      "env: MKL_THREADING_LAYER=GNU\n",
      "env: THEANO_FLAGS=device=cpu,floatX=float64\n"
     ]
    }
   ],
   "source": [
    "%env MKL_THREADING_LAYER=GNU\n",
    "%env THEANO_FLAGS=device=cpu,floatX=float64\n",
    "# optimizer=fast_run,NanGuardMode.action=warn\n",
    "# use device=cuda for gpu support"
   ]
  },
  {
   "cell_type": "code",
   "execution_count": 2,
   "metadata": {
    "collapsed": false
   },
   "outputs": [
   ],
   "source": [
    "import sys\n",
    "from __future__ import division\n",
    "add = __builtin__.sum"
   ]
  },
  {
   "cell_type": "code",
   "execution_count": 3,
   "metadata": {
    "collapsed": false
   },
   "outputs": [
   ],
   "source": [
    "from theano import clone, function, pp, shared\n",
    "from theano.tensor import (concatenate, config, cosh, dot, erfinv, eq, grad, min,\n",
    "                           scalar, scalars, shape_padright, sum, switch,\n",
    "                           tensor3, tensor5, TensorType, tile, vector)\n",
    "from theano.printing import debugprint, pydotprint\n",
    "#from theano.tensor.shared_randomstreams import RandomStreams\n",
    "# used later\n",
    "from theano.tensor import roll, stack"
   ]
  },
  {
   "cell_type": "code",
   "execution_count": 4,
   "metadata": {
    "collapsed": false
   },
   "outputs": [
   ],
   "source": [
    "from numpy import (array, arange, asarray, exp, full, Inf, linspace,\n",
    "                   mean, meshgrid, pi, roll)\n",
    "# used later\n",
    "#from numpy import roll, stack"
   ]
  },
  {
   "cell_type": "code",
   "execution_count": 5,
   "metadata": {
    "collapsed": false
   },
   "outputs": [
   ],
   "source": [
    "from sympy import (Abs, Eq, exp as Exp, I, init_printing, integrate,\n",
    "                   oo, pi as Pi, solve, symbols, Symbol)\n",
    "#from sympy.printing.theanocode\n",
    "# added erfinv\n",
    "from theanocode import theano_code, theano_function\n",
    "#from pymatrix import matrix, Matrix"
   ]
  },
  {
   "cell_type": "code",
   "execution_count": 6,
   "metadata": {
    "collapsed": false
   },
   "outputs": [
   ],
   "source": [
    "init_printing(use_latex='mathjax')"
   ]
  },
  {
   "cell_type": "code",
   "execution_count": 7,
   "metadata": {
    "collapsed": false
   },
   "outputs": [
   ],
   "source": [
    "from IPython.display import display, HTML, SVG"
   ]
  },
  {
   "cell_type": "code",
   "execution_count": 8,
   "metadata": {
    "collapsed": false
   },
   "outputs": [
   ],
   "source": [
    "%matplotlib inline\n",
    "from matplotlib.pyplot import (axes, close, contour, contourf, figure,\n",
    "                               legend, plot, rcParams, show, title,\n",
    "                               xlabel, ylabel)\n",
    "from matplotlib.cm import * #coolwarm, Spectral, etc.\n",
    "from mpl_toolkits.mplot3d import axes3d\n",
    "from matplotlib import animation"
   ]
  },
  {
   "cell_type": "code",
   "execution_count": 9,
   "metadata": {
    "collapsed": false
   },
   "outputs": [
    {
     "data": {
      "text/plain": [
       "array([ 2.2,  3.2,  2.2,  2.2])"
      ]
     },
     "execution_count": 9,
     "metadata": {
     },
     "output_type": "execute_result"
    }
   ],
   "source": [
    "from sdict import select\n",
    "# E.g. select({3:3.2,2:2.2})[[2,3]] or\n",
    "S=select({3:3.2,2:2.2})\n",
    "S[array([2,3,2,2])]"
   ]
  },
  {
   "cell_type": "code",
   "execution_count": 10,
   "metadata": {
    "collapsed": false
   },
   "outputs": [
    {
     "name": "stdout",
     "output_type": "stream",
     "text": [
      "-2   1\n",
      "\n",
      " 1  -1\n"
     ]
    }
   ],
   "source": [
    "from smatrix import *\n",
    "# E.g.\n",
    "print matrix([[1,2],[3,4]]).inverse()"
   ]
  },
  {
   "cell_type": "code",
   "execution_count": 11,
   "metadata": {
    "collapsed": false
   },
   "outputs": [
   ],
   "source": [
    "# function of specified variables fun(y,...) from expression f\n",
    "# where: fun(x,y)(f)(x,y) = f\n",
    "def fun(*y):\n",
    "    try: # theano?\n",
    "        return lambda f: lambda *x: clone(f, dict([[y[i],x[i]] for i in range(len(y))]),strict=False)\n",
    "    except:\n",
    "        return lambda f: lambda *x: f.subs( dict([[y[i],x[i]] for i in range(len(y))]))"
   ]
  },
  {
   "cell_type": "markdown",
   "metadata": {
    "collapsed": false
   },
   "source": [
    "The multidimensional symbolic array $C$ represents a \"uniformizing\" mapping of worlds into configuration space, i.e. the position of each particle in each world."
   ]
  },
  {
   "cell_type": "code",
   "execution_count": 12,
   "metadata": {
    "collapsed": false
   },
   "outputs": [
   ],
   "source": [
    "dim = range(1) # dimension\n",
    "C = TensorType(config.floatX, (False,)*(1+len(dim)))('C') # shape: d * N**d"
   ]
  },
  {
   "cell_type": "markdown",
   "metadata": {
    "collapsed": false
   },
   "source": [
    "#### Boundary Conditions\n",
    "\n",
    "We introduce fictitious worlds, two worlds deep, at the edges of the array to represent boundary conditions. Boundry worlds can be removed or set to zero."
   ]
  },
  {
   "cell_type": "code",
   "execution_count": 13,
   "metadata": {
    "collapsed": false
   },
   "outputs": [
   ],
   "source": [
    "B=2\n",
    "def boundary0(r):\n",
    "    for i in range(r.ndim):\n",
    "        rs = list(r.shape); rs[i]=1\n",
    "        s = [1]*r.ndim; s[i]=B\n",
    "        before1 = tile(array([0]*B,config.floatX).reshape(*s),rs)\n",
    "        s = [1]*r.ndim; s[i]=B\n",
    "        after1 = tile(array([0]*B,config.floatX).reshape(*s),rs)\n",
    "        r = concatenate([before1,r,after1], axis=i)\n",
    "    return r"
   ]
  },
  {
   "cell_type": "code",
   "execution_count": 14,
   "metadata": {
    "collapsed": false
   },
   "outputs": [
   ],
   "source": [
    "def boundary(s): return stack([boundary0(r) for r in s])"
   ]
  },
  {
   "cell_type": "code",
   "execution_count": 15,
   "metadata": {
    "collapsed": false
   },
   "outputs": [
   ],
   "source": [
    "def debound(r): return r[tuple([slice(B,-B)]*(r.ndim))]"
   ]
  },
  {
   "cell_type": "code",
   "execution_count": 16,
   "metadata": {
    "collapsed": false
   },
   "outputs": [
   ],
   "source": [
    "# uniform grid between 0 and 1 of dimension d and size N\n",
    "def grid(d,N):\n",
    "    return array(meshgrid(*[arange(0.0+0.5/N,1.0,1.0/N,config.floatX)]*d,\n",
    "                              indexing='ij'))"
   ]
  },
  {
   "cell_type": "code",
   "execution_count": 17,
   "metadata": {
    "collapsed": false
   },
   "outputs": [
    {
     "data": {
      "text/plain": [
       "array([[[ 0.25,  0.25],\n",
       "        [ 0.75,  0.75]],\n",
       "\n",
       "       [[ 0.25,  0.75],\n",
       "        [ 0.25,  0.75]]])"
      ]
     },
     "execution_count": 17,
     "metadata": {
     },
     "output_type": "execute_result"
    }
   ],
   "source": [
    "# E.g.\n",
    "grid(2,2)"
   ]
  },
  {
   "cell_type": "code",
   "execution_count": 18,
   "metadata": {
    "collapsed": false
   },
   "outputs": [
    {
     "data": {
      "text/plain": [
       "array([[[ 0.  ,  0.  ,  0.  ,  0.  ,  0.  ,  0.  ],\n",
       "        [ 0.  ,  0.  ,  0.  ,  0.  ,  0.  ,  0.  ],\n",
       "        [ 0.  ,  0.  ,  0.25,  0.25,  0.  ,  0.  ],\n",
       "        [ 0.  ,  0.  ,  0.75,  0.75,  0.  ,  0.  ],\n",
       "        [ 0.  ,  0.  ,  0.  ,  0.  ,  0.  ,  0.  ],\n",
       "        [ 0.  ,  0.  ,  0.  ,  0.  ,  0.  ,  0.  ]],\n",
       "\n",
       "       [[ 0.  ,  0.  ,  0.  ,  0.  ,  0.  ,  0.  ],\n",
       "        [ 0.  ,  0.  ,  0.  ,  0.  ,  0.  ,  0.  ],\n",
       "        [ 0.  ,  0.  ,  0.25,  0.75,  0.  ,  0.  ],\n",
       "        [ 0.  ,  0.  ,  0.25,  0.75,  0.  ,  0.  ],\n",
       "        [ 0.  ,  0.  ,  0.  ,  0.  ,  0.  ,  0.  ],\n",
       "        [ 0.  ,  0.  ,  0.  ,  0.  ,  0.  ,  0.  ]]])"
      ]
     },
     "execution_count": 18,
     "metadata": {
     },
     "output_type": "execute_result"
    }
   ],
   "source": [
    "boundary(grid(2,2)).eval()"
   ]
  },
  {
   "cell_type": "code",
   "execution_count": 19,
   "metadata": {
    "collapsed": false
   },
   "outputs": [
    {
     "data": {
      "text/plain": [
       "array([[[ 0.25,  0.25],\n",
       "        [ 0.75,  0.75]],\n",
       "\n",
       "       [[ 0.25,  0.75],\n",
       "        [ 0.25,  0.75]]])"
      ]
     },
     "execution_count": 19,
     "metadata": {
     },
     "output_type": "execute_result"
    }
   ],
   "source": [
    "array(map(debound,boundary(grid(2,2)).eval()))"
   ]
  },
  {
   "cell_type": "markdown",
   "metadata": {
    "collapsed": false
   },
   "source": [
    "### Difference operator ###"
   ]
  },
  {
   "cell_type": "code",
   "execution_count": 20,
   "metadata": {
    "collapsed": false
   },
   "outputs": [
   ],
   "source": [
    "# In the following use numpy's roll and stack. Later we will use theano for these operations.\n",
    "from numpy import roll, stack"
   ]
  },
  {
   "cell_type": "code",
   "execution_count": 21,
   "metadata": {
    "collapsed": false
   },
   "outputs": [
   ],
   "source": [
    "N=9"
   ]
  },
  {
   "cell_type": "code",
   "execution_count": 22,
   "metadata": {
    "collapsed": false
   },
   "outputs": [
   ],
   "source": [
    "s=array(meshgrid(*[symbols(['x_{%s}'%(str(Symbol(\"i\")+(i-N//2)).replace(' ','')) for i in range(N)]) for j in dim],indexing='ij'))"
   ]
  },
  {
   "cell_type": "code",
   "execution_count": 23,
   "metadata": {
    "collapsed": false,
    "scrolled": true
   },
   "outputs": [
    {
     "data": {
      "text/latex": [
       "$$\\left [ x_{i-4}, \\quad x_{i-3}, \\quad x_{i-2}, \\quad x_{i-1}, \\quad x_{i}, \\quad x_{i+1}, \\quad x_{i+2}, \\quad x_{i+3}, \\quad x_{i+4}\\right ]$$"
      ]
     },
     "execution_count": 23,
     "metadata": {
     },
     "output_type": "execute_result"
    }
   ],
   "source": [
    "list(s[0,:])"
   ]
  },
  {
   "cell_type": "code",
   "execution_count": 24,
   "metadata": {
    "collapsed": false
   },
   "outputs": [
   ],
   "source": [
    "# names for sympy variables\n",
    "[xm4,xm3,xm2,xm1,x_i,x1,x2,x3,x4] = list(s[0,:])"
   ]
  },
  {
   "cell_type": "code",
   "execution_count": 25,
   "metadata": {
    "collapsed": false
   },
   "outputs": [
    {
     "data": {
      "text/latex": [
       "$$x_{i}$$"
      ]
     },
     "execution_count": 25,
     "metadata": {
     },
     "output_type": "execute_result"
    }
   ],
   "source": [
    "x_i # index of i'th world"
   ]
  },
  {
   "cell_type": "markdown",
   "metadata": {
    "collapsed": false
   },
   "source": [
    "The index of the $i^{th}$ world with boundry worlds removed:"
   ]
  },
  {
   "cell_type": "code",
   "execution_count": 26,
   "metadata": {
    "collapsed": false
   },
   "outputs": [
   ],
   "source": [
    "ith = N//2-B"
   ]
  },
  {
   "cell_type": "code",
   "execution_count": 27,
   "metadata": {
    "collapsed": false
   },
   "outputs": [
    {
     "data": {
      "text/latex": [
       "$$x_{i}$$"
      ]
     },
     "execution_count": 27,
     "metadata": {
     },
     "output_type": "execute_result"
    }
   ],
   "source": [
    "debound(s[0])[ith]"
   ]
  },
  {
   "cell_type": "markdown",
   "metadata": {
    "collapsed": false
   },
   "source": [
    "Forward and backward differences"
   ]
  },
  {
   "cell_type": "code",
   "execution_count": 28,
   "metadata": {
    "collapsed": false
   },
   "outputs": [
   ],
   "source": [
    "def d(dir,x,i):\n",
    "    if dir<0:\n",
    "        return roll(x, dir, axis = i) - x\n",
    "    else:\n",
    "        return x - roll(x, dir, axis = i)"
   ]
  },
  {
   "cell_type": "code",
   "execution_count": 29,
   "metadata": {
    "collapsed": false
   },
   "outputs": [
    {
     "data": {
      "text/latex": [
       "$$\\left [ x_{i-2} - x_{i-3}, \\quad x_{i-1} - x_{i-2}, \\quad - x_{i-1} + x_{i}, \\quad x_{i+1} - x_{i}, \\quad - x_{i+1} + x_{i+2}\\right ]$$"
      ]
     },
     "execution_count": 29,
     "metadata": {
     },
     "output_type": "execute_result"
    }
   ],
   "source": [
    "list(debound(d(+1,s[0],0)))"
   ]
  },
  {
   "cell_type": "code",
   "execution_count": 30,
   "metadata": {
    "collapsed": false
   },
   "outputs": [
    {
     "data": {
      "text/latex": [
       "$$\\left [ x_{i-1} - x_{i-2}, \\quad - x_{i-1} + x_{i}, \\quad x_{i+1} - x_{i}, \\quad - x_{i+1} + x_{i+2}, \\quad - x_{i+2} + x_{i+3}\\right ]$$"
      ]
     },
     "execution_count": 30,
     "metadata": {
     },
     "output_type": "execute_result"
    }
   ],
   "source": [
    "list(debound(d(-1,s[0],0)))"
   ]
  },
  {
   "cell_type": "markdown",
   "metadata": {
    "collapsed": false
   },
   "source": [
    "Jacobian"
   ]
  },
  {
   "cell_type": "code",
   "execution_count": 31,
   "metadata": {
    "collapsed": false
   },
   "outputs": [
   ],
   "source": [
    "def J(C): return matrix([[d(-1,C[j],i) for i in dim] for j in dim])"
   ]
  },
  {
   "cell_type": "code",
   "execution_count": 32,
   "metadata": {
    "collapsed": false
   },
   "outputs": [
   ],
   "source": [
    "def K(C): return 1/J(C)"
   ]
  },
  {
   "cell_type": "markdown",
   "metadata": {
    "collapsed": false
   },
   "source": [
    "#### Quantum Potential (Schiff&Poirier eq. 20)####"
   ]
  },
  {
   "cell_type": "code",
   "execution_count": 33,
   "metadata": {
    "collapsed": false
   },
   "outputs": [
   ],
   "source": [
    "def Q(hbar,mu,C):\n",
    "    K_C = K(C)\n",
    "    return debound(add([add([add([\n",
    "           -hbar**2/(4*mu[j])*(K_C[k,j]*d(-1,d(+1,K_C[l,j], k), l) + d(+1,K_C[l,j], l)*d(+1,K_C[k,j], k)/2)\n",
    "                 for k in dim]) for j in dim]) for l in dim]))"
   ]
  },
  {
   "cell_type": "code",
   "execution_count": 34,
   "metadata": {
    "collapsed": false
   },
   "outputs": [
    {
     "data": {
      "text/latex": [
       "$$\\left [ \\mu_{0}\\right ]$$"
      ]
     },
     "execution_count": 34,
     "metadata": {
     },
     "output_type": "execute_result"
    }
   ],
   "source": [
    "mu=array(symbols(['mu%s'%i for i in dim])) # mass\n",
    "list(mu)"
   ]
  },
  {
   "cell_type": "code",
   "execution_count": 35,
   "metadata": {
    "collapsed": false
   },
   "outputs": [
   ],
   "source": [
    "hbar=Symbol('hbar')"
   ]
  },
  {
   "cell_type": "markdown",
   "metadata": {
    "collapsed": false
   },
   "source": [
    "The quantum potential at the $i^{th}$ world:"
   ]
  },
  {
   "cell_type": "code",
   "execution_count": 36,
   "metadata": {
    "collapsed": false
   },
   "outputs": [
   ],
   "source": [
    "Qs=Q(hbar,mu,s)"
   ]
  },
  {
   "cell_type": "code",
   "execution_count": 37,
   "metadata": {
    "collapsed": false
   },
   "outputs": [
    {
     "data": {
      "text/latex": [
       "$$- \\frac{\\hbar^{2}}{4 \\mu_{0}} \\left(\\frac{1}{2} \\left(- \\frac{1}{- x_{i-1} + x_{i}} + \\frac{1}{x_{i+1} - x_{i}}\\right)^{2} + \\frac{1}{x_{i+1} - x_{i}} \\left(\\frac{1}{- x_{i-1} + x_{i}} - \\frac{2}{x_{i+1} - x_{i}} + \\frac{1}{- x_{i+1} + x_{i+2}}\\right)\\right)$$"
      ]
     },
     "execution_count": 37,
     "metadata": {
     },
     "output_type": "execute_result"
    }
   ],
   "source": [
    "Qs[ith]"
   ]
  },
  {
   "cell_type": "markdown",
   "metadata": {
    "collapsed": false
   },
   "source": [
    "#### Quantum Force ####\n",
    "\n",
    "In general the force is a vector.\n",
    "Provided the number of worlds is large enough the trace of Q contains sufficient information to compute gradients."
   ]
  },
  {
   "cell_type": "code",
   "execution_count": 38,
   "metadata": {
    "collapsed": false
   },
   "outputs": [
   ],
   "source": [
    "QU=add(Qs) # trace in 1-d"
   ]
  },
  {
   "cell_type": "code",
   "execution_count": 39,
   "metadata": {
    "collapsed": false
   },
   "outputs": [
    {
     "data": {
      "text/latex": [
       "$$\\frac{\\hbar^{2}}{4 \\mu_{0}} \\left(- \\frac{1}{\\left(x_{i+1} - x_{i}\\right)^{2}} \\left(- \\frac{1}{x_{i+1} - x_{i}} + \\frac{1}{- x_{i+1} + x_{i+2}}\\right) + \\frac{1}{\\left(- x_{i+1} + x_{i+2}\\right) \\left(x_{i+1} - x_{i}\\right)^{2}}\\right) + \\frac{\\hbar^{2}}{4 \\mu_{0}} \\left(\\frac{\\frac{2}{\\left(- x_{i-1} + x_{i}\\right)^{2}} + \\frac{1}{\\left(x_{i+1} - x_{i}\\right)^{2}}}{- x_{i-1} + x_{i}} - \\frac{1}{\\left(- x_{i-1} + x_{i}\\right)^{2}} \\left(- \\frac{1}{x_{i-1} - x_{i-2}} + \\frac{1}{- x_{i-1} + x_{i}}\\right) - \\frac{1}{\\left(- x_{i-1} + x_{i}\\right)^{2}} \\left(\\frac{1}{x_{i-1} - x_{i-2}} - \\frac{2}{- x_{i-1} + x_{i}} + \\frac{1}{x_{i+1} - x_{i}}\\right)\\right) + \\frac{\\hbar^{2}}{4 \\mu_{0}} \\left(\\frac{1}{2} \\left(\\frac{2}{\\left(- x_{i-1} + x_{i}\\right)^{2}} + \\frac{2}{\\left(x_{i+1} - x_{i}\\right)^{2}}\\right) \\left(- \\frac{1}{- x_{i-1} + x_{i}} + \\frac{1}{x_{i+1} - x_{i}}\\right) + \\frac{1}{x_{i+1} - x_{i}} \\left(- \\frac{1}{\\left(- x_{i-1} + x_{i}\\right)^{2}} - \\frac{2}{\\left(x_{i+1} - x_{i}\\right)^{2}}\\right) + \\frac{1}{\\left(x_{i+1} - x_{i}\\right)^{2}} \\left(\\frac{1}{- x_{i-1} + x_{i}} - \\frac{2}{x_{i+1} - x_{i}} + \\frac{1}{- x_{i+1} + x_{i+2}}\\right)\\right) - \\frac{\\hbar^{2}}{4 \\mu_{0} \\left(- x_{i-1} + x_{i}\\right)^{2} \\left(x_{i-1} - x_{i-2}\\right)}$$"
      ]
     },
     "execution_count": 39,
     "metadata": {
     },
     "output_type": "execute_result"
    }
   ],
   "source": [
    "R0 = -QU.diff(x_i); R0"
   ]
  },
  {
   "cell_type": "markdown",
   "metadata": {
    "collapsed": false
   },
   "source": [
    " Schiff & Poirier eq 18"
   ]
  },
  {
   "cell_type": "code",
   "execution_count": 40,
   "metadata": {
    "collapsed": false
   },
   "outputs": [
   ],
   "source": [
    "def R(hbar,mu,C):\n",
    "    K_C=K(C)\n",
    "    return stack([debound(add([add([add([add([\n",
    "      hbar**2/(4*mu[j])*d(+1,K_C[k, i]*K_C[p, j]*d(-1,d(+1,K_C[l, j], k), l), p)\n",
    "        for p in dim]) for k in dim]) for j in dim]) for l in dim]))\n",
    "            for i in dim])"
   ]
  },
  {
   "cell_type": "code",
   "execution_count": 41,
   "metadata": {
    "collapsed": false,
    "scrolled": true
   },
   "outputs": [
    {
     "data": {
      "text/latex": [
       "$$\\frac{\\hbar^{2}}{4 \\mu_{0}} \\left(- \\frac{1}{\\left(- x_{i-1} + x_{i}\\right)^{2}} \\left(\\frac{1}{x_{i-1} - x_{i-2}} - \\frac{2}{- x_{i-1} + x_{i}} + \\frac{1}{x_{i+1} - x_{i}}\\right) + \\frac{1}{\\left(x_{i+1} - x_{i}\\right)^{2}} \\left(\\frac{1}{- x_{i-1} + x_{i}} - \\frac{2}{x_{i+1} - x_{i}} + \\frac{1}{- x_{i+1} + x_{i+2}}\\right)\\right)$$"
      ]
     },
     "execution_count": 41,
     "metadata": {
     },
     "output_type": "execute_result"
    }
   ],
   "source": [
    "Rs=R(hbar,mu,s); Rs[0,ith]"
   ]
  },
  {
   "cell_type": "markdown",
   "metadata": {
    "collapsed": false
   },
   "source": [
    "The discretized Schiff and Poirier expression for the force is the gradient of the potential above."
   ]
  },
  {
   "cell_type": "code",
   "execution_count": 42,
   "metadata": {
    "collapsed": false
   },
   "outputs": [
    {
     "data": {
      "text/plain": [
       "True"
      ]
     },
     "execution_count": 42,
     "metadata": {
     },
     "output_type": "execute_result"
    }
   ],
   "source": [
    "Rs[0,ith].expand()==R0.expand()"
   ]
  },
  {
   "cell_type": "markdown",
   "metadata": {
    "collapsed": false
   },
   "source": [
    "It is interesting to note that the gradient of another expression for the potential which differs from the $2^{nd}$ order term from Schiff&Poirier eq. 20 by only the sign yields the same expression for the quantum force."
   ]
  },
  {
   "cell_type": "code",
   "execution_count": 43,
   "metadata": {
    "collapsed": false
   },
   "outputs": [
   ],
   "source": [
    "def Q2(hbar,mu,C):\n",
    "    K_C = K(C)\n",
    "    return debound(add([add([add([\n",
    "           hbar**2/(8*mu[j])*d(+1,K_C[l,j], l)*d(+1,K_C[k,j], k)\n",
    "                 for k in dim]) for j in dim]) for l in dim]))"
   ]
  },
  {
   "cell_type": "code",
   "execution_count": 44,
   "metadata": {
    "collapsed": false
   },
   "outputs": [
   ],
   "source": [
    "Qs2=Q2(hbar,mu,s)"
   ]
  },
  {
   "cell_type": "markdown",
   "metadata": {
    "collapsed": false
   },
   "source": [
    "The discretized version of this expression is identical to that introduced by Hall & Deckart."
   ]
  },
  {
   "cell_type": "code",
   "execution_count": 45,
   "metadata": {
    "collapsed": false
   },
   "outputs": [
    {
     "data": {
      "text/latex": [
       "$$\\frac{\\hbar^{2}}{8 \\mu_{0}} \\left(- \\frac{1}{- x_{i-1} + x_{i}} + \\frac{1}{x_{i+1} - x_{i}}\\right)^{2}$$"
      ]
     },
     "execution_count": 45,
     "metadata": {
     },
     "output_type": "execute_result"
    }
   ],
   "source": [
    "Qs2[ith]"
   ]
  },
  {
   "cell_type": "code",
   "execution_count": 46,
   "metadata": {
    "collapsed": false
   },
   "outputs": [
   ],
   "source": [
    "Q2R0 = -add(Qs2).diff(x_i)"
   ]
  },
  {
   "cell_type": "code",
   "execution_count": 47,
   "metadata": {
    "collapsed": false
   },
   "outputs": [
    {
     "data": {
      "text/plain": [
       "True"
      ]
     },
     "execution_count": 47,
     "metadata": {
     },
     "output_type": "execute_result"
    }
   ],
   "source": [
    "(Rs[0,ith] - Q2R0).simplify()==0"
   ]
  },
  {
   "cell_type": "markdown",
   "metadata": {
    "collapsed": false
   },
   "source": [
    "Simplied expressions for the quantum potential and quantum force."
   ]
  },
  {
   "cell_type": "code",
   "execution_count": 48,
   "metadata": {
    "collapsed": false
   },
   "outputs": [
   ],
   "source": [
    "# Give nice display names to sympy subexpressions (differences).\n",
    "x2x1=Symbol(\"(x_{i+2}-x_{i+1})\")\n",
    "x1x0=Symbol(\"(x_{i+1}-x_{i})\")\n",
    "x0m1=Symbol(\"(x_{i}-x_{i-1})\")\n",
    "xm1m2=Symbol(\"(x_{i-1}-x_{i-2})\")\n",
    "terms = {x2-x1:x2x1, x1-x_i:x1x0, x_i-xm1:x0m1, xm1-xm2:xm1m2}"
   ]
  },
  {
   "cell_type": "markdown",
   "metadata": {
    "collapsed": false
   },
   "source": [
    "$3^{rd}$ order quantum potential"
   ]
  },
  {
   "cell_type": "code",
   "execution_count": 49,
   "metadata": {
    "collapsed": false
   },
   "outputs": [
    {
     "data": {
      "text/latex": [
       "$$- \\frac{\\hbar^{2}}{4 \\mu_{0}} \\left(\\frac{1}{2} \\left(- \\frac{1}{(x_{i}-x_{i-1})} + \\frac{1}{(x_{i+1}-x_{i})}\\right)^{2} + \\frac{1}{(x_{i+1}-x_{i})} \\left(\\frac{1}{(x_{i}-x_{i-1})} + \\frac{1}{(x_{i+2}-x_{i+1})} - \\frac{2}{(x_{i+1}-x_{i})}\\right)\\right)$$"
      ]
     },
     "execution_count": 49,
     "metadata": {
     },
     "output_type": "execute_result"
    }
   ],
   "source": [
    "q1=Qs[ith].subs(terms).collect(hbar).collect(mu[0]); q1"
   ]
  },
  {
   "cell_type": "markdown",
   "metadata": {
    "collapsed": false
   },
   "source": [
    "$2^{nd}$ order quantum potential"
   ]
  },
  {
   "cell_type": "code",
   "execution_count": 50,
   "metadata": {
    "collapsed": false
   },
   "outputs": [
    {
     "data": {
      "text/latex": [
       "$$\\frac{\\hbar^{2}}{8 \\mu_{0}} \\left(- \\frac{1}{(x_{i}-x_{i-1})} + \\frac{1}{(x_{i+1}-x_{i})}\\right)^{2}$$"
      ]
     },
     "execution_count": 50,
     "metadata": {
     },
     "output_type": "execute_result"
    }
   ],
   "source": [
    "q2=Qs2[ith].subs(terms).collect(hbar).collect(mu[0]); q2"
   ]
  },
  {
   "cell_type": "markdown",
   "metadata": {
    "collapsed": false
   },
   "source": [
    "Quantum force"
   ]
  },
  {
   "cell_type": "code",
   "execution_count": 51,
   "metadata": {
    "collapsed": false,
    "scrolled": true
   },
   "outputs": [
    {
     "data": {
      "text/latex": [
       "$$\\frac{\\hbar^{2}}{\\mu_{0}} \\left(\\frac{1}{2 (x_{i}-x_{i-1})^{3}} - \\frac{1}{4 (x_{i-1}-x_{i-2}) (x_{i}-x_{i-1})^{2}} - \\frac{1}{4 (x_{i+1}-x_{i}) (x_{i}-x_{i-1})^{2}} + \\frac{1}{4 (x_{i+1}-x_{i})^{2} (x_{i}-x_{i-1})} + \\frac{1}{4 (x_{i+1}-x_{i})^{2} (x_{i+2}-x_{i+1})} - \\frac{1}{2 (x_{i+1}-x_{i})^{3}}\\right)$$"
      ]
     },
     "execution_count": 51,
     "metadata": {
     },
     "output_type": "execute_result"
    }
   ],
   "source": [
    "r2=R0.subs(terms).expand().collect(hbar).collect(mu[0]); r2"
   ]
  },
  {
   "cell_type": "code",
   "execution_count": 52,
   "metadata": {
    "collapsed": false
   },
   "outputs": [
    {
     "data": {
      "text/latex": [
       "$$\\frac{\\hbar^{2}}{4 \\mu_{0}} \\left(- \\frac{1}{(x_{i}-x_{i-1})^{2}} \\left(- \\frac{2}{(x_{i}-x_{i-1})} + \\frac{1}{(x_{i-1}-x_{i-2})} + \\frac{1}{(x_{i+1}-x_{i})}\\right) + \\frac{1}{(x_{i+1}-x_{i})^{2}} \\left(\\frac{1}{(x_{i}-x_{i-1})} + \\frac{1}{(x_{i+2}-x_{i+1})} - \\frac{2}{(x_{i+1}-x_{i})}\\right)\\right)$$"
      ]
     },
     "execution_count": 52,
     "metadata": {
     },
     "output_type": "execute_result"
    }
   ],
   "source": [
    "r3=Rs[0,ith].subs(terms); r3"
   ]
  },
  {
   "cell_type": "markdown",
   "metadata": {
    "collapsed": false
   },
   "source": [
    "### Numeric computation ###\n",
    "\n",
    "These sympy expressions can be converted to theano functions for efficient execution on gpu and multicore processors."
   ]
  },
  {
   "cell_type": "code",
   "execution_count": 53,
   "metadata": {
    "collapsed": false
   },
   "outputs": [
   ],
   "source": [
    "from theano.tensor import roll, stack"
   ]
  },
  {
   "cell_type": "code",
   "execution_count": 54,
   "metadata": {
    "collapsed": false
   },
   "outputs": [
   ],
   "source": [
    "hbar_s = scalar('hbar')\n",
    "mu_v = vector('mu')"
   ]
  },
  {
   "cell_type": "markdown",
   "metadata": {
    "collapsed": false
   },
   "source": [
    "Without sympy simplification theano produces the following expressions:"
   ]
  },
  {
   "cell_type": "code",
   "execution_count": 55,
   "metadata": {
    "collapsed": false
   },
   "outputs": [
   ],
   "source": [
    "Q_=function([hbar_s,mu_v,C],Q(hbar_s,mu_v,C))"
   ]
  },
  {
   "cell_type": "markdown",
   "metadata": {
    "collapsed": false
   },
   "source": [
    "After optimization:"
   ]
  },
  {
   "cell_type": "code",
   "execution_count": 56,
   "metadata": {
    "collapsed": false,
    "scrolled": true
   },
   "outputs": [
    {
     "data": {
      "text/plain": [
       "'Elemwise{Composite{((i0 * i1 * ((i2 * (i3 - i4)) + (i5 * sqr(i4)))) / i6)}}[(0, 2)](TensorConstant{(1,) of -0.25}, sqr(hbar), Elemwise{Composite{inv((i0 - i1))}}[(0, 0)](join(TensorConstant{0}, C[ScalarFromTensor(Elemwise{Composite{(-(i0 % i1))}}(TensorConstant{-1}, Shape_i{1}(C))), int64:], C[ScalarFromTensor(Elemwise{Composite{(-(i0 % i1))}}(TensorConstant{-1}, Shape_i{1}(C))), int64:int64]), C[Constant{0}])[int64:int64], join(TensorConstant{0}, Elemwise{Sub}[(0, 1)](Elemwise{Composite{inv((i0 - i1))}}[(0, 0)](join(TensorConstant{0}, C[ScalarFromTensor(Elemwise{Composite{(-(i0 % i1))}}(TensorConstant{-1}, Shape_i{1}(C))), int64:], C[ScalarFromTensor(Elemwise{Composite{(-(i0 % i1))}}(TensorConstant{-1}, Shape_i{1}(C))), int64:int64]), C[Constant{0}]), join(TensorConstant{0}, Elemwise{Composite{inv((i0 - i1))}}[(0, 0)](join(TensorConstant{0}, C[ScalarFromTensor(Elemwise{Composite{(-(i0 % i1))}}(TensorConstant{-1}, Shape_i{1}(C))), int64:], C[ScalarFromTensor(Elemwise{Composite{(-(i0 % i1))}}(TensorConstant{-1}, Shape_i{1}(C))), int64:int64]), C[Constant{0}])[int64:], Elemwise{Composite{inv((i0 - i1))}}[(0, 0)](join(TensorConstant{0}, C[ScalarFromTensor(Elemwise{Composite{(-(i0 % i1))}}(TensorConstant{-1}, Shape_i{1}(C))), int64:], C[ScalarFromTensor(Elemwise{Composite{(-(i0 % i1))}}(TensorConstant{-1}, Shape_i{1}(C))), int64:int64]), C[Constant{0}])[int64:int64]))[int64:], Elemwise{Sub}[(0, 1)](Elemwise{Composite{inv((i0 - i1))}}[(0, 0)](join(TensorConstant{0}, C[ScalarFromTensor(Elemwise{Composite{(-(i0 % i1))}}(TensorConstant{-1}, Shape_i{1}(C))), int64:], C[ScalarFromTensor(Elemwise{Composite{(-(i0 % i1))}}(TensorConstant{-1}, Shape_i{1}(C))), int64:int64]), C[Constant{0}]), join(TensorConstant{0}, Elemwise{Composite{inv((i0 - i1))}}[(0, 0)](join(TensorConstant{0}, C[ScalarFromTensor(Elemwise{Composite{(-(i0 % i1))}}(TensorConstant{-1}, Shape_i{1}(C))), int64:], C[ScalarFromTensor(Elemwise{Composite{(-(i0 % i1))}}(TensorConstant{-1}, Shape_i{1}(C))), int64:int64]), C[Constant{0}])[int64:], Elemwise{Composite{inv((i0 - i1))}}[(0, 0)](join(TensorConstant{0}, C[ScalarFromTensor(Elemwise{Composite{(-(i0 % i1))}}(TensorConstant{-1}, Shape_i{1}(C))), int64:], C[ScalarFromTensor(Elemwise{Composite{(-(i0 % i1))}}(TensorConstant{-1}, Shape_i{1}(C))), int64:int64]), C[Constant{0}])[int64:int64]))[int64:int64])[int64:int64], Elemwise{Sub}[(0, 1)](Elemwise{Composite{inv((i0 - i1))}}[(0, 0)](join(TensorConstant{0}, C[ScalarFromTensor(Elemwise{Composite{(-(i0 % i1))}}(TensorConstant{-1}, Shape_i{1}(C))), int64:], C[ScalarFromTensor(Elemwise{Composite{(-(i0 % i1))}}(TensorConstant{-1}, Shape_i{1}(C))), int64:int64]), C[Constant{0}]), join(TensorConstant{0}, Elemwise{Composite{inv((i0 - i1))}}[(0, 0)](join(TensorConstant{0}, C[ScalarFromTensor(Elemwise{Composite{(-(i0 % i1))}}(TensorConstant{-1}, Shape_i{1}(C))), int64:], C[ScalarFromTensor(Elemwise{Composite{(-(i0 % i1))}}(TensorConstant{-1}, Shape_i{1}(C))), int64:int64]), C[Constant{0}])[int64:], Elemwise{Composite{inv((i0 - i1))}}[(0, 0)](join(TensorConstant{0}, C[ScalarFromTensor(Elemwise{Composite{(-(i0 % i1))}}(TensorConstant{-1}, Shape_i{1}(C))), int64:], C[ScalarFromTensor(Elemwise{Composite{(-(i0 % i1))}}(TensorConstant{-1}, Shape_i{1}(C))), int64:int64]), C[Constant{0}])[int64:int64]))[int64:int64], TensorConstant{(1,) of 0.5}, mu[Constant{0}])'"
      ]
     },
     "execution_count": 56,
     "metadata": {
     },
     "output_type": "execute_result"
    }
   ],
   "source": [
    "pp(Q_.maker.fgraph.outputs[0])"
   ]
  },
  {
   "cell_type": "markdown",
   "metadata": {
    "collapsed": false
   },
   "source": [
    "$2^{nd}$ order potential"
   ]
  },
  {
   "cell_type": "code",
   "execution_count": 57,
   "metadata": {
    "collapsed": false
   },
   "outputs": [
   ],
   "source": [
    "Q2_=function([hbar_s,mu_v,C],Q2(hbar_s,mu_v,C))"
   ]
  },
  {
   "cell_type": "code",
   "execution_count": 58,
   "metadata": {
    "collapsed": false
   },
   "outputs": [
    {
     "data": {
      "text/plain": [
       "'Elemwise{Composite{((i0 * i1 * (i2 - i3) * (i2 - i3)) / i4)}}[(0, 2)](TensorConstant{(1,) of 0.125}, sqr(hbar), Elemwise{Composite{inv((i0 - i1))}}[(0, 0)](join(TensorConstant{0}, C[ScalarFromTensor(Elemwise{Composite{(-(i0 % i1))}}(TensorConstant{-1}, Shape_i{1}(C))), int64:], C[ScalarFromTensor(Elemwise{Composite{(-(i0 % i1))}}(TensorConstant{-1}, Shape_i{1}(C))), int64:int64]), C[Constant{0}])[int64:int64], join(TensorConstant{0}, Elemwise{Composite{inv((i0 - i1))}}[(0, 0)](join(TensorConstant{0}, C[ScalarFromTensor(Elemwise{Composite{(-(i0 % i1))}}(TensorConstant{-1}, Shape_i{1}(C))), int64:], C[ScalarFromTensor(Elemwise{Composite{(-(i0 % i1))}}(TensorConstant{-1}, Shape_i{1}(C))), int64:int64]), C[Constant{0}])[int64:], Elemwise{Composite{inv((i0 - i1))}}[(0, 0)](join(TensorConstant{0}, C[ScalarFromTensor(Elemwise{Composite{(-(i0 % i1))}}(TensorConstant{-1}, Shape_i{1}(C))), int64:], C[ScalarFromTensor(Elemwise{Composite{(-(i0 % i1))}}(TensorConstant{-1}, Shape_i{1}(C))), int64:int64]), C[Constant{0}])[int64:int64])[int64:int64], mu[Constant{0}])'"
      ]
     },
     "execution_count": 58,
     "metadata": {
     },
     "output_type": "execute_result"
    }
   ],
   "source": [
    "pp(Q2_.maker.fgraph.outputs[0])"
   ]
  },
  {
   "cell_type": "markdown",
   "metadata": {
    "collapsed": false
   },
   "source": [
    "Quantum force"
   ]
  },
  {
   "cell_type": "code",
   "execution_count": 59,
   "metadata": {
    "collapsed": false
   },
   "outputs": [
   ],
   "source": [
    "R_=function([hbar_s,mu_v,C],R(hbar_s,mu_v,C))"
   ]
  },
  {
   "cell_type": "code",
   "execution_count": 60,
   "metadata": {
    "collapsed": false
   },
   "outputs": [
    {
     "data": {
      "text/plain": [
       "'Elemwise{Composite{((i0 * i1 * (i2 - i3)) / i4)}}[(0, 2)](TensorConstant{(1, 1) of 0.25}, sqr(hbar), Elemwise{Composite{((i0 - i1) / sqr(i2))}}[(0, 0)](join(TensorConstant{0}, Elemwise{Sub}[(0, 0)](inv(Elemwise{Sub}[(0, 0)](join(TensorConstant{0}, C[ScalarFromTensor(Elemwise{Composite{(-(i0 % i1))}}(TensorConstant{-1}, Shape_i{1}(C))), int64:], C[ScalarFromTensor(Elemwise{Composite{(-(i0 % i1))}}(TensorConstant{-1}, Shape_i{1}(C))), int64:int64]), C[Constant{0}])), join(TensorConstant{0}, inv(Elemwise{Sub}[(0, 0)](join(TensorConstant{0}, C[ScalarFromTensor(Elemwise{Composite{(-(i0 % i1))}}(TensorConstant{-1}, Shape_i{1}(C))), int64:], C[ScalarFromTensor(Elemwise{Composite{(-(i0 % i1))}}(TensorConstant{-1}, Shape_i{1}(C))), int64:int64]), C[Constant{0}]))[int64:], inv(Elemwise{Sub}[(0, 0)](join(TensorConstant{0}, C[ScalarFromTensor(Elemwise{Composite{(-(i0 % i1))}}(TensorConstant{-1}, Shape_i{1}(C))), int64:], C[ScalarFromTensor(Elemwise{Composite{(-(i0 % i1))}}(TensorConstant{-1}, Shape_i{1}(C))), int64:int64]), C[Constant{0}]))[int64:int64]))[int64:], Elemwise{Sub}[(0, 0)](inv(Elemwise{Sub}[(0, 0)](join(TensorConstant{0}, C[ScalarFromTensor(Elemwise{Composite{(-(i0 % i1))}}(TensorConstant{-1}, Shape_i{1}(C))), int64:], C[ScalarFromTensor(Elemwise{Composite{(-(i0 % i1))}}(TensorConstant{-1}, Shape_i{1}(C))), int64:int64]), C[Constant{0}])), join(TensorConstant{0}, inv(Elemwise{Sub}[(0, 0)](join(TensorConstant{0}, C[ScalarFromTensor(Elemwise{Composite{(-(i0 % i1))}}(TensorConstant{-1}, Shape_i{1}(C))), int64:], C[ScalarFromTensor(Elemwise{Composite{(-(i0 % i1))}}(TensorConstant{-1}, Shape_i{1}(C))), int64:int64]), C[Constant{0}]))[int64:], inv(Elemwise{Sub}[(0, 0)](join(TensorConstant{0}, C[ScalarFromTensor(Elemwise{Composite{(-(i0 % i1))}}(TensorConstant{-1}, Shape_i{1}(C))), int64:], C[ScalarFromTensor(Elemwise{Composite{(-(i0 % i1))}}(TensorConstant{-1}, Shape_i{1}(C))), int64:int64]), C[Constant{0}]))[int64:int64]))[int64:int64]), Elemwise{Sub}[(0, 0)](inv(Elemwise{Sub}[(0, 0)](join(TensorConstant{0}, C[ScalarFromTensor(Elemwise{Composite{(-(i0 % i1))}}(TensorConstant{-1}, Shape_i{1}(C))), int64:], C[ScalarFromTensor(Elemwise{Composite{(-(i0 % i1))}}(TensorConstant{-1}, Shape_i{1}(C))), int64:int64]), C[Constant{0}])), join(TensorConstant{0}, inv(Elemwise{Sub}[(0, 0)](join(TensorConstant{0}, C[ScalarFromTensor(Elemwise{Composite{(-(i0 % i1))}}(TensorConstant{-1}, Shape_i{1}(C))), int64:], C[ScalarFromTensor(Elemwise{Composite{(-(i0 % i1))}}(TensorConstant{-1}, Shape_i{1}(C))), int64:int64]), C[Constant{0}]))[int64:], inv(Elemwise{Sub}[(0, 0)](join(TensorConstant{0}, C[ScalarFromTensor(Elemwise{Composite{(-(i0 % i1))}}(TensorConstant{-1}, Shape_i{1}(C))), int64:], C[ScalarFromTensor(Elemwise{Composite{(-(i0 % i1))}}(TensorConstant{-1}, Shape_i{1}(C))), int64:int64]), C[Constant{0}]))[int64:int64])), Elemwise{Sub}[(0, 0)](join(TensorConstant{0}, C[ScalarFromTensor(Elemwise{Composite{(-(i0 % i1))}}(TensorConstant{-1}, Shape_i{1}(C))), int64:], C[ScalarFromTensor(Elemwise{Composite{(-(i0 % i1))}}(TensorConstant{-1}, Shape_i{1}(C))), int64:int64]), C[Constant{0}]))[int64:int64], join(TensorConstant{0}, Elemwise{Composite{((i0 - i1) / sqr(i2))}}[(0, 0)](join(TensorConstant{0}, Elemwise{Sub}[(0, 0)](inv(Elemwise{Sub}[(0, 0)](join(TensorConstant{0}, C[ScalarFromTensor(Elemwise{Composite{(-(i0 % i1))}}(TensorConstant{-1}, Shape_i{1}(C))), int64:], C[ScalarFromTensor(Elemwise{Composite{(-(i0 % i1))}}(TensorConstant{-1}, Shape_i{1}(C))), int64:int64]), C[Constant{0}])), join(TensorConstant{0}, inv(Elemwise{Sub}[(0, 0)](join(TensorConstant{0}, C[ScalarFromTensor(Elemwise{Composite{(-(i0 % i1))}}(TensorConstant{-1}, Shape_i{1}(C))), int64:], C[ScalarFromTensor(Elemwise{Composite{(-(i0 % i1))}}(TensorConstant{-1}, Shape_i{1}(C))), int64:int64]), C[Constant{0}]))[int64:], inv(Elemwise{Sub}[(0, 0)](join(TensorConstant{0}, C[ScalarFromTensor(Elemwise{Composite{(-(i0 % i1))}}(TensorConstant{-1}, Shape_i{1}(C))), int64:], C[ScalarFromTensor(Elemwise{Composite{(-(i0 % i1))}}(TensorConstant{-1}, Shape_i{1}(C))), int64:int64]), C[Constant{0}]))[int64:int64]))[int64:], Elemwise{Sub}[(0, 0)](inv(Elemwise{Sub}[(0, 0)](join(TensorConstant{0}, C[ScalarFromTensor(Elemwise{Composite{(-(i0 % i1))}}(TensorConstant{-1}, Shape_i{1}(C))), int64:], C[ScalarFromTensor(Elemwise{Composite{(-(i0 % i1))}}(TensorConstant{-1}, Shape_i{1}(C))), int64:int64]), C[Constant{0}])), join(TensorConstant{0}, inv(Elemwise{Sub}[(0, 0)](join(TensorConstant{0}, C[ScalarFromTensor(Elemwise{Composite{(-(i0 % i1))}}(TensorConstant{-1}, Shape_i{1}(C))), int64:], C[ScalarFromTensor(Elemwise{Composite{(-(i0 % i1))}}(TensorConstant{-1}, Shape_i{1}(C))), int64:int64]), C[Constant{0}]))[int64:], inv(Elemwise{Sub}[(0, 0)](join(TensorConstant{0}, C[ScalarFromTensor(Elemwise{Composite{(-(i0 % i1))}}(TensorConstant{-1}, Shape_i{1}(C))), int64:], C[ScalarFromTensor(Elemwise{Composite{(-(i0 % i1))}}(TensorConstant{-1}, Shape_i{1}(C))), int64:int64]), C[Constant{0}]))[int64:int64]))[int64:int64]), Elemwise{Sub}[(0, 0)](inv(Elemwise{Sub}[(0, 0)](join(TensorConstant{0}, C[ScalarFromTensor(Elemwise{Composite{(-(i0 % i1))}}(TensorConstant{-1}, Shape_i{1}(C))), int64:], C[ScalarFromTensor(Elemwise{Composite{(-(i0 % i1))}}(TensorConstant{-1}, Shape_i{1}(C))), int64:int64]), C[Constant{0}])), join(TensorConstant{0}, inv(Elemwise{Sub}[(0, 0)](join(TensorConstant{0}, C[ScalarFromTensor(Elemwise{Composite{(-(i0 % i1))}}(TensorConstant{-1}, Shape_i{1}(C))), int64:], C[ScalarFromTensor(Elemwise{Composite{(-(i0 % i1))}}(TensorConstant{-1}, Shape_i{1}(C))), int64:int64]), C[Constant{0}]))[int64:], inv(Elemwise{Sub}[(0, 0)](join(TensorConstant{0}, C[ScalarFromTensor(Elemwise{Composite{(-(i0 % i1))}}(TensorConstant{-1}, Shape_i{1}(C))), int64:], C[ScalarFromTensor(Elemwise{Composite{(-(i0 % i1))}}(TensorConstant{-1}, Shape_i{1}(C))), int64:int64]), C[Constant{0}]))[int64:int64])), Elemwise{Sub}[(0, 0)](join(TensorConstant{0}, C[ScalarFromTensor(Elemwise{Composite{(-(i0 % i1))}}(TensorConstant{-1}, Shape_i{1}(C))), int64:], C[ScalarFromTensor(Elemwise{Composite{(-(i0 % i1))}}(TensorConstant{-1}, Shape_i{1}(C))), int64:int64]), C[Constant{0}]))[int64:], Elemwise{Composite{((i0 - i1) / sqr(i2))}}[(0, 0)](join(TensorConstant{0}, Elemwise{Sub}[(0, 0)](inv(Elemwise{Sub}[(0, 0)](join(TensorConstant{0}, C[ScalarFromTensor(Elemwise{Composite{(-(i0 % i1))}}(TensorConstant{-1}, Shape_i{1}(C))), int64:], C[ScalarFromTensor(Elemwise{Composite{(-(i0 % i1))}}(TensorConstant{-1}, Shape_i{1}(C))), int64:int64]), C[Constant{0}])), join(TensorConstant{0}, inv(Elemwise{Sub}[(0, 0)](join(TensorConstant{0}, C[ScalarFromTensor(Elemwise{Composite{(-(i0 % i1))}}(TensorConstant{-1}, Shape_i{1}(C))), int64:], C[ScalarFromTensor(Elemwise{Composite{(-(i0 % i1))}}(TensorConstant{-1}, Shape_i{1}(C))), int64:int64]), C[Constant{0}]))[int64:], inv(Elemwise{Sub}[(0, 0)](join(TensorConstant{0}, C[ScalarFromTensor(Elemwise{Composite{(-(i0 % i1))}}(TensorConstant{-1}, Shape_i{1}(C))), int64:], C[ScalarFromTensor(Elemwise{Composite{(-(i0 % i1))}}(TensorConstant{-1}, Shape_i{1}(C))), int64:int64]), C[Constant{0}]))[int64:int64]))[int64:], Elemwise{Sub}[(0, 0)](inv(Elemwise{Sub}[(0, 0)](join(TensorConstant{0}, C[ScalarFromTensor(Elemwise{Composite{(-(i0 % i1))}}(TensorConstant{-1}, Shape_i{1}(C))), int64:], C[ScalarFromTensor(Elemwise{Composite{(-(i0 % i1))}}(TensorConstant{-1}, Shape_i{1}(C))), int64:int64]), C[Constant{0}])), join(TensorConstant{0}, inv(Elemwise{Sub}[(0, 0)](join(TensorConstant{0}, C[ScalarFromTensor(Elemwise{Composite{(-(i0 % i1))}}(TensorConstant{-1}, Shape_i{1}(C))), int64:], C[ScalarFromTensor(Elemwise{Composite{(-(i0 % i1))}}(TensorConstant{-1}, Shape_i{1}(C))), int64:int64]), C[Constant{0}]))[int64:], inv(Elemwise{Sub}[(0, 0)](join(TensorConstant{0}, C[ScalarFromTensor(Elemwise{Composite{(-(i0 % i1))}}(TensorConstant{-1}, Shape_i{1}(C))), int64:], C[ScalarFromTensor(Elemwise{Composite{(-(i0 % i1))}}(TensorConstant{-1}, Shape_i{1}(C))), int64:int64]), C[Constant{0}]))[int64:int64]))[int64:int64]), Elemwise{Sub}[(0, 0)](inv(Elemwise{Sub}[(0, 0)](join(TensorConstant{0}, C[ScalarFromTensor(Elemwise{Composite{(-(i0 % i1))}}(TensorConstant{-1}, Shape_i{1}(C))), int64:], C[ScalarFromTensor(Elemwise{Composite{(-(i0 % i1))}}(TensorConstant{-1}, Shape_i{1}(C))), int64:int64]), C[Constant{0}])), join(TensorConstant{0}, inv(Elemwise{Sub}[(0, 0)](join(TensorConstant{0}, C[ScalarFromTensor(Elemwise{Composite{(-(i0 % i1))}}(TensorConstant{-1}, Shape_i{1}(C))), int64:], C[ScalarFromTensor(Elemwise{Composite{(-(i0 % i1))}}(TensorConstant{-1}, Shape_i{1}(C))), int64:int64]), C[Constant{0}]))[int64:], inv(Elemwise{Sub}[(0, 0)](join(TensorConstant{0}, C[ScalarFromTensor(Elemwise{Composite{(-(i0 % i1))}}(TensorConstant{-1}, Shape_i{1}(C))), int64:], C[ScalarFromTensor(Elemwise{Composite{(-(i0 % i1))}}(TensorConstant{-1}, Shape_i{1}(C))), int64:int64]), C[Constant{0}]))[int64:int64])), Elemwise{Sub}[(0, 0)](join(TensorConstant{0}, C[ScalarFromTensor(Elemwise{Composite{(-(i0 % i1))}}(TensorConstant{-1}, Shape_i{1}(C))), int64:], C[ScalarFromTensor(Elemwise{Composite{(-(i0 % i1))}}(TensorConstant{-1}, Shape_i{1}(C))), int64:int64]), C[Constant{0}]))[int64:int64])[int64:int64], mu[Constant{0}])'"
      ]
     },
     "execution_count": 60,
     "metadata": {
     },
     "output_type": "execute_result"
    }
   ],
   "source": [
    "pp(R_.maker.fgraph.outputs[0])"
   ]
  },
  {
   "cell_type": "markdown",
   "metadata": {
    "collapsed": false
   },
   "source": [
    "The same functions obtained from the sympy simplified expressions are shorter than those produced directly by Theano."
   ]
  },
  {
   "cell_type": "markdown",
   "metadata": {
    "collapsed": false
   },
   "source": [
    "Replace symbolic differences with vector operators:"
   ]
  },
  {
   "cell_type": "code",
   "execution_count": 61,
   "metadata": {
    "collapsed": false
   },
   "outputs": [
   ],
   "source": [
    "ro={theano_code(x2x1):roll(C[0],-2)-roll(C[0],-1),\n",
    "   theano_code(x1x0):roll(C[0],-1)-C[0],\n",
    "   theano_code(x0m1):C[0]-roll(C[0],1),\n",
    "   theano_code(xm1m2):roll(C[0],1)-roll(C[0],2),\n",
    "   theano_code(mu[0]):mu_v[0],\n",
    "   theano_code(hbar):hbar_s}"
   ]
  },
  {
   "cell_type": "markdown",
   "metadata": {
    "collapsed": false
   },
   "source": [
    "$3^{rd}$ order potential"
   ]
  },
  {
   "cell_type": "code",
   "execution_count": 62,
   "metadata": {
    "collapsed": false
   },
   "outputs": [
   ],
   "source": [
    "Q1a=fun(hbar_s,mu_v,C)(debound(clone(theano_code(q1),ro,strict=False)))"
   ]
  },
  {
   "cell_type": "code",
   "execution_count": 63,
   "metadata": {
    "collapsed": false
   },
   "outputs": [
   ],
   "source": [
    "Q1a_=function([hbar_s,mu_v,C],Q1a(hbar_s,mu_v,C))"
   ]
  },
  {
   "cell_type": "code",
   "execution_count": 64,
   "metadata": {
    "collapsed": false
   },
   "outputs": [
    {
     "data": {
      "text/plain": [
       "'Elemwise{Composite{(i0 * i1 * i2 * ((i3 * sqr((Composite{inv((i0 - i1))}(i4, i5) + (-Composite{inv((i0 - i1))}(i5, i6))))) + (Composite{inv((i0 - i1))}(i4, i5) * (inv((i7 - i4)) + Composite{inv((i0 - i1))}(i5, i6) + (i8 * Composite{inv((i0 - i1))}(i4, i5))))))}}[(0, 4)](TensorConstant{(1,) of -0.25}, sqr(hbar), inv(mu[Constant{0}]), TensorConstant{(1,) of 0.5}, join(TensorConstant{0}, C[ScalarFromTensor(Elemwise{Composite{(-(i0 % i1))}}(TensorConstant{-1}, Shape_i{1}(C))), int64:], C[ScalarFromTensor(Elemwise{Composite{(-(i0 % i1))}}(TensorConstant{-1}, Shape_i{1}(C))), int64:int64])[int64:int64], C[Constant{-2}, int64:int64], join(TensorConstant{0}, C[ScalarFromTensor(Elemwise{Composite{(-(i0 % i1))}}(TensorConstant{1}, Shape_i{1}(C))), int64:], C[ScalarFromTensor(Elemwise{Composite{(-(i0 % i1))}}(TensorConstant{1}, Shape_i{1}(C))), int64:int64])[int64:int64], join(TensorConstant{0}, C[ScalarFromTensor(Elemwise{Composite{(-(i0 % i1))}}[(0, 1)](TensorConstant{-2}, Shape_i{1}(C))), int64:], C[ScalarFromTensor(Elemwise{Composite{(-(i0 % i1))}}[(0, 1)](TensorConstant{-2}, Shape_i{1}(C))), int64:int64])[int64:int64], TensorConstant{(1,) of -2.0})'"
      ]
     },
     "execution_count": 64,
     "metadata": {
     },
     "output_type": "execute_result"
    }
   ],
   "source": [
    "pp(Q1a_.maker.fgraph.outputs[0])"
   ]
  },
  {
   "cell_type": "markdown",
   "metadata": {
    "collapsed": false
   },
   "source": [
    "$2^{nd}$ order potential"
   ]
  },
  {
   "cell_type": "code",
   "execution_count": 65,
   "metadata": {
    "collapsed": false
   },
   "outputs": [
   ],
   "source": [
    "Q2a=fun(hbar_s,mu_v,C)(debound(clone(theano_code(q2),ro,strict=False)))"
   ]
  },
  {
   "cell_type": "code",
   "execution_count": 66,
   "metadata": {
    "collapsed": false
   },
   "outputs": [
   ],
   "source": [
    "Q2a_=function([hbar_s,mu_v,C],Q2a(hbar_s,mu_v,C))"
   ]
  },
  {
   "cell_type": "code",
   "execution_count": 67,
   "metadata": {
    "collapsed": false
   },
   "outputs": [
    {
     "data": {
      "text/plain": [
       "'Elemwise{Composite{(i0 * i1 * i2 * sqr((inv((i3 - i4)) + (-inv((i4 - i5))))))}}[(0, 3)](TensorConstant{(1,) of 0.125}, sqr(hbar), inv(mu[Constant{0}]), join(TensorConstant{0}, C[ScalarFromTensor(Elemwise{Composite{(-(i0 % i1))}}(TensorConstant{-1}, Shape_i{1}(C))), int64:], C[ScalarFromTensor(Elemwise{Composite{(-(i0 % i1))}}(TensorConstant{-1}, Shape_i{1}(C))), int64:int64])[int64:int64], C[Constant{-2}, int64:int64], join(TensorConstant{0}, C[ScalarFromTensor(Elemwise{Composite{(-(i0 % i1))}}[(0, 1)](TensorConstant{1}, Shape_i{1}(C))), int64:], C[ScalarFromTensor(Elemwise{Composite{(-(i0 % i1))}}[(0, 1)](TensorConstant{1}, Shape_i{1}(C))), int64:int64])[int64:int64])'"
      ]
     },
     "execution_count": 67,
     "metadata": {
     },
     "output_type": "execute_result"
    }
   ],
   "source": [
    "pp(Q2a_.maker.fgraph.outputs[0])"
   ]
  },
  {
   "cell_type": "markdown",
   "metadata": {
    "collapsed": false
   },
   "source": [
    "Quantum force"
   ]
  },
  {
   "cell_type": "code",
   "execution_count": 68,
   "metadata": {
    "collapsed": false
   },
   "outputs": [
   ],
   "source": [
    "R2a=fun(hbar_s,mu_v,C)(stack([debound(clone(theano_code(r2),ro,strict=False))]))"
   ]
  },
  {
   "cell_type": "code",
   "execution_count": 69,
   "metadata": {
    "collapsed": false
   },
   "outputs": [
   ],
   "source": [
    "R2a_=function([hbar_s,mu_v,C],R2a(hbar_s,mu_v,C))"
   ]
  },
  {
   "cell_type": "code",
   "execution_count": 70,
   "metadata": {
    "collapsed": false
   },
   "outputs": [
    {
     "data": {
      "text/plain": [
       "'Elemwise{Composite{(i0 * i1 * ((i2 * inv(Composite{(sqr(i0) * i0)}((i3 - i4)))) + (i5 * inv(Composite{(sqr(i0) * i0)}((i6 - i3)))) + (i7 * inv((i6 - i3)) * Composite{inv(sqr(i0))}((i3 - i4))) + (i7 * inv((i4 - i8)) * Composite{inv(sqr(i0))}((i3 - i4))) + (i9 * Composite{inv(sqr(i0))}((i6 - i3)) * inv((i10 - i6))) + (i9 * Composite{inv(sqr(i0))}((i6 - i3)) * inv((i3 - i4)))))}}[(0, 4)](sqr(hbar), inv(mu[Constant{0}]), TensorConstant{(1, 1) of 0.5}, C[Constant{-2}, int64:int64], join(TensorConstant{0}, C[ScalarFromTensor(Elemwise{Composite{(-(i0 % i1))}}(TensorConstant{1}, Shape_i{1}(C))), int64:], C[ScalarFromTensor(Elemwise{Composite{(-(i0 % i1))}}(TensorConstant{1}, Shape_i{1}(C))), int64:int64])[int64:int64], TensorConstant{(1, 1) of -0.5}, join(TensorConstant{0}, C[ScalarFromTensor(Elemwise{Composite{(-(i0 % i1))}}(TensorConstant{-1}, Shape_i{1}(C))), int64:], C[ScalarFromTensor(Elemwise{Composite{(-(i0 % i1))}}(TensorConstant{-1}, Shape_i{1}(C))), int64:int64])[int64:int64], TensorConstant{(1, 1) of -0.25}, join(TensorConstant{0}, C[ScalarFromTensor(Elemwise{Composite{(-(i0 % i1))}}(TensorConstant{2}, Shape_i{1}(C))), int64:], C[ScalarFromTensor(Elemwise{Composite{(-(i0 % i1))}}(TensorConstant{2}, Shape_i{1}(C))), int64:int64])[int64:int64], TensorConstant{(1, 1) of 0.25}, join(TensorConstant{0}, C[ScalarFromTensor(Elemwise{Composite{(-(i0 % i1))}}[(0, 1)](TensorConstant{-2}, Shape_i{1}(C))), int64:], C[ScalarFromTensor(Elemwise{Composite{(-(i0 % i1))}}[(0, 1)](TensorConstant{-2}, Shape_i{1}(C))), int64:int64])[int64:int64])'"
      ]
     },
     "execution_count": 70,
     "metadata": {
     },
     "output_type": "execute_result"
    }
   ],
   "source": [
    "pp(R2a_.maker.fgraph.outputs[0])"
   ]
  },
  {
   "cell_type": "code",
   "execution_count": 71,
   "metadata": {
    "collapsed": false
   },
   "outputs": [
   ],
   "source": [
    "R3a=fun(hbar_s,mu_v,C)(stack([debound(clone(theano_code(r3),ro,strict=False))]))\n",
    "R3a_=function([hbar_s,mu_v,C],R3a(hbar_s,mu_v,C))"
   ]
  },
  {
   "cell_type": "code",
   "execution_count": 72,
   "metadata": {
    "collapsed": false
   },
   "outputs": [
    {
     "data": {
      "text/plain": [
       "'Elemwise{Composite{(i0 * i1 * i2 * ((inv(sqr((i3 - i4))) * (inv((i5 - i3)) + inv((i4 - i6)) + (i7 * inv((i3 - i4))))) + (i8 * inv(sqr((i4 - i6))) * (inv((i3 - i4)) + inv((i6 - i9)) + (i7 * inv((i4 - i6)))))))}}[(0, 3)](TensorConstant{(1, 1) of 0.25}, sqr(hbar), inv(mu[Constant{0}]), join(TensorConstant{0}, C[ScalarFromTensor(Elemwise{Composite{(-(i0 % i1))}}(TensorConstant{-1}, Shape_i{1}(C))), int64:], C[ScalarFromTensor(Elemwise{Composite{(-(i0 % i1))}}(TensorConstant{-1}, Shape_i{1}(C))), int64:int64])[int64:int64], C[Constant{-2}, int64:int64], join(TensorConstant{0}, C[ScalarFromTensor(Elemwise{Composite{(-(i0 % i1))}}(TensorConstant{-2}, Shape_i{1}(C))), int64:], C[ScalarFromTensor(Elemwise{Composite{(-(i0 % i1))}}(TensorConstant{-2}, Shape_i{1}(C))), int64:int64])[int64:int64], join(TensorConstant{0}, C[ScalarFromTensor(Elemwise{Composite{(-(i0 % i1))}}(TensorConstant{1}, Shape_i{1}(C))), int64:], C[ScalarFromTensor(Elemwise{Composite{(-(i0 % i1))}}(TensorConstant{1}, Shape_i{1}(C))), int64:int64])[int64:int64], TensorConstant{(1, 1) of -2.0}, TensorConstant{(1, 1) of -1.0}, join(TensorConstant{0}, C[ScalarFromTensor(Elemwise{Composite{(-(i0 % i1))}}[(0, 1)](TensorConstant{2}, Shape_i{1}(C))), int64:], C[ScalarFromTensor(Elemwise{Composite{(-(i0 % i1))}}[(0, 1)](TensorConstant{2}, Shape_i{1}(C))), int64:int64])[int64:int64])'"
      ]
     },
     "execution_count": 72,
     "metadata": {
     },
     "output_type": "execute_result"
    }
   ],
   "source": [
    "pp(R3a_.maker.fgraph.outputs[0])"
   ]
  },
  {
   "cell_type": "markdown",
   "metadata": {
    "collapsed": false
   },
   "source": [
    "### Simulation ###\n",
    "\n",
    "Using the expressions derived above we can generate efficient numerical functions which we use later in determining the motion of a particle in many worlds simultaneously.\n",
    "\n",
    "We use the discrete difference approximation to Poirier's equations above for a numerical simulation of quantum motion in a small number of ``parallel'' worlds."
   ]
  },
  {
   "cell_type": "markdown",
   "metadata": {
    "collapsed": false
   },
   "source": [
    "#### Classical Potential ####\n",
    "\n",
    "Poirier's problem"
   ]
  },
  {
   "cell_type": "code",
   "execution_count": 73,
   "metadata": {
    "collapsed": false
   },
   "outputs": [
   ],
   "source": [
    "alpha,x0,B0,x=scalars('alpha','x0','B0','x')\n",
    "poirier={alpha:asarray(2.5,config.floatX),x0:asarray(0.0,config.floatX),B0:asarray(0.0024,config.floatX)}"
   ]
  },
  {
   "cell_type": "code",
   "execution_count": 74,
   "metadata": {
    "collapsed": false
   },
   "outputs": [
   ],
   "source": [
    "# symbolic\n",
    "V = fun(x) (clone(B0 / cosh(alpha * (x-x0))**2, poirier))"
   ]
  },
  {
   "cell_type": "code",
   "execution_count": 75,
   "metadata": {
    "collapsed": false
   },
   "outputs": [
   ],
   "source": [
    "xv=vector('xv')\n",
    "V_ = function([xv],V(xv))"
   ]
  },
  {
   "cell_type": "code",
   "execution_count": 76,
   "metadata": {
    "collapsed": false,
    "scrolled": true
   },
   "outputs": [
    {
     "data": {
      "image/png": "[encoded data removed]"
     },
     "execution_count": 76,
     "metadata": {
     },
     "output_type": "execute_result"
    }
   ],
   "source": [
    "plot(arange(-3,3,0.01,config.floatX), V_(arange(-3,3,0.01,config.floatX)))\n",
    "title('Classical Potential')\n",
    "show()"
   ]
  },
  {
   "cell_type": "markdown",
   "metadata": {
    "collapsed": false
   },
   "source": [
    "#### Classical Force ####"
   ]
  },
  {
   "cell_type": "code",
   "execution_count": 77,
   "metadata": {
    "collapsed": false
   },
   "outputs": [
   ],
   "source": [
    "# symbolic gradient\n",
    "Fx = fun(x) (-grad(V(x),x))"
   ]
  },
  {
   "cell_type": "code",
   "execution_count": 78,
   "metadata": {
    "collapsed": false
   },
   "outputs": [
   ],
   "source": [
    "Fx_ = function([xv],Fx(xv))"
   ]
  },
  {
   "cell_type": "code",
   "execution_count": 79,
   "metadata": {
    "collapsed": false
   },
   "outputs": [
    {
     "data": {
      "image/png": "[encoded data removed]"
     },
     "execution_count": 79,
     "metadata": {
     },
     "output_type": "execute_result"
    }
   ],
   "source": [
    "plot(arange(-3,3,0.01,config.floatX), Fx_(arange(-3,3,0.01,config.floatX)))\n",
    "title('Classical Force')\n",
    "xlabel('distance'); ylabel('force')\n",
    "show()"
   ]
  },
  {
   "cell_type": "code",
   "execution_count": 80,
   "metadata": {
    "collapsed": false
   },
   "outputs": [
   ],
   "source": [
    "D_ = function([C],debound(1/J(C).determinant()))"
   ]
  },
  {
   "cell_type": "markdown",
   "metadata": {
    "collapsed": false
   },
   "source": [
    "### Initial Data ###\n",
    "\n",
    "In order to compute the quantum force on the particles in world $n$ we introduce four widely separated fictitious particles in worlds to the left and right to represent open boundary conditions."
   ]
  },
  {
   "cell_type": "markdown",
   "metadata": {
    "collapsed": false
   },
   "source": [
    "For example consider the spatial distribution of a Gaussian ensemble of one particle in  $N$ \"parallel\" worlds."
   ]
  },
  {
   "cell_type": "code",
   "execution_count": 81,
   "metadata": {
    "collapsed": false
   },
   "outputs": [
   ],
   "source": [
    "N = 1000"
   ]
  },
  {
   "cell_type": "markdown",
   "metadata": {
    "collapsed": false
   },
   "source": [
    "#### Spatial Distribution\n",
    "\n",
    "For example consider the spatial distribution of a Gaussian ensemble of one particle in  $N$ ``parallel'' worlds. Everything is in atomic units below, so $\\hbar=1$."
   ]
  },
  {
   "cell_type": "code",
   "execution_count": 82,
   "metadata": {
    "collapsed": false
   },
   "outputs": [
    {
     "data": {
      "text/latex": [
       "$$\\frac{\\alpha^{0.5}}{\\pi^{0.5}} e^{- \\alpha \\left(x - x_{0}\\right)^{2}}$$"
      ]
     },
     "execution_count": 82,
     "metadata": {
     },
     "output_type": "execute_result"
    }
   ],
   "source": [
    "from sympy import Abs, Symbol,pi as Pi, I, exp as Exp, integrate, oo, solve, Eq\n",
    "x = Symbol(\"x\", real=True)\n",
    "alpha = Symbol(\"alpha\", positive=True)\n",
    "x0 = Symbol(\"x0\", real=True)\n",
    "m = Symbol(\"m\", real=True)\n",
    "v = Symbol(\"v\", real=True)\n",
    "x1 = Symbol(\"x1\", real=True)\n",
    "y1 = Symbol(\"y1\", real=True)\n",
    "model1={m:2000,alpha:0.70,v:0.00164317,x0:-7.0}\n",
    "Wx=Abs((alpha/Pi)**(1/4)*Exp(-(alpha/2)*(x-x0)**2)*Exp(I*m*v*x))**2\n",
    "Wx"
   ]
  },
  {
   "cell_type": "code",
   "execution_count": 83,
   "metadata": {
    "collapsed": false
   },
   "outputs": [
    {
     "data": {
      "text/latex": [
       "$$\\frac{0.836660026534076}{\\pi^{0.5}} e^{- 0.7 \\left(x + 7.0\\right)^{2}}$$"
      ]
     },
     "execution_count": 83,
     "metadata": {
     },
     "output_type": "execute_result"
    }
   ],
   "source": [
    "Wx.subs(model1)"
   ]
  },
  {
   "cell_type": "code",
   "execution_count": 84,
   "metadata": {
    "collapsed": false
   },
   "outputs": [
   ],
   "source": [
    "W=theano_function([x],[Wx.subs(model1)], dims={x: 1}, dtypes={x: config.floatX})"
   ]
  },
  {
   "cell_type": "markdown",
   "metadata": {
    "collapsed": false
   },
   "source": [
    "We may compute a uniform mapping into this distribution by inverting the cummulative distribution."
   ]
  },
  {
   "cell_type": "code",
   "execution_count": 85,
   "metadata": {
    "collapsed": false
   },
   "outputs": [
    {
     "data": {
      "text/latex": [
       "$$\\frac{1}{2} \\operatorname{erf}{\\left (\\sqrt{\\alpha} \\left(- x_{0} + x_{1}\\right) \\right )} + \\frac{1}{2}$$"
      ]
     },
     "execution_count": 85,
     "metadata": {
     },
     "output_type": "execute_result"
    }
   ],
   "source": [
    "cumWx = integrate(Wx,(x,-oo,x1)); cumWx"
   ]
  },
  {
   "cell_type": "code",
   "execution_count": 86,
   "metadata": {
    "collapsed": false
   },
   "outputs": [
    {
     "data": {
      "text/latex": [
       "$$x_{0} - \\frac{1}{\\sqrt{\\alpha}} \\operatorname{erfinv}{\\left (- 2 y_{1} + 1 \\right )}$$"
      ]
     },
     "execution_count": 86,
     "metadata": {
     },
     "output_type": "execute_result"
    }
   ],
   "source": [
    "erfinv0=solve(Eq(y1,cumWx),x1)[0]\n",
    "erfinv0"
   ]
  },
  {
   "cell_type": "code",
   "execution_count": 87,
   "metadata": {
    "collapsed": false
   },
   "outputs": [
    {
     "data": {
      "text/latex": [
       "$$- 1.19522860933439 \\operatorname{erfinv}{\\left (- 2 y_{1} + 1 \\right )} - 7.0$$"
      ]
     },
     "execution_count": 87,
     "metadata": {
     },
     "output_type": "execute_result"
    }
   ],
   "source": [
    "erfinv0.subs(model1)"
   ]
  },
  {
   "cell_type": "code",
   "execution_count": 88,
   "metadata": {
    "collapsed": false
   },
   "outputs": [
   ],
   "source": [
    "erfinv1=theano_function([y1],[erfinv0.subs(model1)], dims={y1: 1}, dtypes={y1: config.floatX})"
   ]
  },
  {
   "cell_type": "code",
   "execution_count": 89,
   "metadata": {
    "collapsed": false
   },
   "outputs": [
   ],
   "source": [
    "b0 = erfinv1(grid(1,N+2*B)[0]); b0 *= 1.0e12; b0[1:-1] *= 1.0e-6; b0[2:-2] *= 1.0e-6"
   ]
  },
  {
   "cell_type": "markdown",
   "metadata": {
    "collapsed": false
   },
   "source": [
    "After adding the open boundary conditions, we can check the accuracy by comparing the discrete representation to the original distribution."
   ]
  },
  {
   "cell_type": "code",
   "execution_count": 90,
   "metadata": {
    "collapsed": false
   },
   "outputs": [
   ],
   "source": [
    "p0 = debound(b0)"
   ]
  },
  {
   "cell_type": "code",
   "execution_count": 91,
   "metadata": {
    "collapsed": false,
    "scrolled": true
   },
   "outputs": [
    {
     "data": {
      "image/png": "[encoded data removed]"
     },
     "execution_count": 91,
     "metadata": {
     },
     "output_type": "execute_result"
    }
   ],
   "source": [
    "figure(figsize=(10,5))\n",
    "plot(p0, debound(1.0/N/d(-1,b0,0).eval()), color='red',label='discrete')\n",
    "plot(p0, W(p0), color='blue',label='continuous')\n",
    "legend()\n",
    "title('Probablity Density')\n",
    "xlabel('location'); ylabel('density')\n",
    "show()"
   ]
  },
  {
   "cell_type": "markdown",
   "metadata": {
    "collapsed": false
   },
   "source": [
    "#### Distribution of Velocity ####\n",
    "The particles have an identical initial velocity in each world of"
   ]
  },
  {
   "cell_type": "code",
   "execution_count": 92,
   "metadata": {
    "collapsed": false
   },
   "outputs": [
    {
     "data": {
      "text/plain": [
       "array([ 0.        ,  0.        ,  0.00164317, ...,  0.00164317,\n",
       "        0.        ,  0.        ])"
      ]
     },
     "execution_count": 92,
     "metadata": {
     },
     "output_type": "execute_result"
    }
   ],
   "source": [
    "v0=boundary0(full(N,v.subs(model1),config.floatX)).eval(); v0"
   ]
  },
  {
   "cell_type": "code",
   "execution_count": 93,
   "metadata": {
    "collapsed": false
   },
   "outputs": [
    {
     "data": {
      "image/png": "[encoded data removed]"
     },
     "execution_count": 93,
     "metadata": {
     },
     "output_type": "execute_result"
    }
   ],
   "source": [
    "figure(figsize=(10,5))\n",
    "plot(p0, Q_(1,[1],[b0]), color='red')\n",
    "plot(p0, W(p0), color='blue')\n",
    "show()"
   ]
  },
  {
   "cell_type": "code",
   "execution_count": 94,
   "metadata": {
    "collapsed": false
   },
   "outputs": [
    {
     "data": {
      "image/png": "[encoded data removed]"
     },
     "execution_count": 94,
     "metadata": {
     },
     "output_type": "execute_result"
    }
   ],
   "source": [
    "figure(figsize=(10,5))\n",
    "plot(p0, Q2_(1,[1],[b0]), color='red')\n",
    "plot(p0, W(p0), color='blue')\n",
    "show()"
   ]
  },
  {
   "cell_type": "code",
   "execution_count": 95,
   "metadata": {
    "collapsed": false
   },
   "outputs": [
    {
     "data": {
      "image/png": "[encoded data removed]"
     },
     "execution_count": 95,
     "metadata": {
     },
     "output_type": "execute_result"
    }
   ],
   "source": [
    "figure(figsize=(10,5))\n",
    "plot(p0, R_(1,[1],[b0])[0], color='red')\n",
    "plot(p0, W(p0), color='blue')\n",
    "show()"
   ]
  },
  {
   "cell_type": "code",
   "execution_count": 96,
   "metadata": {
    "collapsed": false
   },
   "outputs": [
    {
     "data": {
      "image/png": "[encoded data removed]"
     },
     "execution_count": 96,
     "metadata": {
     },
     "output_type": "execute_result"
    }
   ],
   "source": [
    "figure(figsize=(10,5))\n",
    "plot(p0, R3a_(1,[1],[b0])[0], color='red')\n",
    "plot(p0, W(p0), color='blue')\n",
    "show()"
   ]
  },
  {
   "cell_type": "markdown",
   "metadata": {
    "collapsed": false
   },
   "source": [
    "#### Acceleration ####"
   ]
  },
  {
   "cell_type": "code",
   "execution_count": 97,
   "metadata": {
    "collapsed": false
   },
   "outputs": [
   ],
   "source": [
    "def A(hbar,mu,x):\n",
    "    #debound(clone(theano_code(r2),ro,strict=False))\n",
    "    return boundary0((1/mu[0])*(Fx(x[B:-B]) + R2a(hbar,mu,stack([x]))[0]))"
   ]
  },
  {
   "cell_type": "markdown",
   "metadata": {
    "collapsed": false
   },
   "source": [
    "#### Step Size Controller ####\n",
    "Continuous integrating step size controller \\cite{hairer2005}"
   ]
  },
  {
   "cell_type": "code",
   "execution_count": 98,
   "metadata": {
    "collapsed": false
   },
   "outputs": [
   ],
   "source": [
    "def G(a,v):\n",
    "    alpha = 7.0 # 0.05 # sensitivity\n",
    "    eps = 1e-12\n",
    "    g1 = sum(a*v)\n",
    "    g2 = sum(v*v)\n",
    "    return switch(eq(g2,0),1/eps,-alpha*g1/g2)"
   ]
  },
  {
   "cell_type": "markdown",
   "metadata": {
    "collapsed": false
   },
   "source": [
    "#### Integration ####\n",
    "Integrate using the Störmer–Verlet algorithm with adaptive step size."
   ]
  },
  {
   "cell_type": "code",
   "execution_count": 99,
   "metadata": {
    "collapsed": false
   },
   "outputs": [
   ],
   "source": [
    "mu = array([2000.0])  # mass\n",
    "hbar = 1.0  # Planck's constant"
   ]
  },
  {
   "cell_type": "code",
   "execution_count": 100,
   "metadata": {
    "collapsed": false
   },
   "outputs": [
   ],
   "source": [
    "rho = shared(asarray(1.0, config.floatX))\n",
    "ds = scalar()\n",
    "dt = ds/rho\n",
    "t = shared(asarray(0.0, config.floatX))\n",
    "x = shared(b0)"
   ]
  },
  {
   "cell_type": "code",
   "execution_count": 101,
   "metadata": {
    "collapsed": false
   },
   "outputs": [
   ],
   "source": [
    "a0 = A(hbar,mu,x).eval()"
   ]
  },
  {
   "cell_type": "code",
   "execution_count": 102,
   "metadata": {
    "collapsed": false,
    "scrolled": true
   },
   "outputs": [
   ],
   "source": [
    "a = shared(a0)\n",
    "v = shared(v0)\n",
    "x_new = x+v*dt+0.5*a*dt**2\n",
    "a_new = A(hbar,mu,x_new)\n",
    "v_new = v+0.5*a*dt+0.5*a_new*dt"
   ]
  },
  {
   "cell_type": "code",
   "execution_count": 103,
   "metadata": {
    "collapsed": false
   },
   "outputs": [
   ],
   "source": [
    "VerletStep = function([ds],t, updates=[\n",
    "    (rho, rho + G(a,v)*dt ),\n",
    "    (x, x_new ),\n",
    "    (v, v_new ),\n",
    "    (a, a_new ),\n",
    "    (t, t + dt)\n",
    "],allow_input_downcast=True)"
   ]
  },
  {
   "cell_type": "markdown",
   "metadata": {
    "collapsed": false
   },
   "source": [
    "#### Energy ####"
   ]
  },
  {
   "cell_type": "code",
   "execution_count": 104,
   "metadata": {
    "collapsed": false
   },
   "outputs": [
   ],
   "source": [
    "KU1 = 0.5*mu[0]*sum(v[B:-B]*v[B:-B])  # total kinetic energy\n",
    "PU1 = sum(V(x[B:-B]))             # total classical potential\n",
    "QU1 = sum(Q2a(hbar,mu,stack([x])))            # total quantum potential\n",
    "E_ = function([],[KU1,PU1,QU1])"
   ]
  },
  {
   "cell_type": "code",
   "execution_count": 105,
   "metadata": {
    "collapsed": false
   },
   "outputs": [
    {
     "data": {
      "text/plain": [
       "[array(2.7000076489000384),\n",
       " array(4.054034296676624e-12),\n",
       " array(0.09740858323600818)]"
      ]
     },
     "execution_count": 105,
     "metadata": {
     },
     "output_type": "execute_result"
    }
   ],
   "source": [
    "E_()"
   ]
  },
  {
   "cell_type": "code",
   "execution_count": 106,
   "metadata": {
    "collapsed": false
   },
   "outputs": [
   ],
   "source": [
    "t_start = 0.0; t_end = 10000.0;\n",
    "\n",
    "t_samples = 100; x_samples = 100\n",
    "t_sample = t_end/t_samples\n",
    "x_sample = __builtin__.max(1,int(N)//int(x_samples))\n",
    "x_start = __builtin__.max(0,int(N-x_samples*x_sample)//int(2))+B\n",
    "XS = array(range(x_start,N-x_start-1,x_sample))\n",
    "\n",
    "ds0 = 0.008 # N=1000 # initial step size\n",
    "#ds0 = 0.01 # N=1000 # initial step size\n",
    "#ds0 =  0.00008 # 0.0000001 # N=10000\n",
    "#ds0 =  0.0000008 # 0.0000001 # N=100000\n",
    "dsn = 1 # initial step size divider"
   ]
  },
  {
   "cell_type": "code",
   "execution_count": 107,
   "metadata": {
    "collapsed": false,
    "scrolled": true
   },
   "outputs": [
    {
     "name": "stdout",
     "output_type": "stream",
     "text": [
      "t = 0.0 t1 = 100.0 rho = 1.0 E1 = 2.79741623214\n",
      "t = 100.001302033 t1 = 200.001302033 rho = 0.995021028152 E1 = 2.79741623205\n",
      "t = 200.005638123 t1 = 300.005638123 rho = 0.993985059687 E1 = 2.79741623207\n",
      "t = 300.012051101 t1 = 400.012051101 rho = 0.992806936116 E1 = 2.79741623205\n",
      "t = 400.018628702 t1 = 500.018628702 rho = 0.992120214765 E1 = 2.79741623205\n",
      "t = 500.023227097 t1 = 600.023227097 rho = 0.990843978025 E1 = 2.79741623207\n",
      "t = 600.024350035 t1 = 700.024350035 rho = 0.988037924705 E1 = 2.79741623206\n",
      "t = 700.027961612 t1 = 800.027961612 rho = 0.987581663028 E1 = 2.79741623206\n",
      "t = 800.035386228 t1 = 900.035386228 rho = 0.984509670931 E1 = 2.79741623207\n",
      "t = 900.041755617 t1 = 1000.04175562 rho = 0.981871628562 E1 = 2.79741623207\n",
      "t = 1000.04979526 t1 = 1100.04979526 rho = 0.980492548922 E1 = 2.79741623207\n",
      "t = 1100.05347135 t1 = 1200.05347135 rho = 0.978498355869 E1 = 2.79741623208\n",
      "t = 1200.0610726 t1 = 1300.0610726 rho = 0.975018316223 E1 = 2.79741623207\n",
      "t = 1300.06116912 t1 = 1400.06116912 rho = 0.972575904981 E1 = 2.79741623207\n",
      "t = 1400.06633042 t1 = 1500.06633042 rho = 0.969290845911 E1 = 2.79741623207\n",
      "t = 1500.06671907 t1 = 1600.06671907 rho = 0.966441846618 E1 = 2.79741623208\n",
      "t = 1600.07420789 t1 = 1700.07420789 rho = 0.964335436242 E1 = 2.79741623208\n",
      "t = 1700.07844518 t1 = 1800.07844518 rho = 0.962584067454 E1 = 2.79741623208\n",
      "t = 1800.08593929 t1 = 1900.08593929 rho = 0.961069088393 E1 = 2.79741623208\n",
      "t = 1900.09291593 t1 = 2000.09291593 rho = 0.960289674782 E1 = 2.79741623208\n",
      "t = 2000.09378912 t1 = 2100.09378912 rho = 0.959054584204 E1 = 2.79741623208\n",
      "t = 2100.10070076 t1 = 2200.10070076 rho = 0.959341413555 E1 = 2.79741623208\n",
      "t = 2200.10730492 t1 = 2300.10730492 rho = 0.960289731822 E1 = 2.79741623207\n",
      "t = 2300.11488524 t1 = 2400.11488524 rho = 0.964101212056 E1 = 2.79741623207\n",
      "t = 2400.12133519 t1 = 2500.12133519 rho = 0.972208457903 E1 = 2.79741623207\n",
      "t = 2500.12541836 t1 = 2600.12541836 rho = 0.986837090649 E1 = 2.79741623208\n",
      "t = 2600.12701088 t1 = 2700.12701088 rho = 1.00492427195 E1 = 2.79741623208\n",
      "t = 2700.12949061 t1 = 2800.12949061 rho = 1.02779005773 E1 = 2.79741623207\n",
      "t = 2800.13309316 t1 = 2900.13309316 rho = 1.05812351404 E1 = 2.79741623207\n",
      "t = 2900.13391629 t1 = 3000.13391629 rho = 1.09385023567 E1 = 2.79741623207\n",
      "t = 3000.13990491 t1 = 3100.13990491 rho = 1.13905373678 E1 = 2.79741623207\n",
      "t = 3100.14195229 t1 = 3200.14195229 rho = 1.19768497579 E1 = 2.79741623207\n",
      "t = 3200.14330086 t1 = 3300.14330086 rho = 1.26623913851 E1 = 2.79741623207\n",
      "t = 3300.14750461 t1 = 3400.14750461 rho = 1.34464838166 E1 = 2.79741623207\n",
      "t = 3400.14940086 t1 = 3500.14940086 rho = 1.4273732816 E1 = 2.79741623206\n",
      "t = 3500.15428013 t1 = 3600.15428013 rho = 1.52016206703 E1 = 2.79741623206\n",
      "t = 3600.15720155 t1 = 3700.15720155 rho = 1.62256199043 E1 = 2.79741623206\n",
      "t = 3700.16182576 t1 = 3800.16182576 rho = 1.7131862052 E1 = 2.79741623206\n",
      "t = 3800.16368134 t1 = 3900.16368134 rho = 1.80008189341 E1 = 2.79741623206\n",
      "t = 3900.16591099 t1 = 4000.16591099 rho = 1.88437372584 E1 = 2.79741623205\n",
      "t = 4000.16999515 t1 = 4100.16999515 rho = 1.95384382396 E1 = 2.79741623205\n",
      "t = 4100.17336052 t1 = 4200.17336052 rho = 2.02434256231 E1 = 2.79741623205\n",
      "t = 4200.17697699 t1 = 4300.17697699 rho = 2.08363820091 E1 = 2.79741623204\n",
      "t = 4300.17934021 t1 = 4400.17934021 rho = 2.13221855318 E1 = 2.79741623204\n",
      "t = 4400.1814814 t1 = 4500.1814814 rho = 2.16615761983 E1 = 2.79741623203\n",
      "t = 4500.18173018 t1 = 4600.18173018 rho = 2.19441674799 E1 = 2.79741623202\n",
      "t = 4600.18278432 t1 = 4700.18278432 rho = 2.21622599993 E1 = 2.797416232\n",
      "t = 4700.18373798 t1 = 4800.18373798 rho = 2.23347379309 E1 = 2.79741623191\n",
      "t = 4800.18571924 t1 = 4900.18571924 rho = 2.22955070949 E1 = 2.7974162312\n",
      "t = 4900.18595879 t1 = 5000.18595879 rho = 2.19819266543 E1 = 2.7974162251\n",
      "t = 5000.18665357 t1 = 5100.18665357 rho = 2.12645986089 E1 = 2.7974162178\n",
      "t = 5100.18821595 t1 = 5200.18821595 rho = 2.0176674387 E1 = 2.79741621149\n",
      "t = 5200.19184346 t1 = 5300.19184346 rho = 1.9489760376 E1 = 2.79741620191\n",
      "t = 5300.19193919 t1 = 5400.19193919 rho = 1.84048227515 E1 = 2.79741618628\n",
      "t = 5400.19439477 t1 = 5500.19439477 rho = 1.72994731683 E1 = 2.79741617325\n",
      "t = 5500.19882983 t1 = 5600.19882983 rho = 1.68319284265 E1 = 2.79741616489\n",
      "t = 5600.20225431 t1 = 5700.20225431 rho = 1.59379565016 E1 = 2.79741616097\n",
      "t = 5700.20235362 t1 = 5800.20235362 rho = 1.51918490537 E1 = 2.79741617097\n",
      "t = 5800.2028702 t1 = 5900.2028702 rho = 1.45568112315 E1 = 2.79741614259\n",
      "t = 5900.20565361 t1 = 6000.20565361 rho = 1.39021119617 E1 = 2.79741611899\n",
      "t = 6000.20905702 t1 = 6100.20905702 rho = 1.36050082326 E1 = 2.79741615682\n",
      "t = 6100.20971223 t1 = 6200.20971223 rho = 1.31752458268 E1 = 2.79741614782\n",
      "t = 6200.21522658 t1 = 6300.21522658 rho = 1.26002209976 E1 = 2.79741609435\n",
      "t = 6300.21988204 t1 = 6400.21988204 rho = 1.22842159198 E1 = 2.79741610512\n",
      "t = 6400.2236875 t1 = 6500.2236875 rho = 1.18714447576 E1 = 2.79741605175\n",
      "t = 6500.22629172 t1 = 6600.22629172 rho = 1.1629581376 E1 = 2.79741605632\n",
      "t = 6600.23142662 t1 = 6700.23142662 rho = 1.14080027256 E1 = 2.79741601276\n",
      "t = 6700.23704675 t1 = 6800.23704675 rho = 1.12871021341 E1 = 2.79741598352\n",
      "t = 6800.24338195 t1 = 6900.24338195 rho = 1.10644251219 E1 = 2.79741606409\n",
      "t = 6900.24648963 t1 = 7000.24648963 rho = 1.08835435347 E1 = 2.79741591691\n",
      "t = 7000.25184058 t1 = 7100.25184058 rho = 1.07741973159 E1 = 2.7974158783\n",
      "t = 7100.25613323 t1 = 7200.25613323 rho = 1.05773990809 E1 = 2.79741603723\n",
      "t = 7200.25871099 t1 = 7300.25871099 rho = 1.04872327421 E1 = 2.79741603359\n",
      "t = 7300.26527574 t1 = 7400.26527574 rho = 1.03996390863 E1 = 2.7974158466\n",
      "t = 7400.27108628 t1 = 7500.27108628 rho = 1.02766528908 E1 = 2.79741599303\n",
      "t = 7500.27463062 t1 = 7600.27463062 rho = 1.01040821803 E1 = 2.79741598242\n",
      "t = 7600.28115395 t1 = 7700.28115395 rho = 1.00807355899 E1 = 2.79741602572\n",
      "t = 7700.28442315 t1 = 7800.28442315 rho = 0.994715809858 E1 = 2.79741595602\n",
      "t = 7800.28666199 t1 = 7900.28666199 rho = 0.99582459736 E1 = 2.79741586993\n",
      "t = 7900.2903171 t1 = 8000.2903171 rho = 0.984293764118 E1 = 2.79741598978\n",
      "t = 8000.29633411 t1 = 8100.29633411 rho = 0.980770541355 E1 = 2.79741607929\n",
      "t = 8100.30034402 t1 = 8200.30034402 rho = 0.974900309748 E1 = 2.79741600256\n",
      "t = 8200.30719661 t1 = 8300.30719661 rho = 0.974381746902 E1 = 2.79741600784\n",
      "t = 8300.31245906 t1 = 8400.31245906 rho = 0.968253716841 E1 = 2.79741605813\n",
      "t = 8400.31661325 t1 = 8500.31661325 rho = 0.964550020745 E1 = 2.7974161803\n",
      "t = 8500.31998898 t1 = 8600.31998898 rho = 0.959085993737 E1 = 2.79741600887\n",
      "t = 8600.32071354 t1 = 8700.32071354 rho = 0.958623873326 E1 = 2.79741612529\n",
      "t = 8700.32264359 t1 = 8800.32264359 rho = 0.953381582605 E1 = 2.79741603157\n",
      "t = 8800.32414299 t1 = 8900.32414299 rho = 0.951211545546 E1 = 2.79741624874\n",
      "t = 8900.32824501 t1 = 9000.32824501 rho = 0.944790619801 E1 = 2.79741619638\n",
      "t = 9000.32882401 t1 = 9100.32882401 rho = 0.939813534497 E1 = 2.79741619464\n",
      "t = 9100.33348926 t1 = 9200.33348926 rho = 0.942482032048 E1 = 2.7974160647\n",
      "t = 9200.34190458 t1 = 9300.34190458 rho = 0.937771042633 E1 = 2.79741620276\n",
      "t = 9300.35040804 t1 = 9400.35040804 rho = 0.940203324537 E1 = 2.79741633017\n",
      "t = 9400.35484881 t1 = 9500.35484881 rho = 0.934901632142 E1 = 2.79741622724\n",
      "t = 9500.35851694 t1 = 9600.35851694 rho = 0.933102260151 E1 = 2.79741630465\n",
      "t = 9600.36645973 t1 = 9700.36645973 rho = 0.929813684606 E1 = 2.79741634546\n",
      "t = 9700.37408224 t1 = 9800.37408224 rho = 0.92953302643 E1 = 2.79741626821\n",
      "t = 9800.3810139 t1 = 9900.3810139 rho = 0.928369865369 E1 = 2.79741630406\n",
      "t = 9900.38341524 t1 = 10000.3834152 rho = 0.924605384042 E1 = 2.79741629814\n",
      "t = 10000.386143\n"
     ]
    }
   ],
   "source": [
    "while True:\n",
    "    try: # step size\n",
    "        ds = ds0/dsn\n",
    "        # initial values\n",
    "        rho0 = 1.0\n",
    "        rho.set_value(rho0)\n",
    "        t.set_value(t_start)\n",
    "        x.set_value(b0)\n",
    "        v.set_value(v0)\n",
    "        a.set_value(a0)\n",
    "        # recording\n",
    "        T = [t_start]\n",
    "        Rho = select({t_start:rho.get_value().item()})\n",
    "        XX = select({t_start:x[XS].eval()})\n",
    "        XV = select({t_start:v[XS].eval()})\n",
    "        [KK,PP,QQ] = E_()\n",
    "        E1 = KK+PP+QQ  # total energy\n",
    "        TK = select({t_start:KK})\n",
    "        TP = select({t_start:PP})\n",
    "        TQ = select({t_start:QQ})\n",
    "        E = select({t_start:E1})\n",
    "        \n",
    "        try:\n",
    "            t0 = t_start\n",
    "            while t0<t_end:\n",
    "                t1 = t0 + t_sample\n",
    "                print \"t =\", t0, \"t1 =\",t1,\"rho =\", rho0, \"E1 =\",E1\n",
    "                sys.stdout.flush()\n",
    "                while t0<t1:\n",
    "                    rho0 = rho.get_value().item()\n",
    "                    if rho0 > 100 or rho0 < 0.01:\n",
    "                        raise ValueError(\"Step control failed at %s. rho=%s\"%(t0,rho0))\n",
    "                    t0 = VerletStep(ds).item()\n",
    "                # Check no-crossing\n",
    "                if min(x[B+1:-B]-x[B:-B-1]).eval()<0:\n",
    "                    raise ValueError(\"crossing at %s\",t)\n",
    "                # Check total energy conservation\n",
    "                [KK,PP,QQ] = E_()\n",
    "                E2 = KK+PP+QQ\n",
    "                if abs(E1-E2)>0.5:\n",
    "                    raise ValueError(\n",
    "                        \"Energy conservation bound failed at %s. Delta E:\"\\\n",
    "                        \"|%s| > 0.5.\"%(t0,E1-E2))\n",
    "                E1 = E2\n",
    "                T += [t0]; XX[t0] = x[XS].eval(); XV[t0] = v[XS].eval()\n",
    "                Rho[t0] = rho.get_value().item(); TK[t0] = KK; TP[t0] = PP; TQ[t0] = QQ; E[t0] = E1\n",
    "                #t0 = t.get_value().item()\n",
    "        except KeyboardInterrupt:\n",
    "            print \"Interrupted at %s ...\"%(t0)\n",
    "            T += [t0]; XX[t0] = x[XS].eval(); XV[t0] = v[XS].eval()\n",
    "            Rho[t0] = rho.get_value().item(); TK[t0] = KK; TP[t0] = PP; TQ[t0] = QQ; E[t0] = E1\n",
    "        tmax = t0\n",
    "        break\n",
    "    except ValueError as msg:\n",
    "        print msg\n",
    "        dsn = dsn + 1\n",
    "        print \"Trying a shorter initial step size: %s.\"%(ds0/dsn)\n",
    "        #continue\n",
    "T=array(T)\n",
    "print \"t =\", tmax"
   ]
  },
  {
   "cell_type": "markdown",
   "metadata": {
    "collapsed": false
   },
   "source": [
    "Step Density"
   ]
  },
  {
   "cell_type": "code",
   "execution_count": 108,
   "metadata": {
    "collapsed": false
   },
   "outputs": [
    {
     "data": {
      "image/png": "[encoded data removed]"
     },
     "execution_count": 108,
     "metadata": {
     },
     "output_type": "execute_result"
    }
   ],
   "source": [
    "figure(figsize=(10,5))\n",
    "plot(T, Rho[T])\n",
    "title('Step Density')\n",
    "xlabel('time'); ylabel('rho')\n",
    "show()"
   ]
  },
  {
   "cell_type": "markdown",
   "metadata": {
    "collapsed": false
   },
   "source": [
    "#### Quantum Potential, Classical Potential and Kinetic Energy ####"
   ]
  },
  {
   "cell_type": "code",
   "execution_count": 109,
   "metadata": {
    "collapsed": false
   },
   "outputs": [
    {
     "data": {
      "image/png": "[encoded data removed]"
     },
     "execution_count": 109,
     "metadata": {
     },
     "output_type": "execute_result"
    }
   ],
   "source": [
    "figure(figsize=(10,5))\n",
    "plot(T, TK[T],color='green',label='kinetic')\n",
    "plot(T, TQ[T],color='red',label='quantum potential')\n",
    "plot(T, TP[T],color='blue',label='classical potential')\n",
    "legend()\n",
    "title('Total Energy')\n",
    "xlabel('time'); ylabel('energy')\n",
    "show()"
   ]
  },
  {
   "cell_type": "markdown",
   "metadata": {
    "collapsed": false
   },
   "source": [
    "#### Energy Conservation ####"
   ]
  },
  {
   "cell_type": "code",
   "execution_count": 110,
   "metadata": {
    "collapsed": false
   },
   "outputs": [
    {
     "data": {
      "image/png": "[encoded data removed]"
     },
     "execution_count": 110,
     "metadata": {
     },
     "output_type": "execute_result"
    }
   ],
   "source": [
    "plot(T, E[T],color='black')\n",
    "title('Energy Conservation')\n",
    "xlabel('time'); ylabel('energy')\n",
    "show()"
   ]
  },
  {
   "cell_type": "markdown",
   "metadata": {
    "collapsed": false
   },
   "source": [
    "#### Trajectories ####\n",
    "The trajectory of the particle in each world is shown below.  Notice how the trajectories do not cross, yet in some worlds the particle is scattered from the barrier while in others the particle tunnels across the barrier \"pushed\" by its counterpart in other worlds."
   ]
  },
  {
   "cell_type": "code",
   "execution_count": 111,
   "metadata": {
    "collapsed": false
   },
   "outputs": [
    {
     "data": {
      "image/png": "[encoded data removed]"
     },
     "execution_count": 111,
     "metadata": {
     },
     "output_type": "execute_result"
    }
   ],
   "source": [
    "figure(figsize=(20,10))\n",
    "plot(T, mean(XX[T],1), color='black',label='average',linewidth=2)\n",
    "line_color = Spectral(linspace(0,1,len(XS)))\n",
    "for i in range(len(XS)):\n",
    "    plot(T, XX[T][:,i],color=line_color[i],alpha=0.5)\n",
    "legend()\n",
    "title('Trajectories')\n",
    "xlabel('time'); ylabel('location')\n",
    "show()"
   ]
  },
  {
   "cell_type": "markdown",
   "metadata": {
    "collapsed": false
   },
   "source": [
    "#### Final Distribution ####\n",
    "The distribution at the end of the simulation shows the reflected and transmitted \"wave packets\" separating from each other."
   ]
  },
  {
   "cell_type": "code",
   "execution_count": 112,
   "metadata": {
    "collapsed": false,
    "scrolled": true
   },
   "outputs": [
    {
     "data": {
      "text/html": [
       "<video width=\"720\" height=\"360\" controls autoplay loop>\n",
       "  <source type=\"video/mp4\" src=\"data:video/mp4;base64,AAAAHGZ0eXBNNFYgAAACAGlzb21pc28yYXZjMQAAAAhmcmVlAAELnG1kYXQAAAKuBgX//6rcRem9\n",
       "5tlIt5Ys2CDZI+7veDI2NCAtIGNvcmUgMTQ4IHIyNzQ4IDk3ZWFlZjIgLSBILjI2NC9NUEVHLTQg\n",
       "QVZDIGNvZGVjIC0gQ29weWxlZnQgMjAwMy0yMDE2IC0gaHR0cDovL3d3dy52aWRlb2xhbi5vcmcv\n",
       "eDI2NC5odG1sIC0gb3B0aW9uczogY2FiYWM9MSByZWY9MyBkZWJsb2NrPTE6MDowIGFuYWx5c2U9\n",
       "MHgzOjB4MTEzIG1lPWhleCBzdWJtZT03IHBzeT0xIHBzeV9yZD0xLjAwOjAuMDAgbWl4ZWRfcmVm\n",
       "PTEgbWVfcmFuZ2U9MTYgY2hyb21hX21lPTEgdHJlbGxpcz0xIDh4OGRjdD0xIGNxbT0wIGRlYWR6\n",
       "b25lPTIxLDExIGZhc3RfcHNraXA9MSBjaHJvbWFfcXBfb2Zmc2V0PS0yIHRocmVhZHM9OSBsb29r\n",
       "YWhlYWRfdGhyZWFkcz0xIHNsaWNlZF90aHJlYWRzPTAgbnI9MCBkZWNpbWF0ZT0xIGludGVybGFj\n",
       "ZWQ9MCBibHVyYXlfY29tcGF0PTAgY29uc3RyYWluZWRfaW50cmE9MCBiZnJhbWVzPTMgYl9weXJh\n",
       "bWlkPTIgYl9hZGFwdD0xIGJfYmlhcz0wIGRpcmVjdD0xIHdlaWdodGI9MSBvcGVuX2dvcD0wIHdl\n",
       "aWdodHA9MiBrZXlpbnQ9MjUwIGtleWludF9taW49MTAgc2NlbmVjdXQ9NDAgaW50cmFfcmVmcmVz\n",
       "aD0wIHJjX2xvb2thaGVhZD00MCByYz1jcmYgbWJ0cmVlPTEgY3JmPTIzLjAgcWNvbXA9MC42MCBx\n",
       "cG1pbj0wIHFwbWF4PTY5IHFwc3RlcD00IGlwX3JhdGlvPTEuNDAgYXE9MToxLjAwAIAAAAzOZYiE\n",
       "ABD//veBvzLLXyK6yXH5530srM885DxyXYmuuNAAAAMAAAMAAAMB+8C/gSCcz9Z0IAAAAwNIpHne\n",
       "sZRf3mAT8BMm1K95fl5PkJWL/GH7gLq47a6N79N51JJt9NIMEakqYnGN+r4iLNOH5KzITyAWplLD\n",
       "RRg59sQJBK68uS+lrd4dYAaZktjjM2cEGBXjTKdbmFojFvqfb/9jf9KKxnPJ0kmNPM5P75gtlqd5\n",
       "NEs2Y/6oKVMF8+j5KWr6gdurpG3iUVFm+o+PhFvb5490LVYc6igHQUU2KbuDhYt+xXWYEqP4hkeO\n",
       "8AWs/qhJVt1/MZ6vMWATp0l53yYt8soE9xYDlkW+iJsVmeRyBMzPFYR1ULPxzUBqV6Vp6UyEdH6F\n",
       "fIwrVFUVuhhhMIZEcpKm9cMPCUTvm2xJnfHeMI1+LLpyUFFl72tvDDozd1PIq3xFokpW+Uk2VYbx\n",
       "YQ47e6yqAAkhRfeGCxMLnS4ix2BRgOkfwQt7fS9S6cZ8iRsLwuHT/geg2lK7CBrPFSBVmNPbb16E\n",
       "pM23geR4R5SsdBfkpX6cLzXkKQRogipdOVlBbAmFdCq1NDIs5Fcs/pWcLbK2liwkbJdYjFSYvjXq\n",
       "+WZtHPz7AtO6HvHb5rYwWaxZQ3v6E6leniwErw1cqXvtLqTYVdBO2RuaQ31ORxPki+dQPwadHoWG\n",
       "Ox+oMfRzPRYqdndf7yRLVF/Vy4GEXymaWBGGgcQgfFei01OaOVacP6TL+DiPccymzYYAD8W7kbWE\n",
       "sV58y7PwO2d6uWlJ6mLP1UpFDDl7sgBgaLgCG+yDFA1dc+Fs0ZMC6Z2sZUmCvYEnM9QF5sqCreiV\n",
       "Cbwh/l+TQ1/2fwrKLp7OFYlBb5ABd70xT+hZ6y0PJOlejQWyn79XcMlNnHyuQQHYUTul3LgR1nMV\n",
       "ReV6wHD0iMVmPFKhwbdstuq/E4ki90hdJHnSy2R33nfTPAPrFoaM+wTFSnfw0x8bC4/NRR9OYxBD\n",
       "wYqLzULTPeW2T9yZNy7FoNEVRwaTFx6ROfeN1tHC2g9FEKZs98BohWxb2bSI7oGnJ6DJeMRk9ys4\n",
       "hlYMrWnuU9gt0IjCtheKVFxyxvoY4PLo2v4fxdHdV7qjT0CPDcNHv5dgI/r7fVnQCVuebUr4sAQ3\n",
       "yWHgoL3qcFKNBiBHlYurEq/d96hP0E50IEdhDMf0yAHf17FSm6yLl8kH/D1RH89UuRCcqT3CN8fJ\n",
       "/4nzpXOsjw5+qQ8lzZ5QTmsv1siup3nDAwoJewjHCIwq9AUkGr/NX+P/qYTzavEereDqWKjoymHL\n",
       "WBQIqiJSC30kElXghIQDhl/ZapvuuC3VwWQe944TviOGsBLhwZJ0DM0epzUYbeRD1Vi15UD5OGa/\n",
       "15apkkelSnq7yWhKYonG+kvYRyxej1XoAF+uyjT1gzG9h7xi7j/WXFTrdfrY0MWkW/wKOvI4EGap\n",
       "p5RZNOq7HcQrkLM1xWIrq8qZg4N302eh0rvy/BkROclRjxVX78Gszii88PeOiO2NpXXeY4a2Yi7k\n",
       "YFYWOnijPrMLtyVF3L8CVhQ98emZwXx9nSDdmwouKv2QEDeq9g9xhMNwotRs+Q2KHrFw7mNqBaTL\n",
       "ynPayExHOIQzgJi0FM5NAmSksfV+iEw044szH4az7JCFev3k2HOGAiSawFaLah07Bjc4A/bANiu+\n",
       "/w2uofV1U55gRN5OV4ZMzrdAVJfNEpddm+iajPU0drodl7Kml1WHA3eB4TMOqkF8vR+Q4cmctEyD\n",
       "0TSk6efIYXqKAf/TrycuOq+4a/gQxd//HczZ4WByndPOfzDF58EpudkU+vUjqilSxdgtDHJ7cBrA\n",
       "I/LlCN9KK106rJnO2oaASvCLzcIxFeH3O7FOiz4PaJ3i4jSmw5dVWlgCVr2F97mziSTRSN5C695P\n",
       "li9o/zXGHqJI/QwFPcgHxpcArC5Xmn1NqlERtbB8gq5FFL71oJ1pSoWQtTLY3fuc4R+JZSCm99kz\n",
       "pWXSaBNPh31N4D/Mt9I77vxz0Dz4MQW8Iw5SAQ3UVo6NZqO/QaR31cYHA2zOp4BjStW/NxokCAU7\n",
       "+V2GTNzzByMERwfgzyfpEaYCkzn/lmRWIiRvanrmHlukfkYHusFd8n/nEUagAGU45Jp1NZ1UE+r0\n",
       "Fa0mXJet82hmxySrGfNnmSo2FOOctmXeyjlm/CHKVCA2Z++LuaPswAKdQMTepu8uPguDim6r0bjK\n",
       "T8fD4cp/QZ8kY1uK6DdMQzl1JCfN9X/rfttG488M/dqbNo4SiUBYSmT7fS0DArNwiIfJlaIGoX1Y\n",
       "z4e1tiIZiETWxnba+dtHa9hzkgGdehw2Jod10+Baf877KAv8oZO0yi+AOL25NKZ8UpItfkn2RxnT\n",
       "AGey0V7P/Ymf1X8lgUh25vY6mVMzItR6YlSBncw4lILDKWDseyeedcduKFaM6ssngRfiuGY0/fLW\n",
       "EKk7Box4ABFk5FAY3+x5zdEovmtJTx4SOZ6fK49kpLKx+wLuGtWRGpGS9Jcavz0MaH3/abGsxc/b\n",
       "0ib3EbIAa3yhqqM1WFlQOcA/BRE6wdOv6rXNByF0RiIgYDox3P15DBrbOa3ZiBJbnlVTQxM5Xf9s\n",
       "veMRFXqcwrgK+y1JsvSw6wBvmhM+nekb7ZDGO59ed9NXquR/pIkTWLJX1Ku/xlO/0bIfNOrSr7hS\n",
       "/eVEuBUNoe9AO1LKOLp7U2EtSK7KwXy01SzwybQuRyF2GnMxO9LYLBUDVuO2BnF+p9gtCdJrPoks\n",
       "MwUFCJ5bHcdYknj7EnKXI5JVmWl4SrwyF5KydUB6gr3kH+QqXFRWeG2XgCuPH93uIPfM+DGlMJbS\n",
       "Uzde0xi0mcVukLNswYeHGbQRUiVnkZDPI8UBtf4XmAEi8pg0z5g/MVPFbF72ubX30JxRRlAgiiD5\n",
       "LVanpPClop5nHylmq/znZyJxErsWJbiCqTC/U06t5ROLe6ek0FR1nL69lE06LhijFYPkRaiRRMsz\n",
       "V2sJ73O1UHkkKB4q+Cp43ul7n2xVtVbgh1lDO6u/rY2I6z5nsdDtMp3IdhYUFC79wx5nwM3IXLB7\n",
       "CICtx+R1bbicIzDNxLmzIsmCEVUsX8AUB1bkNbaRwG6NZZum2r4DS54ASGsfeOjTrWgCQKkVjfjE\n",
       "scCfk6+4LNp12f2Wv8KKrxdBanSNMinl+2tfhWkw28TTsim7bQVtobR+AWFABPmN5WaLgZcBCsFx\n",
       "BZYIDeaKp6pFeFDS47mWvyGLVdVGwXhUE4ZerBLkHmLwp9u8ke1V+CSaXf6JZjhUcMepC0UBENwN\n",
       "WRjkUlRVO6CAY76GqaO0PkezNnMPiQPYo9gwIV+EOc2t0AHPNS3ACAIlUJ2ZvpWs1wRs5uGJOlWr\n",
       "bbjGwpXqdOeRnoa1HTcpoUEmt1Crx/vVq4AZ1L7Qj2/a9QC2N6vJy4ubo6fSADPBRzK2pXWTLqHi\n",
       "Efnc/Ks/yY+i7VWZ9IbyosDwbRbKpoSYSiCuJkBDHmd+wagEViymackhTaWPbtZZPDSW2/HlKbfn\n",
       "uQiBT1caWj8lo7FPcE9Y3lKAFH0eWxm0aq8WIo8x5tkPPgQUCNVV7WoUJF8U1BnlbloluTD2XNSs\n",
       "N84JXcuGQpJyD4NGydPs1lXVSgRIvDYB38KXmllCz167RQOmrfQzJsf3YyDk60oOaA17bnkKAyvU\n",
       "uLnLZ4on2FBvzULFh8gew3JE8BH2K7919wnLqxyarDs78KMSjIujm78bOrAQ65CohNOdeeyI7orf\n",
       "v98fG4l8vce6rW9EBbsJk4NeH78vGP/MyRDDCd0cIztDfaMAreKX/NQUHlNMtnK3yYiprm0Fk15b\n",
       "a/LJXR3dlS0g9J3Tu+nrLTTRq/FJ70QoY7K1d8atcTmOMTkk/r8tPQKMCV7YE5jQ/4qHbtV/nhRM\n",
       "qp2bEhgHQDCvUPen1/CSvD8isuObrmPv3dvQPmuXtjfw/EGajGepssxK8VgrrWhmRxc1PO5KbEDg\n",
       "kDJVRHmHAk2BN5qxZgza+hD+7oILGHi9e/QHuhvCUCHeJcqFrgS1kbTldFcxbIiLlVCp/I22isQA\n",
       "tbb0qYqlUggrUMKJpUT6+m+w3SBj4PHYZuqKjmzLyfvtwUeQIdYyGdA0MOdpJndqGyrJ/qvoAl3E\n",
       "4psFNM1xkuzQ97pv57l9rkZ6xe/oLp7asWb5UWyn/SNPtFyvncmeJLPifPSFfQ1N9OaQYy4Pg1b9\n",
       "JKDe4y/Go+oVjOPzYACRIRhFkC0J258/B1NTiE6dbVMafN/7hQG7oldUJ9yoRdXSOQ+nlgqAGrFp\n",
       "8Ehob6GAgwLWDzm7ZMWlNq38ro+7ppB+iUKEbpPzAto5u3TBcePSuz6cW2197rDhTqVN+tYsHooE\n",
       "bzU1Tr9oX3+/f8e48H9H74T6Z2gAAAMAAisAAAGQQZoibEP//qmWABgKHoHbKAFhQGcGn0wNN2Fv\n",
       "KlUhXY40OdA7EOYOVnxieb0yoR5cyuDRYIF0DLnzNyNgL3lk5rmf/B3wFxYWl/BlDvKhZsHnzxi5\n",
       "N+Z5f4BXnkW5BDgrgsUCuzSTNiQLEu1iyLWerlToDH8JwHish0SJC7AeCQlYxBp518zQU/YvxIHL\n",
       "k/Jqre0GM/pcMPx86aGsHmnN38q4xaeDHm/N3g+LKkTSZ6p5sRjopIyouDHPPBCMSaLMisoXvZBI\n",
       "pCKiejwbHuCo5s0rOuM9SX+4+5xkYUl1qMIAIOBfkQpa90TEDqlJwLjXh3FdkcyiWT9XMFXUd4gc\n",
       "1XRsSSfQ/IOUfyiPWjhaHZFVQNyLo3EzfgQQ3yOttP97SuegFteSvQc5cgSl1bAVUHBh8dfcN3j1\n",
       "KfYnH09TsJ87Sh/0t2AhxwXngWGEh4ygJJy4as5bP48puD8L5vvD4Lr/phZrOC8+dr9vHcg46tVs\n",
       "fLUn6qB6ksocLJh09uHfXlmt3nursP4bV9koTRBH4AAAAIwBnkF5Df8AEM6rx6kgAXGIzlr0k5NU\n",
       "zPv7C1almrmqIuMZqK5vU9BljDA6RSDiptojcCgW9Rrp/Z8eBERJyJCyWb4EKr3lv6ktP2IEENFc\n",
       "Bul+2CNQ6ud4GLlZ1NQLAWpont8ev6TMeMOHKgUHSGq99o7q7gsl4BaN+sxlKsSxRBEyt6vGELzt\n",
       "VfQBSQAAAWlBmkM8IZMphBD//qpVAAYz45aW4eZyihOACHFHrvMYRY11mQiviDH2FvgBLMfQWVLu\n",
       "sfUj4ssHQy/rx/Sqz0pLTsQUgsF249H+lnr1ybz8j1FUEd6XLxLvRPgGPBlx3P1K2uZ5NF1bG9BT\n",
       "bi6HNzRFzA+H5g333DN3d7Vd3TN186G8r7asWuiXV8wuK2OPmauhAwXjk2y3+96jhUPyyepTa5Fr\n",
       "sUA5zMbS9dnfkhzY90R4K7bk4/y7zG+gOKYdxEnILOG+1ajqus/Zh8gwwdRkSpF0o2d66qUzKgF3\n",
       "xWjs0zvblbUD5WB58ZfmdWhlNhBYkWWRSViNQJU0Vtfp116lEo/+8Q01j3a2kG04okAKN4hJ/IZk\n",
       "ELu9v9XcMJzgmM8HPKE4pVOFsuER7t//kBSDH6pQ2JmrWZEk/idb7Pi0U5vyamjiu+WSeB6UYoYP\n",
       "TCHOcQxn8hslLpqB1CCpGsKZ92caU952tYFIAAABeUGaZUnhDyZTBTw///6plgAXj+rh4NGeNTsH\n",
       "UjMLlWAC3epXp9xcsmMttYqatPBXsChAcdzxpxq91bl/Mhmz1adbkTyk7F/2soZGA0uR0jbXfoOe\n",
       "3zaM4XptZuDDpmMPv2nFuAiJGa5dNw06tVBT5/ZI9818Hwl3pkYK/EBGLbe/JOrayJA+vxHL9SEy\n",
       "12WyM1RVHrkwki5YPFd3o6JTSmR1x8VgQalBiqPA/2b0NO1uURxmJ4jXPqREnKR8g0JI1tNRfUVZ\n",
       "fOnrjOPPHsc0Yr6ul8ZEUY4wTdWVFer+ifUpg6HQNhXM0tvVz6cpq2fonEo/P3IOrTW7JX7ydSfa\n",
       "7lqxKxNt59BW2e/Gs7s0nPRwdSZ7Y7QHzSuGCr2xILYHgAVjYBsa5Q2JaIJZmHmiIg0S3jS1LIKS\n",
       "rgXb+lyed6iFAyHeql7Yq+swg2FzA4LPQjDzDAkioaBTUWEb6PqCKb8XKny5XTCSs6CXfB2WEcgF\n",
       "eVmABWT8yEbNAAAA/AGehGpDfwAQRnaz0RGJ9IhpgAfsn7bZVrN4T23yNhYsHF8pqi+7njFTRwc0\n",
       "pnu1WkT7V18jRqEk3Fnlpez1lNYx3ijKwcwOyO5aQmo13HeZgvp7Hv6kze4kmIid7zX0Yb4pOxGw\n",
       "LXC1bOtcbHquPrn2Zehwnz8x4udkQ2TTNuZLRDmjI2Ziw4ONxdwx+qoo3gudeVo6EYfLoctS2rtT\n",
       "pRc/k5fIGnTpDypFVTSJJV8lQrmmzJeYsr7/97BfAiarexr7q9FAjBubcVZBpO5il8eJXE5xdCi0\n",
       "k0yzWc28LAtfwGAvLETac+B+ap34UhO5O1Otsaw3XKY/tDucEQAAAVRBmoZJ4Q8mUwIf//6plgAX\n",
       "bqaoAWH1VFfu3ifIKfbcwgCObm7TXttN1v4lWIu7qkLbMSv1zGFGQmc8bpc7+BgBBoVcuivkbHwO\n",
       "L5P7wpUb08xZf7S7STC+nnvKBYI1ljuqOgogSUGAtBtxpo7SUeAEfqokNJJJFEGxQMl22o6WhSaf\n",
       "4ZfGOqUgSJEoLql5jrEAjrnCUZymMW8Ktvoma4z2A5xaKZRDMwbREFWBu/CqvPxpx/1mDW+F0874\n",
       "0fTCtsMJgk8aooYtHs4zLEsoc9K7IlJHC0dvXHE4IDA1MKkuWO8kFBNXI3UMGCC4MXysghJ4yTZQ\n",
       "u/mQrbecvRywIeycECBayLuT0Wh0CtV6GkEK5AefYQEbNQ2n095p5KT2gT+Pi8JzsBOz1oqD3U1y\n",
       "vKPArghqptYc9h60qElQT4MFX3LFzNSeWNz5AjrKMp93aJwCkd+xAAABVkGap0nhDyZTAh///qmW\n",
       "ABePhTl5KnpmY3MAGxoSAl/q2tb7JKyeZhChu+6Odo3rBNiwlBSAJ+fm3b1yO3jtoqIGhx1aYdXc\n",
       "S9AvBqpY7nOObT8OpJDYofAR5Md3C33T0h6s0j10uqdWPJIktWnnhFr9rudNUxz3Z9+jrtI9oM/g\n",
       "yLTWyycc0rbrQAW67ZRcLqTaaV5DntyedCPbVNb3klc1WHM6Oo0Ktcspn7d5KftfxXgGv+KCkxL0\n",
       "SfuBTEtO3R5s1xkLky9In/zTTmZZjU3vW4Tf3ErLNK5YSnEAb7Wb++GNlA5mDZczXJaB6lJWtFbR\n",
       "sl9qgJ0ifiPjWr6fCKtjW1GChWTjLTSfsytjokgySWiCI+3rRItY4A2sAscdzwNteXkd8o9kWl43\n",
       "ETGbuhN7EeTGG+0q3CHaGirUleMORqzIIOVlVb7fOQ4dNmFB5cPW1pb0RQAAAR5BmshJ4Q8mUwIf\n",
       "//6plgAW4XSvAQjJ2VpLLOdB0sj9EmI3jDe3CPuiEWtUq3+Ralrz2y0FKSlRZjEcgVP7Zpgi1KCC\n",
       "ZaWHKllgNmrzJF8bqAKOSk9jD9yhM3Wm9CCQaXlwdMq2j0au/DQPT77ErYhiGs7lbexIBOsWcrIA\n",
       "7E0OXxQkTKL6J3AJxDNLOJOAw5m/j4US+8kDtgHEcdDmTn2kdqTmXaVHmMgQ3/WvIEvKXEH/gWQB\n",
       "IdXKf9njy+5u6cEercR99PPPhXFlWRjzdafGIS12H9ymsqfVH5qoR21DM7jepNXwQLqWkg+DDOVF\n",
       "TyWI71TNHDCYCeBRkuzlWXJHt4GGNRGrLIrMYL1jc/0JRwwxjzQw4P/g9mrIey9+AAABKEGa6Unh\n",
       "DyZTAh///qmWABb/zM89AhEiv3b14AWrJtgDoGkOzUOS6gf0y75nGDhOmik+6LzHoGdWjWo89ouH\n",
       "z3u8bg1wBMJKr5N/C9+se3Fxi1/mEoX1DyuhUhcxgAIZYT8/ReWalf8JUvIUQklXYp0ClzcCxhb4\n",
       "nH1UxSvR9DJmlzL+fsVq+PAAMAm2mTTb1mnDNLLNAhw2YLx8UKAlPDomfGVBVYbZkLnxw+xIAGHQ\n",
       "k3SLisqbxKt4biG2Ve7osd2a4RnMuuHxEXld7BicsMaZTO7+JPcpXfQav7XgZJHTVRcCC3c1Ed7K\n",
       "9EgDBPKohLZsJtND/0+08qWiNQLj0xc3BDrya1OQn9Lga9s0t8DeQw8mb69VVDkplgedsw4LjVSU\n",
       "GYakM+l+AAABS0GbCknhDyZTAgh//qpVAAHSXIhHUQNu/sRLOkfeH3ExcACchGnMNiK63fumNa8q\n",
       "vv64WyR8TrR9+OncFe+a8oNGMOdBsWA1FFXA5FSy3KJqGCmmcA9V6oa0St71NXLnYWVjC1ghB7w3\n",
       "ka2ZWXKERW2vWdsOMPetPbu4/PMyJb6TcCOG0RdKPfgyud7u7aVabzkCwjarSQdAteV8AZ7Txztp\n",
       "jbApwnjRg7s/Fz7sN+9x3zXD5x+cZxMw0HTtP6QrHmlFYYG/ybaMhm8cGZWkIVPICGkD9BMsTzot\n",
       "jQeJCoZ1xxs/oldc+HMnQssTtBraWQm1OpSPkbcoUmychByFKctaIxi9WUen+zdDw1nlPtJxfj7Q\n",
       "VHmeCXlSR2TWK9/JWBxUMoTvALp4PFDEJSBHrb2Y9+qt5k/qpbnX/r57mn5M3/h9U8ZFl5hgZMEA\n",
       "AAFvQZssSeEPJlMFETw///6plgAHJ90pA9tvlArUbIKlikheCjGYhgAnJQoPQZNNWMRLnhdK6/xX\n",
       "H3dRa1Ky4cxqR2H1Z3pKeEqWoFBPiYSNIEQoq5cE4Ent4C7UuVAhNYXYe4oWtV4DJxi/PFoUuiqz\n",
       "7e7idWUn32H+A6+JkXrEAYsqKH3eaz09gZY/uWg2trxR4+fT6pTlgh9bfDXcpM6IEt6ziQg3Z8LE\n",
       "sEMbC6GgUVp9drD2bgVra/JjZPxhaUpjO6JRRsBOhB7FbDP8EwcRLtPr+uCumqtxTjON6gUqPZJ2\n",
       "bt/PwBjVB4i7XtrHj6dgZrzLQD1n2R7WXeFEXGGX2viPsXrBYU3WRMz81WoSlx26DepAobmL5eNh\n",
       "LQftoW+1tT+VufRIiSVEqgr8y2Ii9R+9OUSrZSeU3InPwwL3HiYtLRZgzSvHcluBMxtUDUA26e9F\n",
       "p9n6q0zUEQX0kY6JPqKXCo+9F7TLoJNCXMtctgAAAKEBn0tqQ38AD4qzlROuhQj4Z4ecAGdUYAwQ\n",
       "nEl9Ta2bdcAH8Hm71ojn5KSnXfWoVz8YwWAbN2gO2jd9gMWh1zD0v2x8iDVjc8fxGl4pj53RQ+zy\n",
       "XbaZ2ek6ZrLYavT//7RQ2lKCuCzphacOGSfp/V32yOXZya5hvqI2symAnU2cNII7lNLUFJaRLFmV\n",
       "MiCin07v1hbOru5Vpta0RG5Q3kYg4AAAAPJBm01J4Q8mUwIf//6plgACQ/MojjfwdHENs2yEBXsU\n",
       "SmDOWRbNToD/N6f9X5yJgWGsVVSxH+kigAlOkt2xNsb4xu65pUTb2WUpkSOTV2Crfiyp0tflJ7Jw\n",
       "g61WjJUIqSpZkVUOdi18K1vFsXjUlcAW6oII9LgTFyR82oWaliktvdesFfaOoN4bopo0ruxBaXfN\n",
       "hTBdjS9nPnfx3WNKhUHZUfyMW0yzzjPBe1y3d6F7SOpd8XdW08amPUsqhJuA6uUZQDkVMCxiL4Xb\n",
       "KywKWuqPJVPUAHgi/sus+m2HDoW1tV6seudJeaH2Fje7e8GrXGppgQAAAUBBm25J4Q8mUwIIf/6q\n",
       "VQAAkDFGW9UMAAJux0qdDtGdZlLPu7BW3AjHn1NS9K+Z0RnwS2W8t3tvIkIbsPvgOCcBNWqzScR5\n",
       "4eW4YHpyKrijUhzVedqVHUTfLZ43H0SnpeoSqq0vfr/iSmqfovqEitV2ZhtoVT1X2MaO3BO5bpfj\n",
       "Y1FAqOYDH4v6sSxjvXMNiCxPjg3SdUA+HQjSc7U2wYhkH05J3tJQ1lKy1HLnubOWzALAKtNYQ1rZ\n",
       "NWHEAMq8kYwP/3c9VEafugkcVSTB3e9Nusd0tYc4uvX3LB2hEdiseSSApLkKmwdvNYkVhRth2Lwa\n",
       "C7bWGx74GKQN3iZuxVlIqPKldgvCj8+9OH7aAkXbckDcV7eflMjCRf4McUaWFNNaNHCc/bU383lO\n",
       "vQQFPQvRhY/dFcG8oJbjgAJnrHYAQQAAARhBm5BJ4Q8mUwURPD///qmWAAIz1b1yvMzlhUxF6DEg\n",
       "/2tABsDyxpt6AvZ++LxjxA8P13h3Bnxwl+Z8dqc7zaX5tBA+DK2KusFJqSbPW/1WvRWhyw7bB43/\n",
       "Pd2XbX10v97CP7m8az5/GW4PRvyZBcGyVMI2uBigRxEAZ2BwFxgCnRYeZ8HXpC0+uhXhcySuSzYJ\n",
       "4vgI0p4LIqasaY3yJMZSlSnOEWMTBVgoEIyFnI2Sc/1IT7c8biXh6CuUX6ecNMIj8XVXT/64jEod\n",
       "HOGtqRogq4eplkDWWA1lK9PfVZgiHnjUFxGhvqFpgYnNKPN22K0OS7x8bqBWCTVLBWHQNoN/G13a\n",
       "5sHqSA4qNbchGGr8rqdqUjrTixwDAAAA2gGfr2pDfwAE1r19LjraLbgPXaAEefZESonN+duV39Ol\n",
       "HItO+5BX0wNm14jeT7FujaLhIvuGBqpbLClU7Q/v99U/M1L5CbNAoZzmjGVE4K1GkLf0P48ghfaN\n",
       "Czv6YVlnwHu27MOg7I5rpfZ5szbPvfelVH6Cb4ZtXZz34j9wN9bxQhWZLK3j+6vtA7i/KfZt+T4b\n",
       "Xt/TYLJ+tlBqetVg/jLtGipUUVeq5LreeA2Py5G+PDmrSn3O3un4qxedivKZwY//Aj5ZoopKDnbu\n",
       "Ig5OqoRITGqfJyhI9KekAAABM0GbsUnhDyZTAh///qmWAAIgC9psloq0IG2OoAQ9uErPYVXCjuo+\n",
       "FXAnYG24T0dnNeu7uDdh2W+Fp6nk/91zI6A50JBqwfDVFJ3GhdOtAQRJxzGxqWBaCmqlHS3nspLt\n",
       "7Pac62p8cxn9SA7ngvpbuUGht8huuDHMF81kP6WfJUHsCirx/3cn103sQKUSOGweyJ22NZ10qX88\n",
       "jd9HOwg8sS0tJ81RnjjAT8ngWEIdA/swlHo1ZLj4+11K7TqOcwz6omS6ckewbMbCZQ0Ak0EyKoyg\n",
       "JfJ3bE2t2y2cHl62OIQ9YWJobmHQYW4a1EbDz7iQ4oVgU7ngyFmqoSrzNrcjJyCO3zakpeBiDWJp\n",
       "t3tyod92x7sEKgk2lgNbMruBJRDtUeFC+cPRHJDobssqTW546pqb7/gAAAEPQZvSSeEPJlMCH//+\n",
       "qZYAAiApJ0G1vYmGvYpOACpDvi4c3psTz6Cw5ksNaLTEuFuyTRbEiUuo6awmFBuw/BjjcHZpYubr\n",
       "6NHRBIRkGEaf0SGOVec6qCULVw070OD/seZ3VIDBxVMTmZhPrUTo7MUA/67qM0v0rH0WxC9lU1o/\n",
       "JyShYiIHk/v3wCDI3mDvFt/UNUtrFshACFwnJ57hZIxQEWxUUww6etOSZs6KBbdNM8UFBjaHJVDW\n",
       "Tnea6f1fhW7ucMYTCoE5ocxAOa+Mf530ZvzbvUb8H76Of64w8pWgOmvTaL/dnUWuN3Tkvf9Ok+MH\n",
       "UOD7wHaOktcLmBICjlEl48gzL1wVg49AKvjKiN7HaQAAAR5Bm/NJ4Q8mUwIf//6plgACIGJGi4K4\n",
       "swk5OkSADPMcN5cdY0Ob4yn+Ft33UdFcu8Sg0NfzVvNz7ifk01ohuHsE/wv5gYyi88lEPOtz1puc\n",
       "4edHodt41MU1SJrbRX5hGBgF3nNz5LslODev+JeVD9RCqr3oY/wOt0NuVhjImHBddnGXnmAFQemA\n",
       "msSIrY694ORZQT2jP7RNMxLh6twr2r2Ufhhkr10sIokIuGa/f0e1TT5YkszdhjbDEMg+kzaw48/3\n",
       "sJg+uVZ2uDxGSQslO5zysr88s1ASIX2h3jFf8zxzGM9Z2FS3H38C3OwZcTZyaJQozjrlaSayunAO\n",
       "YItE3f3wsCoeZViBLF+561Y0uDM9878qzyvoSgfsw5ml52iAAAABP0GaFEnhDyZTAh///qmWAAIj\n",
       "1b13/Togr+mAD8Bskhmikc6IMfaK3JLOD3xCLfc1XRxzyBQjimNX7tHL+Mty+Y+dhzhhSbeMWYI0\n",
       "yLFHK7PSjkkxzc0GE98/G1n3OZhi6yNixG8fC8Y4nNlQRoNdLXlsjPx8VzlxSeVoyvrcQMymQieH\n",
       "J93CFvmcOySTXMbSn/2BZNNJ0kjl0xEy+GJnYJt7DHzLBkkWA+QuK71gwJx7yB+w3cjHf46XJkAu\n",
       "4eXfJS0IJHSzLbk5G8Wz4qEC6K4cNAVuEEUFtNBS0/tD/I/+XO3fjJ/6nrN9is96Cv68YCiLZb17\n",
       "NHkv20PXeDbQb4oxEpTR2mm/Vt4oEREE4y3jukZ48npxJ5YHT2OJa41Ba9uWIg2Qs1XamcVgvoqX\n",
       "AdI/tjshkqiSe6LlQ66Iq8AAAAEgQZo1SeEPJlMCH//+qZYAAhEf+gQIDzQAQeeDl/6EL0dTo3kg\n",
       "XUtk1RpRWHrv1eqiENQpkVf+dVro9twQJlLwAp72ph4vmnx0MPQXFEZV/6X2lUGKpHy1Lmo2PgNz\n",
       "AR9iC/gXH1ST7tK0MJ3+RMezuFQxnH7hjHMzqaoAKU0ZaMq0IKRbycDWNsyYp4AbLcrdK6rpGIjQ\n",
       "FqQ6RYAv0T6a0npe/JmzlXx6x8ZiYzxlQyKhh5lwr4n7AAERgaYQYgKkicovJg5yKcEi0LnXbBI6\n",
       "gkBsJ27NkieXjJm8PxIaJtmN6DjiqjeSzQZ1ZjEJc/ln76Cv2nNRte9zS4kCWCij2e9lC/4F4+YB\n",
       "jC5Q31uD8yHxmx/ln6ASjCMg4Q8j91jBAAABBUGaVknhDyZTAh///qmWAAIT/wa6Gc6QYhS1/9+6\n",
       "unplBpxE3ACAj5bK+y+HaMzMFjhfDLeTJRXbXZm9ZiqTHhWy/FRiiuUmXfnOIlSbF26xR9iG8xrN\n",
       "yNBAq7+jpCZ6Sr8jJWuf+6cxqqAz3x1Zje6UuugMmTxnhF+1ZPZg/qkXw49x9SSZqEsn7khaLv8D\n",
       "cl7q0wfzWpMrdwJg/8Y/xnV92YjGcb2fIVwdL2SPxfZVV++870Ct6nVPw5Tl9lZ8OgRRXJpBM/Gu\n",
       "WjjPi9fKykRf7i3Y2U29HRMZ6d7GC2/fJ8FE6XtlgrjcXS8x8VqDL4DLtJwznA2+749IOxe9j6CM\n",
       "WFmeRAAAATlBmndJ4Q8mUwIIf/6qVQAAK3yIh3eQAHaMsH5mtMeXp9i8ljDbizF0G1pxl7NkDibd\n",
       "0s036986GT5rLOS4eXWf30HEqMibTAluLXwjn239bR4npS1TorWc6+TFrp2yPiwuVfdtEg6WGmST\n",
       "Qx3PBLPjh4dnzs9qm5QKFoE0gt+wsOkpBxrbnv8bDxSIWkhMH28o+FB3R4eLDPWTFeKC5GfHsW1U\n",
       "NcPFzZhgaNVTC02rlZ4yXExA57Dd7ShrP+Md30woUX1dF75dwdqE04Vk71s9SWPvdEl7LQ5d4fDg\n",
       "uw6Ujmbn2gxY8JLGC2nlOxUzPQWlo13ptYhPXimHRcXC+h4eD2aXPooesuO2uh1Q9wWu8CxTqd7m\n",
       "VA6Eohl9+ArHWuYdY7e10JMSWt2HGljETXRhGVbPU9ON8FHxAAABTUGamUnhDyZTBRE8P//+qZYA\n",
       "AKp+ZnnxwVXh3ECSb7bgA43qqKvUX1+l7ePxZvX56EbHCXgNsBCEQmBXzkt+Mdrjr79kC96kfR56\n",
       "jj+uxJLjvAt7HQt1mDA+9bSJZBRXMdcFnqibIh7XxUHKZy7PltXuvuybUPPEnuYy4Pytyb0iiV5j\n",
       "qwZwR4rpyl74LJryH5f6iGDqSjSjLJR32svQelRvgQtkqMGdJXkbrxeGiZ59X4ruNtbwV8nyri0a\n",
       "jxC3pih9x6hkOWYl558jfC1OT19rW4eSVbh8n08gqa1Z7oMt08MgUMIE+YF38D14jQRcG45/jtfT\n",
       "q5YlIecLrw3RVn/3bZE1QMF0gfA+qdBDFeVgvUXWXSQ0URCzZMri4JhdXoNYH/8PkZJGSisrvBzu\n",
       "LtyXA5s9W4Qj7Cyq0KxMwuMknu/bEzwj73z9aH9yQQAAAMcBnrhqQ38AAHbG+M4ewRCEe/OnqM6l\n",
       "gBLJdNrY9dnDzq7kYLJbzmfsA/pWkmwvXynMAC0yDom/pnpTA2H1J/L9q7MhyqhrVeCHu8GuUgqY\n",
       "t5tPpAkd1aKcLJowryD1tRXmGJ7c7ryxEoU3w58Gg4eJBlqjCfjcrniqlF7EplomKySsJB90Pzs1\n",
       "zmMwhU4sLGtdZFIh14Kl7p26PXSIBASCk2OTUMnak9/c0BYR+TZ+yLZf1ULKUAqWQyEdjH4jvn2F\n",
       "AimX20nAAAABeUGauknhDyZTAh///qmWAAA1XF+8BbKt9O7OABO3mznpuginaPeai4JVG4e3h4Lt\n",
       "YiUlCatutTX8R+2pCPcBh/TEFDsMYdNVutWKgluU/nuawicfd8BN33xB1IGkK+xHbb5ihj8wVAFJ\n",
       "ogCB57BL4oYy1hXmhhUpoaMuKDuu7ineyRQuyTSvEl5iYBMV+8D5LldCkXMcFoEDMr2h5zfD/X9T\n",
       "7UsXWma7eunSio1ITTSRl0pp9BX4lb6zGwYvvE2LYdGjwygv9Ip//HuphvQE4gH3veuc2nCHTjF1\n",
       "FUTUzNRM4LohXZZDuqUowzkTlkicUjnoFeDDqFfdQhJSuoVfpzzqPiQaatNBxHz3sApbClkf0+5k\n",
       "E4DYEO7QzaDfod1mSwaccKgR4oj60m+toLxvKINDfXTfXpf5bdKxKv8qT+UMCOLEfGDSyrsZXY2z\n",
       "h+Y+V9pNYJz91hCpDCU/FFlplfAbN4Qn3+bhRJyBgCvCjQMSHqQaf58viXehAAABNEGa20nhDyZT\n",
       "Ah///qmWAAA0ANN7NmLzwATVq3B3IkiXql5tM2mUNCf0v3TsLAbjCvvEMyHIG//DgVMK7+lz0eDL\n",
       "nGRuZflasLuUlNk81j1NRzv8XMddhpk8+tljOFGJiC8//0571JeuLg9M5UR/YSn8mZBfjQ4Ozlg1\n",
       "yienuNidWr3ekzGjQzcETTyt7dAOd+liAlaoZwpffEHnQvb0rF/gn/i3BWcd9F5EkHIPMexwfRll\n",
       "BU5S3uY19OKYAjR9FBiAvj0+6Mk+fBGN9Rt1m5EgeMi24B1xJC6/X8TEuy+QXOIdzJz3TDXZ/55e\n",
       "Re5sCo4KYAXlGzNtmPsR8OxFZKuCKQOkwt9HLuNFpkTi+VY1Gpu+hwpLLdrTp5emrd/OVD2nUQsK\n",
       "Ds+6cmKtzQzw1CY2xxXrAAABiUGa/EnhDyZTAh///qmWAAAz2KU+OkgNABdQRXhkbF+eZWsmEqC9\n",
       "BRcIzAK2KEHJIhOzp5VukpE3UOQuI8h8tNbh1EYu8ydQnw8tryk8w+B1jxwtLUau0IzyDgtz0ZrM\n",
       "8Z5O8XM2So1lJ9ZylbuoExMdYmCMPpWlXXmHRnAd6gPvqVPyF567oV5fnoaNRVmzElE+OWQpek2i\n",
       "lJz4UiNLd0Bly6VtmSETKWTacmeZzAe0R3S54+5uRvSf134R1iPQUPH4knw/L1merMb1UCOUtRdZ\n",
       "b9qNZ+tVXtYFUDCJnPvnDwl9HXOZXOFmc1Aw7DgW4htm6khT5lp8Tk4dg+WFTr6Ue8CMTbjxMadE\n",
       "ZfU0vnHSBdQJ3tr7rEy7hdlrBr/A90VqkqoWOluT3dTeeFH/m1jll5PinBqHRa/jlJtINGMnwAj/\n",
       "NzEN9kzZxeaDQ6kpwQANTu212UscTdwOGpRiHCHdmNTaX7A7JFDHNqmRkYzlJHOV17JzaSdfhCLD\n",
       "Fe6MAF6Pr1eqo6FbQQAAAUxBmx1J4Q8mUwIf//6plgAANB7BJmTIEEYCvCaAL9k0fuBSPGEZ5W3z\n",
       "RyQEpHGkWCkTL9LIYkIJ0aiPxStpo8Kwb19P9sSacxdhoNE9WDjKR30nvd2Y9mk6cchoNAQENwNT\n",
       "Vqv1x3Yf09vybd9z/X8g/NnAb66Oa8DLN2+clr+oLTLAQQ7Bkh+SPdhWmQjIZ9EInFmU9DYLUE4z\n",
       "Zmx0NHO7O/e26E9ktgprLBCOdaQ3bz/UVUC0pgCcFZffOo6rolyDzYKYcTYoMufe0ivaaeEwK2hs\n",
       "P+cYL5V7dO11mz5W16iCUhHxWHCJxa4vBHrhfU9Nt0KPZh4anDkEyfZMTHg4OufpERLXrjbrwv/9\n",
       "+rl5Ok3Fqp1ec5TFNg7oLRJAT9EbgTeE44lxgnKFLZ9MsU01ZJKNyuFYL50FlmJRk2akQuOZSouy\n",
       "WCX26SOuNQAAAeBBmz5J4Q8mUwIf//6plgAAMqxHW3LVFAAQobACmHk19pu5+LEL/8lQuV8ZoPkP\n",
       "3cSH5D5Dx27X0odW/ojyntcNL7XPYF8BaLbFPXS+dQPB1nf5ayQWUmbUXroCTaHX5XFpkqX56jWX\n",
       "YMo41diTVN5qxor4SXKQXpzhcnnmuDL53pJAGAJob0+wWIsSJyqi8HyDLO2G3zOY5JikPP3HMfRU\n",
       "Wu9zLxIOopJu1/Q5ECVze1VShtzOZnEBMa2k8HTTbaIkXlJU5KseCqpuqlf2KUhBKUY3SXFrs9qn\n",
       "NXIXX75rQ8/nnXf00/Hz9z/jjWmPzO6aT0C3lvMqhNn/CcbRPsbSr9xxpuqq+x0yULR03AnR101z\n",
       "QOfzraVwosDo8plMfPdN2qE+Rf8rIX4krkAD1elx7ZD/6mnbVussRftU9i6wS6Q15ZGIjz7ZEUUe\n",
       "KKezBBTmmFyBqP3xwNjofYo8OVg+kD4JwH/PD8dPhWqBnt2MP+Jc6wNOgL41CoiTHlte5TfnPVAE\n",
       "NSNRG+5I9Uain5+ce9/EjP1n1liv0ENRi3/p0K5ht7GCItpI7PxjYug0ODdrx4fRCRQzuZ0s5uHQ\n",
       "WkPm5bmljTgnVup+2N5EzQwaOWU1rICyB8rx9TQcztuMtaYAAAIeQZtfSeEPJlMCH//+qZYAADLf\n",
       "2stGdf4R+1OBeNxXgARB80PvohNNtv0fOBZBRgfxn/LNWEzSGI69rkZYw1ZrUfqEu6rKvSt+Xq8l\n",
       "ExXWaNTmTlMJQFfQPd89DuBKtlq9mx7wnebdot/KY5KljnajIy7u1JeHVMSvdLnu1Jpa+NMmSiMM\n",
       "Y5+30eUWtq/D0b53YrL2OE/N8SWdVtdI1Rcq3yzbso6qT6xSUBZ5M4Id0VfXrzSAGSO92wBWnEmj\n",
       "X8x/+SHyJ7YG8/zDmezN/Jgi70mMLZKlAMtHusm45oMEyLqUiVQgcDn1N6tkwkXpPS40oHu9U/lp\n",
       "ANSF1bDZIjT8ksmTEZ90Uok7RhxjfLSMpVRO53qKLfz5bbzWsy5s17MGr/uDCnNCw622oe24/e8N\n",
       "CIbdCwKyukWc44O/geQOU/wrDh7T1pwFENNudwbS0KmasektRfW9t0N/OHM8mDBqY8bwYyDFDqNh\n",
       "kHB1tL1vcF9Vgm9Px6YbwVST2WmTODwKYSCMSPJMEO7fT8c4UuD3+/bBUVP0xE+lcVS+dSKMi8Y0\n",
       "QRSwpcSfFUpsZDASxoXtoQtOzbtsMG7t8CUFgGd3MiRBXB+VEQ0KobbwT/CycjvsJqnn/ciDin/3\n",
       "kfm71H5iyUoWBDJq34Qq6dQtNBJFoR01KjODubqISw+HvhaTMRWgh7ppme/HrVZ2Bn3u3w7/qF0O\n",
       "PGDjuJ8B3hgsH4AAAAHnQZtgSeEPJlMCH//+qZYAAA+ZVky1BIAQaClpvqczJwollKUm/tfwHCyK\n",
       "P8QtskVqWiXzrKNhw6hjuxi1o5xX8vB1BjycfICp0Y2hZbf7ESNfr00ziQymZpGACm6Ou7fsGzg1\n",
       "TB9uuLwwp8SwYp215PSe74v0KIZ9xMNsAX49wG8gb9lEbw/vRfDwnbIpUiiHCrx1Z23VN0t9AUkE\n",
       "BsDHtw2gcecz3of7ZAbBwQh1kwrIVW9e5Yr1w3Xg3/UQKurZLLgwM+ZlFv739hlAl5ji/AXHEmPZ\n",
       "y2jhv4ZG85BPcNClalpByHf4ToCQa75BAvjuXCYSBZd9pntu/g6sTwSYNR0ttkoa3CiKJc3clrzq\n",
       "39N5zpoZYCDU/B99t4FYsvXjILn6x+OgZKGB6tNNpLJPLrdQ9OA50N3DJOTFR8PgL1W2xrDR9dJb\n",
       "9HvjApzcLXxrwqRxhNnpSjxqP+Z4HGDxQK9wdWa0vu+1yhhpe6c6KFvQnF+3+tHpM1olKwyVsmxN\n",
       "TDZFNqTcckXWK2/wZlfho7l858OFWbRZrC0749144MB1U/DRMpUQJFekqPkYY55QQchLrStHRYOE\n",
       "GCbfgeIH7fsb2JfGQyc5FlC/BZhmajppknuJLFmrDCQ/k2iqj2FLUJK3eYn1YQAAAjNBm4FJ4Q8m\n",
       "UwIIf/6qVQAABAfpbI4aaJs3ysyX4ATTbWbdwx1uLQZZZLKiQxWy44V0V7/e2WElZ0MwgfX0J0Au\n",
       "R0zHGIH6nscqte8kxJ3Ya7sPnnG67mizxpZFj46tfo7eAWHJyhdgcoqCa/9xnqrF/kOkI0VsqfUO\n",
       "a57PYwWEiFiMEri7N0YD23EMmXDasHl2k7TX7NywG0TDHa/q/p52C2XcXpPH/ZjnkeNeOhZ4rZvK\n",
       "P8UbDC8ZqvQ7tEFuAFQ7XrivYwduus7A6AGCfsjuiLrM6xrKAuEEtZd3d3NIPTAakpgvrZx0sVio\n",
       "KTWX0a4cr6kraMoMBXJZejL+zRueAPjKlKqTA/w0jdEHTz+DY4w6GwpoEAxFCZMwEahI1G2Z9E1O\n",
       "SQZAqJ7L8PrPzZ0SfuEHkVhFfKe1aqTJRzcOFvBqKULgRoQtLiK1x4XSUKSLbU4Y+l1Bvw0TvZIj\n",
       "/xBVZ65hFetVnaSgIsPixdtGErMmqHBb2WCQoItXiOkA+Ji8+1xxkADByyKD8X17geSWDf1pte0r\n",
       "Qt4pbPVYSw8PaECg/RycliaVUo7of59XI49KvVt06qhYpNdvkVKi+KuROTrlAOlq1WV0MhcgSVKt\n",
       "EJ3qgZYuPW67MgZveEI2eiZia6InSXWvMmAYxkHfs30g2ZbqpUMw2tAYZPDIRewUEHR9eRT26dDa\n",
       "KjbFKRNGOt7F97nYKY/wR5431u8H+OZso2OEVVaSSG9irpTgdQqq2JMzYAAAAyRBm6NJ4Q8mUwUR\n",
       "PD///qmWAAAwWz/P2G8CAB148bl9OHiXltwJvmrP5Iq4FAWrnaeFpiFRJuzpEoQS4/2KwVyjfiQx\n",
       "HUHW5XKxEz51bGdHP0aHV8X3tgp6dFNgISe8hERKa7cH36j2svK0jbnrj39Mw2+VID8JnYeNNK/k\n",
       "/3sJQ27uBo4w7ZutgK3kcdcJUa2rIl4ccNMJBtkXFz20J6PmeYOs2E5jZiRZKXN4iY7Sb5WZ93LH\n",
       "BGfu9sofvs2LeYWO2O8fAG27mDz6sQLiKKglB5ga6/ZSSern8cpulutG4kgyNSF0tQrkiSxWWnmg\n",
       "OxAT8+lrIZwmGNSNc8O3GFKQct5KELnKjGo85UXLyPBRjIsrMlWyeW45fVbJsEjNxA0vx+IkwYfK\n",
       "uVFlH+PK0CuOLMvR2j6tuJYLKFPbxA6BOEoSa+eIB7ileIFl7ZSzC/4eM4lIyxJg9Vgj+UobXt4/\n",
       "My+2R4cO72JvPS/z3bKDno9zmS2jEpX8nBw7QXrhUGSK+ClOpyEmE7Fni6EHF53DLfSydL6zYhKf\n",
       "PPY2ErYNJSlN2OexBLZZJ+yXZ6lP8/Eera0ogoqMss5mEE3FfMOxjV/+qu4HaJm6nyj4zu/Wngha\n",
       "nM1542RVLWYEDJOdcs6bga34vreEnumZHNOd9vxNtuHFs7pGX3xvbqLEJaPDl9u90W3jqCG3zSp7\n",
       "WB97tTnwoHreprFK8RcxMrFCcZwzFBvkIUTU90PIhNz7r/zNO5kv6YNnAjYp/Yq6plrv5haXxPiJ\n",
       "vNrV89flqD9whLZYUI7CWRijdX6Kv6L5UqteRRayWDquMByhbhEVYT31IYy+UCaBnQBDkMscQg15\n",
       "91d7DBhHtvhvaNqXFDSHed9YODc53kQ9UGI71qCLWsCguVIoAFsvG4C78fTUpDy8gaywpApNx5Ox\n",
       "xdNQT8Ix6yZhOGR/4vIiVe2ZvpLD7IzAbaPRYeJ+tWNcQB6wKDAogQQ7CyYQciLeQFRuGSkqxqp6\n",
       "iF+4tS27SId6LxwastHl13fGEzE/A3Rl+/HdnyKQFFSM35sveEdJ7JCIOFxR9lDYnhKL+2EAAAEe\n",
       "AZ/CakN/AABsC6TH6ZqHniGWZtBOGbXQHAATuQ/if3uITcG4YKAN3Y7vuyNLOf7MwL4/piCBZLex\n",
       "6SKHFh9ETVfk9A9uyXhvZ71czQVD2pcxGFNgqKSw4mMTF68MEIAG5tuJ1g90CeWjFj6fjX9jIDtW\n",
       "9VuajuaW/95VkvP6kADbcYCCMOqM9hxHJ8n3zupffQyqQSFifHXLrabocWbN5PsLqg/wrzBhaRDx\n",
       "aKWmCSs7NNCv+TYF8fgrvg0CJgsSlRmL9sVLu0MEoUW7Tq3dYHwi6ahGLRlZZAkG0Au2gCaByqu9\n",
       "DXr2MiaTS9uewaQAFr4smBCUV6BBRA6ydqcRGBtS0c0Tb9vc4jl6/0wiqTTTchRYLINfBkrOzIIe\n",
       "qAAAAopBm8RJ4Q8mUwIf//6plgAB39n/werNQAlUpXmjadFh52oVTmrvKbJZo9kVbix0n9YEB+vU\n",
       "LGEcvk566qFwPCK+cwESTj+Eb/xthZOF9MXyGX2OOo9ZBj8TO44WNsHPEl0eWtaRO4X/dbisNZJY\n",
       "s4ObOh0BC/WkCrh1uHBk4lVpgWuZ8yl91PMwbPSAq+xbSvv/R7q0x6GeAE7b57PLqnBQn+xNSQJe\n",
       "SxKFpmmFUL/kLcbNouFhxmMN4MxvNB4ZZkhnc7xop582+9TrTOlVTeGRz3FhzImjthvnMnPYDULk\n",
       "StpyqPBZWv6MXTcgy93Gc71x0Rqp2ugBsPFsLPte8pEhQoPowrc3uFfBqlNoXWp0njznnpADoUXf\n",
       "ukaJVj0KuXm7Sa6J3iBRBO5E+vppdI4qDStccftEuYSUcevCT+jokyI+A5dEAVMiX8tFkyYWX4f4\n",
       "EnCaX479bpI/bSkIzTVF2zWIiulMLgPHcQ0sp77gczi20kSGZPo+eS3o84oZ4RRMOTYOcBpcCP9R\n",
       "YHbIyypi16QETNcsfYI0GbMWqtz9VfSZOClY7Fgxq2kLaNKgsvuPa8MdqpZXVHOZv4N5e8ZksiTH\n",
       "oWYGlgh1gQakKOz1gGEWO4XoBXY+JwY7hNCNwlKW+r5CF4WGJ+jFpW+y0rD1Q4bbl4KH8vvGEKUd\n",
       "I9bn3X+PuQwVgo6OpslW3dztkQcInHxFxLnSwo2rYyiEiM6WK3eyq63FCvpngsiRiaE5DxS0m4WH\n",
       "JkXQgU4aWKFss4pPwURF/a/uMJ7ME56fuG1QRczKMGdvMrW62QO8hJ+Nv06C3T3uRtpPcvsbQS08\n",
       "5olIVM1suGdMm0wWO75jXyUSYylawz4wQyq4cQAAAg5Bm+VJ4Q8mUwIf//6plgAGC2f/BO3wAjK7\n",
       "LI6BzZ6Uy9GHoOCsKtxZGgycH1TWsc8J9WjPS/zLDNaIsDyDC5fY9uIfwjgQhFpi9/ZGTOaQ6Ibi\n",
       "4hD3AXc/ay/YyJJmwaZQ95ng4Btqet8i9m5L8bcFdI2jix+LjuH3emxg/qSW0LDsXPCqLjuz6l5k\n",
       "kE7k+u1vy52X/EJszD9b84UHVwjhh2apxaU9yByhD5gDIqWzAX7Wwq9YCwzX+4J1/7RdUKfqvGbn\n",
       "8UMY1P8VXMy63nASKyGRBElFnfkTfssMmstPeCvwCJcMBadALKMrKdpS7Q5iGfKrqZKCvPfhcIwi\n",
       "Yeu5bbYu2lulF/Il6JtFrVzJl6xNH81z/G4PNwOg3uTrWgY9bT7mOkC91EY0bQhZodW3HLebcxz0\n",
       "tpECOTtql73wUDsgyIhdUmnUD/TL/EVbGv3EuUKiVw1EBUrcpnV7S9D1XhoFjeIoyV3VD3VPq0Uh\n",
       "es9Ty20JmBa7xlpRF7gLbhDBzrSO8wYW+igBOIrjsdTPF2+Z1aCpvzdwdRLDrGa1P7xbwEZV0WVp\n",
       "rtOe03JUi+m2hr57w4wz7SEIQUWh3ucBhRfCK95TyTJXB6W08vKlCU8f0ts/dZBY6UJu5WipcrWb\n",
       "AeqS2D2xArGGxTGni+wntRKYHy7AhpAZahiBK3KGiDqTvBb4dUdeY0H0EHzBAAAB8UGaBknhDyZT\n",
       "Ah///qmWABME2HlRZ7mHuE104HKjjCFgvSROZqhyQb2ZVRyljAA6fogJsUSpF0ILVvLHHwznSA9M\n",
       "hh7orYHVbSeL2/bQKgxfKRnaSjw7U0w8nPXNWe+K6e+HxSe7Kdsltgf0pBTE71o05khlb4q5O/Z1\n",
       "93TUk6PS3tkbU1lIKR9T10KtJm1niY9Arab1ULCPsvQVKzKSRREgDuH//BLfg/1j5CMrGrHFTwwS\n",
       "z/+3/D9IkzP0Fcm1Y2FcL4aVwOA4QzzX/t2wmfeOa6eXyFVJT2zZpeIxLBk7ZLcrpZtFUB+dkqWA\n",
       "enyaNEtyy4XxyXVoz+Iwf9liApH8xm4NSZQ/fWoBRzT+JEMcAZ9bOZNwnHGo+za3VchEBL5lbfV/\n",
       "ngIWN4SgdVoJMd6Au0e7VLbKXkyIY/9DvOAjNx0ZFz8rcb7Ygx4frlHrNWmHEd4flCpODqfevlKH\n",
       "63wgGx4/76k2Siiba3qZBHDLmQ41pFgKVtKDG6oxvKDIUBZoWn2pzvAEg9279/jK2xXYja/AR5nW\n",
       "xbAAUtSZ8/LGjm2CmzKtVsR9Z93XbBLKZAQD0FYCsWwW/FW6ecKoGE59QV8L0Q49Q75xa843RFXu\n",
       "aJGPKw6DQlbf/stwq1zE21AaIzh4rFUkfZ0mZvmVrxYXAAACGkGaJ0nhDyZTAh///qmWADum0pAE\n",
       "TXZXZMuYhnQAISP6XNCPyZn5QXkqxMdKaatubLXZTT/hIFG6g+71NiOqfXWqP7lgy2ILJYEzr4Zp\n",
       "RLmrBxztB3aP/yHnJGfjzZ74imkgeKtXIhUnMmgXKDfcHu+O4aCSbHf/6EEswkfrEig3rDkmQ2Nr\n",
       "0L5/3+Q193EeRGOMz5HduizjwQWH7ezR/Pew05PEXYu+4tl1UMCtgtk7gXK0ymC2lDLuD0X1LUxS\n",
       "7McgDV6fs6LLn0hfWA9k+CC2Oir8Yzd/Hg0c82E9rSPbfKiYp6MRsTYcn625kmxll/VckdKqpFw/\n",
       "0O1GqD2WYUvH62V1JXSwSvjBLHdthChB3UJ8Zw/49Jzk1AF1r98voMGrHnmaec7/2Z37jeWcQNED\n",
       "ozB5GAbgAcntkXarheoQDTwgqZtUjadx7Tnxg0+1l/eVcJeR2gbo0q5VG36erIryy7sIE/go+1HS\n",
       "TAIgBnh8/hBAco/uaT5Yq/Jq9vytd4b8udy6hRDVVa3ftghCkj1sYrKfT6Mdg98JUISNZyp7GISM\n",
       "TEW9FDAn8HsLTVFwaf79AG0W05epHP2Z+TIiLIWRxxKFEibIIJSRTIeKm6n2RTepYbmgqeqUUWVC\n",
       "aVNKDDwl/8+CT3p5wrjUta7wEUYZ/ZOUOlTziTBhIyxevMi4ELUyPu5LkTQK9Cmfk27vH4/huU8H\n",
       "2flJK3EAAAIlQZpISeEPJlMCCH/+qlUAD0GS0eAAtOknc7paVgEx0KkSzRy9x9j2boiWNxa7ApS1\n",
       "X9KjjaKjCeXe/w84FHboS6LPo7OeP/qOyi/xMJJ1aSEc30snAw5u0MVNhpE2MkM3ngyk2eQWSknS\n",
       "g9lYRjaKl0/2NS1mfLlCwvbj1iNfVOSGcprRtuez1Tenac4EGv4cbj3n6/j0b24ocjSMUiRk0H7D\n",
       "8bpCiJklncXEmKnaPeuVNO8GTnhqJMvhAJO+LEvPA0YuFdj75pq5/K5VdAo+XMF4YM4QNuXkoNKO\n",
       "AfH80cXAbtHgdVNWO7mUOC4KqdjZzxPuF6ReL+O+drmHn8qWlopc71ATFsEBnfx2RQYG27Z06KYV\n",
       "HiURDb/F5+NjAJAUMv8bVD/NMRrHTTNiUI5+KWK9IsP1N73R4nGAJoQ/ITxxIur0Ae/iIUpVBZ+B\n",
       "c3gZxEk5Tte9HIV0lGSLGytvyKD7tMt/nxXoP9AnIh54x3y4P2dqf9HCXwVPRWs+H7ayIOKJ/IXP\n",
       "TYaJsGTaOznd9z2nDgGfuBvJKU+4lF9tPX3nbU5qbZSwrzvJuHuoIvL17KWrG/v05tTtCrQupZye\n",
       "m6Sp/D/k/ZnEBNKsMz3TPkYUymutq7EbDWZ/Oyk9LX+et93lH7e3KUp6Yhyk0XCpb5LuIaZDxyKm\n",
       "Z25wxdCSHxjbnJqWHMWb3eGZR/neoNPvTaQtMP2oFhKQVd023DwjZuynYlHgAAAB8UGaaUnhDyZT\n",
       "Agh//qpVAA9BoK/gBGQjoBKeanITkpo52m+e7lnhT/UfZb02ss/GtPwRFimZWflr2+XKGdXgteQA\n",
       "hEsbJflzqWBkth1SX31Qn1b2kpvK52KexHN5vZsaRCTsM42n2uSb0CZaEcRM+wUxy10f5qIctSNq\n",
       "pVdwwBIkBqsuxpcur4lkOpNGboirle+13VauIOUzAeQB0J/NxkSdpesdX+DxtIEQidt3ckuPeXTe\n",
       "c2qNF2Ct6r6rKMJx+0v5z601LmnP8/SW8qNJ7sNL1C75TXGezBsdhYMjSbFsMn6WDDPA+0AFEy8u\n",
       "gWuulJ0V9aY2yJFCHtvtvdft7ZKtVxWmhFGzzswUNMTdEsTlRz0JmkTotFN5gAfxKNQnXRi5vvmm\n",
       "EdeoU0DLIHRTzlGwt7Gw9xqe9eM3yu9KPKUfTFve8olyNxVizgFhflF6XJbhb46mKTsPOD93TE3O\n",
       "uKA2mJLKsn9Q6K8mP2wqbOkukT2QLUJv1SMkM9JVt3tEik+qKNvskHhSbiMkSJJcAc3Yno/Bx6ti\n",
       "MllLRpm1XrM/1tm3LqE5RzpqcjjSEvL0vTGPRVyKaqtdo/hVx0UdiYkmBKnP5NrWv7lU9cdszylJ\n",
       "3V7yDKqkHW63yb32V0yc8WBC7jig09QbtUJEtdqigiwgAAACU0Gai0nhDyZTBRE8EP/+qlUAD0DL\n",
       "tAA4zPZ3x8cRKglXH1UWupUzjj2wgBiHEXXnAyXduIfPt0rtgOkwLLKjoumcn8QBlH//wVEba7Hm\n",
       "XT1S9LHXySBfh/Y3RxSdQhmZTACoZwZc1vKjHfsdcEZG/8rLjbE4PXDY50CTGyMaYsmA9b3/fAmZ\n",
       "rtsfkLCjs45Ai+kFeqTD4A+t7Yok2jcrLNa270eBXBLXABULbEJ9GboIJJkMIRN+ezaKLvLuBbDa\n",
       "00AtGJznvKBVXSsYElOoG/a3UuHvydeTYchdbqIDBraRBKOWHC4CqoEqZxYLmrWkf9bw21G6hEdx\n",
       "x8/nAvTFJBYqoUabWPaZ4gIwyZHRISKkkaH21QxwBvgwnl3yati1NBFVRDb9zZhOeELl4f8FtRns\n",
       "NJgggTfDZws4CC5Q+vI9QrJGAoeDenilUOKTUGRuPRa3BXI1ResuJ4Nh8OejFumr0akWvrl9gfN1\n",
       "rGXA8ASPdI2bNtmtwiwOl9dO9g3TCsKVxhVL1Q7RwCpTe8hMgqfCib/wLEKrUzT9rsbbyzRf8ZeD\n",
       "WBinpMOqBGdMfrmRe6NrNi2AyIeFD8CzW/cutyIjnpCexlcXQvzu8scjIc8UmjegX3oK/3raV2rV\n",
       "BnX6RdGH2YI2AE0mZQWbuTstIm2d70ZwUqWJt1yag677APa5l5BTwToq+aGNm3AxozDlizgBlLJj\n",
       "ZPfjlD2/Ln3CcZ5JGSbAhktnusLHL+U4YyOeB8QIxzXRhthmpKOZmETIoBokQ9vsgSsE6i3QGT2X\n",
       "bCbpKuEAAAEnAZ6qakN/ACsp0iUhs2uWzPQX2BxA7j39oNuPEXw94EJ72BszcM1dyGpzABK0wq97\n",
       "vCn6Az/xEELDrw39QMF07b77tFrJYPuPV63gEauHEgCExzmW5u/YUVHzHk3R0ZyYRuOLwORX4H2I\n",
       "4FSP63U9l2URwIZGhW9p5NrZaL5hSTinFC0CJiX+bI5vBaXJ+8YDRM3mJ5jD9kUHufGYT7Wn9tw7\n",
       "iaqr1FKWCp5MSAUG72CKmauvfgQK4gaeDwWwZsRj3LgbfDScGy/pSPIYJWCCc1F5NjhDVAOb9QK9\n",
       "GdfjdfOQWM8tbqAUCMwDDt6JWev9NVkrU63U+34wkrVJMXINhCHNjQ0Inl3CdzhcbIxpldmeP4aE\n",
       "VA0zwq0uvN6XF2laLOQpdpgu4AAAAelBmqxJ4Q8mUwII//61KoAHdLA1IAE0pUd/83z5j79gfGIh\n",
       "D6gig1rdJzo7x9vtinEbT6+avaIk7/hd2RnXvhK2Dt0UX3707b8ZRhaVsvrEuaVUqPc0B894r9me\n",
       "ZaCU0SRuytd5Sx2vFqIAOsSSAwqNBWhOYqEKYWEZTFN6976HGL+picsTLM/dE2HeNrlBMHeJ4H8a\n",
       "DAniKvgkiOfdwAl/MSUddcINZ5KKhJRQNsCWBU0E3iruMDt8oISnMpybXkaQBwrOfgqHRw7JR/tt\n",
       "eJoADm4qp8mDRS2gt9EH8tLu+jyVr8eH2Cg15c+Am6zm4iJdhEZ7h+QS7oP2qI5LeuihzVKx1WaV\n",
       "KSnUDCST6vs8wEsKSCF2NEim+jixO03cp559dB8sRx9p5xGzaNmxjPWPXxFr4dZIOrJttK2CyEsE\n",
       "pG+RwBnPjHW9eNJp7aVgkT/rKy5woGQYBVsIcjZFXMW94JxlF5JozoxoF15IkfKGlUsd+pfqNkWy\n",
       "1d8AKtQy5EnPG9u7uci/yw8XfQId2QwGrmVbxyocVOdq5aUYX9dGGQs1zQjtv4u3mAACkgdX57zw\n",
       "qFQ+bIcAJsviOi7lGVe5ObqmDxOovLBbzkp95okBs1s8XNJ+YpB1De7fiJKeh9KhiZCynKrwltAA\n",
       "AAJHQZrOSeEPJlMFETwR//61KoAHod/KgANqFETVRMmC91q3j9+gAzfsPWNvZY3PBjJTYTTZK5cV\n",
       "5Zj8OEUzQ0qDJOlS0B4GLi1FzaaVvAqsNIq///2zayEa0moP47AnLytxX9747oFkO0DbO0wIazMe\n",
       "NqwFvsrC4YF+PmVmJI5nd5+ZZA/6Nl3WfgxQpYjjQiMqPFxIlaOmPLU7KaBRpRcT7gUZq2SO1c8J\n",
       "k0sFcmIPaOu+5lBQ6XOxPpJHe0WfEpfKcH4F558cjkRwbokpPO68VN59hYQ6gh2NtFbTKmiR+iZM\n",
       "kPJxz4efMjGjb2psujt1nlCNWocWOZKl0crAKW6g6AjECf/T52fD5trR5qnP5v+nknsqRVvLTVuq\n",
       "yYJd+g9iRBxuBkoWm+5fiQFi9chGpbhuuOa//o///4IGKZV1D2ovsIXrW1DLJV+SRKfRCcO5V2AG\n",
       "t/aSlS3eAY9l2z0PiNzU2c8vAwfePM1a3W8190QlBSRndGgPDqlhowWpiamtQip76RCEfOZk3f/o\n",
       "KXmvypWYZeLTeyyZvSy6G/T3tiyf4/OWOycf2n1RusAIFSdeOrFBznplCFIb1C9hOkdFgwyZWvXR\n",
       "tDQ1fNvJK/DBjf7EEIW9VW/aRBxNBBQmP9qNQOoXHHvJNizZiDG609N6zaUnhM6RGq4iARIXwKg/\n",
       "DvyiKf9/hwUEORX6pBOSSX3PZXi8JRQxxrMw2VL1RRQX89TzETvwAMBtPR/nPikHUJ8hf5VQWshO\n",
       "dk9EbSi5urxqQWADsEPVwQAAAMoBnu1qQ38AKy9BpguOMLvskayh0+1GWO7DU+znZvyZ59lgL+tn\n",
       "TAN4KW1gfW3kzZpLUDUqzYeRYTGgFoHfXwAku/MrT5GUPza9gWYVvPj/m8FtqfbYiF4fk7qlEXvw\n",
       "XU8hdwvCNr2fkIvxPdPqUCLhLoFWMao7PPvUdXAjJU+otppXf0tZaJlYoCMb2DuwqzrfEET0n6WX\n",
       "EY4HyFbcRbgDTSx6d41RFJe+hmz1gv4t7/1xuUc7K8hdNFp5vQhvF+5y4bZtdm/L6APnAAACfkGa\n",
       "8EnhDyZTBTwR//61KoAHq+fw1jFCB/EUBkAEQfSPAhMPhy6Cqc2ZREFYtKtd+pet9qGbEpg8+gtY\n",
       "N9f3R3MdqEuSZuyJbPKXBTHTx1U+BKE6tGw2h1ldogH9MKMOQel6KOSluZJDjFqdyuUNSG35HRcQ\n",
       "AE4P4vR4Z5SAXkN6q0R50tbGIhW4T70RyWARuKiQVQ6vNpkWQCHf0vdqIn/Mx1fKIhZ7dycxkc6s\n",
       "eT8Jmt0WBRdI7Se4SELI6O4lTqp7rUkBfxIC0cv66azmTsHSgn+RvC6qOfUVif/zgd4WAWOIdSgR\n",
       "wGHv3pIB4XTiAEI5KKoh0kSmQuu5rep1GjV+9AX6EDsj0ggbYmnjmxfgzV/K61O/LZPTB22LHSR7\n",
       "34ZzCJHfX6y5uaL2ik+2K0QJs13MGVRiN0meOqJ2DdC5xCDfbecpd9DUV95z8NZk5sA7HNcsZx4w\n",
       "i93AJ2TZ4L9e/nCMk3UDeaRaSZiHwpmPi3N2PHYKwgnKl/2Ykb4Nc3c5XoHl/Y2jcZHBFoS/08xy\n",
       "fHB9/sIYV6Vrqlkez0CHJT7K1X6ergPXK5+SDYUZBHKyC5UOOlTeYTfEjDf6SBqCAMLEMeWOA8qS\n",
       "Esjt4T9kk7cuZ2vd9rHjigZisDJReDjIxyp4tpA6UbYkwA+AwPUT9alA/PX9CeEJ1Tw98zOfwxFo\n",
       "PE4hZA0vHK/HPYQqGp8ARJ4rLq1xTgOFm2jvCYsDaNSurJWhKnB+f1RHTlrwp2ljKOCyKUk6ijSk\n",
       "1eRZLhoJLYB0NzZiYjoUWBamKxCegaG8aVLvv0t1g+hMckNUhwpbw6QVBwN7DD1NGjfp7Vy6LQ/Y\n",
       "0e1q8YNvjgEPAAABXgGfD2pDfwArLq3AIAJ2dQWvkVmZCqFrguRmCoQiHmp4xk10RJDbBpMLicHg\n",
       "lT+RdMwsKWonqFAJRp+x2Nrr0ED0hVvPA/eydSggwgiXuMeXvZGhK77n44p8KLtkVBJWa7xyrcqo\n",
       "RAowSgdFWFVENqIQ3K1MyBuBlDmD+XgBM2Ew3Pq4Rfg1XA/BPjBYcNq2COcqA3SD2QdoRx4lG0Qk\n",
       "xJi7Tce+ErjwHRI5VlUS/0TDvFlif/uBr+Bu0/S+/ULdA3qgHiX+BUNeeIcNBLnIfsU+0HGs7uLs\n",
       "PS8efANuOdI03e8lIaQTjmKW3m1xO+Y6U+f1CjOrfIc5nhZrtzIJ8SpRiUVzsR5SKZ082sQE0/Qk\n",
       "Ysv95sCpKn4Lxw1QhUVyODUKO5N4tWKdHM0RlnaxwTUhUcnxpXukkhey2tPUzACvmksGdLHNd6oC\n",
       "am/z3E9SSrdylWFc/RfKGq9JfX4EAAAEukGbFEnhDyZTAgj//rUqgAJz9m5sHqaJWArPcM82/iJo\n",
       "UACX1wi+Z2tzWj/+KAk8+498nW1atFZRjPaZmS6+gk3m0rHDOg8oD29NKBrgcVEO6QHEmGMLRWwI\n",
       "otAzCsQsrhErih43Mkx4AfxrDUfUi1PjZwOcuTZgzRdVUGq/UHzeJFSmk/QgTeQHeCgmq9zeNw8A\n",
       "Io6dUMkNxg067+5UTdVPUo0KI2WqeNEuy/h4+lCFlgUqy/5Q3m00f6Hws7099iCq0X8FFxlzt19n\n",
       "cOQ4RQDODrO3kFTxx3I7GEa53QEcqjyC8lucTJw/hi0EcICxhHsvNRJP4Cjk6drbahKe28Upxbph\n",
       "cte5uqHddaDp6xAaM0OXZLKidfa1+LQzBjaF5hGZARGDcEb96owJimFCH53VCCCzHmTTKsVH4J9W\n",
       "zr5oAq562tlHcta0GESQvh0NnvG0/V4KJ2colThpEbM3aCJL2y7fT/J0SfaQw6McJS8QFyJmdGvz\n",
       "MoJ2JZjHMUl3hxGw9UXmarRuBKj4/J8x3tBNn2pOsdLK8v2I5jY9G1CDg8EgzY796r7xXNmHXD54\n",
       "jASXZPjFURVS8QIZuSM7E9qi3q3kTMC/Af3m6YNUdnp6SOSxEn1IyI4QI6+eInt9xqtZmgUo92/H\n",
       "5NjtnpJMNfVonqeA2ulaaI1UbMwjs7k2NtSokY7l5ANOZ6B/u896a16O9XznwIPOBHciMvakHoyX\n",
       "6+ht1i0AdUNY+ZFFav1iISF3XtApk17dHJW4kQwmdOpVM9MGJs06rqjbOIaQC/6YjitjW8t1hy46\n",
       "vmhzVuX0zFayGD/5KqhdkBcGZYZvsqVbkOqR6Z/IJQXhLryCgrzSmuMqaEQeThwwZBnU4dQt/WN1\n",
       "fX8J4mL/E3TEPxCT9XVr1QIAh81ydjquxfOvBUmSTaM8Hghrd6GLr8BItOe5EtybyS5/z8UqQ7F4\n",
       "up3W+ZGkTAtN+LmbeBd7qXWhahbuiasga6FuDyduwTH6KhYBA9EO5JkoBwHEiYUaXPt/hpdulpq6\n",
       "lvLOiw/VdI6tjTEQlgzJiuxn9d8TUcMBdKCPP0m8VqSllPjJNHxrP1ioD2U9UqlNcWSTbIlQNf+k\n",
       "119B5Croj8HBnvSTrBMFGXgCWxmjrdRo3C4xjSK0ComQ6D0IiNrP3f2Due2Cri892rSN4tUheY73\n",
       "cnjKi0Y6ZSiRWi8oI4AGqHsa616/Xo0hTeuSYuHuocSV2gJo3zCDSWlxjuyO/3cfiT3ttg56q7+Z\n",
       "j28j9IFC99o+y8EK9F9Rf4nD4YKw/507wzbwQ4ryTh0D/h0CSSQkB7sANgV8n2Cxahc6KKxF+2Zy\n",
       "WWbd6TsfosEd/oZEphuovrR6N7Bb6Aad24g4YA1A7Us0Uds1uWi4xEH9r/Hyka1Jb87Ds9kSQpfR\n",
       "bpc59iX3alizs/cTMbQzcfeLNam0T4lvQqfJ1EVQHa3yhvWs9evivxbWn6bB6z/Dn1z/XZhGUUsf\n",
       "eNvl9VtQYbjk6zBH+E5d0ijkrUwMj1Qb2eut1Z8zQse947mpY5ZCumpP5y05dltAdBg2pFLWTVOc\n",
       "XVPWMPfZpIvrkq1CBINmcBjlfjNh6DQ3p6YD9KBUAl0meaiZAcAAAALaQZ8yRRE8O/8ACYOSbeQx\n",
       "ne+fvRzysFLFhhTQAnZ/9PR0TxkrzKpnwXqH5liOHOF261k3z04Kq62gl/g5rd8qWgUwXgTdnUYa\n",
       "OUtVYloaSz1Q/IkkhgUg19Yo/mk+ey4b4mC7piZBilq70ti+4qWhUPW06tIT6DFzsee/8OENxtMY\n",
       "hUV4c8BJ+kkQhq0xUIuqj8Kss+rc2H0PoiIfifn9yeybTk3gaq+sDYVFe8eohB1B1eKlXzR7W8J8\n",
       "yd0p0S/qwl1YdlryPmBPA1LW0xlX9yMeB7UPI/NDytsJF9aLhpeDvUJ4UlcnsEtCRLVO23N4Lxjf\n",
       "cCP5WgG/K812P/ZJsNV18rurQtF7X0QB56QAO+LRautGCKkrAC2rnHFft6asEo4TdR1/dSw+rTOW\n",
       "/5S57XZqZ8SeIKyGVmNXgw745QuVeKpBM1ErVJAWgo1k0tSeWm/MSYfpar2M1gQWoiQisykBrcwA\n",
       "XwvsmkAggxX1LKNSEp30a2fv/1OeBoCvNb645fvQnINKmypWQoUVCyfNys5EErQ6DHg/kUTCWpCS\n",
       "rNm7mM+3c2qdD/leQzAvdPnABhRlZPvtZjJtb0SluSpG3wojjXwyntQb+tB8N+3iapVbNtoO/XIO\n",
       "Lqhnq/0M8e0Ynstc9Vwm0noPFZSGrofSqsEePoQk1MuWZIaKceXepklFWA4fanMXIj4qQHquaQ5Y\n",
       "HtagDHBTU7sM2hwQ8nh3zbwPufx5SXmaZH/KViQX+hdGi+KZ+Zqi3dbkW31kJ5Rc6iX7pnooF055\n",
       "AMajN/ONODaDszzbhNVQ8/xTPDiwnR6ORzhe/9lBuq146rf//dBvdyVmIX4/1Xe6b2nRpkhryH/A\n",
       "PbgDN+jPwsFMlPnYdhI23Qcrl7QmEbcHkre8ByRZ1k/afKUhsUKUq/kffZC2aZ9/jYFVPl/nee8+\n",
       "L0SJ0EsNBNlOssCmS+kpiKYcQ0JIxUydTLwEY6zugQAAAfIBn1F0Q38ADXwvMMrqIAHGrQBMwZVA\n",
       "gbw+DykBKaP7+G0qwGYsrPHAiH1h+nU+U2HBMSgvfWPBt3AFWw7+gRPXmkBViTWFh7DewnyvFh0Z\n",
       "GMvYVTc9dhzNmm1/GSR+hQLiWaOhN3Ec8Uk+ejBrX/wKIytzbXvdlc+azB6JhlsvaF2Ew0MOH6GX\n",
       "tzDwzUKbTeY4SrqwAuAEF031Nvdp5tIP2YbpbeeJCe7NK9xuc6TAwEKeQjb/iF7uzY20l4A/W+yb\n",
       "+W4mOjaUXSrFnFKSJxZUn+03S9NUC9BOyoX3xYLhRaKvz6lss0beHhxgi+tYKF6SMa+LBgGFI4Ja\n",
       "Mz4gzbXI3iLiJcytTSoeBtuJJKo51L+VykK5hn8ObGeCQOshMCoyL2ubd/Pt3dUx8XjgTUF+yIeA\n",
       "mlFlnxq2BaMKAJJ3ZQlNw9gvrBk2sl/hVtk72zIBzPok8mxa6cfgJqfjlJpOQZH2cZVry37vJlpe\n",
       "+h7hTrysX6o6g8E0mpWCLy44DZrN2evONkbI2Xg6OEep/JfxVKICcaUo+10s2v7h3+BH1kj3vq27\n",
       "3slctTyIoM7trhUdy2rUUaNh4bWz506xqtnEyCLp1D/bjex488a/xHjy093Rahu8bT3HpOLzYbK1\n",
       "lCqQjkkK17mKCzo0FLn5rTPg1IAAAAJwAZ9TakN/AA0wBk2zMZD7CoDvQRkv1yeEotVkIATT73zr\n",
       "xpB7T4MtKSyit1sW+A33w2cpXwB3RWCZ+RZxwRLlG37UVYxJAykoaM6WYUHVM9gZ+6GBGRPE5J/w\n",
       "svQSondSdJu+efFkJZC1qt8LMOT9uiSDzdUI2dFUD3PplEwDkHbzdC9815hyzN9VO7etYp8kfMfY\n",
       "SDmz6cK8UUnK7siVSP+5JMOzkyXQ6us7i+nSCNl1ySyxQ7DICqxnV4c6JakwHMpzb1s3sAkSeyoW\n",
       "kZIKyGqjBJ9b7zpwbG0ys33CV5+tUsEP8BeKNm2nTFR+mr1EcJpmZGQwIKkv0WNQu5Rzy7qbi5al\n",
       "taBoaUjV7hComfz0ZWe5axaI1tFKQC0RR4QFciCSFNzaX22UgpHbiwwurEplxWRVkISceoN55s/x\n",
       "Khjg7oXrA5G+GvQ9TLPgkLOcUYkyuQ4270c7gtI5fLl6rMk2pdEGysn6fOT8Q46bxjUWZr+6BXTo\n",
       "YYMiuAKDqgLpM82ylPH0keHWPA/uGAHbEaOw6huSCVChS9LNRIJ4EAH8ZXWfwpzbrNpkovz0KmF7\n",
       "90IejJ1qyZa20d7xjAaoiKTOvcGQ+uVwqDMoKhItU8t7n+c+PiLqYFZNhLu1xQ0lxYfIhkEqOxYA\n",
       "B+0wLiUh5FGzySmXEQT3Bu7MvCaPUnDpi00nayK2oR4T+jLO99dBqDcIW4YJx0yj+xfHavUDVofw\n",
       "YpwptttXcQaLxDInQvuoKr01prV16pifIth8+7COCPNfzsxvYrzhz19bs3qarV6pdQuHDmaRESfG\n",
       "7SenwTeRiQMfg35e5DHadoHcQMWAAAAGK0GbWEmoQWiZTAgj//61KoAAE5+zdNargTzgCgR0pQzj\n",
       "OABcNF8QTjJa5Ikaab1qrPo2MBz25CjkPyDEYqHxZ+7l8CJl/5T4z5k3R5UzMPJH2L3ab3DVMP63\n",
       "P4jELw/D9bIZR09vGtRv2RRKqkA17h3dEtKK0hsnLHFTLO41mMQYrk0NZmZUsCteKDSNTOySpmGi\n",
       "CeT6bUV9+E8IypRlmgMw4+SzS4aa/7DuUcDACdPaEa79fyyfYrpksF/ifQhuiz+OTD1WxNMGHct4\n",
       "V7GjHD1FOXHJOvoNf1l4+yqCBdgXQv+G1RMmsuUXJjczQUmrFqEdHkbZhC1R2Wo3FbFXU7dprzLj\n",
       "bsf+T46WVLebMVRvCXZzGtF4hkDw68yqnJbdnWUDzE4f5TUZKnIqI7Q8thZLYCk7Q1FbeGnbBLA9\n",
       "rb2AelP9GsHqK4ulFkQpwv412hSaAmIPzdtjho/5oPJ5O1XntrCk3JSaEC2c9jBRd2Tf/qMHe73v\n",
       "u+12ZikQ2uBaM/QbpDYQIPi+RIrJS3HFBmD+SW/U12rttTtffVXJnsKTCffffbcN17dGG9kpqvlr\n",
       "HztwmZwN770VYUztVqqxlxsJE8AJVFzL2a7JNUtbHMgoCIpSVzFjwZrvBsH0L6EVCwIfpI5OdZVC\n",
       "LzHDFmZj5+ecFItB1d4rTIQ775JmXIPGZYMvrgCXr/R1fSW7dnS9ygFueLB8hsWYCjia+P5SN+CS\n",
       "ZxlPAvG7tm7Bd1tNeVOY03eF501baXjugRPh4Qe49hivClhHWIIuCwgortpbM7rxQFYQBFKoe0FV\n",
       "r8DgO87jH90uuaJscevBNAB6xEc9lPNg96SlxNDaX04mbk1W/Es5+MHmxLYV980ExFAN+wxxtplN\n",
       "T/1atW3kNiwQxbkBOGZXjH+kBgQTLK9uA0a+cwnIreI4XC00babyUEgERwlhIch1i9QIe29708Xu\n",
       "+dBigZ8wh2PtJCV36jQSaN849k1i6seRLkErHcF5UA/al45H1SgMawgGc2NezFg3ox9KQo6jv2TM\n",
       "ro8weKSeKkMA+21pTSq4cLX8Fwz4LFbu98zHxDiLaUgim9ZmqlbMd0d3rq67T0UnkZk/uft3Js+N\n",
       "7ClRUT6Yl68SleIT5FK+BfrdRiGGnTLIp9Zbj9Vg/vHkvP45y2M9rK4LXOubpivQ5IXy5Dq8l6Ez\n",
       "YVu6esBn2mZExbkcWNEsmncfMTDct3RIACTSXI+xhFGx/JGOQE5Uurh6NDEOHHmnmK5XOP7NlYwT\n",
       "ZnfxQrmW2RcR8rO58rpLXvhFp21b6uUB3nSBTVvjvZSb9YsSlB0WUSsuWrBL0DHplRsdR+DR4evR\n",
       "y3kQ+F+gkr5jN7aom1bI6OZ9L8hSg7UQNWsZytWneU1rz3BgavcIpBjfqYBvcxJ7yNcukWXEW8v1\n",
       "FMpT6ZOnrUr4OO6g+m6ssQIXNfRat6Jf3bq0TdQQuRukFyU20YDKvUMEZ89N5Mo5zrlfQyYOEUog\n",
       "AdiwaBdVzUpYh4CTB4wmUwac6x5XGorS0RLWGKQIqI7BFciU2Bb4keWHdAeq6oQGn0Q1zMefCJJz\n",
       "65O+AmHRVEhLVQA07/oK8OP1RIrFwX9bZ2HT6Z0biS3NV8n1EvffpdSLeKpi9ITo+Tdp09Pz0x8l\n",
       "/UdAmpwp80o4m2ZC3KVAn75hfZsYUJRl7l1C8DMIWa9yAKaT+v8Ea6pyGu6O9u/mIUgCxcG4MjTe\n",
       "onbw++o56tgX0GftOegNIIDtWtbrewRpNzsDl890lDNzXQSACStCjRic8mgUsOUYG0dDnkVifhuk\n",
       "CeHOgvrB6CXMLR9PHIrMitc+ZFFJl/e3ZbigVxGCLr1FRNHMPcEa/NBMevI+BBvfURGHKcphN21M\n",
       "VCbf3zOAL/KCmRqILYsZOujA9x/OKtvknOHIRI/zD7TzNEP1h3NBd2Vk0OZQChoRc4ofD8AvRjsJ\n",
       "qu5NzN0UQkqpVYbdMS+DbfYNhjGOlWk6CwccPJA0UG1WmSlzgVq4r9OuEXiMETmG3FRhTJDnegzI\n",
       "P2wmGucqSI0SghqSxxp+fq7p9qF3BW1bStZ45qscfjsI+K9lb59Zd942VeO/MOFnEzfUDs6wfsN2\n",
       "pr6BWCyQ7oEAAAPYQZ92RREsO/8AA3pH7SomxtDlPbeQsvnB/oWABJ+2Z1+lzxgjZ984sK0+03Ez\n",
       "K1kkmab1QRrlk9+RHYdj4eO78fH6z55AFAlQdSyC+13iIdluJ/SA+beaGcEkkTYxkZ7cJA657QGQ\n",
       "LfM+k9un9J5Fv+jFzVfqifVgYxpHuMMmGZu4FSBXwYzh524i/vT2VeGEM1rsNhGoWlYgGp76HCOR\n",
       "w75SvqeLbzYbu20Pc2T7PZIUjPFvzmzGCNBsEPSvaN6xaOOy/Nvn6W/h5Xoa0yi+SiD1j8xdmDX1\n",
       "B9c3DbdOUoevmLsmAO0nstJwKE/JsU0E4/LWK2mvH6OtdHhNJpkI3FYzN8+xlTSqd9zG8iCvPA6T\n",
       "6TP0zCmXFr9z46eIAEnoW8mkb7vo2AxdjUHIidSoc1NS/KOthCNtsJ+NVo+SonLM1P3xf5K9gSoB\n",
       "Vk6ZhDWpYhimOGfvZQ+RR9NbTvIHi5p0cZLv5N+MdCOrpJHYkd/APHegN6fKY/vK3Inc7Wwf5j18\n",
       "zbd2oikaR4nsRJa5/riOX6z7dSCIi3XLly3lcQQ9p6lEALSL5CJfVBdTy3kGZAwccp4TApXmHlo7\n",
       "daB3sRom9VOjn/6OwCp86o0LUDyV997lhuH28nJ8eich4+8qcXL8XDUonNirPKPU8tRpJp8fRkKq\n",
       "ptvp5s9fMBCzq/yTlKBpNnCYSYHzrOcvN/TMaVYJDJmXX8dgjlaikCiPB+AbshLoTdhmwQbOoAm1\n",
       "Kuiw3E23k7cPMveorVwc0qYHnenvUBxLf/vHhA81EF0sZH5V1PuG1dDCcEgV8dePCdLdXGwjAaZZ\n",
       "XbeBWW5sSk5JMxvPDP4Ehj3yHlIikXjJjUjfr3qrPAyQgD/aK6Q6lKYqqc5D8VLFsgPTJobRBm3a\n",
       "INQqIkvpylDZGpmbe/ZlqIeS3AES0iZDMRTTA2rChSzMNpuTFtzLfFs0I8T+n4OBU4VhwRpuXAa3\n",
       "wk86h4XBITrvADLY4lQ2Jna9fxmCnnI1C8FvIuWzUMpCnmbQD5e8DTfN9Y4dzcCLDcdIBLPqUoJu\n",
       "zbe6lDmqSW7wQCoVnMYnGCVyLPXvUTMxdq4ULbZlI7nsya/luTaIzsMNHz6faxMghRjKDmzNJCXi\n",
       "aiiqCiuUJi8Z586J/p8kfOCk4S562bFJ5TS0CP9ZWvsH1Qa4+7R29xWRGwVx/WF212e66OlMvAHV\n",
       "9oRGgnwaDzVlV0vv0N5GaD/0XhGeIPCOH6fPcskOrpHgwi3aBuBKRVUqxJGflGuOnwBNnO0UDmEs\n",
       "aOv5ys2r5Y/x+4u56oQDH5Jl3e0dTzQy2BSQAAAC5AGflXRDfwAE+O6M7VvE06KVKJTEl28xP5Ei\n",
       "3eACdWYqOclSEyECemRv4FnkqcoFQkmd8UexB5ObQsTBYM050AeKZog+e5UK39Ff9AM7NyTvbJBc\n",
       "BmCbgsrboGEc5sXtkDJ5DeyuxBtwrNN9yNsLfH5WRh7GApnMxW3uQISfMMeko60dysPlP5HS6K/l\n",
       "0KvGZmvJMuruvgeITqbu1XQLMJyuywz9aZlHr+vPBBcQK2heXR93bq9uvuOnfGfPcSQ1lVBKzCSq\n",
       "D9J+RcWuF1orP2TNe33Fwy2U9xa5aSxj2d/lxkWPqQk6alRo+kcjv7WdqoJe0Fr/8Kac5H+1BY/F\n",
       "sbvIregHEW9uOa1KYZNbmPJlm5NJSE167uIU0H85evilZnpy5sLG3uzWnB7kS7HjmnlG0/ZXqgAl\n",
       "xndlV0ENTA1M9BUdn2RJfKdGq3bwVq1Q+pZ/ZuW36YE/LTMOKc4UYNJEpdF4brTlI4cCbHEAvR2X\n",
       "E5w6nrBuFHYgzcCsaSEMbwQDGMl2cMkm/Q8J5w1yznP0iBRHH6scVQDQRLDw/9F/YfQfTu4aOjFX\n",
       "rpE4nsVfVAPe7TvOUyIMblHUEvmcv/Zh0wZ0ELP11/7QB+mhxCcCuzHorDLDaMq0dBywd0C0ArrZ\n",
       "S6RqCslD5YSqJd2/D8Fm0ZEBvnKuyCJXFsjzU9uiyLNug0B+PY2JYzf9CVEUViXEU+bfiqbVsaKR\n",
       "ZWGbFw6foZC6fVpxMpn/NUsD8uKxCeNnmo+M0S296W612YmqvTudtVateIgNgHrcNTcp7X5PUtEH\n",
       "/n7KRHYTzi8b9x/VbWjLBr97MjFOHQO+ZetFkIyfyu6BdPMZbt0nbl8aJNDhWg/XFGrXUQr4twOg\n",
       "Kh/oPEWO4K8yLweZtgz9xaYLjvgDGI4i6t2VjBynzpducitSjZX/dXYA7oE1FDXxFqFZZ4iEKnC9\n",
       "v3UlzCnfRpN2Hs9BvJewODQ5TW5tiu+j6YLPIkOPAAADFAGfl2pDfwAE+efI51VIir3+HePkpGYN\n",
       "RuSYAP34kild65eyqcqr6KP128ipQq/KbZhU5tZTCspYn7GCs/9hvql76S6WaeZxMI9pg9K38oli\n",
       "PjYH05PH+IoXwLpaeZJrHn3S0+m73kLYM4XcsKwQI2RLGD+euv6mjBUzAYRYSks6XgYUk38v1mJO\n",
       "7Pwzz55WF96oEWXDP/OSk854deLYwfvaKR6p3RnsyEnZrPCDABtRG/46L2MhThSEQwW/79KypfOA\n",
       "FBBOrZCGIlw6kGXEW/eIMWe2NmnYBErQKqhbDYvypYD1AOOBwDvuG6h8iGdZBgwYZsdPDGHq2t+1\n",
       "FMA7s+ZNWJst1Kng3ggKoauUSUjP1NT+63o8Dzof8GZLL4z0gcyf1NFny2x9DFhbFyOx2Kn3AYK2\n",
       "R3iJqmOIP/O5YQU5p2vMWWydvGG46HLavmu78Du2X3H1jtp0ulA4fzoCDRxmIU7IwA7Lbkbm1csG\n",
       "C8xD3FQa47aEbqIJB8WQjiugWn9ITS9OnqInEDE+jxE/U/JfuysmCXSRtvJxR/pWak4tu4GdEaJp\n",
       "iqMZSv2fTK38j/t8UWljrtf6aoyzObrhx287SpOciOVsDy3yKTw5sfM3iMRQoyi/nOXeZlrfrEke\n",
       "Nb2VSHq2z0m1nUo5BUDOHnWy/u5CJ4F11NDXfLQlJWnIBgzW9ETZElQOwjZ609L5PwPCHuF3lm8Z\n",
       "5jJBKitFI7SMTLQIKXwnllZ2Nyj4qvMO+Wt/Ry/He61TeKawDb7ry9HHuj8/osZi1QwuGWP1GOfL\n",
       "9f4b6ZDIvOIkS6ZRNrBF8sPcTHgHn5/i2c2pbVojCtcmgKvlipigDJfeOgHpddxPWbp32aORB1h3\n",
       "KgB835SwMxBZ30vaZqniZOp6JZ08Vh7k9N9/DsXtOSNfPo530hh4iwDn/tmNDK/50o4pbY6dPKPR\n",
       "DI2CnK9x8J07Jah71Y+fvVvyVZ6kCsFt+/QatgO+fI4r1QRLVKFV80C+HkIICymSZq2RWhYJdSNT\n",
       "kzYCKRexZe0SF9nerDopkKJ/aYyYrBexAAAF+EGbnEmoQWyZTAgj//61KoAAAJwzwhPk4M3JF33w\n",
       "AC3YbGTD4UvVYDIALTKpjkBaS1mcIKn+j6G3aNOYbXatbq0QVSeWzg4x5UP4ItqxyT4mYVza8tmB\n",
       "xG2l+gymYkGTtd6jNhjAkM7blNhZNX+pPZQrfpeMZWu4rpYi47WCKS58XHhXi6/1TfB+GsqoLO2K\n",
       "9k3BEAykaRA9VSijnJDsilgiqR9p0H6gNE4O1oUvE2KzCGbcDjkxQyjxdE5vIU7iy0M93/xd94wU\n",
       "uGkfBArEZoH8vItq5ae7z4UGpz9XweN22OKayWoj9fdz3//X/+lM9PMgM4mdqqP2c+eGq1cfU0vJ\n",
       "tezUnEsGjq328dqQDTlpZJojuTE55P0ooVbOeVTrhlctvwxu3jMLJb1JE07oOdrHFOCqg1Jx/9bZ\n",
       "QB+7kC8QY5M5JaKG0IqsLqC2puPCsYhBNLzxBlEdmw8xv5moVuIbAj+/IN/ZevtOB3/ph7E9GnGy\n",
       "UO2kUeQn+r2k2sP2X28pibXvrMarmPBMUGYxx94eXe2mWaO//HpjOIXAE7iDfp+080sR7CoQXeeO\n",
       "FA0zO5eOV2Zrvoeiex2zVPBZshzt9yHShudh3yz4yS5m9LBFdYW4opi5b9noCKNTvrubz0xxCcL4\n",
       "HQrhwZYrjDA4cGqbHnvuU+u/I/CIOHmyG4fqi4nP4OqGHFkFZe0gI29xjitxd//Ofb1pL9jbWVQq\n",
       "38d0pQ1cJvd1rgLrW6bg0EMyNSLNo7pa4oTcCMKsyYGG6+827Ej3NuOKsRiUAFU6xTkPbISHPjFZ\n",
       "pYwYeWsnQqbDW/Y9DUli9y8yI/jfop1ci11jQ7+l+FHURfpjwDSOPRp3gMqqRGGLPrl3YREXzB+u\n",
       "Dejno0zfVs/0EE3xkHbdjLCGUuQ6UTqA69ofCB/AEBQFONZ9bXf1zHe86tbfqFC16bLfNDsBzy7A\n",
       "mWBO4Np03eyHFSfligz/KhZaD5ZL8Q2BVrZfuLSyhCxvQlhroX3v/S4+/7T9bUJ+aEyw4nXQRXYj\n",
       "0KlwsKcn3M96KXx6RHHXyv3ZfLKCjlQ62RDZlpBhHDtvrezP/3vTrBlOG7Vg31F1u5S0r+aqO7vN\n",
       "Tc8zBDAb++BRKiA9BLJhzhI9m8D/RXGa9QWy7o6fTYhhnTf2xp0r1y8/XWVb4OigYtKoq2PD3B8B\n",
       "6eVK7wFpLL02XrubnGp5JLftUsEBgdDxhlhuf6H6vrA/LvejloM4K1YlCcEd4Do7vK5j1Ip89U5E\n",
       "vjpE9TnkO6qxUv+UFCw7s8oWYbmsZDtVd9fDccYv/9qkulLyGFtfzfkpr1VI2EA2I8c5sm2iMeQY\n",
       "Wwe2FQXcsapxW2KjZe8/1+IzLjjqgIauoyQdLHG8Arks7oIHsddCY/o8YGNKDl4OEZfKKjFJiO2/\n",
       "uy5h25X09gK5kCRdoOzFWC8Q5DwUsuPyhRbD4NhPnUaGFy5yp8e1E+GYCxdvEEsTJBf+x4RP0lAj\n",
       "D7iauEsg2k+x0LG8C1sgMJmQFrtBG798x8A7aGj7Ec7sy/xFolBwH2gvO8+x+Pfr/RQ0enU/aOFm\n",
       "+QQBAfUZ8aKlhtMPpzv+yJ4l4qAjt/AbcRqkajLxNzw8TIBm3X+EIaUCnlIaKCj7Pbp1yiXxSn9O\n",
       "FzBXdt+kHdtQERPjKWSG3EqMWyLY8CxyEDUrxfWiBXqNtw1MsxJfKXR02G7t2RJ0hNBL85gsfmnm\n",
       "ggJUQqJZEDTRF+wgMLcAPDamuTxcO2x/swYcxM+8XVptL61MLGsknFHmP2T5mO+r7AWVy/M3EIkO\n",
       "kD7Z3mFAY8bzjv7E9DrxzT96B1/n+RnaykCYDOULZja6djP89TI7r1/7Ll8JebZbQWwS8XxmfGjp\n",
       "WIejEkOKPCOjXsDEZ9PtaF+Iuk4I3oidIhFM2Zne7B9pXMZFFtJkpLLLNNCxpQIf4oNzoF0hiqG/\n",
       "tyYq7y12lmkeTUKFuPVMdZuJRoW646+ntxZBnRP5zbJO9iadWbfQwFuuJTOL43IMVmTYEdpw2tCB\n",
       "iFkxGq+gsnfkGAgOl6CCNvQAAAPlQZ+6RRUsO/8AA3pH7SomxtDlH4Y8YCu8uilsUuUR2IeKB+3I\n",
       "3lCOACdasU/7WX9MXraV7hYugoa4AO2PHi5oRKqOLJJS0IvjURfoLJu31+BFroKCjFLQL4zHNcJN\n",
       "zY+AX7E3qucnzmaCnq5ywdj9ynoaXDdWsAC3q8z7qlzbSaIf79SwLijvLV6Ne27e8nS/VFCKkpTz\n",
       "ffKp0q0UTN0JGyXU+oAWoD40bFDwk6NzDPLNvB+gfIeUG+q5tJOy+wB3xUyzHi1LhHT4TdxZCgus\n",
       "6H7hHEfVbhrY8rXvCcLupIE9pyc0QO632SxDXyOqt3CcalhwieUPvl5vcNt11KJI7gO9tGIh6Ox2\n",
       "pnjl9ZTLGa9Dq5ZP++a/ELZxI6GTn2AytqdEXjXkpccxSLzQNYrtyA21L9RTlJqA3f/Kxv0ytYRm\n",
       "+hl9V0YsRKj8x+mE+ugXSugR7qlWCBXTHUAMO19KDDjV5CQQ7ZNMyIS++4nIoyxfg7ktpBolQwzw\n",
       "BMtHIazcN3QYGrSzDiD7XjyfDF4gdUvnrET8e2M+9UynbfJqnWDavqvNkfPDIm1evE1x0RGXgHZi\n",
       "j25YxGg4QfYxnrp0YCZBnmdNQDqBsjVRhxXRGq2SaQ9UxXLEwrPI/CgMyI99xpG8MTcloJzT3u01\n",
       "pqlBz4Z9EV44tZO3KyakgUhj0eYk15AROoLtt4ipsL/q5n36t22g7gu7Y2zwKsgBg3gtZ7DFMc3f\n",
       "tnYOTUEOdSphATCMKBwU7ckSQWV3wXDMMGLBcP7uYlZ/zsWH4EbtbuJUWbsO9V46E+C0dvuRqH4v\n",
       "PzkmzibP1YQJnPhk3xmFjk0wTierViLpVtFNU/IKjLb9+GRbROiAJrbcnuKYJAl8tvbswUEH8NjE\n",
       "AzxrRywqnoT6qljs/k5uT+Wb71dcrARKB34ZnPpY0z0CFdxP1hNat5QA7k1MfqIqYhmSgrYkaeWx\n",
       "iRBGtaZxYvCXkfl3pJuTm+pXDxWX5YQUYdsVyxutrAeuhhRRXTXWW3OqFRAc0NKA3FcC7/WFk62r\n",
       "Wcv2bimvTc8ppYvXKkUOdzGc02IaihUSTDyLsdnUIxYpU+J2xAVXTHjaoJYYTaIRvJzEGJvW8Bs0\n",
       "r1YFPK7YetijN/RPbukyLibkAy7BtVhFH9KVi1p319L8q0pfT0DXbythYsvBqLjWubSv9AM/L+Ol\n",
       "sSRvW2szNeV8yDiJeE+WgxkSiyTExmWjcyrPVuR2sSx+iN3IOZAsiBiZTEecFBrJ8bR9uikC6F9T\n",
       "O/xzWAXYZEWl5hgvV03WMSEKn2msG4uREnXYfBfYirl2UiDA9KHQ1PL8hAnY72jugQAAAzABn9l0\n",
       "Q38ABPjujO1bxNOTgzXVA7KUh5O1oYAP6QjErNxgShcNn8mRVPrhC1AmtJ0raDfFGfjuBEwvtJty\n",
       "IOlSbl3kguu98hlI9CT+hafoAIv68fYGWnUopL2Wac3o8fEwCSDltxIm1BQ5gIcPx0EET63Qu9OS\n",
       "0NHXkBy380BkLz78s4IdxSQawTqZ27WJLaPz4vtpcGLz8pUMNTlIobsCWBduFGrYbnGhpm2A6Za4\n",
       "NeX9Oz0Kx9sJXLUQIyNZq9kWfNOydmq8TppvrxT04gJY5+geDBtDgE9AhQcvuPDi61MXfSNRld3d\n",
       "j1gnITpRIjr22gTJ56mBNlYA/898WVrYibLF+AWj0+VMQJSx0NapKt9iHBbmNEpJW+f7tVR5n1GT\n",
       "euOdDRCrzLKhBP+vzT3twNNISwpLWJ/qIn9q3ZnF+jmQbwIyE1GTiGqTt7rDnI1gtslLjTYV1s5u\n",
       "BQIlRqdMo5EOY23aq5HLP8cKSvZN0+DQ+1R7ALf3O8SvihvoZdXQEMmFPnRXp6FAZgYXOOkL6xrr\n",
       "vVPylRB9YLYz2fH1fYygtkT7J6YmRNdld6148PQUwH4wyi/S/WmqjXJLDAtjzc0YbjKj1FZeLSJ3\n",
       "VM9pgrI44C2TsBHqrlsKpoKOlSYrPd8Zc0cz+elX31h24aIsAmj20tniZGCT/1566ocOdCzmNh/6\n",
       "uhdF3NYSmQn8a2xZlvYR8uIWqXsekFRi7Gbt20giJEuqtGp+hoUGBVioRnYMUEIatv8wb7/MTIWT\n",
       "qtpPyyN3G9cpRt/LE5tOLGHD3CCnN6ZAamkXpukYcBFku9gL2wwfefg8+Em59EUetL38PsA2m9sX\n",
       "ylnn5S5VG3HE7FHfhFzabO5ZoluKPd3/jvjAUIYjFxNLEyAPX4IrChi4kq39pTrKXRIaFniczyHV\n",
       "hORgPdKQPDptuFgLk/JI1g8AX6JZfJ/aGSVEabcAdZrYLOPB81QfDjVCaABwWmbT5td+01SFfAiq\n",
       "XJl8aVIB7569wQ+qb6uzOlLaV8eFdFRzYAi0qXLJmLCHh50QTU+7csijrXxrMM6dURPQkFjVlilP\n",
       "f6SqJw+WJ2EwOIxcB0QAAANaAZ/bakN/AAT558jnVUiKvODMkzRI8GsILFACzO8OPo/HCmWoNMpF\n",
       "fXQtWd3vEnCxUDDx2NRe/xIlv/vclKioX6PJjSYAYw1OEWKcg0PqEWySFX61+nz7PGVcd29LpnTT\n",
       "hKW0W286VtJKJfiltAiV3i2C9auN6tZpL3HfsgvYJ5It5FQ37Rravwk6hae5IxUxUCzwUR3Jo+TW\n",
       "STKsLivuVM+8Giktm7vBWWyHJBMvfFvGZlRTaUhyjM2QqEbwJTpwpafnPsy9IBWyoxlc9Sn97/xb\n",
       "n8K0x7tUULtTaomFziRchW/BhfCMEfVG8FCGKIVNcTvxGyjmjiV6cJ8QSMqKSkiIQAPjceGtRG0g\n",
       "6bmztRpV+6iqDqPdcxR3zs+NjWB7xcL+KOBhg/G8QMU7Q6FvQCZW53o/dP6Q9EqfU/rI8KaAfO1K\n",
       "B+2oFI+T9+T2T+hBzf0Al6TT1Fyw2mi3QjYVFRKF4LJKqn+p43uB+EgdEeimkh91hSvifQCuWgNc\n",
       "zbTPA4J0w56dfCAxeHQs+VQOESE0/4e7RYN19jgZrPyuIkkdxi9ovoWVHS5VQZF3+cv/GW7g3+SK\n",
       "TdPFTuSCw/6taGVn1p0S/krRmkIbX5v2RklI4pnmCLa4T/xF8YkX9gHLn7oNAob6zqPD+lgnF6t8\n",
       "YSq7Te5ld/jxr+fb7ddIQX+f7fvhDYXYidYPcFpnT6MflwL4OR+Qu/NdjkhuvNpcJnOp4TJjRAPN\n",
       "fRXLiItT4dLZvcHYdvJTVC4quhU1mbbh8BOcovGVpxc0hPvsGHNPHwLRcRYCCKHIbD24D+9di7tI\n",
       "OO2M8jvbhJz46jU/OWlJP1Jf8gvH2jVxUnF4UrtO90OP3eDEVw/xZH+/OAT0ClaHJikB6Pmkb55F\n",
       "HtVKcDSFf3EtGTHsNqLpIsnNbJJHg3dTXJmvseADrgsyx1NLm+4JtYjANpXA6OUoAcSh1JF0zeap\n",
       "xtXVixdqdjUq2P6YZNu4VQ5c0jvf7guTL2ajD5Kj3pv8GUuukHFXt2rzO/QQ4fW3IOXYdT6NBQjx\n",
       "EXseQU8/gNqx7++dwOdk34znYP5DAXpibvb58CRz3S7bEWsN1NGLV2lA8ttQuZu8UY2WMEdwXx9v\n",
       "H+zrOkGdqYmAyBYyhW8byBCw7AGrAAAGJ0GbwEmoQWyZTAgj//61KoAAAA+mclMHx/wAXsrT9PeV\n",
       "4W4ghWFJMn1JwfyyPRYgOSbXWSCwYmTdBAn1XXAaz4RQJ0+AEvbKf4BStB12KmprEqnUgMU48I7m\n",
       "QVC5RwglrwBSHB2bILvZdSHehPLoqjZSa8G1abvXGD9q8xf/rvqyXvkdQHlCaMJMWVBgFYrFmbrH\n",
       "UKZdBtMBZAE3ozRH/pnES9fRkK0W22OQUtbrrNNrihnAI3OePl+Tw9ER4+QM2Nqkr7ymflaWltZO\n",
       "kTIXZfwJo9y17W4zRJ1Ldqpb+0FA8j/dvK/HEEsGomI+Q7KxrtlReqnyMTwCEYGEwF1qtR9t4aMj\n",
       "fATt30+BfUPBDIVWJSqzUAhpAZx2IB5/enpkJUIFVLa8VK9JYgsEr96TNLOuKH1jVzU2a1kT/4aA\n",
       "wpMoAhsmM45qcToqj8eQeVAQPvQbVrY8bCIVZNLc8StgyqhhvR/Hyple3JeIs6hE1rky7KJa4md6\n",
       "cemEvduV+HyZcRo7ZCd2m/mn58Sd+26iiJHo3C/R2AAkYqrz2kvww6Fequd0wEGL7HCmSgV/1fGW\n",
       "lSeqdP4l35ngC5Vwlyz7EGiDR7+Ug/tqOhQqx9A6FDb6itcf13bpKLxg0oqFB8le3N128Gn5KKGJ\n",
       "xqNWBVNY13LMSfpcZHVD0QjOUjRpIr5nbBk4X8RSqa3/R9jErrHygBP6+A5wIDvIP5ddNcjC74ff\n",
       "L6DMKEYU9OxNrIJlxXJu66Hfho0O51Rcy+ZCXLgqPTlZIlT6cOd8RQJVgEEd1YvoZ4cruHjSM1T9\n",
       "9uYI6TrffdciK6YWBb+xmlJbPgxGqiZjxbQqoEQe/tAUtx5dDPEjC+XTtHq2f1rhi+OCF1dOF58V\n",
       "Uivq7GUN8kDCU4xfPmjaRlk2plP5QwJeoryIM1kcDwoLJMAyYXsX9PzchqX+RzyviZm58dRgofmp\n",
       "psRZdiJ1hcOYFXKQc9dJsXm1gJH1bQzIMSjsMGopiKcbBajKpJcaZEilxP3yL2i+3I94HGWuXaUV\n",
       "zDWxkNII91QzajHdf+wh1BP2h9a8V/lIuLZ28yTTdOXDDuwRCmXLNqhInKfvhMO7vAJIwHIH+ZOv\n",
       "mPnqjAQMKcOY6xvVgQNBVGL/QuLBV44GQXBtslkZBJOSIEtHnIphRAkHjoSo2pyrn75cgFQD0sM1\n",
       "DqdLnGQPOH9Dj+ZGrMv3uUyClInNiF2xbXlywzVUkDeUeLokKFtUiVtb0MwwHN3ZKI9IVDl4jp4+\n",
       "hwxeQXV8Qv15XVXfRaagCfqWHIWH+9xABA3n9AffV4jG7umhyuoZq4OemKKet3taw6RFFfDlLn33\n",
       "+Gh6DfPR0lp7/Wju5E1U28Hwq0rGWhhIjnH4Ta8zSjkSz+yAFTSGy1llwIRbRu2q8EGlbzzVfc6p\n",
       "bk9q+FficX2vRkxBYjZr+LKlYG3w7LpIsq7cqPP9iAPxMdFO1F6oaBprDeS6NLftAb8ah54e/mCk\n",
       "RcA7n31usHFvgOr36TdXHgMupGBOfzYcjmYbmLBxBHZgMTIeTEl0ybSVmrEwXOyjwK0xwr6VDLXq\n",
       "t+aBXoCyrhCZ84LDrUUFsYn6lsbLlSodn2sKnygmnRhaMlKKg/fGwF4eZKdEE3UgG6eV91XxpvZF\n",
       "MNxLt3Vjrncsfd0Q6ZlXzaNTCQiLbNWHqKkEudq9y7KQti3l5DpUH0EuSkG4L0fkUlJfkC8bwAdM\n",
       "vhj4UuHlJKUh/v17Q5TMEPkq5hfLdnVtEeBgRgj2wGX2ki/qYg7nnqULy2qjY/r7VBKaq/c19ym0\n",
       "A++xsOYVwigtSofYpm9McLeKU5opyNsU1xf+k4sZAc0o3ouPVubYqEVVjKvAMAEAxHjhP2mfWFm5\n",
       "aDupqOLw1TZtDw/CnuauBnCbGRIh4b9TUY6rZ1dwA/YLrkWQfjnc93affxWRIkHNaRCknOcHCfUA\n",
       "soaHUIYSezkTb3C48Erm/kyc0dBThvnLaxC93oJV05T0ckJBvoC1zqUbRr8VlypM+/oEX8kAWXEr\n",
       "bc2BTjPe+nYnwONYmuAvY0TvFdBEIFxr9RvMhqkHGJyVmpa7sxPsR/EauCzi8OT59/GCZO0NnPKy\n",
       "a99E4wAABEtBn/5FFSw7/wADekftKibG0OUfhjtS8ZLZEUeAf/v6oCgAt1BkhQ7sb+5tX5+ce+Ih\n",
       "R/ymdwOqCrfLDUxvX8yUfdp7QLhruyFf7I1bCYthcHejVMMg36diXgXgBh7LcU9sfSx9mCv70Brf\n",
       "iLC8x35BUvBv5Z8r4eindfXN0VCQgVl8Fkx+tF1V9qsYAjifGmXcSX9BwbiClvOLn+IAMoUvH/WY\n",
       "JW5ehD/s0afHguNm5NWsatOIKmBDgOeaAiMh2qEiXjaVTYI5NVOCYtQEBhz9zl665Yco2IhjSQz5\n",
       "chfkce0RLmwyeyKCqldiKPybQVYuZaVOlZh2+QhQau6oSLs1MDfdi7eyTPkcQUHzbmTGK2O12ity\n",
       "qmtZZfezUfoo1sBZBhl4FOZ1rJmWAzHvQgWZyprsEcg6XnvOpqD5+D6jFHYBg0KMTb2546HlBxXt\n",
       "Z9y5JqHWCUafkfBCm257eCcDUa2ayU69bdXrspHNiModXXbGvEnb6hfdLiaXo11vZ7LoMVZQDCS8\n",
       "YHpvUxO5ZxEEb17bqDir5cVpVZMiz5lbCruwErTT11Vsj/kB+u45hoTvBXHrnCAFpNC/BMi241pH\n",
       "QQKSpE1+XT1qrqpr60ydlBBTI6sai821uGko8ILPRYxAfR37bZ3LIMePdUd69OvWvQlgVIfRiP9z\n",
       "XUQrSLYefCAmiyKkv1TJGezfcwtQHv4sidRfoNpnswFSzH4w+FyTXmL67P3RP+zQWyav2H8oeCLh\n",
       "8nZtBJsLYxuEMZmeL9m85oGzUsLGI8t1T9vqPpO8NK9BJ0khOa5B2CVf8+uAu0alkoOD6HEmT6FQ\n",
       "ilglRHFXPQPToSrP+xe6MpFOeB7T8fM3MquSG2d4db932jdKJcV7YcVzUD0sT0znRHcosCIir3y4\n",
       "urqfQvusrhkS7Ylqp5IjJfrn2oSiRiEyoDMToPitWilmwzRUVW2iksWdO1WColkAtuSmDMSQT9mn\n",
       "R6HZ3KPLBDyv3I5ytrXrA+f/16guX+D8JulLC0wU0y4zZhgS/wyu/4Hpb+vL1qEwvj6vE0B5zj0k\n",
       "dtHzJrRO+uFz7BB2zYnXiWrUxJNauWh3HR+4dYZYvNYfZWnHxZSGHn4V3rPKuutviyvslsQwAg7H\n",
       "5F56oZTezA1PnoiBVmNH8LJ+V6WpS1dNwKzGaRbse+RLVPg/MftuZyL4ElC5J49o7TWz2A8+aGUV\n",
       "QKaQGZ7rzMWLHR09g33xRnehedBf9M6COCiJqUHqD4vdALz86pbBjGecCk3sPEGTTd+nAukC4mf/\n",
       "KcpykYnD7lAfYOaJ7aJ7OTyRCWRz7zVRE7YvupB8uY3fHvxVzIry7zQfkYFVcIs6moOQyTdkhNOl\n",
       "2IrY6UURaRUV4CQBqILkuGUSBASVqeZWYakL3nmR9gu3z+gBfozTxjHZFOxrCrjE3YJ+EuLrVx/n\n",
       "DVRif7EXZU/ovI621OOppysA4a/hxAqYAAADGAGeHXRDfwAE+O6M7VvE05ODNBwkD7xJQBEvbJUD\n",
       "66C51b+zhAfbbRvQ6R1y+sb7NV+n6m6YwmjuCtEN86yWqndoEwwLqfz3CtKqwpfg4Gdhosge/3uW\n",
       "M5yifi2bNr+0uwRJ31f+lBiVeDdszC5x9X34D4enk/zbqjWMtKTk357n3VfXPOApaLNCDq9sKJvm\n",
       "OgvaolwH4jJoYct2pbRx04Tq4qOkHyvJwRDdTPlw6O8EdgRZex85AypCWbbKljTrWzPSKf7oCE91\n",
       "VtkJreSA5LsgGwdXcGqU8lIru9fB16ihDGtNcHYz52BDfDpB3Wtfql30baTITruLnmif8OWwxTZn\n",
       "JZE0DFKs7w5iFOfpc7MIipzzkpoDGsaqz0lwr/bA2uJEH3Te8m6eom7jjPH9iphf14tRRlq3qNcJ\n",
       "Y9vbBKJ+4sT+lM8Rgd5levTkUHKR/kV1Zeum/RoowpCUjkwAheXh/HYNXBSYMztwgQJboOr+PFx+\n",
       "QTeCf+Ueq0c2ooArUy4fH9jQGJQcdS6c40oJm7zJAdaJkv1FZ97zrJSnbfVE+wSY6yEWGHZHuE/n\n",
       "19T8p7Z0ddKj0X51B0EJi8MzS+61o1fsuVRD9kr4tg8KFGOO5vXayBAxLtWCWScNIlIuHOVUo9S9\n",
       "5PUsuT5e4dxYAcT97PX7//ZxaSWjeB/dCYn4GrOgoXBJpOIBGz9Rl7nXzYXlE0tIFnEuFuFukIhj\n",
       "W8QboIpxvikXKfCv6XBZSjjKdKUuJPgxzK52dniMYtXawQNqt0647bWvfAjK5tnf+Tn6s0B35D+D\n",
       "6SO9kdXmxfpVckjzlgEOEq9Oe5jV18wLQSCjmcTGNJvI4zaCO3zU67w4Kb8x0Qsg+I4UZqF02bI9\n",
       "rdwYznykur/SdDL3l/C5Q5e1jzubN1XnlWPpD+dq01oYUSyIAt5EqU5bu7xQLKdSykXm8+nh5ErH\n",
       "leZQcbEPyHdo+7UZU0FECyeV9Xl5RdiuakkFPX+fyZamEtI/JdE70cdlHSaFF48EzrFB05gPRd1T\n",
       "ACjKd2772s+L036iMUgMBRbeeUpCDgAAAyIBnh9qQ38ABPnnyOdVSIq84MyKUngrtD86AA3pzzpR\n",
       "tLy+Woq9Uz8SLtwlH9FpOWy9QYqp1rvrzjHKKEVpkKNLkyEDiVcmzC5tR3Qwciom7ok44oBvTQ7J\n",
       "J/+xhTSeAv5U9Ic/rBvE1DtJF5XVRqMM8r0CwM7Yovqh+JzxotcIvkNxzG2Pzk3RTAhmR1i8/YXI\n",
       "Hp4xkOdIp8WtO3n3UpuPSKwCusmvNrD0Il6OD8KzuNGzmKZ/9YfNW6J0O7G7/ZfZ6Ut28uWqLhh/\n",
       "QZSXMlxCjP4bjBF/0BMILxSzh553lW2yeqAofOdjHGbFpfLzMfSh2vdWxn21FrgGU9C2G8MNKkjS\n",
       "qhfhaYHiP6eB3FXHxsrqbcAVfgWPOpzuayN2eT6PuQCq5vuFyHLrc3UlJuPO8uD7H86NUHQzJyF9\n",
       "mCOssqvdqBUQ+0irJ7x/Xz6eBo13GelVjGCkS8etneV2mdJUB3tqnG1BAPT8U23Eo7X08UCv1vkM\n",
       "2TMms2f9EboY6bxz9FGNiJ3svF/wmF14Ms5VjkshSyfD5O7Au6Z6F9ZoOfUsZ5yiXrSC9+LaWBcP\n",
       "PYr2bF2Tk4i9Diwzq/4Oiivp6PzOj/wr1D37kPtqFljAOkRU9tysabB4DsBq43XxXDK5r6nFTla/\n",
       "3WeCblnfG/RIupXw/dybInJ4V6QlQVC9+mhBxIbHhFfvZgoAwAC8TaglCbyMs0NzJkPL47qG8at9\n",
       "pjUAuMTlZMOwchf4PQH3BnEbdp6TBf9vzEJFTB1v4MSOGS0xvBM1bb0SnSJQo/uToPEt54RwkK7h\n",
       "dmNRsr1mTv8h+jJMyFzck6yLasdkyR6Bbi0uX0zgam4w8NKZ/xJgcazVBiSS0Po/n3m6k1jyU+Me\n",
       "yVBhRL/hLT6R4cu/mZj+5zv26d0EfvdombIB/y/jQcNW9ZqmvIkOcGHIzHZUK9MncjURjdxkwV7f\n",
       "xCvmkqg4qWVN7gXjtUjzLrlged8Wlxlpiim3c4/d2SHW6h2J7wn2nb1fljw8+DqUojRIBm3579vO\n",
       "LXHo5TI1O5zQmysiy9dTLUIMfN0tUTTj29wOkASNAAAExUGaAkmoQWyZTBRMEf/+tSqAAAAPr8fM\n",
       "ldul58TeiGlAA0I6tXURaGzR3vgT75m24cXC6NNWPgWaP2k9SMDGFYDiKEsS4b0ov/CZcN6q6eAS\n",
       "t0RMRDb8wXj4DRql8pm+XfzuO8AZu1ENdHfqof25VKWnV4+vO7L9pRzb1IQgNIoRXGvkl6tNJVq0\n",
       "XBrd347Gl7rQNydg+AZfCKqjcY7NRxVSkiPIkTjNEjxqZejXYQXznSBimYIIk+Rr+DYLZkheykLW\n",
       "YKUPlKroAb1TNpzTudz5X2lhm/+mjmpr2beL5kqI84YpryB5EQDYn1lqUOTrEu/S/82ZQcEmu2Dd\n",
       "ppElTETM5BQm9vTzMRh120Hq1eJ3NpPxLZt0LYJIvkpRZSeRHxFAvA3bXNExKhHPqeMMHCNgubMy\n",
       "3vtAagPn9UL1OkkbOYlJnzp9uX6xaAzacG18MnxTNYSZ21Q0NEC82V9k1we98GPta6tqIfrBeiIy\n",
       "El4Pl6VdlIbAbJtKsyoFrU9r7yXI6PJtC+SMeG27sgzwXNgM3Y2AEcoizjK/JetA9K+0FMmq/A8i\n",
       "ZuQ5U12Kl4OHRhtpqbDlWtw+dv8miWkkFlAocWR3oyYmKzslJROFNAwNYayPVBrIVJNM0XLhajdd\n",
       "zeMan0MOcIBXzzUh0fuGBwJwjKl5Mg4HPZXQPRJPCf+3Vg8x9oy+7oC28uDDZcll8/wMpy0bc2aZ\n",
       "vBrddpWB7BUaAVox4d5+F2gCYve9oJeuEmAHKhB1ZFpLsDUi1Oupg+yrH6xDMdxZn1vuEAWjoyeD\n",
       "tIWfnVz5exWxcKoQ6W/jRQo0m8SNi5PdUA7K+hFHTkDJxpadmntvo2fxlJPfT21boorbrIAw7k0E\n",
       "vJkPLoBcR3J3yci0wxlVKz11Dx6NVSYv7tr65xvVbQCAwx5XZnyAx4/wGb1lza8UbMWjMTXSdHV4\n",
       "8WxN+kbqk3jKGxC7ggMaP2acRGWy3hmsxtnQNEGpll6ue0r+3UFcd5vX4IIns0jElYbYK9O+HCBt\n",
       "8++RNEaCe1P1KPGfPGS5DcWhZqnO6GI5GE+qDFpS2ICJLuV56cUvd1KT5oeywJu7/k1SXwU/HOiG\n",
       "aCC88CDHrGeKxP2OLrTrqKlFH+mCjZHmFPhTMQvwh2hAqM5vNDT5IaksnJ+ikVt3Ho3oJh18bpvx\n",
       "R0u56ZDaQgThZym+nrnv8tEY3hPn88oBrfRFWwH4L885QvShtY3VYAIz+fcv/zlR9BY0TzP/SLkp\n",
       "biXHBe0AWwj4SD2SfF0887x0hGhbozQeBPlRXe4tF11kVdJk9D3wqALlNUUckCP0lHKfX986/rd4\n",
       "BRc3+ZfAl/Uicily/1Go0DvwLWiqoFhhRNPPaCTaNEWXbPvmnFoFYdNdOVgwpq42/w2rUR8V2UP/\n",
       "U5/LCFD1iRnO4wsvO1yPZl/deKi4T/Sf34J2q30d+yrB9sEMg7w8TzRYse4J+KjaBiJd2DG14c9z\n",
       "imQ1HPCvcDHtO/tGJLcg42qsAKEXfXaAQy4i22pzEQDtZvptHvu51pADTUs6VvpA0B6GI4QuMen/\n",
       "5H0crArLE562mHRp19JXNH2FBI4ngzwf5YLy5TBL0CWUZmV77QPHjjGp/XQ9CAVEmI8g81TdZD3j\n",
       "gAAAAvYBniFqQ38ABPpgRCqgqRJ3zgy/NegQ8Tdi1oaa5peoSJEAHjtWfN/JEX8fV8qfBMjrMtB8\n",
       "uALPnufuNhEWyC3cQ4O/Xy0qpjRYjUH0HPqeJzLlEvJSqvmxOdmSDM1zuZO82Zcn9nI8Yu5yt2+m\n",
       "fNsxzWoj4ZJs2EM7EIn1T9473QPGoO0RMvmJrvNS0rZGduBNSjFehSSmVo+JU+XLJQbCibHPYng2\n",
       "qw196D66oHRkKbQmOaAoxGAhD5UJUCmOdeyML10pETNgsDF6sHls6JQUla33nIM2KlPk0I2J7ak7\n",
       "XFpg12MPUYF8Ij1qilQSgK4ukk2h0yKD3lmuZyqGt1089uipZqr7wGA7JBS0js1PqDsd4WRBj/VM\n",
       "WcXhWnCBrrGNSR97s1m6ca58TcblfXVX6DdkAf31f86uq0xxK+gDS/FIN3ZDcLCATgTqYVaP44In\n",
       "9/gHaaulKozMPE4UvSPYpYKOhaWIBXHabFRJ31J2M200O78IZRRr3uUEfSRcUP3WLgJL8D4GFjLA\n",
       "/n9Gevmc/Bj7Mx7rLGWPItKLWQpl1ZTWsnGv61J3gT/5y4rJVuR2YkctNqW8Q7BtKB4HfOpTf9lJ\n",
       "9i/WIVUaMK1bKiQoCKRZH5rF1tLWa5IAHlbBzJO2X9vOoaCF0MBX6I7GYD6ImjOvPAAE5O1KNonS\n",
       "xblxvNUyCenhXPcISRLqU8XoLIupw4NcBLOJ9BYSAq2EsoDX7bW/pHrwusI05HJo+jc/gyeMPUnO\n",
       "/P98641f/H6HVHNt0RLGWMslYDD1VcdsuG/gG34fj0q0nlRfY6c1A7wygNq+9ndh+5Er3660E57s\n",
       "B44SjX8pS3KA6AVP5pFBh6cJ1WpfcJ+Wfi4cp+AK/IH5H6IFXJUT7vRuZmHVkAx9TelZ6sxV05E7\n",
       "rcbBSHDh/P9qSyKumWUyFETx8xTcO1u8cyQ/eQvKmp2zS2jQ+67KOU5VwzxyU3ti0jbWmXvQZGo7\n",
       "o5voZjZR9iWCd0DKVoYgt296O2xtwQAABmdBmiZJ4QpSZTAgj//+tSqAAAAFBHgoizWOawYpCmLX\n",
       "AJr9Kyw6QVJhRE0quSKSMaCcTtKkk8esM5uWee+ADmBAdHMpfG1bEKa1UbuVQKOr+bCpdISoit9O\n",
       "msHIv3z5+k2WvKZYjL/anIZlUP1UhOsN7OnHKVSWynNiBqSI6v8YUtG4COJubBKUYhuTA0Z0cfpb\n",
       "cctYI5BoZsARAkUa+jEzPzekz1qytISa2HF+OtLqjZDDNVtYVwU83D6zt6LQM9QLjXdhUleYCmR7\n",
       "zxOARnwg9FbBBkdIUYnT5VCiqes4HLVH4zlFadO5cSB7ShywEeNF8zp7AkuA4w5JS0J246+Hcv5r\n",
       "l3iKIjF9kqwKAQk0V3bv3KnhhfIsXIsTzDp89BnX+yRenPfEWfsaaEbVkcA7VzBZFbxPWB2Zfn17\n",
       "GEYfbl5EyfHED7523ZGgJ3UySfsWm3jtzIy0UCrcy1hTV5uj5JD7MCND4ewCz5xcsQUGKpHpQAkE\n",
       "0JnX6poncF/G7v8WFojZfUgslunLqbNutyFIBMC9wO/N8ctmWnstyrfCdmODBFOsiCwRgaO6RbmG\n",
       "q47Pyqu0H9DIL5bbTEjiKq7VXI9JAVAuzvTA0Js80j5qLo3DpwoV0XCsraBYnUtu+gMwVvVmFKE+\n",
       "imA9yf4MdrXwnLX2W6h42O5yZWteYdM0s04+ZanUnpCRGEIGgDTwb3ruEPSbAXS99Bz5JUob/x5B\n",
       "iD55Tc7xaMRcK8/+DiRrRYb+FIsNKkwLDUHKGbMnUPEqyM5QdgfbPpOlIWAt1dIRraYEogdbHE+n\n",
       "XBeXHI1QqoFuYKw0i3rnYiXOc9d/oIygCUbUVvDP22F6NFu/So1dwcF0Ig69KtL+5TXbldshQRGM\n",
       "gSEnVJO15mUOQCFD3i+WQxTc4NWfA5qJQqUfSd6MUtBLaRjF66nmSR2G934mTpCFEnDMeg96zCAK\n",
       "LXOvmdvlki3wJLDFLhUpKdFdQ1T3BX3qTkwLMj+fVUNxuyH0jR3I9mPcbA/hYucENWSwAn+bXiFB\n",
       "WQZslCQdOy8NtLndZLoByPgzyQdGn6EeqVjsAdKiHmKsmDargk5qsYJyTpGIbGj9J7NKYmiHTjnz\n",
       "D3jGkc8wB0D1e5iCKHjap54ZhiZq/kvZgeE0pOQmQxlS9jJoAWN/lU9+a88SX3+HCec4/xGLp3Mp\n",
       "ulfP90ar8XUpwm/YcpQ/VMBQ2sU+uFDrY3XTpwhmlfAw8q5NDDlC3tpyFI96S82Hp8s+XaIzzB/N\n",
       "tA0pdflTdLcI+0xXSkKsvqdaoYoM6A0T18bYSUXG0/a0+unxidr6IwBtetZJOU3XcT4AdSn+t/up\n",
       "1UG0oBg8awspVZIpBfwcgRR2o9XueNzkv5azqUUwe2GB2ThhxTux96vhSRCq3Ms19ghYyxc4pjth\n",
       "Jvz9AS6kBPBKdArgEdHqvHaPUmnmUhrYvADO4NETivAYjCxZN9HjT47W5y6VdcvXVFz43KepyiWw\n",
       "Cpo9I66hc77b9RHP5UYMFG8xYFucngtAbzMSquO2ZBXyyFqZqv+jW8hiqPX3KUOCuWUcreNEl0hn\n",
       "NfutKkk/0s8Roz6YjuLuLSZhFk4hAgPhysdgMolBLyYCpod2tVvxd1PlFvS2aFB3W8jCa8H83ZTs\n",
       "8YhZ7oDa1SoiOprraIcUfrdmmdUGixjf+nNr3OBwmFEjKHwMkjmRziKL9vVpWJL6IFTQ553j/4Iv\n",
       "edyZxidQYo2BP64bxuxtyNaMTQ1W+XrvzqQUuIk6+ooO45176ioyfbAUQ0d7Bd7zANmBcjXd6+wF\n",
       "u+LS3XiF310q6B+YXFpQ/ceHAQ3qAaS754QR0wz/zs7mFWXBvvMH+4RdepdwBc2XEMy7CHHq3nO/\n",
       "9UdH27gKyFAQU8DUNbuVhRnJzfNsDPNWS6+9ubKbFM8LMlZD3wSdOjsBK5Va2qrWks9JO7y8Q9c5\n",
       "2orfy2OJLbU/DwB2tDphTHn9+amuRMkTmonjmj3LpBweuRax7Klw6qyJl9/pwzaN6mGOoaaTJXzW\n",
       "ivxOTMAafqWT0xwH5gLbKfNUljJ2eDTB9GNs1X+2RZrx/TihyeoKjQMXQ4g/DjZG9h2j2ybvUxGu\n",
       "+hPTUvXOEHCIT9cf5GvElQw5cStdwxfe/IS8tb76rfE39WumwD0GfzAnTwqgszg6UlHGaaC4xFry\n",
       "m8XI7pUPaMXRWAC2AAADnUGeREU0TDv/AAN6KLqUlu8Tp0/DHXN9YaF2SLiphrAA/A22IbFUKO6W\n",
       "+Xes/2V7zGOjK+q2XB210iU3EEgeUaOA1/HdcS3JSPkeBoi8bPLrcOgEPpj6F4qJGK/PcQFlt7QP\n",
       "IUW6Mxt7wnRuo7L13Sg0agtaxm2Fy2nOXxICCjTv6bJKsZG6K65f/Li5sC1fFFe0f5Sh+Jnr7mLC\n",
       "K6QFpOKoKnqCqWYMPuOz4yO6WeqHWYv0bb3HzEKlhIbTJKvOD41wu03LXdC5LLnO4x2v11/DOdZl\n",
       "IREveC2mHVqMstYcKN8A5CorTW3AVTDXu2MARyPPlwMyA63/TNJPy8jnxtLL5LE+dQgY3cIasPwy\n",
       "2SA7lR6O+14FYs2q5dQlmeATKWM5H75AXtkn7NWlgPgWMS+huH6tDqVHXB3ao7CkMSl4xWbcB6ff\n",
       "pvE9Kf503tw+aRgVQ6OzJIPpCx0qiRQ8OPPVh87NunxA2l6PjPbNHyDAMPzXw+Q4TAQMczm1PkIB\n",
       "fMTD3E7COgferEpMzwVNEuS+qQY4KOUDEy0cDECxJpLHOM+HS4AGR37obv+8l3xCoyi5IzYuh0vY\n",
       "T5NDw+10kEkIFOWkrOana3iE1+4OS4+NcUy6xCuKq7rCHV59A0I+V7PP4F48DnZOV+hsKfvP+apl\n",
       "FmP39zcz2Q9OwliYQXevUS8sT4/Vs7//7DFhJkzFhcWJFFGB3KAcQDva+jq+s3pb7l3E1JHcNFve\n",
       "rywSY5ofA/QzEds69tgagZAxxmalmkei/Fz56wYNHPajnzY3eM2DvRYGnEnFpiYz8Dl1tAVHXhgS\n",
       "/6eHPSvYK0PYH0S9+AxwcrEAseQJB/KxeUdS9DNhHcnXm40QJJC04gJ0CFOsJbL9gpF03YKMId4m\n",
       "RAfl7w+uFQQ9SEifRgxOmSx1tWQEQ0XJt8mYXJDzKFMUxO8ZIfluWzCsU+yLXDlf8eDOLIy4zuY3\n",
       "pcRm0buGDoIwLbiN0gK36mmjcT/94NiVnMH8dbgMO/U+EgvO/tCtZMn6xuA35aMegxgg9tLgaIan\n",
       "YTvTIXfTO2I/kzbdVHxlFdq7nOXDelRFoNQf6Gv//3w1Bk3bOPlDKeiAWf16ZTtSnGr+YkEsMabq\n",
       "9Wl3LrhnXuA3HLUov60e8BvyZE3zyoNnOkMatMkARA6SoQOUVj3l6f8DHgaGbEVHvYmYnHJfeVkI\n",
       "jOSQVjuDOx2nGRclVeP6REwJ0vs4tj9gfXvLUEEAAAMrAZ5jdEN/AAT47oztW8TTk4M0Dee3Pt/a\n",
       "SbHkeV8AE43dC89ih6oGPTkB3f3kGPPnt25ZpXOtaoifhOND8jSS742+cfqcWfwcdbiJbpx/PrW/\n",
       "N3g7TGLMw+2oZbNGHH/8p6Yu40DxDDDa2Nf1NtIZASYht/HE+f4qGWa47QMmWx81JSp/N3j1YA/t\n",
       "9P7Qi3EHWbzFpb4dDmuI8lC3+BaPMcSD7cc6QJJC/VM6cFvmayim4d8lOfRAM580f8IHxKrmDIx4\n",
       "f3xNozpIvY1vhmpUHm5hHwfTzxOqMj9che0lxWUf3wETXCl2Q67NwF4Prv4Hq+lDiOBlcT635Amp\n",
       "4mz+2iYacRtzBrcgXgc26D/7hRD/8yvf84PjzOUIW/7Ps15wyboQCrI7eyuLru01t112UxexCHQL\n",
       "ZREZT+8C9w16JTjgxyIWG4EqeCiDhiiUH/fvVborvWHozh/je6H6jdqxd2MynIQ+FNiIQUVHCsf7\n",
       "qCz6KyV6+P/1p3VO5SrXhCozlt1dD1bw+z/wTh4ZvQT02iCSd+d1bL4Jzv3lBJozV2GUEtw4MYAQ\n",
       "szAJnzYam1QMWlOp2doiKG57s4ATLTxwpL+Agnw1UMmsm0QmVgJgtGBAiZkYSLVv0O6RedAW0RHu\n",
       "9357Km6ra47s3zPwn8Ucis/OetU+9mPA+ZOZK4CgJcpAg9yeL0PvHIcus7TnN/jMc4r1VmrpOY5w\n",
       "s8laYFXMvL/U480RoAFoRfzTgwBQUbUJ9EZGsKJdp50GkcW/oaG57vGhhAzeoKpGPGHlHde7n4r5\n",
       "94tewOYoeAuo2T+fky/EkUB6eosJf1pJnUBB4ZdaqQhxDF8lKPYsp+x7ZV3fOzGM3+T3fjXLuBtW\n",
       "HA3y+nEB0HxojSpDFKJesJe1mk0yD6ZAHezYN86O6tolpSt3rvRo1+XYaEFEnX8T4aKxnatTCjin\n",
       "Q3RnsJg7kWaLTxk9j7nlzRZtScC7TpoWaq4LIajvgj36QSsJMqIDTigEChJBbrmBj8WTrZ1cmOqK\n",
       "fwi1FcswbY2g2V8KwDIsmA+G5wZYM/VORZJXYcWNGPgy+9f12eV+FE7cdUBswQAAAroBnmVqQ38A\n",
       "BPnnyOdVSIq84MyHeBNiEkV5isAF06USkxms1psocdZL3BG4+8SILD6qGkAlmIoX6G2J60PMjX4d\n",
       "h72GZWYs898+eDWo7GsjPepNJjcGuE/yDMi5Uyp2Sdc9fV+GWztvc/wLZHcdzsQGbeK4moW5BDmh\n",
       "4ZGkDZ0GA3qCwSVGInDkAisR9/weCpKw2LESCtU+SQU4rhTtO/WT/U842eltd9WTGisNrdu7tO3/\n",
       "xROA3osuWPuJIkRhz3Ime3+Pwq502yHEl08tXWKtjnATvcSaB6bXL7A0myw2mr8N9XSftwYp+7WV\n",
       "aBYowKZIhDhf8g63MlVJqUibkmsj2Uwz7RkY1oVjJNX3cOKfdcu9Owf2KOhoHOaXbZQ0QuEJcNka\n",
       "2Cli2eKIo6GvWXXuxBU3N7k5H3UuYyjFTWgBAa744K2OC5wg+hEi/y1kC6OlrnvYOF846F4agFSe\n",
       "s69Ex5HI8HqctQloVG15UtZsHPQamgaE3NOWyKYgufppygd9cC4/cUxtdqleuLgjSrtKIHsuZxrC\n",
       "kn+mp2qA5aG7OGN/nQDEkXAcyj2UkHjG5DdXES/pWQwa+Q/INxysrBOUuC7dqbEmuKV24UBn4qW2\n",
       "hp0F06MzeHXpBMnsvUwxeuQcasIO0cSE1F7YbufiweLh66xeoKF57H6wHx+GLRUSd33u90EtKE7O\n",
       "CCYlve0rMatXNLg8NKCsTSFp1HuWkdpql85UNZEHgVlbPwyCrzIvVCatk6uWrHmydrQ/UmBwThTJ\n",
       "3EulC1icDDDihR62vjVN+jLzYZ7qKTpPI2+Ouecz3Dij90M42g28pobYnOjmF59O1Vgn2xQ/m3az\n",
       "p/kFTS2+Pc9UHA3oGEuHJjWQxa3jpjmJ7BZlzMDKFMu9cIwDmkX2p7ghoM6GVz24h+KgEPZYFLFN\n",
       "tXwjboZ3QQAABntBmmpJqEFomUwII//+tSqAAAADAaD1XHeGfxO4tQA1roiAygPG3Adv30ulOWj1\n",
       "ACxdqcDu3CFREAJz+KtgZ9kFFlwz+/XXa1NI+AN174Jhnc1+rqxXSB57zCXRqceTcUhy648jDpJI\n",
       "pVvDfYLz5zAj+KQiT4hxiCadGJXqxXEKUyEiAZ3dZEN1dDwiOzLIdPDSxQu5Qfx0jyuYi7p4zu1u\n",
       "Rq91m1zdcJKYCPHPZeYWFZtBP8syzcPvhtBtLdiSj+qVckRXqBsvKD9ge1Yx6+l32BWXKcM4Isym\n",
       "EwLLrI/8Xs29CVyVMS/W9x7G3SCjFA2YhRElshtmt21qqlhfXRBcW1iJIwBH2WR+XO7yvQZsVTOI\n",
       "sDulITszYw3djo2TztWJghCTWh8/+xqDx+c3DbJ8AfCTrq8o0C90D6z+S9WpuqsqA1olIJI5z5Lz\n",
       "a2Pjwv1BQj6685HMmyQ9YhrJ84TfvbQEPO5O99oohbqLRgWMpOqElu2xzp9lWmcXWZBxvNRmncix\n",
       "AOICfdDOPZSQLmTaHkQlUYZ9B2rWXxEMoYcBfAwOoysmLmBQO0YrBPYMx5KkpaD6ubNG5tFY3BC1\n",
       "tnVE8iNK6SUyLz88R+PCyZBgNck0wahdEhmDMAyCLFksq8SCZcIqiJBFHjuOtlPZSDQnTvy5r6Ij\n",
       "q98GDHm4nAoQL5aWDVreY7MBAPP9Io866NdkWJBC+lGU0BpaF15TSNTJxdzXjkjwhG+2VltSJIIq\n",
       "lLqMmLpr6goKTdjNq4/nV6k/OBNTjnsphEXS68YKmBMUVNp3Yi03a+mMM16hYh/DM+eIJuiSu0hl\n",
       "q2rWM4JMX+KF/k4wjm0rFM2F+bM2c3e+jRiHxNOra0Vn3MXrw3Fx2geFUMi1tmWIj96+oLEyIYK2\n",
       "GR1RoEMMlrMMtBRn6OAwjh4Tj6DaK+Xw3ASDn5zUPvCIvv1v0jAPTexQh9fVK6TvZgPTZHU4K67j\n",
       "39L1jV4lu5MG5qcbLelxi1dOfGJpfZ2Lb8l2BZlQxMZhE7Q1SGGwdwzrPnH000jllMSZk4lJ+upW\n",
       "meDw61q19WhNQ6f2nW3QT3IlMu/HRf6iS4xsZW96zRyx18eKIYA9p55LExF1z5RfpN/l2kqL9IkW\n",
       "S0BMKPzxRZhcUE5TsxDgmVW40exCKQ5s7UoC8yc3cdh/i/8KCt+ihVOGBKWEG/xXvDHDrT7nFrcV\n",
       "oLBLfq5EtUd1/r3HtBrIm2P6g4Sj6Y8LwKWQ1tgNuZDm4OYMaRCVZ5wNNdDvozccUajWEZArpPWc\n",
       "oE0mRQA9LCcU+8vrREifNSMFlg7ECvCRXmOoDejVyEIkGP/q1plIThbP0NamjFJccBh/6T3tXzhl\n",
       "O6qHA9dXF9Jh+yLtifcQsAfZHzT+Qsi+CxvxiuYjMgb4dA5h4W6xdYxlgIga8kDluExzBf7JcNFU\n",
       "aO8cFd6u16+uhG2ftUj8Zx5W/Ta7CUaYfe0Bw61Uty6dHFyd08vvjoQQF7yeHbQYNFAgX/FpHVOQ\n",
       "l2H36POJtOOD3SJq7y1Lb4QuFBQESCxgauG6QyfbtCeC4C0HcN/spRiH4LeenendUWzaAP2MwLg3\n",
       "Y+ppxielPzwasN0Y7sDjApYh3UUV4VBHY25Uyr+A55dX68tJuDBmp+midEZJuhOv4bRBOEUgPNWQ\n",
       "y0dODkH9r1A7o+ZTdo2Ka+Bvr44gGaBL5S/fLl2G3O9G6qy/coFlun7Hw03FgUlL90K+yWqn4O4T\n",
       "CbiAXcJyLWq8HoSKNjEmo9ed3u8q7z16Mu5Q/K/u7G2eEjHM3AOuD1c59WtMclJAFe1uAuJQBeNf\n",
       "ic7VxbjZ+/FvgbGPHeTaBJel4Iapmen8zb/VlOEw+0rTeTMyK1+hmIZBQQ8fMLlp/Vu6Foo95qmW\n",
       "xL3jGipMQnyacHAoKHLdkROiCy+5OkDibIVUmj3aGYI+3DXMp4k/vReTuyXZH5TsYqnWLSk03Fd8\n",
       "dUlwOp5k1zIuKtWO+Er+0iiasAc2e0t/yBsACfAG7WEw3vifphJZnVSmrzd2NIeDrmmoF6R+Qd6f\n",
       "MqyeD7Qrm3RvQSR489Mi0anCMQLe1RZ1rMSXgTrtI3iR/hDtFWjEDPD8/+2wKlU7Exka6AiCUJic\n",
       "NGRhsphqTUi7i5vIc+qPi8tndE++qMlasoBgZJnEViTz7DElVw4a2dqbX/9NfJY3qhMLufnZsw8A\n",
       "NFsmOxMOg6skygZrgA9P408AAAMaQZ6IRREsO/8AA3pH7SomxtDlH4Y7UvTOUIfzq/ba9SfuxhAA\n",
       "cQ1tO+XvqB+OUPSd4VJ1yVT1IhANf8iOVOqazeg3lvKVD/kS2ZEp7SirITrXMrWtc6FqLJwjblKi\n",
       "fouWQv8xgTJfOh+fi7cRmPnTgZfwAzbx+cnQnIawW8e5ILNQQ6LJG+CaJcdlc3Mns+G9KinMK7ru\n",
       "9IeS1hN4MfOP5K8TyntCY6B+mwOegxFVG9bhVL5ZX1an7zQn4KHhnmfA3uxSXySaBKAsTGGlbGFH\n",
       "8qksaTlcKcfBhCbJLZWfW33aQ/AAw1xFMCSy9xPhnbpl84/loq6CvIJGbb7ufF54urCaC8XXWmwB\n",
       "WRaXNaJMnKfKuJsU8+FbJD9hhjtq9PYR98x6THLbbXD29Cnu7uj4uQXbAPdWsOpG4uBiTohUXbXM\n",
       "BntkRWB4QF4sZis8Z7M5DRimQaiJhpFJRbmsS4cM/Pl7iOj1/VluUBE2PG81FAe/iKPDucG+1wM8\n",
       "6mxQQfFPVpVnBX5i+o1jXyw+ar/y8weq2pRxxI89AGN/uyFYM0fpHxstHw/y+LxxT0zfDcMxVnhN\n",
       "DlxgbTViJ2sTMiTEJLK7eYXx0aVdm7n1LN5ZA/esmzQzctjr4rY4A1NWtfgB36reFKVJn79f9FG2\n",
       "5ZOyzMjNB1ueoD9qEAXm8wbo5YpQx34VITNFENUg+zK8vNaxOF9hA5XlhEhaXf7q1TiniDm/iw56\n",
       "JdlmBAjW067Yc4c8/ovuXaBwEDKxyckxQfLfTqydMjNqwjrcxUwAsqE2j6P6OS7ArkkN9IFhCTeF\n",
       "D53GL658Pv3BbipFAD+OBxisVdozZEx25deMigZZUau7v6WXBpLFWXmuG/yeHkV5G5y4RJxYHpm5\n",
       "k8dz7v13osvDr0Owg7LX7rbx0kBNailtOEJd32y3vHKx1ojC9T2LK2kHjD6H3Nmq4ggsUZx1n45h\n",
       "spLTozVzdXoyP+OJBfZGKW9kYkPvcftw4evDCdQ4TrXlwViTVngGdGeBy1JrqU+IPjUF31SqSc1j\n",
       "iUPT41DxhCtuuxKn2bVyKYsAAAKKAZ6ndEN/AAT47oztW8TTk4M0Cd+HmGEALD7y3A9/nFTuIykL\n",
       "Kpf9CI04pXKBEmMkoiPVvzrvaZHrZ11QpgprnltKk2+ENVcWDHDwa0CgUfcK+mhJHUSOG3wCurFM\n",
       "OCtl/3Tj0y8ndf900AlD+5RYUCm/69UD0Liuy5NVRxH/YjmZwnikRUxTtIJO9AXRFGtVazKjD+xL\n",
       "8AVF5iuj0CnZzgI0BdE0VEQIknRFUYzX3EW8Y0a2feDt4K2n5Uvq2LwXwdnL/lsyFGRZHWIqNAWs\n",
       "w10diZTmXqgF7yol1CMppW8qVgM/5nxZmeNtRZVe6r0YT5BoqGTCO6ZUh/DPHZ3u5g8UNztZrSQu\n",
       "IlRhUjkAnJuEfETJi9tXTHMMErXB6UxRi4WKvjohbfUImfHnQjeh7Ybjp92pbtxYR7i78qCrZKDk\n",
       "rqZIJqzMymTRTxi0wh4ZzaQWlyGAloKnSXnPBocFzu2c4WeAMkG9KSHMnisiAQHCXNuYjOk9ijys\n",
       "9GA8P55fTNZG9QNcne2q6KjWKdaRi9FDdUmg8Ulo+NJ2LprHfjz23eD0LR/pSY95iN2C/yERfV3E\n",
       "CMmC4A6IJiziKQ5JNpDc5vaeYRGClSNk4E307U6PAX0uQVvgVD/u/hbuFLecd3UOkNnRMrnop3LT\n",
       "hoVsPTKp/hemLQSXVUFTc7zdkgFeW5CyS5x7LF8RIlNzBP9Vz3ukGJi6Csa18oTjEwwbT3Ib4wsP\n",
       "P5zazx6LRDGBGmDcHTak6h9XebhwCMdYkwsYB6MZmq8vvRYdeewMigPtxc3yGkkAFsobVY/FtgsI\n",
       "s/sTwCO3u7+3uXwY60oPs2cJtpL59AP+PC4E5mlLA7MtKKXGqDSz6plIg6YAAAKpAZ6pakN/AAT5\n",
       "58jnVUiKvODMhpvjaqFYDPxyBwVGOBH5bLnT8vAB7mtWQni9de7aREasvrooDK6O3yatwy5072iz\n",
       "xsSl2KID48bRzwjUUmI/7uYmAjeuTydXh4VSUrqpvFPRI0CvVqqB5/o5gUOIW5KkFyDAe8MKpktN\n",
       "zSurzdxk68Fbci77uCAs3+9YnTsDry8dST65G4Ple7z3U6k4QV9N7hI3t3Mq9PbLfQHfNLt9Sf3r\n",
       "+fuVkd6TytoT4847kRlouMsQfOx9jTtYdULpdabyQxtEq/ARnAB2B6W0Mp3RpYS7427wldz8mvba\n",
       "EpRPnqmqQhLsNh/MxnkkkcMqQ9y5Z2SCXqHTApSOXFMtkiERJXVYymaBKfcCcSCqc2PAVSPsX+sf\n",
       "S8cxR9wr7v5G3HE6txryRY6WUw12Sd5j1R/pSnj4I5CLpIgVCdJU0l1hUvsZMryWKC/AU/916Qd9\n",
       "d+Go5k5psyAu+run0cePaRcMRtMmaAM5Rp2RqjXDaXi46bSX9VAo4ZhAWwy3e11oJh5AkuGVOrYM\n",
       "JMKGFoRYAY1S9Z5Vj08WsAURWNMiyHWf5W2+qJlt7/ilHydzvQe/eY2pwj+7dV8TYCQZrLz9Qur/\n",
       "v6B6AtEbICtCRP0NuxI9hPeFtWYlfM2Pr8d1e1rEt7f85oe97ur5MeoGeFPzCoZEtg3afNyny5jg\n",
       "cwDgIXOAifkpl0l3aP6TS/ZNcDQ2HTXIrbD73C4r8cuN0wcu4hCX0lyb86VfgpOo4ryKDXs1kZY7\n",
       "Eyj98WoahgLJ/+gUwxPDFzfQSio/FpUJQQDcjEPhCjPt9vqSru+VtOAgtwVsTQGySMPBVhKCTL5s\n",
       "jlCOGbwXhVc6MdXMRQPU8WyMfRjdA4D7pgVw3v/Zy5JkctAY8tTRapoclykhAAAGPkGarkmoQWyZ\n",
       "TAgj//61KoAAAAMBoPj5tigAzvzEAB/QZYLTOwe66KZQ03tJlK8jb+OfavVCn1xMnt1UrY0WhOtK\n",
       "aGOc5sh23sPcXCfS7Xgb1zWrAsCGZDYMlUPqyfN3z+xue/S8AxmQgD9vx3OK83kg7FFtTQlkSC3O\n",
       "Sb0yHj3fFy1wPvG8FzSG/csAce/KOw6hhPhG10elnxJpX54ShxXsfQQ1hUU5QHL4OF02/OVclWeh\n",
       "KJhEL8liC6EFX/JGQnMt5+NzbcbAYRWJlS86NTD35seDYKZ/F1AO+2nVQmFPyfcw4fS/hlGE5Chm\n",
       "20BZq/6ViSoOu2rJeQvijQdICUwosIgBpKLaAvtOuxAh3AYoOWIssLFga0Hn+yC1gU3hd0rYQT2/\n",
       "ZSKJmUUCFKyryCHItAOp4v7kbmgnIQN1QhMEvpb8TvquAdaM3NG+7zYXjz89TAYJzrGDMsqEqb6Z\n",
       "uENRkXqUhBK8cam+HxlBR2LLBFFg3ah11rTiRjIzFa+qAs8Liv6OMhIIaaVnpefjADdGTUq7Zi3M\n",
       "0qIXLeaK4O8ZTbEOuWfNInfjIRg8RnqMcDYxNxY1uYptXZy6ffRESJyilOMu2Ymk3JpXXmeMwd6m\n",
       "O3UxyQQ9ZIb9Fea0RHIoeY9qd0pzJrvUeAsBHsoduEQQF7LX+jbcxs0yiZWnnDhpLP4vB4C4wLmk\n",
       "k4v34KROh6dyHUUBvTEd4QE4C9RQ4zsusdVwsMMfuug1poP7hqaNR0E4RxI136HPT6avmD2bvR31\n",
       "rw4dMU6muQHTusiWYNTihBm/OlhGcF1yflq5CXqehp0ZiZYsM3JPgfDbKLLn3vXboekU8Zj/rCqm\n",
       "AttkQVd0M+Ta/JME8yhDnI5FuI1qotdUOLpH1tHyOfS3GL1b9S5SY9cKMOi/cWr/oIvjORawdtt9\n",
       "aR2Y9WAG3a/CJatvJwUiCPl3904POTP3h4EVWWe80lTLzsHZSa3g7zbyQjSRXoibu234ht47tW3F\n",
       "LT4T9Aiar50O6IGQuFZ+RzGxj5uViWfwv3dM7s2LLMzIDxmERY2KNIpDWjbTmEuGulAF6U/mR+JX\n",
       "lDNombNRAP6vH4ubVlUbej3EXV8NLmdT2ohhhnR//PcMr0TFpaF3Uj7qi7pm3pnepGZpZavAdBPz\n",
       "9Pz3w9C4dWUfD9g6n02AhHZTsQAuauSVMBa8BfDv3ZKQGid/MZleuLTD+1kde7GUsqm5WiRW2YUV\n",
       "ww8EPCcsNwqD0je7jhgU2m/B9yOqTtQrg4cFmhhFuQW0oTPtxYtE6WFMHkF4JcVOddiCnib2Einw\n",
       "20B3FolVV3h4R0c/U00CrpYEQ+wRPcReB0i80PqaS/9nqAJwqzGkLuTptv7pHzKNgYQyQp5qjVBL\n",
       "tIxLVuQVmOERmin95rHtFVFg5FQhaNyxoXapseHp5IWIswo3QFJ6AC2dMl4wOIncjAjtztRVUekX\n",
       "0XiYPtgpj9sTVzGDCX1QQc1FK8GeY3DzDUXIOlnXRA5DSbNr3T4g+JbDf//MM03LTeh8+P70HS6R\n",
       "PWIc8LZprFF28q7wocEODz0yPb6U1iX7hlLceFz3Mn+0ZdzDINQvNbJkhY17fCTcyE9fd5S1AL4Q\n",
       "eBxvt6YIvymKl/C2p4Ve6a4/m9CXbqbtHsv2znjnYFOaGbOZ3uxo4jmSo60kAMutsdxi6SwnxXt5\n",
       "Vb2gE79nz4WmlIAJV6a5fGkmjXf6/2cPd5ZRIqly5pyRDJkfi++aw98cPiwdJ3HpiA8m6C69FRw0\n",
       "5bKVyMqvkfgWXMqasSpTzCrm4Rci6sOnTL9L88AkzouJ72XVxt5117Hb/tmbZ2dBwF8uRcvFC8Qd\n",
       "dEamX/BYmXFnCdEqOgBka61XytgW4WS8I5pBfuBlrFrINqRmjTdI+XSdJBzlr1Pp9CY1Nd9bdc5h\n",
       "SbZew5HgJKfWjQZYAVO+fb8SuDPF+tY8plT4mtIhVVbOWcaNVI7NCjDxDY04zhMfCOFUiWH9yad/\n",
       "BUl2QTTJoqbC+DROKM47CtE5HQTgfLFGY51sF4ttbtHmtWy+s0pZiPUkIJyNTHnEtE36ckWL1BHH\n",
       "Zb/o9Ymqov3IyVxJluB27PvV9MU/HdYH+uJG60JHuvEXA3ykDiJRW549x+yAB50PjsqwAAAD0EGe\n",
       "zEUVLDv/AAN6R+0qJsbQ5R+GO1L0zAkr5nP2Qp8OAG4QxK25mStUC6mYH7kUVVg0R5BnHk0vzCwX\n",
       "nr++bxYEuV1NbMPragkMjPPA9Qf+kcOLNQ1hnOMX317fSRepKKrLFPOidBW4+ZNK4I/nW0olWDId\n",
       "pyUo+Gq8RxL17gNKuDz+0qECPgzBAYK17Oo+QpTChBQuN5LOL6doX7+sYX2/wl50jeH5Bu0/r7RA\n",
       "OB97Y6OAGeq8YDP3HN7lOe9kBSSwiE/nBYh5d1GjcFAOwuNgmTFK7ZxhmhaWZqi/ZzVSAOvrLOTW\n",
       "tKvpJoe9YpfpjHi/kXZluhD/jqsWvWBKNXgQ2dg5/Xsgo5yP4dFMPK2lKsgyH4G4hflxQ0uSMtEd\n",
       "/iyJY+vvU9s2cpP5sPJGlB3Iv95D5EQYD0QJ/JfqFm59UaVE7hWggOaI4Le4OAkS8XiG5VSJMZ+1\n",
       "9P0tZJhvzibBOoFivA4AidLbaIqDKcJ/GK6/l9fdHQB/At4LW6MhUGdyN9ETTa8WqJjvLTjZBako\n",
       "fPHe2wjdNX0hzeVfCgxJZWF1/MxviWTFT/1rtLfUNZa3HElNuIXPTvYQN4TY57bXud3G85sgbmgS\n",
       "KmIjhH33zmfmaSJGjWDiRKFj4vHZaa4wIRnuSALMxjU0TJ2ZcyZ0bUvQQ+XwP2KC4CcxMvkb92Rz\n",
       "H0+RWk3B92UmuJa8L/6CpHoAPAEw7q1pUlWje1KSgzMQfQtvcFZsjPW6CKa2bFNx6F04F9N97/6j\n",
       "r8ch0HCvZhDyCaGDjvqFCoXSJu3p/xX38MbBy/bKnTNvDybEbTTc8FPPClf+2fvDRXEYmXc8KPLW\n",
       "SKWaYWigEV6MDd0j27Ccz4JpsihEv8acPK9NJBZzqHPtHADnGdyEbCXBnTZ/wqFy5Zq4f8fDmNAI\n",
       "5V6gYt5UJ7XS3XaK6nnLbHZfuc1beVj7KawZQ3jKjvh+4WU4XTdp9F/nAbFIp4cCDjHg25JlY3Fc\n",
       "WsyZ5fUyNnHbhENsEsvhfPPsUX/BWz0WdS/khS0R88U52/JDE5ll7aX3NsxhD/ejT7iedvbuNscN\n",
       "8AalQCPNJ/zrEjZLNyw2+M5+vBSiQl/qr6OvoGw8u9VFhVvVAIw6tfNoPXgHji+A1HxqJIWzhB3z\n",
       "1zDs3JE299NNHq7+BqvV9Yj4AHQ2VprbczlGwgFdOtRX1xzg98/KbXuumFIKS3biI9RXJ7ixL5CA\n",
       "C9YDUXolIK5e0TlHbOQxCEguW5CHYPbwyxdsGpVGdgMY7/03vjPBkbkIVFJEMv0jGL4kHrnUUn6k\n",
       "6tQbKv4AAAJ0AZ7rdEN/AAT47oztW8TTk4M0Cd+HEgfhGog4AHSuQgTgti82dBVTddJ8O8jxKkIm\n",
       "7hApI2LNYvYyQsVBV3dHY2F8QuAXcvFTFxYcVkoCtOBGOGpJz7Hc0t4AjNQVwavdTfcjBslZl+Dx\n",
       "TRmnob04iBsKRAHxT0Gv/gwR1mQrAuw+S0bBdvotPg3c+UCkn2uJFdJkNxUyrXNM7OBEBEhi3Vsn\n",
       "dyxVF3H26YFcYsH1vO8abj6+Gtkanhe2NlwmVGQod/HVh/2hTWXuvyMwt7QpK66ERTQDOhlZ8uYz\n",
       "+cU7WfZ75xfEXvpbrtK5LHZQ4d8XEcYvU7MKMZRIRozBpH7VuZLINgiCRL+cjGc04wz2X39ZW0Qp\n",
       "GcmDr6LyQJO4hVtBkT10tkjqDdMV2sFVgJu/CQ9ndacBpJHuDR6wQC0H3qC/HZ0ebO4Et13qv9JL\n",
       "U2yxbQrkK3AoxyseHYZZpnKIOWU8Qz4db6L5bjrgSK+M/NOfFedbKory7zqgCoKQapkZcTyp94+/\n",
       "Q6/V3OEdof8fodfPubnAYpDduccdH3L2mcrdNfYbWHf/ZdqhbldoC7VdtdL1yIU3LQl4i8qWK7Hq\n",
       "O4adnZxcxJBhcPxFnM0vL485Uq5W+0xZwdre5YGYSPjP4LBj2YBlf1O1VsILvPy1W0IiMLO4TEWv\n",
       "NvmchUHqu7N210l+cMgTTmVddIid/zjYxU08o2NudwGSylu1satTXbKBiYUlLU8uwjEzoidGKvO4\n",
       "wKfmfzBVlNTABW0paJQ6B3Yf6PtPntls4swMojsFVpVAXdSguuLPQX+uu1+s+pnQnJOhiOgLq3Jn\n",
       "urXBORGYBBmDbwAAApcBnu1qQ38ABPnnyOdVSIq84MyGm+N49R4hdA11eZnNxN+n4AJ1rWa/Tbyo\n",
       "tY7deaCPUb2qwwkHCOJiagtF6hzCCrowv8i7I6mSDDkFyL6QSER6s8OoFNko52GLR4nebkGc8QHN\n",
       "afhRg/7nqzBl7wh2f6CrwKCj5+dWO77luJy2aP/Rj5KCaFb0lcd0YIx+kwuz85k+3bgjvQhmgKce\n",
       "LiUQ4441bI4j3oUv/wTMHPwe/jst7vmSE/vLVCyN+1Vfsc3wv/bIt5Whym1PM0ubMJDR8bEl2lqH\n",
       "EvVrngRjd68NUwFCY2fmgZTXyAKQ6m763OkeWOdPvlmUDo9rv07fZ2YUSnU2/C0pbpSlqYheCjD1\n",
       "JIc9koDFbIoVynoZovhvi5bvZ99r8nhZ3e4NxO7A0O0fypZvBFLQFZqkPD3WQb6R5mRnC/bNreiu\n",
       "97OyoGxoXj8UWKIKt4gVvLUJwIywlH0s4hGN4UFXR6o7t9gvt9KeDmQsWBqKAX+29fyWmV1RHZzc\n",
       "L0P9QIXWsSxR+XiLe+y6vkFpsEtzRN9oy7QHcvMI4NkOHx3vouq07rEedXxkjigrcac8BGAQYJMM\n",
       "q8fbwobHr3fZJwVOFzv8U7BC/mPEj6hyckk9kgTFsIDY5DzqU28MUTkaQTvG5RLgMIsWmE/7c6ln\n",
       "/plYf8roBdBc5alXUY+xjXTMRYvDIhjYFtzTaJVVXgZgRIG0PRKAKNCt/YprUK/4LOOIYkfoHxxR\n",
       "4CRKmvhRrpC1Y0icx8b7CtIgl8xo3q03qAcmfxx0WSohm2yJ8L3DBDYbqyNw4vQU3SeGxVoekFJl\n",
       "OTNyY8yEjTbl5zMVVAWYZ2UblDvD+0RDMLt1XoQpA04+C3TbImeKLXDezD+i4V/YK+EAAAWNQZry\n",
       "SahBbJlMCCP//rUqgAAAAwCE/aDPeYaG8tmn71i53xy8PZBMoAh3hXIt34R6zH6OBGCLaCjYc5P4\n",
       "XRWKIyCHSNc1+z59rhLc0HAm4ABPFPhfWiTQu3y5KrRIYBpPPcXvalZMJgITqwSgL0UjMxHXIgr3\n",
       "qFbQrcCAjjMsF2bN97WvZ7aSzrVmZNjzfvEEASC+IJk/Eu11p81kwW1Nk66lYtFEBEjmL0KBvLnp\n",
       "4qAsEPuDuIOgrfETYLDFsltBEHu0q0aeGMxqRgO2bqe8OD4okzOzWYBC1q72g6qMata6jfxuLw5B\n",
       "bO9DCLcojeKXqc/+glmo3q40QmR2WGIUpmnsjl0uj80kZoOPLAOMahH68+hchnQBSCpaYn0GCALA\n",
       "rqgQZwfs8wX3yDBviCn+Nz7hXz/KfiWUWovUjODTV560XZnd7vqaUZfxjs4GYwQG2TSQXEFWVXl1\n",
       "QG9yvKvpQtDyZEWC6HEU5y5QEeQR5Gt4LthgVPh7SkyL17t7BsGAOakgq3LMn2k3j2JlBTFJ3VT3\n",
       "/yPNKpXPTXTn/HskYYdHIHb4njaje1jKCI7Y6it6QK5K+iR6fByYrzfEHNt2eRCdYaayM7Dk5MMp\n",
       "92r/Av8Io00nKnvlLLW7hUxXcBvAswiIYHVGDU+6b09Pj8oTIVmD6XUDcC8pE1dUHPxEntabnx8D\n",
       "4sBSvXI4bLw/SspqC0I9hPYtU9cl0btkuwuM9v/NVVow5cnGhwtDnaXAxHhAVNNmW/Cqjqr+iCF8\n",
       "lzUyke6J3vZoifGdTNUViWmB04fnzREx4/Sms9moTt2Dzb36DU4IXE03QHNumkebIjPerFfSqxFo\n",
       "Aad80XloVuShhY0Dbnrj+J5BlwuO/9zpNAzPFRJxgovY4hf0i7CI8AAF8PTpAw996IUDYPk/390n\n",
       "j3xcIVZ4OMheKGtV1IQgLxk39Qr5LpvG3WF3bW9IFFnZujym9bjLR7iqypTHjfhj5ykDxlpk9Mwq\n",
       "sFxDUEcyKW2ljjNwce7qCQF0OA8RyCKSkg8nRpgyFqVtzbGZgXnYd1hyHkV3aCdrQz/HrbCErro/\n",
       "e74MRwXZHpOO1Bt54yiwoff3cqYCEyH2muaI0Z2AWrwju9oRWKS2Hz2TygTVj4rOKBGyWyPMqf2Y\n",
       "bcqqZQgb9cAUBKl5f487+DFFKaM6VLRXM81OWVyvSfO3dBqhdAAhrKBzuksbaNrnFwvIWvmUlp4T\n",
       "Wuywg0FImcaQ0iTlEqIbsYELZFFrIJbR20nvA5oIuIev0YhQLonJcRe5c8DHQu6N2T22paOPIJG0\n",
       "wRcf2FR+opHhbKBZXpAVkt04ESG4nF4MxZ+Gfa5ZFTitd9T0qto7Yygc/dvlpuR9IRibYDZOkO2D\n",
       "ptZYfW1moFz1eKYSf8N7e27lD6V+Ndi64n4iFme6jt5jCrhIlz/lgTnK4VfaO9sg+Hrbd65j+2EN\n",
       "JAoixXZiWmNFhmgHRakL6zsKQm9DxB6DZ6GAVGlfv57CFCV/oZRyFgkt4Pnv3vl3+dbMPZxlTw1H\n",
       "w1H2nD3nVZab1Kjax2iaWXy8kG6Xu1GGCjktjmAGSGOOAKjGUQ5YScY+Mi3n3IE3No1SNRrOhFdk\n",
       "QdmkOE3u2VAk3aX+XvhFEoEH2uQRfLF/1cLPJjwgK2725fbDg2yLPX9W70oNaR0QCo/oYw3646Ew\n",
       "iAZjJNz25MyXs3mSRIjd6n9KaUsO/Ozymhr3BrQT80m0rVvsBuCOc+G5HluzMTSCJwWiV47iRBxe\n",
       "iFf+WLwSwfR5/GBtsTDA92teZEaLS+PwYg/ehJHpWMAd843/fCCwkw1AsrvOkAtT1iTy2tuYrY56\n",
       "Ob4w2RkzBr09GuRnhij/finbgbD5BRNOBCs0kA8/if4gBqmjbZQW4dWp8vzoiuvP6lMAAALMQZ8Q\n",
       "RRUsO/8AA3pH7SomxtDlH4Y7UvTMCSvggtoRgWBcSV9AAPPVyfJVraLSb1+u3QtffHUW5fczZ6ML\n",
       "WZ8ZyB0UOd4/WrB500jJa8SIHs7AfPfwgJbOfjRZ7ITT01u19o4U/kfzttvs/EO6s7n5ez/R/OaD\n",
       "bcYkXQmAuE23bC5PxufH0JcvKq2HhLA1OzqAePuqlQi6m0EmZ2XdQVt/ij85WNVDLnuIEL7KBPLV\n",
       "CegqYgHf+EnQhuLPQPAOJ4sThVGBa77IcoNwGTrUdUaLObxdQFbXinrfTmWutSwX+hT6dafDJOk/\n",
       "MLS4CzPNiJfPi0Oy/ce4OZzBxovtgTjzCkGl4/ZGX6tPwMpVSKKoH05NO6eyFcgNwAcOqOUA6eN1\n",
       "LWm/AQIsvvN3UNj+8/lkqt7Spu4EQBI3XsxIn7d1dQgARPwfZUegXQ9E35ckEUxX6gNcIRK8pkCW\n",
       "Gv2uHt+zL6HyzSUipSGZnFnrWNbS5mCW3D4sckbqEVUjHQ9853TT3136TOJsbNkTyn7Vnxmzcu2r\n",
       "7W5yLfnd12NFFKxxOrJsgCe9Oz6/zCCRmGu8OxkD5PCuoZ/yz9Dud8JEORUbR0GwBeQ8m+G1sVhi\n",
       "EbsGZ2AQU0I2v7D5Yt/Ue105MJHoaElU5rjIKR8XtFLjFrrmaPH65trWEGKN/4sZSQB39WWUstiu\n",
       "Rku+y907h7UzY/460YMtiQZhlz8XaqtGVmWNpsiv0KjGfNZJV5piS1rWoMYHKIkh24V0oA2VNC+u\n",
       "WArFwmIPSF+iq0rlx9Jlh6WQdmTevVQLSwMlURZZxLSaeuXh2h+kpujmynpGDHOYl/tkXsGzAobp\n",
       "dUdyXCjY8WAaR8O7d+hUDQsOX3/pSTyUtrKaVSv1fvJaAReXzXJpBJJD0PphhbDSPxokOUD3zSON\n",
       "jRQEacb79Lw+Oq+UHu9Iw4zEqxWdnAf/XETlCEAAAAKoAZ8vdEN/AAT47oztW8TTk4M0Cd99y1vB\n",
       "+qSAFow4QjtDh0PY1XbnEw3Kg/o0OGWHlldbWe0XpWf5P4vuweoZfWyk6O4VdkJp9OIqyc8xynEf\n",
       "9kXChCbeWX/k3FnaMVONkBZ4QN5O4kd9Id/ii/N6FCya/wWztPcjDyKJWAXPf0T28udCnxk4LCdr\n",
       "wd1HQ0R0sffWENHe0QmXdH6Iv2qmux9LB5plzQY/NUVhqLum0rzbB4HXiZ2qyGs9Kv/CfTvW1Dou\n",
       "lwyG7hvHnwvXU/45MYGeW4aoNoOuP2LSviGhWIfGWcIy6jFegZEg8d1T8ipca1Gw1CCvaNmgY52a\n",
       "JFh/ip055vssxomsgqiIlvgVwK+WxKkQuqUAdSa0UFNgqd38QQ2eGS50Uc+LjHPB47hta94bOe04\n",
       "hzgSAA9SOMy64X89Go8ujdvDm1aLGbhqF7nYP3x7yEcTOHmfwHuiCKM7WCFga2grrbuLDbg8MITe\n",
       "wm5VRbJYLcopDMsf2C/yBWXDwLNp4gk7bRCdJiGRVJsv9O8IlijLkWpeZTqwZHLRP/MnyUMAQUA7\n",
       "9Q/CMTE3RIO77GetLh5lOjddyHUxiCAeydW/4ywV/y9W5lt/F3g25vfdxJGjK7FTeXh5Aqe4PIUs\n",
       "ygUZm7lmz46cO5viyaBcUDIaIIq/EUm4WgQQZubicMh9iC5RkuoH45Ff4etCX3WLNAxFzpdsHcg8\n",
       "xUazL7ZWjOp1Z5CA+qew5mP+SuWkjnB4a8c0R825zuOPXXLaOl1yllHDAtBMTbmUOGOziG0ipnS3\n",
       "Dtf+0Mj73UhhIo3DObjdqDpKHQGmeWJNEx/9Jg6ZpUJWHMuKqh6PYOs7GIO9NjzBeJ4bMybktIyu\n",
       "/2eMTXSek8KAZX41oK8/g79JJq+FIWEH3zz3ncAAAAIbAZ8xakN/AAT558jnVUiKvODMhpvhX9EO\n",
       "MMJZDRTiDxYeoAAnI/tsV1dOBbNQi4/Iy17kPsvCgZ4dRjsiL2oVuQwbmkh4Y7eTLwU7drthxVS/\n",
       "0RtI/Vg7wOe+ILVUJJM1dZ0iiFpd7JQ81bncmyPEBpCzB213M0+ZkmmOYjDW2cRfbObx9xFuTDmf\n",
       "9AlW1CiPjR7FCoBnAqwoImFu0juecCYFMm1r7AS9Nppy7V4t1fdzSI2BIRxthvJ3xoXeRIFzkHyW\n",
       "cemQoDZ3NYOKzRU1zI/u0+FMX7HJkuKqRcr4c1LBgTqpPD7qDyVtuajFLgibYB4692UHVpfVx7nF\n",
       "eRzt+PMqXzib3I5xFbPfRtKGDGJ8mGJY1DrIP4iHhQ2cmG0JrAwuZeVTgNiXkj2gYIuamwq4czYb\n",
       "zya3j2sPl9/K9uxGPmrn8kG0tkAAE6ym7G3uEUVPw6ThkXaBAoYCIoTbVidGWOmh+4FPBuhGmRX4\n",
       "T3betH0TIwbdxRmjpKsbX4aAZ6xMpryIb8gKRibSTjHWTC2c7swj3g4gBNQCvVZh3Ui+W+pTVd80\n",
       "N9PtVJHzZ2TFpdHd9FeeML0XYEPON9/do2r+8ZZhQ5X3EbYrLAJbGYN2VsNRZAbbzs1EZ7xLxecp\n",
       "2Id5tgTdTdp8XdJS2bx9G04JlrJWMgwg7lNhjzhV5XRzJc/vB4I04xwffd6bevmBiu07RAhymFKT\n",
       "ycEAAATOQZs1SahBbJlMCCP//rUqgAAAAwArezz9z/IAaxGsXQn7Nwb3U8mjxiQplEHcdifOy2rc\n",
       "HHnjP4uJD3aYb6WUQWp4wQib2ZfSnI7ZrM43mAHnSszPa0EmGs9eI4DRTKWghKkU482EYTr4dtRE\n",
       "ctuJBoQQnZj2T3vQFOrUeKUvUAmF1eII7GGv6KQDfQl9Ko2zSyxHeE5Aj+TbZj3ayA/oYmaFMy8k\n",
       "80rmyUasQb0rBlMVtls1lho9aN4tF1T/jdKEYFcT9GNBiNHEBlEbI7hA6oOk8dZrBJwx8R0Vo/1B\n",
       "4Ps36Aes+30GzRh5GSjgfhIXPVqdc1xKQsrkY6tu4n/8eaA+GI/P/IgMc8igU86hY8LlX0LGy5f5\n",
       "rncLssyhEYPGfBiVXt/uxna2tcqA6wZ2j1NzOesGdPP0Ek0Qp9ckRG5UcJst6WSUHtaGnVN5euYV\n",
       "8dFpYTmhXcHioFrVko5dJkTnGysO7Kcp9d3dDEzvQUq/3zFJtxKBxFiixdfWBHbChYrF4VWqUy39\n",
       "Zc05qKZWWmb6d6E3GdvMvmlwwXDhDYH84HkVigKVDGRBDcYMlZKzFy/Fm2faN+WLT85PhkEIdcA2\n",
       "aaCah+UUuwAc85tuXTN5SyHdiViD+5JBwgI2YnAdS0jdNL5PXzYuzu+H0EF0Q5ztfcDd0m+327Nt\n",
       "Ye6gsAFm+S+QXILwSkspdV8iYj7/PeexcqYchu+Q2qC5+c84F1yC6ICDSORLD7Kr0taNbavP8ngK\n",
       "8HXs6F2vJpVhZypPOXGVM9CSYPP6U47Wv5AqLp6r4fd0Rrm3vAJ3ktMnSa4GIKwUH5cZx5bTTn0C\n",
       "3u/AI1XmNuXCwQrkZJL5VSDJhdDCu9YQKNoULVWIiFXniy6sjjFbXtPWX0a0rIkj1sBQtAaO/WkH\n",
       "cA9rkHleQsRctg1Ig5lB0xRRp8XmWL3aFgR91sXN12el1scr1JknUXlNmU7SRhuZPTDroIa3jMy4\n",
       "Etx1dh9eDENTOFDcB7sDlPxnHHiMfSo+RdEbt7kcwnlBEiCzYnjd1Ao5XOSU8KI4moSBpGni4+xp\n",
       "lqQs8PzmX0wwQ4Vz35SrV9RZUDLr70P+IjCXCN48t8/wGMPALwPt/xu+YNDjcT/UKCd3lWKkSV8F\n",
       "naSjs7yWpTYrll3KTLu0cTa3uFy0k0FTGlU+EXRw+nwK+038PpPTTU5lpoeoE3CfFSJFRw0UYSFH\n",
       "4LwnqwGxWLz72HVqJCg6D8spzQIENHIAnzYlKvZ+ftnsevqKtA37Y7yLk/CsJV2cjnyNdcLyH80u\n",
       "LT86yUfCbRLl9ObFUC4XIJQDvkXgZ5maZjc6/i2Rxe6PAHJbKEf58kc5Xfa+Ch0D1ZYo0vbZQEsK\n",
       "UPZVDyMHHDPkixq3NjG6j6+7rqETKIPq7ngUX4E5B8UVeFFXsW7QQJfDu9U5GY1LY5/3fPoirkbW\n",
       "PQ5Psx8tLwnU3YwlYnrL4ch5NsAEqTqaxcye4TrwuOBwkrrlXfOfai/K5z3PS9br2EpypC13cIXx\n",
       "E4TZARA9TVmA2XOXY+SQILoANDwUYo4BFp+8AYY0pUe+4sEyInHNeMg9ry5vMuM8bYFdEDshvpub\n",
       "DcIf1szBfV+OR8A395OSUNkl2B4uci6YBYFPuroSeWnEANcQHYvaAAACWEGfU0UVLDf/AAT6YEQq\n",
       "oKkSd84MvzXsKqVg5n5smlvdH6QPmnkJTnNCAC5VrT0gMlVtd0sQ9E7wJYRAXLgZtk2i2NgYaVah\n",
       "A6RlCPaxwB6SeuLg+Jg/4yyli0/upcHl3utDtVeMR8U0TW/i7u/ol3CVY/koAe2cSOTvUU2Hu/fz\n",
       "WZFj0KZTbK79LYdx3WA2SoUlwHbXRaqwbQgzHSU78RFbRcOA6e4VRk5RwTjZNjcFSwlEvN01SuX5\n",
       "bYgVJEE04WEGsyCR4J9shZkxLuyeCsSYhrjM/Rkg3bhiwr3xK35x/HkAruezr3xtD5DBcJ1Yo2Kc\n",
       "VarUl6IxKz0S/31RMCG9xSUq0TB0oKuaCt92mrzwZX9tqBOCN8xZdr6OqXd6rJAzC7fykSF6gHUd\n",
       "fJYu9WUfb190KoH4PLwzGaaSBocpJGpEMzIaCxepePpMSE6QSiX/5Ihk9NCpz/tFHWitpbXAfYDV\n",
       "1sxvMxFXcTJBktF2i1ANRMgnD2J7Gfgm2TA5paEH5mvRyG9NVo45jgG4ZQcjrGs+uQuvb2/HkR/g\n",
       "7X/OwAMj0VEZv0VcmqKHsKvZgwMtN7L6tmIipJFlLbZ9C0cA/27vpvssMilYjA+xjthhEoF6HzHl\n",
       "eB521bxl33jRWMdib/LbknTityPa19V5Tb5LVlpaYigaEjuiML6zk7wmSKXPdPNZ8hF3irHyK2El\n",
       "sHJAatBpmkFVhsN+T3bk3gaSdYCgST+ho5b4BWpdWw210knDsXlpRGFBe26itvDlyVCQPfHNAsOC\n",
       "qc15nqMuou9NnchJAqy44AAAAjEBn3RqQ38ABPnnyOdVSIq84MyGm+EpYx8+crwQAfwFsJUqszLK\n",
       "LjdOyNjcgA1ih+76DoPDJZnSxIXWb48bKUEW/8T9GIcua8Lzu/lP6I/RfRID/2J9iwKCo5bbDZ78\n",
       "1DqfoNZ7ErmRXl6gTuZ9HricUFFs+Qh6MzURyPoohVtGiK9MFdRp+t/YH/E1JXj1NeSDrXBpQdBg\n",
       "klhOQlPTTi+jBz+Tl1fGX5DtCOwJN5LVinQkrHvJ9u2fkRHv4/L+A4WyPM1LPx4OaibLzSyNuSYr\n",
       "bUecRTBNGco3lh9IOPkHZVGFNw+MUzNOqZ6QFcg7yfF44rbZ91LwRvQDjKMGfmsUp7PPc/BDcVVN\n",
       "xQNGJjynJzmuyh8T+XJNeyYG6WprTfrX6vPueIEqUH4ddg9NkMmIOP6HmfaMzY3iodYTshiQ8lA7\n",
       "pEn+VMtw+tN966YsiKmTVC8fU8rkbu+Vmkhxj4iyq5MsUnsmRwiGsDy+e7GEV/gvDa1HjQW/3BtA\n",
       "uluOOSFzt0m19Sxj4Rfd/QgGM8F20DYRPBJ3KW7FaZ8YvmjnLsHIVoY3R9Qm6kTDcm6L5+JTaEx/\n",
       "lVjzV+n33y7wV1ftbhq2iLFaFbYK9wdcWbeSxqFAl1S8wJhuYNbsqJn9l7pRH3atMCS0IbEEkSVm\n",
       "SZoGLMTnnmSCA9DS1fn33xHL8QKenFGJz3qkbsEj8VNRzVmaM8Plp2LCfJcxXXg1Ha8zDMm7eQJM\n",
       "QHKBdWnuZ9FEWUEAAAU2QZt5SahBbJlMCCP//rUqgAAAAwArv0GIEQHR9vRVLWxg49rkI3ikV8z1\n",
       "zgTIpCBOIDztFm8Z+EEm7RiIMNg6Mt6mfSn3YZwyfh+nj4sZtGaQKwsrl9CKszzC9sw0cggiwYKA\n",
       "nVDU72sg16APyWcg+LpPvpDkcvqyhha4vG5a16gwzntI7UTfk1MWjKr/j1dhDlIDwuuzS6G+gl/k\n",
       "6W5asL0q01ABuYt10YJq3PCLQAjzgkExdHiekgiYpbMQvvBTgqaQdf4vXi5XxpT5n8R1psostnVv\n",
       "0vbQ/34AdFUrWF38C/pmDII5MBe2LC7VprV7K7hDQcObd56lqxRZCFWKraSXDXei2SALLmOr+b0s\n",
       "yTnw/lLi0DbNEM1qRewYxlA6h6iqJWdpcsL4f8lJhQJadZ48vvN/72GUFxxvnllCbdS7kVG62Ov2\n",
       "3McKY9PFZBkVwUJmn59T6lhiLn/DMWnP85fus1fwHhyXJlR41HWwKLh1c604+HWzRpPQiGRvfCVu\n",
       "mlebM+5lFfj272tCuw6f75yPl+uwy+DIgcfkzZ9CwauP8gdplnG7pl4pZfqNfBEcqcOqHp7J2kFu\n",
       "tKAM0j4r+MSg6ffrX6s93awGNUGoVrt7tro0sItRMi02e6Q/76/kYNyYaLiVwhHAGCkc+oxy9KOa\n",
       "B79NsPo+6h9EiNfCu0LQtMxQ5Bk+pVSNRllJbqLFyNyi68HDqlFAscKZeIFwZBAPSHsllKVsq9zr\n",
       "3W+ZJfJFIo7NTJNPT+fh2H7vnEgRtA3e1qHFGRIHpjSUf3dU6DmAnVcEAKT0kdNIzW5Q7TFa9hDm\n",
       "risomGM6kEPJMzQUZESVJ+ZQeJkkUd1/tuQcI4Rob2Airhthbj2OJp4+p/wHDsIHUjl/qleUOrLE\n",
       "qvw5/4fFX76iOvnG20i9BCPYiK2ZQMtdX+Fby/cC1fSJpnme5oYquDyyU9srhW+NgpPs/vmrPEzR\n",
       "XZ/6uieV62ga7uG5HoqIdQAZtES46ZX7PIubBFFfoc9PZK7S0X0pK9EhcWoxrf9xctML+d9n1tOh\n",
       "+8Xc9YU6G3JgQFUYP9EnhvD9locbMs1SJjtiN9swlN39t1kWCNYRhFLyiZLsLN7PHAHX1ax/7Dze\n",
       "VujlZO9ugov5qykjKYExds4CF/TTqcm01r0jGhap/2uQHyRBvFWbsr6jZ7MOiQjQeHcBHT1JpdM9\n",
       "v6MsyJDdfG8KHv9gDiTEeVEAmtGu2tYRpIkw+rwNiYdHk8V97iF3qAmR2Npui6C8hXnhHKobg9ou\n",
       "j8qY6UMNBMRtdbpZhgK3J/F7BleUMc159fBJxxyeV03/0MIt3i2QMKnyTFg8KmYErauNOc8kA3UN\n",
       "/CgG830W0o9C8Kr2XNffIgOdDZK0R13ceUn5VgSnC5wy3CmtX5oTjiVqaS2sL2k3Puez0ttz4so+\n",
       "m4nx+zwecf/EhGFyAYz8kj01o5dzboRUoNBzymQCkcjnj6s5aygkEfhwkcR+MwGRztRuZ2FanWpZ\n",
       "91U7J5UOdmxo+CfkcYnvEMxbob9xY1AZ3q/9m2VolAS2aDGT46n8PWRaVSJo1KL0j+hMrTagA/BD\n",
       "BL+OZFz8rljoMTOVk9c80jMGjvWVVyC3CUmXMI6Xu1ik5mzUDGxgHOGyNKdnHWZ6z67BkwP0SKL6\n",
       "tJ4YlT2ABCFf6MA2shy+Pgw0clTEWr53TiqbpQnTKGz+CsK3bzwXx+UOtiOQ6YckRXoopAvoccbG\n",
       "WU6i6vycT+m1oTzRS8vJBHoq/dJrWdbu9w5zApt4Zs5LMi40pI4AAAK4QZ+XRRUsO/8AA3pH7Som\n",
       "xtDlH4Y7UvTMCSvgPzxMXb3j0AA/ZhshBQq4L/Z0slKENjVC8uEKwQvjH3Wg3yye1DpWBQkTT7pe\n",
       "nA0vv/7xUbb8MaSgtnZNlfqfUo1usGHHDaSqut8dP9Yl/ab1aI9v+fqAx61NpEk4xlqMJlsr/FP6\n",
       "YpLB85RCsU3XbbVP77w9orYyDWPVACEJjP0ldPODIeh6IjDAKsNfFTrImwXIZ+wyyzJTc2D6aUqn\n",
       "dfJRS0bNwtms/3d0loK8Pcb1jkou3Y23rANZcVG+V86KzthRJcBSdx9XulsTeBb5FhItSaBvzI6Y\n",
       "K3JeUO/GCOMH65nthQbbe4lxRaVmCYpe0+DRFFfB+Zbj6puqbliAavQkEmJ3+2bGo2dH4DnZ4XiS\n",
       "k2N4w+OcrFWoWHZftFbyU0WOqjnwTyYTRCeWhvfDaAhDEyNEafhJsv6llsGWRKkxFufwFOp5gMlu\n",
       "xWA+5SqFTeuhVFRqhJ/YZSDF+ociSKrehhYIhXLw+rmEdr8NI5hoWNryT0o+DpFd6mXVOD/JywZU\n",
       "xhFMA8fTlxBtwYhPwXGFXtscC+rW7TBhU4hTkrnmEI9UeqPTtvT2zifxPR8OaGHXIk0ZFq5X052E\n",
       "grOZd2hV/5vurZ/lAiZkE7SSGp67Kqf6YqKweAyYdHxJqFuY7B7mBARtEkExg0AlY60oP3u9NrBz\n",
       "KXKPL0u2WGySKVdiHY3KtaCLw/BdEoITHgJjRfBCUONeEjQzW3n3MujclXgFTcnsbvrLSYStWKfm\n",
       "LaStv4vDcKU0hLyVhvAN8U+MXCdgScU49QuekX1zYryGThwsK//5ori5SElaunCexfoi75EJ6jcD\n",
       "NicMfXnKBjahZArZRg0YAIU1sZFaI2NTiv8all17Zjjj06nYev/On0vUDGksYaH5Clb4f/FtAAAB\n",
       "+AGftnRDfwAE+O6M7VvE05ODNAnffMecRUOjRty8QAlku9QhXK9J0XdqJztKchQsk8ha+VenkQiV\n",
       "F1yFwWzuVlr+nkMLfUn8hRtmq6qIExwkOslll1p1BlDIPjCSP8oh/myQ4ezZwgWgmAC1SJUXKi1/\n",
       "19VJz4lq0WmBcCEGdeuggpAjL/auCFrE6LVKlOuCT4MFQ0nCgF0Vq4XSC80gNsDQP70BIru5nytp\n",
       "nUQq7/OwluDUR6Sv55GeOClzlqm2sFxIHStRFcIzr4gWnKRzVprZIp1DyhrUXH5zUpcHQ/8cMATP\n",
       "z+LHU81PM4sG0Ps2C/WjOc+EKj1AUbHIAYMBuvqAd7m824DKQJLKtFUg/W5RklVQdoke3ri2oKHY\n",
       "jgiwijwvwUhAVWjPujcowYZ0Xycww3Tc/1H+mFDe4B4h90YBPv3jGaYOAHg+0NxoXUnQKouT0O5o\n",
       "6h+FXdzszSvHL5h2jVFLeIObJN9umFhw70LiUpycg9UgskSkXsZi08kqz/mbocJF3jG5P3XQsT3M\n",
       "6+6rktnM96lVKbTWI/K6a0ijMdOtdgoTkFiFIsWp04IuJVs1hF+KsKqv0EkJqyHcOms7KhnOuqod\n",
       "CmDFXB7i9IY8hYo9h30nYAo3qScusc4xj5Q8DKf0alfVHWYD3b3qK89Wy1AmgIYYEQAAAgoBn7hq\n",
       "Q38ABPnnyOdVSIq84MyGm+EpaWFz5QcRYAV80ilJjKNY/CpbZ4JmBz/4edEt+xMXfBPOLx3BiAR2\n",
       "e8qyzQzbHGK0LOaE07GyFyXO/nIePEnuu5a/uVHd48KekcKTTrtmHVC2s+q0QxiQAbrlMrxhKxcf\n",
       "YVADOZfnzUOhQStYJAFUxW8abkOF2s+u6zfsZ2wcsVWyLLN+CAlWcDLMW6Qzr0qM6rya6lTiM04G\n",
       "TIxxTQ86qCsb55PE5qx4p0ArfOrzXw3EXIbqlAME6mxsSnucAlW4CyFS99OumVsxdz5SzR2jCKX+\n",
       "ZSgoX1rMmcckRrQyo/RkZ1YP8ZunK2UXVCtQ/d+T78RimhFEJAZawqtO31f58Qb9NAMN62ok2CdI\n",
       "LfRrELIJtvGYBHjQ2trUuYqS901JbCamiUiQsR6Yjk9WYGbtYFs8HRPh9lviY0p3SYhvqRstXM/8\n",
       "NUPf8BpGFLyWnR+hEt0w7aBTJKcJZsFf9MNxLGSiu/6uozQwEKbVO2ttEBWRXD/xlT7KUz0FDiWZ\n",
       "HfjLDqiND7W77CwkPvvqQio09Umr/V8uX/qcte5IFNenA4+CTVdFv/h3GIMaqs7UjxtJbjC4TAW+\n",
       "FGtW9ZTyKfVknnn0mV4lr8TaeZG+V0wXAvb8ty+UxKy2EwcblmoAx/b3s0gsBCj2lQVWpTwzvnxe\n",
       "+8IhE3AAAATIQZu9SahBbJlMCCH//qpVAAADAAA6nvSss7XbAJq5uf1fwfqRSy+6PMSQ89PQRvfg\n",
       "wFfeG9nL90tF2sEcRtybyA4HFBQF4One5H5iF8sXFr5MB8R36HrZvtJ/RD/uJvLZ4vIOWNL/pRpU\n",
       "eNnhLoGzeblWdCfqrCVyFWk1rFUXRI1waOMbH6JI7VyN5YEBrSlzD410E9n7qiL+Lr7us+ZKyCl1\n",
       "z3ybCkpKz6SOGUZMXHbaHC/a/zuFV4pg7oBISJviHdDrcfb39L4qi3zvSJCaUpemZYyVXoOmfeMf\n",
       "jJ3doAIgffJhLIj5lluIrYIb618EZrMxBnP+brQUEaya1CMjILbXfPJwLYQ1gUr+lC2gYZWBDvb5\n",
       "Bj3Z52E7nzdxbOURO6MKYYL6V7z1yvSuhpp0MvzOi1uYbwOae5RYazxkZPTK+QikWMvotVBunTri\n",
       "E0F83UdD6943bH3PZqFyOVM8aOzHX/cuKFYQEF1TQ7q5JbAgV2NepYic6/+acqQwNnSs1r1gKUCw\n",
       "9cOXIo12py3ImXstfuyKHxsWDaILbjGngLtcofBZcS7ES4CtxNMKFSM4b0bhwwZvUECUW4VLKCxn\n",
       "ZDSvWd1JSdIsoB7S51a6IegRZsP1C4aeDpKFTyd/kiJJhF9LvwtKAUTPc0OyrrvTf4ftEgeQnCl7\n",
       "ytIMVZfbviFbGz6xiwaf2N9IBwheqX8cdd0KTd2yyGB0X7SX4WEzU8PHFygjqYihwnk2XXMjHb30\n",
       "mj8h28dXBCNs6NP+DwIkiWWsEQA+LAArVvO48IqfWteZrjwkF5gvUYwSxJXqIT5KwQSeQLAnYvHC\n",
       "9EWHAhnqMLHu6REpJxFR6neVf7bUzucObuSzYdeDbjAmmpqmBdloO1pjVChGcVe3LLQK8G8lAXC3\n",
       "LtpRlvaBeOI5je2PxWjOdcerTbU7jch0YOUCq/xdBGg3DUqynIen1dDwaKg13KaWefHZFXxc9RI7\n",
       "TV5N95wJ+uIu8yEqhqbK47MsVRoWfL0QoixWEvotdfsqbT5SopklFzPdfN1t1Qtmd6wNxQqoy7HI\n",
       "aQZeJwFJ2BOk4ESOr08FpDacDUSx4gGNuUXhVCKVFBc/ZTbedRwq7kyw+bc9Ilix+MWXqNoUOjt4\n",
       "pWyw+4rhTxTtmGde8M0LUcJiRPdpb4chSJBmRzrFdlm/c5mDoHurHPFmR0/x4bpE/1If8IPLHLwK\n",
       "pQtJ0AFwd1dJX2cN52ZlINLtlgYScJThKdKDf1qU/HjyAXnQ0vu2iiw51LMGFAtLrpApF9gIikHu\n",
       "8own8pSGJOaE++0IRwx///4n/8LpKBg3kWePummfESxb0LZ6dGHy0ONP3FraiCQSyltIrC/PzWJq\n",
       "wLs5a6oMYDULHQvzHA2ZNoII4BuIvcx2wSJM7h0R0UJB5yXJnEkyoHBvXPDHazmRmeLatHWHS+Gb\n",
       "InQcsIzOzKpKaheCyx0C7/z/sxTVG76UJXW5hKRvMIKYkAIDJbZBfF9I70do70vMMt/I8HekzX/B\n",
       "A1c+yzNf4aQPIKm3D3WHOYT0AKx81pxxUKOgSdKIzUqu6ZqZsAOPWweEdZ0UDtNPVH7z3+g4bS8M\n",
       "z8d/dKAXNJ47QbO0G6xyovztmKRwKet/muWTmnDiJRs3Lo3PAAACykGf20UVLDv/AAN6R+0qJsbQ\n",
       "5R+GO1L0zAkr4DUdSMs6ddYH4ZCr+ZACZwmptUOFXIpLKoOTgNKRcgciAc1t61vjxpnirep1kP17\n",
       "2j6epFqUoXbQtaEYRhC05zx4Kbe4Nctp7/ZUmCXcYp5+tGy95wbbY9ArJklL8tKFPnVkcctJknkT\n",
       "h0AI1M76bSxxNuCQUNO7E5BtcfiGys7RKzzmiYtVlaRil+ELxP3w7Cu4glzVNDAu0j8QmbpDKtv3\n",
       "DmsOe2kIvvOXQfZnpNR/M/lLh2QITTenZzldaK0okHlOvHk5TdfCBvUvq5dBOm31zO/jxRCryVR4\n",
       "h8ibu5iXcz0qK4Sa3jJEIDkFdp6wltwA00rWQ2lcDvn3DovKZGSYqmnPyXaoFkMk79ZjoDzasURA\n",
       "ovvi8J2rdPMDvy+ub6taQ4/TXrDJCv8TKho/hm0oyleBrOgsg44xQI+kiU/PK7+RJsIA4g+x9iQQ\n",
       "vM5vjkFCoFeU0OxnRJTlkFwiw+iaK0e55N2pfhpaBRK6/KhyWGN+uuKBCTm0AjHY9LkHB6+Kjn1b\n",
       "9QaUpluJNgXeheqINn6Rz/yDcEtzP1wzPAgvIwvzaKHqbFH3kna9+zJy8sbrulucuozDepmSeLav\n",
       "Ed5URGcg2xRi+Wr+9SyO0hHbIQ2kF+x+BBbjvSxraX9EudhDcgvMtA5rEPpWyqDzBEIOPrGkvTH+\n",
       "CmH9kUowrnlnXyu3d83AiuCAnLR4aKNKh8v3kRGmPmOfvDBcVYC+1XYn8vDJjnwSzU7hCHIh62Ce\n",
       "IMosbqA7BV8rKy+/Moa5hlirBMRXn33fbkMH5H8N/w+Cmc/vHPTz1vJZ7UK0Nq0PXJjhagPnTMM2\n",
       "kXFTCrg0dtV55+8Iy7z7vNiczWTuov5J+Lii45wMNQu2tTGBeWw/pFQb4Mq3Jft9Ub5hWlOK5Au+\n",
       "5UYQFM7f/moQU3AErAAAAigBn/p0Q38ABPjujO1bxNOTgzQJ33yffOqgkWKQAtunf4s/2bHfuqMv\n",
       "eCg+6NZujle7lXvV/V7DDGkpLvSdv2N+oWPzVyB1otaPxxJNV2sfqq1HOlYsuDO4azvT5RhbX7XC\n",
       "Axa+QFSZZCWt40z8yx0V+v+y9hKySUMHrQbKuD4iw3WRFYLa2/TyQjQGNN9bskOGDQbAg80dC2AF\n",
       "cDAUiAdxY/VwZUsQkgZEXVLGHJruXBfy5ps0IZPAk0FaUrr2L/PhOlnMWuSRWTWWyT8ykMC3CqMo\n",
       "XvdM98/KFJk5Z5BhKz6j50fRvojrw/oFJb7XmWANj4YbWfC/6Hx+uBNO0VUS/eL5OkFZiyEDTxpA\n",
       "eZMsF4YsEKezywh876ZDJThSwQA3QdkT8/N0flpCjpwMBbxzOMYOrDkfn2W5ZM9K+h9/8ytWpneE\n",
       "r8lAhExwITLUyQe6OKU90kNMyPN81NL+uewDfAmRSTkonZeW/vS7/O6OZZZZ2ioiCFGxKzowPJyo\n",
       "VYR1GqGm5bqYzBv9nYzTwxT5Xy4NW081BtsJ/bU6blLXQo9mR71WDQVNLJ17OayIyDvrwBRc9y08\n",
       "3NP+aWtaoSUmtJqVAq6J6cQJKM2BSp1/VtIfSL7qU2RF3C9vHT/r1Ggm7tg0BpoMhG9fjUUZU/C0\n",
       "gEugDnpcvI6+mzXyO1zTBlw2kEs++AJQOqmKF0o4fR65mbAgiBl9+WKEnpW0C5fpBPmYYO1wrYEA\n",
       "AAItAZ/8akN/AAT558jnVUiKvODMhpvhIH3XBnGkARMBgPY2ETb0JTX2KJAp0Gkev7Dcgwen0u80\n",
       "88Z4XYlY/VL/JU312AIZir8aQQXmFVAUNEC5l6ymqlzPi87uqFFnCAg6Y/sKOkXGqTxnO0bWlIyn\n",
       "k6yxGbiEBSUkC2u2d+f3BBE4KQjOM17KiP5fBECSLcjDpwqtswoiGxssjb9rPjCkHe4E02Svi9ot\n",
       "1Vef80WLUN/k+tcD/125v4wfiYV4XirMDKStlV1r1igYa1FLzp1LfcI024SY3RK5sFLphPL195wX\n",
       "VAlBxaVkRnboJqJUwVN2mEn7p8ISUOLYJq6W5r5C91RH0gbR4HhoJXUxmePCSSLUXLVfUyzA9vjh\n",
       "+cOgPvs8z75oBAD2sin/i0CWLiPOZJPs8OutfXsDTd+ryxCqzSqrSKL0ohxVq4YhGcVMJgUNstWr\n",
       "U3bjy2vLOVn8D2N4DPh6cM07Yd9ukbAM/6qWX3SbrLAn+aRi4nsHt07wnX/BrPrUjKE2LU+PdQE9\n",
       "Mmy6x9du6BR0wqpQ2vszof9t1eN/+EEqk6EzumXkfmYx9ifEmw76q52/E/mg6QxOcc8TVwgSxmFh\n",
       "O/c6RsLwUKtMPgBmik4CnUkeQNuswfPsleL9n8Ql1q2YwVzy42eTvK38/O2rI5R+TIsYuqbROruw\n",
       "Pd9747xiM2ebVT4wyRrXOGC7SYG4hYtVG4NTGRiMwNZiUH2FeDc06rEcoPrwGBEAAARXQZvhSahB\n",
       "bJlMCH///qmWAAADAADfe6Ubek/zP4VgBCkjwK5/s3qD+gezgBUNsp0bKxaVpn4CfXdDzeASoTzi\n",
       "gBaGvaS05xk518aYunUEPWk77vnK49tCQ7HSxTshKSd+xJXEaY4HzXmnSQm2cU0cBVXLOZFgk/+y\n",
       "FOruXxBetZVpgcVWQpL2OZzDuVSNk0mwwOM5vokDcpek3l1jyLdKOzX2jOboEV/AHOG8H2aJFW/9\n",
       "zvFzBxHXBABbe+nIENTxXaJ0NLp7lsJ3baYMPSkm8i1efrIOawEiuH1gITpKfcScVyYF7uhlnYjZ\n",
       "/3I8e8CQcZFSuhcvAv4cMyWvM/3fNEuKN8MGMh5PE85ih99oaqUq5ok0y5FLP/nU/a6AFFf+eBwT\n",
       "TD0Yolgz7F9N1FrVvVI3cHWRDehUwhCSh8tBefajDjwoQq2xmJ8TJOOy4exgpL/gLa5F1ei/IcLv\n",
       "HLsmiZ7cGDJpkOt8o7nLNg7vr5throsxMlM6qkmCNL3NSjwOrAfFEzfgL4o+gDTYPz1V/22huLUW\n",
       "/QYUS5FHpHTb0vLjQ/Vu6PfcYhqdh+KHf0D4RWr1xEQvkIQRLbp0lVV4VyiHsV5ShYxBx8gkxHJY\n",
       "S+ZpVWK3hSRt0ErdXGmGGcIr4s3rn7+y4GMAGozUJsbM0UfEnbvYKz8MZGSJMw1kWiQqJF/vnI/x\n",
       "4ebbJZ9mRHsL5h2sZnd/ufy0N9lQc85o202QvFELDtwo6A/xpv7bN2UUqGUfJBGX9XzSZHtSQLrQ\n",
       "StZbaVMAzImKtDr5FCg6Pliqej0YR0i7TDTku7Bej4P3RHFPZNp7e76GD7c+X/e1QZiID0VKhuaL\n",
       "oUBhj3YZSLy4R8lqE8x1icr4RNVcuKv8wu5a/nsIgtRJqbmMp+MawS7JVsoy8CP+h2l8lUVQIcqa\n",
       "WzdqJ6WMN3l8iOiLBqzR2nFbkLumG05zV3jdl/uW18f1TC19iQa2DJkmclErIs5jAPk0xM8alOxw\n",
       "JUEzR8rSltBPF4S1tZW99zGbslDy6bs6PlQo6uQj0JTp9GyIMvGQBMk1ncCtazKu1luI2ZgxTMj9\n",
       "FMmd48F3uyOMLp2BuUIL4kD0zfMS1SZcBS4UxKKjfuRbmaA4rYu7na8QW0Z4LMLJAL2o351joTyz\n",
       "Q5NtQH5hHRqrNIqPl3LenhuAYucRqGqv678L8ba205wowXRGW6M8Ng7ZTQzxXCxkg6mo+3e4P/ec\n",
       "kiEc3MO1AyFMkyZKSu9CXs36oi7YHxSwCgdptG5/NoYSYNQUwoRF0OPecX7OU2eY/sYyrFgigAjm\n",
       "raMTLYXDGyM6rHfykPvWWegWefknzb+8FboXrWX6yj36uxen+FX+E10S2P0YkYX5NFBRjaa3ng/W\n",
       "Oi7kZ3NtH3KV8Flac8cBpNJQuwSvm3yOQNCxyZlI51uDVM9XhOZRZSa8ZszzfCOFB4g05Y7zzHe2\n",
       "z58vdzxw/iJm+WQmRs7VU5os8c6sUAAAAtBBnh9FFSw7/wADekftKibG0OUfhjtS9MwJK+A1QMkl\n",
       "qeF4AQ/ExjgaPnHOceldbvOYSA0NzeFfXKW2ADSPt/SHApmlQfqQZrkDE/lDg3frdLNSB+2ZvOvb\n",
       "amhK1YBw4PY//uLJmL//jhWuuClzhPR5eDPjMv+1A8hUsBrphXEOYoEFE5x9MUv6gcNSeWxwZ405\n",
       "arO25ngO3nT6XW3qjxe5LeDxiIIddebTMILsR9J2UrF8syYURsVHr5g/xuJSZIMSf5qKH+nNcl5m\n",
       "L004OLm6N7syTtq1HFYZ+VJs5AQL6j1YJZvgZchHV0MMPlCchmPywq2z+eywySCZT/NWli3uPXOG\n",
       "t9YMo2FkTO4PqCXvlM1Q0FuvKeYW10dly95GHoqpL1Df+WRTU0PrQgUmlBmHNuKfxYYizGBCVvzO\n",
       "viYAf2O1J91zq0QzW3Dqw+xnZUpSYqMopl1T4W1FdEoGxsJvKYdLPFmKaVkPSpKJZg6SZdhsTy9S\n",
       "lYmJsrfPOPeRhsrOgdpdGcfrbpG2PZzIA/IqcRhRkgV0OYlAwIthQtxC+o8RWIxFLpodTXN2Kxx8\n",
       "Pkg2SGbj1zJ+ph57KGYAfYgn/lShAWbC/NP6vIUyWr2BEIi2nNj0Mlu+n6axIg1vO7C4Fx72vSOa\n",
       "Mfj1o3G/IeoMpmb3KcnoIzwPl4lM3A6n/yp/fOaUCYpERb0Q2SsMaPUFqAHV1xrUvSMcsCCjU+Gu\n",
       "LktQ4GDmci+TcYw8ybaPwi/nVdT88Ugf2sg5zQ8VgpStr43BB7KE5yRSBGpzaHqmCd6PHBqH/diH\n",
       "jo+VlC9IsJok0cdo1itPsaGVnE4NXZtdXo0i6l714MzET/tzTuL//FkKHRzplShptquyAuTLUFD5\n",
       "qOVdJLlbNKGm2OtssM/EfQf6ObTzP5fuQdQ1O9xTxsnOEmBTfUm+uqmv7clJlUkxONzb/2jzdiSJ\n",
       "camAj4AAAAIKAZ4+dEN/AAT47oztW8TTk4M0Cd98n5IKzksAF1QCz1Q6ghEDqBTQf5h8lMjbsqdr\n",
       "Sp08N57Ljf09Ks91dxFfSJDNZq2jhAgey6rC/qQTQ7M2GUdSGhx+iOvCpJrVRj9cba1MTpUOtkkQ\n",
       "/2xdY9+Uqa5Lex6Tflzs/vKYKG+Vzorc4xiTPSpC/602kbZuOFWdgJXpuyU1qG+5igRkj7LhnZG9\n",
       "a+PQDmjETgy/2gfadiyjWxMMa0g9VWCi3/yuaL+4Uprgkm4+HrGAye92Y6X32Cw8Z6WQytFK/cG0\n",
       "Y/8Tztg6CALAlT3aZ0MIUapQY8DkmtqEevE/nvjn8d8iMvyCi4o1aqI5JLE/qtGpZwWNvdmIEz/S\n",
       "kKqdAvNGZ9SC3ieJ5wVLf0CmgkVsEW9xCt8Ua+TaiWiHYUQOWuI9YV1p1juXCX/8Blr1bU4/VZxG\n",
       "fWl1UdYpFCA2V60pNAhQY6+HHyztPWZ+zGFeSr8bwD6KaBNsOGYC0ZuCOyYTUHKL6cCTVmFd1v5D\n",
       "Oq9ByU9QjX/ey0dSG04TvO0GfAPcnSvnOSCfm2geos1mU8Kni2Om2p1XGeIH/hglGT20KIBJnRvD\n",
       "xGRenaB0za4E/zleDZy9gAAAAwCBf0eYemZ8FILAuCbNcJ3Y5x9KlfVluX+esKQ/cUPn39ErlcKV\n",
       "UgNSTpbgAzH8GZd8gK4VTyPTAAAB4QGeIGpDfwAE+efI51VIirzgzIab4R/97GJ34/88gqgA/TOj\n",
       "E8afuIXPJkbtbggDwcyaLywrq2vW8tQBm9RmUiWKXjtji+VQVJHNDsE2xllHP3fTLVOxHuN7l+Up\n",
       "JEKkyUGNbUftvFUBV0lrqdyuUfcOLbB5W4ausZ29xH90UEeC5D8I/ML8V/u12e50dX9ng2tpVWNv\n",
       "ZVaxkD3beSzFhtL025Wj0NzCA2PWoevta03rlEvvuYUxKxTZZqTOCt82xjbTdE1OsqueZJjiTtl+\n",
       "ElJXk9zug3SMINgO/ZsCchLxDa9ZveeaJ8jEvKilnthhVb1Ww3yH1goDFCeJAsBMsoXsHpFQwU65\n",
       "c/tS9fXufav9HElv6/lAYbLIXVLWB6momxZ2Ech3dwKUTPRM1GWypBwiL/b5zUi4XwqWRj8Y2+C7\n",
       "pO6At7wPvQmHK55Bh/EHEC6oOkIfg9G6JeHiDJKrDdtXynyCerSyvROPN9Nt7eN37bR5/uBxM76n\n",
       "6HFM+F1n1221gDLexC+JGgH+6CG3RAcdfRVMpUkMjRK+AOBeROMJ5UVUoyHKHqjirhEy7o3nQWZE\n",
       "pc787ECCN2Rrzw3lkaUpr/jkORVpwTGxbYcAbapz7igr42/miDMlUP43Qgl6A/wAAAMJQZokSahB\n",
       "bJlMCG///qeEAAADAAGn9lNU+p1ggL8AB+cf102K/8x2TV9oNnD+EbJ4vxQ5i5nsFSO3rywgkYXc\n",
       "sd/unDykpLVvUzrNwHniV1yir7ymfcgnCPwZ3/zEWX4TkE2nmdp7hkTJznRBg0kxAkGZqHKhIrsf\n",
       "BVRW9usjPZmyoffJBTIBMTssNRbCePz7VBQGU6dB6kWOh9OyJdGKhIJ6TCN7+OPcwbW/thul2ecO\n",
       "yHQ0SmLykt0uQVh+LwIDXrbM8S0fIiM67dbud1wjk/sMzefEukcsNLMvThoSsGeZCT0QL5qYCuP0\n",
       "Z80KBxCLk5NtvIWO1D0NZUvUUMe17omrVzj8iGqbcv/wQJNBUoBzXYFMGdvfY15FmH3Y+fVPHwrG\n",
       "WfhXX9FPPSOdUzUULWZcvoVSiu1ovYrSkaEvDqinFvllIY2C5kb+6RUrSPnAT/T/d7gzNjB3eDG2\n",
       "XZ6XFBvLkh7lRSgq/1v0xP6HnSrjVckmB0TMiMcm0OeM2jOQTPf8rJFEhmgcfy3vKEQecwAPqVb+\n",
       "IeQuXJ4Ka2ixO8kJBRRNuZq6tXs/JNApLYVxtsU4ZkNLUDXsBMKdwFWgYg1ND19IMEoYJzaWDFvY\n",
       "gB5Mf/Doadgm1Ht9NSA8rlVPMGxAFuUqhyE3+5K4XF6git3d9yGmJO8otEdV8YpryWMI6fbcFHpc\n",
       "eQd4PrGra6janYFIb7b+rEjbiJ/6BS8zmEqjVXhwbBnKNl/buwRtRIqGtSplTjAw3Z+ezbLnNEhD\n",
       "XWfAt8GxdvbLNeTS6EhKGVMaKzQLcRWZKUil1mjihH9Dpt4VAHneg3oF+WRInfFSMuDgP0X9+en6\n",
       "zjhCfh+Cd/ovlRWCOak5xWzUTFPp6KtYsKIP49bjCDivzsfcNVma+TCKGoBhazrJVtAHAUWd4AnW\n",
       "j6LADJZa/Q4EJvNiPAhtZV9w8ZWmp0sOfBCOuVH38UgRSUhmgPcYGdVmpOkH+VvJskVaETuMjW5I\n",
       "R8e5A2t5wPxSTzc7dPA/9bn6VN1UCx+k7qfgQjkhAAACbEGeQkUVLDf/AAT6YEQqoKkSd84MvzXs\n",
       "KqVg5mgUjmj5tygAjDOGZMPirhv1/ltCfWizOA1uqOPM2WwQ/C1DvjJVE2Ypzl6a2y1a9Q9iYBjZ\n",
       "kXe4rQqcNkSW44du/eMVokXgiQ+Zapz/p574m2esK4U3/izjcOGtO+kWf2qbYN7ThpnGlMPNTDcJ\n",
       "QJ56tCPk+4T55GfOtYkjQICeZkI30Xh4Wqj3ZiOlXEhL7yBG62X3YvvXi3GvooeTLZo27mWrwVqc\n",
       "UyBDbujL2VASrbgxwb/18FwHHAqQUdIunzYqp5O5GVjXz0CvBis8YYfvr0ygjbpUba46jz0U5OZV\n",
       "knSbqZ4kAr+uVy3EebyTp3Ps+n5ElhRMPjWseziy+EY+h0dPoNHmbokZkQ6P2o+7V0dRfikBdnLb\n",
       "MyW1I2Qm4OqyGtNnDrTzkoBNhXLb6kgdI8kx8RwyViC8wnqYU1pPJjWvQbGOFG5fmmzK8ZIuCMAv\n",
       "tjbvvxKRgTzsE3zDv4wVnspHzWdG9s7UJuacLJb1ESNsAAwldeq4dOm7YmZI9B1K9u4M9DAkYR0u\n",
       "ncGuMJKesnQgjKpegLYTlyGH+aNS/eGNtkXj6GDwLF00jsQ7bNaQOSCcQeqOB8pmjQ5Vgw77XDxm\n",
       "S2VOgALawQ0xQz2gKf/l0veOq5ezpIwtbcRygwUyGbz8dbGgG5AMLFeMJVsai/SYJ7ACd0vmzZhK\n",
       "NrUp7ob+YF0S7J2AMdRybDIkUqiXv6+Hxd7QG26VqANEVCOzVwYVLvpt1UAR3q3JQB3pCKsf98fv\n",
       "VewqFjeZMkpilweTD0lG76x0AJbkHxU5oMKAAAABxwGeY2pDfwAE+efI51VIirzgzIab4R/2RJVh\n",
       "AP2+2iBeyQopGAD+i/xpRLgzGgha+nM7H6uOx6djTT2iODa35ZjTg5kCcl9bTLN8FTLG1dafsyTa\n",
       "ktpa13aGzy+qBu3YvfCu7C4HxR0RST6NbNOIAmQixxztr9z+Fd2GS+bZWN7n1MInwDGL83GYUKSH\n",
       "/rKTj+iHE1L5/wIXFaKY5VkWL9xcgsG3nI+1bLhitoWE432VhezaIcmfwg+8W5zpmFrQcul+Qxid\n",
       "xaVs/X6xIthBHjZKIkGjjeZP8WZ1tXWpzeAV490+7RA4OAql5WiL8b412MrSzBiYDBd5tNu76NR9\n",
       "69ap74rA5D7Oh/lQ5LXG5Y8c0wjwk/YkyU+iX+wdhu8r8B5V0/5sib+95FMgNiGG8NHSNaYFrWE0\n",
       "ShnRFpQIlrg7TfXAgppX34xVEF+uVhnZaqp+e0rJcZO+gyulWvFL+MTRtGtevFPvPoe43+ehDGvH\n",
       "lHbfweZnGrUotS+a4d7rY7HAz58RrWZjWAc0ADFxRch97+jguhkiQUFfwlpbmDRqx0zz8YwihLlF\n",
       "p9pgarB1t1vMBx7eelte3lFONx4GL788LgayKk3BAAAHI21vb3YAAABsbXZoZAAAAAAAAAAAAAAA\n",
       "AAAAA+gAACd0AAEAAAEAAAAAAAAAAAAAAAABAAAAAAAAAAAAAAAAAAAAAQAAAAAAAAAAAAAAAAAA\n",
       "QAAAAAAAAAAAAAAAAAAAAAAAAAAAAAAAAAAAAAAAAAIAAAZNdHJhawAAAFx0a2hkAAAAAwAAAAAA\n",
       "AAAAAAAAAQAAAAAAACd0AAAAAAAAAAAAAAAAAAAAAAABAAAAAAAAAAAAAAAAAAAAAQAAAAAAAAAA\n",
       "AAAAAAAAQAAAAALQAAABaAAAAAAAJGVkdHMAAAAcZWxzdAAAAAAAAAABAAAndAAACAAAAQAAAAAF\n",
       "xW1kaWEAAAAgbWRoZAAAAAAAAAAAAAAAAAAAKAAAAZQAVcQAAAAAAC1oZGxyAAAAAAAAAAB2aWRl\n",
       "AAAAAAAAAAAAAAAAVmlkZW9IYW5kbGVyAAAABXBtaW5mAAAAFHZtaGQAAAABAAAAAAAAAAAAAAAk\n",
       "ZGluZgAAABxkcmVmAAAAAAAAAAEAAAAMdXJsIAAAAAEAAAUwc3RibAAAALRzdHNkAAAAAAAAAAEA\n",
       "AACkYXZjMQAAAAAAAAABAAAAAAAAAAAAAAAAAAAAAALQAWgASAAAAEgAAAAAAAAAAQAAAAAAAAAA\n",
       "AAAAAAAAAAAAAAAAAAAAAAAAAAAAAAAAABj//wAAADJhdmNDAWQAFv/hABlnZAAWrNlAtC/5YQAA\n",
       "AwABAAADABQPFi2WAQAGaOvjyyLAAAAAHHV1aWRraEDyXyRPxbo5pRvPAyPzAAAAAAAAABhzdHRz\n",
       "AAAAAAAAAAEAAABlAAAEAAAAABRzdHNzAAAAAAAAAAEAAAABAAACcGN0dHMAAAAAAAAATAAAAAEA\n",
       "AAgAAAAAAQAADAAAAAABAAAEAAAAAAEAAAgAAAAAAQAADAAAAAABAAAEAAAAAAUAAAgAAAAAAQAA\n",
       "DAAAAAABAAAEAAAAAAIAAAgAAAAAAQAADAAAAAABAAAEAAAAAAcAAAgAAAAAAQAADAAAAAABAAAE\n",
       "AAAAAAgAAAgAAAAAAQAADAAAAAABAAAEAAAAAAYAAAgAAAAAAQAADAAAAAABAAAEAAAAAAEAAAgA\n",
       "AAAAAQAADAAAAAABAAAEAAAAAAEAAAwAAAAAAQAABAAAAAABAAAUAAAAAAEAAAgAAAAAAQAAAAAA\n",
       "AAABAAAEAAAAAAEAABQAAAAAAQAACAAAAAABAAAAAAAAAAEAAAQAAAAAAQAAFAAAAAABAAAIAAAA\n",
       "AAEAAAAAAAAAAQAABAAAAAABAAAUAAAAAAEAAAgAAAAAAQAAAAAAAAABAAAEAAAAAAEAAAwAAAAA\n",
       "AQAABAAAAAABAAAUAAAAAAEAAAgAAAAAAQAAAAAAAAABAAAEAAAAAAEAABQAAAAAAQAACAAAAAAB\n",
       "AAAAAAAAAAEAAAQAAAAAAQAAFAAAAAABAAAIAAAAAAEAAAAAAAAAAQAABAAAAAABAAAUAAAAAAEA\n",
       "AAgAAAAAAQAAAAAAAAABAAAEAAAAAAEAABAAAAAAAgAABAAAAAABAAAUAAAAAAEAAAgAAAAAAQAA\n",
       "AAAAAAABAAAEAAAAAAEAABQAAAAAAQAACAAAAAABAAAAAAAAAAEAAAQAAAAAAQAAFAAAAAABAAAI\n",
       "AAAAAAEAAAAAAAAAAQAABAAAAAABAAAQAAAAAAIAAAQAAAAAHHN0c2MAAAAAAAAAAQAAAAEAAABl\n",
       "AAAAAQAAAahzdHN6AAAAAAAAAAAAAABlAAAPhAAAAZQAAACQAAABbQAAAX0AAAEAAAABWAAAAVoA\n",
       "AAEiAAABLAAAAU8AAAFzAAAApQAAAPYAAAFEAAABHAAAAN4AAAE3AAABEwAAASIAAAFDAAABJAAA\n",
       "AQkAAAE9AAABUQAAAMsAAAF9AAABOAAAAY0AAAFQAAAB5AAAAiIAAAHrAAACNwAAAygAAAEiAAAC\n",
       "jgAAAhIAAAH1AAACHgAAAikAAAH1AAACVwAAASsAAAHtAAACSwAAAM4AAAKCAAABYgAABL4AAALe\n",
       "AAAB9gAAAnQAAAYvAAAD3AAAAugAAAMYAAAF/AAAA+kAAAM0AAADXgAABisAAARPAAADHAAAAyYA\n",
       "AATJAAAC+gAABmsAAAOhAAADLwAAAr4AAAZ/AAADHgAAAo4AAAKtAAAGQgAAA9QAAAJ4AAACmwAA\n",
       "BZEAAALQAAACrAAAAh8AAATSAAACXAAAAjUAAAU6AAACvAAAAfwAAAIOAAAEzAAAAs4AAAIsAAAC\n",
       "MQAABFsAAALUAAACDgAAAeUAAAMNAAACcAAAAcsAAAAUc3RjbwAAAAAAAAABAAAALAAAAGJ1ZHRh\n",
       "AAAAWm1ldGEAAAAAAAAAIWhkbHIAAAAAAAAAAG1kaXJhcHBsAAAAAAAAAAAAAAAALWlsc3QAAAAl\n",
       "qXRvbwAAAB1kYXRhAAAAAQAAAABMYXZmNTcuNTYuMTAx\n",
       "\">\n",
       "  Your browser does not support the video tag.\n",
       "</video>"
      ]
     },
     "execution_count": 112,
     "metadata": {
     },
     "output_type": "execute_result"
    }
   ],
   "source": [
    "fig = figure(figsize=(10,5))\n",
    "ax = axes()\n",
    "ax.set_xlim(( -10, 15))\n",
    "ax.set_ylim((0, 0.5))\n",
    "line, = ax.plot([], [], lw=2)\n",
    "def animate(t):\n",
    "    line.set_data(XX[t][B:-B],D_([XX[t]])/x_samples)\n",
    "    return (line,)\n",
    "ani=animation.FuncAnimation(fig, animate, frames=T, interval=100, blit=True)\n",
    "close()\n",
    "HTML(ani.to_html5_video())"
   ]
  },
  {
   "cell_type": "markdown",
   "metadata": {
    "collapsed": false
   },
   "source": [
    "In greater detail ..."
   ]
  },
  {
   "cell_type": "code",
   "execution_count": 113,
   "metadata": {
    "collapsed": false
   },
   "outputs": [
    {
     "data": {
      "image/png": "[encoded data removed]"
     },
     "execution_count": 113,
     "metadata": {
     },
     "output_type": "execute_result"
    }
   ],
   "source": [
    "figure(figsize=(10,5))\n",
    "plot(x.get_value()[B:-B],debound(1.0/d(-1,x.get_value(),0)).eval(),color='black',label='density')\n",
    "legend()\n",
    "title('Final Probablity Density')\n",
    "xlabel('location'); ylabel('density')\n",
    "show()"
   ]
  },
  {
   "cell_type": "code",
   "execution_count": 114,
   "metadata": {
    "collapsed": false
   },
   "outputs": [
    {
     "data": {
      "image/png": "[encoded data removed]"
     },
     "execution_count": 114,
     "metadata": {
     },
     "output_type": "execute_result"
    }
   ],
   "source": [
    "plot(T, mean(select(XV)[T]>0,1))\n",
    "title('Transmission')\n",
    "xlabel('time'); ylabel('probablity')\n",
    "show()"
   ]
  },
  {
   "cell_type": "markdown",
   "metadata": {
    "collapsed": false
   },
   "source": [
    "Final transmission probability"
   ]
  },
  {
   "cell_type": "code",
   "execution_count": 115,
   "metadata": {
    "collapsed": false
   },
   "outputs": [
    {
     "name": "stdout",
     "output_type": "stream",
     "text": [
      "0.6454\n"
     ]
    }
   ],
   "source": [
    "print '%.4f'%(v.get_value()>0).mean()"
   ]
  },
  {
   "cell_type": "code",
   "execution_count": 0,
   "metadata": {
    "collapsed": false
   },
   "outputs": [
   ],
   "source": [
   ]
  }
 ],
 "metadata": {
  "kernelspec": {
   "display_name": "anaconda_kernel",
   "language": "python",
   "name": "anaconda_kernel"
  },
  "language_info": {
   "codemirror_mode": {
    "name": "ipython",
    "version": 2
   },
   "file_extension": ".py",
   "mimetype": "text/x-python",
   "name": "python",
   "nbconvert_exporter": "python",
   "pygments_lexer": "ipython2",
   "version": "2.7.14"
  }
 },
 "nbformat": 4,
 "nbformat_minor": 0
}