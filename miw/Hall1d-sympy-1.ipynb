{
 "cells": [
  {
   "cell_type": "code",
   "execution_count": 1,
   "metadata": {},
   "outputs": [
    {
     "name": "stdout",
     "output_type": "stream",
     "text": [
      "env: MKL_THREADING_LAYER=GNU\n",
      "env: THEANO_FLAGS=device=cpu,floatX=float64\n"
     ]
    }
   ],
   "source": [
    "%env MKL_THREADING_LAYER=GNU\n",
    "%env THEANO_FLAGS=device=cpu,floatX=float64\n",
    "# optimizer=fast_run,NanGuardMode.action=warn\n",
    "# use device=cuda for gpu support"
   ]
  },
  {
   "cell_type": "code",
   "execution_count": 2,
   "metadata": {},
   "outputs": [],
   "source": [
    "import sys\n",
    "from __future__ import division\n",
    "add = __builtin__.sum"
   ]
  },
  {
   "cell_type": "code",
   "execution_count": 3,
   "metadata": {},
   "outputs": [],
   "source": [
    "from theano import clone, function, pp, shared\n",
    "from theano.tensor import (concatenate, config, cosh, dot, erfinv, eq, grad, min,\n",
    "                           scalar, scalars, shape_padright, sum, switch,\n",
    "                           tensor3, tensor5, TensorType, tile, vector)\n",
    "from theano.printing import debugprint, pydotprint\n",
    "#from theano.tensor.shared_randomstreams import RandomStreams\n",
    "# used later\n",
    "from theano.tensor import roll, stack"
   ]
  },
  {
   "cell_type": "code",
   "execution_count": 4,
   "metadata": {},
   "outputs": [],
   "source": [
    "from numpy import (array, arange, asarray, exp, full, Inf, linspace,\n",
    "                   mean, meshgrid, pi, roll)\n",
    "# used later\n",
    "#from numpy import roll, stack"
   ]
  },
  {
   "cell_type": "code",
   "execution_count": 5,
   "metadata": {},
   "outputs": [],
   "source": [
    "from sympy import (Abs, Eq, exp as Exp, I, init_printing, integrate,\n",
    "                   oo, pi as Pi, solve, symbols, Symbol)\n",
    "#from sympy.printing.theanocode\n",
    "# added erfinv\n",
    "from theanocode import theano_code, theano_function\n",
    "#from pymatrix import matrix, Matrix"
   ]
  },
  {
   "cell_type": "code",
   "execution_count": 6,
   "metadata": {},
   "outputs": [],
   "source": [
    "init_printing(use_latex='mathjax')"
   ]
  },
  {
   "cell_type": "code",
   "execution_count": 7,
   "metadata": {},
   "outputs": [],
   "source": [
    "from IPython.display import display, HTML, SVG"
   ]
  },
  {
   "cell_type": "code",
   "execution_count": 8,
   "metadata": {},
   "outputs": [],
   "source": [
    "%matplotlib inline\n",
    "from matplotlib.pyplot import (axes, close, contour, contourf, figure,\n",
    "                               legend, plot, rcParams, show, title,\n",
    "                               xlabel, ylabel)\n",
    "from matplotlib.cm import * #coolwarm, Spectral, etc.\n",
    "from mpl_toolkits.mplot3d import axes3d\n",
    "from matplotlib import animation"
   ]
  },
  {
   "cell_type": "code",
   "execution_count": 9,
   "metadata": {},
   "outputs": [
    {
     "data": {
      "text/plain": [
       "array([ 2.2,  3.2,  2.2,  2.2])"
      ]
     },
     "execution_count": 9,
     "metadata": {},
     "output_type": "execute_result"
    }
   ],
   "source": [
    "from sdict import select\n",
    "# E.g. select({3:3.2,2:2.2})[[2,3]] or\n",
    "S=select({3:3.2,2:2.2})\n",
    "S[array([2,3,2,2])]"
   ]
  },
  {
   "cell_type": "code",
   "execution_count": 10,
   "metadata": {},
   "outputs": [
    {
     "name": "stdout",
     "output_type": "stream",
     "text": [
      "-2   1\n",
      "\n",
      " 1  -1\n"
     ]
    }
   ],
   "source": [
    "from smatrix import *\n",
    "# E.g.\n",
    "print matrix([[1,2],[3,4]]).inverse()"
   ]
  },
  {
   "cell_type": "code",
   "execution_count": 11,
   "metadata": {},
   "outputs": [],
   "source": [
    "# function of specified variables fun(y,...) from expression f\n",
    "# where: fun(x,y)(f)(x,y) = f\n",
    "def fun(*y):\n",
    "    try: # theano?\n",
    "        return lambda f: lambda *x: clone(f, dict([[y[i],x[i]] for i in range(len(y))]),strict=False)\n",
    "    except:\n",
    "        return lambda f: lambda *x: f.subs( dict([[y[i],x[i]] for i in range(len(y))]))"
   ]
  },
  {
   "cell_type": "markdown",
   "metadata": {},
   "source": [
    "The multidimensional symbolic array $C$ represents a \"uniformizing\" mapping of worlds into configuration space, i.e. the position of each particle in each world."
   ]
  },
  {
   "cell_type": "code",
   "execution_count": 12,
   "metadata": {},
   "outputs": [],
   "source": [
    "dim = range(1) # dimension\n",
    "C = TensorType(config.floatX, (False,)*(1+len(dim)))('C') # shape: d * N**d"
   ]
  },
  {
   "cell_type": "markdown",
   "metadata": {},
   "source": [
    "#### Boundary Conditions\n",
    "\n",
    "We introduce fictitious worlds, two worlds deep, at the edges of the array to represent boundary conditions. Boundry worlds can be removed or set to zero."
   ]
  },
  {
   "cell_type": "code",
   "execution_count": 13,
   "metadata": {},
   "outputs": [],
   "source": [
    "B=2\n",
    "def boundary0(r):\n",
    "    for i in range(r.ndim):\n",
    "        rs = list(r.shape); rs[i]=1\n",
    "        s = [1]*r.ndim; s[i]=B\n",
    "        before1 = tile(array([0]*B,config.floatX).reshape(*s),rs)\n",
    "        s = [1]*r.ndim; s[i]=B\n",
    "        after1 = tile(array([0]*B,config.floatX).reshape(*s),rs)\n",
    "        r = concatenate([before1,r,after1], axis=i)\n",
    "    return r"
   ]
  },
  {
   "cell_type": "code",
   "execution_count": 14,
   "metadata": {},
   "outputs": [],
   "source": [
    "def boundary(s): return stack([boundary0(r) for r in s])"
   ]
  },
  {
   "cell_type": "code",
   "execution_count": 15,
   "metadata": {},
   "outputs": [],
   "source": [
    "def debound(r): return r[tuple([slice(B,-B)]*(r.ndim))]"
   ]
  },
  {
   "cell_type": "code",
   "execution_count": 16,
   "metadata": {},
   "outputs": [],
   "source": [
    "# uniform grid between 0 and 1 of dimension d and size N\n",
    "def grid(d,N):\n",
    "    return array(meshgrid(*[arange(0.0+0.5/N,1.0,1.0/N,config.floatX)]*d,\n",
    "                              indexing='ij'))"
   ]
  },
  {
   "cell_type": "code",
   "execution_count": 17,
   "metadata": {},
   "outputs": [
    {
     "data": {
      "text/plain": [
       "array([[[ 0.25,  0.25],\n",
       "        [ 0.75,  0.75]],\n",
       "\n",
       "       [[ 0.25,  0.75],\n",
       "        [ 0.25,  0.75]]])"
      ]
     },
     "execution_count": 17,
     "metadata": {},
     "output_type": "execute_result"
    }
   ],
   "source": [
    "# E.g.\n",
    "grid(2,2)"
   ]
  },
  {
   "cell_type": "code",
   "execution_count": 18,
   "metadata": {},
   "outputs": [
    {
     "data": {
      "text/plain": [
       "array([[[ 0.  ,  0.  ,  0.  ,  0.  ,  0.  ,  0.  ],\n",
       "        [ 0.  ,  0.  ,  0.  ,  0.  ,  0.  ,  0.  ],\n",
       "        [ 0.  ,  0.  ,  0.25,  0.25,  0.  ,  0.  ],\n",
       "        [ 0.  ,  0.  ,  0.75,  0.75,  0.  ,  0.  ],\n",
       "        [ 0.  ,  0.  ,  0.  ,  0.  ,  0.  ,  0.  ],\n",
       "        [ 0.  ,  0.  ,  0.  ,  0.  ,  0.  ,  0.  ]],\n",
       "\n",
       "       [[ 0.  ,  0.  ,  0.  ,  0.  ,  0.  ,  0.  ],\n",
       "        [ 0.  ,  0.  ,  0.  ,  0.  ,  0.  ,  0.  ],\n",
       "        [ 0.  ,  0.  ,  0.25,  0.75,  0.  ,  0.  ],\n",
       "        [ 0.  ,  0.  ,  0.25,  0.75,  0.  ,  0.  ],\n",
       "        [ 0.  ,  0.  ,  0.  ,  0.  ,  0.  ,  0.  ],\n",
       "        [ 0.  ,  0.  ,  0.  ,  0.  ,  0.  ,  0.  ]]])"
      ]
     },
     "execution_count": 18,
     "metadata": {},
     "output_type": "execute_result"
    }
   ],
   "source": [
    "boundary(grid(2,2)).eval()"
   ]
  },
  {
   "cell_type": "code",
   "execution_count": 19,
   "metadata": {},
   "outputs": [
    {
     "data": {
      "text/plain": [
       "array([[[ 0.25,  0.25],\n",
       "        [ 0.75,  0.75]],\n",
       "\n",
       "       [[ 0.25,  0.75],\n",
       "        [ 0.25,  0.75]]])"
      ]
     },
     "execution_count": 19,
     "metadata": {},
     "output_type": "execute_result"
    }
   ],
   "source": [
    "array(map(debound,boundary(grid(2,2)).eval()))"
   ]
  },
  {
   "cell_type": "markdown",
   "metadata": {},
   "source": [
    "### Difference operator ###"
   ]
  },
  {
   "cell_type": "code",
   "execution_count": 20,
   "metadata": {},
   "outputs": [],
   "source": [
    "# In the following use numpy's roll and stack. Later we will use theano for these operations.\n",
    "from numpy import roll, stack"
   ]
  },
  {
   "cell_type": "code",
   "execution_count": 21,
   "metadata": {},
   "outputs": [],
   "source": [
    "N=9"
   ]
  },
  {
   "cell_type": "code",
   "execution_count": 22,
   "metadata": {},
   "outputs": [],
   "source": [
    "s=array(meshgrid(*[symbols(['x_{%s}'%(str(Symbol(\"i\")+(i-N//2)).replace(' ','')) for i in range(N)]) for j in dim],indexing='ij'))"
   ]
  },
  {
   "cell_type": "code",
   "execution_count": 23,
   "metadata": {
    "scrolled": true
   },
   "outputs": [
    {
     "data": {
      "text/latex": [
       "$$\\left [ x_{i-4}, \\quad x_{i-3}, \\quad x_{i-2}, \\quad x_{i-1}, \\quad x_{i}, \\quad x_{i+1}, \\quad x_{i+2}, \\quad x_{i+3}, \\quad x_{i+4}\\right ]$$"
      ],
      "text/plain": [
       "[x_{i-4}, x_{i-3}, x_{i-2}, x_{i-1}, x_{i}, x_{i+1}, x_{i+2}, x_{i+3}, x_{i+4}\n",
       "]"
      ]
     },
     "execution_count": 23,
     "metadata": {},
     "output_type": "execute_result"
    }
   ],
   "source": [
    "list(s[0,:])"
   ]
  },
  {
   "cell_type": "code",
   "execution_count": 24,
   "metadata": {},
   "outputs": [],
   "source": [
    "# names for sympy variables\n",
    "[xm4,xm3,xm2,xm1,x_i,x1,x2,x3,x4] = list(s[0,:])"
   ]
  },
  {
   "cell_type": "code",
   "execution_count": 25,
   "metadata": {},
   "outputs": [
    {
     "data": {
      "text/latex": [
       "$$x_{i}$$"
      ],
      "text/plain": [
       "x_{i}"
      ]
     },
     "execution_count": 25,
     "metadata": {},
     "output_type": "execute_result"
    }
   ],
   "source": [
    "x_i # index of i'th world"
   ]
  },
  {
   "cell_type": "markdown",
   "metadata": {},
   "source": [
    "The index of the $i^{th}$ world with boundry worlds removed:"
   ]
  },
  {
   "cell_type": "code",
   "execution_count": 26,
   "metadata": {},
   "outputs": [],
   "source": [
    "ith = N//2-B"
   ]
  },
  {
   "cell_type": "code",
   "execution_count": 27,
   "metadata": {},
   "outputs": [
    {
     "data": {
      "text/latex": [
       "$$x_{i}$$"
      ],
      "text/plain": [
       "x_{i}"
      ]
     },
     "execution_count": 27,
     "metadata": {},
     "output_type": "execute_result"
    }
   ],
   "source": [
    "debound(s[0])[ith]"
   ]
  },
  {
   "cell_type": "markdown",
   "metadata": {},
   "source": [
    "Forward and backward differences"
   ]
  },
  {
   "cell_type": "code",
   "execution_count": 28,
   "metadata": {},
   "outputs": [],
   "source": [
    "def d(dir,x,i):\n",
    "    if dir<0:\n",
    "        return roll(x, dir, axis = i) - x\n",
    "    else:\n",
    "        return x - roll(x, dir, axis = i)"
   ]
  },
  {
   "cell_type": "code",
   "execution_count": 29,
   "metadata": {},
   "outputs": [
    {
     "data": {
      "text/latex": [
       "$$\\left [ x_{i-2} - x_{i-3}, \\quad x_{i-1} - x_{i-2}, \\quad - x_{i-1} + x_{i}, \\quad x_{i+1} - x_{i}, \\quad - x_{i+1} + x_{i+2}\\right ]$$"
      ],
      "text/plain": [
       "[x_{i-2} - x_{i-3}, x_{i-1} - x_{i-2}, -x_{i-1} + x_{i}, x_{i+1} - x_{i}, -x_{\n",
       "i+1} + x_{i+2}]"
      ]
     },
     "execution_count": 29,
     "metadata": {},
     "output_type": "execute_result"
    }
   ],
   "source": [
    "list(debound(d(+1,s[0],0)))"
   ]
  },
  {
   "cell_type": "code",
   "execution_count": 30,
   "metadata": {},
   "outputs": [
    {
     "data": {
      "text/latex": [
       "$$\\left [ x_{i-1} - x_{i-2}, \\quad - x_{i-1} + x_{i}, \\quad x_{i+1} - x_{i}, \\quad - x_{i+1} + x_{i+2}, \\quad - x_{i+2} + x_{i+3}\\right ]$$"
      ],
      "text/plain": [
       "[x_{i-1} - x_{i-2}, -x_{i-1} + x_{i}, x_{i+1} - x_{i}, -x_{i+1} + x_{i+2}, -x_\n",
       "{i+2} + x_{i+3}]"
      ]
     },
     "execution_count": 30,
     "metadata": {},
     "output_type": "execute_result"
    }
   ],
   "source": [
    "list(debound(d(-1,s[0],0)))"
   ]
  },
  {
   "cell_type": "markdown",
   "metadata": {},
   "source": [
    "Jacobian"
   ]
  },
  {
   "cell_type": "code",
   "execution_count": 31,
   "metadata": {},
   "outputs": [],
   "source": [
    "def J(C): return matrix([[d(-1,C[j],i) for i in dim] for j in dim])"
   ]
  },
  {
   "cell_type": "code",
   "execution_count": 32,
   "metadata": {},
   "outputs": [],
   "source": [
    "def K(C): return 1/J(C)"
   ]
  },
  {
   "cell_type": "markdown",
   "metadata": {},
   "source": [
    "#### Quantum Potential (Schiff&Poirier eq. 20)####"
   ]
  },
  {
   "cell_type": "code",
   "execution_count": 33,
   "metadata": {},
   "outputs": [],
   "source": [
    "def Q(hbar,mu,C):\n",
    "    K_C = K(C)\n",
    "    return debound(add([add([add([\n",
    "           -hbar**2/(4*mu[j])*(K_C[k,j]*d(-1,d(+1,K_C[l,j], k), l) + d(+1,K_C[l,j], l)*d(+1,K_C[k,j], k)/2)\n",
    "                 for k in dim]) for j in dim]) for l in dim]))"
   ]
  },
  {
   "cell_type": "code",
   "execution_count": 34,
   "metadata": {},
   "outputs": [
    {
     "data": {
      "text/latex": [
       "$$\\left [ \\mu_{0}\\right ]$$"
      ],
      "text/plain": [
       "[μ₀]"
      ]
     },
     "execution_count": 34,
     "metadata": {},
     "output_type": "execute_result"
    }
   ],
   "source": [
    "mu=array(symbols(['mu%s'%i for i in dim])) # mass\n",
    "list(mu)"
   ]
  },
  {
   "cell_type": "code",
   "execution_count": 35,
   "metadata": {},
   "outputs": [],
   "source": [
    "hbar=Symbol('hbar')"
   ]
  },
  {
   "cell_type": "markdown",
   "metadata": {},
   "source": [
    "The quantum potential at the $i^{th}$ world:"
   ]
  },
  {
   "cell_type": "code",
   "execution_count": 36,
   "metadata": {},
   "outputs": [],
   "source": [
    "Qs=Q(hbar,mu,s)"
   ]
  },
  {
   "cell_type": "code",
   "execution_count": 37,
   "metadata": {},
   "outputs": [
    {
     "data": {
      "text/latex": [
       "$$- \\frac{\\hbar^{2}}{4 \\mu_{0}} \\left(\\frac{1}{2} \\left(- \\frac{1}{- x_{i-1} + x_{i}} + \\frac{1}{x_{i+1} - x_{i}}\\right)^{2} + \\frac{1}{x_{i+1} - x_{i}} \\left(\\frac{1}{- x_{i-1} + x_{i}} - \\frac{2}{x_{i+1} - x_{i}} + \\frac{1}{- x_{i+1} + x_{i+2}}\\right)\\right)$$"
      ],
      "text/plain": [
       "     ⎛                                      2                                 \n",
       "     ⎜⎛         1                  1       ⎞           1                  2   \n",
       "     ⎜⎜- ──────────────── + ───────────────⎟    ──────────────── - ───────────\n",
       "   2 ⎜⎝  -x_{i-1} + x_{i}   x_{i+1} - x_{i}⎠    -x_{i-1} + x_{i}   x_{i+1} - x\n",
       "-h̅ ⋅⎜─────────────────────────────────────── + ──────────────────────────────\n",
       "     ⎝                   2                                          x_{i+1} - \n",
       "──────────────────────────────────────────────────────────────────────────────\n",
       "                                                   4⋅μ₀                       \n",
       "\n",
       "                         ⎞ \n",
       "               1         ⎟ \n",
       "──── + ──────────────────⎟ \n",
       "_{i}   -x_{i+1} + x_{i+2}⎟ \n",
       "─────────────────────────⎟ \n",
       "x_{i}                    ⎠ \n",
       "───────────────────────────\n",
       "                           "
      ]
     },
     "execution_count": 37,
     "metadata": {},
     "output_type": "execute_result"
    }
   ],
   "source": [
    "Qs[ith]"
   ]
  },
  {
   "cell_type": "markdown",
   "metadata": {},
   "source": [
    "#### Quantum Force ####\n",
    "\n",
    "In general the force is a vector.\n",
    "Provided the number of worlds is large enough the trace of Q contains sufficient information to compute gradients."
   ]
  },
  {
   "cell_type": "code",
   "execution_count": 38,
   "metadata": {},
   "outputs": [],
   "source": [
    "QU=add(Qs) # trace in 1-d"
   ]
  },
  {
   "cell_type": "code",
   "execution_count": 39,
   "metadata": {},
   "outputs": [
    {
     "data": {
      "text/latex": [
       "$$\\frac{\\hbar^{2}}{4 \\mu_{0}} \\left(- \\frac{1}{\\left(x_{i+1} - x_{i}\\right)^{2}} \\left(- \\frac{1}{x_{i+1} - x_{i}} + \\frac{1}{- x_{i+1} + x_{i+2}}\\right) + \\frac{1}{\\left(- x_{i+1} + x_{i+2}\\right) \\left(x_{i+1} - x_{i}\\right)^{2}}\\right) + \\frac{\\hbar^{2}}{4 \\mu_{0}} \\left(\\frac{\\frac{2}{\\left(- x_{i-1} + x_{i}\\right)^{2}} + \\frac{1}{\\left(x_{i+1} - x_{i}\\right)^{2}}}{- x_{i-1} + x_{i}} - \\frac{1}{\\left(- x_{i-1} + x_{i}\\right)^{2}} \\left(- \\frac{1}{x_{i-1} - x_{i-2}} + \\frac{1}{- x_{i-1} + x_{i}}\\right) - \\frac{1}{\\left(- x_{i-1} + x_{i}\\right)^{2}} \\left(\\frac{1}{x_{i-1} - x_{i-2}} - \\frac{2}{- x_{i-1} + x_{i}} + \\frac{1}{x_{i+1} - x_{i}}\\right)\\right) + \\frac{\\hbar^{2}}{4 \\mu_{0}} \\left(\\frac{1}{2} \\left(\\frac{2}{\\left(- x_{i-1} + x_{i}\\right)^{2}} + \\frac{2}{\\left(x_{i+1} - x_{i}\\right)^{2}}\\right) \\left(- \\frac{1}{- x_{i-1} + x_{i}} + \\frac{1}{x_{i+1} - x_{i}}\\right) + \\frac{1}{x_{i+1} - x_{i}} \\left(- \\frac{1}{\\left(- x_{i-1} + x_{i}\\right)^{2}} - \\frac{2}{\\left(x_{i+1} - x_{i}\\right)^{2}}\\right) + \\frac{1}{\\left(x_{i+1} - x_{i}\\right)^{2}} \\left(\\frac{1}{- x_{i-1} + x_{i}} - \\frac{2}{x_{i+1} - x_{i}} + \\frac{1}{- x_{i+1} + x_{i+2}}\\right)\\right) - \\frac{\\hbar^{2}}{4 \\mu_{0} \\left(- x_{i-1} + x_{i}\\right)^{2} \\left(x_{i-1} - x_{i-2}\\right)}$$"
      ],
      "text/plain": [
       "                                                                              \n",
       "    ⎛           1                  1                                          \n",
       "    ⎜  - ─────────────── + ──────────────────                                 \n",
       "  2 ⎜    x_{i+1} - x_{i}   -x_{i+1} + x_{i+2}                      1          \n",
       "h̅ ⋅⎜- ────────────────────────────────────── + ──────────────────────────────\n",
       "    ⎜                             2                                           \n",
       "    ⎝            (x_{i+1} - x_{i})              (-x_{i+1} + x_{i+2})⋅(x_{i+1} \n",
       "──────────────────────────────────────────────────────────────────────────────\n",
       "                                          4⋅μ₀                                \n",
       "                                                                              \n",
       "\n",
       "                 ⎛         2                    1                             \n",
       "         ⎞       ⎜─────────────────── + ──────────────────             1      \n",
       "         ⎟       ⎜                  2                    2   - ───────────────\n",
       "         ⎟     2 ⎜(-x_{i-1} + x_{i})    (x_{i+1} - x_{i})      x_{i-1} - x_{i-\n",
       "─────────⎟   h̅ ⋅⎜──────────────────────────────────────── - ─────────────────\n",
       "        2⎟       ⎜            -x_{i-1} + x_{i}                                \n",
       "- x_{i}) ⎠       ⎝                                                    (-x_{i-1\n",
       "────────── + ─────────────────────────────────────────────────────────────────\n",
       "                                                                              \n",
       "                                                                              \n",
       "\n",
       "                                                                              \n",
       "            1                   1                  2                  1       \n",
       "── + ────────────────   ───────────────── - ──────────────── + ───────────────\n",
       "2}   -x_{i-1} + x_{i}   x_{i-1} - x_{i-2}   -x_{i-1} + x_{i}   x_{i+1} - x_{i}\n",
       "───────────────────── - ──────────────────────────────────────────────────────\n",
       "          2                                                2                  \n",
       "} + x_{i})                               (-x_{i-1} + x_{i})                   \n",
       "──────────────────────────────────────────────────────────────────────────────\n",
       "     4⋅μ₀                                                                     \n",
       "                                                                              \n",
       "\n",
       "⎞       ⎛⎛         2                    2         ⎞ ⎛         1               \n",
       "⎟       ⎜⎜─────────────────── + ──────────────────⎟⋅⎜- ──────────────── + ────\n",
       "⎟       ⎜⎜                  2                    2⎟ ⎝  -x_{i-1} + x_{i}   x_{i\n",
       "⎟     2 ⎜⎝(-x_{i-1} + x_{i})    (x_{i+1} - x_{i}) ⎠                           \n",
       "⎟   h̅ ⋅⎜─────────────────────────────────────────────────────────────────────\n",
       "⎟       ⎜                                        2                            \n",
       "⎠       ⎝                                                                     \n",
       "─ + ──────────────────────────────────────────────────────────────────────────\n",
       "                                                                              \n",
       "                                                                              \n",
       "\n",
       "   1       ⎞              1                    2                              \n",
       "───────────⎟   - ─────────────────── - ──────────────────          1          \n",
       "+1} - x_{i}⎠                       2                    2   ──────────────── -\n",
       "                 (-x_{i-1} + x_{i})    (x_{i+1} - x_{i})    -x_{i-1} + x_{i}  \n",
       "──────────── + ────────────────────────────────────────── + ──────────────────\n",
       "                            x_{i+1} - x_{i}                                   \n",
       "                                                                              \n",
       "──────────────────────────────────────────────────────────────────────────────\n",
       "                   4⋅μ₀                                                       \n",
       "                                                                              \n",
       "\n",
       "                                     ⎞                                        \n",
       "        2                  1         ⎟                                        \n",
       " ─────────────── + ──────────────────⎟                                        \n",
       " x_{i+1} - x_{i}   -x_{i+1} + x_{i+2}⎟                                        \n",
       "─────────────────────────────────────⎟                                        \n",
       "                  2                  ⎟                         2              \n",
       " (x_{i+1} - x_{i})                   ⎠                       h̅               \n",
       "────────────────────────────────────── - ─────────────────────────────────────\n",
       "                                                                2             \n",
       "                                         4⋅μ₀⋅(-x_{i-1} + x_{i}) ⋅(x_{i-1} - x\n",
       "\n",
       "       \n",
       "       \n",
       "       \n",
       "       \n",
       "       \n",
       "       \n",
       "       \n",
       "───────\n",
       "       \n",
       "_{i-2})"
      ]
     },
     "execution_count": 39,
     "metadata": {},
     "output_type": "execute_result"
    }
   ],
   "source": [
    "R0 = -QU.diff(x_i); R0"
   ]
  },
  {
   "cell_type": "markdown",
   "metadata": {},
   "source": [
    " Schiff & Poirier eq 18"
   ]
  },
  {
   "cell_type": "code",
   "execution_count": 40,
   "metadata": {},
   "outputs": [],
   "source": [
    "def R(hbar,mu,C):\n",
    "    K_C=K(C)\n",
    "    return stack([debound(add([add([add([add([\n",
    "      hbar**2/(4*mu[j])*d(+1,K_C[k, i]*K_C[p, j]*d(-1,d(+1,K_C[l, j], k), l), p)\n",
    "        for p in dim]) for k in dim]) for j in dim]) for l in dim]))\n",
    "            for i in dim])"
   ]
  },
  {
   "cell_type": "code",
   "execution_count": 41,
   "metadata": {
    "scrolled": true
   },
   "outputs": [
    {
     "data": {
      "text/latex": [
       "$$\\frac{\\hbar^{2}}{4 \\mu_{0}} \\left(- \\frac{1}{\\left(- x_{i-1} + x_{i}\\right)^{2}} \\left(\\frac{1}{x_{i-1} - x_{i-2}} - \\frac{2}{- x_{i-1} + x_{i}} + \\frac{1}{x_{i+1} - x_{i}}\\right) + \\frac{1}{\\left(x_{i+1} - x_{i}\\right)^{2}} \\left(\\frac{1}{- x_{i-1} + x_{i}} - \\frac{2}{x_{i+1} - x_{i}} + \\frac{1}{- x_{i+1} + x_{i+2}}\\right)\\right)$$"
      ],
      "text/plain": [
       "    ⎛          1                  2                  1                 1      \n",
       "    ⎜  ───────────────── - ──────────────── + ───────────────   ──────────────\n",
       "  2 ⎜  x_{i-1} - x_{i-2}   -x_{i-1} + x_{i}   x_{i+1} - x_{i}   -x_{i-1} + x_{\n",
       "h̅ ⋅⎜- ────────────────────────────────────────────────────── + ──────────────\n",
       "    ⎜                                     2                                   \n",
       "    ⎝                   (-x_{i-1} + x_{i})                                    \n",
       "──────────────────────────────────────────────────────────────────────────────\n",
       "                                                          4⋅μ₀                \n",
       "\n",
       "            2                  1         ⎞\n",
       "── - ─────────────── + ──────────────────⎟\n",
       "i}   x_{i+1} - x_{i}   -x_{i+1} + x_{i+2}⎟\n",
       "─────────────────────────────────────────⎟\n",
       "                      2                  ⎟\n",
       "     (x_{i+1} - x_{i})                   ⎠\n",
       "──────────────────────────────────────────\n",
       "                                          "
      ]
     },
     "execution_count": 41,
     "metadata": {},
     "output_type": "execute_result"
    }
   ],
   "source": [
    "Rs=R(hbar,mu,s); Rs[0,ith]"
   ]
  },
  {
   "cell_type": "markdown",
   "metadata": {},
   "source": [
    "The discretized Schiff and Poirier expression for the force is the gradient of the potential above."
   ]
  },
  {
   "cell_type": "code",
   "execution_count": 42,
   "metadata": {},
   "outputs": [
    {
     "data": {
      "text/plain": [
       "True"
      ]
     },
     "execution_count": 42,
     "metadata": {},
     "output_type": "execute_result"
    }
   ],
   "source": [
    "Rs[0,ith].expand()==R0.expand()"
   ]
  },
  {
   "cell_type": "markdown",
   "metadata": {},
   "source": [
    "It is interesting to note that the gradient of another expression for the potential which differs from the $2^{nd}$ order term from Schiff&Poirier eq. 20 by only the sign yields the same expression for the quantum force."
   ]
  },
  {
   "cell_type": "code",
   "execution_count": 43,
   "metadata": {},
   "outputs": [],
   "source": [
    "def Q2(hbar,mu,C):\n",
    "    K_C = K(C)\n",
    "    return debound(add([add([add([\n",
    "           hbar**2/(8*mu[j])*d(+1,K_C[l,j], l)*d(+1,K_C[k,j], k)\n",
    "                 for k in dim]) for j in dim]) for l in dim]))"
   ]
  },
  {
   "cell_type": "code",
   "execution_count": 44,
   "metadata": {},
   "outputs": [],
   "source": [
    "Qs2=Q2(hbar,mu,s)"
   ]
  },
  {
   "cell_type": "markdown",
   "metadata": {},
   "source": [
    "The discretized version of this expression is identical to that introduced by Hall & Deckart."
   ]
  },
  {
   "cell_type": "code",
   "execution_count": 45,
   "metadata": {},
   "outputs": [
    {
     "data": {
      "text/latex": [
       "$$\\frac{\\hbar^{2}}{8 \\mu_{0}} \\left(- \\frac{1}{- x_{i-1} + x_{i}} + \\frac{1}{x_{i+1} - x_{i}}\\right)^{2}$$"
      ],
      "text/plain": [
       "                                          2\n",
       "  2 ⎛         1                  1       ⎞ \n",
       "h̅ ⋅⎜- ──────────────── + ───────────────⎟ \n",
       "    ⎝  -x_{i-1} + x_{i}   x_{i+1} - x_{i}⎠ \n",
       "───────────────────────────────────────────\n",
       "                    8⋅μ₀                   "
      ]
     },
     "execution_count": 45,
     "metadata": {},
     "output_type": "execute_result"
    }
   ],
   "source": [
    "Qs2[ith]"
   ]
  },
  {
   "cell_type": "code",
   "execution_count": 46,
   "metadata": {},
   "outputs": [],
   "source": [
    "Q2R0 = -add(Qs2).diff(x_i)"
   ]
  },
  {
   "cell_type": "code",
   "execution_count": 47,
   "metadata": {},
   "outputs": [
    {
     "data": {
      "text/plain": [
       "True"
      ]
     },
     "execution_count": 47,
     "metadata": {},
     "output_type": "execute_result"
    }
   ],
   "source": [
    "(Rs[0,ith] - Q2R0).simplify()==0"
   ]
  },
  {
   "cell_type": "markdown",
   "metadata": {},
   "source": [
    "Simplied expressions for the quantum potential and quantum force."
   ]
  },
  {
   "cell_type": "code",
   "execution_count": 48,
   "metadata": {},
   "outputs": [],
   "source": [
    "# Give nice display names to sympy subexpressions (differences).\n",
    "x2x1=Symbol(\"(x_{i+2}-x_{i+1})\")\n",
    "x1x0=Symbol(\"(x_{i+1}-x_{i})\")\n",
    "x0m1=Symbol(\"(x_{i}-x_{i-1})\")\n",
    "xm1m2=Symbol(\"(x_{i-1}-x_{i-2})\")\n",
    "terms = {x2-x1:x2x1, x1-x_i:x1x0, x_i-xm1:x0m1, xm1-xm2:xm1m2}"
   ]
  },
  {
   "cell_type": "markdown",
   "metadata": {},
   "source": [
    "$3^{rd}$ order quantum potential"
   ]
  },
  {
   "cell_type": "code",
   "execution_count": 49,
   "metadata": {},
   "outputs": [
    {
     "data": {
      "text/latex": [
       "$$- \\frac{\\hbar^{2}}{4 \\mu_{0}} \\left(\\frac{1}{2} \\left(- \\frac{1}{(x_{i}-x_{i-1})} + \\frac{1}{(x_{i+1}-x_{i})}\\right)^{2} + \\frac{1}{(x_{i+1}-x_{i})} \\left(\\frac{1}{(x_{i}-x_{i-1})} + \\frac{1}{(x_{i+2}-x_{i+1})} - \\frac{2}{(x_{i+1}-x_{i})}\\right)\\right)$$"
      ],
      "text/plain": [
       "     ⎛                                     2                                  \n",
       "     ⎜⎛         1                 1       ⎞           1                  1    \n",
       "     ⎜⎜- ─────────────── + ───────────────⎟    ─────────────── + ─────────────\n",
       "   2 ⎜⎝  (x_{i}-x_{i-1})   (x_{i+1}-x_{i})⎠    (x_{i}-x_{i-1})   (x_{i+2}-x_{i\n",
       "-h̅ ⋅⎜────────────────────────────────────── + ───────────────────────────────\n",
       "     ⎝                  2                                         (x_{i+1}-x_{\n",
       "──────────────────────────────────────────────────────────────────────────────\n",
       "                                                 4⋅μ₀                         \n",
       "\n",
       "                      ⎞ \n",
       "              2       ⎟ \n",
       "──── - ───────────────⎟ \n",
       "+1})   (x_{i+1}-x_{i})⎟ \n",
       "──────────────────────⎟ \n",
       "i})                   ⎠ \n",
       "────────────────────────\n",
       "                        "
      ]
     },
     "execution_count": 49,
     "metadata": {},
     "output_type": "execute_result"
    }
   ],
   "source": [
    "q1=Qs[ith].subs(terms).collect(hbar).collect(mu[0]); q1"
   ]
  },
  {
   "cell_type": "markdown",
   "metadata": {},
   "source": [
    "$2^{nd}$ order quantum potential"
   ]
  },
  {
   "cell_type": "code",
   "execution_count": 50,
   "metadata": {},
   "outputs": [
    {
     "data": {
      "text/latex": [
       "$$\\frac{\\hbar^{2}}{8 \\mu_{0}} \\left(- \\frac{1}{(x_{i}-x_{i-1})} + \\frac{1}{(x_{i+1}-x_{i})}\\right)^{2}$$"
      ],
      "text/plain": [
       "                                         2\n",
       "  2 ⎛         1                 1       ⎞ \n",
       "h̅ ⋅⎜- ─────────────── + ───────────────⎟ \n",
       "    ⎝  (x_{i}-x_{i-1})   (x_{i+1}-x_{i})⎠ \n",
       "──────────────────────────────────────────\n",
       "                   8⋅μ₀                   "
      ]
     },
     "execution_count": 50,
     "metadata": {},
     "output_type": "execute_result"
    }
   ],
   "source": [
    "q2=Qs2[ith].subs(terms).collect(hbar).collect(mu[0]); q2"
   ]
  },
  {
   "cell_type": "markdown",
   "metadata": {},
   "source": [
    "Quantum force"
   ]
  },
  {
   "cell_type": "code",
   "execution_count": 51,
   "metadata": {
    "scrolled": true
   },
   "outputs": [
    {
     "data": {
      "text/latex": [
       "$$\\frac{\\hbar^{2}}{\\mu_{0}} \\left(\\frac{1}{2 (x_{i}-x_{i-1})^{3}} - \\frac{1}{4 (x_{i-1}-x_{i-2}) (x_{i}-x_{i-1})^{2}} - \\frac{1}{4 (x_{i+1}-x_{i}) (x_{i}-x_{i-1})^{2}} + \\frac{1}{4 (x_{i+1}-x_{i})^{2} (x_{i}-x_{i-1})} + \\frac{1}{4 (x_{i+1}-x_{i})^{2} (x_{i+2}-x_{i+1})} - \\frac{1}{2 (x_{i+1}-x_{i})^{3}}\\right)$$"
      ],
      "text/plain": [
       "  2 ⎛        1                             1                                  \n",
       "h̅ ⋅⎜────────────────── - ──────────────────────────────────── - ─────────────\n",
       "    ⎜                 3                                      2                \n",
       "    ⎝2⋅(x_{i}-x_{i-1})    4⋅(x_{i-1}-x_{i-2})⋅(x_{i}-x_{i-1})    4⋅(x_{i+1}-x_\n",
       "──────────────────────────────────────────────────────────────────────────────\n",
       "                                                                              \n",
       "\n",
       "   1                                    1                                     \n",
       "───────────────────── + ────────────────────────────────── + ─────────────────\n",
       "                    2                    2                                    \n",
       "{i})⋅(x_{i}-x_{i-1})    4⋅(x_{i+1}-x_{i}) ⋅(x_{i}-x_{i-1})   4⋅(x_{i+1}-x_{i})\n",
       "──────────────────────────────────────────────────────────────────────────────\n",
       "                    μ₀                                                        \n",
       "\n",
       "1                             1         ⎞\n",
       "─────────────────── - ──────────────────⎟\n",
       "2                                      3⎟\n",
       " ⋅(x_{i+2}-x_{i+1})   2⋅(x_{i+1}-x_{i}) ⎠\n",
       "─────────────────────────────────────────\n",
       "                                         "
      ]
     },
     "execution_count": 51,
     "metadata": {},
     "output_type": "execute_result"
    }
   ],
   "source": [
    "r2=R0.subs(terms).expand().collect(hbar).collect(mu[0]); r2"
   ]
  },
  {
   "cell_type": "code",
   "execution_count": 52,
   "metadata": {},
   "outputs": [
    {
     "data": {
      "text/latex": [
       "$$\\frac{\\hbar^{2}}{4 \\mu_{0}} \\left(- \\frac{1}{(x_{i}-x_{i-1})^{2}} \\left(- \\frac{2}{(x_{i}-x_{i-1})} + \\frac{1}{(x_{i-1}-x_{i-2})} + \\frac{1}{(x_{i+1}-x_{i})}\\right) + \\frac{1}{(x_{i+1}-x_{i})^{2}} \\left(\\frac{1}{(x_{i}-x_{i-1})} + \\frac{1}{(x_{i+2}-x_{i+1})} - \\frac{2}{(x_{i+1}-x_{i})}\\right)\\right)$$"
      ],
      "text/plain": [
       "    ⎛           2                  1                  1                 1     \n",
       "    ⎜  - ─────────────── + ───────────────── + ───────────────   ─────────────\n",
       "  2 ⎜    (x_{i}-x_{i-1})   (x_{i-1}-x_{i-2})   (x_{i+1}-x_{i})   (x_{i}-x_{i-1\n",
       "h̅ ⋅⎜- ─────────────────────────────────────────────────────── + ─────────────\n",
       "    ⎜                                     2                                   \n",
       "    ⎝                      (x_{i}-x_{i-1})                                    \n",
       "──────────────────────────────────────────────────────────────────────────────\n",
       "                                                          4⋅μ₀                \n",
       "\n",
       "             1                  2       ⎞\n",
       "── + ───────────────── - ───────────────⎟\n",
       "})   (x_{i+2}-x_{i+1})   (x_{i+1}-x_{i})⎟\n",
       "────────────────────────────────────────⎟\n",
       "                     2                  ⎟\n",
       "      (x_{i+1}-x_{i})                   ⎠\n",
       "─────────────────────────────────────────\n",
       "                                         "
      ]
     },
     "execution_count": 52,
     "metadata": {},
     "output_type": "execute_result"
    }
   ],
   "source": [
    "r3=Rs[0,ith].subs(terms); r3"
   ]
  },
  {
   "cell_type": "markdown",
   "metadata": {},
   "source": [
    "### Numeric computation ###\n",
    "\n",
    "These sympy expressions can be converted to theano functions for efficient execution on gpu and multicore processors."
   ]
  },
  {
   "cell_type": "code",
   "execution_count": 53,
   "metadata": {},
   "outputs": [],
   "source": [
    "from theano.tensor import roll, stack"
   ]
  },
  {
   "cell_type": "code",
   "execution_count": 54,
   "metadata": {},
   "outputs": [],
   "source": [
    "hbar_s = scalar('hbar')\n",
    "mu_v = vector('mu')"
   ]
  },
  {
   "cell_type": "markdown",
   "metadata": {},
   "source": [
    "Without sympy simplification theano produces the following expressions:"
   ]
  },
  {
   "cell_type": "code",
   "execution_count": 55,
   "metadata": {},
   "outputs": [],
   "source": [
    "Q_=function([hbar_s,mu_v,C],Q(hbar_s,mu_v,C))"
   ]
  },
  {
   "cell_type": "markdown",
   "metadata": {},
   "source": [
    "After optimization:"
   ]
  },
  {
   "cell_type": "code",
   "execution_count": 56,
   "metadata": {
    "scrolled": true
   },
   "outputs": [
    {
     "data": {
      "text/plain": [
       "'Elemwise{Composite{((i0 * i1 * ((i2 * (i3 - i4)) + (i5 * sqr(i4)))) / i6)}}[(0, 2)](TensorConstant{(1,) of -0.25}, sqr(hbar), Elemwise{Composite{inv((i0 - i1))}}[(0, 0)](join(TensorConstant{0}, C[ScalarFromTensor(Elemwise{Composite{(-(i0 % i1))}}(TensorConstant{-1}, Shape_i{1}(C))), int64:], C[ScalarFromTensor(Elemwise{Composite{(-(i0 % i1))}}(TensorConstant{-1}, Shape_i{1}(C))), int64:int64]), C[Constant{0}])[int64:int64], join(TensorConstant{0}, Elemwise{Sub}[(0, 1)](Elemwise{Composite{inv((i0 - i1))}}[(0, 0)](join(TensorConstant{0}, C[ScalarFromTensor(Elemwise{Composite{(-(i0 % i1))}}(TensorConstant{-1}, Shape_i{1}(C))), int64:], C[ScalarFromTensor(Elemwise{Composite{(-(i0 % i1))}}(TensorConstant{-1}, Shape_i{1}(C))), int64:int64]), C[Constant{0}]), join(TensorConstant{0}, Elemwise{Composite{inv((i0 - i1))}}[(0, 0)](join(TensorConstant{0}, C[ScalarFromTensor(Elemwise{Composite{(-(i0 % i1))}}(TensorConstant{-1}, Shape_i{1}(C))), int64:], C[ScalarFromTensor(Elemwise{Composite{(-(i0 % i1))}}(TensorConstant{-1}, Shape_i{1}(C))), int64:int64]), C[Constant{0}])[int64:], Elemwise{Composite{inv((i0 - i1))}}[(0, 0)](join(TensorConstant{0}, C[ScalarFromTensor(Elemwise{Composite{(-(i0 % i1))}}(TensorConstant{-1}, Shape_i{1}(C))), int64:], C[ScalarFromTensor(Elemwise{Composite{(-(i0 % i1))}}(TensorConstant{-1}, Shape_i{1}(C))), int64:int64]), C[Constant{0}])[int64:int64]))[int64:], Elemwise{Sub}[(0, 1)](Elemwise{Composite{inv((i0 - i1))}}[(0, 0)](join(TensorConstant{0}, C[ScalarFromTensor(Elemwise{Composite{(-(i0 % i1))}}(TensorConstant{-1}, Shape_i{1}(C))), int64:], C[ScalarFromTensor(Elemwise{Composite{(-(i0 % i1))}}(TensorConstant{-1}, Shape_i{1}(C))), int64:int64]), C[Constant{0}]), join(TensorConstant{0}, Elemwise{Composite{inv((i0 - i1))}}[(0, 0)](join(TensorConstant{0}, C[ScalarFromTensor(Elemwise{Composite{(-(i0 % i1))}}(TensorConstant{-1}, Shape_i{1}(C))), int64:], C[ScalarFromTensor(Elemwise{Composite{(-(i0 % i1))}}(TensorConstant{-1}, Shape_i{1}(C))), int64:int64]), C[Constant{0}])[int64:], Elemwise{Composite{inv((i0 - i1))}}[(0, 0)](join(TensorConstant{0}, C[ScalarFromTensor(Elemwise{Composite{(-(i0 % i1))}}(TensorConstant{-1}, Shape_i{1}(C))), int64:], C[ScalarFromTensor(Elemwise{Composite{(-(i0 % i1))}}(TensorConstant{-1}, Shape_i{1}(C))), int64:int64]), C[Constant{0}])[int64:int64]))[int64:int64])[int64:int64], Elemwise{Sub}[(0, 1)](Elemwise{Composite{inv((i0 - i1))}}[(0, 0)](join(TensorConstant{0}, C[ScalarFromTensor(Elemwise{Composite{(-(i0 % i1))}}(TensorConstant{-1}, Shape_i{1}(C))), int64:], C[ScalarFromTensor(Elemwise{Composite{(-(i0 % i1))}}(TensorConstant{-1}, Shape_i{1}(C))), int64:int64]), C[Constant{0}]), join(TensorConstant{0}, Elemwise{Composite{inv((i0 - i1))}}[(0, 0)](join(TensorConstant{0}, C[ScalarFromTensor(Elemwise{Composite{(-(i0 % i1))}}(TensorConstant{-1}, Shape_i{1}(C))), int64:], C[ScalarFromTensor(Elemwise{Composite{(-(i0 % i1))}}(TensorConstant{-1}, Shape_i{1}(C))), int64:int64]), C[Constant{0}])[int64:], Elemwise{Composite{inv((i0 - i1))}}[(0, 0)](join(TensorConstant{0}, C[ScalarFromTensor(Elemwise{Composite{(-(i0 % i1))}}(TensorConstant{-1}, Shape_i{1}(C))), int64:], C[ScalarFromTensor(Elemwise{Composite{(-(i0 % i1))}}(TensorConstant{-1}, Shape_i{1}(C))), int64:int64]), C[Constant{0}])[int64:int64]))[int64:int64], TensorConstant{(1,) of 0.5}, mu[Constant{0}])'"
      ]
     },
     "execution_count": 56,
     "metadata": {},
     "output_type": "execute_result"
    }
   ],
   "source": [
    "pp(Q_.maker.fgraph.outputs[0])"
   ]
  },
  {
   "cell_type": "markdown",
   "metadata": {},
   "source": [
    "$2^{nd}$ order potential"
   ]
  },
  {
   "cell_type": "code",
   "execution_count": 57,
   "metadata": {},
   "outputs": [],
   "source": [
    "Q2_=function([hbar_s,mu_v,C],Q2(hbar_s,mu_v,C))"
   ]
  },
  {
   "cell_type": "code",
   "execution_count": 58,
   "metadata": {},
   "outputs": [
    {
     "data": {
      "text/plain": [
       "'Elemwise{Composite{((i0 * i1 * (i2 - i3) * (i2 - i3)) / i4)}}[(0, 2)](TensorConstant{(1,) of 0.125}, sqr(hbar), Elemwise{Composite{inv((i0 - i1))}}[(0, 0)](join(TensorConstant{0}, C[ScalarFromTensor(Elemwise{Composite{(-(i0 % i1))}}(TensorConstant{-1}, Shape_i{1}(C))), int64:], C[ScalarFromTensor(Elemwise{Composite{(-(i0 % i1))}}(TensorConstant{-1}, Shape_i{1}(C))), int64:int64]), C[Constant{0}])[int64:int64], join(TensorConstant{0}, Elemwise{Composite{inv((i0 - i1))}}[(0, 0)](join(TensorConstant{0}, C[ScalarFromTensor(Elemwise{Composite{(-(i0 % i1))}}(TensorConstant{-1}, Shape_i{1}(C))), int64:], C[ScalarFromTensor(Elemwise{Composite{(-(i0 % i1))}}(TensorConstant{-1}, Shape_i{1}(C))), int64:int64]), C[Constant{0}])[int64:], Elemwise{Composite{inv((i0 - i1))}}[(0, 0)](join(TensorConstant{0}, C[ScalarFromTensor(Elemwise{Composite{(-(i0 % i1))}}(TensorConstant{-1}, Shape_i{1}(C))), int64:], C[ScalarFromTensor(Elemwise{Composite{(-(i0 % i1))}}(TensorConstant{-1}, Shape_i{1}(C))), int64:int64]), C[Constant{0}])[int64:int64])[int64:int64], mu[Constant{0}])'"
      ]
     },
     "execution_count": 58,
     "metadata": {},
     "output_type": "execute_result"
    }
   ],
   "source": [
    "pp(Q2_.maker.fgraph.outputs[0])"
   ]
  },
  {
   "cell_type": "markdown",
   "metadata": {},
   "source": [
    "Quantum force"
   ]
  },
  {
   "cell_type": "code",
   "execution_count": 59,
   "metadata": {},
   "outputs": [],
   "source": [
    "R_=function([hbar_s,mu_v,C],R(hbar_s,mu_v,C))"
   ]
  },
  {
   "cell_type": "code",
   "execution_count": 60,
   "metadata": {},
   "outputs": [
    {
     "data": {
      "text/plain": [
       "'Elemwise{Composite{((i0 * i1 * (i2 - i3)) / i4)}}[(0, 2)](TensorConstant{(1, 1) of 0.25}, sqr(hbar), Elemwise{Composite{((i0 - i1) / sqr(i2))}}[(0, 0)](join(TensorConstant{0}, Elemwise{Sub}[(0, 0)](inv(Elemwise{Sub}[(0, 0)](join(TensorConstant{0}, C[ScalarFromTensor(Elemwise{Composite{(-(i0 % i1))}}(TensorConstant{-1}, Shape_i{1}(C))), int64:], C[ScalarFromTensor(Elemwise{Composite{(-(i0 % i1))}}(TensorConstant{-1}, Shape_i{1}(C))), int64:int64]), C[Constant{0}])), join(TensorConstant{0}, inv(Elemwise{Sub}[(0, 0)](join(TensorConstant{0}, C[ScalarFromTensor(Elemwise{Composite{(-(i0 % i1))}}(TensorConstant{-1}, Shape_i{1}(C))), int64:], C[ScalarFromTensor(Elemwise{Composite{(-(i0 % i1))}}(TensorConstant{-1}, Shape_i{1}(C))), int64:int64]), C[Constant{0}]))[int64:], inv(Elemwise{Sub}[(0, 0)](join(TensorConstant{0}, C[ScalarFromTensor(Elemwise{Composite{(-(i0 % i1))}}(TensorConstant{-1}, Shape_i{1}(C))), int64:], C[ScalarFromTensor(Elemwise{Composite{(-(i0 % i1))}}(TensorConstant{-1}, Shape_i{1}(C))), int64:int64]), C[Constant{0}]))[int64:int64]))[int64:], Elemwise{Sub}[(0, 0)](inv(Elemwise{Sub}[(0, 0)](join(TensorConstant{0}, C[ScalarFromTensor(Elemwise{Composite{(-(i0 % i1))}}(TensorConstant{-1}, Shape_i{1}(C))), int64:], C[ScalarFromTensor(Elemwise{Composite{(-(i0 % i1))}}(TensorConstant{-1}, Shape_i{1}(C))), int64:int64]), C[Constant{0}])), join(TensorConstant{0}, inv(Elemwise{Sub}[(0, 0)](join(TensorConstant{0}, C[ScalarFromTensor(Elemwise{Composite{(-(i0 % i1))}}(TensorConstant{-1}, Shape_i{1}(C))), int64:], C[ScalarFromTensor(Elemwise{Composite{(-(i0 % i1))}}(TensorConstant{-1}, Shape_i{1}(C))), int64:int64]), C[Constant{0}]))[int64:], inv(Elemwise{Sub}[(0, 0)](join(TensorConstant{0}, C[ScalarFromTensor(Elemwise{Composite{(-(i0 % i1))}}(TensorConstant{-1}, Shape_i{1}(C))), int64:], C[ScalarFromTensor(Elemwise{Composite{(-(i0 % i1))}}(TensorConstant{-1}, Shape_i{1}(C))), int64:int64]), C[Constant{0}]))[int64:int64]))[int64:int64]), Elemwise{Sub}[(0, 0)](inv(Elemwise{Sub}[(0, 0)](join(TensorConstant{0}, C[ScalarFromTensor(Elemwise{Composite{(-(i0 % i1))}}(TensorConstant{-1}, Shape_i{1}(C))), int64:], C[ScalarFromTensor(Elemwise{Composite{(-(i0 % i1))}}(TensorConstant{-1}, Shape_i{1}(C))), int64:int64]), C[Constant{0}])), join(TensorConstant{0}, inv(Elemwise{Sub}[(0, 0)](join(TensorConstant{0}, C[ScalarFromTensor(Elemwise{Composite{(-(i0 % i1))}}(TensorConstant{-1}, Shape_i{1}(C))), int64:], C[ScalarFromTensor(Elemwise{Composite{(-(i0 % i1))}}(TensorConstant{-1}, Shape_i{1}(C))), int64:int64]), C[Constant{0}]))[int64:], inv(Elemwise{Sub}[(0, 0)](join(TensorConstant{0}, C[ScalarFromTensor(Elemwise{Composite{(-(i0 % i1))}}(TensorConstant{-1}, Shape_i{1}(C))), int64:], C[ScalarFromTensor(Elemwise{Composite{(-(i0 % i1))}}(TensorConstant{-1}, Shape_i{1}(C))), int64:int64]), C[Constant{0}]))[int64:int64])), Elemwise{Sub}[(0, 0)](join(TensorConstant{0}, C[ScalarFromTensor(Elemwise{Composite{(-(i0 % i1))}}(TensorConstant{-1}, Shape_i{1}(C))), int64:], C[ScalarFromTensor(Elemwise{Composite{(-(i0 % i1))}}(TensorConstant{-1}, Shape_i{1}(C))), int64:int64]), C[Constant{0}]))[int64:int64], join(TensorConstant{0}, Elemwise{Composite{((i0 - i1) / sqr(i2))}}[(0, 0)](join(TensorConstant{0}, Elemwise{Sub}[(0, 0)](inv(Elemwise{Sub}[(0, 0)](join(TensorConstant{0}, C[ScalarFromTensor(Elemwise{Composite{(-(i0 % i1))}}(TensorConstant{-1}, Shape_i{1}(C))), int64:], C[ScalarFromTensor(Elemwise{Composite{(-(i0 % i1))}}(TensorConstant{-1}, Shape_i{1}(C))), int64:int64]), C[Constant{0}])), join(TensorConstant{0}, inv(Elemwise{Sub}[(0, 0)](join(TensorConstant{0}, C[ScalarFromTensor(Elemwise{Composite{(-(i0 % i1))}}(TensorConstant{-1}, Shape_i{1}(C))), int64:], C[ScalarFromTensor(Elemwise{Composite{(-(i0 % i1))}}(TensorConstant{-1}, Shape_i{1}(C))), int64:int64]), C[Constant{0}]))[int64:], inv(Elemwise{Sub}[(0, 0)](join(TensorConstant{0}, C[ScalarFromTensor(Elemwise{Composite{(-(i0 % i1))}}(TensorConstant{-1}, Shape_i{1}(C))), int64:], C[ScalarFromTensor(Elemwise{Composite{(-(i0 % i1))}}(TensorConstant{-1}, Shape_i{1}(C))), int64:int64]), C[Constant{0}]))[int64:int64]))[int64:], Elemwise{Sub}[(0, 0)](inv(Elemwise{Sub}[(0, 0)](join(TensorConstant{0}, C[ScalarFromTensor(Elemwise{Composite{(-(i0 % i1))}}(TensorConstant{-1}, Shape_i{1}(C))), int64:], C[ScalarFromTensor(Elemwise{Composite{(-(i0 % i1))}}(TensorConstant{-1}, Shape_i{1}(C))), int64:int64]), C[Constant{0}])), join(TensorConstant{0}, inv(Elemwise{Sub}[(0, 0)](join(TensorConstant{0}, C[ScalarFromTensor(Elemwise{Composite{(-(i0 % i1))}}(TensorConstant{-1}, Shape_i{1}(C))), int64:], C[ScalarFromTensor(Elemwise{Composite{(-(i0 % i1))}}(TensorConstant{-1}, Shape_i{1}(C))), int64:int64]), C[Constant{0}]))[int64:], inv(Elemwise{Sub}[(0, 0)](join(TensorConstant{0}, C[ScalarFromTensor(Elemwise{Composite{(-(i0 % i1))}}(TensorConstant{-1}, Shape_i{1}(C))), int64:], C[ScalarFromTensor(Elemwise{Composite{(-(i0 % i1))}}(TensorConstant{-1}, Shape_i{1}(C))), int64:int64]), C[Constant{0}]))[int64:int64]))[int64:int64]), Elemwise{Sub}[(0, 0)](inv(Elemwise{Sub}[(0, 0)](join(TensorConstant{0}, C[ScalarFromTensor(Elemwise{Composite{(-(i0 % i1))}}(TensorConstant{-1}, Shape_i{1}(C))), int64:], C[ScalarFromTensor(Elemwise{Composite{(-(i0 % i1))}}(TensorConstant{-1}, Shape_i{1}(C))), int64:int64]), C[Constant{0}])), join(TensorConstant{0}, inv(Elemwise{Sub}[(0, 0)](join(TensorConstant{0}, C[ScalarFromTensor(Elemwise{Composite{(-(i0 % i1))}}(TensorConstant{-1}, Shape_i{1}(C))), int64:], C[ScalarFromTensor(Elemwise{Composite{(-(i0 % i1))}}(TensorConstant{-1}, Shape_i{1}(C))), int64:int64]), C[Constant{0}]))[int64:], inv(Elemwise{Sub}[(0, 0)](join(TensorConstant{0}, C[ScalarFromTensor(Elemwise{Composite{(-(i0 % i1))}}(TensorConstant{-1}, Shape_i{1}(C))), int64:], C[ScalarFromTensor(Elemwise{Composite{(-(i0 % i1))}}(TensorConstant{-1}, Shape_i{1}(C))), int64:int64]), C[Constant{0}]))[int64:int64])), Elemwise{Sub}[(0, 0)](join(TensorConstant{0}, C[ScalarFromTensor(Elemwise{Composite{(-(i0 % i1))}}(TensorConstant{-1}, Shape_i{1}(C))), int64:], C[ScalarFromTensor(Elemwise{Composite{(-(i0 % i1))}}(TensorConstant{-1}, Shape_i{1}(C))), int64:int64]), C[Constant{0}]))[int64:], Elemwise{Composite{((i0 - i1) / sqr(i2))}}[(0, 0)](join(TensorConstant{0}, Elemwise{Sub}[(0, 0)](inv(Elemwise{Sub}[(0, 0)](join(TensorConstant{0}, C[ScalarFromTensor(Elemwise{Composite{(-(i0 % i1))}}(TensorConstant{-1}, Shape_i{1}(C))), int64:], C[ScalarFromTensor(Elemwise{Composite{(-(i0 % i1))}}(TensorConstant{-1}, Shape_i{1}(C))), int64:int64]), C[Constant{0}])), join(TensorConstant{0}, inv(Elemwise{Sub}[(0, 0)](join(TensorConstant{0}, C[ScalarFromTensor(Elemwise{Composite{(-(i0 % i1))}}(TensorConstant{-1}, Shape_i{1}(C))), int64:], C[ScalarFromTensor(Elemwise{Composite{(-(i0 % i1))}}(TensorConstant{-1}, Shape_i{1}(C))), int64:int64]), C[Constant{0}]))[int64:], inv(Elemwise{Sub}[(0, 0)](join(TensorConstant{0}, C[ScalarFromTensor(Elemwise{Composite{(-(i0 % i1))}}(TensorConstant{-1}, Shape_i{1}(C))), int64:], C[ScalarFromTensor(Elemwise{Composite{(-(i0 % i1))}}(TensorConstant{-1}, Shape_i{1}(C))), int64:int64]), C[Constant{0}]))[int64:int64]))[int64:], Elemwise{Sub}[(0, 0)](inv(Elemwise{Sub}[(0, 0)](join(TensorConstant{0}, C[ScalarFromTensor(Elemwise{Composite{(-(i0 % i1))}}(TensorConstant{-1}, Shape_i{1}(C))), int64:], C[ScalarFromTensor(Elemwise{Composite{(-(i0 % i1))}}(TensorConstant{-1}, Shape_i{1}(C))), int64:int64]), C[Constant{0}])), join(TensorConstant{0}, inv(Elemwise{Sub}[(0, 0)](join(TensorConstant{0}, C[ScalarFromTensor(Elemwise{Composite{(-(i0 % i1))}}(TensorConstant{-1}, Shape_i{1}(C))), int64:], C[ScalarFromTensor(Elemwise{Composite{(-(i0 % i1))}}(TensorConstant{-1}, Shape_i{1}(C))), int64:int64]), C[Constant{0}]))[int64:], inv(Elemwise{Sub}[(0, 0)](join(TensorConstant{0}, C[ScalarFromTensor(Elemwise{Composite{(-(i0 % i1))}}(TensorConstant{-1}, Shape_i{1}(C))), int64:], C[ScalarFromTensor(Elemwise{Composite{(-(i0 % i1))}}(TensorConstant{-1}, Shape_i{1}(C))), int64:int64]), C[Constant{0}]))[int64:int64]))[int64:int64]), Elemwise{Sub}[(0, 0)](inv(Elemwise{Sub}[(0, 0)](join(TensorConstant{0}, C[ScalarFromTensor(Elemwise{Composite{(-(i0 % i1))}}(TensorConstant{-1}, Shape_i{1}(C))), int64:], C[ScalarFromTensor(Elemwise{Composite{(-(i0 % i1))}}(TensorConstant{-1}, Shape_i{1}(C))), int64:int64]), C[Constant{0}])), join(TensorConstant{0}, inv(Elemwise{Sub}[(0, 0)](join(TensorConstant{0}, C[ScalarFromTensor(Elemwise{Composite{(-(i0 % i1))}}(TensorConstant{-1}, Shape_i{1}(C))), int64:], C[ScalarFromTensor(Elemwise{Composite{(-(i0 % i1))}}(TensorConstant{-1}, Shape_i{1}(C))), int64:int64]), C[Constant{0}]))[int64:], inv(Elemwise{Sub}[(0, 0)](join(TensorConstant{0}, C[ScalarFromTensor(Elemwise{Composite{(-(i0 % i1))}}(TensorConstant{-1}, Shape_i{1}(C))), int64:], C[ScalarFromTensor(Elemwise{Composite{(-(i0 % i1))}}(TensorConstant{-1}, Shape_i{1}(C))), int64:int64]), C[Constant{0}]))[int64:int64])), Elemwise{Sub}[(0, 0)](join(TensorConstant{0}, C[ScalarFromTensor(Elemwise{Composite{(-(i0 % i1))}}(TensorConstant{-1}, Shape_i{1}(C))), int64:], C[ScalarFromTensor(Elemwise{Composite{(-(i0 % i1))}}(TensorConstant{-1}, Shape_i{1}(C))), int64:int64]), C[Constant{0}]))[int64:int64])[int64:int64], mu[Constant{0}])'"
      ]
     },
     "execution_count": 60,
     "metadata": {},
     "output_type": "execute_result"
    }
   ],
   "source": [
    "pp(R_.maker.fgraph.outputs[0])"
   ]
  },
  {
   "cell_type": "markdown",
   "metadata": {},
   "source": [
    "The same functions obtained from the sympy simplified expressions are shorter than those produced directly by Theano."
   ]
  },
  {
   "cell_type": "markdown",
   "metadata": {},
   "source": [
    "Replace symbolic differences with vector operators:"
   ]
  },
  {
   "cell_type": "code",
   "execution_count": 61,
   "metadata": {},
   "outputs": [],
   "source": [
    "ro={theano_code(x2x1):roll(C[0],-2)-roll(C[0],-1),\n",
    "   theano_code(x1x0):roll(C[0],-1)-C[0],\n",
    "   theano_code(x0m1):C[0]-roll(C[0],1),\n",
    "   theano_code(xm1m2):roll(C[0],1)-roll(C[0],2),\n",
    "   theano_code(mu[0]):mu_v[0],\n",
    "   theano_code(hbar):hbar_s}"
   ]
  },
  {
   "cell_type": "markdown",
   "metadata": {},
   "source": [
    "$3^{rd}$ order potential"
   ]
  },
  {
   "cell_type": "code",
   "execution_count": 62,
   "metadata": {},
   "outputs": [],
   "source": [
    "Q1a=fun(hbar_s,mu_v,C)(debound(clone(theano_code(q1),ro,strict=False)))"
   ]
  },
  {
   "cell_type": "code",
   "execution_count": 63,
   "metadata": {},
   "outputs": [],
   "source": [
    "Q1a_=function([hbar_s,mu_v,C],Q1a(hbar_s,mu_v,C))"
   ]
  },
  {
   "cell_type": "code",
   "execution_count": 64,
   "metadata": {},
   "outputs": [
    {
     "data": {
      "text/plain": [
       "'Elemwise{Composite{(i0 * i1 * i2 * ((i3 * sqr((Composite{inv((i0 - i1))}(i4, i5) + (-Composite{inv((i0 - i1))}(i5, i6))))) + (Composite{inv((i0 - i1))}(i4, i5) * (inv((i7 - i4)) + Composite{inv((i0 - i1))}(i5, i6) + (i8 * Composite{inv((i0 - i1))}(i4, i5))))))}}[(0, 4)](TensorConstant{(1,) of -0.25}, sqr(hbar), inv(mu[Constant{0}]), TensorConstant{(1,) of 0.5}, join(TensorConstant{0}, C[ScalarFromTensor(Elemwise{Composite{(-(i0 % i1))}}(TensorConstant{-1}, Shape_i{1}(C))), int64:], C[ScalarFromTensor(Elemwise{Composite{(-(i0 % i1))}}(TensorConstant{-1}, Shape_i{1}(C))), int64:int64])[int64:int64], C[Constant{-2}, int64:int64], join(TensorConstant{0}, C[ScalarFromTensor(Elemwise{Composite{(-(i0 % i1))}}(TensorConstant{1}, Shape_i{1}(C))), int64:], C[ScalarFromTensor(Elemwise{Composite{(-(i0 % i1))}}(TensorConstant{1}, Shape_i{1}(C))), int64:int64])[int64:int64], join(TensorConstant{0}, C[ScalarFromTensor(Elemwise{Composite{(-(i0 % i1))}}[(0, 1)](TensorConstant{-2}, Shape_i{1}(C))), int64:], C[ScalarFromTensor(Elemwise{Composite{(-(i0 % i1))}}[(0, 1)](TensorConstant{-2}, Shape_i{1}(C))), int64:int64])[int64:int64], TensorConstant{(1,) of -2.0})'"
      ]
     },
     "execution_count": 64,
     "metadata": {},
     "output_type": "execute_result"
    }
   ],
   "source": [
    "pp(Q1a_.maker.fgraph.outputs[0])"
   ]
  },
  {
   "cell_type": "markdown",
   "metadata": {},
   "source": [
    "$2^{nd}$ order potential"
   ]
  },
  {
   "cell_type": "code",
   "execution_count": 65,
   "metadata": {},
   "outputs": [],
   "source": [
    "Q2a=fun(hbar_s,mu_v,C)(debound(clone(theano_code(q2),ro,strict=False)))"
   ]
  },
  {
   "cell_type": "code",
   "execution_count": 66,
   "metadata": {},
   "outputs": [],
   "source": [
    "Q2a_=function([hbar_s,mu_v,C],Q2a(hbar_s,mu_v,C))"
   ]
  },
  {
   "cell_type": "code",
   "execution_count": 67,
   "metadata": {},
   "outputs": [
    {
     "data": {
      "text/plain": [
       "'Elemwise{Composite{(i0 * i1 * i2 * sqr((inv((i3 - i4)) + (-inv((i4 - i5))))))}}[(0, 3)](TensorConstant{(1,) of 0.125}, sqr(hbar), inv(mu[Constant{0}]), join(TensorConstant{0}, C[ScalarFromTensor(Elemwise{Composite{(-(i0 % i1))}}(TensorConstant{-1}, Shape_i{1}(C))), int64:], C[ScalarFromTensor(Elemwise{Composite{(-(i0 % i1))}}(TensorConstant{-1}, Shape_i{1}(C))), int64:int64])[int64:int64], C[Constant{-2}, int64:int64], join(TensorConstant{0}, C[ScalarFromTensor(Elemwise{Composite{(-(i0 % i1))}}[(0, 1)](TensorConstant{1}, Shape_i{1}(C))), int64:], C[ScalarFromTensor(Elemwise{Composite{(-(i0 % i1))}}[(0, 1)](TensorConstant{1}, Shape_i{1}(C))), int64:int64])[int64:int64])'"
      ]
     },
     "execution_count": 67,
     "metadata": {},
     "output_type": "execute_result"
    }
   ],
   "source": [
    "pp(Q2a_.maker.fgraph.outputs[0])"
   ]
  },
  {
   "cell_type": "markdown",
   "metadata": {},
   "source": [
    "Quantum force"
   ]
  },
  {
   "cell_type": "code",
   "execution_count": 68,
   "metadata": {},
   "outputs": [],
   "source": [
    "R2a=fun(hbar_s,mu_v,C)(stack([debound(clone(theano_code(r2),ro,strict=False))]))"
   ]
  },
  {
   "cell_type": "code",
   "execution_count": 69,
   "metadata": {},
   "outputs": [],
   "source": [
    "R2a_=function([hbar_s,mu_v,C],R2a(hbar_s,mu_v,C))"
   ]
  },
  {
   "cell_type": "code",
   "execution_count": 70,
   "metadata": {},
   "outputs": [
    {
     "data": {
      "text/plain": [
       "'Elemwise{Composite{(i0 * i1 * ((i2 * inv(Composite{(sqr(i0) * i0)}((i3 - i4)))) + (i5 * inv(Composite{(sqr(i0) * i0)}((i6 - i3)))) + (i7 * inv((i6 - i3)) * Composite{inv(sqr(i0))}((i3 - i4))) + (i7 * inv((i4 - i8)) * Composite{inv(sqr(i0))}((i3 - i4))) + (i9 * Composite{inv(sqr(i0))}((i6 - i3)) * inv((i10 - i6))) + (i9 * Composite{inv(sqr(i0))}((i6 - i3)) * inv((i3 - i4)))))}}[(0, 4)](sqr(hbar), inv(mu[Constant{0}]), TensorConstant{(1, 1) of 0.5}, C[Constant{-2}, int64:int64], join(TensorConstant{0}, C[ScalarFromTensor(Elemwise{Composite{(-(i0 % i1))}}(TensorConstant{1}, Shape_i{1}(C))), int64:], C[ScalarFromTensor(Elemwise{Composite{(-(i0 % i1))}}(TensorConstant{1}, Shape_i{1}(C))), int64:int64])[int64:int64], TensorConstant{(1, 1) of -0.5}, join(TensorConstant{0}, C[ScalarFromTensor(Elemwise{Composite{(-(i0 % i1))}}(TensorConstant{-1}, Shape_i{1}(C))), int64:], C[ScalarFromTensor(Elemwise{Composite{(-(i0 % i1))}}(TensorConstant{-1}, Shape_i{1}(C))), int64:int64])[int64:int64], TensorConstant{(1, 1) of -0.25}, join(TensorConstant{0}, C[ScalarFromTensor(Elemwise{Composite{(-(i0 % i1))}}(TensorConstant{2}, Shape_i{1}(C))), int64:], C[ScalarFromTensor(Elemwise{Composite{(-(i0 % i1))}}(TensorConstant{2}, Shape_i{1}(C))), int64:int64])[int64:int64], TensorConstant{(1, 1) of 0.25}, join(TensorConstant{0}, C[ScalarFromTensor(Elemwise{Composite{(-(i0 % i1))}}[(0, 1)](TensorConstant{-2}, Shape_i{1}(C))), int64:], C[ScalarFromTensor(Elemwise{Composite{(-(i0 % i1))}}[(0, 1)](TensorConstant{-2}, Shape_i{1}(C))), int64:int64])[int64:int64])'"
      ]
     },
     "execution_count": 70,
     "metadata": {},
     "output_type": "execute_result"
    }
   ],
   "source": [
    "pp(R2a_.maker.fgraph.outputs[0])"
   ]
  },
  {
   "cell_type": "code",
   "execution_count": 71,
   "metadata": {},
   "outputs": [],
   "source": [
    "R3a=fun(hbar_s,mu_v,C)(stack([debound(clone(theano_code(r3),ro,strict=False))]))\n",
    "R3a_=function([hbar_s,mu_v,C],R3a(hbar_s,mu_v,C))"
   ]
  },
  {
   "cell_type": "code",
   "execution_count": 72,
   "metadata": {},
   "outputs": [
    {
     "data": {
      "text/plain": [
       "'Elemwise{Composite{(i0 * i1 * i2 * ((inv(sqr((i3 - i4))) * (inv((i5 - i3)) + inv((i4 - i6)) + (i7 * inv((i3 - i4))))) + (i8 * inv(sqr((i4 - i6))) * (inv((i3 - i4)) + inv((i6 - i9)) + (i7 * inv((i4 - i6)))))))}}[(0, 3)](TensorConstant{(1, 1) of 0.25}, sqr(hbar), inv(mu[Constant{0}]), join(TensorConstant{0}, C[ScalarFromTensor(Elemwise{Composite{(-(i0 % i1))}}(TensorConstant{-1}, Shape_i{1}(C))), int64:], C[ScalarFromTensor(Elemwise{Composite{(-(i0 % i1))}}(TensorConstant{-1}, Shape_i{1}(C))), int64:int64])[int64:int64], C[Constant{-2}, int64:int64], join(TensorConstant{0}, C[ScalarFromTensor(Elemwise{Composite{(-(i0 % i1))}}(TensorConstant{-2}, Shape_i{1}(C))), int64:], C[ScalarFromTensor(Elemwise{Composite{(-(i0 % i1))}}(TensorConstant{-2}, Shape_i{1}(C))), int64:int64])[int64:int64], join(TensorConstant{0}, C[ScalarFromTensor(Elemwise{Composite{(-(i0 % i1))}}(TensorConstant{1}, Shape_i{1}(C))), int64:], C[ScalarFromTensor(Elemwise{Composite{(-(i0 % i1))}}(TensorConstant{1}, Shape_i{1}(C))), int64:int64])[int64:int64], TensorConstant{(1, 1) of -2.0}, TensorConstant{(1, 1) of -1.0}, join(TensorConstant{0}, C[ScalarFromTensor(Elemwise{Composite{(-(i0 % i1))}}[(0, 1)](TensorConstant{2}, Shape_i{1}(C))), int64:], C[ScalarFromTensor(Elemwise{Composite{(-(i0 % i1))}}[(0, 1)](TensorConstant{2}, Shape_i{1}(C))), int64:int64])[int64:int64])'"
      ]
     },
     "execution_count": 72,
     "metadata": {},
     "output_type": "execute_result"
    }
   ],
   "source": [
    "pp(R3a_.maker.fgraph.outputs[0])"
   ]
  },
  {
   "cell_type": "markdown",
   "metadata": {},
   "source": [
    "### Simulation ###\n",
    "\n",
    "Using the expressions derived above we can generate efficient numerical functions which we use later in determining the motion of a particle in many worlds simultaneously.\n",
    "\n",
    "We use the discrete difference approximation to Poirier's equations above for a numerical simulation of quantum motion in a small number of ``parallel'' worlds."
   ]
  },
  {
   "cell_type": "markdown",
   "metadata": {},
   "source": [
    "#### Classical Potential ####\n",
    "\n",
    "Poirier's problem"
   ]
  },
  {
   "cell_type": "code",
   "execution_count": 73,
   "metadata": {},
   "outputs": [],
   "source": [
    "alpha,x0,B0,x=scalars('alpha','x0','B0','x')\n",
    "poirier={alpha:asarray(2.5,config.floatX),x0:asarray(0.0,config.floatX),B0:asarray(0.0024,config.floatX)}"
   ]
  },
  {
   "cell_type": "code",
   "execution_count": 74,
   "metadata": {},
   "outputs": [],
   "source": [
    "# symbolic\n",
    "V = fun(x) (clone(B0 / cosh(alpha * (x-x0))**2, poirier))"
   ]
  },
  {
   "cell_type": "code",
   "execution_count": 75,
   "metadata": {},
   "outputs": [],
   "source": [
    "xv=vector('xv')\n",
    "V_ = function([xv],V(xv))"
   ]
  },
  {
   "cell_type": "code",
   "execution_count": 76,
   "metadata": {
    "scrolled": true
   },
   "outputs": [
    {
     "data": {
      "image/png": "[encoded data removed]",
      "text/plain": [
       "<matplotlib.figure.Figure at 0x7f2999508310>"
      ]
     },
     "metadata": {},
     "output_type": "display_data"
    }
   ],
   "source": [
    "plot(arange(-3,3,0.01,config.floatX), V_(arange(-3,3,0.01,config.floatX)))\n",
    "title('Classical Potential')\n",
    "show()"
   ]
  },
  {
   "cell_type": "markdown",
   "metadata": {},
   "source": [
    "#### Classical Force ####"
   ]
  },
  {
   "cell_type": "code",
   "execution_count": 77,
   "metadata": {},
   "outputs": [],
   "source": [
    "# symbolic gradient\n",
    "Fx = fun(x) (-grad(V(x),x))"
   ]
  },
  {
   "cell_type": "code",
   "execution_count": 78,
   "metadata": {},
   "outputs": [],
   "source": [
    "Fx_ = function([xv],Fx(xv))"
   ]
  },
  {
   "cell_type": "code",
   "execution_count": 79,
   "metadata": {},
   "outputs": [
    {
     "data": {
      "image/png": "[encoded data removed]",
      "text/plain": [
       "<matplotlib.figure.Figure at 0x7f299a20a710>"
      ]
     },
     "metadata": {},
     "output_type": "display_data"
    }
   ],
   "source": [
    "plot(arange(-3,3,0.01,config.floatX), Fx_(arange(-3,3,0.01,config.floatX)))\n",
    "title('Classical Force')\n",
    "xlabel('distance'); ylabel('force')\n",
    "show()"
   ]
  },
  {
   "cell_type": "code",
   "execution_count": 80,
   "metadata": {},
   "outputs": [],
   "source": [
    "D_ = function([C],debound(1/J(C).determinant()))"
   ]
  },
  {
   "cell_type": "markdown",
   "metadata": {},
   "source": [
    "### Initial Data ###\n",
    "\n",
    "In order to compute the quantum force on the particles in world $n$ we introduce four widely separated fictitious particles in worlds to the left and right to represent open boundary conditions."
   ]
  },
  {
   "cell_type": "markdown",
   "metadata": {},
   "source": [
    "For example consider the spatial distribution of a Gaussian ensemble of one particle in  $N$ \"parallel\" worlds."
   ]
  },
  {
   "cell_type": "code",
   "execution_count": 181,
   "metadata": {},
   "outputs": [],
   "source": [
    "N = 5000"
   ]
  },
  {
   "cell_type": "markdown",
   "metadata": {},
   "source": [
    "#### Spatial Distribution\n",
    "\n",
    "For example consider the spatial distribution of a Gaussian ensemble of one particle in  $N$ ``parallel'' worlds. Everything is in atomic units below, so $\\hbar=1$."
   ]
  },
  {
   "cell_type": "code",
   "execution_count": 182,
   "metadata": {},
   "outputs": [
    {
     "data": {
      "text/latex": [
       "$$\\frac{\\alpha^{0.5}}{\\pi^{0.5}} e^{- \\alpha \\left(x - x_{0}\\right)^{2}}$$"
      ],
      "text/plain": [
       "                       2\n",
       " -0.5  0.5  -α⋅(x - x₀) \n",
       "π    ⋅α   ⋅ℯ            "
      ]
     },
     "execution_count": 182,
     "metadata": {},
     "output_type": "execute_result"
    }
   ],
   "source": [
    "from sympy import Abs, Symbol,pi as Pi, I, exp as Exp, integrate, oo, solve, Eq\n",
    "x = Symbol(\"x\", real=True)\n",
    "alpha = Symbol(\"alpha\", positive=True)\n",
    "x0 = Symbol(\"x0\", real=True)\n",
    "m = Symbol(\"m\", real=True)\n",
    "v = Symbol(\"v\", real=True)\n",
    "x1 = Symbol(\"x1\", real=True)\n",
    "y1 = Symbol(\"y1\", real=True)\n",
    "model1={m:2000,alpha:0.70,v:0.00164317,x0:-7.0}\n",
    "Wx=Abs((alpha/Pi)**(1/4)*Exp(-(alpha/2)*(x-x0)**2)*Exp(I*m*v*x))**2\n",
    "Wx"
   ]
  },
  {
   "cell_type": "code",
   "execution_count": 183,
   "metadata": {},
   "outputs": [
    {
     "data": {
      "text/latex": [
       "$$\\frac{0.836660026534076}{\\pi^{0.5}} e^{- 0.7 \\left(x + 7.0\\right)^{2}}$$"
      ],
      "text/plain": [
       "                                       2\n",
       "                   -0.5  -0.7⋅(x + 7.0) \n",
       "0.836660026534076⋅π    ⋅ℯ               "
      ]
     },
     "execution_count": 183,
     "metadata": {},
     "output_type": "execute_result"
    }
   ],
   "source": [
    "Wx.subs(model1)"
   ]
  },
  {
   "cell_type": "code",
   "execution_count": 184,
   "metadata": {},
   "outputs": [],
   "source": [
    "W=theano_function([x],[Wx.subs(model1)], dims={x: 1}, dtypes={x: config.floatX})"
   ]
  },
  {
   "cell_type": "markdown",
   "metadata": {},
   "source": [
    "We may compute a monotonic uniformizing mapping into this distribution by inverting the cummulative distribution."
   ]
  },
  {
   "cell_type": "code",
   "execution_count": 185,
   "metadata": {},
   "outputs": [
    {
     "data": {
      "text/latex": [
       "$$\\frac{1}{2} \\operatorname{erf}{\\left (\\sqrt{\\alpha} \\left(- x_{0} + x_{1}\\right) \\right )} + \\frac{1}{2}$$"
      ],
      "text/plain": [
       "erf(√α⋅(-x₀ + x₁))   1\n",
       "────────────────── + ─\n",
       "        2            2"
      ]
     },
     "execution_count": 185,
     "metadata": {},
     "output_type": "execute_result"
    }
   ],
   "source": [
    "cumWx = integrate(Wx,(x,-oo,x1)); cumWx"
   ]
  },
  {
   "cell_type": "code",
   "execution_count": 186,
   "metadata": {},
   "outputs": [
    {
     "data": {
      "text/latex": [
       "$$x_{0} - \\frac{1}{\\sqrt{\\alpha}} \\operatorname{erfinv}{\\left (- 2 y_{1} + 1 \\right )}$$"
      ],
      "text/plain": [
       "     erfinv(-2⋅y₁ + 1)\n",
       "x₀ - ─────────────────\n",
       "             √α       "
      ]
     },
     "execution_count": 186,
     "metadata": {},
     "output_type": "execute_result"
    }
   ],
   "source": [
    "erfinv0=solve(Eq(y1,cumWx),x1)[0]\n",
    "erfinv0"
   ]
  },
  {
   "cell_type": "code",
   "execution_count": 187,
   "metadata": {},
   "outputs": [
    {
     "data": {
      "text/latex": [
       "$$- 1.19522860933439 \\operatorname{erfinv}{\\left (- 2 y_{1} + 1 \\right )} - 7.0$$"
      ],
      "text/plain": [
       "-1.19522860933439⋅erfinv(-2⋅y₁ + 1) - 7.0"
      ]
     },
     "execution_count": 187,
     "metadata": {},
     "output_type": "execute_result"
    }
   ],
   "source": [
    "erfinv0.subs(model1)"
   ]
  },
  {
   "cell_type": "code",
   "execution_count": 188,
   "metadata": {
    "collapsed": true
   },
   "outputs": [],
   "source": [
    "erfinv1=theano_function([y1],[erfinv0.subs(model1)], dims={y1: 1}, dtypes={y1: config.floatX})"
   ]
  },
  {
   "cell_type": "code",
   "execution_count": 189,
   "metadata": {
    "collapsed": true
   },
   "outputs": [],
   "source": [
    "crosses=fun(C)(min([debound(d(-1,C[j],0)) for j in dim])<=0)"
   ]
  },
  {
   "cell_type": "code",
   "execution_count": 190,
   "metadata": {},
   "outputs": [],
   "source": [
    "b0 = erfinv1(grid(1,N+2*B)[0]); b0[0] -= 1e12; b0[1] -= 1e6; b0[-2] += 1e6; b0[-1] += 1e12"
   ]
  },
  {
   "cell_type": "code",
   "execution_count": 191,
   "metadata": {},
   "outputs": [
    {
     "data": {
      "text/plain": [
       "(array([ -1.00000000e+12,  -1.00000990e+06,  -9.78119281e+00,\n",
       "         -9.70016800e+00]),\n",
       " array([ -4.29983200e+00,  -4.21880719e+00,   9.99995900e+05,\n",
       "          1.00000000e+12]))"
      ]
     },
     "execution_count": 191,
     "metadata": {},
     "output_type": "execute_result"
    }
   ],
   "source": [
    "b0[:4],b0[-4:]"
   ]
  },
  {
   "cell_type": "code",
   "execution_count": 192,
   "metadata": {},
   "outputs": [
    {
     "data": {
      "text/plain": [
       "array(False, dtype=bool)"
      ]
     },
     "execution_count": 192,
     "metadata": {},
     "output_type": "execute_result"
    }
   ],
   "source": [
    "crosses(array([b0])).eval()"
   ]
  },
  {
   "cell_type": "markdown",
   "metadata": {},
   "source": [
    "After adding the open boundary conditions, we can check the accuracy by comparing the discrete representation to the original distribution."
   ]
  },
  {
   "cell_type": "code",
   "execution_count": 193,
   "metadata": {},
   "outputs": [],
   "source": [
    "p0 = debound(b0)"
   ]
  },
  {
   "cell_type": "code",
   "execution_count": 194,
   "metadata": {
    "scrolled": true
   },
   "outputs": [
    {
     "data": {
      "image/png": "[encoded data removed]",
      "text/plain": [
       "<matplotlib.figure.Figure at 0x7f29944a1390>"
      ]
     },
     "metadata": {},
     "output_type": "display_data"
    }
   ],
   "source": [
    "figure(figsize=(10,5))\n",
    "plot(p0, debound(1.0/N/d(-1,b0,0).eval()), color='red',label='discrete')\n",
    "plot(p0, W(p0), color='blue',label='continuous')\n",
    "legend()\n",
    "title('Probablity Density')\n",
    "xlabel('location'); ylabel('density')\n",
    "show()"
   ]
  },
  {
   "cell_type": "markdown",
   "metadata": {},
   "source": [
    "#### Distribution of Velocity ####\n",
    "The particles have an identical initial velocity in each world of"
   ]
  },
  {
   "cell_type": "code",
   "execution_count": 195,
   "metadata": {},
   "outputs": [
    {
     "data": {
      "text/plain": [
       "array([ 0.        ,  0.        ,  0.00164317, ...,  0.00164317,\n",
       "        0.        ,  0.        ])"
      ]
     },
     "execution_count": 195,
     "metadata": {},
     "output_type": "execute_result"
    }
   ],
   "source": [
    "v0=boundary0(full(N,v.subs(model1),config.floatX)).eval(); v0"
   ]
  },
  {
   "cell_type": "code",
   "execution_count": 196,
   "metadata": {},
   "outputs": [
    {
     "data": {
      "image/png": "[encoded data removed]",
      "text/plain": [
       "<matplotlib.figure.Figure at 0x7f2990d7a610>"
      ]
     },
     "metadata": {},
     "output_type": "display_data"
    }
   ],
   "source": [
    "figure(figsize=(10,5))\n",
    "plot(p0, Q_(1,[1],[b0]), color='red')\n",
    "plot(p0, W(p0), color='blue')\n",
    "show()"
   ]
  },
  {
   "cell_type": "code",
   "execution_count": 197,
   "metadata": {},
   "outputs": [
    {
     "data": {
      "image/png": "[encoded data removed]",
      "text/plain": [
       "<matplotlib.figure.Figure at 0x7f299173c090>"
      ]
     },
     "metadata": {},
     "output_type": "display_data"
    }
   ],
   "source": [
    "figure(figsize=(10,5))\n",
    "plot(p0, Q2_(1,[1],[b0]), color='red')\n",
    "plot(p0, W(p0), color='blue')\n",
    "show()"
   ]
  },
  {
   "cell_type": "code",
   "execution_count": 198,
   "metadata": {},
   "outputs": [
    {
     "data": {
      "image/png": "[encoded data removed]",
      "text/plain": [
       "<matplotlib.figure.Figure at 0x7f2990b31f90>"
      ]
     },
     "metadata": {},
     "output_type": "display_data"
    }
   ],
   "source": [
    "figure(figsize=(10,5))\n",
    "plot(p0, R_(1,[1],[b0])[0], color='red')\n",
    "plot(p0, W(p0), color='blue')\n",
    "show()"
   ]
  },
  {
   "cell_type": "code",
   "execution_count": 199,
   "metadata": {},
   "outputs": [
    {
     "data": {
      "image/png": "[encoded data removed]",
      "text/plain": [
       "<matplotlib.figure.Figure at 0x7f299032d5d0>"
      ]
     },
     "metadata": {},
     "output_type": "display_data"
    }
   ],
   "source": [
    "figure(figsize=(10,5))\n",
    "plot(p0, R3a_(1,[1],[b0])[0], color='red')\n",
    "plot(p0, W(p0), color='blue')\n",
    "show()"
   ]
  },
  {
   "cell_type": "markdown",
   "metadata": {},
   "source": [
    "#### Acceleration ####"
   ]
  },
  {
   "cell_type": "code",
   "execution_count": 200,
   "metadata": {},
   "outputs": [],
   "source": [
    "def A(hbar,mu,x):\n",
    "    #debound(clone(theano_code(r2),ro,strict=False))\n",
    "    return boundary0((1/mu[0])*(Fx(x[B:-B]) + R2a(hbar,mu,stack([x]))[0]))"
   ]
  },
  {
   "cell_type": "markdown",
   "metadata": {},
   "source": [
    "#### Step Size Controller ####\n",
    "Continuous integrating step size controller \\cite{hairer2005}"
   ]
  },
  {
   "cell_type": "code",
   "execution_count": 201,
   "metadata": {},
   "outputs": [],
   "source": [
    "def G(a,v):\n",
    "    alpha = 0.0 # 0.05 # sensitivity\n",
    "    eps = 1e-12\n",
    "    g1 = sum(a*v)\n",
    "    g2 = sum(v*v)\n",
    "    return switch(eq(g2,0),1/eps,-alpha*g1/g2)"
   ]
  },
  {
   "cell_type": "markdown",
   "metadata": {},
   "source": [
    "#### Integration ####\n",
    "Integrate using the Störmer–Verlet algorithm with adaptive step size."
   ]
  },
  {
   "cell_type": "code",
   "execution_count": 202,
   "metadata": {},
   "outputs": [],
   "source": [
    "mu = array([2000.0])  # mass\n",
    "hbar = 1.0  # Planck's constant"
   ]
  },
  {
   "cell_type": "code",
   "execution_count": 203,
   "metadata": {},
   "outputs": [],
   "source": [
    "rho = shared(asarray(1.0, config.floatX))\n",
    "ds = scalar()\n",
    "dt = ds/rho\n",
    "t = shared(asarray(0.0, config.floatX))\n",
    "x = shared(b0)"
   ]
  },
  {
   "cell_type": "code",
   "execution_count": 204,
   "metadata": {},
   "outputs": [],
   "source": [
    "a0 = A(hbar,mu,x).eval()"
   ]
  },
  {
   "cell_type": "code",
   "execution_count": 205,
   "metadata": {
    "scrolled": true
   },
   "outputs": [],
   "source": [
    "a = shared(a0)\n",
    "v = shared(v0)\n",
    "x_new = x+v*dt+0.5*a*dt**2\n",
    "a_new = A(hbar,mu,x_new)\n",
    "v_new = v+0.5*a*dt+0.5*a_new*dt"
   ]
  },
  {
   "cell_type": "code",
   "execution_count": 206,
   "metadata": {},
   "outputs": [],
   "source": [
    "VerletStep = function([ds],t, updates=[\n",
    "    (rho, rho + G(a,v)*dt ),\n",
    "    (x, x_new ),\n",
    "    (v, v_new ),\n",
    "    (a, a_new ),\n",
    "    (t, t + dt)\n",
    "],allow_input_downcast=True)"
   ]
  },
  {
   "cell_type": "markdown",
   "metadata": {},
   "source": [
    "#### Energy ####"
   ]
  },
  {
   "cell_type": "code",
   "execution_count": 207,
   "metadata": {
    "collapsed": true
   },
   "outputs": [],
   "source": [
    "KU1 = 0.5*mu[0]*sum(v[B:-B]*v[B:-B])  # total kinetic energy\n",
    "PU1 = sum(V(x[B:-B]))             # total classical potential\n",
    "QU1 = sum(Q2a(hbar,mu,stack([x])))            # total quantum potential\n",
    "E_ = function([],[KU1,PU1,QU1])"
   ]
  },
  {
   "cell_type": "code",
   "execution_count": 208,
   "metadata": {},
   "outputs": [
    {
     "data": {
      "text/plain": [
       "[array(13.500038244500788),\n",
       " array(4.353573135252059e-11),\n",
       " array(0.4504935223422347)]"
      ]
     },
     "execution_count": 208,
     "metadata": {},
     "output_type": "execute_result"
    }
   ],
   "source": [
    "E_()"
   ]
  },
  {
   "cell_type": "code",
   "execution_count": 209,
   "metadata": {},
   "outputs": [],
   "source": [
    "crossing=function([],crosses(stack([x])))"
   ]
  },
  {
   "cell_type": "code",
   "execution_count": 218,
   "metadata": {
    "collapsed": true
   },
   "outputs": [],
   "source": [
    "t_start = 0.0; t_end = 10000.0;\n",
    "\n",
    "t_samples = 100; x_samples = 100\n",
    "t_sample = t_end/t_samples\n",
    "x_sample = __builtin__.max(1,int(N)//int(x_samples))\n",
    "x_start = __builtin__.max(0,int(N-x_samples*x_sample)//int(2))+B\n",
    "XS = array(range(x_start,N-x_start-1,x_sample))\n",
    "\n",
    "ds0 = 0.05*1000**2/N**2 # N=1000 # initial step size\n",
    "#ds0 = 0.01 # N=1000 # initial step size\n",
    "#ds0 =  0.00008 # 0.0000001 # N=10000\n",
    "#ds0 =  0.0000008 # 0.0000001 # N=100000\n",
    "dsn = 1 # initial step size divider"
   ]
  },
  {
   "cell_type": "code",
   "execution_count": 219,
   "metadata": {
    "scrolled": true
   },
   "outputs": [
    {
     "name": "stdout",
     "output_type": "stream",
     "text": [
      "t = 100.0 t1 = 100.0 rho = 1.0 E1-E2 = nan\n",
      "Interrupted at 115.047 ...\n",
      "t = 115.047\n"
     ]
    }
   ],
   "source": [
    "while True:\n",
    "    try: # step size\n",
    "        ds = ds0/dsn\n",
    "        # initial values\n",
    "        rho0 = 1.0\n",
    "        rho.set_value(rho0)\n",
    "        t.set_value(t_start)\n",
    "        x.set_value(b0)\n",
    "        v.set_value(v0)\n",
    "        a.set_value(a0)\n",
    "        # recording\n",
    "        T = [t_start]\n",
    "        Rho = select({t_start:rho.get_value().item()})\n",
    "        XX = select({t_start:x.get_value()[XS]})\n",
    "        XV = select({t_start:v.get_value()[XS]})\n",
    "        [KK,PP,QQ] = E_()\n",
    "        E1 = KK+PP+QQ  # total energy\n",
    "        TK = select({t_start:KK})\n",
    "        TP = select({t_start:PP})\n",
    "        TQ = select({t_start:QQ})\n",
    "        E = select({t_start:E1})\n",
    "        \n",
    "        try:\n",
    "            t0 = t_start\n",
    "            while t0<t_end:\n",
    "                t1 = t0 + t_sample\n",
    "                while t0<t1:\n",
    "                    rho0 = rho.get_value().item()\n",
    "                    if rho0 > 100 or rho0 < 0.01:\n",
    "                        raise ValueError(\"Step control failed at %s. rho=%s\"%(t0,rho0))\n",
    "                    t0 = VerletStep(ds).item()\n",
    "                # Check no-crossing\n",
    "                if crossing()<0:\n",
    "                    raise ValueError(\"crossing at %s\",t)\n",
    "                # Check total energy conservation\n",
    "                [KK,PP,QQ] = E_()\n",
    "                E2 = KK+PP+QQ\n",
    "                print \"t =\", t0, \"t1 =\",t1,\"rho =\", rho0, \"E1-E2 =\",E1-E2\n",
    "                sys.stdout.flush()\n",
    "                if abs(E1-E2)/N>1e-10:\n",
    "                    raise ValueError(\n",
    "                        \"Energy conservation bound failed at %s. Delta E:\"\\\n",
    "                        \"|%s|/N > 1e-10.\"%(t0,E1-E2))\n",
    "                E1 = E2\n",
    "                T += [t0]; XX[t0] = x.get_value()[XS]; XV[t0] = v.get_value()[XS]\n",
    "                Rho[t0] = rho.get_value().item(); TK[t0] = KK; TP[t0] = PP; TQ[t0] = QQ; E[t0] = E1\n",
    "                #t0 = t.get_value().item()\n",
    "        except KeyboardInterrupt:\n",
    "            print \"Interrupted at %s ...\"%(t0)\n",
    "            T += [t0]; XX[t0] = x.get_value()[XS]; XV[t0] = v.get_value()[XS]\n",
    "            Rho[t0] = rho.get_value().item(); TK[t0] = KK; TP[t0] = PP; TQ[t0] = QQ; E[t0] = E1\n",
    "        tmax = t0\n",
    "        break\n",
    "    except ValueError as msg:\n",
    "        print msg\n",
    "        dsn = dsn + 1\n",
    "        print \"Trying a shorter initial step size: %s.\"%(ds0/dsn)\n",
    "        #continue\n",
    "T=array(T)\n",
    "print \"t =\", tmax"
   ]
  },
  {
   "cell_type": "markdown",
   "metadata": {},
   "source": [
    "Step Density"
   ]
  },
  {
   "cell_type": "code",
   "execution_count": 288,
   "metadata": {},
   "outputs": [
    {
     "data": {
      "image/png": "[encoded data removed]"
     },
     "execution_count": 288,
     "metadata": {},
     "output_type": "execute_result"
    }
   ],
   "source": [
    "figure(figsize=(10,5))\n",
    "plot(T, Rho[T])\n",
    "title('Step Density')\n",
    "xlabel('time'); ylabel('rho')\n",
    "show()"
   ]
  },
  {
   "cell_type": "markdown",
   "metadata": {},
   "source": [
    "#### Quantum Potential, Classical Potential and Kinetic Energy ####"
   ]
  },
  {
   "cell_type": "code",
   "execution_count": 289,
   "metadata": {},
   "outputs": [
    {
     "data": {
      "image/png": "[encoded data removed]"
     },
     "execution_count": 289,
     "metadata": {},
     "output_type": "execute_result"
    }
   ],
   "source": [
    "figure(figsize=(10,5))\n",
    "plot(T, TK[T],color='green',label='kinetic')\n",
    "plot(T, TQ[T],color='red',label='quantum potential')\n",
    "plot(T, TP[T],color='blue',label='classical potential')\n",
    "legend()\n",
    "title('Total Energy')\n",
    "xlabel('time'); ylabel('energy')\n",
    "show()"
   ]
  },
  {
   "cell_type": "markdown",
   "metadata": {},
   "source": [
    "#### Energy Conservation ####"
   ]
  },
  {
   "cell_type": "code",
   "execution_count": 290,
   "metadata": {},
   "outputs": [
    {
     "data": {
      "image/png": "[encoded data removed]"
     },
     "execution_count": 290,
     "metadata": {},
     "output_type": "execute_result"
    }
   ],
   "source": [
    "plot(T, E[T],color='black')\n",
    "title('Energy Conservation')\n",
    "xlabel('time'); ylabel('energy')\n",
    "show()"
   ]
  },
  {
   "cell_type": "markdown",
   "metadata": {},
   "source": [
    "#### Trajectories ####\n",
    "The trajectory of the particle in each world is shown below.  Notice how the trajectories do not cross, yet in some worlds the particle is scattered from the barrier while in others the particle tunnels across the barrier \"pushed\" by its counterpart in other worlds."
   ]
  },
  {
   "cell_type": "code",
   "execution_count": 291,
   "metadata": {},
   "outputs": [
    {
     "data": {
      "image/png": "[encoded data removed]"
     },
     "execution_count": 291,
     "metadata": {},
     "output_type": "execute_result"
    }
   ],
   "source": [
    "figure(figsize=(20,10))\n",
    "plot(T, mean(XX[T],1), color='black',label='average',linewidth=2)\n",
    "line_color = Spectral(linspace(0,1,len(XS)))\n",
    "for i in range(len(XS)):\n",
    "    plot(T, XX[T][:,i],color=line_color[i],alpha=0.5)\n",
    "legend()\n",
    "title('Trajectories')\n",
    "xlabel('time'); ylabel('location')\n",
    "show()"
   ]
  },
  {
   "cell_type": "markdown",
   "metadata": {},
   "source": [
    "#### Final Distribution ####\n",
    "The distribution at the end of the simulation shows the reflected and transmitted \"wave packets\" separating from each other."
   ]
  },
  {
   "cell_type": "code",
   "execution_count": 292,
   "metadata": {
    "scrolled": true
   },
   "outputs": [
    {
     "data": {
      "text/html": [
       "<video width=\"720\" height=\"360\" controls autoplay loop>\n",
       "  <source type=\"video/mp4\" src=\"data:video/mp4;base64,AAAAHGZ0eXBNNFYgAAACAGlzb21pc28yYXZjMQAAAAhmcmVlAAELoW1kYXQAAAKuBgX//6rcRem9\n",
       "5tlIt5Ys2CDZI+7veDI2NCAtIGNvcmUgMTQ4IHIyNzQ4IDk3ZWFlZjIgLSBILjI2NC9NUEVHLTQg\n",
       "QVZDIGNvZGVjIC0gQ29weWxlZnQgMjAwMy0yMDE2IC0gaHR0cDovL3d3dy52aWRlb2xhbi5vcmcv\n",
       "eDI2NC5odG1sIC0gb3B0aW9uczogY2FiYWM9MSByZWY9MyBkZWJsb2NrPTE6MDowIGFuYWx5c2U9\n",
       "MHgzOjB4MTEzIG1lPWhleCBzdWJtZT03IHBzeT0xIHBzeV9yZD0xLjAwOjAuMDAgbWl4ZWRfcmVm\n",
       "PTEgbWVfcmFuZ2U9MTYgY2hyb21hX21lPTEgdHJlbGxpcz0xIDh4OGRjdD0xIGNxbT0wIGRlYWR6\n",
       "b25lPTIxLDExIGZhc3RfcHNraXA9MSBjaHJvbWFfcXBfb2Zmc2V0PS0yIHRocmVhZHM9OSBsb29r\n",
       "YWhlYWRfdGhyZWFkcz0xIHNsaWNlZF90aHJlYWRzPTAgbnI9MCBkZWNpbWF0ZT0xIGludGVybGFj\n",
       "ZWQ9MCBibHVyYXlfY29tcGF0PTAgY29uc3RyYWluZWRfaW50cmE9MCBiZnJhbWVzPTMgYl9weXJh\n",
       "bWlkPTIgYl9hZGFwdD0xIGJfYmlhcz0wIGRpcmVjdD0xIHdlaWdodGI9MSBvcGVuX2dvcD0wIHdl\n",
       "aWdodHA9MiBrZXlpbnQ9MjUwIGtleWludF9taW49MTAgc2NlbmVjdXQ9NDAgaW50cmFfcmVmcmVz\n",
       "aD0wIHJjX2xvb2thaGVhZD00MCByYz1jcmYgbWJ0cmVlPTEgY3JmPTIzLjAgcWNvbXA9MC42MCBx\n",
       "cG1pbj0wIHFwbWF4PTY5IHFwc3RlcD00IGlwX3JhdGlvPTEuNDAgYXE9MToxLjAwAIAAAAzOZYiE\n",
       "ABD//veBvzLLXyK6yXH5530srM885DxyXYmuuNAAAAMAAAMAAAMB+8C/gSCcz9Z0IAAAAwNIpHne\n",
       "sZRf3mAT8BMm1K95fl5PkJWL/GH7gLq47a6N79N51JJt9NIMEakqYnGN+r4iLNOH5KzITyAWplLD\n",
       "RRg59sQJBK68uS+lrd4dYAaZktjjM2cEGBXjTKdbmFojFvqfb/9jf9KKxnPJ0kmNPM5P75gtlqd5\n",
       "NEs2Y/6oKVMF8+j5KWr6gdurpG3iUVFm+o+PhFvb5490LVYc6igHQUU2KbuDhYt+xXWYEqP4hkeO\n",
       "8AWs/qhJVt1/MZ6vMWATp0l53yYt8soE9xYDlkW+iJsVmeRyBMzPFYR1ULPxzUBqV6Vp6UyEdH6F\n",
       "fIwrVFUVuhhhMIZEcpKm9cMPCUTvm2xJnfHeMI1+LLpyUFFl72tvDDozd1PIq3xFokpW+Uk2VYbx\n",
       "YQ47e6yqAAkhRfeGCxMLnS4ix2BRgOkfwQt7fS9S6cZ8iRsLwuHT/geg2lK7CBrPFSBVmNPbb16E\n",
       "pM23geR4R5SsdBfkpX6cLzXkKQRogipdOVlBbAmFdCq1NDIs5Fcs/pWcLbK2liwkbJdYjFSYvjXq\n",
       "+WZtHPz7AtO6HvHb5rYwWaxZQ3v6E6leniwErw1cqXvtLqTYVdBO2RuaQ31ORxPki+dQPwadHoWG\n",
       "Ox+oMfRzPRYqdndf7yRLVF/Vy4GEXymaWBGGgcQgfFei01OaOVacP6TL+DiPccymzYYAD8W7kbWE\n",
       "sV58y7PwO2d6uWlJ6mLP1UpFDDl7sgBgaLgCG+yDFA1dc+Fs0ZMC6Z2sZUmCvYEnM9QF5sqCreiV\n",
       "Cbwh/l+TQ1/2fwrKLp7OFYlBb5ABd70xT+hZ6y0PJOlejQWyn79XcMlNnHyuQQHYUTul3LgR1nMV\n",
       "ReV6wHD0iMVmPFKhwbdstuq/E4ki90hdJHnSy2R33nfTPAPrFoaM+wTFSnfw0x8bC4/NRR9OYxBD\n",
       "wYqLzULTPeW2T9yZNy7FoNEVRwaTFx6ROfeN1tHC2g9FEKZs98BohWxb2bSI7oGnJ6DJeMRk9ys4\n",
       "hlYMrWnuU9gt0IjCtheKVFxyxvoY4PLo2v4fxdHdV7qjT0CPDcNHv5dgI/r7fVnQCVuebUr4sAQ3\n",
       "yWHgoL3qcFKNBiBHlYurEq/d96hP0E50IEdhDMf0yAHf17FSm6yLl8kH/D1RH89UuRCcqT3CN8fJ\n",
       "/4nzpXOsjw5+qQ8lzZ5QTmsv1siup3nDAwoJewjHCIwq9AUkGr/NX+P/qYTzavEereDqWKjoymHL\n",
       "WBQIqiJSC30kElXghIQDhl/ZapvuuC3VwWQe944TviOGsBLhwZJ0DM0epzUYbeRD1Vi15UD5OGa/\n",
       "15apkkelSnq7yWhKYonG+kvYRyxej1XoAF+uyjT1gzG9h7xi7j/WXFTrdfrY0MWkW/wKOvI4EGap\n",
       "p5RZNOq7HcQrkLM1xWIrq8qZg4N302eh0rvy/BkROclRjxVX78Gszii88PeOiO2NpXXeY4a2Yi7k\n",
       "YFYWOnijPrMLtyVF3L8CVhQ98emZwXx9nSDdmwouKv2QEDeq9g9xhMNwotRs+Q2KHrFw7mNqBaTL\n",
       "ynPayExHOIQzgJi0FM5NAmSksfV+iEw044szH4az7JCFev3k2HOGAiSawFaLah07Bjc4A/bANiu+\n",
       "/w2uofV1U55gRN5OV4ZMzrdAVJfNEpddm+iajPU0drodl7Kml1WHA3eB4TMOqkF8vR+Q4cmctEyD\n",
       "0TSk6efIYXqKAf/TrycuOq+4a/gQxd//HczZ4WByndPOfzDF58EpudkU+vUjqilSxdgtDHJ7cBrA\n",
       "I/LlCN9KK106rJnO2oaASvCLzcIxFeH3O7FOiz4PaJ3i4jSmw5dVWlgCVr2F97mziSTRSN5C695P\n",
       "li9o/zXGHqJI/QwFPcgHxpcArC5Xmn1NqlERtbB8gq5FFL71oJ1pSoWQtTLY3fuc4R+JZSCm99kz\n",
       "pWXSaBNPh31N4D/Mt9I77vxz0Dz4MQW8Iw5SAQ3UVo6NZqO/QaR31cYHA2zOp4BjStW/NxokCAU7\n",
       "+V2GTNzzByMERwfgzyfpEaYCkzn/lmRWIiRvanrmHlukfkYHusFd8n/nEUagAGU45Jp1NZ1UE+r0\n",
       "Fa0mXJet82hmxySrGfNnmSo2FOOctmXeyjlm/CHKVCA2Z++LuaPswAKdQMTepu8uPguDim6r0bjK\n",
       "T8fD4cp/QZ8kY1uK6DdMQzl1JCfN9X/rfttG488M/dqbNo4SiUBYSmT7fS0DArNwiIfJlaIGoX1Y\n",
       "z4e1tiIZiETWxnba+dtHa9hzkgGdehw2Jod10+Baf877KAv8oZO0yi+AOL25NKZ8UpItfkn2RxnT\n",
       "AGey0V7P/Ymf1X8lgUh25vY6mVMzItR6YlSBncw4lILDKWDseyeedcduKFaM6ssngRfiuGY0/fLW\n",
       "EKk7Box4ABFk5FAY3+x5zdEovmtJTx4SOZ6fK49kpLKx+wLuGtWRGpGS9Jcavz0MaH3/abGsxc/b\n",
       "0ib3EbIAa3yhqqM1WFlQOcA/BRE6wdOv6rXNByF0RiIgYDox3P15DBrbOa3ZiBJbnlVTQxM5Xf9s\n",
       "veMRFXqcwrgK+y1JsvSw6wBvmhM+nekb7ZDGO59ed9NXquR/pIkTWLJX1Ku/xlO/0bIfNOrSr7hS\n",
       "/eVEuBUNoe9AO1LKOLp7U2EtSK7KwXy01SzwybQuRyF2GnMxO9LYLBUDVuO2BnF+p9gtCdJrPoks\n",
       "MwUFCJ5bHcdYknj7EnKXI5JVmWl4SrwyF5KydUB6gr3kH+QqXFRWeG2XgCuPH93uIPfM+DGlMJbS\n",
       "Uzde0xi0mcVukLNswYeHGbQRUiVnkZDPI8UBtf4XmAEi8pg0z5g/MVPFbF72ubX30JxRRlAgiiD5\n",
       "LVanpPClop5nHylmq/znZyJxErsWJbiCqTC/U06t5ROLe6ek0FR1nL69lE06LhijFYPkRaiRRMsz\n",
       "V2sJ73O1UHkkKB4q+Cp43ul7n2xVtVbgh1lDO6u/rY2I6z5nsdDtMp3IdhYUFC79wx5nwM3IXLB7\n",
       "CICtx+R1bbicIzDNxLmzIsmCEVUsX8AUB1bkNbaRwG6NZZum2r4DS54ASGsfeOjTrWgCQKkVjfjE\n",
       "scCfk6+4LNp12f2Wv8KKrxdBanSNMinl+2tfhWkw28TTsim7bQVtobR+AWFABPmN5WaLgZcBCsFx\n",
       "BZYIDeaKp6pFeFDS47mWvyGLVdVGwXhUE4ZerBLkHmLwp9u8ke1V+CSaXf6JZjhUcMepC0UBENwN\n",
       "WRjkUlRVO6CAY76GqaO0PkezNnMPiQPYo9gwIV+EOc2t0AHPNS3ACAIlUJ2ZvpWs1wRs5uGJOlWr\n",
       "bbjGwpXqdOeRnoa1HTcpoUEmt1Crx/vVq4AZ1L7Qj2/a9QC2N6vJy4ubo6fSADPBRzK2pXWTLqHi\n",
       "Efnc/Ks/yY+i7VWZ9IbyosDwbRbKpoSYSiCuJkBDHmd+wagEViymackhTaWPbtZZPDSW2/HlKbfn\n",
       "uQiBT1caWj8lo7FPcE9Y3lKAFH0eWxm0aq8WIo8x5tkPPgQUCNVV7WoUJF8U1BnlbloluTD2XNSs\n",
       "N84JXcuGQpJyD4NGydPs1lXVSgRIvDYB38KXmllCz167RQOmrfQzJsf3YyDk60oOaA17bnkKAyvU\n",
       "uLnLZ4on2FBvzULFh8gew3JE8BH2K7919wnLqxyarDs78KMSjIujm78bOrAQ65CohNOdeeyI7orf\n",
       "v98fG4l8vce6rW9EBbsJk4NeH78vGP/MyRDDCd0cIztDfaMAreKX/NQUHlNMtnK3yYiprm0Fk15b\n",
       "a/LJXR3dlS0g9J3Tu+nrLTTRq/FJ70QoY7K1d8atcTmOMTkk/r8tPQKMCV7YE5jQ/4qHbtV/nhRM\n",
       "qp2bEhgHQDCvUPen1/CSvD8isuObrmPv3dvQPmuXtjfw/EGajGepssxK8VgrrWhmRxc1PO5KbEDg\n",
       "kDJVRHmHAk2BN5qxZgza+hD+7oILGHi9e/QHuhvCUCHeJcqFrgS1kbTldFcxbIiLlVCp/I22isQA\n",
       "tbb0qYqlUggrUMKJpUT6+m+w3SBj4PHYZuqKjmzLyfvtwUeQIdYyGdA0MOdpJndqGyrJ/qvoAl3E\n",
       "4psFNM1xkuzQ97pv57l9rkZ6xe/oLp7asWb5UWyn/SNPtFyvncmeJLPifPSFfQ1N9OaQYy4Pg1b9\n",
       "JKDe4y/Go+oVjOPzYACRIRhFkC0J258/B1NTiE6dbVMafN/7hQG7oldUJ9yoRdXSOQ+nlgqAGrFp\n",
       "8Ehob6GAgwLWDzm7ZMWlNq38ro+7ppB+iUKEbpPzAto5u3TBcePSuz6cW2197rDhTqVN+tYsHooE\n",
       "bzU1Tr9oX3+/f8e48H9H74T6Z2gAAAMAAisAAAGQQZoibEP//qmWABgKHoHbKAFhQGcGn0wNN2Fv\n",
       "KlUhXY40OdA7EOYOVnxieb0yoR5cyuDRYIF0DLnzNyNgL3lk5rmf/B3wFxYWl/BlDvKhZsHnzxi5\n",
       "N+Z5f4BXnkW5BDgrgsUCuzSTNiQLEu1iyLWerlToDH8JwHish0SJC7AeCQlYxBp518zQU/YvxIHL\n",
       "k/Jqre0GM/pcMPx86aGsHmnN38q4xaeDHm/N3g+LKkTSZ6p5sRjopIyouDHPPBCMSaLMisoXvZBI\n",
       "pCKiejwbHuCo5s0rOuM9SX+4+5xkYUl1qMIAIOBfkQpa90TEDqlJwLjXh3FdkcyiWT9XMFXUd4gc\n",
       "1XRsSSfQ/IOUfyiPWjhaHZFVQNyLo3EzfgQQ3yOttP97SuegFteSvQc5cgSl1bAVUHBh8dfcN3j1\n",
       "KfYnH09TsJ87Sh/0t2AhxwXngWGEh4ygJJy4as5bP48puD8L5vvD4Lr/phZrOC8+dr9vHcg46tVs\n",
       "fLUn6qB6ksocLJh09uHfXlmt3nursP4bV9koTRBH4AAAAIwBnkF5Df8AEM6rx6kgAXGIzlr0k5NU\n",
       "zPv7C1almrmqIuMZqK5vU9BljDA6RSDiptojcCgW9Rrp/Z8eBERJyJCyWb4EKr3lv6ktP2IEENFc\n",
       "Bul+2CNQ6ud4GLlZ1NQLAWpont8ev6TMeMOHKgUHSGq99o7q7gsl4BaN+sxlKsSxRBEyt6vGELzt\n",
       "VfQBSQAAAWlBmkM8IZMphBD//qpVAAYz45aW4eZyihOACHFHrvMYRY11mQiviDH2FvgBLMfQWVLu\n",
       "sfUj4ssHQy/rx/Sqz0pLTsQUgsF249H+lnr1ybz8j1FUEd6XLxLvRPgGPBlx3P1K2uZ5NF1bG9BT\n",
       "bi6HNzRFzA+H5g333DN3d7Vd3TN186G8r7asWuiXV8wuK2OPmauhAwXjk2y3+96jhUPyyepTa5Fr\n",
       "sUA5zMbS9dnfkhzY90R4K7bk4/y7zG+gOKYdxEnILOG+1ajqus/Zh8gwwdRkSpF0o2d66qUzKgF3\n",
       "xWjs0zvblbUD5WB58ZfmdWhlNhBYkWWRSViNQJU0Vtfp116lEo/+8Q01j3a2kG04okAKN4hJ/IZk\n",
       "ELu9v9XcMJzgmM8HPKE4pVOFsuER7t//kBSDH6pQ2JmrWZEk/idb7Pi0U5vyamjiu+WSeB6UYoYP\n",
       "TCHOcQxn8hslLpqB1CCpGsKZ92caU952tYFIAAABeUGaZUnhDyZTBTw///6plgAXj+rh4NGeNTsH\n",
       "UjMLlWAC3epXp9xcsmMttYqatPBXsChAcdzxpxq91bl/Mhmz1adbkTyk7F/2soZGA0uR0jbXfoOe\n",
       "3zaM4XptZuDDpmMPv2nFuAiJGa5dNw06tVBT5/ZI9818Hwl3pkYK/EBGLbe/JOrayJA+vxHL9SEy\n",
       "12WyM1RVHrkwki5YPFd3o6JTSmR1x8VgQalBiqPA/2b0NO1uURxmJ4jXPqREnKR8g0JI1tNRfUVZ\n",
       "fOnrjOPPHsc0Yr6ul8ZEUY4wTdWVFer+ifUpg6HQNhXM0tvVz6cpq2fonEo/P3IOrTW7JX7ydSfa\n",
       "7lqxKxNt59BW2e/Gs7s0nPRwdSZ7Y7QHzSuGCr2xILYHgAVjYBsa5Q2JaIJZmHmiIg0S3jS1LIKS\n",
       "rgXb+lyed6iFAyHeql7Yq+swg2FzA4LPQjDzDAkioaBTUWEb6PqCKb8XKny5XTCSs6CXfB2WEcgF\n",
       "eVmABWT8yEbNAAAA/AGehGpDfwAQRnaz0RGJ9IhpgAfsn7bZVrN4T23yNhYsHF8pqi+7njFTRwc0\n",
       "pnu1WkT7V18jRqEk3Fnlpez1lNYx3ijKwcwOyO5aQmo13HeZgvp7Hv6kze4kmIid7zX0Yb4pOxGw\n",
       "LXC1bOtcbHquPrn2Zehwnz8x4udkQ2TTNuZLRDmjI2Ziw4ONxdwx+qoo3gudeVo6EYfLoctS2rtT\n",
       "pRc/k5fIGnTpDypFVTSJJV8lQrmmzJeYsr7/97BfAiarexr7q9FAjBubcVZBpO5il8eJXE5xdCi0\n",
       "k0yzWc28LAtfwGAvLETac+B+ap34UhO5O1Otsaw3XKY/tDucEQAAAVRBmoZJ4Q8mUwIf//6plgAX\n",
       "bqaoAWH1VFfu3ifIKfbcwgCObm7TXttN1v4lWIu7qkLbMSv1zGFGQmc8bpc7+BgBBoVcuivkbHwO\n",
       "L5P7wpUb08xZf7S7STC+nnvKBYI1ljuqOgogSUGAtBtxpo7SUeAEfqokNJJJFEGxQMl22o6WhSaf\n",
       "4ZfGOqUgSJEoLql5jrEAjrnCUZymMW8Ktvoma4z2A5xaKZRDMwbREFWBu/CqvPxpx/1mDW+F0874\n",
       "0fTCtsMJgk8aooYtHs4zLEsoc9K7IlJHC0dvXHE4IDA1MKkuWO8kFBNXI3UMGCC4MXysghJ4yTZQ\n",
       "u/mQrbecvRywIeycECBayLuT0Wh0CtV6GkEK5AefYQEbNQ2n095p5KT2gT+Pi8JzsBOz1oqD3U1y\n",
       "vKPArghqptYc9h60qElQT4MFX3LFzNSeWNz5AjrKMp93aJwCkd+xAAABVkGap0nhDyZTAh///qmW\n",
       "ABePhTl5KnpmY3MAGxoSAl/q2tb7JKyeZhChu+6Odo3rBNiwlBSAJ+fm3b1yO3jtoqIGhx1aYdXc\n",
       "S9AvBqpY7nOObT8OpJDYofAR5Md3C33T0h6s0j10uqdWPJIktWnnhFr9rudNUxz3Z9+jrtI9oM/g\n",
       "yLTWyycc0rbrQAW67ZRcLqTaaV5DntyedCPbVNb3klc1WHM6Oo0Ktcspn7d5KftfxXgGv+KCkxL0\n",
       "SfuBTEtO3R5s1xkLky9In/zTTmZZjU3vW4Tf3ErLNK5YSnEAb7Wb++GNlA5mDZczXJaB6lJWtFbR\n",
       "sl9qgJ0ifiPjWr6fCKtjW1GChWTjLTSfsytjokgySWiCI+3rRItY4A2sAscdzwNteXkd8o9kWl43\n",
       "ETGbuhN7EeTGG+0q3CHaGirUleMORqzIIOVlVb7fOQ4dNmFB5cPW1pb0RQAAAR5BmshJ4Q8mUwIf\n",
       "//6plgAW4XSvAQjJ2VpLLOdB0sj9EmI3jDe3CPuiEWtUq3+Ralrz2y0FKSlRZjEcgVP7Zpgi1KCC\n",
       "ZaWHKllgNmrzJF8bqAKOSk9jD9yhM3Wm9CCQaXlwdMq2j0au/DQPT77ErYhiGs7lbexIBOsWcrIA\n",
       "7E0OXxQkTKL6J3AJxDNLOJOAw5m/j4US+8kDtgHEcdDmTn2kdqTmXaVHmMgQ3/WvIEvKXEH/gWQB\n",
       "IdXKf9njy+5u6cEercR99PPPhXFlWRjzdafGIS12H9ymsqfVH5qoR21DM7jepNXwQLqWkg+DDOVF\n",
       "TyWI71TNHDCYCeBRkuzlWXJHt4GGNRGrLIrMYL1jc/0JRwwxjzQw4P/g9mrIey9+AAABKEGa6Unh\n",
       "DyZTAh///qmWABb/zM89AhEiv3b14AWrJtgDoGkOzUOS6gf0y75nGDhOmik+6LzHoGdWjWo89ouH\n",
       "z3u8bg1wBMJKr5N/C9+se3Fxi1/mEoX1DyuhUhcxgAIZYT8/ReWalf8JUvIUQklXYp0ClzcCxhb4\n",
       "nH1UxSvR9DJmlzL+fsVq+PAAMAm2mTTb1mnDNLLNAhw2YLx8UKAlPDomfGVBVYbZkLnxw+xIAGHQ\n",
       "k3SLisqbxKt4biG2Ve7osd2a4RnMuuHxEXld7BicsMaZTO7+JPcpXfQav7XgZJHTVRcCC3c1Ed7K\n",
       "9EgDBPKohLZsJtND/0+08qWiNQLj0xc3BDrya1OQn9Lga9s0t8DeQw8mb69VVDkplgedsw4LjVSU\n",
       "GYakM+l+AAABS0GbCknhDyZTAgh//qpVAAHSXIhHUQNu/sRLOkfeH3ExcACchGnMNiK63fumNa8q\n",
       "vv64WyR8TrR9+OncFe+a8oNGMOdBsWA1FFXA5FSy3KJqGCmmcA9V6oa0St71NXLnYWVjC1ghB7w3\n",
       "ka2ZWXKERW2vWdsOMPetPbu4/PMyJb6TcCOG0RdKPfgyud7u7aVabzkCwjarSQdAteV8AZ7Txztp\n",
       "jbApwnjRg7s/Fz7sN+9x3zXD5x+cZxMw0HTtP6QrHmlFYYG/ybaMhm8cGZWkIVPICGkD9BMsTzot\n",
       "jQeJCoZ1xxs/oldc+HMnQssTtBraWQm1OpSPkbcoUmychByFKctaIxi9WUen+zdDw1nlPtJxfj7Q\n",
       "VHmeCXlSR2TWK9/JWBxUMoTvALp4PFDEJSBHrb2Y9+qt5k/qpbnX/r57mn5M3/h9U8ZFl5hgZMEA\n",
       "AAFvQZssSeEPJlMFETw///6plgAHJ90pA9tvlArUbIKlikheCjGYhgAnJQoPQZNNWMRLnhdK6/xX\n",
       "H3dRa1Ky4cxqR2H1Z3pKeEqWoFBPiYSNIEQoq5cE4Ent4C7UuVAhNYXYe4oWtV4DJxi/PFoUuiqz\n",
       "7e7idWUn32H+A6+JkXrEAYsqKH3eaz09gZY/uWg2trxR4+fT6pTlgh9bfDXcpM6IEt6ziQg3Z8LE\n",
       "sEMbC6GgUVp9drD2bgVra/JjZPxhaUpjO6JRRsBOhB7FbDP8EwcRLtPr+uCumqtxTjON6gUqPZJ2\n",
       "bt/PwBjVB4i7XtrHj6dgZrzLQD1n2R7WXeFEXGGX2viPsXrBYU3WRMz81WoSlx26DepAobmL5eNh\n",
       "LQftoW+1tT+VufRIiSVEqgr8y2Ii9R+9OUSrZSeU3InPwwL3HiYtLRZgzSvHcluBMxtUDUA26e9F\n",
       "p9n6q0zUEQX0kY6JPqKXCo+9F7TLoJNCXMtctgAAAKEBn0tqQ38AD4qzlROuhQj4Z4ecAGdUYAwQ\n",
       "nEl9Ta2bdcAH8Hm71ojn5KSnXfWoVz8YwWAbN2gO2jd9gMWh1zD0v2x8iDVjc8fxGl4pj53RQ+zy\n",
       "XbaZ2ek6ZrLYavT//7RQ2lKCuCzphacOGSfp/V32yOXZya5hvqI2symAnU2cNII7lNLUFJaRLFmV\n",
       "MiCin07v1hbOru5Vpta0RG5Q3kYg4AAAAPJBm01J4Q8mUwIf//6plgACQ/MojjfwdHENs2yEBXsU\n",
       "SmDOWRbNToD/N6f9X5yJgWGsVVSxH+kigAlOkt2xNsb4xu65pUTb2WUpkSOTV2Crfiyp0tflJ7Jw\n",
       "g61WjJUIqSpZkVUOdi18K1vFsXjUlcAW6oII9LgTFyR82oWaliktvdesFfaOoN4bopo0ruxBaXfN\n",
       "hTBdjS9nPnfx3WNKhUHZUfyMW0yzzjPBe1y3d6F7SOpd8XdW08amPUsqhJuA6uUZQDkVMCxiL4Xb\n",
       "KywKWuqPJVPUAHgi/sus+m2HDoW1tV6seudJeaH2Fje7e8GrXGppgQAAAUBBm25J4Q8mUwIIf/6q\n",
       "VQAAkDFGW9UMAAJux0qdDtGdZlLPu7BW3AjHn1NS9K+Z0RnwS2W8t3tvIkIbsPvgOCcBNWqzScR5\n",
       "4eW4YHpyKrijUhzVedqVHUTfLZ43H0SnpeoSqq0vfr/iSmqfovqEitV2ZhtoVT1X2MaO3BO5bpfj\n",
       "Y1FAqOYDH4v6sSxjvXMNiCxPjg3SdUA+HQjSc7U2wYhkH05J3tJQ1lKy1HLnubOWzALAKtNYQ1rZ\n",
       "NWHEAMq8kYwP/3c9VEafugkcVSTB3e9Nusd0tYc4uvX3LB2hEdiseSSApLkKmwdvNYkVhRth2Lwa\n",
       "C7bWGx74GKQN3iZuxVlIqPKldgvCj8+9OH7aAkXbckDcV7eflMjCRf4McUaWFNNaNHCc/bU383lO\n",
       "vQQFPQvRhY/dFcG8oJbjgAJnrHYAQQAAARhBm5BJ4Q8mUwURPD///qmWAAIz1b1yvMzlhUxF6DEg\n",
       "/2tABsDyxpt6AvZ++LxjxA8P13h3Bnxwl+Z8dqc7zaX5tBA+DK2KusFJqSbPW/1WvRWhyw7bB43/\n",
       "Pd2XbX10v97CP7m8az5/GW4PRvyZBcGyVMI2uBigRxEAZ2BwFxgCnRYeZ8HXpC0+uhXhcySuSzYJ\n",
       "4vgI0p4LIqasaY3yJMZSlSnOEWMTBVgoEIyFnI2Sc/1IT7c8biXh6CuUX6ecNMIj8XVXT/64jEod\n",
       "HOGtqRogq4eplkDWWA1lK9PfVZgiHnjUFxGhvqFpgYnNKPN22K0OS7x8bqBWCTVLBWHQNoN/G13a\n",
       "5sHqSA4qNbchGGr8rqdqUjrTixwDAAAA2gGfr2pDfwAE1r19LjraLbgPXaAEefZESonN+duV39Ol\n",
       "HItO+5BX0wNm14jeT7FujaLhIvuGBqpbLClU7Q/v99U/M1L5CbNAoZzmjGVE4K1GkLf0P48ghfaN\n",
       "Czv6YVlnwHu27MOg7I5rpfZ5szbPvfelVH6Cb4ZtXZz34j9wN9bxQhWZLK3j+6vtA7i/KfZt+T4b\n",
       "Xt/TYLJ+tlBqetVg/jLtGipUUVeq5LreeA2Py5G+PDmrSn3O3un4qxedivKZwY//Aj5ZoopKDnbu\n",
       "Ig5OqoRITGqfJyhI9KekAAABM0GbsUnhDyZTAh///qmWAAIgC9psloq0IG2OoAQ9uErPYVXCjuo+\n",
       "FXAnYG24T0dnNeu7uDdh2W+Fp6nk/91zI6A50JBqwfDVFJ3GhdOtAQRJxzGxqWBaCmqlHS3nspLt\n",
       "7Pac62p8cxn9SA7ngvpbuUGht8huuDHMF81kP6WfJUHsCirx/3cn103sQKUSOGweyJ22NZ10qX88\n",
       "jd9HOwg8sS0tJ81RnjjAT8ngWEIdA/swlHo1ZLj4+11K7TqOcwz6omS6ckewbMbCZQ0Ak0EyKoyg\n",
       "JfJ3bE2t2y2cHl62OIQ9YWJobmHQYW4a1EbDz7iQ4oVgU7ngyFmqoSrzNrcjJyCO3zakpeBiDWJp\n",
       "t3tyod92x7sEKgk2lgNbMruBJRDtUeFC+cPRHJDobssqTW546pqb7/gAAAEPQZvSSeEPJlMCH//+\n",
       "qZYAAiApJ0G1vYmGvYpOACpDvi4c3psTz6Cw5ksNaLTEuFuyTRbEiUuo6awmFBuw/BjjcHZpYubr\n",
       "6NHRBIRkGEaf0SGOVec6qCULVw070OD/seZ3VIDBxVMTmZhPrUTo7MUA/67qM0v0rH0WxC9lU1o/\n",
       "JyShYiIHk/v3wCDI3mDvFt/UNUtrFshACFwnJ57hZIxQEWxUUww6etOSZs6KBbdNM8UFBjaHJVDW\n",
       "Tnea6f1fhW7ucMYTCoE5ocxAOa+Mf530ZvzbvUb8H76Of64w8pWgOmvTaL/dnUWuN3Tkvf9Ok+MH\n",
       "UOD7wHaOktcLmBICjlEl48gzL1wVg49AKvjKiN7HaQAAAR5Bm/NJ4Q8mUwIf//6plgACIGJGi4K4\n",
       "swk5OkSADPMcN5cdY0Ob4yn+Ft33UdFcu8Sg0NfzVvNz7ifk01ohuHsE/wv5gYyi88lEPOtz1puc\n",
       "4edHodt41MU1SJrbRX5hGBgF3nNz5LslODev+JeVD9RCqr3oY/wOt0NuVhjImHBddnGXnmAFQemA\n",
       "msSIrY694ORZQT2jP7RNMxLh6twr2r2Ufhhkr10sIokIuGa/f0e1TT5YkszdhjbDEMg+kzaw48/3\n",
       "sJg+uVZ2uDxGSQslO5zysr88s1ASIX2h3jFf8zxzGM9Z2FS3H38C3OwZcTZyaJQozjrlaSayunAO\n",
       "YItE3f3wsCoeZViBLF+561Y0uDM9878qzyvoSgfsw5ml52iAAAABP0GaFEnhDyZTAh///qmWAAIj\n",
       "1b13/Togr+mAD8Bskhmikc6IMfaK3JLOD3xCLfc1XRxzyBQjimNX7tHL+Mty+Y+dhzhhSbeMWYI0\n",
       "yLFHK7PSjkkxzc0GE98/G1n3OZhi6yNixG8fC8Y4nNlQRoNdLXlsjPx8VzlxSeVoyvrcQMymQieH\n",
       "J93CFvmcOySTXMbSn/2BZNNJ0kjl0xEy+GJnYJt7DHzLBkkWA+QuK71gwJx7yB+w3cjHf46XJkAu\n",
       "4eXfJS0IJHSzLbk5G8Wz4qEC6K4cNAVuEEUFtNBS0/tD/I/+XO3fjJ/6nrN9is96Cv68YCiLZb17\n",
       "NHkv20PXeDbQb4oxEpTR2mm/Vt4oEREE4y3jukZ48npxJ5YHT2OJa41Ba9uWIg2Qs1XamcVgvoqX\n",
       "AdI/tjshkqiSe6LlQ66Iq8AAAAEgQZo1SeEPJlMCH//+qZYAAhEf+gQIDzQAQeeDl/6EL0dTo3kg\n",
       "XUtk1RpRWHrv1eqiENQpkVf+dVro9twQJlLwAp72ph4vmnx0MPQXFEZV/6X2lUGKpHy1Lmo2PgNz\n",
       "AR9iC/gXH1ST7tK0MJ3+RMezuFQxnH7hjHMzqaoAKU0ZaMq0IKRbycDWNsyYp4AbLcrdK6rpGIjQ\n",
       "FqQ6RYAv0T6a0npe/JmzlXx6x8ZiYzxlQyKhh5lwr4n7AAERgaYQYgKkicovJg5yKcEi0LnXbBI6\n",
       "gkBsJ27NkieXjJm8PxIaJtmN6DjiqjeSzQZ1ZjEJc/ln76Cv2nNRte9zS4kCWCij2e9lC/4F4+YB\n",
       "jC5Q31uD8yHxmx/ln6ASjCMg4Q8j91jBAAABBUGaVknhDyZTAh///qmWAAIT/wa6Gc6QYhS1/9+6\n",
       "unplBpxE3ACAj5bK+y+HaMzMFjhfDLeTJRXbXZm9ZiqTHhWy/FRiiuUmXfnOIlSbF26xR9iG8xrN\n",
       "yNBAq7+jpCZ6Sr8jJWuf+6cxqqAz3x1Zje6UuugMmTxnhF+1ZPZg/qkXw49x9SSZqEsn7khaLv8D\n",
       "cl7q0wfzWpMrdwJg/8Y/xnV92YjGcb2fIVwdL2SPxfZVV++870Ct6nVPw5Tl9lZ8OgRRXJpBM/Gu\n",
       "WjjPi9fKykRf7i3Y2U29HRMZ6d7GC2/fJ8FE6XtlgrjcXS8x8VqDL4DLtJwznA2+749IOxe9j6CM\n",
       "WFmeRAAAATlBmndJ4Q8mUwIIf/6qVQAAK3yIh3eQAHaMsH5mtMeXp9i8ljDbizF0G1pxl7NkDibd\n",
       "0s036986GT5rLOS4eXWf30HEqMibTAluLXwjn239bR4npS1TorWc6+TFrp2yPiwuVfdtEg6WGmST\n",
       "Qx3PBLPjh4dnzs9qm5QKFoE0gt+wsOkpBxrbnv8bDxSIWkhMH28o+FB3R4eLDPWTFeKC5GfHsW1U\n",
       "NcPFzZhgaNVTC02rlZ4yXExA57Dd7ShrP+Md30woUX1dF75dwdqE04Vk71s9SWPvdEl7LQ5d4fDg\n",
       "uw6Ujmbn2gxY8JLGC2nlOxUzPQWlo13ptYhPXimHRcXC+h4eD2aXPooesuO2uh1Q9wWu8CxTqd7m\n",
       "VA6Eohl9+ArHWuYdY7e10JMSWt2HGljETXRhGVbPU9ON8FHxAAABTUGamUnhDyZTBRE8P//+qZYA\n",
       "AKp+ZnnxwVXh3ECSb7bgA43qqKvUX1+l7ePxZvX56EbHCXgNsBCEQmBXzkt+Mdrjr79kC96kfR56\n",
       "jj+uxJLjvAt7HQt1mDA+9bSJZBRXMdcFnqibIh7XxUHKZy7PltXuvuybUPPEnuYy4Pytyb0iiV5j\n",
       "qwZwR4rpyl74LJryH5f6iGDqSjSjLJR32svQelRvgQtkqMGdJXkbrxeGiZ59X4ruNtbwV8nyri0a\n",
       "jxC3pih9x6hkOWYl558jfC1OT19rW4eSVbh8n08gqa1Z7oMt08MgUMIE+YF38D14jQRcG45/jtfT\n",
       "q5YlIecLrw3RVn/3bZE1QMF0gfA+qdBDFeVgvUXWXSQ0URCzZMri4JhdXoNYH/8PkZJGSisrvBzu\n",
       "LtyXA5s9W4Qj7Cyq0KxMwuMknu/bEzwj73z9aH9yQQAAAMcBnrhqQ38AAHbG+M4ewRCEe/OnqM6l\n",
       "gBLJdNrY9dnDzq7kYLJbzmfsA/pWkmwvXynMAC0yDom/pnpTA2H1J/L9q7MhyqhrVeCHu8GuUgqY\n",
       "t5tPpAkd1aKcLJowryD1tRXmGJ7c7ryxEoU3w58Gg4eJBlqjCfjcrniqlF7EplomKySsJB90Pzs1\n",
       "zmMwhU4sLGtdZFIh14Kl7p26PXSIBASCk2OTUMnak9/c0BYR+TZ+yLZf1ULKUAqWQyEdjH4jvn2F\n",
       "AimX20nAAAABeUGauknhDyZTAh///qmWAAA1XF+8BbKt9O7OABO3mznpuginaPeai4JVG4e3h4Lt\n",
       "YiUlCatutTX8R+2pCPcBh/TEFDsMYdNVutWKgluU/nuawicfd8BN33xB1IGkK+xHbb5ihj8wVAFJ\n",
       "ogCB57BL4oYy1hXmhhUpoaMuKDuu7ineyRQuyTSvEl5iYBMV+8D5LldCkXMcFoEDMr2h5zfD/X9T\n",
       "7UsXWma7eunSio1ITTSRl0pp9BX4lb6zGwYvvE2LYdGjwygv9Ip//HuphvQE4gH3veuc2nCHTjF1\n",
       "FUTUzNRM4LohXZZDuqUowzkTlkicUjnoFeDDqFfdQhJSuoVfpzzqPiQaatNBxHz3sApbClkf0+5k\n",
       "E4DYEO7QzaDfod1mSwaccKgR4oj60m+toLxvKINDfXTfXpf5bdKxKv8qT+UMCOLEfGDSyrsZXY2z\n",
       "h+Y+V9pNYJz91hCpDCU/FFlplfAbN4Qn3+bhRJyBgCvCjQMSHqQaf58viXehAAABNEGa20nhDyZT\n",
       "Ah///qmWAAA0ANN7NmLzwATVq3B3IkiXql5tM2mUNCf0v3TsLAbjCvvEMyHIG//DgVMK7+lz0eDL\n",
       "nGRuZflasLuUlNk81j1NRzv8XMddhpk8+tljOFGJiC8//0571JeuLg9M5UR/YSn8mZBfjQ4Ozlg1\n",
       "yienuNidWr3ekzGjQzcETTyt7dAOd+liAlaoZwpffEHnQvb0rF/gn/i3BWcd9F5EkHIPMexwfRll\n",
       "BU5S3uY19OKYAjR9FBiAvj0+6Mk+fBGN9Rt1m5EgeMi24B1xJC6/X8TEuy+QXOIdzJz3TDXZ/55e\n",
       "Re5sCo4KYAXlGzNtmPsR8OxFZKuCKQOkwt9HLuNFpkTi+VY1Gpu+hwpLLdrTp5emrd/OVD2nUQsK\n",
       "Ds+6cmKtzQzw1CY2xxXrAAABiUGa/EnhDyZTAh///qmWAAAz2KU+OkgNABdQRXhkbF+eZWsmEqC9\n",
       "BRcIzAK2KEHJIhOzp5VukpE3UOQuI8h8tNbh1EYu8ydQnw8tryk8w+B1jxwtLUau0IzyDgtz0ZrM\n",
       "8Z5O8XM2So1lJ9ZylbuoExMdYmCMPpWlXXmHRnAd6gPvqVPyF567oV5fnoaNRVmzElE+OWQpek2i\n",
       "lJz4UiNLd0Bly6VtmSETKWTacmeZzAe0R3S54+5uRvSf134R1iPQUPH4knw/L1merMb1UCOUtRdZ\n",
       "b9qNZ+tVXtYFUDCJnPvnDwl9HXOZXOFmc1Aw7DgW4htm6khT5lp8Tk4dg+WFTr6Ue8CMTbjxMadE\n",
       "ZfU0vnHSBdQJ3tr7rEy7hdlrBr/A90VqkqoWOluT3dTeeFH/m1jll5PinBqHRa/jlJtINGMnwAj/\n",
       "NzEN9kzZxeaDQ6kpwQANTu212UscTdwOGpRiHCHdmNTaX7A7JFDHNqmRkYzlJHOV17JzaSdfhCLD\n",
       "Fe6MAF6Pr1eqo6FbQQAAAUxBmx1J4Q8mUwIf//6plgAANB7BJmTIEEYCvCaAL9k0fuBSPGEZ5W3z\n",
       "RyQEpHGkWCkTL9LIYkIJ0aiPxStpo8Kwb19P9sSacxdhoNE9WDjKR30nvd2Y9mk6cchoNAQENwNT\n",
       "Vqv1x3Yf09vybd9z/X8g/NnAb66Oa8DLN2+clr+oLTLAQQ7Bkh+SPdhWmQjIZ9EInFmU9DYLUE4z\n",
       "Zmx0NHO7O/e26E9ktgprLBCOdaQ3bz/UVUC0pgCcFZffOo6rolyDzYKYcTYoMufe0ivaaeEwK2hs\n",
       "P+cYL5V7dO11mz5W16iCUhHxWHCJxa4vBHrhfU9Nt0KPZh4anDkEyfZMTHg4OufpERLXrjbrwv/9\n",
       "+rl5Ok3Fqp1ec5TFNg7oLRJAT9EbgTeE44lxgnKFLZ9MsU01ZJKNyuFYL50FlmJRk2akQuOZSouy\n",
       "WCX26SOuNQAAAeBBmz5J4Q8mUwIf//6plgAAMqxHW3LVFAAQobACmHk19pu5+LEL/8lQuV8ZoPkP\n",
       "3cSH5D5Dx27X0odW/ojyntcNL7XPYF8BaLbFPXS+dQPB1nf5ayQWUmbUXroCTaHX5XFpkqX56jWX\n",
       "YMo41diTVN5qxor4SXKQXpzhcnnmuDL53pJAGAJob0+wWIsSJyqi8HyDLO2G3zOY5JikPP3HMfRU\n",
       "Wu9zLxIOopJu1/Q5ECVze1VShtzOZnEBMa2k8HTTbaIkXlJU5KseCqpuqlf2KUhBKUY3SXFrs9qn\n",
       "NXIXX75rQ8/nnXf00/Hz9z/jjWmPzO6aT0C3lvMqhNn/CcbRPsbSr9xxpuqq+x0yULR03AnR101z\n",
       "QOfzraVwosDo8plMfPdN2qE+Rf8rIX4krkAD1elx7ZD/6mnbVussRftU9i6wS6Q15ZGIjz7ZEUUe\n",
       "KKezBBTmmFyBqP3xwNjofYo8OVg+kD4JwH/PD8dPhWqBnt2MP+Jc6wNOgL41CoiTHlte5TfnPVAE\n",
       "NSNRG+5I9Uain5+ce9/EjP1n1liv0ENRi3/p0K5ht7GCItpI7PxjYug0ODdrx4fRCRQzuZ0s5uHQ\n",
       "WkPm5bmljTgnVup+2N5EzQwaOWU1rICyB8rx9TQcztuMtaYAAAIeQZtfSeEPJlMCH//+qZYAADLf\n",
       "2stGdf4R+1OBeNxXgARB80PvohNNtv0fOBZBRgfxn/LNWEzSGI69rkZYw1ZrUfqEu6rKvSt+Xq8l\n",
       "ExXWaNTmTlMJQFfQPd89DuBKtlq9mx7wnebdot/KY5KljnajIy7u1JeHVMSvdLnu1Jpa+NMmSiMM\n",
       "Y5+30eUWtq/D0b53YrL2OE/N8SWdVtdI1Rcq3yzbso6qT6xSUBZ5M4Id0VfXrzSAGSO92wBWnEmj\n",
       "X8x/+SHyJ7YG8/zDmezN/Jgi70mMLZKlAMtHusm45oMEyLqUiVQgcDn1N6tkwkXpPS40oHu9U/lp\n",
       "ANSF1bDZIjT8ksmTEZ90Uok7RhxjfLSMpVRO53qKLfz5bbzWsy5s17MGr/uDCnNCw622oe24/e8N\n",
       "CIbdCwKyukWc44O/geQOU/wrDh7T1pwFENNudwbS0KmasektRfW9t0N/OHM8mDBqY8bwYyDFDqNh\n",
       "kHB1tL1vcF9Vgm9Px6YbwVST2WmTODwKYSCMSPJMEO7fT8c4UuD3+/bBUVP0xE+lcVS+dSKMi8Y0\n",
       "QRSwpcSfFUpsZDASxoXtoQtOzbtsMG7t8CUFgGd3MiRBXB+VEQ0KobbwT/CycjvsJqnn/ciDin/3\n",
       "kfm71H5iyUoWBDJq34Qq6dQtNBJFoR01KjODubqISw+HvhaTMRWgh7ppme/HrVZ2Bn3u3w7/qF0O\n",
       "PGDjuJ8B3hgsH4AAAAHnQZtgSeEPJlMCH//+qZYAAA+ZVky1BIAQaClpvqczJwollKUm/tfwHCyK\n",
       "P8QtskVqWiXzrKNhw6hjuxi1o5xX8vB1BjycfICp0Y2hZbf7ESNfr00ziQymZpGACm6Ou7fsGzg1\n",
       "TB9uuLwwp8SwYp215PSe74v0KIZ9xMNsAX49wG8gb9lEbw/vRfDwnbIpUiiHCrx1Z23VN0t9AUkE\n",
       "BsDHtw2gcecz3of7ZAbBwQh1kwrIVW9e5Yr1w3Xg3/UQKurZLLgwM+ZlFv739hlAl5ji/AXHEmPZ\n",
       "y2jhv4ZG85BPcNClalpByHf4ToCQa75BAvjuXCYSBZd9pntu/g6sTwSYNR0ttkoa3CiKJc3clrzq\n",
       "39N5zpoZYCDU/B99t4FYsvXjILn6x+OgZKGB6tNNpLJPLrdQ9OA50N3DJOTFR8PgL1W2xrDR9dJb\n",
       "9HvjApzcLXxrwqRxhNnpSjxqP+Z4HGDxQK9wdWa0vu+1yhhpe6c6KFvQnF+3+tHpM1olKwyVsmxN\n",
       "TDZFNqTcckXWK2/wZlfho7l858OFWbRZrC0749144MB1U/DRMpUQJFekqPkYY55QQchLrStHRYOE\n",
       "GCbfgeIH7fsb2JfGQyc5FlC/BZhmajppknuJLFmrDCQ/k2iqj2FLUJK3eYn1YQAAAjNBm4FJ4Q8m\n",
       "UwIIf/6qVQAABAfpbI4aaJs3ysyX4ATTbWbdwx1uLQZZZLKiQxWy44V0V7/e2WElZ0MwgfX0J0Au\n",
       "R0zHGIH6nscqte8kxJ3Ya7sPnnG67mizxpZFj46tfo7eAWHJyhdgcoqCa/9xnqrF/kOkI0VsqfUO\n",
       "a57PYwWEiFiMEri7N0YD23EMmXDasHl2k7TX7NywG0TDHa/q/p52C2XcXpPH/ZjnkeNeOhZ4rZvK\n",
       "P8UbDC8ZqvQ7tEFuAFQ7XrivYwduus7A6AGCfsjuiLrM6xrKAuEEtZd3d3NIPTAakpgvrZx0sVio\n",
       "KTWX0a4cr6kraMoMBXJZejL+zRueAPjKlKqTA/w0jdEHTz+DY4w6GwpoEAxFCZMwEahI1G2Z9E1O\n",
       "SQZAqJ7L8PrPzZ0SfuEHkVhFfKe1aqTJRzcOFvBqKULgRoQtLiK1x4XSUKSLbU4Y+l1Bvw0TvZIj\n",
       "/xBVZ65hFetVnaSgIsPixdtGErMmqHBb2WCQoItXiOkA+Ji8+1xxkADByyKD8X17geSWDf1pte0r\n",
       "Qt4pbPVYSw8PaECg/RycliaVUo7of59XI49KvVt06qhYpNdvkVKi+KuROTrlAOlq1WV0MhcgSVKt\n",
       "EJ3qgZYuPW67MgZveEI2eiZia6InSXWvMmAYxkHfs30g2ZbqpUMw2tAYZPDIRewUEHR9eRT26dDa\n",
       "KjbFKRNGOt7F97nYKY/wR5431u8H+OZso2OEVVaSSG9irpTgdQqq2JMzYAAAAyRBm6NJ4Q8mUwUR\n",
       "PD///qmWAAAwWz/P2G8CAB148bl9OHiXltwJvmrP5Iq4FAWrnaeFpiFRJuzpEoQS4/2KwVyjfiQx\n",
       "HUHW5XKxEz51bGdHP0aHV8X3tgp6dFNgISe8hERKa7cH36j2svK0jbnrj39Mw2+VID8JnYeNNK/k\n",
       "/3sJQ27uBo4w7ZutgK3kcdcJUa2rIl4ccNMJBtkXFz20J6PmeYOs2E5jZiRZKXN4iY7Sb5WZ93LH\n",
       "BGfu9sofvs2LeYWO2O8fAG27mDz6sQLiKKglB5ga6/ZSSern8cpulutG4kgyNSF0tQrkiSxWWnmg\n",
       "OxAT8+lrIZwmGNSNc8O3GFKQct5KELnKjGo85UXLyPBRjIsrMlWyeW45fVbJsEjNxA0vx+IkwYfK\n",
       "uVFlH+PK0CuOLMvR2j6tuJYLKFPbxA6BOEoSa+eIB7ileIFl7ZSzC/4eM4lIyxJg9Vgj+UobXt4/\n",
       "My+2R4cO72JvPS/z3bKDno9zmS2jEpX8nBw7QXrhUGSK+ClOpyEmE7Fni6EHF53DLfSydL6zYhKf\n",
       "PPY2ErYNJSlN2OexBLZZJ+yXZ6lP8/Eera0ogoqMss5mEE3FfMOxjV/+qu4HaJm6nyj4zu/Wngha\n",
       "nM1542RVLWYEDJOdcs6bga34vreEnumZHNOd9vxNtuHFs7pGX3xvbqLEJaPDl9u90W3jqCG3zSp7\n",
       "WB97tTnwoHreprFK8RcxMrFCcZwzFBvkIUTU90PIhNz7r/zNO5kv6YNnAjYp/Yq6plrv5haXxPiJ\n",
       "vNrV89flqD9whLZYUI7CWRijdX6Kv6L5UqteRRayWDquMByhbhEVYT31IYy+UCaBnQBDkMscQg15\n",
       "91d7DBhHtvhvaNqXFDSHed9YODc53kQ9UGI71qCLWsCguVIoAFsvG4C78fTUpDy8gaywpApNx5Ox\n",
       "xdNQT8Ix6yZhOGR/4vIiVe2ZvpLD7IzAbaPRYeJ+tWNcQB6wKDAogQQ7CyYQciLeQFRuGSkqxqp6\n",
       "iF+4tS27SId6LxwastHl13fGEzE/A3Rl+/HdnyKQFFSM35sveEdJ7JCIOFxR9lDYnhKL+2EAAAEe\n",
       "AZ/CakN/AABsC6TH6ZqHniGWZtBOGbXQHAATuQ/if3uITcG4YKAN3Y7vuyNLOf7MwL4/piCBZLex\n",
       "6SKHFh9ETVfk9A9uyXhvZ71czQVD2pcxGFNgqKSw4mMTF68MEIAG5tuJ1g90CeWjFj6fjX9jIDtW\n",
       "9VuajuaW/95VkvP6kADbcYCCMOqM9hxHJ8n3zupffQyqQSFifHXLrabocWbN5PsLqg/wrzBhaRDx\n",
       "aKWmCSs7NNCv+TYF8fgrvg0CJgsSlRmL9sVLu0MEoUW7Tq3dYHwi6ahGLRlZZAkG0Au2gCaByqu9\n",
       "DXr2MiaTS9uewaQAFr4smBCUV6BBRA6ydqcRGBtS0c0Tb9vc4jl6/0wiqTTTchRYLINfBkrOzIIe\n",
       "qAAAAopBm8RJ4Q8mUwIf//6plgAB39n/werNQAlUpXmjadFh52oVTmrvKbJZo9kVbix0n9YEB+vU\n",
       "LGEcvk566qFwPCK+cwESTj+Eb/xthZOF9MXyGX2OOo9ZBj8TO44WNsHPEl0eWtaRO4X/dbisNZJY\n",
       "s4ObOh0BC/WkCrh1uHBk4lVpgWuZ8yl91PMwbPSAq+xbSvv/R7q0x6GeAE7b57PLqnBQn+xNSQJe\n",
       "SxKFpmmFUL/kLcbNouFhxmMN4MxvNB4ZZkhnc7xop582+9TrTOlVTeGRz3FhzImjthvnMnPYDULk\n",
       "StpyqPBZWv6MXTcgy93Gc71x0Rqp2ugBsPFsLPte8pEhQoPowrc3uFfBqlNoXWp0njznnpADoUXf\n",
       "ukaJVj0KuXm7Sa6J3iBRBO5E+vppdI4qDStccftEuYSUcevCT+jokyI+A5dEAVMiX8tFkyYWX4f4\n",
       "EnCaX479bpI/bSkIzTVF2zWIiulMLgPHcQ0sp77gczi20kSGZPo+eS3o84oZ4RRMOTYOcBpcCP9R\n",
       "YHbIyypi16QETNcsfYI0GbMWqtz9VfSZOClY7Fgxq2kLaNKgsvuPa8MdqpZXVHOZv4N5e8ZksiTH\n",
       "oWYGlgh1gQakKOz1gGEWO4XoBXY+JwY7hNCNwlKW+r5CF4WGJ+jFpW+y0rD1Q4bbl4KH8vvGEKUd\n",
       "I9bn3X+PuQwVgo6OpslW3dztkQcInHxFxLnSwo2rYyiEiM6WK3eyq63FCvpngsiRiaE5DxS0m4WH\n",
       "JkXQgU4aWKFss4pPwURF/a/uMJ7ME56fuG1QRczKMGdvMrW62QO8hJ+Nv06C3T3uRtpPcvsbQS08\n",
       "5olIVM1suGdMm0wWO75jXyUSYylawz4wQyq4cQAAAg5Bm+VJ4Q8mUwIf//6plgAGC2f/BO3wAjK7\n",
       "LI6BzZ6Uy9GHoOCsKtxZGgycH1TWsc8J9WjPS/zLDNaIsDyDC5fY9uIfwjgQhFpi9/ZGTOaQ6Ibi\n",
       "4hD3AXc/ay/YyJJmwaZQ95ng4Btqet8i9m5L8bcFdI2jix+LjuH3emxg/qSW0LDsXPCqLjuz6l5k\n",
       "kE7k+u1vy52X/EJszD9b84UHVwjhh2apxaU9yByhD5gDIqWzAX7Wwq9YCwzX+4J1/7RdUKfqvGbn\n",
       "8UMY1P8VXMy63nASKyGRBElFnfkTfssMmstPeCvwCJcMBadALKMrKdpS7Q5iGfKrqZKCvPfhcIwi\n",
       "Yeu5bbYu2lulF/Il6JtFrVzJl6xNH81z/G4PNwOg3uTrWgY9bT7mOkC91EY0bQhZodW3HLebcxz0\n",
       "tpECOTtql73wUDsgyIhdUmnUD/TL/EVbGv3EuUKiVw1EBUrcpnV7S9D1XhoFjeIoyV3VD3VPq0Uh\n",
       "es9Ty20JmBa7xlpRF7gLbhDBzrSO8wYW+igBOIrjsdTPF2+Z1aCpvzdwdRLDrGa1P7xbwEZV0WVp\n",
       "rtOe03JUi+m2hr57w4wz7SEIQUWh3ucBhRfCK95TyTJXB6W08vKlCU8f0ts/dZBY6UJu5WipcrWb\n",
       "AeqS2D2xArGGxTGni+wntRKYHy7AhpAZahiBK3KGiDqTvBb4dUdeY0H0EHzBAAAB8UGaBknhDyZT\n",
       "Ah///qmWABME2HlRZ7mHuE104HKjjCFgvSROZqhyQb2ZVRyljAA6fogJsUSpF0ILVvLHHwznSA9M\n",
       "hh7orYHVbSeL2/bQKgxfKRnaSjw7U0w8nPXNWe+K6e+HxSe7Kdsltgf0pBTE71o05khlb4q5O/Z1\n",
       "93TUk6PS3tkbU1lIKR9T10KtJm1niY9Arab1ULCPsvQVKzKSRREgDuH//BLfg/1j5CMrGrHFTwwS\n",
       "z/+3/D9IkzP0Fcm1Y2FcL4aVwOA4QzzX/t2wmfeOa6eXyFVJT2zZpeIxLBk7ZLcrpZtFUB+dkqWA\n",
       "enyaNEtyy4XxyXVoz+Iwf9liApH8xm4NSZQ/fWoBRzT+JEMcAZ9bOZNwnHGo+za3VchEBL5lbfV/\n",
       "ngIWN4SgdVoJMd6Au0e7VLbKXkyIY/9DvOAjNx0ZFz8rcb7Ygx4frlHrNWmHEd4flCpODqfevlKH\n",
       "63wgGx4/76k2Siiba3qZBHDLmQ41pFgKVtKDG6oxvKDIUBZoWn2pzvAEg9279/jK2xXYja/AR5nW\n",
       "xbAAUtSZ8/LGjm2CmzKtVsR9Z93XbBLKZAQD0FYCsWwW/FW6ecKoGE59QV8L0Q49Q75xa843RFXu\n",
       "aJGPKw6DQlbf/stwq1zE21AaIzh4rFUkfZ0mZvmVrxYXAAACGkGaJ0nhDyZTAh///qmWADum0pAE\n",
       "TXZXZMuYhnQAISP6XNCPyZn5QXkqxMdKaatubLXZTT/hIFG6g+71NiOqfXWqP7lgy2ILJYEzr4Zp\n",
       "RLmrBxztB3aP/yHnJGfjzZ74imkgeKtXIhUnMmgXKDfcHu+O4aCSbHf/6EEswkfrEig3rDkmQ2Nr\n",
       "0L5/3+Q193EeRGOMz5HduizjwQWH7ezR/Pew05PEXYu+4tl1UMCtgtk7gXK0ymC2lDLuD0X1LUxS\n",
       "7McgDV6fs6LLn0hfWA9k+CC2Oir8Yzd/Hg0c82E9rSPbfKiYp6MRsTYcn625kmxll/VckdKqpFw/\n",
       "0O1GqD2WYUvH62V1JXSwSvjBLHdthChB3UJ8Zw/49Jzk1AF1r98voMGrHnmaec7/2Z37jeWcQNED\n",
       "ozB5GAbgAcntkXarheoQDTwgqZtUjadx7Tnxg0+1l/eVcJeR2gbo0q5VG36erIryy7sIE/go+1HS\n",
       "TAIgBnh8/hBAco/uaT5Yq/Jq9vytd4b8udy6hRDVVa3ftghCkj1sYrKfT6Mdg98JUISNZyp7GISM\n",
       "TEW9FDAn8HsLTVFwaf79AG0W05epHP2Z+TIiLIWRxxKFEibIIJSRTIeKm6n2RTepYbmgqeqUUWVC\n",
       "aVNKDDwl/8+CT3p5wrjUta7wEUYZ/ZOUOlTziTBhIyxevMi4ELUyPu5LkTQK9Cmfk27vH4/huU8H\n",
       "2flJK3EAAAIlQZpISeEPJlMCCH/+qlUAD0GS0eAAtOknc7paVgEx0KkSzRy9x9j2boiWNxa7ApS1\n",
       "X9KjjaKjCeXe/w84FHboS6LPo7OeP/qOyi/xMJJ1aSEc30snAw5u0MVNhpE2MkM3ngyk2eQWSknS\n",
       "g9lYRjaKl0/2NS1mfLlCwvbj1iNfVOSGcprRtuez1Tenac4EGv4cbj3n6/j0b24ocjSMUiRk0H7D\n",
       "8bpCiJklncXEmKnaPeuVNO8GTnhqJMvhAJO+LEvPA0YuFdj75pq5/K5VdAo+XMF4YM4QNuXkoNKO\n",
       "AfH80cXAbtHgdVNWO7mUOC4KqdjZzxPuF6ReL+O+drmHn8qWlopc71ATFsEBnfx2RQYG27Z06KYV\n",
       "HiURDb/F5+NjAJAUMv8bVD/NMRrHTTNiUI5+KWK9IsP1N73R4nGAJoQ/ITxxIur0Ae/iIUpVBZ+B\n",
       "c3gZxEk5Tte9HIV0lGSLGytvyKD7tMt/nxXoP9AnIh54x3y4P2dqf9HCXwVPRWs+H7ayIOKJ/IXP\n",
       "TYaJsGTaOznd9z2nDgGfuBvJKU+4lF9tPX3nbU5qbZSwrzvJuHuoIvL17KWrG/v05tTtCrQupZye\n",
       "m6Sp/D/k/ZnEBNKsMz3TPkYUymutq7EbDWZ/Oyk9LX+et93lH7e3KUp6Yhyk0XCpb5LuIaZDxyKm\n",
       "Z25wxdCSHxjbnJqWHMWb3eGZR/neoNPvTaQtMP2oFhKQVd023DwjZuynYlHgAAAB8UGaaUnhDyZT\n",
       "Agh//qpVAA9BoK/gBGQjoBKeanITkpo52m+e7lnhT/UfZb02ss/GtPwRFimZWflr2+XKGdXgteQA\n",
       "hEsbJflzqWBkth1SX31Qn1b2kpvK52KexHN5vZsaRCTsM42n2uSb0CZaEcRM+wUxy10f5qIctSNq\n",
       "pVdwwBIkBqsuxpcur4lkOpNGboirle+13VauIOUzAeQB0J/NxkSdpesdX+DxtIEQidt3ckuPeXTe\n",
       "c2qNF2Ct6r6rKMJx+0v5z601LmnP8/SW8qNJ7sNL1C75TXGezBsdhYMjSbFsMn6WDDPA+0AFEy8u\n",
       "gWuulJ0V9aY2yJFCHtvtvdft7ZKtVxWmhFGzzswUNMTdEsTlRz0JmkTotFN5gAfxKNQnXRi5vvmm\n",
       "EdeoU0DLIHRTzlGwt7Gw9xqe9eM3yu9KPKUfTFve8olyNxVizgFhflF6XJbhb46mKTsPOD93TE3O\n",
       "uKA2mJLKsn9Q6K8mP2wqbOkukT2QLUJv1SMkM9JVt3tEik+qKNvskHhSbiMkSJJcAc3Yno/Bx6ti\n",
       "MllLRpm1XrM/1tm3LqE5RzpqcjjSEvL0vTGPRVyKaqtdo/hVx0UdiYkmBKnP5NrWv7lU9cdszylJ\n",
       "3V7yDKqkHW63yb32V0yc8WBC7jig09QbtUJEtdqigiwgAAACU0Gai0nhDyZTBRE8EP/+qlUAD0DL\n",
       "tAA4zPZ3x8cRKglXH1UWupUzjj2wgBiHEXXnAyXduIfPt0rtgOkwLLKjoumcn8QBlH//wVEba7Hm\n",
       "XT1S9LHXySBfh/Y3RxSdQhmZTACoZwZc1vKjHfsdcEZG/8rLjbE4PXDY50CTGyMaYsmA9b3/fAmZ\n",
       "rtsfkLCjs45Ai+kFeqTD4A+t7Yok2jcrLNa270eBXBLXABULbEJ9GboIJJkMIRN+ezaKLvLuBbDa\n",
       "00AtGJznvKBVXSsYElOoG/a3UuHvydeTYchdbqIDBraRBKOWHC4CqoEqZxYLmrWkf9bw21G6hEdx\n",
       "x8/nAvTFJBYqoUabWPaZ4gIwyZHRISKkkaH21QxwBvgwnl3yati1NBFVRDb9zZhOeELl4f8FtRns\n",
       "NJgggTfDZws4CC5Q+vI9QrJGAoeDenilUOKTUGRuPRa3BXI1ResuJ4Nh8OejFumr0akWvrl9gfN1\n",
       "rGXA8ASPdI2bNtmtwiwOl9dO9g3TCsKVxhVL1Q7RwCpTe8hMgqfCib/wLEKrUzT9rsbbyzRf8ZeD\n",
       "WBinpMOqBGdMfrmRe6NrNi2AyIeFD8CzW/cutyIjnpCexlcXQvzu8scjIc8UmjegX3oK/3raV2rV\n",
       "BnX6RdGH2YI2AE0mZQWbuTstIm2d70ZwUqWJt1yag677APa5l5BTwToq+aGNm3AxozDlizgBlLJj\n",
       "ZPfjlD2/Ln3CcZ5JGSbAhktnusLHL+U4YyOeB8QIxzXRhthmpKOZmETIoBokQ9vsgSsE6i3QGT2X\n",
       "bCbpKuEAAAEnAZ6qakN/ACsp0iUhs2uWzPQX2BxA7j39oNuPEXw94EJ72BszcM1dyGpzABK0wq97\n",
       "vCn6Az/xEELDrw39QMF07b77tFrJYPuPV63gEauHEgCExzmW5u/YUVHzHk3R0ZyYRuOLwORX4H2I\n",
       "4FSP63U9l2URwIZGhW9p5NrZaL5hSTinFC0CJiX+bI5vBaXJ+8YDRM3mJ5jD9kUHufGYT7Wn9tw7\n",
       "iaqr1FKWCp5MSAUG72CKmauvfgQK4gaeDwWwZsRj3LgbfDScGy/pSPIYJWCCc1F5NjhDVAOb9QK9\n",
       "GdfjdfOQWM8tbqAUCMwDDt6JWev9NVkrU63U+34wkrVJMXINhCHNjQ0Inl3CdzhcbIxpldmeP4aE\n",
       "VA0zwq0uvN6XF2laLOQpdpgu4AAAAelBmqxJ4Q8mUwII//61KoAHdLA1IAE0pUd/83z5j79gfGIh\n",
       "D6gig1rdJzo7x9vtinEbT6+avaIk7/hd2RnXvhK2Dt0UX3707b8ZRhaVsvrEuaVUqPc0B894r9me\n",
       "ZaCU0SRuytd5Sx2vFqIAOsSSAwqNBWhOYqEKYWEZTFN6976HGL+picsTLM/dE2HeNrlBMHeJ4H8a\n",
       "DAniKvgkiOfdwAl/MSUddcINZ5KKhJRQNsCWBU0E3iruMDt8oISnMpybXkaQBwrOfgqHRw7JR/tt\n",
       "eJoADm4qp8mDRS2gt9EH8tLu+jyVr8eH2Cg15c+Am6zm4iJdhEZ7h+QS7oP2qI5LeuihzVKx1WaV\n",
       "KSnUDCST6vs8wEsKSCF2NEim+jixO03cp559dB8sRx9p5xGzaNmxjPWPXxFr4dZIOrJttK2CyEsE\n",
       "pG+RwBnPjHW9eNJp7aVgkT/rKy5woGQYBVsIcjZFXMW94JxlF5JozoxoF15IkfKGlUsd+pfqNkWy\n",
       "1d8AKtQy5EnPG9u7uci/yw8XfQId2QwGrmVbxyocVOdq5aUYX9dGGQs1zQjtv4u3mAACkgdX57zw\n",
       "qFQ+bIcAJsviOi7lGVe5ObqmDxOovLBbzkp95okBs1s8XNJ+YpB1De7fiJKeh9KhiZCynKrwltAA\n",
       "AAJHQZrOSeEPJlMFETwR//61KoAHod/KgANqFETVRMmC91q3j9+gAzfsPWNvZY3PBjJTYTTZK5cV\n",
       "5Zj8OEUzQ0qDJOlS0B4GLi1FzaaVvAqsNIq///2zayEa0moP47AnLytxX9747oFkO0DbO0wIazMe\n",
       "NqwFvsrC4YF+PmVmJI5nd5+ZZA/6Nl3WfgxQpYjjQiMqPFxIlaOmPLU7KaBRpRcT7gUZq2SO1c8J\n",
       "k0sFcmIPaOu+5lBQ6XOxPpJHe0WfEpfKcH4F558cjkRwbokpPO68VN59hYQ6gh2NtFbTKmiR+iZM\n",
       "kPJxz4efMjGjb2psujt1nlCNWocWOZKl0crAKW6g6AjECf/T52fD5trR5qnP5v+nknsqRVvLTVuq\n",
       "yYJd+g9iRBxuBkoWm+5fiQFi9chGpbhuuOa//o///4IGKZV1D2ovsIXrW1DLJV+SRKfRCcO5V2AG\n",
       "t/aSlS3eAY9l2z0PiNzU2c8vAwfePM1a3W8190QlBSRndGgPDqlhowWpiamtQip76RCEfOZk3f/o\n",
       "KXmvypWYZeLTeyyZvSy6G/T3tiyf4/OWOycf2n1RusAIFSdeOrFBznplCFIb1C9hOkdFgwyZWvXR\n",
       "tDQ1fNvJK/DBjf7EEIW9VW/aRBxNBBQmP9qNQOoXHHvJNizZiDG609N6zaUnhM6RGq4iARIXwKg/\n",
       "DvyiKf9/hwUEORX6pBOSSX3PZXi8JRQxxrMw2VL1RRQX89TzETvwAMBtPR/nPikHUJ8hf5VQWshO\n",
       "dk9EbSi5urxqQWADsEPVwQAAAMoBnu1qQ38AKy9BpguOMLvskayh0+1GWO7DU+znZvyZ59lgL+tn\n",
       "TAN4KW1gfW3kzZpLUDUqzYeRYTGgFoHfXwAku/MrT5GUPza9gWYVvPj/m8FtqfbYiF4fk7qlEXvw\n",
       "XU8hdwvCNr2fkIvxPdPqUCLhLoFWMao7PPvUdXAjJU+otppXf0tZaJlYoCMb2DuwqzrfEET0n6WX\n",
       "EY4HyFbcRbgDTSx6d41RFJe+hmz1gv4t7/1xuUc7K8hdNFp5vQhvF+5y4bZtdm/L6APnAAACfkGa\n",
       "8EnhDyZTBTwR//61KoAHq+fw1jFCB/EUBkAEQfSPAhMPhy6Cqc2ZREFYtKtd+pet9qGbEpg8+gtY\n",
       "N9f3R3MdqEuSZuyJbPKXBTHTx1U+BKE6tGw2h1ldogH9MKMOQel6KOSluZJDjFqdyuUNSG35HRcQ\n",
       "AE4P4vR4Z5SAXkN6q0R50tbGIhW4T70RyWARuKiQVQ6vNpkWQCHf0vdqIn/Mx1fKIhZ7dycxkc6s\n",
       "eT8Jmt0WBRdI7Se4SELI6O4lTqp7rUkBfxIC0cv66azmTsHSgn+RvC6qOfUVif/zgd4WAWOIdSgR\n",
       "wGHv3pIB4XTiAEI5KKoh0kSmQuu5rep1GjV+9AX6EDsj0ggbYmnjmxfgzV/K61O/LZPTB22LHSR7\n",
       "34ZzCJHfX6y5uaL2ik+2K0QJs13MGVRiN0meOqJ2DdC5xCDfbecpd9DUV95z8NZk5sA7HNcsZx4w\n",
       "i93AJ2TZ4L9e/nCMk3UDeaRaSZiHwpmPi3N2PHYKwgnKl/2Ykb4Nc3c5XoHl/Y2jcZHBFoS/08xy\n",
       "fHB9/sIYV6Vrqlkez0CHJT7K1X6ergPXK5+SDYUZBHKyC5UOOlTeYTfEjDf6SBqCAMLEMeWOA8qS\n",
       "Esjt4T9kk7cuZ2vd9rHjigZisDJReDjIxyp4tpA6UbYkwA+AwPUT9alA/PX9CeEJ1Tw98zOfwxFo\n",
       "PE4hZA0vHK/HPYQqGp8ARJ4rLq1xTgOFm2jvCYsDaNSurJWhKnB+f1RHTlrwp2ljKOCyKUk6ijSk\n",
       "1eRZLhoJLYB0NzZiYjoUWBamKxCegaG8aVLvv0t1g+hMckNUhwpbw6QVBwN7DD1NGjfp7Vy6LQ/Y\n",
       "0e1q8YNvjgEPAAABXgGfD2pDfwArLq3AIAJ2dQWvkVmZCqFrguRmCoQiHmp4xk10RJDbBpMLicHg\n",
       "lT+RdMwsKWonqFAJRp+x2Nrr0ED0hVvPA/eydSggwgiXuMeXvZGhK77n44p8KLtkVBJWa7xyrcqo\n",
       "RAowSgdFWFVENqIQ3K1MyBuBlDmD+XgBM2Ew3Pq4Rfg1XA/BPjBYcNq2COcqA3SD2QdoRx4lG0Qk\n",
       "xJi7Tce+ErjwHRI5VlUS/0TDvFlif/uBr+Bu0/S+/ULdA3qgHiX+BUNeeIcNBLnIfsU+0HGs7uLs\n",
       "PS8efANuOdI03e8lIaQTjmKW3m1xO+Y6U+f1CjOrfIc5nhZrtzIJ8SpRiUVzsR5SKZ082sQE0/Qk\n",
       "Ysv95sCpKn4Lxw1QhUVyODUKO5N4tWKdHM0RlnaxwTUhUcnxpXukkhey2tPUzACvmksGdLHNd6oC\n",
       "am/z3E9SSrdylWFc/RfKGq9JfX4EAAAEukGbFEnhDyZTAgj//rUqgAJz9m5sHqaJWArPcM82/iJo\n",
       "UACX1wi+Z2tzWj/+KAk8+498nW1atFZRjPaZmS6+gk3m0rHDOg8oD29NKBrgcVEO6QHEmGMLRWwI\n",
       "otAzCsQsrhErih43Mkx4AfxrDUfUi1PjZwOcuTZgzRdVUGq/UHzeJFSmk/QgTeQHeCgmq9zeNw8A\n",
       "Io6dUMkNxg067+5UTdVPUo0KI2WqeNEuy/h4+lCFlgUqy/5Q3m00f6Hws7099iCq0X8FFxlzt19n\n",
       "cOQ4RQDODrO3kFTxx3I7GEa53QEcqjyC8lucTJw/hi0EcICxhHsvNRJP4Cjk6drbahKe28Upxbph\n",
       "cte5uqHddaDp6xAaM0OXZLKidfa1+LQzBjaF5hGZARGDcEb96owJimFCH53VCCCzHmTTKsVH4J9W\n",
       "zr5oAq562tlHcta0GESQvh0NnvG0/V4KJ2colThpEbM3aCJL2y7fT/J0SfaQw6McJS8QFyJmdGvz\n",
       "MoJ2JZjHMUl3hxGw9UXmarRuBKj4/J8x3tBNn2pOsdLK8v2I5jY9G1CDg8EgzY796r7xXNmHXD54\n",
       "jASXZPjFURVS8QIZuSM7E9qi3q3kTMC/Af3m6YNUdnp6SOSxEn1IyI4QI6+eInt9xqtZmgUo92/H\n",
       "5NjtnpJMNfVonqeA2ulaaI1UbMwjs7k2NtSokY7l5ANOZ6B/u896a16O9XznwIPOBHciMvakHoyX\n",
       "6+ht1i0AdUNY+ZFFav1iISF3XtApk17dHJW4kQwmdOpVM9MGJs06rqjbOIaQC/6YjitjW8t1hy46\n",
       "vmhzVuX0zFayGD/5KqhdkBcGZYZvsqVbkOqR6Z/IJQXhLryCgrzSmuMqaEQeThwwZBnU4dQt/WN1\n",
       "fX8J4mL/E3TEPxCT9XVr1QIAh81ydjquxfOvBUmSTaM8Hghrd6GLr8BItOe5EtybyS5/z8UqQ7F4\n",
       "up3W+ZGkTAtN+LmbeBd7qXWhahbuiasga6FuDyduwTH6KhYBA9EO5JkoBwHEiYUaXPt/hpdulpq6\n",
       "lvLOiw/VdI6tjTEQlgzJiuxn9d8TUcMBdKCPP0m8VqSllPjJNHxrP1ioD2U9UqlNcWSTbIlQNf+k\n",
       "119B5Croj8HBnvSTrBMFGXgCWxmjrdRo3C4xjSK0ComQ6D0IiNrP3f2Due2Cri892rSN4tUheY73\n",
       "cnjKi0Y6ZSiRWi8oI4AGqHsa616/Xo0hTeuSYuHuocSV2gJo3zCDSWlxjuyO/3cfiT3ttg56q7+Z\n",
       "j28j9IFC99o+y8EK9F9Rf4nD4YKw/507wzbwQ4ryTh0D/h0CSSQkB7sANgV8n2Cxahc6KKxF+2Zy\n",
       "WWbd6TsfosEd/oZEphuovrR6N7Bb6Aad24g4YA1A7Us0Uds1uWi4xEH9r/Hyka1Jb87Ds9kSQpfR\n",
       "bpc59iX3alizs/cTMbQzcfeLNam0T4lvQqfJ1EVQHa3yhvWs9evivxbWn6bB6z/Dn1z/XZhGUUsf\n",
       "eNvl9VtQYbjk6zBH+E5d0ijkrUwMj1Qb2eut1Z8zQse947mpY5ZCumpP5y05dltAdBg2pFLWTVOc\n",
       "XVPWMPfZpIvrkq1CBINmcBjlfjNh6DQ3p6YD9KBUAl0meaiZAcAAAALaQZ8yRRE8O/8ACYOSbeQx\n",
       "ne+fvRzysFLFhhTQAnZ/9PR0TxkrzKpnwXqH5liOHOF261k3z04Kq62gl/g5rd8qWgUwXgTdnUYa\n",
       "OUtVYloaSz1Q/IkkhgUg19Yo/mk+ey4b4mC7piZBilq70ti+4qWhUPW06tIT6DFzsee/8OENxtMY\n",
       "hUV4c8BJ+kkQhq0xUIuqj8Kss+rc2H0PoiIfifn9yeybTk3gaq+sDYVFe8eohB1B1eKlXzR7W8J8\n",
       "yd0p0S/qwl1YdlryPmBPA1LW0xlX9yMeB7UPI/NDytsJF9aLhpeDvUJ4UlcnsEtCRLVO23N4Lxjf\n",
       "cCP5WgG/K812P/ZJsNV18rurQtF7X0QB56QAO+LRautGCKkrAC2rnHFft6asEo4TdR1/dSw+rTOW\n",
       "/5S57XZqZ8SeIKyGVmNXgw745QuVeKpBM1ErVJAWgo1k0tSeWm/MSYfpar2M1gQWoiQisykBrcwA\n",
       "XwvsmkAggxX1LKNSEp30a2fv/1OeBoCvNb645fvQnINKmypWQoUVCyfNys5EErQ6DHg/kUTCWpCS\n",
       "rNm7mM+3c2qdD/leQzAvdPnABhRlZPvtZjJtb0SluSpG3wojjXwyntQb+tB8N+3iapVbNtoO/XIO\n",
       "Lqhnq/0M8e0Ynstc9Vwm0noPFZSGrofSqsEePoQk1MuWZIaKceXepklFWA4fanMXIj4qQHquaQ5Y\n",
       "HtagDHBTU7sM2hwQ8nh3zbwPufx5SXmaZH/KViQX+hdGi+KZ+Zqi3dbkW31kJ5Rc6iX7pnooF055\n",
       "AMajN/ONODaDszzbhNVQ8/xTPDiwnR6ORzhe/9lBuq146rf//dBvdyVmIX4/1Xe6b2nRpkhryH/A\n",
       "PbgDN+jPwsFMlPnYdhI23Qcrl7QmEbcHkre8ByRZ1k/afKUhsUKUq/kffZC2aZ9/jYFVPl/nee8+\n",
       "L0SJ0EsNBNlOssCmS+kpiKYcQ0JIxUydTLwEY6zugQAAAfIBn1F0Q38ADXwvMMrqIAHGrQBMwZVA\n",
       "gbw+DykBKaP7+G0qwGYsrPHAiH1h+nU+U2HBMSgvfWPBt3AFWw7+gRPXmkBViTWFh7DewnyvFh0Z\n",
       "GMvYVTc9dhzNmm1/GSR+hQLiWaOhN3Ec8Uk+ejBrX/wKIytzbXvdlc+azB6JhlsvaF2Ew0MOH6GX\n",
       "tzDwzUKbTeY4SrqwAuAEF031Nvdp5tIP2YbpbeeJCe7NK9xuc6TAwEKeQjb/iF7uzY20l4A/W+yb\n",
       "+W4mOjaUXSrFnFKSJxZUn+03S9NUC9BOyoX3xYLhRaKvz6lss0beHhxgi+tYKF6SMa+LBgGFI4Ja\n",
       "Mz4gzbXI3iLiJcytTSoeBtuJJKo51L+VykK5hn8ObGeCQOshMCoyL2ubd/Pt3dUx8XjgTUF+yIeA\n",
       "mlFlnxq2BaMKAJJ3ZQlNw9gvrBk2sl/hVtk72zIBzPok8mxa6cfgJqfjlJpOQZH2cZVry37vJlpe\n",
       "+h7hTrysX6o6g8E0mpWCLy44DZrN2evONkbI2Xg6OEep/JfxVKICcaUo+10s2v7h3+BH1kj3vq27\n",
       "3slctTyIoM7trhUdy2rUUaNh4bWz506xqtnEyCLp1D/bjex488a/xHjy093Rahu8bT3HpOLzYbK1\n",
       "lCqQjkkK17mKCzo0FLn5rTPg1IAAAAJuAZ9TakN/AA0wBk2zMZD7CoDvQRkv1yeEotVkIATT73zr\n",
       "xpB7T4MtKSyit1sW+A33w2cpXwB3RWCZ+RZxwRLlG37UVYxJAykoaM6WYUHVM9gZ+6GBGRPE5J/w\n",
       "svQSondSdJu+efFkJZC1qt8LMOT9uiSDzdUI2dFUD3PplEwDkHbzdC9815hyzN9VO7etYp8kfMfY\n",
       "SDmz6cK8UUnK7siVSP+5JMOzkyXQ6us7i+nSCNl1ySyxQ7DICqxnV4c6JakwHMpzb1s3sAkSeyoW\n",
       "kZIKyGqjBJ9b7zpwbG0ys33CV5+tUsEP8BeKNm2nTFR+mr1EcJpmZGQwIKkv0WNQu5Rzy7qbi5al\n",
       "taBoaUjV7hComfz0ZWe5axaI1tFKQC0RR4QFciCSFNzaX22UgpHbiwwurEplxWRVkISceoN55s/x\n",
       "Khjg7oXrA5G+GvQ9TLPgkLOcUYkyuQ4270c7gtI5fLl6rMk2pdEGysn6fOT8Q46bxjUWZr+6BXTo\n",
       "YYMiuAKDqgLpM82ylPH0keHWPA/uGAHbEaOw6huSCVChS9LNRIJ4EAH8ZXWfwpzbrNpkovz0KmF7\n",
       "90IejJ1qyZa20d7xjAaoiKTOvcGQ+uVwqDMoKhItU8t7n+c+PiLqYFZNhLu1xQ0lxYfIhkEqOxYA\n",
       "B+ycxllqPZeXCBwI84hNjB73S6yrcMQAI18YteSZxgdkL5U8QSJkKIaXUst45Xhve8WRyhlzk8M6\n",
       "07QCmgEDslP/7Yy6UAkydc/JnOpsfghkryP6/W4HQiIBe1W87qCtxRU3qOLXmZ5jF33sso8S70k/\n",
       "Tiw20CT7UAUYr480V1YIUB4BJwAABipBm1hJqEFomUwII//+tSqAABOfs3TWq4E84AoEdKUM4zgA\n",
       "XDRfEE4yWuSJGmm9aqz6NjAc9uQo5D8gxGKh8Wfu5fAiZf+U+M+ZN0eVMzDyR9i92nLtrqjub5+I\n",
       "xC8cQ/WyGUdPbxrUb9kUSqpANe4d3RLSitIbJyxxUyzuNZjEGK5NDWZmVLArXig0jUzskqZhognk\n",
       "+m1FffhPCMqUZZoDMOPks0uGmv+w7lHAwAnT2hGu/X8sn2K6ZLBf4n0Ibos/jkw9VsTTBh3LeFex\n",
       "oxw9RTlxyTr6DX9ZePsqggXYF0L/htUTJrLlFyY3M0FJqxahHR5G2YQtUdlqNxWxV1O3aa8y427H\n",
       "/k+OllS3mzFUbwl2cxrReIZA8OvMqpyW3Z1lA8xOH+U1GSpyKiO0PLYWS2ApO0NRW3hp2wSwPa29\n",
       "gHpT/RrB6iuLpRZEKcL+NdoUmgJiD83bY4aP+aDyeTtV57awpNyUmhAtnPYwUXdk3/6jB3u977vt\n",
       "dmYpENrgWjP0G6Q2ECD4vkSKyUtxxQZg/klv1Ndq7bU7X31VyZ7Ckwn33323Dde3RhvZKar5ax87\n",
       "cJmcDe+9FWFM7VaqsZcbCnAXnWirodTDhy6uww/IDfDiSv88dq2bcReThfcWzXps9MVOI7Fm3+Lq\n",
       "rfH6minzgpFoOrvFaZCHffJMy5B4zLBl9c1D0/3Og86G2gEBOShSN9b1kLNl/sd8JrAJNvwabsKy\n",
       "0xrIBs/OnisfhK/vGm7wvOmrbS8d0CJ8PCD3HsMV4UsI6xAtvVsSDx6lszuvFAVhAEUqh7QVWvwO\n",
       "A7zuMf3S65omxx68E0AHszqyyuO7BMWq8yaHPRxjGmTY8BAQmIpiQ0Yq775oJiKAb9hjjbTKan/q\n",
       "1atvIbFghi3ICcMyven9IDAgXgV7cBo185hORW8RwuFpo203koJAIprk+dkBnVUgQ9t74N1veLmo\n",
       "NAz6Q1IPaSWXv1Ggk0b5x7JrF1Y8iXIJWO4LyoB+1LxyRy6Ujke1sfIlZjFg3ox9KQo6jv2TOiHf\n",
       "weKSeLN7Rqh7bTSsfbOZtJpmQ3DZK++Zj4hz0dKQRTeszVStmO6O711ddp6KTyMyf3P27k2fG9hS\n",
       "nbbxMS9eJdmt/yxlf3n1x6kdF7pskU+stx/gwD3jyfi8c5bGe1lcFrnXN0xXockL5ch1eSNCZsK3\n",
       "dPWA2MzMiYuiMzGizsLjDzEw6rciSACk0lyR+QRRsfyTrNlOVLq4ejQxDhx5p5iuVzj+zZWME2Z3\n",
       "8UK5ltkXEfKzufK6S174RadtW+rlAd50gUwqgBxE8/Bubn46NG94BVt7ykwx6ZUbHUfg0eHr0ct5\n",
       "EPhfseTZY9e2qJtWyWIaHS/IUoUzN9ICOcrVp3lMw89wYGsPEGGi5CM1bJrQe8jXLpFlxFvL9RTK\n",
       "U+mTp61K+DjuoPpurLECFzX0WreiX926tE3UEUQrpBclN+g/DJHvUKOem8mUc51yvoZMHCKUQAPN\n",
       "W9Auq5qMsQ8BJg8YTeaNOdY8rjUWNHIlrDFIEVEdgiuRKbAt8SPLDugPVdUIGNvQHRDHPhEk59cv\n",
       "JATDoqiQlqoAad/0FeHH6okVi4L+ts7Dp9M6NxJbmq+T6iXvv0upFvFUxekJ0fJu06en56Y+S/qO\n",
       "gTU4U+aUcTbMhblKgT98wvs2MKEoy9y6heBmELNe5AFNKbX+CbdU6CjdHe3fzEKQBYuDcGRpvUTt\n",
       "4ffUc9WwL6DP2nPQGUEB2rWt3OkI0m5+Ce+e6Shm5roJABJWhRoxOeTP9PHKMDaOhzyCcPw3SBPD\n",
       "ZevXYr4H6i0fTxyKzIrXPmRRSZf3t2Wsm4Ty1dazBUVAqj3BGv7UMSSaYCQaEULKbymIqppTzFQm\n",
       "398zgC/ygpkaiC2LGTrowPcgbTkg2mvQgtHf5h9p5miP6w6+gu7KyaHciUCbilULaUlo8ZdexfEV\n",
       "DuO9uwZACKCqOmJfBtvsGwxjHSrSdBYOOHkgaKDarTJS5wK1cV+nXCLxGCWr754MdEEhzvQZkH7Y\n",
       "XDXOVGkaJQQ1JY40/P1d0+KA7gratpWs8c1WOPx2EfFeyt8+su+8bKvHfmHGd52E27X6wfsN2pr6\n",
       "BWCyQ7sAAAPRQZ92RREsO/8AA3pH7SomxtDlPbeQsvnB/oWABJ+2Z1+lzxgjZ984sK0+03EzK1kk\n",
       "mab1QRrlk9+RHYdj4eO78fH6z55AFAlQdSyC+13iIdluJ/SA+beaGcEkkTYxkZ7cJA657QGQLfM+\n",
       "k9un9J5Fv+jFzVfqifVgYxpHuMMmGZu4FSBXwYzh524i/vT2VeGEM1rsNhGoWlYgGp76HCORw75S\n",
       "vqeLbzYbu20Pc2T7PZIUjPFvzmzGCNBsEPSvaN6xaOOy/Nvn6W/h5Xoa0yi+SiD1j8xdmDX1B9c3\n",
       "DbdOUoevmLsmAO0nstJwKE/JsU0E4/LWK2mvH6OtdHhNJpkI3FYzN8+xlTSrHJId8LUkeA0WQsCP\n",
       "v3XLzbO+R7iAA8B6h2/I4Lk94Fi5oHuICSO0pe0In0+ORjbPcn6Mi9G1B8QgR3Wq+5IJUBi3Juez\n",
       "V2HjvJ+wLkCZWGbjJ6kKtbKD6Nf9JGhjBKYdLKRDF8UlzL+Akm7OCCxG5jBctSMFnzPdS3xd0BIZ\n",
       "UP5iPfsF0XEmS8aDRDAWy1DmKsHOaI/TH/DpMedl6Yz3Z3ObKP2Cj8BLhY/pKEhX5x/OVvTbkiCb\n",
       "t8a1Y+O8f2S3tc2TYl9V5wEIAif87d3npbL/cWT4pEhILlfNLBFhNwH21JZga4iPKfJlHdhpShvJ\n",
       "gyXY2I957Xy71vGyF2GdZllyF3Cj08Ewjy5hmsQheRhQI7BmiwdJgdi6TIHQvIIlL4A/ioZPx6tv\n",
       "MRHNmUd3smIhYZHFMLY7avqUUYcxyjyE+YBGBdLGSA9Dt3g6+rYd8/ulSAC2O/DJmeUHyfzLiJ4e\n",
       "FrP7iESdoWbHYqecfqru4oOL5K1ER3SlS03ctOs/V7SCdFzavi1uceNmPkcasOUcC7k9jVqsG/e4\n",
       "hjI1Mzb3Y1U6zyNCKGj8QAkAGmOus13qp8EkWZp5dFR1T7EzDw7ETjoeA3GWhn4nzhubojAhw9GK\n",
       "Hjf2Av19lHfTcXYsYEr5Du78CgBgTJc/NPBDPdDaisUylEV+UwAieG6y96SpjMAY2Vvz/fv+P0f4\n",
       "dWcxjUlZ7pUetiWFkt7OkkWL4fNSST86SYeDgek0uUcTnTi/2oUwQdNq1qt4qNEmlObYvMZEW9jj\n",
       "0/SRS8RrDJoor/paBI920BMdzkX+1E2fgumLvQNGQH9lEK9MgZEBVBiX3kBZJiPcfTCs3ztHltPL\n",
       "accbCy1xF9oiAHYkAyLtWnmWYZdWesRFfSGx6xijmhEVPPNT/qyUYcg23Kj5oNSLvf4/qjdIrBer\n",
       "Fuoy1rwhHiBjxksr7tGAMSAAAALQAZ+VdEN/AAT47oztW8TTopUolMSXbzE/kSLd4AJ1Zio5yVIT\n",
       "IQJ6ZG/gWeSpygVCSZ3xR7EHk5tCxMFgzTnQB4pmiD57lQrf0V/0Azs3JO9skFwGYJuCytugYRzm\n",
       "xe2QMnkN7K7EG3Cs033I2wt8flZGHsYCmczFbe5AhJ8wx6SjrR3Kw+U/kdLor+XQq8Zma8ky6u6+\n",
       "B4hOpu7VdAswnK7LDP1pmUev688EFxAraF5dH3dur26+46d8Z89xJDWVUErMJKoP0n5Fxa4XWis/\n",
       "ZM17fcXDLZT3FrlpLGPZ3+XGRY+pCTpqVGj6RyPDBGariQO8jl25EIyEm5oLH4tjd5Fb0A4i2w1H\n",
       "5LcGDfwM1bIHJvGnRCEDbVCZe22ubyRxDKDFZzQ/Qvxu0aqcYg+MZzNGWZyg8k5sT/9g1STNfDHL\n",
       "aeQj0VlZBzYdgyULN0ZgP+CoYBp8CU1kt1tOgQbxWC//VEeePDVRhNWKhNKtZxGmNXHvX4208fOv\n",
       "ZnODK/uIHz+JOcnshW1/CPHk5CmsOZ6VMUpmSjHsTzB/iLuSDaG+QrRkgYy2UAdf7Ml3jxYz1hpN\n",
       "FT+/thn2qPKmzEvsVqEXlwEhnmOCVeaWekDC+Uu1Di/zgeS2D/Tj/grf3bz2lEhvfLrCRxozXqbx\n",
       "TJtY1/gqR2oSKKTBOEAmItjpJexV3ViijJvM/pMyfXa1E7sw7xPjMshUQh5c7wmoTRAERfV5M+kx\n",
       "xvLt05qgclD1kC/Ga1FD2UUErHdpfwJTNznu3DgLD/W2gMR+nQc/iQ+sNMa1BWNXqIH5sUeKEK8V\n",
       "ALm54rtDX0GH2YnqN8XGyetAjXcerNp626NZlrQtjWhpirnJSf/CeLRdD1szw8cppwBLD0Cj1EyO\n",
       "NTMhpRm57kkVw4QYbQEgghsVw6nEptrAhp+1x7YFOSUpFe3PdcljzJA1X21QxgbNJ7MuMWQg4NSB\n",
       "AAADLQGfl2pDfwAE+efI51VIir3+HePkpGYNRuSYAP34kild65eyqcqr6KP128ipQq/KbZhU5tZT\n",
       "CspYn7GCs/9hvql76S6WaeZxMI9pg9K38oliPjYH05PH+IoXwLpaeZJrHn3S0+m73kLYM4XcsKwQ\n",
       "I2RLGD+euv6mjBUzAYRYSks6XgYUk38v1mJO7Pwzz55WF96oEWXDP/OSk854deLYwfvaKR6p3Rns\n",
       "yEnZrPCDABtRHBmt7ZMQtfZgQwW/7/fu6cJf8paM6cWqJcK22DTVCwTB90C34FRTRPAmFUKfsrhp\n",
       "eXJ1AOOBwDvQObwNPm3IGoUG5QYV4IMeflbBUCGNs8P3tlO4W5L9Xhb/yfBw3xtjoE2Hur/B/gl1\n",
       "gjUIU7KnP8aQNmIw28rnGdyiqOjJ+QQaMasTKme898lLRGo8DlzTvd0vEYyKOcLf9mCm9e2oQzvR\n",
       "5gEKO2vitHXIuys3XC9xaaf+upcgCMMsLo6RH1HX9gxt/J2/LdAivyqWqyf9asbaXRYOo3ifHqfT\n",
       "PtspgpWVA9PsWjF7uZd/1FY/u8Yz3mzsng5ADKeOXGaV7j81pZ7/pLxYs3FYqYaCcRaiETJwwFWh\n",
       "RuJvsiOd5xdfgnKVg8WOIAs/fPIyiKc3PLa0MAFxLBpNbgbRr6HrbjAkI7fACrqn/LOCdsNdf6D5\n",
       "z2Kg9HFKzHIvk5+FDkfdhcvWI8NNx/YFBecz0x5MbbAFdhaTUKYLCLECLWQ3dbq/o4iIitjX0uuZ\n",
       "TIlSl0raVLflNTbpX+T/MkID4jT8/osZi1QwuGWP00mhQKVse/C1VkEZ92Eb3NI2wrls6m+6suQO\n",
       "f011C09RKFW37sj840WFp777cGCzS24tGMmctg9oWzIV4ZF4wkoTJmMXYFqCKBHPmRZWl6RDfxRF\n",
       "uMBMtMYfk4m60oOscHAvSJvUFg9osKM6vwl6jGtUbOM1PW70zSxfuCdDwW3ljSaV/fuyPyxVwWRW\n",
       "ZxZgtqONw8lT078Z37rva5J0qVL0UM9YZnE/06Uvfc+JtgTQAaGTGlP6WO4l8GSJg4Tb2UWjFWoG\n",
       "02skHAb+g+1y6FvX/zlXphgZ8QAABflBm5xJqEFsmUwII//+tSqAAACcM8IT5ODNyRd98AAt2Gxk\n",
       "w+FMbPfiQAbM8zAWTP1WZwgqf6PobZgSbKSxXCJcmL6AT4Lpe6+FD+CLajz/Nj7Rf8YkwFQkgymY\n",
       "kGTtd6jNhjAkM7blNhB/e4xqmej2KuNZFiuliLjtRs5RXIUOwQUHX+qW+fKKUKH46geujYR6rUcH\n",
       "LDeWJHPr4Ml0aP/FuM+P1ZicicGHOb6VkTVbuciVhL6r6UiJ9nLFCncY1j4vqVqorCM0Bida5W9A\n",
       "/v/Dgu6VrOtlSiZrP4U0MH4/kW3QVYEjz9Um1D02tv/oY/+pdW679V3vuxtmy6SyztS34bsnEqLq\n",
       "ZZc4IPKb/VEVjvTjOGLiswK4Sewym8jSrYoP09uibxRC0He1b3GL4s6IlNymUwD3RVQbcnppgT2Q\n",
       "KYttxWFrKuvxgRqkoUzoTm6De5bB86UmUiKbXuSucfyVBOTc3/F+PV0DayCw9iLjKGb/nUGKNsXt\n",
       "0aRwRM+uYglio0hA+c3VMgb+PoX0kNeWbHUy3MypYBJoTynwd+4TxtmaxQFwss+YF9rReugbHyHy\n",
       "zDfOlgF/7GS2RpKg1chuQJHEh/YdzlMFzN6SujQPoVPQMYH5tmu81QrpOfFhsE4tGQwMEa+/KEbu\n",
       "ce2OwJI7deSHEJ9frQaIfm++ngqoWfjjzg7e3s5FF/ou9erl0JQWJ5GVkxT4mU76/q9eEKhaJGc7\n",
       "GU7zmTTQtUIoTr5t4HZI+i4Gg+KfaAV2zf35CmlazEijD4Nzqa1GDNSA2hmDy9Xdy05pKRZjnQHv\n",
       "DEo6mF3M1W1UbvQ8MrYqsq52vEGKFO4K2Vyw8WA1FIULfmiAz7+B6xlM1C2kxhXsTkCEZsd5ictS\n",
       "qWaG4spMfvKKSP5Zl4iGf6dbvgODbuzcwPKGCe1eWACe553DzlNFwfnjrOsUTgN/kQ6rKL5FWktH\n",
       "uZDEpYiQYMJlqKc91S5ubFHYbsyxZajj3lWJosxzM3mh4jhU2XhMSx5ZPcDzBQQgE+nUgw1ZI6R5\n",
       "BPpcwv4uAVbuQKrMua3GyTskk9CTffgR2UW0YIsi3zTvtJVBs2KDtVXq7th/YcOoWGgCLFvo67Fa\n",
       "TBCEvJRQDTpISuD8w2QbGrVAzg91fXy/S8mwqXGE2B5mVKCPalFLDPwU+hYscG/K1umKWjba+EYT\n",
       "/SFJ2IMpnqPO/TlyRbqHT0ykBg5bj/I7Wb2PerIUqa73WXNS8fAzhhbY4jdGRv1gkz9OO7yuY+FE\n",
       "o9s7F8dQJw77JC2Lt6O2IA5voO3nilSOHMPUmMFdCTiheZaTtyWojMMJMbOLUcaUMuxTtvW6wGgv\n",
       "ylxpLyv3wW5nSnJEGQ/kxUZHjQPp2hMtLXqBDV1GSDpC5MXm75yLLyshi7/HQR/7tqBVoCbotwd9\n",
       "w4wzEiO2/uPMm/fmDYw459wEixpKO/dVSRKrbSb6Qiv+8cuOFRmOY50k5hINgesjdw0Z1C+FUXi8\n",
       "40xPz/W8x+KOVwgfuzHfDsKI0K7XxCZiet44S3gBmHJ9znRTJGpdobAhBpHsu5ZcAGdi6wmPiZMU\n",
       "Vky7cbPK1Y/kHsjU6VzRwPiAZ8AolmO5Mvg9EHccxc5Xt3p2yY1EyC69EGp+Lz6ImC8TGeprcgC7\n",
       "wYeDccdIpSj67VCLhqx3oH8v4RBRpfJHmPaEAx6Li4dBzsGvIcBmG13HrLQ1uRa4pgJoJfnUCPrO\n",
       "VdS/ejnyWYwKwXEKsBAs/2tbTukXUNJ3HMCn26ZWTtd+AcNSf2Ohmdi0VEvni9IKtURogQP6TFd+\n",
       "P4jy7vnclaDNlXXgNR5UofFuc73/vP18DuL1v0ZS3P57qh2UgRdpn8G8mTPvoQf5bPyyiVmk4Eli\n",
       "vj0+MSRltoZ7IPMiXs5Sm/WkMr805ohj7Sp+z7dXomyV6nmszIXaj/eK6vU04qzVIi/nxt8pRXUp\n",
       "VHfTnahmu/GKHJHNqiSCmyho+Xr6pgPy8KzHygscsjXZvaZ/U59yenOtAt19WyPPtvlb6U8s/395\n",
       "Qg//w7x2t8Oi9j5W6AAAA/pBn7pFFSw7/wADekftKibG0OUfhjxgK7xnXAKXRUEtU142HpkCWi4W\n",
       "AD9bQ8YIBitS2WDcaVUiRlp0jR4B+fK8Rt/tQKWhlZ26xN9GJlIaxmmZ98Kv/9n6m5VLiatgECm3\n",
       "VRUfJ9B6nq9nvl6s1N63JZKZB7G6l/g6JOGnU1vnTNSwLijvLmTnpDM73Tp4W0vVFn8X8kauba0U\n",
       "TN0H8Wfyz108kCvpFe8B1xO7OdhYwlh8HCYRvMURvjO4etcKapnGhrD6VRqz8HHRgaD8Em/NlI1G\n",
       "58yoTIXkoPojPwD3Aiz59xh/8/FZR6/e5crgEgIx9/HVP46fyEdCJ+tO6UM2DUGZJqQTj1oNTLRv\n",
       "y1cVaKyNK3H7/9Ud5rQp7v5kX2XuTzngL0HdUNoMxUEkSTtyZdQ4ioZ9PqSM+Dx69qToYrfW1YvQ\n",
       "JeQeUSGROfyI0UHUHN+0WakSzrRDIazMuFZAvPeoqVFTXmeW0+8Ypov2w7p/AHTtBOqYVXY0TUGL\n",
       "KCOQOZ27RjaBKcXRx1mEQzyObUMCrgU8hG4mFw1OCDG6HTSMOY8Hp3XlVthKT/AjxFdvh4wMDdr9\n",
       "GImLjmkYhx1CuSJ+1igdB6eoNkyzWzbT9dul8w6wLEIl8GBM+cfkRmCNmrmCVorLoh1q9UKRGYw/\n",
       "Usvnu0QVC1ZvzdS6b7BbCr29xWMg6e25gQsDuW4b3MARQoruZLRJbO3RDNrwtkRP/fnnTRW44nXV\n",
       "Tv5tzhLZQzLbYjByoW8EAtfGTbi9SMGhrTNkGAuDhMmcVs2IQ+dkVf0r+WkQNLK+j04gji/qoGtQ\n",
       "DLCriF0+PtMvawWAD6ThkL7KNwwn7F48UeQ9/eDvgExWPY6wpwBoJ1WH5xlY4kt96pQIq6aZWGvH\n",
       "z9v3BMc08IqNk9pELHrOONNpCBNPC+OFoCIv6zUt0XlmpzfbVu+rDyHEwmr9kmHa0gszHc2wLMcs\n",
       "2wrxVG43ICkv4X+L8y7Cx3oEgDZSOIRXtMv8R+Jbfvt5f1mrNVGqzEns/gBnrrqFnnnONOIjPPOg\n",
       "vWbry7q1vkrqjAcZwdfwdJaxpip64qrDh0DThc9FelH93vsiIuiKBkIOwpIcB+/2kfcPFrIPx0tw\n",
       "RZHJviYyHyxr5XyghTIxDpABx4aXp3i2Gh7/jo8O72PpmXQ1kiBKsbmTiHmfem/nHIDp5JZWOx3R\n",
       "Iv6sYGFksvvf97a7jsXoYIIJpHHkJJtVMTDlunYJws4s+eoRSi9BWXuKs9qStbUuasg6Kmwg3XwO\n",
       "2LyEWdIvOqZFQFtukn/O0JGkOYNeyRkW6UbfVyjhsN7OOCH0KgsAAb+Kdh85oTWRBmcejeB0GZKH\n",
       "juXji3FdclBBAAADTAGf2XRDfwAE+O6M7VvE05ODNdUDspSHk7WhgA/pCMWSSWchu3Pvx52aorhr\n",
       "3IWoE1pNiEzYfT5xhnoJcnytP3SCCRi/RMEJNAFqEoCjUBV+82aSr6psOAvBCJI2x1DG9IjQUB6x\n",
       "TCu56alkDR80h+UHU4WXwZfBIIQNseYsUwtjj6XStdstvH6uxD/KpwgOY2nVRUkkP3BIhRgPE8is\n",
       "LxfbS0er7MQhTDp+dbEtEhrBHz9J3b1BixnNEX/315f07OtUy4SldSl9CuiL6ZlCQOydmnINxy0h\n",
       "xSil+GMrRqOsunhNGo9xfEals+RrhTF266zADV3Y8Xc7iEq4lr22gTee+xLGyxDfLzR2tqDmDnQ0\n",
       "VoZhTtr0Pb8dd0L8t7t2aSdqWqQDNgwKVLJKAE1HFHH6a+jCMvwBgKvhqHL2QoiGzEPOJMvHnlvu\n",
       "E0F2AORbJWbxjjtpeFu6P9YlEabchY0eX1wBbbvmmabwkzUr3mT1MjgYC0NsgVceWCA+TB8W4RqE\n",
       "8Xa6D3RMWEKPBFcGzHWSiIEM0x+NyBnmxviyLm/HUdkrax0fagBgYWd3hj9ph9DggDzaJGdpxumX\n",
       "vbZoOqxz26bilgJSFB7Jg9NCIlX1o++YKdfXBUz+/ZGDH5BIZjH0DeAJHidsAAckKt5vuAVQVPKo\n",
       "OkJ12nUsR3XA47X3mqClOFMINZFBTRvofGwIH9042JPI/v15lsqEDB2mndtd4n4YJKvDZPPpADUT\n",
       "F1IgLqDS9J2kgSa+Q+j10FEsnKyuyjHCxpn1sxRitTWiaacrryp+nZY0psvzFO98+QTCDB1frrt3\n",
       "VLQGP9wr0Epfg0G+eHmZTkchc8K9kfW03GBbBfDa5JFJQ0HE7y53P3DU6vvBkNod2YsyifajjQiZ\n",
       "gtmjz21uyMt/hySzIen/NDW7szgyDCt6ddaI8MKAwgD0BJpkXcbn2baD/C7gEpB7MjqK89aBeP7F\n",
       "awyWWLj6u6D4Cj6PJoyJuuWe5qZU4PGSm2paFKdc+An2s4mZBJhwWHlTyGSb7TJf8Opz3T13e2zP\n",
       "uktZuH4oVnm0oKa3WzgjyBJB76pz0yJlxuosjuytBCzJAT86bZ/ZgTfkETdbPVeGE+2pua41DF14\n",
       "DVgAAANaAZ/bakN/AAT558jnVUiKvODMkzRI0MYKLFAC2QWYDKC6Wxc25vtOaZJIcfXupRRMdst1\n",
       "8GBIMgHrByZ3YuxS05xl0++RKWl9iBPHah/FxVVsbEu9r3mNP5fixDJ4SPydZx+yyhdlJaEcwxV4\n",
       "lwbjm9szIio8Mc7Suir+Yygfvbxi9jweV5oeXBHqV3sedvg7f5Ax0/y9SwQuE5oijv+wnj/wFRSL\n",
       "6/LAU604EUpxjTx+Yh9uUHWPP7LhSuUWq/ETIS15Olj0mq5PLMI3zmU8pC5W5NETeebFqiNt1NAM\n",
       "FelwLsYmzei9F7FSx/Jk8pikOG3D5J1E9hW1V4yDjX8n7NsMRuNx3HGVnDrcZhA4c5ayLVmzG/rF\n",
       "R42vilUeYhSbLO8jkChOULhMbxezEpfM0ik0hfCjDM4p9AOB8YPrd8ORZetydUT6FJwvxXSOvBE6\n",
       "y470znc0Fq7TueDiezuOf9UksY2DmC0MfdUZ8yW0Wb0B47/Tjy4xOCUq5BpDdT6pW9nRaSgPlMTb\n",
       "9I02MEua3h7ZkRHtLBYS9uhZSjVNDDYAuFYueXYL8b2ZJiWhTeZpiEaNov0X+G3fRA7ttNOvhGRB\n",
       "Y/J3MAb4Ae3X0SwfB56Uc9rKd/i+x/7NwVonKT8aNRkBxYjoAHIZvc/e906ZyOVh4FGFR9m5nLMM\n",
       "9+rckx73qVQ3gxPWLjr0UOxzZDUsDTPdIAhFNqjiCRcGjc1b7wCfDPTUs17fX1FHgGrnoK8B6/UD\n",
       "0KZRrQC1ysLxod1aooXMuOPpn2RN+cJLZHD2tz97vN94q4Fh92OHTdmE/8nvG37s1v9QB9c+K0hs\n",
       "30kM+raV49qwQRZIEYrnE917tKbGah+GqIUJz5mqZ0HbzwijGzPZEiFqzNIaY7E8W9IYYavbvSqS\n",
       "YCCxUh1Etamxpm7fkvORo61In1L8at4gCIcWvUxbD77OSlFWulKHEtpHI+nLO4eDsL2JqbZB0YJt\n",
       "Yw5E/h0h9yLqjCfUpp/Wry+x3WnpqwRnoISjwI/1FxZ7G3oQk2A738We4YupL6lwzSHPFmalWAb9\n",
       "jln0m8l2BgF3lgh91zwt5tNGKChFr4nPYIPbDNUJO+QqZstDMkFvwzAaoSpvXkXzEdNgQxkSWwkN\n",
       "Q8PCQIt6xgrZAAAGDUGbwEmoQWyZTAgj//61KoAAAA+mclMHx/wAXsrT9PeV3qh4QAeV5l52wWiW\n",
       "NC7W1PHmghO6hD2jLvczQWsm+uPxofJd485clyrWDgCkjjO6inM3N6DRqEbQjX6yDRJ3/rT0Qhga\n",
       "m+OUaWBvbU4FFLUhL+0i8kXSV1tTg4Pz1/Jc5rlwuclkzDGFd7Svhac8lq6slhULq6pD2TU6gZKw\n",
       "+/WY6WIIAzZHHTb8wmJ0+1gHyGrFZxnWfjtLEuenp9PNhLKtXBT9ahULD5DZfs3iHTMcRPblRUrv\n",
       "joTuDiE13ntzWcppm8//xxRhnIiy+Bmp9uGOad5wG+MWWkqKtW9Dsypmfvt5LgOjxf+XmxRlKfFx\n",
       "zwcJGoQ1JDp8sx+lfjBZNOQcOI2cpzIsVzR0mWoyK6Xn/vgurDAAxHsYsfviT/7cqdWVfoX8AN2O\n",
       "Q2Ey6CzCcDgjfy60EsUiC64xbytlB0+EYPfn+N8wnVZ8fMXe9nDWOp50Rq+qf88XM3V0f/WCkPwc\n",
       "6LwCfbmTHGkWIrDeUZL+tkn0t6GebLhN3i4RE9ZoC5qm0qBPaM+moRz06BU2aIfHcboUwtFooBdZ\n",
       "tCEr0aycFu2o5xiTyY3pOYfTdEIJNjGGvpgRTzdEuAJBpIpw8cU1NRvNZ02t+ShbVv3JzuG9+Lwq\n",
       "dFql2R4aEWhSNnaQ5iNh8U8+FVizdFTO7hpupXIF8JzDy/jk2uSLQlLX/u1U9ZYWqNUx0V+SHQT3\n",
       "hylkbS3ut3DlIucH8kA8r5vN/VFMpG5FCtxWJYUsTA8jNU/fbmCOk6331hGPehtcETbM1IXuk31u\n",
       "vkeSVbcdjm1qR8DLqTYbiXy5e+QCpEyjfoo133ktU8ynEP1+c9Nu3cJIzC4v3ASs/JGlPYfkNy4A\n",
       "brkG9LPXkoFblA+2TPcBAD1ItRwWu09O1a545lHG5cRzDij7VfxTsOu6LAv+Eu2qu5kTe96EgKw7\n",
       "1PA25QEiCTqQystVz/EoB1SOy8eZWysdMkwfhKu132LrVeSU08Y1nIPSfA4U0fG6Fu3XwiSzrifC\n",
       "Miew2OsG6/bAU52h7l+RUllgz+fJa6AbioPa21VZNui0RA4Sqb6mcoRRaCFHlB78aLpq0QW+Tku6\n",
       "U8vUzAY442+GeETdwV6B8tym/TTNuXjPturakjOI2rGHh2sReZmJVdxEG8yWqRttpLS3RGYTDkUb\n",
       "bQDS49h+RS3W6X1S0ulX6cD74M9iFl0NlzrV0+2cgw1MYQUnCgHYFhnPD+xViHLm1lk4gyJrqBbv\n",
       "fDTHMRlkePrx3cyj5jJRTgfQOtzzedizN1STpR95uWSY8471V1GuXd13M8OhpMdXN1JcjWXQV8pR\n",
       "f8ebpuEh66siEii3qdS+xSidPNSw0wQhALr/p7nmJU1RImHxXTK+S81YFHsG3mgrXd9qHPfvBMeg\n",
       "z+zvdSt9s8eepc5c0jweji0vsbMuanppz5xI+4uaijKPNxBo1VphvipPJWQeZuxg3zYKyQBPi1Pp\n",
       "yvn39ErxB/ieOUBG4sSywkiO8wz2LQiX0tVh5kcID37Tk9/w9DrvnHU8oIFmAcSDHf+qkDkK14Fb\n",
       "j7Bbp3lU50mpdKWnFySnnKpV+Fe/vgm5n3pPz0sjWGeceV53fNkQa1/cxRmFBJ25Jmbk9TdxVEh6\n",
       "QZLkv9becv4P7yWhAh2a9cPECxztP7dIPuz6Kj7cSXy5MSxfaEU5xHdOEramc3vM5FbIKcreyoEd\n",
       "WgEb3jqV4vQaOt+AnaJEQAobIMDm3w6gom5XkXCBQdsELY7fvBr48SPd3FeGS1gLuduMKPPB6v6k\n",
       "CvaMIAefSlxcN22ud6/+Np6nCHH/h1M/8yGofwWY8FG6vJf1/dp3MQ6bX4tslXZD/+FJ/Yd8Rtgt\n",
       "XIebubLEBDYxcTnaNrnqHalwzOJTcLV+TTBbOrw5y5CaKiXnDKx227aVXltjRk+5cxehx1FVU2w2\n",
       "WPRj+suutODUXZDhS070/Xb7kDeaTSCk4Bv9cJhpBsmexSDEttUkILhGCaxw1tyq0T/H3ebG2ZNR\n",
       "Zjq5yNiW8m0Dhq6BvskG35w+xPf4OmEAAARDQZ/+RRUsO/8AA3pH7SomxtDlH4Y7UvGS2RFH4AEA\n",
       "JPxY6PgGzijkWPQo8b1225JA+XD+q2eZK5DxAsNTG9LnuZGB4UcF8V0zhUD96IrcYYqDnxEXMn5h\n",
       "JTncxyTXFMMkq4DLLckjqSl4s67FqAqgGnMqMcDAdNQaWgAObVUI1FfGLHbbJeK3nbkZnpnT3rAE\n",
       "4lhRYz4lJ5N6/Nc95yTo//sehh1j8WZFBifMpjaggMP4GPYGmfcPGZxT+bV/35rlb0gFAwdMfvpJ\n",
       "Lp+uRa1BCCQQqsL5wqcWuMexRZdyvG388q2iqhu9/080oOvWG5x2qlUr0ZXLOihG6o9bjagk1OKh\n",
       "X2EQiJdmbZzm9BmKSrSDH0BPbg2N2bhtBnehP8YxwBoMCgFeAJGp3o5qFF/4hCa7doHpGtctKxl9\n",
       "ZdcHHX+L1xCmjkjMWgmEWSiPpOccRNoxn50bXQgQnXM2xT7kvveNI6prMkegFXU4UGtCV9lcjIKR\n",
       "P+grN06lVH2zAHsViyWFS2JyYQ/7EB9Hd+MxkQwRO8cGgi6TzvnNhEBKaafAV7SgPOqw0gyiMIKl\n",
       "bRWWk82XPVxSRIKClzAtHfppS9n6RQOm4toXRjPu4Uy3XH1gA0uSEZfbtmbES8EGb3d63SVgC1al\n",
       "B8A9izXI/JnT/gEoBBdaxVxDPWX+Paz3vQQ22zKbMyVrg7hVKeF0Kl0Hvl5o7c2gWnpOy7+demm/\n",
       "ktWNmqPH/LPwlSCVca21ft7YSSlWGlinARY3F96FBaAA5ADnRTdY2IA9J2SESuBQtb9PaSFuG6nK\n",
       "ed+hIaJ7jFL23Y3lGNR4fksrJEYmSy4UM/TheYutR3wLIf+CTfpu13TVpBVm9dYoQOFa9U7qNKMt\n",
       "2Q/kW5mvlXoR9lXm+TxgmjMet3oMGtvVPrjIubAJe8RR3NmWfte8ipIdWTWt6XEY5sC5ndOUUzQ1\n",
       "lamRYqiet6ii+6uTn1Z36/H93r18V+YsBqS+QgFQtmv9v89Bd+cP9cL5DVWiTadSP4IjASh4vcyz\n",
       "o0N7iys7NPzSNOjYw88TFce20HkzHiH2UuMNf8aCqNK38BFY3N0T6LKLfCsxwHFWAM32LviQ+t7n\n",
       "sSdxVyTVXonCOU47J01ECEipT1y9HWkQDtM3RVFppwe3rntc1UBlWPCS1GlduMud2sebpgBa4PsP\n",
       "cnuWmzzdO+EglWNzP7FJpC7gs7iW067f0Nq0EV/m3lsIP2nF3Y1vC2kbdSpFGDwlWUnH/ezzcnbw\n",
       "XidIxexSnqdUApm1EOME3Dyv7z+oz5Y5QBxR2gozAci1CQYiXOEk95liudHwetoGu0HSL/nghy27\n",
       "58PO2E3IvFTcPLGJ4QPzt7HpfjXTJULs/fvf/5ELYepCsOmYGDR9Hru9T3NplCLdN+jgm5z13MPp\n",
       "II89xy14BPLB2U9raRfZ8LdQ16DjcZYbGnAFvv/X/+zBgUEAAAMcAZ4ddEN/AAT47oztW8TTk4M0\n",
       "HCQPvElAES7iOKDwvFdFLmfFUaoZIC0rICW+4kgcV0ZkVcOZxJDlxMf+/2JdvTjoVyScdxfLkNf/\n",
       "2YgkprnWKcWgZuxw04IVxPQ/s3UFIa2MpE/00+F0+un4FQPcifvRW9gUsmg77u09twqha2E/LCxp\n",
       "86i41RplEEuEIObOYIr1K64bFNOjBXshwkhHSD1G0BJmZq127WWWYY5MJsF/BjdwhcJxtYTCxDBO\n",
       "g68W6lWbdOwXP1wMxXEVWU6uEuxevx/O5+gCCvL3uZi6A76B4EhrX5dawS2fetUPjXCyFn7inCL2\n",
       "k3yLyjpEnTwUbW659bH+hzf2IVAlHMq06q4oUikusUea/tWqLfc8eTVihVoO6rbUPO+3yQI6rXGu\n",
       "W5oyBQnpEI98tJPhYLig/85UpoWinPyGiizy1C/CeMioDJEnrDz6qiZOAnLiCjBtATB9pTR7grSs\n",
       "+t1zz5l+PStjv/Y4VSGg23dhW9kIVUdV5HoBTqP0OthXn9QHbj8Lw1IELdMRbr5uklj0uD59exvG\n",
       "2tzYzXHDrilDsiQ1i/ZkNH9Qvk8EvUcfog/CKryph8fNOA/XTcZqlKBLfdsGUe8T6YI+3XPoxh7h\n",
       "8qXEsq+pnIijUb+OO67r2M4ihAO6a3DgoXxH/khSTvgSmXXq847AVNKRYUVC3LVKBeRUcWHh5daq\n",
       "4Q/7LcRPSEdnhXiR8GU3h71v19zAPONV/1ZXIsv+B5H/zS4kG/l3XpzQIedIVEZHYIMxjnt4Umi9\n",
       "+u0pAIU7YCEPTFGPuF1ujfrwToyHRC4KzyhoSpXyCC6zv81XPYBNZ+K7soqnyd4UcpJkVp2VzJ53\n",
       "RAV7tA7RzfPosOSahVqFvC1wasxXLcxKsbOUKp6xoy1uZ5moHyrFG0sq79ZaZxaHQ1PJf4xKd5e9\n",
       "3MV0fhv7zjFDyQcCj4CWSOpq5LW3yIaTPmIyc7/hbH2kFJeUk61dDeERRq7jlBZUXKRgsz4Y/kyR\n",
       "NdxV5RvqLjK0zcLoT0lfnsTbdypu2odn/PD9GYII9wPq5ehUwAAAAw8Bnh9qQ38ABPnnyOdVSIq8\n",
       "4MyKUE236iwAbuOrFqp2Ig/gifb/vAu7QOD26kswoLugIJPmdM2NTkjctSFl181Z3It9uz6eOx62\n",
       "nxkto55Q7pr//UEQKkGo0z4f9jBJWHJdCFxMeIfErsynUkhfdsXFWYxvVjtlpXVQwPsrk/MKX/AR\n",
       "BFIh8emImJdreE2nVl9HKvFzW74zUHJdsvsYRJ0JsXO9KAs8k/8J0uF+qUrJQN0hPDbzXQxsUZXS\n",
       "zibnXQwYrXPH/PuY7S1EF1aqyopkaIb6NmDPxa1N9/KxHU2r+yFhrvr0DLLN9Ft8WoR9Ntx1SvlT\n",
       "1AgVTuHrZ7YojKJjXUVkZWFCdcfVKFByYeV0Qc+qcBVvZtUMkKhEhG7kh7xZ1XJ64mlDp26MAuJp\n",
       "8hi4XCKp+YBaLsk0C+rlMQwiWoZjYzHXM6utSMWCTFqIS/oTHtLRXjtLStnDLaE+elwwrd8M6mJm\n",
       "OWEqFGRJJbeZkN/jd+nAnPbjggdK010YbBBzzG38CL4ekaR98Gp4mJzk0nxP0knGHa87+lhUp29I\n",
       "tr/LvBHdr9Zjj+SppINvVEYt3pdbIdvgZ9Ufy3kT2xZCFX255RcowbO2n+JgwFae7KLgraJAZIJW\n",
       "1UDynmEvk8ImG4pTIzqKS7zoo5ubjiDEbsPD6Ryi+22/UxX1CthGeavs5Z2qdJorek2KFA+3sj/Z\n",
       "KOKFBi/JJib4KFjQtcHVJPgRBS+YStggPIkN97aSIfPV7cKWslvzm7CEEXyj/7vnPy6+LiXVISrt\n",
       "5Xac3npJTbnXEMW8ZRBKpryA+vigV0zQeN5Dte0k9kqtQKB4yNRRLkpHv5CZXUkQ3H9R5CTIR9Gz\n",
       "AlPXlrg6MdSkaBm0dUysp6S7s68Jsif0GaFkS22Bcgbmo8UiaRQOPvoMNZOfg+aSfFTKZSHDx/0f\n",
       "DxPSNcDYPvSX1rzobxSrSn2sP9b7pgLLvKaMM2nIGzvbeVkFL4DiRQuoXs1eCMPwGMzPRWEkT1bZ\n",
       "fY7y98jQhkVJGYAJr5VVh1KqV8VFZK8RO6EAAASiQZoCSahBbJlMFEwR//61KoAAAA+vx8yy3jIV\n",
       "NiojEcADQkA653DLUV9NvDDbYvEver4iBs47iBkviZdtjnrR8OcyObLtFt63eSuZtsvAUdEVAxIZ\n",
       "MJqcdT3Y7YbvJoJujydZDLexmesqi2ujxg3CBhC9/UcVR89cCS7PBr7S/QnCnDw9Om3Oxh6vZD1N\n",
       "D6hgcwOK42fbfJup0ocKtA0NanjI07Ikhr5+pEtkC+TtYDqSBjN8DclP+zEqeGLQSHHFN6Jp+wYa\n",
       "go3wjJsGePxe7vsHHfLC3Fj/6arT1GlZwf4gyE9BCkfJIpYVpS17rrYZ+ELEt9E47QSCR3IvSg8t\n",
       "T5dB3mPnl7xQz2W+uV9sODhcZ1lleGGQ+vcxawxqHCsMC9lyiAgnBS47LbtOmcX5JkOvrwwt66ok\n",
       "07YXaXOY+d2bbg+jAYVBJw94/072NuA4sr3zOCL9oeEu5ezxC8WvdJy37WJyNO5O23PLQs2MACyj\n",
       "+nhCvdD7b7s4UchGMhAkvo3bEG4PyZBdQbEQNek3vvQZdPipzInLGU2ngNBy22cAhkbjv5NnBycV\n",
       "TCzUYGP29bxXzHKzYWZPRN9pFzJPBnALxR41dOMZvBSloLcwwARVK0Qg2TywCdXq0G7x/ziKIMkA\n",
       "L6VB1Q2SaTdhseKNJ/B3xzeIuQD7VKclpOwTo/E+TDhnJCzpjhwQYvw5JxR53yqsa2dfw2TPZLgb\n",
       "A92BDcS1X+TH6askhqhmw6ZBqPtJUFn5gNG6HV4GR+fOPVwH9rypdvGZIadbxemvFzys2y+4SzBt\n",
       "lVdu2V086meHU/gRCjwOyIzlGryjgTlwDWovedGEh0O8R06jZ98U45D8EWLc4uOiGL+AeRDc0h1H\n",
       "kKIDXX/6D7YFvzfu5c+vwm5RoRaJnEjFiogB6mteWMd9dL7xyt+bzmLF6hQlfOGs3OeVr1zfrwXq\n",
       "n2TJumGn7cMHQMs7inA2nR+GxPf++/S7hiFqTv8YgjVHEqEETZru/mkDHDBqDbbseVx7cEolOPgg\n",
       "++iIdlNUTai+m+XV75e/NhIiSsNJx8PTm5XCdqqhPq64zkpifCi+XNMZtxD9DEy28QgfWRdeHHaz\n",
       "fv9ykFW2RNftQckUy0wpGeULBI3EXjVoe30XpwIFnmmIQgAWm+0YKJyzUghxPZMaXgyk8Ugo0tUC\n",
       "JoOeS2BnIISSW00lGkldn85UbOq6Ay/kUmq/T//hnA9aTIULt9Df5KGJsf0pG1jHMsfKb6OOzDyn\n",
       "h4AaEPHsI2Y0NvLmKzK7zNsmnGRgU5BVx4yoQmtgwxZU3IaLb1GtXnaubPsKOMtUlP37CvMykZd6\n",
       "o48ylrzYdFSlwjEbP+VYSK/VpIWfe7sFti458GuNFUjFMkGJpqqy3Y8079PrcopTWwncu4oPSsGo\n",
       "9gsOzGU98BaTNTlvE8DpyfkxVy0C2L3hgXe/dtBr7WUvLBRVEVc9qPeBkSw4qfxOe+3y0yy4U3Nx\n",
       "UQ67XlieN6MVEl7O01ex6+QHvKWaoBZNVI6wCWqMMZGFBAR58d1dQ1yFnHCk9NaqOtrRAkvkRowD\n",
       "tRFN6xNF4KqnSrrTo68NPZshwAAAAwwBniFqQ38ABPpgRCqgqRJ3zgy/aG4q2txZrlkzthRzOSH2\n",
       "gAJVH8ef3Q8Y8Zb8coceGxOXflmDibm5BJuoelbJl7cE0Cyv7BDaptj2H74tZXaH6wZQ2hLoBEk+\n",
       "ieWcQL/GFtmR5QDkd4e9/RuUKAIwN5L+MwkVdMAwkNVzUw+Io9+87QcGu30GCO3rrZec5hhvFQAD\n",
       "fOdigiMYmRhmrlmrQ6d0puAMzQqI/t7XpC5qMMQemqcQ3gXe50LwJswXdPaHVTgrLR9q2LTCZm/A\n",
       "51LJ9/0oJCQ0AeDVzA3vgZNSJVqmd61u9DPRp4DVp8Qlsj8724RdNL8r9111xaqKuo9abEIYPFZI\n",
       "jVGrL8qf5vAG8wH7BRjjEhGPKWaa6nTdw+eAQv+qgach9oSUdakXo0377dhQPZIiGItstbrFSJlQ\n",
       "PR4hqxg7y/935W/HvlCSSPpQL99W6QnyEwoIyUlXfGxBGtgF8xYEtHicsQP278lvawEdpgU3cCCb\n",
       "hWBL4DHjmW/j2eF6FoMIGDydRwG85nrVBdyefPcS8L7U7QzRz6lIk8D9d4ZASFGYMZ4ggMGVx07A\n",
       "9K9MOL9ANLTlcTlzJfasvOgRMsuxoNSpz71Q/wzO6qsT2eYsusDLajO9gi18vneRgf8alDUkctho\n",
       "+tbd42D7PflWiyOVv7MLv6QNIrdFLz149GuGyc2LJE4rQjxhwe8v1mA/6I1sqoHdCc0+kqxtReO0\n",
       "zct3y69rZHu7F2U9ah7E09itfkSNOpc425p/UTqlHOs9QTT3HthaI8ZZsRUsI6OBn3j8J/yRZXbq\n",
       "O90qvZ5CuGxfuNqbrWDLjSbZ3UEbw7Kh83v/EHycgfwbvGXJfo5lv0TB67XS74v4AMawzSU3Fbwr\n",
       "UFk+1XLczfFZIb8PxPdLGFOuLqxn9ATS/HV/jgbGoxT9VX93D3h+S7sFDwLrshbZsGN6Rl3skrwc\n",
       "r/J5iErng8Z4vSy0IasjbhmUxVkemMicvj0e5Bsz2qzX8Qi9eSyXMflxJjYlc/mes76PknRMtxdE\n",
       "WNtrEYEAAAYeQZomSeEKUmUwII///rUqgAAABS/oMMvduQ6wA6V6ZM8QpFQtnkRtvOtyioL0Clov\n",
       "Pg1D83NtuzNXFfPKvDHeJMHF8peH+R8FIsNVzGSr9N3H4L4I9zBJSQYu4/4/P4EjLzPpe78cntZK\n",
       "7UnXvIPPGu+hqgSNaIlbty67Q8a8Ou48KPQceWR7LeSaFDwj+yit6/UXgyyexeemTV8lZf/PFzWu\n",
       "+Kuq3zrum5wLePA5fmOAenbaWHpr9/+8deJnCBCgQ2T0wwWcBjk2tE7aeV5mEx6pv9Km0vHcH0qY\n",
       "6yP6lNqE5UNVTxM+pMbnJ8YcfE+eaHLTwvrQY7AZuDoqYIwWsz9KXT5FY+uIPd6XU15R68a8An4k\n",
       "6vpJZXYbcWgKM2/G3h1NkFrF2i/mLXrO8YjGG5eivQyHzRr2/s7ug5wlUTR7/TfVSl82rZRVF2DQ\n",
       "XPJBcRl3rHZr032jgvpiIQ0oA+kUIuDTtrjeKaCftSZkFr4tDAGH+DpoCqnxEUB3pECQWNYEwkc+\n",
       "3q4gQ/e7J7CQyL2sZjTzB0VF2YJayCkIp8YPoxBut8yw33AFFWPnA4Hzk2EN4DpFc0FOB0/Yn1xt\n",
       "yPYkPIuzly5PQCSuyAw/ld6r3iYAgSTtKl8hrOPOqFXDp9vvEsZxQYqkEM8tIN7ov36OoQV8iuBp\n",
       "I0cmZOmwdshoY4N5gH8muSd/1/kqA7NNsZJPJhBKS2D6W3AXcMyd4hFJJPiJGjriAsfkr2y52pgh\n",
       "jQQ4r5/DvpMsvhR7jyAu8LKVUMvnYYPhrHAjBU7Ew9DkdwzpLMm+cQLNabUDVrlmdYdQzcnQ5eA/\n",
       "m4eUEzGmIeNsxmfN7O2MURJEfycf/Q0xMSlS7DF7BQH8p8FjdyY40KMAtiJuk2AlPo7ZFy9Ce1ED\n",
       "gJwnn7tMSljSyRYNNN8sUw6eI3LQS+tEHzIGbQYa80DdAausI0oqFPLYU9rE5aUm/asJKztJLlN1\n",
       "Ga72/sKU8UQDnDiOQQNep+a+w97/sYC8n/AWr3RhPrZrrH+SFJNTwwtaVGMUGOVZ7kdUXaDla8tj\n",
       "FU2t3lpxiB/ozc5T+0J16F5e6TkBD0dDcP1Gkhk+SSzp7cWmBaGuxHmJXbhqI+dmBJmEA9aeXMa0\n",
       "sgBeTkDVckJxE9xMFJE9/b1nHmhIU+8m/Ycj+0isakJE07PyMb6UkU0HX9oKj4YnoHOGAu5yu+50\n",
       "ozKg8a9w6C2mw2wfAfrfwLCduJBI4GpIjEI6IR39lJKjJPYMIOLjRzBtaSnXIiw3/uTP4zMDmVaM\n",
       "fYdukVrNeZqxWA3BucOFtzp6P79ODAImZMqNN3d3utEhCTcA9ODcZXeGijqprNkqv/mM5zYa6jHr\n",
       "AJZ3qPz0ULk8xIpk4zMqkDElwT43IDdrErAG0tqbLs371/+/XLpqZ029UMOw0oCMJ6K7Ba58wdxo\n",
       "97n31NJAGIAv5LYFcVG7y5cdVAe7qiRisybnzn41f1NHYoUsrJVaYJTRwFS1Pqm0hzyf4PkbbwWG\n",
       "o1FLIZc4vN/q/8wHJzIwbjFdrwUJim0ViB/W2PEEdyruczk90UARN6OPc43NZsnsBTpIblmVZpsr\n",
       "GoxlsqMwF6AyEzGQBy8H0vmh23BNn9w/31CJf2On+Ulxkhvsc2ZkPwqlY6qD5XlXYEr2axCpaVrt\n",
       "v4uL+LJhYvuJ+2KLuVKZTmSBf5DwxszB+5rbcHXVHMZ2wlBC1RJ/KbGwkfKHi0zyrajxo/oDkUdF\n",
       "5i6OWNU8vRglX4YEx6YZFkLEJAPZSgPhWFbE5lsvbm711q+2XfjEQWQ85eyJo5AKklh9QrQx2V6+\n",
       "3wFFJmEacDrhUhpHm3U4+f2n5NAf3czURutfDjxljfJmjaiQPYsA7CWBZprLAw/PXdAUOkZ9kn74\n",
       "uD2gRPqVyEuVzBVW3kATS/iaYTl+dVbHlVJW+meFuubncHoMne1iIjG2jVYTVSOw7TpT5Pb2sLNU\n",
       "eMFVcwxJs4wrFa0wLcpRzYUb/QAOF9J5ElXZtNyc1X54XfjiDMbKSLpnpIFxSgCi1N7CSnQY4GEo\n",
       "mXr8rwcg8yEOAoHY8zyyk/nuZDxUQFxqSNn6frptDWAYzr3gAAADlEGeREU0TDv/AAN6KLqUlu8T\n",
       "p0/DHYFyi59vBBiA3LK2mzg+AD8snU/emJbzPSCdsVet7/Ltanru3Oe8AtWm4gj+r6Nsqo29wb54\n",
       "MsH2cA9haALQ+sEzUYa/y8kVpAb7nsSEwpk0GCcRyNyCXenw9atrJPQEbRsHRMiK/f8ja/cnmp3Y\n",
       "IBHBAxuHMOVBZ2f4KvVtbQwVU4+YubOz3RrODNJiRmGo12J9sb7I7YRQGfgQavv0N0283gAQVCOA\n",
       "pvejTvHwoDvriQfNtPVMmjDsuikD4MSo7nu7hfAcscsqrtz6Angc4/cmyi0vS3wgkelow7Zrf2ry\n",
       "Lur7qxX9VsIO70P82FMrUVF+zu1TYFtxB375X4D2jLBsd5rF6hdN1igI6ZAL7RkC+OW/PRN1+7Dc\n",
       "in1uRRRMhLhy7Y7zlWxC2PMHiGdxoHna3XclmT/SDW/MMMzw4wvauSC6kYzaCsM9qmQzlLJ3erfj\n",
       "dulHttl6Ze509oS2BBaazgGmWyTnb4Izeek9DRfZIO4WdHxnEtUF3KM36ymGXwCzQP6wfNnmoI4t\n",
       "5h07AVhaiS/3fU7eczyOsSj+fBopDL/a+dv7CyBhPowJWn52BG67KfrIYjJmrNoJd0VTNgEcXjtD\n",
       "g7yRAIIeoK4ZW2w05Fya3m8cxzIkekCdLAm3qwebml16YArtW7Bq2EDa4PzTBQS5cFHz4k/n+Sj6\n",
       "kOaTCWZBTCiTBYz4lzEFGChY/QVcBRKFH/Bb4LlBmLChNwQnvCiVZ53XKvTaMsbM65uQ6DcQQdJj\n",
       "JqsU3wWRgyG8aujq8Vv9sRgVH4sJBMe4oJNt0e25i+obZNYchhEdZGxmChxFkcwAd+Q7Fr4LwI5f\n",
       "YetH71ZypJbaP/XOEFnIDVPtWkBk6dI4x2LqX4vblMt+DsQ711qpGHcAPQk3slMQAvK2NcquDUxL\n",
       "rpaw4IxVS4FMJKdOfS7zCwA5lGpfvLXhMbDweoKYiXMEBgBc4XaomAqMFzbQOz1BmfmmwmlzVZGH\n",
       "loLxb1GP+FwTspkn26un2gW3gE+idCFG7GEFs5AOLBObsflHwUcVwxugPJxBdf9qzPIOVwbtp9uO\n",
       "ifTUHMN8/Rw9RQklqVVWpsFo5UHtL0toOGcyU82b7hLIiygq0j9b5dAHjL2vvAA9e+l+DR8FSh/d\n",
       "VVDO0hyb+mjpyAnh5T8wnY+3xGKjHBw7izU6L1vAaEup7gHVOg/J2dNdQsEAAAL0AZ5jdEN/AAT4\n",
       "7oztW8TTk4M0DeTYTydanlcwfJqAAnXnphZkOZDQxHV9cB6d/J1COkm9tfhav0Wb1KkhK+Fc66Pt\n",
       "U5SsE15vchpqdZ/S3nG4tPCa28gEiBiGeo1hBk87V1TpZR/kL2UdZ9MShwHBZb1Numt2X+iuIpBb\n",
       "chntCf/busQWoBVz2DYQFQYlTCnesUka1/3Q08LOBQaYNU/A5TSdSbS8H5Sr0Il4DL0F64o6Ajuu\n",
       "X6cEIzQpuyPbI4jdgqy7raO6Ez3flRKuNZzHpdTALyg8Wu+kQGuJQDZqxulNMG2aylnLjKRl9esx\n",
       "zxgGIVXIfylKG6Z40KfFM9tjqmRkI6nnuhjMW8r3bSBZt1AUDY4usqMYJyd4zdjxFQUhVfyqnyR9\n",
       "0hOrSmmKjPqi0gfWfQEIbrEgpLcA8GlEr2reuoFgLtbt0L1cbT7SKwk2kySmLBPUzx0Wcyvyoo/+\n",
       "N9yzpuXMdCpGtFD0wtbCsXdkXc5hBh/XGmgcsd6VF86DzQxjl+Fd6Fo5TXL4GxA6spyfxvBTyAZy\n",
       "SBqQCdYfTliOnNnf1WwLV3xo4D3h0+UutDwsubQL4k4vFE9yJOe9vo6/ghlWULRBc8LA15Xsly8b\n",
       "YjmKhGrxVHnVlYr/ZdjEh9z2vso9smZAhckanTDfBwjbD2zk1sYl1FfLS9t7beqRrNgq/eJD/HpK\n",
       "70hPFC+vc17QcCJGD+jZww6BT6PBlQ/INumkh+rMjCDrKxeD8jJSnsi6o7pFRcrKBH3guHUOOBaq\n",
       "sVsMS4+LwGhYODtlGpqu4x/g6DkemifH4a08oDSEHuWv3uO3UxtKsHPkh2QfbAHdFBnq4kcy1hD6\n",
       "y8aE6FhRmP3cGJLph36HRz2rIFW6aBo3XkeiC7wFLdyYJ4l/BRcWbQqW6zqn349Cqz6kPD8mpjA0\n",
       "SfE9N7L4hMhSYJ93jZRoYOtQ/8DI48tSk8Y5fqWoc+rBadLX9k0v0Nnfr4M/LR9zVV21AOZl5SYS\n",
       "6rZgQJKBAAACtwGeZWpDfwAE+efI51VIirzgzId3tkxE+UHp8QAt3cnKUzjBTwe/9edixsH/LJv/\n",
       "TihK1SJ+YooDlg26Iwc6GkUP2UGLkG2+MYMVZ4qCwt4Ykb4mdS49zwrAawzQSp3lf34zz/wvEqVf\n",
       "pCfkcR2I6/wtZft3rNaAtzXAaimZUnqKa3z6zv7s6Ov5TVke5NH+V7Lrs1HolBzFq0hb0BqFa/+G\n",
       "+MDynxVwnFUkPqdntW15YE3AN5ufsP9plxf5IWEbilzc4HYoYZY4UbGhLjVLvHZ303w5jUd1bfIO\n",
       "e4c+EcvisFDh2mAJfoJ7MFSlj+owy3WxVy4qYSYAm9d8n2L1LkRsX8+tiIqI5iuvltyLPQ2DIGwd\n",
       "VfDDss4hqXnGjielm3/NDrSldebO22M/rnQmK9GfPpSWMmnnCG3AgR3l91IU1iD7IGlNAarrXzv0\n",
       "M3036SYjfTYOww5AfeCJt7XZ9vFeUP3YCEhEfZMAX1+l47ER2gwh+LZltukSeEpUtLJeip6B0kDM\n",
       "yglqZu3lBEuJ+8GX1Qp6ED/D4rhbt0kKvyKcWnZtUBYLVyRylYICbpVLiHetR/wd+c2Xbm/axmv2\n",
       "+cO0Hlg+u9TG/HE2OuqC3VcBQZEUtmvWLoJuQU7mqyPDtkrtcBdXXdMZ3I4iejNVKEfq7uAhqCkD\n",
       "42WYv88zp1gjhGv7xmh3v9JU0zT6hne7iUkwQm8X9hKH1f4wxwh83sIVCMMnc+FmPaEOd7TWiXy4\n",
       "6POqX1ClsYMpMFdaFUDGckk7nqd4OqnRsZOmgjM8bGA+lmdapceMFJZcrz69scfFQUcZoZWyKz7q\n",
       "khJjX2dy74DeQMBIPKfrJ5Q+ph+SzcThF1gbHwZTFo11i5+vqmmUQeXq5x08aZDiY7r/QB8vrvWP\n",
       "BvwQB+wfNhN2yj7wwHU8mSp7KElBAAAGVEGaakmoQWiZTAgj//61KoAAAAMBnqSeP9skl+02fY6q\n",
       "9RpL/2AT2L7YtMsgttfcEyDFFX5WgdpV5Ju5jVe2JMVGsJ18//Ru376uHPS+g0X6p7jRngp+Z1G7\n",
       "deiYYS7iH4ncprYUSRTZK/xMjAM29I0GwF7lW+cYkoLBSN8rIALMQyLMg1EubEjvW3/bamcfHBER\n",
       "5eFGzMGy2blZWi2g04FAYD6QvTnYiOKDFp9G5cuncX8w3M38Hky4OPoB3WxC1js/ok6vJL2TZa2u\n",
       "WGzGMG7oyA8LtwMYFpr2YWIQlFEloBvjvZ48BC8eZPqpLfYFmaEnI4b3oiH22O2ajAZ8IRAgVOKE\n",
       "O6Bf7gJpbO3ctorxnNH3v8cqD+OwkbZvQsKX/+/irUSzYnaxuHu/2yVMBGhsjEB+0wAxn6sS8noA\n",
       "ap6oQnQUHlWzNnp4u3xUr+x/VTn8PGMJkGFyttFp4vGRZ9bdv3ulcA6EX459r+FLMaiFKQXOMH8V\n",
       "lUxtrXhT0AH7B7p8UCoVGlZGgoLvgBQVw+O3mQhoiyB8xNG9dyvKmzq37VLHPRwOgERpySZ+1rcB\n",
       "qDHNuQo9JfsuwwJNoE1/tvl6S05AlhVSUszZTSU/UjfWD8vH11iXM+F1VaVImEijtZCrqWAx6fiu\n",
       "ZiVDgQ2cUIViu3L+usKVXn7O2nPgyvzNtv1rXcHzJWeI1PO8EMrSx1oieI9nrRzf+VCrj4EHOC89\n",
       "XleCJee7RXbqNx45kNfmRvP//prtJ78jEuL4Gx8uq/DBgKDQd21wUq4/LW27z737eMCq761KIQL1\n",
       "y8Mb30fB9hMKcIJHq232TIyMIKUXXRn2g6G/yA+iDLitaMY0uMoRs8xGsl4ksQ1gwpkmvVYqBsWb\n",
       "9Cy9GIE9XVqhLSMcFtLxmRjnWHJb8gzn33yDPGqW9w/0j48iFPhPPinkzT8xeouK0RLiVMxmA3zn\n",
       "N7tSyLVn+xs3nypm2Wrsc/k03to74WNmbobWTCWZpahcsHPMS0pTJBxFRRLmaTa4WKQ92UjClwd/\n",
       "aS7rTm0DPbVb8dIkiWpW7xpDo6iAh0OicNLh/77NPjfUJLmbUrDndY0GAmdV9FrzNwakxJSp//Re\n",
       "PVwb4gUehYMt2wFcr9Crn4XuUBOe63PG1FRSwhMLjgZ/y6A5hwVSyjCRh5EF/WN7x62wT7iGyXeN\n",
       "/6XIE+QW6jwlBlBO+8ikP5izQVL6NFk/byIuKfERYpdXCFjrzfzzLsptcnq8WrefCeq4+hurUrAg\n",
       "h+gLwNCkqsN16zoLh+bNB3tnFh4iD9xhmZeC+W5eHJrHsjQdde39a3bmqBzZTpLGarNPy8pjWr9T\n",
       "fWHHlUhrw7Mea8w9oEp1E2vC22k/+5rCYjTpVX1wBsrvp1XFxA4bUQEOWU0A+Gta/cBwVsavaAXP\n",
       "8NwftEZQyVW3mbKQE/JklcaoDoBQNpq+Emfjb5/WMJ3jrrOP7q1gqfTJVA0wVZQ5zatJuIt1vDS5\n",
       "7qsoTxBUlokk5huuBYaBQPkeiOCm014+1DIBk9rZh42ql48Clw6NkY5t4hIR0FMQfWZxfMlXXDad\n",
       "4TqNO1uiNaptz9wbMTMPUR0Q+VpPbdh83c9JmsG5MGhEK0nmLA9n1dIYbCpivOMAOJiHNr1bdZyn\n",
       "Mf5KwqvJj4S9mpkulHMFuL2tWRs6AgYbcAKN5nh6tSUBuU28oEYqGRZgrzrshsUxXbpUVq6BV4Z7\n",
       "8zVUhzRCBXT1NJe/D3u4msNKNNu8Z5iSQriOF/sJzsd2DIbmd5WBY8NIgFndYUxOcNGUZLrX4igF\n",
       "58VFoewrztsfd9EtK8TJWm5oXg/dTnfPRBVkoHspOrvZi08TAf8fasm2ltL4lKWxf/Y2ELlzmTDh\n",
       "GmszJeXcLAqDY7E1GMTSNavncltB1IpsxHpeTGTmPAI02fSF5dYX/dXcyG2rQ++EyG3cGIVeylU/\n",
       "K22RTzR7vk3HJLaZzOXfI+v9lXZcisU2v2o6OcuAFP5fQ7q3eWtZtUtwG9hNOhf7K7iWZLPNPKLr\n",
       "vFIBWX8BP+N8rdV57Zxr6PutF0a6anrqke+j2yIO3rBoPmRz4RPI5yO/XVz5cTCv/9yO1uOI6KsZ\n",
       "uIIwEe89FSqjniM53TkIFRxG6FlcZ08t81eNT+SzGivwR1Sx6whsPTyUGV1d2TiIVQAAA21BnohF\n",
       "ESw7/wADekftKibG0OUfhjtsM3qdXfF0zfmr02HtswkANyG+5k0TMiCgxcsYi/DVnBrt49lnAO95\n",
       "MyClq5g5zEnudgaQ3/23E339p1RG29+dAF0M66wUAgYEh5n+CszGE+W8tSIbkUa8JDLrxuC8t+LC\n",
       "G5Oue5EE6j600feaHGp8P9odp4wJ5mTYdqQeg+MZaRAnKKPztGIj6TQUnqh9dJoXKkqlctWgUzjp\n",
       "GPvyc3RvzDmiv7LQZkM+0dSD8VRQraQ4bg4rqloODsyKFhTcZnWtc46/GspKW1yjJ+9JMCYI2BQ0\n",
       "/30JcNmbE/B1UOwVjCngi0WlL4I4AGmnDEVcnbDjwc9ewbFPk8FfWGgf2BBQnkd3rC08/Zm5zSJR\n",
       "9ngrdupPA7hzr13puY9XMharAyhKp8piT+xad4c2zbI49OOB1AMHd2aEhqhvcIiCPAN84RHWogsc\n",
       "nMH56PluehGRsZfNu2oSOPj6avunLEp2QCP1JlLWkdYl4ZRxSZilOLuX05mSMJdx++CrrJZTeGan\n",
       "ga1MgyqtKkUgVRrYsXVMkd97uQx72H4uRfBAfXbtflUVF6yI/wNve/RQPuAMYp7ovEKQ4TdWCp3j\n",
       "CXPp5E/gGkNw9HFkdd98Yrr+5yF0hl2H22kM01PLZ7/Atkao7U0rHYeQ6Pb8bBwcm0XhY7ZOBj5Z\n",
       "LgOh2nXyizp6fs/27ep7ztluXArSCnGo5mhOKxgRnFIVrbDEh57oBTUfB3bpj4jLGhSbSKWf/edO\n",
       "udVHkjAPRtoCkjOoQyZyIv59p1dhZcEUSPOu/TV5Rt+7iyHHlRRD168QDOSe5pa2wX+1903hxgow\n",
       "bhJxA0ZGhk3oYxmXtd0zoapfGHXd3AO1lph5sSYZPeohRxzROJGU6RburhRUyvKjVEYPP9m0KGQK\n",
       "lf8EYJRyqMdBELwcCanzOHheaqg26OfrD4aviuoT4npykE9L5XWxhQG5ZzxDXsjiIut7RFS8OkTO\n",
       "hinmSqphQ7n2HH8VhbJm9W+pxmVF0j+XRPowqzPeKpI1imX+koP01liYoKHITW2KOQ93Sgep9ysL\n",
       "UI5ZeZJe6WMyAXVTDCd59SGft+6GVv9rB6xQ980hdd4NFieJYvNTaOhz+wy7PZjnGD4gEW9/dPw5\n",
       "tabvyDqMxNkEWqSskg7FPLGBAAACWgGep3RDfwAE+O6M7VvE05ODNA33PC4c0SQBW/eW32K0PIaq\n",
       "aSOfMf+kz3IjaSH3UgWGpTfnh2UisX/7PpPpuyKjszwH/KkvE5fam9oJ1vj1cH+bRWs2QthpzmnN\n",
       "xAGHp+tAiyIpljoPxmgfpKf4Qufp2jke/Z5EZbkaRpUUN0W51r2QABTDqGMKrp3q1pkRBS6e4BhL\n",
       "iLWotb2/et6F1dstl/vp+VxPt0SMohVPaQQFCvkq/OpBvm0CjLDbj5cC9HXNfVgHZTdhdDxR5orc\n",
       "YjvXobNLptcswlim0XT+jpsAq9C0zswZCzZ8Pqmjg698VNcbRyDeFQl6EfUIg6hUkU2en7eiG4Ff\n",
       "5djNwpAfFm/kgjHvVmznKcF/1kDEn3+Pd+zB7UHBMFH4DQIGeygfrT0OPG+V8I+2hCVNJAC2Y0Jh\n",
       "lWkmBW9tPBFbvUzcH9mDUuVKkJV4Rv7JWRkFOoZfTnfdKEJeJK2vfnIZWJo+B5rx3Lc8L6TVfPZs\n",
       "aC2GVlu9+sSQ0GQmc8vV/lPZkusHWaS/MwmEYjmJC5XYZonVdt2HtIusCLSAxQtX2vstIhnSjRV0\n",
       "fw5a2pAeNPL7C2/qqBVoTkiNmTFmpOKsuwOwBgbhdgQ4hlkq304+99GmbFAaPQhyAqMT2VyL6LsB\n",
       "6Rzo0A0TULVjc6S0TZr6SVYw7sRtvYAQxZOD4qbde1WsY81lv3jtKhPhUzhJXTojVC/JWOWtJ889\n",
       "ddsJqvzzF8opt0EMhiZLoUW6zwwQV1I27LmmerJZ0e1+y0cOIsFZ+si4hNmosrcjZLnTE9vmAAAC\n",
       "lQGeqWpDfwAE+efI51VIirzgzId4T8FwrJXkcsuFI2kIb0+4ATVzW7dYsR2Mh0eXiBhYjda795yG\n",
       "QHF1dzblwtrLu4YhKyeT2OVaqUMJoLSbcsezhZDVEveJCXxv+DZZTpy0a0+/Hk6rKghV1nn9dXz7\n",
       "pJXYimXmsgvlo9G5AY54QKGoNZr691ygzKdw7fuPFhCNPVXLA0+BGT94sMMsxpT7cZQpl3lRK8b7\n",
       "JSjaXA71SCpn6XRoDjcGCFZJLR4SKAN9wl/e9qRB8BR1vxOGrQLmKClkasEPBfUBPAhSbB1PedAu\n",
       "8jJlF+9fuTnrREMXspForYTCo/fnlV2PKpOSmRZOgdjRdQvckz342XFhMsB/xw9Yw+d8IpKtdbQR\n",
       "Jm9x41zmqpK3aF3iDnnNURrH/BkJAtOzRcn4blB5Mywb/Cx6AakosGMIP8kEuOoEW2ZmwXP8Wfqg\n",
       "P2+Z3eIKHmw8f3Nl6v6xgahkQX3R3TChKCXJLVOwO4ddi1L0CoWC7khn4Meomk7E9XlElU3Ue3Up\n",
       "rJYMdOrXDYNzXOkNH5jgzT02xiMYMmcYpkTk5Y3/tj2by2XM85jZRVXvnsjmY0IW0yrndziLmGFU\n",
       "mTQxVr1Sd8rSAvCVBAty5Kam5EELawqBhNS1kVgsXikVRnTxWUeSFfkzpetnELqUA1iG1GCfg+Md\n",
       "6+70P7g8kCx5ahNAuytbjiug2xRtZphL5Y/vEXyYVK3m17t/LUWCxbgx6S6CyyI49R3YCGO937Wa\n",
       "X/Xaf4YuK3eLrzL52q5hIB++OOjUKfLxvgOSr/91wHHVfaYvIdxTkZILoz4ynFInumaFUxt5HlTC\n",
       "7NU9hFl/M2yKtnb9cdtZRp7G4bTPgnApRf9HNz79SwJhPpEAAAaGQZquSahBbJlMCCP//rUqgAAA\n",
       "AwCEM+dybpAAhAD1xn71/5w0GAdA7cntxmvatqnidzl8nqoTA8+wLw0bq2fzAgUssqExpXQrj0YS\n",
       "VR0KMf7XuQ5x0t/d6U7qAygVgJHvYIFOtmtsnwDaqwWIBy+viHX06F5bOZLva+K4rzyiLBXb9vGq\n",
       "2WzudUX8E0o7xsDOZJeDLuMqrd8Gsa/8+BPNJ8VW956KrVssIVt0bFj8kelVUBbOMpT864PTxBgR\n",
       "9IbJx0NTFXkwqwiVEgS5uIsKUZGpqdKDmlnlRukbdtFzHGL18bvi7wKKrXMa9RKM0ulF722KKEp4\n",
       "sUVNGFbSL93skwxRr1LE6nrNONhrmWvy85SvD1F8X8m1T5+eFm4zUt6tiNync4CaumX5QlDJhhbT\n",
       "TsVstakfn/+teMvYWq5HQxuzASgMT/RcPjkvm3n8hF34A/skWiL+iFgK5bV8Xh6vIVsxXZbKz/jx\n",
       "jmy6+foVU7kWH9UYM7U6MLBHaS4EL8CnzcT+w2VLnxvfZTdABb/KmewCUpwMHCTCGd70kXRR5Y7N\n",
       "NgbMTZU3c5mjXW/208/atjXBgA5H+Dqr7HWBx+xeiRkKgr5G93/3bIBAI1CqZC2uTeKxx4UIrZDE\n",
       "xqSWHp1bOnk6cje+MOHHF14DaQSnUPpsdY6zRO+E6GrKJWuW4XTU84VcSPeCxwy4P5TVsCHtwxDq\n",
       "sAxWVl4tJQI4luAv/V440BNu9ePaQAK2FVQL2lxEz6lJVYWUKFEQfWzff0F/+YQNdBNX8iTi2VQ1\n",
       "MiEidFhXtCxIlTVErdYhKI3A0/UQqaczDiwPZbUwhBaouaGAye+0rhlZbnaHxF1Hw5UWxcDNvbTs\n",
       "kU+V54NkSKw+ozRESLLpvNHeGnI2SU0Cs2mPXT31IzRNOKExca13U6jZcIQ9ooayIEbI7TRitxPR\n",
       "w5jlWNEUHTPrb1Zi5Kfje8qXbuGJV9ivWge6EAIOPVTGDIaW78F/HoD/P/rcRw2GfmGFd+NElQdF\n",
       "N4ShHoUajLjxRYPCuH7lKUc7/Wvbtvv5a9wd/iBs/psLAttCtnZAk3fk58c8/NNcYd6quIS/SMTd\n",
       "QCwdJs5BJLceLJBqQ4g7E85Iu1+TOsV2AS/Y2LyIt/JpR19u3OWVlB+Wsd1lZTq5sVGYKnWK94sU\n",
       "4UKuDiiRO9fYd9sujepWpPoha2MkQ0uskJWBMaoZ7chHfQ5C01As1RmzevdomxNJyksg/fGaCuQS\n",
       "Ax2gbYviCj2b1NexJTqqK2XEvM4WC/BcihF2gsF7Sb2KFoTLos00tUB2Rqz36/JmUyOP/6Gsaxbo\n",
       "lRMZV14L2UJeG8O1g23AmDlg+CIEL5iI9ES63j1tHSMrQXRiXNHIUB/L9brYKTtX1lilhlKtDSsp\n",
       "BBby4Tfh+f5HtXoNKb5Us1kGpDSjnEli52mYPbZtX3pVMYDojXO1iY8MZp5Ng8oRThF36WX0wVoY\n",
       "w0LT+hh5hYERV3fBtOklMoj5ESh9SBwSlOwUb7HMmKnoaovMQSUvGB8ALtILpdmNUtmrqjAb7x2P\n",
       "BEEMcca8SVaAtMoPpD7iKQrj3/gL3usb3m+G8qi2F//Jf+qvmyO4fxO+Pteyu+kRmYtvSijPNr4n\n",
       "URjNGX+Uv2/CwO5OWbwNd2r3jMaW6ExIaPZacfNhZE0bz3ML/eZTmwcW9MNYvy+ZnJ4lg4cJkfUL\n",
       "t3ssm/72IBPmleJneu2XauoC5VEMOsHBaP+DJ8SUOaErwWnrrLtUvgQIebU7YYZe339YKA6aliPi\n",
       "p1r0SVLBzo6cdfiwHJPW6/SQ7SUMSEnTuIy+LP6w4mKMgrLB5u1jSf6TQKOJBG+AQyoJlesGJzbh\n",
       "ppj/3c6iz92EG8P/Z8pUg8Ma9D0sCr6frbCl+6a23szsCnc9XWyLL1E3/jDAHwk7DTYWfHk8dVRj\n",
       "YE5/L2qur5+9TxbMBAJKnIi6VvqWA97Kxb+1qAf8BbdzdIH9PwzqNMJnkuzS8btxpnM1EHcqZgl6\n",
       "fWLZebrMWJUp7gR9Vc2YpxUQCqJn3iRmerTXbiQN5suXBwQl5+vWK/BlZXd4tfqTU9QadM9VPiXr\n",
       "kEZnbOj1EIQ2OtTzHvWwhgeZbfv8UWKxL2gki06kdWolB1xg1EZAf64d3fsRb0FUtHKaKE6CAlY7\n",
       "ordgnGgxM0Do9HkPumS7mzfSn0LhFaJrGk0TQJcpCNcI0fMS20NzyZOcZA/qNID36JGiFVY33egA\n",
       "AANeQZ7MRRUsO/8AA3pH7SomxtDlH4Y7bDN6oBMUp0KOy7MNgVRDErjVaMiOoh04X8RKXkQjU97/\n",
       "DKZg/oJRk/HA0XNCjU5XXUHlrlkXHj5UP8bS7hLd93jpSr65FyfTU1+5WrIergc644rPO6WtCoOb\n",
       "AZ7r9qkmvb/arcG68Dc+IHWxhwXWvrQnvseRJUT2ADlzxPoUrSuxVvCGpsIZSp0byluq3Ch/2RRc\n",
       "CBt548qrkjdySHEhLnfd1MawOyGl4JOGoJAsTQVlXZBl98x5z5Lm/9oGssht16x1hjCIV9ew5JPo\n",
       "VPeQ26XoXhLLfhZUPgwbVCZrgH4+WqD+d99NXi+oCLAgRnASDS5bOC3NGlRfA2Re4VBNTi/VvPKx\n",
       "4VR1cgkiCZ87FrKWghH6vpGQu32ZaiVV83GGyNtIflAXkYJ/uHB8Lu/NiWS/FKV5xB8UlqfMJyg1\n",
       "lAUvH4pLiFrA+8z1LxBEpBF3En+MwIu0/qG3mHvt9lmQ2ecNN0Lc3/NagjfMcxUvvIJmpQtcI1aO\n",
       "vSwwNvMGXiOyl+m63rDGVlXW6QRQFYmWpn2ClYxQS3MyBl+E3EsxE/dr3O2+H1gVSW/Xn36pkq4M\n",
       "5B3ULg7nr4l4cuml0IKtG20nHtZ4JqrW6FU/Uy8adg2Sc66QKyiTv3JPpOTJpE3qFmvNvdoRGsTw\n",
       "q7Dcc6KxqaVqIHhG/aBxGsd+jne2Wtn4RPYV7MpQkEeXJWf3iNjPTALO5JdpPNXgPy4F41qAqMaA\n",
       "HoNThwiqGiLLsekXfaTI22wPw7Y7VLscjgzxGgQWZB0pCle4WJYtdYE9HxsLuO6slZiMZRKiI4cg\n",
       "BBm/vFgpWiUSjK3SNkFlYQV7lME8vNjkxoZvGP/WaXFgu4uGkEKB5l+KFCmz1zPEBIfWLtT2NZpq\n",
       "dcNtbiAa5OcZB/gGfUMxA1LqBzgJLzo7Dhe/J4ukvTifcxyTILVAKUJD7s9hRc42XLtyf7Qfytqs\n",
       "wgh2tLO6Z+77GEFvGNO2TyCRC7aaIuEksOEtzQ96CZEuD26eaGJZ3G4PpVnt/WzA06mhnZdnFpfN\n",
       "HLE8OZzf5XjdSkG4+kTzIolzU8MfS6AG5/gM8qtpvg9bgrA4toGWLeMGzeLQcwjZkANU76Sp3F2q\n",
       "z0VQH8hs8H+L+AAAAocBnut0Q38ABPjujO1bxNOTgzQN9zwuGqAPfdAB0LGwOqP5/OIBUSWhwWCU\n",
       "wwbyx3qGKkPmR6VtM3Iw6pCf/su95gwoxZPw6dbvwpaYlKoQnTUtgnWPLcip3RWPWGuU5IIHKHlZ\n",
       "8QfFq4ieEGTrjXwIzpsjkesp9rqMV5WEIy7rgmSeI5zB73cHUpXM+nUrIBhq+62ocFinxjs3pKW5\n",
       "oSdi0BFZtDx3uYQGqXrdX3z2qkqVugS5u3cX9dnM+qKVNgMR6wbislVXsmU3yd418nLzmZZ6WkBn\n",
       "SEcvTLzudkLeRo6B7uGAuVKy/An8cGRPeDr8ZwbKPxAZf1TwajB+h1PPFzH/VVNz/nJwLrOwXo0x\n",
       "IHMOl4GpHcOweH61aLKN0jKj/EKd1wAnW1Q9vZt7bSHyQf+2An+jKibEjQ3Z2iXvsL5QB0920WwA\n",
       "ajYy1OeDtqr85KU2pjK9mNvIHQ+trDgrK7oUmppUgN4W/ryYk3iOpVxIlHnsIIaJadfYC7s4vgBz\n",
       "3Ej7hMHGH+8KQrL/7l9eEvO36Fn3U/FRboCtICZHowUcKrcQM644H6kXkotybZlvmay4t4gvYF5Q\n",
       "ep24XlrHOjFwG+VCzmV8wlSJ/9Krxk0kiNwvhlAkLiOTFUnHyVVCWneTrbfIHp2zsuGv6nTRbINN\n",
       "yYDvQrGvJ31/YCsXua4HBGAubjYQBMV+1VF5KIRaXqVyqy+M/yDI9EOJZS15LcXr/Y2QjahlwXAd\n",
       "+sn0QuW8nPQIcrT3b4CasxhCUSVaZVGqrXsgYZlIWTnJoEV+xrRwaVA+pzfCx2aEYlD61vbkvIYm\n",
       "F7Iqe+cUKn4z9HH9g1vBi7QHI1Ztp2hWvI49UM3rXqAekQAAAq0Bnu1qQ38ABPnnyOdVSIq84MyH\n",
       "eE/BcK2LC5nPcHgzvy+ZnJAk/mYAD+D5nKdNBH8m7zIaBS5PCnDx/17a4tSDo7szTVCwjWWyCjHh\n",
       "P8JuihoJFURSgKnhiVbImj0k1mMD3SLR4naVRlqwzTdfb5liuH9u2kRmVlWaeAp3CI5Ey6YhE5/1\n",
       "kBeXocRGiHUxVtq3o5DQ9PMXL/12LL4kIeLNrEI2eE7ZFeojlM01HoV14qykkZQX9+dU9r7zQ7Jf\n",
       "xyp09dDEOj41QII46QuZZjkBoXlmGdlKylHuMRgoQfkqjw5/3Bo+9SbXZeT3CKgjuwMlpRo4yAYT\n",
       "d0X6G7LJKV5hXbZB1ZLkb4fd+DIcuABqMJg7EUHLzd99VDmYTQoxsABBaVg5nttpQSKlvLUUlpOQ\n",
       "IOWZ8k+M4MFkhQZn/Ryj7wBBdFVuTUN8hEXFAPTNQQNJeV2M+DyEhP29IvCsyP4j/QQdn35/uGOZ\n",
       "Wt2kBr3CDuW7QoSKya8WhzkSxi5Th+m/Z/I2WR7U/ZQ+eJOXhUvPFa7DeMf12cMufT4bj/t5y88N\n",
       "/Ja0jqwLW+Llog3Dn55QJ4acJGrkLfZSgFnwLJOLuvX3Ag3qRnqNRxfjZLbuDoRaWHyLzHV+6a0g\n",
       "6RfqARku+fwlZozxJTMd4eLzzjmjlyCUaf5sNOd7kCA1vg+M5iuVZeGKDLfoMUDuN+REmLHld7V0\n",
       "swvlEcIEOxxgSpT0QmMBn54EUXx1vO4ys5yJViA2cuLUkfvUxwYZGSSeqo3UewcNslIIMomDxh5H\n",
       "9DHWvS7Pc0ndFJR/236jokQichu9CWnxv1BDpi2VjF6sGerJFatujT+nqGeFnvvQanb6hnQ/I145\n",
       "+0M5DZuTB6uN8ECYnQvKPKBdT2tRZku2Vh8K23KdEmoYESsg/LKBAAAFvkGa8kmoQWyZTAgj//61\n",
       "KoAAAAMAhP2bmOHJHqSVG3MbABUduFcNTD2uDwuqtnE8UeQUOAqtkI+OfPzrYrf63KqPuYsRqB8X\n",
       "mbAYJn3pfwrKIJN4z4P8OhMaYWmcKc0UV1yvP/4FaaPpRHZk+3zDD+uDNcffhLUgU3D6B7yqLVSP\n",
       "PLKhO+JBkWGc7DfrO/E+uMz39+pWlcV69MV4oqR4vxraI+ZEoUTH5mp9HpEeyRjRmys18qw+vLPk\n",
       "Jgh4jKO0GK4Ljg+Efq5kBDHBSnpnUeQFEnCUFgaVzEqG1NPI01mGYk2m4SKKwBrrSvRDgy7Eyq33\n",
       "Se39wkY+2NCxIrZ0kbUMyO7CU0aYUnEaSjs+yPfxHiz5LdZW1ICe+fp+NMlas/7/uwdq95kNMIkT\n",
       "RffcsrgR5OzEtfO2iKIBwadBhav0haYEPifW2G/Fl+EyHpdXwkLygMAQ1vdxKfAM8WoxATZj4aBa\n",
       "2uHaOKWMEP/Xi06qda9900L+0jfTgOykBAwDwhN0BtGvdsnLgPxlOZZHJ6WENW6/DlemixcRaq35\n",
       "tdRqSqmkqACpTMQiKQGAyIy5ufKX02+L2KdVFXprubz8YCBYABkA+8/Tbo7qy4iLMYU1Iq6vUj91\n",
       "Gx2arno0vFr0DulkSf7bXp8JUxDGGEqaTldExXH88AN86M4jumM29fHMtiqzsr+tG5MF7h3tVwk5\n",
       "wu/Dsw1FVryWGB8IM6nT308G06E5LSM4F4aP++x9ws4a1wqOkpwLvS7KseEboR+n8EU7RTrWGhQM\n",
       "rOh+Fa2mZAwf4JVm+HgwmpitpPrcLQi/S0hf2Rk4fpUOHZG+tHWKUKtJtIQq/Doo20BuW6n+rKvO\n",
       "CQ513xEEcr9dV7Q4jqs3Q332pAD1/TMdz0Sdzjt8pCr3O41MhMh2t3Oynh0QN5vsmZ5h3RGq28gt\n",
       "dwdNxiyRg2Dl6nJCxjaZ8poIdl+puBQpZoftEisc8rLCdcKmTpCSyx8iGwzavHueSDM82JaHkaHh\n",
       "ClYimnBqHOl6Zy+5jiNGXD6dJ4J55UezslkUOk5ppKlBLrVWG5QhLo9RFRUe3/Yp/GJbgJwRb6KI\n",
       "ftxwnNNUt7o5CEqZPbOMqrSClSV208m5oX/gWDFx7LnOKshIE7xk4a1rAHXg2qH7uwNipIT+iyG0\n",
       "lctUnO49Q/BElrMKxtfFn+uwrCIpxHEjT7HRfLO1vcpToj553m02elu1epKjqk3TmR5No2L1Kg9r\n",
       "tV0k8JCti+qqdU5RvMn8hBBXyTtJV4DcfpFuR5+ExapFTnXaqy+meNdxkEghsl9bHrx/3iDdVNrW\n",
       "RB0fOxQs9/v4dpNGgXKpAkQjzh/PK5eYqZrXvMq409XHHz99DIDd8fDApokVraO5Z8exaAY5Fz+3\n",
       "XBwq7ASRPnt0bv0+8rzfcEWknS8JR9pPwJvoLNGV+xReMgYGwYfnDgB94Los0ayDKDmc6ahZvKBR\n",
       "amLr1zoqOaBjr6OoZBIRGF9JU/Wbxy5X3EGoTC34cSmFbteHpijJp1hk3zp6ZNILTlpWU2G3voXi\n",
       "dAu89UWnOqwAmd4zZOzDpUlWiT6kze4L9N5NdOOrqVo/CcIjm541mE9jZuT7MiN6dOLcz4eEO53S\n",
       "7kZ8GTHvacrbKntanTxmVstTLhwnB7N/ZGbPsyxDTxHAqrkyLarogY20WI0jehaORnSuC/ejdpvD\n",
       "D6lMaacFtdszfvvUcZLVlX//iLvdUMthZt89sSwCmw6uHARYOblMqtnCaxlf0wH5wN0bnsiMZsR4\n",
       "l7vAtoi2N59R92I/jHwhjMVqSwLzlP/pNkXqdNNf+zkAbcMjMfOB6xzuzjPomLxxawr1UKMSOa88\n",
       "hk/YtjcV7IicYYnXkb9oZAUyfdpCFjiAwiWFwsP7i3ANksN3u1PDQoB0iOIMb6dq+19pOH+OIG63\n",
       "N+qfX26GJ257cOiNNT0TB8/IZN7RNFQV7FNOmNe/gQAAAy1BnxBFFSw7/wADekftKibG0OUfhjts\n",
       "M3qgExSnQo7LJGxaSdu5i4AJXVSauU/CRd1tvll9BPaDxItVkYkjcZfsSiXw+ktI13WvCE5lGn9U\n",
       "PYw4N+EVWMKekoFfEbNx9JajFjbpFXCtVeHfz589y5uIVxwJpWhxT6y448basNaiQnhOO3ezUdbV\n",
       "icy9I8XG4AmG2mLmZAEeNJpX+wvMPUFU27+MtLh4HqdgRKGzKsEZxZ0VP6nQ25aTDzrmV3AziaGn\n",
       "P/r3smKzSPlJ5HimH1nzaBpt9QNCRnG39pn1S7rPrqQQu1j6E5GoU5bMCGX/zPmmExML9Tg2Q4TX\n",
       "c3kxX+zY/F20hy+iI6lV6TiUXVsIGSrDbbJQ2hcxdN+s/kp++lHzyGLKvkB18CJrCu78jUNidWSi\n",
       "/yhzlX03HeAYr00EjaXtK31uNhsg+xPfmOvAoHFeLZM7t5ADiU3ZVr7KFu8g4uNTU/ExUFi72YQz\n",
       "HwUCzKF8p93AZLNrRL4HhAib2lGnnhacYf0TN5jZ+KaLOmKxRywIBvfF4tG4I0fJSCvfvYyD7Xqh\n",
       "vcURFeKIwI5mChIL+IIK+Lg3C81sEHBG95RMuVJQMKBIgTj98fJaQO+PwUdxzV6V3QzPLYPNkc2a\n",
       "BVLUOrpGPEIR7dYeTSJ/qM+2brOBDvhy82eGRAUHa1xUJae3UIejqf+4R7elD1V4bIxVToe7Ih8e\n",
       "o+IvT42qYu0LM3G7AA+UWLfFZihUQUYEvVH0G3XL9Q3JE4U1XPNlU4iqevd4W1Zzh8HcQPbFWUYB\n",
       "Rwx0PG0mc4hQKYlMYr+gnYHIVq/wnBeqwnDPVIUiCtUJeag6fOwP5Ym3AsnYG3mYI/4le2Yh5mH6\n",
       "WZEMAbSAZnjOkIOZYZCwrV1G0DhpYMUWrxSKtBl7IIVxTpKfEv65QBDGNhNqHOnbW/fel/IKdUmM\n",
       "N8A//VHNiCDRVk5ATqTt6R7AP0Fcf7y7aSLzq7Hhg4WvqoSdsb19tXyqgykMPjJdzNprnvAbByOk\n",
       "XTHktVkBE3mWmPeomTRAlYpkZHKk5zeI/IffVEGSZB7aXixKtsD3wdoLZSPis4WQrYAAAAKDAZ8v\n",
       "dEN/AAT47oztW8TTk4M0Dfc8Lbwtb+ZTRABxaHgQslEaf0UpO5VsFRv6xn3mcoh7J15cgi/M5aCZ\n",
       "BtVavY6QmFXIlfCHFXLV9EWtm2G5cagVMLRTXLJsKahT6unT1OHY39eERv7C2+qmdm3yNd/A6Dqj\n",
       "F3jrWbsuZT+SWogLZOuuxr1mXsvxnBpFuh8d+2OLlBLKRlbFSSwd7Rk18F2tXFuNqlqx+2gpG7gj\n",
       "iFiCW8EV85yiWaNopfBPXq0Lkwy19l6NyvuVsQVSZPNRU48PUiw3HFTkALN6ZZsdW6dWO3QCGu+5\n",
       "MSdTwRDWrPfPvirD9uFLJUTsRNvDevhFVZeDpgVrcOoakVn5m79F5+V+9XdayojC1vM7fNw30lun\n",
       "RmqrAWAePuxJxBf/+MR1sjKOAgs876HQ7/+5JuQmK7yw9xJrqVhxab1FGtetLPKVYIpDAL7vcqLT\n",
       "wtHoQElnXBHM9HT+1CLD5A+Tng+lwdoFDPhwUzYs/lcz48jW4jrl3yq9hj87do0nTbagfKE72dgi\n",
       "vfYLe53QiGk+/k0uJCuS3RnraiiAqRCptIzJGSpXddUALVU7LqMhSlZNFvT9usgkzSbrDpb4djkm\n",
       "6avM/3rb+fw/wfjCEKd+YmCI7/RVsPnwr6W16H1ARof3BotnEWDBAHdIDOnKbqwv+EFfi0S0Lnbw\n",
       "n3Bq6O5i+qGbq0QmTTHMSO2u52+L3/AteoFOZHlvvgTgrv56u5gacVk/ZASQd8ZtLkOsJKJKuhOg\n",
       "hbgjl4fzolNwtdR6i6XSTI0sfoeKthK09aDNv3MMg5R+4Eeoa8QY1tiG+jLm/sjX05chRB9MOMx9\n",
       "N64nLFuvFC9BNKU8OAAAAnMBnzFqQ38ABPnnyOdVSIq84MyHeE/BZMX3NuCvYA+ErmToA6jrxTGP\n",
       "2iAExcRqtk6O71Ot/viyYZszx/tW7gg1JEKacevgS/eR9mrFpTBd4WWnKPjzxy9PqGezeCPeon7T\n",
       "kF9b+vEvsk+o3bKznLf9TlKenCy/jdxvnQDP3JPEOGhFf+cPjN9JnFelFk7E9ysmcy8umlefa39V\n",
       "fjBtF/xtoOO54YG1NS2OV1Q/oGXnb+IIbT/tI7VdnWDEC1C583RU7p0I24AwYg3wVNfi2WNrVaDw\n",
       "Gvf2ueslPcoL+e8/7VBJhtp6BBA2rtyyODL4CJurL2OmQ5WaFxFOtIo18fqhm/SFIsbn+KUpkhQ1\n",
       "wPjQf/n/oSJTE3ST2lyQcKPH5L1duMjM9ZQYG5HC0eGUjZ1pIELV+5Yt1MfMDWPANTJHktuWNN6U\n",
       "GeqniAIQTUmyAL3mwioEVDXHPahBW5IB58lY1UVqzK4HVs8jf4ZoAtDZy/8o89YKi9S40RtTx0Ve\n",
       "cHQWjYBIHl/yRAjw1B9/tZyP7KCc9euLwea2SlW03BSYHc4P34PjotIFEK0cAN8dXJOODSKbe6cF\n",
       "DwPJ0BK9McOSvL7haozJdlQu+w8wbOv9baRS1RjIwyLxMoOG1/OWjg5+WR6H/tiYyNdeuZqKxzPb\n",
       "PgmF9YvOlUWTOO+aA4lYAzO/cHKpTTyAHpcZY5cRHd08+DnCPDkICrZn8Pk5xRh0Bq0HpAjlh1/7\n",
       "XZasQwuIAZyjVKeEdH8cpc9o+rgTsrURo0APAX6LYGs6GntUGw19Al/NeCdXVNfxG+SG86YFo0Qt\n",
       "EpxNiUMUMd1eSH4GExnj1TEAAAVTQZs2SahBbJlMCCP//rUqgAAAAwArg/VvO3AHSQ7F9tmpZVf8\n",
       "MV2vvwRxhzMoREFakfj+aj3yb+6UakhewPAgM77UnDFa6tfsac0D7jI5OlSCRFTZk/ehjqXZwdvT\n",
       "e8B3zZDZnOPwMBaEwqm/9km7Nr4NVcNiYDBacsLoi/AdqzbM7r/K4R7CSli+9ZDYu0RfU24fW8ec\n",
       "ceih9rG2dj7/GVubxe9F3N9iC/4PxXAt+vaCf8qq47dvurclXwtiPkC6OgpahqiWcIbdieNyr8wZ\n",
       "o3echDEvdz7T/40C5X0xIogvF9O3DRsATeZRkCFQo/F3qTagV9ISoghDE+hMexu1IW6EIthRcv8B\n",
       "lDp/dHf3DYIDmr5vCLx2vT3QnKCBbdSy8x6QEiPJnMaL3G0cGIT1dRuazMYyga5Uor0t32RIfDvr\n",
       "LUP3PI9TBml34hhkXjd6Y6QHTdRPLbPB25GkFH+lRH3tdSR9IYmL6yFUADl7rNjvzSdoNyDhOJ+/\n",
       "Asblcw+5lOHlZ9XU/a5xliCMzmf/4dTLO/P5Aem7grMAaFeQPXQZ8s1dYpF7AJDx8QkUi/cSPi9I\n",
       "rfS20jK+cTimxWZSdRT97JchNW4RgjAE3UMbv57pSrnMq/zbxaNfBbzi9hJMrpEL057Fe3a3Y1hR\n",
       "2Q6vNbNa62XfHE+gMe1HJLKJ0yndeqleZImvkgjBO3B54NSfgivVvaL53LE/tnjFjXE6UGBoD02A\n",
       "L9MgOfknLc9FMSW1vjFSNjYob/bhZEgsSwcu4IRw/FvuROA1bmt4Oqi/ZqkNEgGJB+nlvjpjesEX\n",
       "xE1Zp6xtGH1/3t0/9wzyxZqEFiPQF+zHghAgbSVp9PPjNXdzRaKO/h53X+nemWe1b+pc4PXWLcPs\n",
       "KuQaY3Xmj22OmoWd7HjSkbCm9LDVPrckGO8RR6lX9PXe6O3HOaA93QtLA9wQh8rd2Iy75FnQgB5+\n",
       "G/JsNeOczMMPgafCD8X4YjYUhc5t2S86FdFDN18Ix2qSUIP11u7Yv6mU1+2B4LrUS2thCOqAo1XK\n",
       "v9v/A/Dy4SGAGgLkVfSeCg9OIgv7QGeZfPfYaIVjQytFOfkGooisvNEaFBfksMAdLfKS6sqze5sM\n",
       "NSUO7CvEmoDZ0Kz5bAYXRPLvIoEgAfLZfmcOS8xIbqB0EZBQ6xvd6NrN+XQxLHK0+YAR6EDs8C5+\n",
       "rdaxnccn4Fz1CN8Cye8B3uyYxw0M8mKVH2XmACobXW5Ai1d95UFC1yehkbvxVKiMZmoeAT3kQzI8\n",
       "pwtUloB+c3fE5heZ3q8qS5VO0HARAohDK5ayhIj1sP4wJ104WOmaA0zcnaevULN/C04RUPT+60U0\n",
       "A5x092kP6cteTNsIjF6TuTYoXCfOY0aVEUT0Pgwx3++44HgvGZyBaZzvLanDQYzFb1Te8bBcCsmW\n",
       "Kuo4jDnu2+MP/fH++8jFX1Ndxw7gaHRzCjiW1XiaGaiq9lGEMCzuzhL4NxuBKmpJufffdkhLVRg8\n",
       "hiCKbr23KsgYh5gsgdjHQaslvM+LrsYDUHDH7o03goeeEfGNjOIU80sCzGyjKo/ys2IFjLQPFver\n",
       "t030uXW3//7hVdkn3itM3MawI8EKIEQykj+5uoUK5AapsSLZh+heHhUT1PX/L1C6ER2rNRUlSQrf\n",
       "ZwRfHSM4rElsVN80RUhWqj8dJEYLdZp6P7EzK3nGGX9oBR+DYxJDINoua3uZe6RxVQ1oMZ9l/8Ry\n",
       "m4ugeM0h7/HxnWthB38QXSOWq34I3WOackB1+keh9bvR1r1WE4J3B5sXUNbuoWj/VnJyLuugVfsT\n",
       "jiq/b2EBlU6d5BE6A2IgkAAAAwZBn1RFFSw7/wADekftKibG0OUfhjtsM3qgExSnQo4Nqhg5gTuZ\n",
       "Ffd1cWYxABNAt6jlaO0UVaWLK036eLpY9JgMq23RckgLeCKhnnuET6GAiAzQxwSPznv7OlElqW6L\n",
       "Kb05QyTfmQgN5bgsGsLtmU09XoshpPzQoe4lVncnTrsSnN0jRoZvf4AJnU53jxmD3mTgfbX1nvb/\n",
       "159ZK6pFE5Hc8UWabSgv6w7AskJ8mp2X/GfPUsg5/4Lkh4Rcy3+5kIXMKfUpps6Qo++4wFj7VlXV\n",
       "Owv/J3+nl8E6OV0Q0ysGl1ZXhpa5d+oun5zTgPYy2SrZNxtgowGtQsO7AjzxKTIFC0gauFpgznvs\n",
       "/FMQ8skpMsp5oUkjQfac7g7d5KQr4ocQ8LILhR72QTRyAdKOJjc/W8rrHNZjpy4eAHi2hpppIB+J\n",
       "qudrKfycp/0a1E1TtfJUkGx8W3Ltk5Wb84EI6PkFV+ZhSwS4DD6NR61iEV0pr7wgLXyPH0bjdaDj\n",
       "q7YfHc10p1/jRJXuFtwtaXHnkDF6nqh8HInVZeV1ewTPnpjWwA4Ob/AGtVjy8pIx+FQuwi7DBAfx\n",
       "YQVja3/4Uso026mgEbdBlYz0eRon1EEKKzb3JuyiJEYudPN5CTVaMs+tlasObRFu/bSmKmFj5Xdn\n",
       "Trw8Q7CKiTyeZ8EnB3RsI4K46OloGpt9IC6zUPzvOHcEhs14NiJcaRdspEGgwv7V+qPH4iPyq/qi\n",
       "5TTv5v7hx7RAS7m/UprJPSEkPVolyBj3AxLxjTezbRgNFXmcgM9CDiTZvhe8N4DcOW8WcFH1kESH\n",
       "jHY/rty1V0UBZtz3prpQhgOImWnpXghSjgrLrPoZyssaAYV6tlXDeOP8Q011PJ+jMPyFmssxhxqp\n",
       "EaX3ZX2zC4WkqNPPVzIAIhBFWxXIugcwHk0MeZ3eLqjEYvUTfFWXy3xLu3bIIMwvW7H6XiJupyxK\n",
       "ulNS1SgzQLQ7SjbsgACSTN/B/o3cPw8Z1ewT4FryriknyTRbaXPWE5urx2zOWZoigvG2FlAAAAI0\n",
       "AZ9zdEN/AAT47oztW8TTk4M0Dfc8LbvcSWTH7E8uw05Fi3qAAmUN9HNKHCXbj3McWE4ANxpWLQKH\n",
       "wNhJZlMxW01D5L7x5/qAdlNN3zFOOjY7aL4rt9Iau3+DU6tCf3BwCfdK8NclZXhHeTHXQxnZ3eLe\n",
       "gMMxh+/aDqeoyN8spZADj0eyQigvsgxdoxSCF8XP/e49z62E5QVhWd/H/SE15joxMlsYbTFbosvC\n",
       "daGa95ZLxyu/hJkFZIKkUWImw7ffC5A8bmBRw6GnaZJDItaILUQ/Rrk8jMk3/Nglg2cpHW1viFoc\n",
       "Qgf4VEubopbDH9m/tJbztWzfFIwVDxKHfP1WHv34GTebTfCTBdczu9jVAdXpRrM2BhM0QKYJm2I8\n",
       "lGvqRV4BH0duQTX8KQvglD5jDAl3+EOIf5eQ1jZl1EXsovdXgY1AYpeSv5D1bN5fk+1WdqoyMi6L\n",
       "O5LNFH226iIp9eQMj87XhUwr6xvEWVmQ9+OhF3fHQc1nbEHo6ig1r7ACcoAfkEUNByCiDGMcBiVn\n",
       "6MfXOfb9xR0RCf3FTmbAuytiziQLrEUWgSdKk3vLD6PSOE6Isaowlr27JcZfkhh50lOegmJomWmq\n",
       "XOGfePB5VFFbLFTsmXnOnEq8xjbtWKT6zEgT22KoGf3mtmSzZ/dpmhFj2LpIhb5LAKW4Ey6HE7s1\n",
       "8jt+BGtP3wq1yyORqCp3P/V3guCy97wlo5+P3y4+d65L3tTOg7TASOBA9r/MaFH4TF7BAAACNAGf\n",
       "dWpDfwAE+efI51VIirzgzId4T8Fku4Qfb0SF8isDHWI3UnAB+0f5e2pG+ROzeeAXfB2+N/ai+kXy\n",
       "wYA44DuegcTYLdbMv8W0LmrB27ck2VcWj/1IF4MpQGWsoM/vyjaAL3aC/0kH1P3jP5JKjC/bKlTs\n",
       "Osqn3ihvIwgusxNo63r+GnB3oRE7hKmvhcay7eDq1UoPispEyAFwHd7wmbDx1xaPdL7ajK4LgEtM\n",
       "W/RCvtGgb8T8ozTVNW85r68CeCMv8VwfZHgQ8Q3q031pDATt2tfw5g+A0jL4daoTeMVHnovPWZ1w\n",
       "2Z2hHnA9TGSwoZPbekKeVw30Js8eq3GBSqOUwILBpIYLaQQz3ESyCHSgzn+cQAbUV/X4uCo6pjL4\n",
       "hkTFNT0qYO30SfDDMLCbwDozzWjYG6QCtbOrJEv3Vr+raKUb7LG99FXMGne7JK4VQP4U8niiFD41\n",
       "2kdzQIbdLXB7EZyG1aQFB5lawfroOMMrenoOxlVceAaMUf7ZvFh0COccKCZbVxtQO6+T1Lm8kwPM\n",
       "LcgLk2W3Lc7mVzCYFYO2cjCXjhHCBsy7LJmqw/JcH8K9ZyBCs1oYieixcg8ilhMFje+mQ0SgOSid\n",
       "6vmle+vlPtsVAxgd+SO+ekx9qALCuFTID4eGOAmyWnRQqOrI4sQAmhVmeQqdjiUo4d5uqDLF+sMt\n",
       "UDe4ZbUX49AO28wgP/CZbolReqfR4feEV1u7FpTVaJ8VUbRom9pLKR1QXQFye+/B+QAABOVBm3pJ\n",
       "qEFsmUwII//+tSqAAAADACu/QYZfAJtvIAdrl1Y+nPc8ITgAnPmFhyIfUjlzZevm9eH8zvH/+ULj\n",
       "aCVIXza6Edt1WMWCgTVtf7TVDGftIBkVWWcwV45TUsEtaSJKthnL27PpUxmsewE/fBjIWo7l1T/8\n",
       "AC+kg4YQbE2n04hyYpUHUvOipBAC5K6yJk0E/uAvFDmLyZDy6RgK3K7BLtNcmh1S3x1iq9iUz6k+\n",
       "/CxGa1DZ6xf8/D/05JCUTHJrxdsvlzUrP84QtkNcrdEE38Dq9SsM4edBHRuFb5n6Iv+OFX+mGGJE\n",
       "kIZGbiASS2XMpf2DkFrjYvE9LCqSkfrd3jx8MrI9MwKjdFIqN+mXrxeaCYoccxLelezZjxYiNqCc\n",
       "7nq82SdQ7HotiJ92o+w8a6KAdfE7nZaOsccrFxzy9XPwvpIyAapd46kD7qpFwgYfn0AT/YzQS1v+\n",
       "bn5XizlwlV/z+UcBW+2dKMm6Uffl//RwiDSh0LDtAl3ZKPqYQ4Ydc0ghDb9SYN6lChg/mgNx3gci\n",
       "NlpbxWiBMxkIMFBQ29MzHtSX1pRJnuUf42nAGSmLsPGSgSFI9yfSpexBb8poKOJq5xbshx+kbwrt\n",
       "oZniAEPKDghdFXlYs4f3/vI9ydiSiXrYUoKoaRRrskuwygxE7TfCKT0HOVMw3MNH43HpOcg8FebF\n",
       "djgjkfuLOS/H6KDe1E6bB/YwoLITtsTvXBaImMDh/tShayPOhdm5cyN1fVjlNBGERNi/ZdH4uTa7\n",
       "6wD5Ycvkz/7WjlM0H9uWIVjmln8KnN/9jxrUMTOpvEvyjJgcfH7dxF0z9a4ZEGze5dBnvh6tjG0r\n",
       "32cOiL7OKjVy+7lhJ9ndoqMLGjDTR2pWQkLODsjiBcUMwNOTJfrGpMPuyN0hQfuAQM6ngNFoCf2F\n",
       "aj2M5X+H0CWAd92CUVbNHo9U1hvci0xZncQ9XEewG6qEjfmseQCYEjMk8Jjc3mlMjErChtta3SIY\n",
       "OYG5lSDK51C0u3wg5c30OfxIB2dvYik8OVwO59lb1cBASzLA/3zQaOIE/+XtOJYRZy1slUqgCLRL\n",
       "vSRJVyseVZM8Tk4LW61XzHTgx6/bnPzfXTJO51uKDLL8sNpV6zaOTfXGY6Yh5XFEGqvPQACvDnDe\n",
       "ROV1ty2nIL++PCAHl6fdW5H62+Bh4FV2SsDWa4/1jlDWrcNUB5SI9S/8ndUWgvwbBxzwWdHQ5D7G\n",
       "851tVOxACsPmbXYX9hVs8glxTthyKInZ9p/AybW0CDo773zbusqVCE78VvXXoTvEHeG2mJhqWTch\n",
       "e3OkuJefuK+2+4Nx/ou3QM2wWl1jcbXbtgrgZBspRPeLj9rHcOX8RlP0xP6HO7LG8dfkygVe3xcP\n",
       "2YMQ7XIoG2lCh7QQRmu6bsXSn4f/xb6RcT30WLUs49IOR+0mr+X7crh456etRRgvv3e6yM/JSw6Q\n",
       "l7bu9FWHGDjJPKDy6rXDd+vkk+j5JpSFhyh6ZRhbT5KvFyyZ138pfuwKhdsoT34DhdO19YQ2aYcu\n",
       "IjELOCakm9zg2ca0aiGnZ4nBJyqKexa/6HeiJu2Dxf4CAMteP/aFpFf13NCZiqYtlclBGND3BYDL\n",
       "M2UvYVxNViYM0CIDYSJK1QGGn5YKUUJxZVrH7duSuKYEAmU0Or7X1Xsk0MeFcSFLCEQ/eQAAAuFB\n",
       "n5hFFSw7/wADekftKibG0OUfhjtsM3qgExSnQo4NeidmAr7BF8JAHQyQLwbpJR5P07JmHF1L+22e\n",
       "+E27uIGxQR0Yep81ClhOGWH0zZt6Nce40Q6rpHd4k47Je6c6P4IMf0WtsPPvsfRFZuxFwhPTpNZb\n",
       "aeDJq0B8yFbD4IEysQP9ZxcyRHljomGAZ0pUBitQsakVPfKjhZx/Px3wiUVhhwRfgd/DkevMc/+h\n",
       "mT/RdsBPl8KH3VXX/nM3NCgAXsJ1XhtO+iQe/l4lsYnSikJsQ3ZrpIoss32k3s8hjLCil5XNHGos\n",
       "zMzN/nRQaI0HxDtRMwD3hKMYHPWs8Cwp1EbziJ5DyM4yYTTk+hjdWu/smf2fP2RbwXTyLk2+/NQk\n",
       "+IuiHMxDZpuAG8TavY8X3yZR5/oeEK619H17gebgWv3iAdgbL+xPB9omrjOLu/p2FZwVnf5oxTgU\n",
       "mZF5i3MJ0DoSWE8m/OLCwzfg7q5kiKA82zBKml6uwFRsIZ/zvFPnwEgJRDY383uFOmQvoLqoFUko\n",
       "s0t7NhQe+20HuU16XoDYu4yODSNkAwPoK8YmZrD+ZoLLhcoR2JaEhRtI/M0az+F1yizMcq9vigih\n",
       "p13283z95ssCxBsH68JvnY7qCBTFL5ZnM1/N/D182Q+zx/jt+onisFyY69zicc5hgt+dRxQGSj4U\n",
       "es6V5CALGH/xBdnJ2uZIcZtg2QRf0d3bFzv7xvMLBKOCJaYVmnVtQgIobnoI4TJwtmGIcf1v7I2D\n",
       "1d/nkycptUwUDQ6fK4D92LDncJd1iSbuZEhnPSQHK93c/gCVfb/E1qvNulwCqH3Qd6gAAcNBImH8\n",
       "goGbQPDMULdqoIkU3ZnRbJV5i1HKhvx09NaM/NDwUPrZaMbqYoE7xPjLgLt124r8soCQwppCl8IV\n",
       "TXSI6QSh12kYptNwJ8LxIg2qktuaGUf0IadkxuRuiJx6+MNSUKTxddAsEgjASNZWV4gZ0QAAAnEB\n",
       "n7d0Q38ABPjujO1bxNOTgzQN9zwtu9wljyUFAB0qRfFF5sSIB1J9leXqNs0fyVzesAop/eBFNLkk\n",
       "KEJEEN6iqeJqqXPtksoa7Ls3GR8GenFvvTGmUrkKarHbaZSgZp3lu2IwQjHIqp9gnEHivEr9gR1B\n",
       "V5q3WsmPZHhFXeN3c99LsFgqYraxTPo2WLPlPpQLnMzA6itLO64RpdfWUeyc1XLBoxjm5KE29Mej\n",
       "q6aYj7AcEgZLXYVa5wngwmiO0N+4mIB/BE76AYsrXgODuasv/5Jvd0/SGyL6ny1NHx8bwKbMbRTI\n",
       "J8bgqhVlQplwHL2kOTrZMsvpnOdQIY9p1jNcoW4LqOzW0s6lHAYk3dQ/EJmoQ85go/iqAUlvc2CK\n",
       "OtFiEhPA3PURA2xIeh9ohRxPct8D9pQxlaLvkH/+XzQ0NhkrLGSPQG/IoWNo9konO+DG5oyVJvbC\n",
       "vUJwnn0/Iy0Y5xxPlyGyqFtT2ewLsRtiOe8aDOhLchdoj7u4L7BE7YBMp0qHYk3X2ciexvecEnbw\n",
       "u8M+LO9QEogzzCkZSMSjb/92ghNY97DjauL96tnwV9R/gdR37sGNgJa4evpGB8Bd9J0sKuET7Te/\n",
       "+OpCrOPGOzYZ5SmKUX63hfOsGesqztOZqTGitox8bkwcb8qsgm3QJA4/17AHv0HIlzqzNY7bg1ZS\n",
       "bt3f/ls/UtqNjVgKvk8ScVcdLLvDmbDcBJLQ2blwb9VCYfvMh9O9rY9BlPqYEYXWdRGMzDUoSTDA\n",
       "Fcdjif0UzzUzAvzYE+z5h+SSTDoK3ih7ctZMgH+Y6mtvPGi85WsE59E/UYO7DEsuBJ56KHzAAAAC\n",
       "EAGfuWpDfwAE+efI51VIirzgzId4T8Fku4Qe0kczu2WF+MUByk6gBbCX6c9BhmDSWj7bQy3rOz5f\n",
       "hdjjVf7O6Y/pj/6g3Q0CPuWN+hMlEM0zsaT8KuLNrDnvTZN6fNMMHLjWquc3+g+lD1Llse1ux2tK\n",
       "Sp7wFmfBhJq3mT/Yl57AygDshQcuWsoXg4CQDl1cldEeSVynqlrbXGOg08VR82JGPPpN7VnAyFea\n",
       "4dWljjUZR2JcqYrE6p+PoYaPLmxOqAKMRkw4W+J2eolgP3V7ZJBBidAqAO5WxNqeaWYl8YIeAy3A\n",
       "+1qHf1zR67prWmPZBgp5m1Jhfibl7W6CNMJPBRqIkPD1fNjsuC3xcoLg4xnNs6Od2r2cJ2KgCsow\n",
       "SY/pI78gVuw1Fj60eS4OcSWfFAJRuJwg5PhA6UylhpbfdRx47a7c4J3KFoqHIgkaEPtX02yqCE1L\n",
       "pAMfj39dG+DqN1R+s6ZJCtOPMHvpUM5b6EsvaZ7lPJgJlDURwAEum1z/7QxLbJnSa539r/4dLQjQ\n",
       "4mqez7k3J0Kk7ApyIWnktzBzaDrrUc3eC0emtW7HE/KWnwbUEp9hnIRmk3PqNfqBJLMS4Ss+4QhZ\n",
       "ITznZfFfpYy/svzqayaAWgGeAbhQoKxwd6KZhsUttZqrz+y6WjQWHV9p4DmIdXICowjUjl698V1C\n",
       "9OxJ75HsBtsiLgg0CylCFwAABBBBm75JqEFsmUwIIf/+qlUAAAMAADk+9sL7LNl5HOZVYBIayQes\n",
       "guRgfMhnERjjOIm5AdSGzdcFiBw/sEgg4Lh/G0qes7x/c5CWMfSM8tz8jmIdX9xZ3k63A9Fmap6B\n",
       "XhmskKNlitfw7E0vLiIVc746SsWW05KjtaDqDlG0uafkX6d1d+z8arq/LOwKat5Xp/K57Pc2W3ik\n",
       "ziy9v+DjgQlmDlUPf7DmeMGhq1EmBbYoDx5Nn48WdySyVh3n7X1A4NMT9dDczU2u/DBtjM1vsQR3\n",
       "S1jwvBH1BZtsi7nd2roT1RM4+1WvrgtoEroJN7hKii97j3sjtlMVRFjpg/dBJj4SeQt7mI6dlBF3\n",
       "AoUuWhX5tu1tZFZOxrsV/WqtIyXBGvgNUEhhYFdNPP/APCnN57vFWd2rJ7fWyFvVEL1jZTGOzTKe\n",
       "pGiGm0tvyL69PNrNqRffEzDjYZNltJAtIsR1XYtzwxeiUUItW2J1Xt7NRlvi9VnJoGWZCg+Q4IDE\n",
       "WDh50pQe8FEesvJrmQEzLHSboF4sTrT0/eEkW4t9TM7mBOoWkSiTe+HKBaM0NTfV2HdsZiGg3hiI\n",
       "l5zZUuwU+hm95zSVKyWfzTcZrqmaZlIpFY4k9rf3BWB87VUGa2CCAsuBGHX+xAaFa18ZSSw45HHq\n",
       "6itKZRdC1KxYdwyuIGGXsG1Y6A1jZ66gJuxOtt8qJQz2yDKAc6eV4mD3YrWC/ZEwAZJYEut6cS86\n",
       "JAFtRX3ODLo2q3mzwio+cNK1ykBHOfEjdanWHjuGXKscbepTB2GMR4viYsV0mn3SVCfhuQyCsCMJ\n",
       "XA5x9kdWSgsfVhXi7e4iOyESQRQZbqPtaOfoVttYFc///D2+M8oFhacFDgDZWSSzRyXheHUHVpiO\n",
       "1KaudJ3iyTYQSJMAyJdvQR0zhlHFJOohVeWB4WEMZukST9BFMPTjRzmO5MnHJ7sOhSKVYyUzGcgD\n",
       "ecPUM7qTddQuMI4jJ/UU9GT+lPcZmm1vD7TaFb1SMpfup2kn6o7uSaJbvhqQ8PMOlRi2R7rVsagK\n",
       "HLXI3PIe583jhBs7Yj/rxjbBcrwOPxgoNwTOk1CTyEeco2oIkL/PNA8OlkUeSs58UlXZ+VE2X3Tu\n",
       "DTVUpgaxz3OrJW+EggIzTRKxxhejM7WfWfGz/64qcW1qy1suLtukaeGDTIGMs5PNZKCERw+yQkvM\n",
       "gb0r6r9UMmJjF6yfOoB+n7Rep7NHfhdLKlq+d7ZhFLrGPXpIvfQQziwe9jZ3+fwqZUmj0wwfy4wu\n",
       "BgFD/llf18MJhqSumArpuZCaCN4jdYlMrZhMIN3wVzFxxT4E2DqNnbzengA61jkGz4j1/uYQXw1w\n",
       "tdrqDkh36fQaeKLTJ6lrfOXVhFRZsyfkAddgn7mGPgx/BAAAAxJBn9xFFSw7/wADekftKibG0OUf\n",
       "hjtsM3qgExSnQo4Na3QdGQl5N+mTPt7pwAtJtb2y5bZDJJI7ZmVzOKWJQavpdgrQv/cP0r8i5Boc\n",
       "IPrrvdUnYX+d9C3cr5oPku63YkggGS87WYNZs0ZFLf05buRMndO/WNGuidkVzDcWZp2SaER4yYap\n",
       "iNKu1u4E1cswRUBRHbK9hd8qAbi7LMasbWn3nCQSeW06fEPa/NOezJxgXBiiz6jJJgYKDjsr7lA+\n",
       "CkFR+ZQpKab8Q3pPErze1OfxxQLN1asBUR3wC601kUTQQ99vUE45MjvifVPWzQWIrmVG7SHyk7Ty\n",
       "NX+kSu5RcRurX1a0Ha1RkJQUrzAS1y/Rltq52bCbrKXUjKoNgPYN/hYJBCZcABmavukmBC/lZhht\n",
       "ofzmlXkOMPJrKKcLAvDqL2I7NcWZBRLCwrody116ARs1neI+U3LZy8EIgsK6p/BCxhAFexFJeTOu\n",
       "ZkZ+gV2PF9ygfn6Sd6Ys9dVmdIkTCv+0sFDzjZSxZfxfaQevA6ArCOB1GPnJRK1wQMC00JGiGohh\n",
       "lz8Io3kvW6Mb0zWDJzWguT6FugyoF52Uhus/QOsd88mU+e+3XquyLJPs659Dv4lYwkccrvkwDzEg\n",
       "E2zOB7gRSkxsNemvshF8YF/urJEABSXHshoVbr1IWBKmf3orfQ8qFLiRQiigLsvLAeX6MQQyFfaQ\n",
       "UioE5z51JniYG76afHdISLUZ8Kq6zgSEN/ReV8g5EFVtYPzJeLFCgwguWtGxvPrkv+ffM5q8nV6U\n",
       "JrMVqC6/V8T638q9pC6M9vkhT3+dyHcvYI/yKnofSN/PUGRYWpZ5f3VYECygNkaHOlFL5MYL2VQa\n",
       "WzaZeS7LfX4v4Fd9pffcwuljqGU6/zuXH4/qdM2ZRKPXi1ydpjIWePYn57OnxbMJO/DaIlrmKoVV\n",
       "3DBNTufmDULCl/ZzdZpi0PDqngf8ltA5ul4cnUD9ClOeTqAzNtrdOb+ztUkRFpx/guTjzAJyk3NP\n",
       "PrQa5eKiF7TDXNpeY/cHZOWBcrquV8YAZ8EAAAI9AZ/7dEN/AAT47oztW8TTk4M0Dfc8LbvcGM2l\n",
       "aCBtQBE1x4cHbYsYf9KElZH762l4dFldYW28r+kW7fp0OOGUedwZBTZ8DRpPEFIDNki2IGVrfrMP\n",
       "O9G+xoy+bOwGstUf7ijaQqJqJeAKl+hiyAV4ORdM1waCxYnLFRapgxa0hhNnrqVHRJnrMArz0FWa\n",
       "rhVEIelUHb//1b+sglWCMZigFIxp/+f0M94MEQree8qlaezqLu7spU27Y//1xQy8yDHL08rJM26j\n",
       "RY2YzieqAk3tvprIxRatehhOHCY8OgtrPnl4VlCZMvDhZNWqCQ1X6UBrObdZE/Vam/6ZVO8l28zW\n",
       "ZwXawFNfiSjb0A1sRj+DdFLNhzePg8eEXtrShvpTIftgd+XYVYRnnJDgU5fzhwtiqlRQmXKkYwMz\n",
       "fJQ1GLpS/qk0I/OEfPoXWQIFfEhYNfkgYLRZPPnJa76cD2/tzV1D74iMKEE8YeVSrLZFzecZRUbp\n",
       "Zq++n2y6heJ2abU/7VrFF2H+4zd41DZaUBySeGb+CnF5dM9cntRa4PRtGQ5tIEECEqTe+EgjCd32\n",
       "QBLwOik++GO5BEirS2+sqpVAkbg9L+poUWR2Tc4ioj5LRR6rEVH3vsffxDotJc9kCKPkxJsySSi2\n",
       "TrUDFLkDWEGn0FGCsHXmxHenHlrd7pYu7L16dTu0BdPknrzklZNzIBezL7yYkdYAiczY5AIIeCX3\n",
       "q4lQViXGzO4U2h0Gno1FWH19VtghU0jcaK2+4tvbzZNxAAACAAGf/WpDfwAE+efI51VIirzgzId4\n",
       "T8Fku4LW7uHxTxGgAIy3cZwAfv2ZJ+NIo4Mb5hw2Z7GaDBorivWkdF7mYG5QQqShksxwbNF/zzaY\n",
       "BoxFZc+Rd4YKWjaSemXU5sT7W3Ub1SI3h02zIt6nrrn7ExFTWfhrKMgUiD/3Pdky5DH+CbCFrFlu\n",
       "Y0MhwcaIqNFerR8KyszxPHl2ow1lsxWtbs2Kw5THtAhEiOftzHjRipgb8fD/OTRstlNHXePNZLfc\n",
       "uQ478gUQNAMD2JTmePLxIrCi5U93iXDQSgY8BnxrcUvI9rSZ4WUYbZxMYSOomHQO4Pid+P1OnM5c\n",
       "/pOZ2fYfTqzddFNk6tBZXzQbrpoBWbJAyqWQlUXip7sSJAPoDWEY5JydY/bLWxw0caIa5jmglHRR\n",
       "UR9Gc/ySAB84LGn2XrSoUeOjJ9LmBXAfFDRgyGVvUmwxXXW+/KjIgTxaCLnX36oUC4tGZA6vm62Z\n",
       "oGmzAX9ZfJAlwXH+0qGYMicAXPq60ZUxV0wsW/PRTUZEf2a27jaxu0N0GR7Z2g2bjdruMRhAEa7L\n",
       "H55mwbNyb1Rt4Js75M0I4JnwbP90iZyIGuXz7gjVUFcFikJbRYcmscCjdXUeUkTDBoNQxvKQwJLO\n",
       "ksmYk5A+wiqKwq3JRT3a4V0orc71dCR3YYpi+sQ8svhFhQVcAAAEP0Gb4kmoQWyZTAh///6plgAA\n",
       "AwAA2nutPm5B9diEAVFnyS3pPrDwdl91AwlqjyhNA7beCpZgQLX3b4sFg1aZFjRp3Rv6aUKSn5g+\n",
       "E/iOSe5dQjvGWAp7sjpUVs21j97JGFQshGpVqUmSOGN8sIPOAsbzZEBsLTlUZKDZvLwyDswA9/tS\n",
       "6Xo7/kFhVijenu+GX9QYdt7EaLjLSep6yj7qYfwZKt4Qcy9ZIQsiAi28Y2YEGvhHU05oISzkWfzI\n",
       "SP6TbQdZhomUzshQYiuW0LNhcnvho8bKYS7j/9R/JJSspls5Ki9R4lg8Rp+k0RG+P4rNkP02hRTh\n",
       "x6JgbT4mp42OPAo5KqRHegNRj1QebpBX9zostZm2vqpDwmNNcRlzaR+k7uwhkL4k5nfi13IWbkMK\n",
       "/e46475A8VsNcyw8iT1KUhyIeDMRQqRVq9E/4ig5IX+iTzOYuQ93jCfictirvFREOhn+MyM0mptV\n",
       "sB80f7iH4MtT6IpFebCOhwqhI1Kzpa7eignQDcwWfXKPPOwJNjqj2P8ab0uk60HrbLi7GjoR4JOE\n",
       "dIQnrVuipTioCVnzdo1OWJvSbfO1RYsgCyAyXLUkDgvM7sK3RFnopvskZfSPD+iDY+QuM64sYr3B\n",
       "eXjl//zzicEFNhVWaXpF4FHUbSZmZGUhKMB8hAnEetA24zh8lONzIscMDVvEo+SbSE8hTTFmufaf\n",
       "ltVX4T+3U4zBRWhHhqFwoB/FuT4K37Y7EcSkQot/nZBnp4ykYXqpIq/vvz7mog4cgq8hNOTH7xYZ\n",
       "zA+oSNCttqYQ7SC0+/7jwKzS4XEAFAZU3atDPyilCBjKP+I395P+af7/Nyx1FTQq4DQd/35EtgKB\n",
       "XIT55mok/xlSUmtVMjnJivznJ+1QRG4b0P4VQXWksDl3CUxIv7FZnGaQXNd5S5vhhzLNWuDnPHYr\n",
       "vcEyWxfkAg/xuxLGFLJHTu8eJT+ovjTsFJ+SAuRvZ1Pn9lRo/QkIe2u+PB3ZiIfMpQqO8Ga8WnI7\n",
       "Eum1HtWLEwSZO+u9GJyN5Am0U8H4tOscha3e+53rw3gJQ7/52KdQYj7vtzUjD+noXSo51tQU5IKi\n",
       "7lRjLIaLi0P6yRRVWX8WMPbAZaBzFWw4aD5Exz4xVw9mYMBgDRmTtMG9CQB7n1HovoftH9V+LUUi\n",
       "nGZWc+7PrHBLbxj9vxvGF3HMP24eZ/KpXmMsayNWMQB3U2ssYYycoEgRn+wT27FBNbUe1VPNWLmS\n",
       "xNWk4qiCoxeF7FQTfkxVj51KltcSL49VyeRmc+HVA34ODpRSObCrF5oV+467QrEzwJfxxalnrVXN\n",
       "iLP/zQJJVBKEgYn4HsK5vx6VI9CTXH4xGePWmqtZrV8jB44xwHZsUb4IAqsakBKC2KYMhfQSifD3\n",
       "0KDw60UPl2GAChaWeh843y2fsqr55dJsqUOYH2uj/OGYWZzfB3GChD9VkcAAAAKKQZ4ARRUsO/8A\n",
       "A3pH7SomxtDlH4Y7bDN6oBMUp0KODWsw4PU64A1XE3kgY/9+fafyHpG0oHPA9iM9KFRAxDOMbK2+\n",
       "m5ZBCxr7xuOchiE5uqFvS5o86BsG/XxTLDIq1QOMw+9v2twZrjnttZGIQW6eK3O5HtMAR5Ljfjbu\n",
       "dYalc5mZNSUW9b+ogJqe7tfjVMIG2J63UlH3HbqrRgzCKdj5SSuGPyu+gCes8M3+T3n9klCqvZry\n",
       "HmN6dceV0BnSDkaVyFjq6LXJJeB9Ztbc+Cl0geYbULwSPQErQ9QlOfouOSpzQnSoVvTYl3L945mD\n",
       "ir6mZm3udrHqHH64uSs6XZBIygNBIR42ypDT5CSZRGLEm4cuZjwO5I4Kv5B+VEfzata2cyDwrgAH\n",
       "N/KCzl2MrjoXe3aFLyYT+3UuJjAb2RVU6g/SD6Zy2N7SDucw2fBxmMCdRu7PxoKgM3cKDHhoOOKS\n",
       "yg5H5wUCBRjs2Mlz7jxxv7g2w2Sy6Av/Mlqu2oCat03SGZlQCAQ6QSgaq5NtpaQBtZkP1Q2Ye27p\n",
       "3pxaaqvq9YTX86hA+130lrMY30dr+2FDfydp0J228VcBI5Q4RkAu30YP5xSuUNZ0r0WTYbROQ7mq\n",
       "3ow52+vsLNQFSfZf5BuTcgk1aBskfFAMyuuGgXw+wi+v2+k1hlnlgRf98p5H71ZyFxA/UKghi3Ck\n",
       "jH0g2I5zHqjkDNVEkCmG3tMxKDe+lxourpP5MaHl+seJUN63nHfvPJK1ftEgB+OggSoXbbpkszZr\n",
       "F7q+C7CXmVnJPXNAWoMaWAGsAA3YRp2+KKthxhf3WLx/4rV9OrMdYku4CbTNIU7/TJ3p4cLKm89U\n",
       "gKAnAuXLyE2YwdPPBi0AAAHdAZ4/dEN/AAT47oztW8TTk4M0Dfc8LbvcGIs8RjRzmQALgKpk3aac\n",
       "nrdzHW2UMX3YIL8pIPoI+jtrxGfdQFEGa4x2udH7L91bd67rwP0WNtXmbOXHnssB+HWHuyPXIUhA\n",
       "5Pza5A3MM5dgn9N9YSMAd871E320vHDP4UC4Q2k7qHVwITtKlTLA8vDiZftP9uqIVWz562O4jw5c\n",
       "gzPZsC7omY1+XnxqKz0PPnT2NTTc097hfCfGd1WpX196ZjTLjBpocA3oog/npL3B0bywqg2kQXRY\n",
       "QZ4rn8paIiryMXv39WKPweXGz5YQzs0BckDcaWC0WsLTo6db+0tTTwTp28MJwuA87HqG9ejmIiT4\n",
       "DaNmurE6f/ZF3rrfnPlnWPPJ09NSxrLxERUDkT+aC4jR4rodg+Ez/wqzT9lPvO1hr9xgkN+3nESk\n",
       "tlzYkgzFJD4BVUiBjQ3ojzgo3ZdAqdwyuwSu3SruHd9jD4kKqzVwElb7lRV7Yo8RsG3QtZtZG894\n",
       "P67Et79ct9XmPYXIN+TIXzNMewN/2BMLK2Y8y2l2My/2WNuKqsyu78v0py/3gnyYl17bBnfyZ8hs\n",
       "rxxUnnuyQZ917crXbeaydHdkpqizYvBF8UtVP4J42eNUfiYoK03BAAAB4QGeIWpDfwAE+efI51VI\n",
       "irzgzId4T8Fku4LQes/PEjKKC7bt1wAuA/PrAsuwKQkEfhBqddOcS8TIQPRAC6O1NNDmTg5rrgAO\n",
       "yuxPq48bGv9kjh+KAxIcIza5yoiP96k29cFcG2RaZxkPXcQ/hUZoEXM6VWEBeoS2M04hZjFa/Rat\n",
       "eMmYGZMCYZ7ZMTi2ZZnLCcD4k+KC/97sNvlcTWmEA2NgUVlMbeVKtpy2/0zc90NjGiMV7Y+XSbxr\n",
       "lJD9BTnnfp5uM3CWOw0kMkyLsiUrbYRnASUFPwbmV/aOqZ0Ecpg2Ti0vhcDTIa02OWGwgDVGAFjC\n",
       "wWU8tsQojk3hIcNp+C1TvTAdKZSvNMOLxwy7QGcHl+yP5106mHcOpLgHijUZaBxINdiX0uWb1fRp\n",
       "O4GBJ7yTbG848dgZU3vfau6U21oDUry3ULcIOa6xyRaLGOjc7gel+ccVjWP8bA+ZgbOgcW7CyAkv\n",
       "k+YFME7xDwdoT1lXombJ3HyMctjMrM8GwOq7lWs8dICv9rGdRhF3BFLzZugJj24I4pTMou35AEZr\n",
       "uKrgYldQCEgNZIUZBzSJDwKsNQay6cCCVmvJNhPPw8HiLRr7BaGprLrpiYoJsZx76np0Hf9v4Y3a\n",
       "nhd2ZmseFlLt/4EAAAKrQZokSahBbJlMFEw3//6nhAAAAwABp/ZNee2XrRHEF6aAEncukhDLf6zF\n",
       "9wtAtPh1FUHihiknuhEVfoMoxutbF2OTt+ba9Kj8Xyvukip7dqGBfH95Yu/nAHKyeioyjgAelfqW\n",
       "wRBfqv0L3/Eh4/pZPOE4uOjN6AI0DlaRz9RohJmd0uLc9YsiWHc5gZ54bcfzuJYwFhLDq+swSVtS\n",
       "r8HAl1b0QewHSXfeQhDz92q+RO9zr0aIwjysdp92C8mgE8szLUUD4zHUi6BtbQvLH/o8IcrBIBRa\n",
       "SvOCdSgn7xLRN//5j7YScTez+I+6KHA5pkC5PFcSqMXBTUjU/sZ+ESkovrbMpqn0khrcGiZzeUWY\n",
       "3wx588zTfjfno0RnfPDaOXidce2uNspTxM/QRWnsYo0eBqqgazztUZIUUQz78Kq4pGo0oiQhd3nP\n",
       "89uKYJXloqEOIU1asfU4mWbybKcPAZmFaG+K11QCIvrkgwYyHc7/KWRSyadlpxeLnpc4zH5rXdDf\n",
       "gL5es6XvsQ9pf/DdHLlq+mJqU+s7q1rfUdIp4afVGJ5wubHfzMXfzkswX8yyRuhmrj8Ad6Af2xz9\n",
       "xMtvY4PMt/ZLFE7HQtWTOO/YsJcVbryReOUaDTgE6SLWmdbs9pomUEMFZI7087zCa5dLN63smdnU\n",
       "PVA/YFJ+xqiGcq/xawI5BRBITJLc2TdWTm/FucJB08gfW/s+4JvlXQ2yTeRNqReKKf3kkPQeTI83\n",
       "G7SQMJQ1jb4nTqOF1fY3Wj0bHOgVrPnH9cdxi6DjaX8AqUw0Rdl3dk3Ab8Mf/0/0XArprhPx0lIp\n",
       "CEJEGnqUFyp0k+6bdCP6rwbW7hdSuYB/PobPGvQUSmqR9cZxkMCi6fRSQmZTgFadoDYAIfUL+fqt\n",
       "RYxoPRV/KnQAOuo75FAAAAHZAZ5DakN/AAT6YEQqoKkSd84Mv2huGvlJIX2hQLxFUxvmCAFAvHWW\n",
       "TVImE7rbyLEgNg0Aw7wvIAC04gBcA7hlMHRKJ2RC8BCrylXXZvMOom0IYsmcozcej6U2yy0I8Jhi\n",
       "Zx2vL0Xm6PdfWUWUBGDQuobFOMRc4YbcYD3zQtV30rC7aG96mvcv4ea1jyYKd7PA+R4fEfVaYkLS\n",
       "mX2xt1XAq42PMnpNPNikJcENJRjc3ng0zaybqn2tIniwp1cU4Q2x9Xjxt76NS1LVsnHbuKJK5Exj\n",
       "vbmBbo9ZpYClaeV/gHhwAaQ2q8DtjEre/RW7qa63g47dXjZ0YjbkMJvbT512I34adL43+S5lpPyy\n",
       "nHqN+iYba2W+akYFNBAtWwGmN4qMjPtqp6cMUdrhOouypOJHbSnZVI+KdK4BZcKGNcuurVdd9kT8\n",
       "N4/PDV/gSizCeYUTWqCvB/eQdk9d3KDsIzODsocMg1O5C3OBAatjRjcy3IeYEhEl95Ke1f7MCBgo\n",
       "/803wQPZzQfJj263+XCH1QIZxc89gFAGaG5AU5Qy8jYFPSMF1Cyxc4grMVVqRUhme9iRPplX1Lzf\n",
       "PkXPGjIseKdbqM9VQkab5befPeGxRYprJ4ujSc+rsW8FYcsAAAczbW9vdgAAAGxtdmhkAAAAAAAA\n",
       "AAAAAAAAAAAD6AAAJ3QAAQAAAQAAAAAAAAAAAAAAAAEAAAAAAAAAAAAAAAAAAAABAAAAAAAAAAAA\n",
       "AAAAAABAAAAAAAAAAAAAAAAAAAAAAAAAAAAAAAAAAAAAAAAAAgAABl10cmFrAAAAXHRraGQAAAAD\n",
       "AAAAAAAAAAAAAAABAAAAAAAAJ3QAAAAAAAAAAAAAAAAAAAAAAAEAAAAAAAAAAAAAAAAAAAABAAAA\n",
       "AAAAAAAAAAAAAABAAAAAAtAAAAFoAAAAAAAkZWR0cwAAABxlbHN0AAAAAAAAAAEAACd0AAAIAAAB\n",
       "AAAAAAXVbWRpYQAAACBtZGhkAAAAAAAAAAAAAAAAAAAoAAABlABVxAAAAAAALWhkbHIAAAAAAAAA\n",
       "AHZpZGUAAAAAAAAAAAAAAABWaWRlb0hhbmRsZXIAAAAFgG1pbmYAAAAUdm1oZAAAAAEAAAAAAAAA\n",
       "AAAAACRkaW5mAAAAHGRyZWYAAAAAAAAAAQAAAAx1cmwgAAAAAQAABUBzdGJsAAAAtHN0c2QAAAAA\n",
       "AAAAAQAAAKRhdmMxAAAAAAAAAAEAAAAAAAAAAAAAAAAAAAAAAtABaABIAAAASAAAAAAAAAABAAAA\n",
       "AAAAAAAAAAAAAAAAAAAAAAAAAAAAAAAAAAAAAAAAGP//AAAAMmF2Y0MBZAAW/+EAGWdkABas2UC0\n",
       "L/lhAAADAAEAAAMAFA8WLZYBAAZo6+PLIsAAAAAcdXVpZGtoQPJfJE/FujmlG88DI/MAAAAAAAAA\n",
       "GHN0dHMAAAAAAAAAAQAAAGUAAAQAAAAAFHN0c3MAAAAAAAAAAQAAAAEAAAKAY3R0cwAAAAAAAABO\n",
       "AAAAAQAACAAAAAABAAAMAAAAAAEAAAQAAAAAAQAACAAAAAABAAAMAAAAAAEAAAQAAAAABQAACAAA\n",
       "AAABAAAMAAAAAAEAAAQAAAAAAgAACAAAAAABAAAMAAAAAAEAAAQAAAAABwAACAAAAAABAAAMAAAA\n",
       "AAEAAAQAAAAACAAACAAAAAABAAAMAAAAAAEAAAQAAAAABgAACAAAAAABAAAMAAAAAAEAAAQAAAAA\n",
       "AQAACAAAAAABAAAMAAAAAAEAAAQAAAAAAQAADAAAAAABAAAEAAAAAAEAABQAAAAAAQAACAAAAAAB\n",
       "AAAAAAAAAAEAAAQAAAAAAQAAFAAAAAABAAAIAAAAAAEAAAAAAAAAAQAABAAAAAABAAAUAAAAAAEA\n",
       "AAgAAAAAAQAAAAAAAAABAAAEAAAAAAEAABQAAAAAAQAACAAAAAABAAAAAAAAAAEAAAQAAAAAAQAA\n",
       "DAAAAAABAAAEAAAAAAEAABQAAAAAAQAACAAAAAABAAAAAAAAAAEAAAQAAAAAAQAAFAAAAAABAAAI\n",
       "AAAAAAEAAAAAAAAAAQAABAAAAAABAAAUAAAAAAEAAAgAAAAAAQAAAAAAAAABAAAEAAAAAAEAABQA\n",
       "AAAAAQAACAAAAAABAAAAAAAAAAEAAAQAAAAAAQAAFAAAAAABAAAIAAAAAAEAAAAAAAAAAQAABAAA\n",
       "AAABAAAUAAAAAAEAAAgAAAAAAQAAAAAAAAABAAAEAAAAAAEAABQAAAAAAQAACAAAAAABAAAAAAAA\n",
       "AAEAAAQAAAAAAQAAFAAAAAABAAAIAAAAAAEAAAAAAAAAAQAABAAAAAABAAAMAAAAAAEAAAQAAAAA\n",
       "HHN0c2MAAAAAAAAAAQAAAAEAAABlAAAAAQAAAahzdHN6AAAAAAAAAAAAAABlAAAPhAAAAZQAAACQ\n",
       "AAABbQAAAX0AAAEAAAABWAAAAVoAAAEiAAABLAAAAU8AAAFzAAAApQAAAPYAAAFEAAABHAAAAN4A\n",
       "AAE3AAABEwAAASIAAAFDAAABJAAAAQkAAAE9AAABUQAAAMsAAAF9AAABOAAAAY0AAAFQAAAB5AAA\n",
       "AiIAAAHrAAACNwAAAygAAAEiAAACjgAAAhIAAAH1AAACHgAAAikAAAH1AAACVwAAASsAAAHtAAAC\n",
       "SwAAAM4AAAKCAAABYgAABL4AAALeAAAB9gAAAnIAAAYuAAAD1QAAAtQAAAMxAAAF/QAAA/4AAANQ\n",
       "AAADXgAABhEAAARHAAADIAAAAxMAAASmAAADEAAABiIAAAOYAAAC+AAAArsAAAZYAAADcQAAAl4A\n",
       "AAKZAAAGigAAA2IAAAKLAAACsQAABcIAAAMxAAAChwAAAncAAAVXAAADCgAAAjgAAAI4AAAE6QAA\n",
       "AuUAAAJ1AAACFAAABBQAAAMWAAACQQAAAgQAAARDAAACjgAAAeEAAAHlAAACrwAAAd0AAAAUc3Rj\n",
       "bwAAAAAAAAABAAAALAAAAGJ1ZHRhAAAAWm1ldGEAAAAAAAAAIWhkbHIAAAAAAAAAAG1kaXJhcHBs\n",
       "AAAAAAAAAAAAAAAALWlsc3QAAAAlqXRvbwAAAB1kYXRhAAAAAQAAAABMYXZmNTcuNTYuMTAx\n",
       "\">\n",
       "  Your browser does not support the video tag.\n",
       "</video>"
      ]
     },
     "execution_count": 292,
     "metadata": {},
     "output_type": "execute_result"
    }
   ],
   "source": [
    "fig = figure(figsize=(10,5))\n",
    "ax = axes()\n",
    "ax.set_xlim(( -10, 15))\n",
    "ax.set_ylim((0, 0.5))\n",
    "line, = ax.plot([], [], lw=2)\n",
    "def animate(t):\n",
    "    line.set_data(XX[t][B:-B],D_([XX[t]])/x_samples)\n",
    "    return (line,)\n",
    "ani=animation.FuncAnimation(fig, animate, frames=T, interval=100, blit=True)\n",
    "close()\n",
    "HTML(ani.to_html5_video())"
   ]
  },
  {
   "cell_type": "markdown",
   "metadata": {},
   "source": [
    "In greater detail ..."
   ]
  },
  {
   "cell_type": "code",
   "execution_count": 293,
   "metadata": {},
   "outputs": [
    {
     "data": {
      "image/png": "[encoded data removed]"
     },
     "execution_count": 293,
     "metadata": {},
     "output_type": "execute_result"
    }
   ],
   "source": [
    "figure(figsize=(10,5))\n",
    "plot(x.get_value()[B:-B],debound(1.0/d(-1,x.get_value(),0)).eval(),color='black',label='density')\n",
    "legend()\n",
    "title('Final Probablity Density')\n",
    "xlabel('location'); ylabel('density')\n",
    "show()"
   ]
  },
  {
   "cell_type": "code",
   "execution_count": 294,
   "metadata": {},
   "outputs": [
    {
     "data": {
      "image/png": "[encoded data removed]"
     },
     "execution_count": 294,
     "metadata": {},
     "output_type": "execute_result"
    }
   ],
   "source": [
    "plot(T, mean(select(XV)[T]>0,1))\n",
    "title('Transmission')\n",
    "xlabel('time'); ylabel('probablity')\n",
    "show()"
   ]
  },
  {
   "cell_type": "markdown",
   "metadata": {},
   "source": [
    "Final transmission probability"
   ]
  },
  {
   "cell_type": "code",
   "execution_count": 295,
   "metadata": {},
   "outputs": [
    {
     "name": "stdout",
     "output_type": "stream",
     "text": [
      "0.6444\n"
     ]
    }
   ],
   "source": [
    "print '%.4f'%(v.get_value()>0).mean()"
   ]
  },
  {
   "cell_type": "code",
   "execution_count": 0,
   "metadata": {},
   "outputs": [],
   "source": []
  }
 ],
 "metadata": {
  "kernelspec": {
   "display_name": "anaconda_kernel",
   "language": "python",
   "name": "anaconda_kernel"
  },
  "language_info": {
   "codemirror_mode": {
    "name": "ipython",
    "version": 2
   },
   "file_extension": ".py",
   "mimetype": "text/x-python",
   "name": "python",
   "nbconvert_exporter": "python",
   "pygments_lexer": "ipython2",
   "version": "2.7.14"
  }
 },
 "nbformat": 4,
 "nbformat_minor": 1
}
