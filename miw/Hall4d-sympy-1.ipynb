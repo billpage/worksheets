{
 "cells": [
  {
   "cell_type": "code",
   "execution_count": 1,
   "metadata": {},
   "outputs": [
    {
     "name": "stdout",
     "output_type": "stream",
     "text": [
      "env: MKL_THREADING_LAYER=GNU\n",
      "env: THEANO_FLAGS=device=cuda,floatX=float64\n"
     ]
    }
   ],
   "source": [
    "%env MKL_THREADING_LAYER=GNU\n",
    "%env THEANO_FLAGS=device=cuda,floatX=float64\n",
    "# optimizer=fast_run,NanGuardMode.action=warn\n",
    "# assert_no_cpu_op='raise'\n",
    "# use device=cuda for gpu support"
   ]
  },
  {
   "cell_type": "code",
   "execution_count": 2,
   "metadata": {
    "collapsed": true
   },
   "outputs": [],
   "source": [
    "import sys\n",
    "from __future__ import division\n",
    "add = __builtin__.sum"
   ]
  },
  {
   "cell_type": "code",
   "execution_count": 3,
   "metadata": {},
   "outputs": [
    {
     "name": "stderr",
     "output_type": "stream",
     "text": [
      "Using cuDNN version 7005 on context None\n",
      "Mapped name None to device cuda: GeForce GTX 980 Ti (0000:01:00.0)\n"
     ]
    }
   ],
   "source": [
    "from theano import clone, function, pp, shared\n",
    "from theano.tensor import (concatenate, config, cosh, dot, erfinv, eq, grad, min,\n",
    "                           scalar, scalars, shape_padright, sum, switch,\n",
    "                           tensor3, tensor4, tensor5, TensorType, tile, vector)\n",
    "from theano.tensor.var import TensorVariable\n",
    "from theano.printing import debugprint, pydotprint\n",
    "#from theano.tensor.shared_randomstreams import RandomStreams\n",
    "# used later\n",
    "from theano.tensor import roll, stack"
   ]
  },
  {
   "cell_type": "code",
   "execution_count": 4,
   "metadata": {
    "collapsed": true
   },
   "outputs": [],
   "source": [
    "from numpy import (array, arange, asarray, exp, full, Inf, linspace,\n",
    "                   mean, meshgrid, pi, roll)\n",
    "# used later\n",
    "#from numpy import roll, stack"
   ]
  },
  {
   "cell_type": "code",
   "execution_count": 5,
   "metadata": {
    "collapsed": true
   },
   "outputs": [],
   "source": [
    "from sympy import (Abs, Eq, exp as Exp, I, init_printing, integrate,\n",
    "                   oo, pi as Pi, solve, symbols, Symbol)\n",
    "#from sympy.printing.theanocode\n",
    "# added erfinv\n",
    "from theanocode import theano_code, theano_function\n",
    "#from pymatrix import matrix, Matrix"
   ]
  },
  {
   "cell_type": "code",
   "execution_count": 6,
   "metadata": {
    "collapsed": true
   },
   "outputs": [],
   "source": [
    "init_printing()"
   ]
  },
  {
   "cell_type": "code",
   "execution_count": 7,
   "metadata": {
    "collapsed": true
   },
   "outputs": [],
   "source": [
    "from IPython.display import display, HTML, SVG"
   ]
  },
  {
   "cell_type": "code",
   "execution_count": 8,
   "metadata": {
    "collapsed": true
   },
   "outputs": [],
   "source": [
    "%matplotlib inline\n",
    "from matplotlib.pyplot import (axes, close, contour, contourf, figure,\n",
    "                               legend, plot, rcParams, scatter, show,\n",
    "                               title, xlabel, ylabel)\n",
    "from matplotlib.cm import * #coolwarm, Spectral, etc.\n",
    "from mpl_toolkits.mplot3d import axes3d\n",
    "from matplotlib import animation"
   ]
  },
  {
   "cell_type": "code",
   "execution_count": 9,
   "metadata": {
    "collapsed": true
   },
   "outputs": [],
   "source": [
    "from sdict import select"
   ]
  },
  {
   "cell_type": "code",
   "execution_count": 10,
   "metadata": {
    "collapsed": true
   },
   "outputs": [],
   "source": [
    "from smatrix import *"
   ]
  },
  {
   "cell_type": "code",
   "execution_count": 11,
   "metadata": {
    "collapsed": true
   },
   "outputs": [],
   "source": [
    "# function of specified variables fun(y,...) from expression f\n",
    "# where: fun(x,y)(f)(x,y) = f\n",
    "def fun(*y):\n",
    "    if isinstance(y[0],TensorVariable):\n",
    "        return lambda f: lambda *x: clone(f, dict([[y[i],x[i]] for i in range(len(y))]),strict=False)\n",
    "    else:\n",
    "        return lambda f: lambda *x: f.subs( dict([[y[i],x[i]] for i in range(len(y))]))"
   ]
  },
  {
   "cell_type": "markdown",
   "metadata": {},
   "source": [
    "#### Boundary Conditions\n",
    "\n",
    "We introduce fictitious worlds, two worlds deep, at the edges of the array to represent boundary conditions. Boundry worlds can be removed or set to zero."
   ]
  },
  {
   "cell_type": "code",
   "execution_count": 12,
   "metadata": {
    "collapsed": true
   },
   "outputs": [],
   "source": [
    "B=2\n",
    "def boundary0(r):\n",
    "    for i in range(r.ndim):\n",
    "        rs = list(r.shape); rs[i]=1\n",
    "        s = [1]*r.ndim; s[i]=B\n",
    "        before1 = tile(array([0]*B,config.floatX).reshape(*s),rs)\n",
    "        s = [1]*r.ndim; s[i]=B\n",
    "        after1 = tile(array([0]*B,config.floatX).reshape(*s),rs)\n",
    "        r = concatenate([before1,r,after1], axis=i)\n",
    "    return r"
   ]
  },
  {
   "cell_type": "code",
   "execution_count": 13,
   "metadata": {
    "collapsed": true
   },
   "outputs": [],
   "source": [
    "def boundary(s): return stack([boundary0(r) for r in s])"
   ]
  },
  {
   "cell_type": "code",
   "execution_count": 14,
   "metadata": {
    "collapsed": true
   },
   "outputs": [],
   "source": [
    "def debound(r): return r[tuple([slice(B,-B)]*(r.ndim))]"
   ]
  },
  {
   "cell_type": "code",
   "execution_count": 15,
   "metadata": {
    "collapsed": true
   },
   "outputs": [],
   "source": [
    "# uniform grid between 0 and 1 of dimension d and size N\n",
    "def grid(d,N):\n",
    "    return array(meshgrid(*[arange(0.0+0.5/N,1.0,1.0/N,config.floatX)]*d,\n",
    "                              indexing='ij'))"
   ]
  },
  {
   "cell_type": "markdown",
   "metadata": {},
   "source": [
    "### Difference operator ###"
   ]
  },
  {
   "cell_type": "markdown",
   "metadata": {},
   "source": [
    "Forward and backward differences"
   ]
  },
  {
   "cell_type": "code",
   "execution_count": 16,
   "metadata": {
    "collapsed": true
   },
   "outputs": [],
   "source": [
    "def d(dir,x,i):\n",
    "    if dir<0:\n",
    "        return roll(x, dir, axis = i) - x\n",
    "    else:\n",
    "        return x - roll(x, dir, axis = i)"
   ]
  },
  {
   "cell_type": "markdown",
   "metadata": {},
   "source": [
    "#### Jacobian ####"
   ]
  },
  {
   "cell_type": "code",
   "execution_count": 17,
   "metadata": {
    "collapsed": true
   },
   "outputs": [],
   "source": [
    "def J(C): return matrix([[d(-1,C[j],i) for i in dim] for j in dim])"
   ]
  },
  {
   "cell_type": "code",
   "execution_count": 18,
   "metadata": {
    "collapsed": true
   },
   "outputs": [],
   "source": [
    "def K(C): return 1/J(C) # inverse"
   ]
  },
  {
   "cell_type": "markdown",
   "metadata": {},
   "source": [
    "#### Quantum Potential (Schiff&Poirier eq. 20)####"
   ]
  },
  {
   "cell_type": "code",
   "execution_count": 19,
   "metadata": {
    "collapsed": true
   },
   "outputs": [],
   "source": [
    "def Q(hbar,mu,C):\n",
    "    K_C = K(C)\n",
    "    return debound(add([add([add([\n",
    "           -hbar**2/(4*mu[j])*(K_C[k,j]*d(-1,d(+1,K_C[l,j], k), l) + d(+1,K_C[l,j], l)*d(+1,K_C[k,j], k)/2)\n",
    "                 for k in dim]) for j in dim]) for l in dim]))"
   ]
  },
  {
   "cell_type": "markdown",
   "metadata": {},
   "source": [
    "The gradient of just the $2^{nd}$ order term in Schiff&Poirier eq. 20 (differing only by the sign), yields the same quantum force as the full expression.\n",
    "The discretized version of this expression is identical to that introduced by Hall & Deckart."
   ]
  },
  {
   "cell_type": "code",
   "execution_count": 20,
   "metadata": {
    "collapsed": true
   },
   "outputs": [],
   "source": [
    "def Q2(hbar,mu,C):\n",
    "    K_C = K(C)\n",
    "    return debound(add([add([add([\n",
    "           hbar**2/(8*mu[j])*d(+1,K_C[l,j], l)*d(+1,K_C[k,j], k)\n",
    "                 for k in dim]) for j in dim]) for l in dim]))"
   ]
  },
  {
   "cell_type": "markdown",
   "metadata": {},
   "source": [
    "#### Quantum Force (Schiff & Poirier eq 18) ####"
   ]
  },
  {
   "cell_type": "code",
   "execution_count": 21,
   "metadata": {
    "collapsed": true
   },
   "outputs": [],
   "source": [
    "def R(hbar,mu,C):\n",
    "    K_C=K(C)\n",
    "    return stack([debound(add([add([add([add([\n",
    "      hbar**2/(4*mu[j])*d(+1,K_C[k, i]*K_C[p, j]*d(-1,d(+1,K_C[l, j], k), l), p)\n",
    "        for p in dim]) for k in dim]) for j in dim]) for l in dim]))\n",
    "            for i in dim])"
   ]
  },
  {
   "cell_type": "markdown",
   "metadata": {},
   "source": [
    "### Start with 1-D expressions ##"
   ]
  },
  {
   "cell_type": "code",
   "execution_count": 22,
   "metadata": {
    "collapsed": true
   },
   "outputs": [],
   "source": [
    "dim = range(1) # dimension"
   ]
  },
  {
   "cell_type": "markdown",
   "metadata": {},
   "source": [
    "In the following we use numpy's roll and stack functions for symbolic operations. Later we will use the same theano functions for numeric operations."
   ]
  },
  {
   "cell_type": "code",
   "execution_count": 23,
   "metadata": {
    "collapsed": true
   },
   "outputs": [],
   "source": [
    "from numpy import roll, stack"
   ]
  },
  {
   "cell_type": "code",
   "execution_count": 24,
   "metadata": {
    "collapsed": true
   },
   "outputs": [],
   "source": [
    "mu=array(symbols(['mu%s'%i for i in dim])) # mass\n",
    "hbar=Symbol('hbar')"
   ]
  },
  {
   "cell_type": "markdown",
   "metadata": {},
   "source": [
    "The multidimensional symbolic array $s$ represents a \"uniformizing\" mapping of worlds into configuration space, i.e. the position of each particle in each world. Provided the number of worlds is large enough the trace of Q will contain sufficient information to compute the force as a gradient."
   ]
  },
  {
   "cell_type": "code",
   "execution_count": 25,
   "metadata": {
    "collapsed": true
   },
   "outputs": [],
   "source": [
    "N=9 # number of worlds"
   ]
  },
  {
   "cell_type": "code",
   "execution_count": 26,
   "metadata": {
    "collapsed": true
   },
   "outputs": [],
   "source": [
    "xb=array(symbols(['%s_{%s}'%('x'.replace(' ',''),str(Symbol(\"i\")+(i-N//2)).replace(' ','')) for i in range(N)]))"
   ]
  },
  {
   "cell_type": "markdown",
   "metadata": {},
   "source": [
    "The sympy variable names display symbolic indices."
   ]
  },
  {
   "cell_type": "code",
   "execution_count": 27,
   "metadata": {},
   "outputs": [
    {
     "data": {
      "image/png": "[encoded data removed]",
      "text/latex": [
       "$$\\left [ x_{i-4}, \\quad x_{i-3}, \\quad x_{i-2}, \\quad x_{i-1}, \\quad x_{i}, \\quad x_{i+1}, \\quad x_{i+2}, \\quad x_{i+3}, \\quad x_{i+4}\\right ]$$"
      ],
      "text/plain": [
       "[x_{i-4}, x_{i-3}, x_{i-2}, x_{i-1}, x_{i}, x_{i+1}, x_{i+2}, x_{i+3}, x_{i+4}\n",
       "]"
      ]
     },
     "execution_count": 27,
     "metadata": {},
     "output_type": "execute_result"
    }
   ],
   "source": [
    "xb.tolist()"
   ]
  },
  {
   "cell_type": "markdown",
   "metadata": {},
   "source": [
    "The index of the $i^{th}$ world with boundry worlds removed:"
   ]
  },
  {
   "cell_type": "code",
   "execution_count": 28,
   "metadata": {
    "collapsed": true
   },
   "outputs": [],
   "source": [
    "x=debound(xb)"
   ]
  },
  {
   "cell_type": "code",
   "execution_count": 29,
   "metadata": {},
   "outputs": [
    {
     "data": {
      "image/png": "[encoded data removed]",
      "text/latex": [
       "$$x_{i}$$"
      ],
      "text/plain": [
       "x_{i}"
      ]
     },
     "execution_count": 29,
     "metadata": {},
     "output_type": "execute_result"
    }
   ],
   "source": [
    "ith = N//2-B\n",
    "x[ith]"
   ]
  },
  {
   "cell_type": "markdown",
   "metadata": {},
   "source": [
    "The quantum potential at each world:"
   ]
  },
  {
   "cell_type": "code",
   "execution_count": 30,
   "metadata": {
    "collapsed": true
   },
   "outputs": [],
   "source": [
    "Qs2=Q2(hbar,mu,[xb])"
   ]
  },
  {
   "cell_type": "markdown",
   "metadata": {},
   "source": [
    "The $i^{th}$ entry in this array is generic, i.e. independent of the worlds at the boundary. "
   ]
  },
  {
   "cell_type": "code",
   "execution_count": 31,
   "metadata": {},
   "outputs": [
    {
     "data": {
      "image/png": "[encoded data removed]",
      "text/latex": [
       "$$\\frac{\\hbar^{2}}{8 \\mu_{0}} \\left(- \\frac{1}{- x_{i-1} + x_{i}} + \\frac{1}{x_{i+1} - x_{i}}\\right)^{2}$$"
      ],
      "text/plain": [
       "                                          2\n",
       "  2 ⎛         1                  1       ⎞ \n",
       "h̅ ⋅⎜- ──────────────── + ───────────────⎟ \n",
       "    ⎝  -x_{i-1} + x_{i}   x_{i+1} - x_{i}⎠ \n",
       "───────────────────────────────────────────\n",
       "                    8⋅μ₀                   "
      ]
     },
     "execution_count": 31,
     "metadata": {},
     "output_type": "execute_result"
    }
   ],
   "source": [
    "Qs2[ith]"
   ]
  },
  {
   "cell_type": "markdown",
   "metadata": {},
   "source": [
    "We consider it as a function of its mass $\\mu_0$ and 3 variables representing the positions of the particle in the $i^{th}$ world and immediately adjacent worlds ."
   ]
  },
  {
   "cell_type": "code",
   "execution_count": 32,
   "metadata": {},
   "outputs": [
    {
     "data": {
      "image/png": "[encoded data removed]",
      "text/latex": [
       "$$\\left [ x_{i+1}, \\quad x_{i}, \\quad x_{i-1}\\right ]$$"
      ],
      "text/plain": [
       "[x_{i+1}, x_{i}, x_{i-1}]"
      ]
     },
     "execution_count": 32,
     "metadata": {},
     "output_type": "execute_result"
    }
   ],
   "source": [
    "[x[ith-i] for i in range(-1,2)]"
   ]
  },
  {
   "cell_type": "code",
   "execution_count": 33,
   "metadata": {
    "collapsed": true
   },
   "outputs": [],
   "source": [
    "Q1=fun(mu[0],*[x[ith-i] for i in range(-1,2)])(Qs2[ith])"
   ]
  },
  {
   "cell_type": "markdown",
   "metadata": {},
   "source": [
    "Quantum force at each world:"
   ]
  },
  {
   "cell_type": "code",
   "execution_count": 34,
   "metadata": {
    "scrolled": true
   },
   "outputs": [
    {
     "data": {
      "image/png": "[encoded data removed]",
      "text/latex": [
       "$$\\left ( 1, \\quad 5\\right )$$"
      ],
      "text/plain": [
       "(1, 5)"
      ]
     },
     "execution_count": 34,
     "metadata": {},
     "output_type": "execute_result"
    }
   ],
   "source": [
    "Rs=R(hbar,mu,[xb])\n",
    "Rs.shape"
   ]
  },
  {
   "cell_type": "markdown",
   "metadata": {},
   "source": [
    "Again, the $i^{th}$ entry in these arrays are generic, i.e. independent of the boundary worlds."
   ]
  },
  {
   "cell_type": "code",
   "execution_count": 35,
   "metadata": {},
   "outputs": [
    {
     "data": {
      "image/png": "[encoded data removed]",
      "text/latex": [
       "$$\\frac{\\hbar^{2}}{4 \\mu_{0}} \\left(- \\frac{1}{\\left(- x_{i-1} + x_{i}\\right)^{2}} \\left(\\frac{1}{x_{i-1} - x_{i-2}} - \\frac{2}{- x_{i-1} + x_{i}} + \\frac{1}{x_{i+1} - x_{i}}\\right) + \\frac{1}{\\left(x_{i+1} - x_{i}\\right)^{2}} \\left(\\frac{1}{- x_{i-1} + x_{i}} - \\frac{2}{x_{i+1} - x_{i}} + \\frac{1}{- x_{i+1} + x_{i+2}}\\right)\\right)$$"
      ],
      "text/plain": [
       "    ⎛          1                  2                  1                 1      \n",
       "    ⎜  ───────────────── - ──────────────── + ───────────────   ──────────────\n",
       "  2 ⎜  x_{i-1} - x_{i-2}   -x_{i-1} + x_{i}   x_{i+1} - x_{i}   -x_{i-1} + x_{\n",
       "h̅ ⋅⎜- ────────────────────────────────────────────────────── + ──────────────\n",
       "    ⎜                                     2                                   \n",
       "    ⎝                   (-x_{i-1} + x_{i})                                    \n",
       "──────────────────────────────────────────────────────────────────────────────\n",
       "                                                          4⋅μ₀                \n",
       "\n",
       "            2                  1         ⎞\n",
       "── - ─────────────── + ──────────────────⎟\n",
       "i}   x_{i+1} - x_{i}   -x_{i+1} + x_{i+2}⎟\n",
       "─────────────────────────────────────────⎟\n",
       "                      2                  ⎟\n",
       "     (x_{i+1} - x_{i})                   ⎠\n",
       "──────────────────────────────────────────\n",
       "                                          "
      ]
     },
     "execution_count": 35,
     "metadata": {},
     "output_type": "execute_result"
    }
   ],
   "source": [
    "Rs[0,ith]"
   ]
  },
  {
   "cell_type": "markdown",
   "metadata": {},
   "source": [
    "As expected, the discretized Schiff and Poirier expression for the quantum force is minus the gradient of the trace of the discretized quantum potential."
   ]
  },
  {
   "cell_type": "code",
   "execution_count": 36,
   "metadata": {},
   "outputs": [
    {
     "data": {
      "text/plain": [
       "True"
      ]
     },
     "execution_count": 36,
     "metadata": {},
     "output_type": "execute_result"
    }
   ],
   "source": [
    "(Rs[0,ith] - -add([Qs2[i] for i in range(N-2*B)]).diff(x[ith])).simplify()==0"
   ]
  },
  {
   "cell_type": "markdown",
   "metadata": {},
   "source": [
    "We consider it as a function of its mass $\\mu_0$ and 5 variables representing the positions of the particle in the $i^{th}$ world and two adjacent worlds to the left and right."
   ]
  },
  {
   "cell_type": "code",
   "execution_count": 37,
   "metadata": {},
   "outputs": [
    {
     "data": {
      "image/png": "[encoded data removed]",
      "text/latex": [
       "$$\\left [ x_{i+2}, \\quad x_{i+1}, \\quad x_{i}, \\quad x_{i-1}, \\quad x_{i-2}\\right ]$$"
      ],
      "text/plain": [
       "[x_{i+2}, x_{i+1}, x_{i}, x_{i-1}, x_{i-2}]"
      ]
     },
     "execution_count": 37,
     "metadata": {},
     "output_type": "execute_result"
    }
   ],
   "source": [
    "[x[ith-i] for i in range(-2,3)]"
   ]
  },
  {
   "cell_type": "code",
   "execution_count": 38,
   "metadata": {
    "collapsed": true
   },
   "outputs": [],
   "source": [
    "R1=fun(mu[0],*[x[ith-i] for i in range(-2,3)])(Rs[0,ith])"
   ]
  },
  {
   "cell_type": "markdown",
   "metadata": {},
   "source": [
    "The 4-dimensional quantum potential and force can be expressed in terms of the 1-dimensional expressions."
   ]
  },
  {
   "cell_type": "markdown",
   "metadata": {},
   "source": [
    "### In 4 dimensions ... ###"
   ]
  },
  {
   "cell_type": "markdown",
   "metadata": {},
   "source": [
    "The generalization to higher dimensions/multiple particles is essentially trivial."
   ]
  },
  {
   "cell_type": "code",
   "execution_count": 39,
   "metadata": {
    "collapsed": true
   },
   "outputs": [],
   "source": [
    "dim = range(4) # dimension"
   ]
  },
  {
   "cell_type": "markdown",
   "metadata": {},
   "source": [
    "### Numeric computation ###\n",
    "\n",
    "These expressions can be converted directly to Theano functions for efficient execution on gpu and multicore processors."
   ]
  },
  {
   "cell_type": "code",
   "execution_count": 40,
   "metadata": {
    "collapsed": true
   },
   "outputs": [],
   "source": [
    "from theano.tensor import roll, stack"
   ]
  },
  {
   "cell_type": "code",
   "execution_count": 41,
   "metadata": {
    "collapsed": true
   },
   "outputs": [],
   "source": [
    "hbar_s = scalar('hbar_s')\n",
    "mu_v = vector('mu_v')\n",
    "C = TensorType(config.floatX, (False,)*(1+len(dim)))('C') # shape: d * N**d"
   ]
  },
  {
   "cell_type": "markdown",
   "metadata": {},
   "source": [
    "Replace symbolic differences with vector operators:"
   ]
  },
  {
   "cell_type": "code",
   "execution_count": 42,
   "metadata": {
    "collapsed": true
   },
   "outputs": [],
   "source": [
    "from theano.tensor import roll, stack"
   ]
  },
  {
   "cell_type": "code",
   "execution_count": 43,
   "metadata": {
    "collapsed": true
   },
   "outputs": [],
   "source": [
    "hbar_s = theano_code(hbar)\n",
    "mu_v = vector('mu')"
   ]
  },
  {
   "cell_type": "markdown",
   "metadata": {},
   "source": [
    "Without sympy simplification Theano would produce the following expressions (disabled below since they are not needed in this worksheet):"
   ]
  },
  {
   "cell_type": "markdown",
   "metadata": {},
   "source": [
    "Even after Theano graph optimization the functions obtained from the sympy simplified expressions above are shorter than those produced directly by Theano. To conversion the sympy expressions to Theano, we just need to replace symbols with appropriate vector operators:"
   ]
  },
  {
   "cell_type": "code",
   "execution_count": 44,
   "metadata": {
    "collapsed": true
   },
   "outputs": [],
   "source": [
    "Q2b=fun(hbar_s,mu_v,C)(debound(add([clone(theano_code( # from sympy\n",
    "                Q1(mu[0],*[x[ith-i] for i in range(-1,2)])),\n",
    "                dict( # scalar to vector\n",
    "                      [[theano_code(mu[0]),mu_v[j]]]+\n",
    "                      # indexed variable to vector operator\n",
    "                      [[theano_code(x[ith-i]),roll(C[j],i,axis=j)] for i in range(-1,2)]),\n",
    "                strict=False) for j in dim]) ))\n",
    "Q2b_=function([hbar_s,mu_v,C],Q2b(hbar_s,mu_v,C))\n",
    "#SVG(pydotprint(Q2b_.maker.fgraph.outputs[0], return_image=True, format='svg'))"
   ]
  },
  {
   "cell_type": "code",
   "execution_count": 45,
   "metadata": {
    "collapsed": true
   },
   "outputs": [],
   "source": [
    "Rb=fun(hbar_s,mu_v,C)(stack([debound(clone(theano_code( # from sympy\n",
    "                        R1(mu[0],*[x[ith-i] for i in range(-2,3)])),\n",
    "                        dict( # scalar to vector\n",
    "                              [[theano_code(mu[0]),mu_v[j]]]+\n",
    "                              # indexed variable to vector operator\n",
    "                              [[theano_code(x[ith-i]),roll(C[j],i,axis=j)] for i in range(-2,3)]),\n",
    "                        strict=False)) for j in dim]))\n",
    "Rb_=function([hbar_s,mu_v,C],Rb(hbar_s,mu_v,C))\n",
    "#SVG(pydotprint(Rb_.maker.fgraph.outputs[0], return_image=True, format='svg'))"
   ]
  },
  {
   "cell_type": "markdown",
   "metadata": {},
   "source": [
    "### Simulation ###\n",
    "\n",
    "Using the expressions derived above we can generate efficient numerical functions which we use later in determining the motion of a particle in many worlds simultaneously.\n",
    "\n",
    "We will use the symmetric difference approximation to Poirier's equations above for a numerical simulation of quantum motion in a small number of ``parallel'' worlds."
   ]
  },
  {
   "cell_type": "markdown",
   "metadata": {},
   "source": [
    "#### Classical Potential ####"
   ]
  },
  {
   "cell_type": "markdown",
   "metadata": {},
   "source": [
    "The multidimensional symbolic array $C$ represents a \"uniformizing\" mapping of worlds into configuration space, i.e. the position of each particle in each world. Provided the number of worlds is large enough the trace of Q will contain sufficient information to compute the force as a gradient."
   ]
  },
  {
   "cell_type": "code",
   "execution_count": 46,
   "metadata": {
    "collapsed": true
   },
   "outputs": [],
   "source": [
    "hbar = scalar('hbar')\n",
    "mu = vector('mu')"
   ]
  },
  {
   "cell_type": "code",
   "execution_count": 47,
   "metadata": {
    "collapsed": true
   },
   "outputs": [],
   "source": [
    "x1,y1,x2,y2=scalars('x1','y1','x2','y2')"
   ]
  },
  {
   "cell_type": "code",
   "execution_count": 48,
   "metadata": {
    "collapsed": true
   },
   "outputs": [],
   "source": [
    "# symbolic\n",
    "V = fun(x1,y1,x2,y2) (10.0*((x1-x2)**2+(y1-y2)**2))"
   ]
  },
  {
   "cell_type": "code",
   "execution_count": 49,
   "metadata": {
    "collapsed": true
   },
   "outputs": [],
   "source": [
    "# clone to compile vectorized numeric function\n",
    "V_ = function([C],V(C[0],C[1],C[2],C[3]))"
   ]
  },
  {
   "cell_type": "code",
   "execution_count": 50,
   "metadata": {
    "scrolled": true
   },
   "outputs": [
    {
     "data": {
      "image/png": "[encoded data removed]",
      "text/plain": [
       "<matplotlib.figure.Figure at 0x7f4b48708c50>"
      ]
     },
     "metadata": {},
     "output_type": "display_data"
    }
   ],
   "source": [
    "plot(49*(grid(1,49)-0.5)[0],V_(49*(grid(4,49)-0.5))[:,24,24,24])\n",
    "title('Classical Potential')\n",
    "show()"
   ]
  },
  {
   "cell_type": "markdown",
   "metadata": {},
   "source": [
    "#### Classical Force ####"
   ]
  },
  {
   "cell_type": "code",
   "execution_count": 51,
   "metadata": {
    "collapsed": true
   },
   "outputs": [],
   "source": [
    "# symbolic gradient\n",
    "Fx1 = fun(x1,y1,x2,y2) (-grad(V(x1,y1,x2,y2),x1))\n",
    "Fy1 = fun(x1,y1,x2,y2) (-grad(V(x1,y1,x2,y2),y1))\n",
    "Fx2 = fun(x1,y1,x2,y2) (-grad(V(x1,y1,x2,y2),x2))\n",
    "Fy2 = fun(x1,y1,x2,y2) (-grad(V(x1,y1,x2,y2),y2))"
   ]
  },
  {
   "cell_type": "code",
   "execution_count": 52,
   "metadata": {
    "collapsed": true
   },
   "outputs": [],
   "source": [
    "F_ = function([C],stack([Fx1(C[0],C[1],C[2],C[3]),Fy1(C[0],C[1],C[2],C[3]),Fx2(C[0],C[1],C[2],C[3]),Fy2(C[0],C[1],C[2],C[3])]))"
   ]
  },
  {
   "cell_type": "code",
   "execution_count": 53,
   "metadata": {
    "collapsed": true
   },
   "outputs": [],
   "source": [
    "test=49*(grid(4,49)-0.5)"
   ]
  },
  {
   "cell_type": "code",
   "execution_count": 54,
   "metadata": {},
   "outputs": [
    {
     "data": {
      "image/png": "[encoded data removed]",
      "text/plain": [
       "<matplotlib.figure.Figure at 0x7f4b46cea110>"
      ]
     },
     "metadata": {},
     "output_type": "display_data"
    }
   ],
   "source": [
    "plot(test[0][:,24,24,24]+1, F_(test)[0][:,24,24,24], color='red')\n",
    "plot(test[1][24,:,24,24]+2, F_(test)[1][24,:,24,24], color='green')\n",
    "plot(test[2][24,24,:,24]+3, F_(test)[2][24,24,:,24], color='blue')\n",
    "plot(test[3][24,24,24,:]+4, F_(test)[3][24,24,24,:], color='black')\n",
    "title('Classical Force')\n",
    "xlabel('distance'); ylabel('force')\n",
    "show()"
   ]
  },
  {
   "cell_type": "markdown",
   "metadata": {},
   "source": [
    "#### Density ####"
   ]
  },
  {
   "cell_type": "code",
   "execution_count": 55,
   "metadata": {
    "collapsed": true
   },
   "outputs": [],
   "source": [
    "D_ = function([C],debound(1/J(C).determinant()))"
   ]
  },
  {
   "cell_type": "markdown",
   "metadata": {},
   "source": [
    "### Initial Data ###\n",
    "\n",
    "In order to compute the quantum force on the particles in world $n$ we introduce four widely separated fictitious particles in worlds to the left and right to represent open boundary conditions."
   ]
  },
  {
   "cell_type": "markdown",
   "metadata": {},
   "source": [
    "For example consider the spatial distribution of a Gaussian ensemble of one particle in  $N$ \"parallel\" worlds."
   ]
  },
  {
   "cell_type": "code",
   "execution_count": 56,
   "metadata": {},
   "outputs": [],
   "source": [
    "N = 20"
   ]
  },
  {
   "cell_type": "markdown",
   "metadata": {},
   "source": [
    "#### Spatial Distribution\n",
    "\n",
    "For example consider the spatial distribution of a Gaussian ensemble of one particle in  $N$ ``parallel'' worlds. Everything is in atomic units below, so $\\hbar=1$."
   ]
  },
  {
   "cell_type": "code",
   "execution_count": 57,
   "metadata": {},
   "outputs": [
    {
     "data": {
      "image/png": "[encoded data removed]",
      "text/latex": [
       "$$\\left ( 4, \\quad 24, \\quad 24, \\quad 24, \\quad 24\\right )$$"
      ],
      "text/plain": [
       "(4, 24, 24, 24, 24)"
      ]
     },
     "execution_count": 57,
     "metadata": {},
     "output_type": "execute_result"
    }
   ],
   "source": [
    "bxy=2*(grid(4,N+4)-0.5); bxy.shape"
   ]
  },
  {
   "cell_type": "code",
   "execution_count": 58,
   "metadata": {},
   "outputs": [
    {
     "data": {
      "image/png": "[encoded data removed]",
      "text/latex": [
       "$$\\left ( 4, \\quad 20, \\quad 20, \\quad 20, \\quad 20\\right )$$"
      ],
      "text/plain": [
       "(4, 20, 20, 20, 20)"
      ]
     },
     "execution_count": 58,
     "metadata": {},
     "output_type": "execute_result"
    }
   ],
   "source": [
    "xy=array(map(debound,bxy)); xy.shape"
   ]
  },
  {
   "cell_type": "code",
   "execution_count": 59,
   "metadata": {
    "collapsed": true
   },
   "outputs": [],
   "source": [
    "def gauss4(f,xy): return stack([f[0](xy[0]),f[1](xy[1]),f[2](xy[2]),f[3](xy[3])])"
   ]
  },
  {
   "cell_type": "code",
   "execution_count": 60,
   "metadata": {},
   "outputs": [
    {
     "data": {
      "image/png": "[encoded data removed]",
      "text/latex": [
       "$$\\left ( 4, \\quad 24, \\quad 24, \\quad 24, \\quad 24\\right )$$"
      ],
      "text/plain": [
       "(4, 24, 24, 24, 24)"
      ]
     },
     "execution_count": 60,
     "metadata": {},
     "output_type": "execute_result"
    }
   ],
   "source": [
    "b0=gauss4([lambda x0:erfinv(x0)*10,lambda y0:erfinv(y0)*10-10,lambda x1:erfinv(x1)*10-20,lambda y1:erfinv(y1)*10-30],bxy).eval()\n",
    "b0 *= 10**18; b0[:,1:-1,1:-1,1:-1,1:-1] *= 10**-9; b0[:,2:-2,2:-2,2:-2,2:-2] *= 10**-9\n",
    "b0.shape"
   ]
  },
  {
   "cell_type": "code",
   "execution_count": 61,
   "metadata": {},
   "outputs": [
    {
     "data": {
      "image/png": "[encoded data removed]",
      "text/latex": [
       "$$\\left ( 4, \\quad 20, \\quad 20, \\quad 20, \\quad 20\\right )$$"
      ],
      "text/plain": [
       "(4, 20, 20, 20, 20)"
      ]
     },
     "execution_count": 61,
     "metadata": {},
     "output_type": "execute_result"
    }
   ],
   "source": [
    "p0 = array(map(debound,b0))\n",
    "p0.shape"
   ]
  },
  {
   "cell_type": "code",
   "execution_count": 62,
   "metadata": {},
   "outputs": [
    {
     "data": {
      "image/png": "[encoded data removed]",
      "text/plain": [
       "<matplotlib.figure.Figure at 0x7f4b4484ad50>"
      ]
     },
     "metadata": {},
     "output_type": "display_data"
    }
   ],
   "source": [
    "scatter(p0[0],p0[1],color='red')\n",
    "scatter(p0[2],p0[3],color='blue')\n",
    "show()"
   ]
  },
  {
   "cell_type": "code",
   "execution_count": 63,
   "metadata": {},
   "outputs": [
    {
     "data": {
      "image/png": "[encoded data removed]",
      "text/plain": [
       "<matplotlib.figure.Figure at 0x7f4b416d2ad0>"
      ]
     },
     "metadata": {},
     "output_type": "display_data"
    }
   ],
   "source": [
    "fig = figure(figsize=(12,6),dpi=100)\n",
    "ax1=fig.add_subplot(121)\n",
    "#ax1.set_aspect('equal')\n",
    "ax1.contourf(p0[0][:,:,0,0],p0[1][:,:,0,0],D_(b0)[:,:,0,0],10)\n",
    "ax2=fig.add_subplot(122)\n",
    "#ax2.set_aspect('equal')\n",
    "ax2.contourf(p0[0][:,:,0,0],p0[1][:,:,0,0],Q2b_(1,[1,1,1,1],b0)[:,:,0,0],10)\n",
    "show()"
   ]
  },
  {
   "cell_type": "code",
   "execution_count": 64,
   "metadata": {},
   "outputs": [
    {
     "data": {
      "image/png": "[encoded data removed]",
      "text/plain": [
       "<matplotlib.figure.Figure at 0x7f4b3cf1e210>"
      ]
     },
     "metadata": {},
     "output_type": "display_data"
    }
   ],
   "source": [
    "fig = figure(figsize=(12,6),dpi=100)\n",
    "ax1 = fig.add_subplot(121, projection='3d')\n",
    "ax2 = fig.add_subplot(122, projection='3d')\n",
    "# Plot the surface\n",
    "ax1.plot_surface(p0[0][:,:,0,0], p0[1][:,:,0,0], D_(b0)[:,:,0,0], color='lightblue', linewidth=0, antialiased=True)\n",
    "ax1.view_init(10, 30)\n",
    "ax2.plot_surface(p0[0][:,:,0,0], p0[1][:,:,0,0], Q2b_(1,[1,1,1,1],b0)[:,:,0,0], cmap=coolwarm, linewidth=0, antialiased=True)\n",
    "ax2.view_init(10, 20)\n",
    "show()"
   ]
  },
  {
   "cell_type": "markdown",
   "metadata": {},
   "source": [
    "#### Distribution of Velocity ####\n",
    "The particles have an identical initial velocity in each world of"
   ]
  },
  {
   "cell_type": "code",
   "execution_count": 65,
   "metadata": {
    "collapsed": true
   },
   "outputs": [],
   "source": [
    "v0=full(b0.shape,0.0,config.floatX)\n",
    "v0=array(meshgrid(\n",
    "        array([-0.01 for i in range(N+2*B)],config.floatX),\n",
    "        array([-0.01 for i in range(N+2*B)],config.floatX),\n",
    "        array([0.01 for i in range(N+2*B)],config.floatX),\n",
    "        array([0.01 for i in range(N+2*B)],config.floatX)))"
   ]
  },
  {
   "cell_type": "markdown",
   "metadata": {},
   "source": [
    "#### Acceleration ####"
   ]
  },
  {
   "cell_type": "code",
   "execution_count": 66,
   "metadata": {},
   "outputs": [],
   "source": [
    "def boundary2(s): return stack([boundary0(s[i]) for i in dim])"
   ]
  },
  {
   "cell_type": "code",
   "execution_count": 67,
   "metadata": {},
   "outputs": [],
   "source": [
    "def debound2(s): return stack([debound(s[i]) for i in dim])"
   ]
  },
  {
   "cell_type": "code",
   "execution_count": 68,
   "metadata": {},
   "outputs": [],
   "source": [
    "def F(C): return stack([\n",
    "            Fx1(C[0],C[1],C[2],C[3]),\n",
    "            Fy1(C[0],C[1],C[2],C[3]),\n",
    "            Fx2(C[0],C[1],C[2],C[3]),\n",
    "            Fy2(C[0],C[1],C[2],C[3])])"
   ]
  },
  {
   "cell_type": "code",
   "execution_count": 69,
   "metadata": {},
   "outputs": [],
   "source": [
    "def A(hbar,mu,x):\n",
    "    return shape_padright(1/mu,4)*boundary2(F(debound2(x)) + Rb(hbar,mu,x))"
   ]
  },
  {
   "cell_type": "markdown",
   "metadata": {},
   "source": [
    "#### Step Size Controller ####\n",
    "Continuous integrating step size controller \\cite{hairer2005}"
   ]
  },
  {
   "cell_type": "code",
   "execution_count": 70,
   "metadata": {},
   "outputs": [],
   "source": [
    "def G(a,v,alpha):\n",
    "    eps = 1e-12\n",
    "    g1 = sum(a*v)\n",
    "    g2 = sum(v**2)\n",
    "    return switch(eq(g2,0),1/eps,-alpha*g1/g2)"
   ]
  },
  {
   "cell_type": "markdown",
   "metadata": {},
   "source": [
    "#### Integration ####\n",
    "Integrate using the Störmer–Verlet algorithm with adaptive step size."
   ]
  },
  {
   "cell_type": "code",
   "execution_count": 71,
   "metadata": {},
   "outputs": [],
   "source": [
    "mu = array([1.0,1.0,1.0,1.0])  # mass\n",
    "hbar = 1.0 # Planck's constant\n",
    "rho = shared(asarray(1.0, config.floatX),'rho') # step size control\n",
    "alpha = scalar('alpha') # sensitivity\n",
    "ds = scalar('ds')\n",
    "dt = ds/rho\n",
    "t = shared(asarray(0.0, config.floatX))\n",
    "x = shared(b0)"
   ]
  },
  {
   "cell_type": "code",
   "execution_count": 72,
   "metadata": {},
   "outputs": [],
   "source": [
    "a0 = A(hbar,mu,x).eval()"
   ]
  },
  {
   "cell_type": "code",
   "execution_count": 73,
   "metadata": {},
   "outputs": [],
   "source": [
    "a = shared(a0)\n",
    "v = shared(v0)\n",
    "x_new = x+v*dt+0.5*a*dt**2\n",
    "a_new = A(hbar,mu,x_new)\n",
    "v_new = v+0.5*a*dt+0.5*a_new*dt"
   ]
  },
  {
   "cell_type": "code",
   "execution_count": 74,
   "metadata": {},
   "outputs": [],
   "source": [
    "VerletStep = function([ds,alpha],t, updates=[\n",
    "    (rho, rho + G(a_new,v_new,alpha)*dt ),\n",
    "    (x, x_new ),\n",
    "    (v, v_new ),\n",
    "    (a, a_new ),\n",
    "    (t, t + dt)\n",
    "]) #,allow_input_downcast=True)"
   ]
  },
  {
   "cell_type": "markdown",
   "metadata": {},
   "source": [
    "#### Energy ####"
   ]
  },
  {
   "cell_type": "code",
   "execution_count": 75,
   "metadata": {},
   "outputs": [],
   "source": [
    "KU1 = 0.5*sum(mu[0]*v[0]**2+mu[1]*v[1]**2+mu[2]*v[2]**2+mu[3]*v[3]**2)  # total kinetic energy\n",
    "PU1 = sum(debound(V(x[0],x[1],x[2],x[3])))             # total classical potential\n",
    "QU1 = sum(Q2b(hbar,mu,x))                         # total quantum potential\n",
    "E_ = function([],[KU1,PU1,QU1])"
   ]
  },
  {
   "cell_type": "code",
   "execution_count": 76,
   "metadata": {},
   "outputs": [
    {
     "data": {
      "text/plain": [
       "[array(66.3552), array(1436173840.3614573), array(4392.264664293089)]"
      ]
     },
     "execution_count": 76,
     "metadata": {},
     "output_type": "execute_result"
    }
   ],
   "source": [
    "E_()"
   ]
  },
  {
   "cell_type": "code",
   "execution_count": 77,
   "metadata": {},
   "outputs": [],
   "source": [
    "crossing=function([],min([debound(d(-1,x[0],0)),debound(d(-1,x[1],1)),debound(d(-1,x[2],2)),debound(d(-1,x[3],3))])<0)"
   ]
  },
  {
   "cell_type": "code",
   "execution_count": null,
   "metadata": {},
   "outputs": [],
   "source": [
    "t_start = 0.0; t_end = 20\n",
    "t_samples = 100; x_samples = N\n",
    "alpha = 0.0\n",
    "t_sample = t_end/t_samples\n",
    "x_sample = __builtin__.max(1,int(N)//int(x_samples))\n",
    "x_start = __builtin__.max(0,int(N-x_samples*x_sample)//int(2))\n",
    "XS = array(range(B+x_start,B+N-x_start,x_sample))\n",
    "ds0 = 1e-5 # 0.0002 # N=10 # initial step size\n",
    "dsn = 1 # initial step size divider"
   ]
  },
  {
   "cell_type": "code",
   "execution_count": null,
   "metadata": {
    "scrolled": true
   },
   "outputs": [
    {
     "name": "stdout",
     "output_type": "stream",
     "text": [
      "t = 0.0 t1 = 0.2 rho = 1.0 E1 = 1436178298.98\n",
      "t = 0.2 t1 = 0.4 rho = 1.0 E1 = 1436178297.68\n",
      "Energy conservation bound failed at 0.4. Delta E:|0.825862884521| > 0.1.\n",
      "Trying a shorter initial step size: 5e-06.\n",
      "t = 0.0 t1 = 0.2 rho = 1.0 E1 = 1436178298.98\n",
      "t = 0.2 t1 = 0.4 rho = 1.0 E1 = 1436178298.65\n",
      "Energy conservation bound failed at 0.400004999999. Delta E:|0.20646071434| > 0.1.\n",
      "Trying a shorter initial step size: 3.33333333333e-06.\n",
      "t = 0.0 t1 = 0.2 rho = 1.0 E1 = 1436178298.98\n",
      "t = 0.200003333333 t1 = 0.400003333333 rho = 1.0 E1 = 1436178298.84\n"
     ]
    }
   ],
   "source": [
    "while True:\n",
    "    try: # step size\n",
    "        ds = ds0/dsn\n",
    "        # initial values\n",
    "        rho.set_value(1.0)\n",
    "        t.set_value(0.0)\n",
    "        x.set_value(b0)\n",
    "        v.set_value(v0)\n",
    "        a.set_value(a0)\n",
    "        # data recording\n",
    "        T = [] # sample times\n",
    "        Rho = [] # steo size\n",
    "        XX = [] # position\n",
    "        XV = [] # velocity\n",
    "        TK = [] # kinetic energy\n",
    "        TP = [] # classical potential\n",
    "        TQ = [] # quantum potential\n",
    "        E = []  # total energy\n",
    "        try:\n",
    "            t0 = t.get_value().item()\n",
    "            while t0<t_end:\n",
    "                t1 = t0 + t_sample\n",
    "                [TK1, TP1, TQ1] = E_(); E1 = TK1+TP1+TQ1\n",
    "                # Check total energy conservation\n",
    "                if len(E)>1 and abs(E1-E0)>0.1: raise ValueError(\n",
    "                     \"Energy conservation bound failed at %s. Delta E:\"\\\n",
    "                    \"|%s| > 0.1.\"%(t0,E1-E0))\n",
    "                E0 = E1\n",
    "                if t0>=t_start:\n",
    "                    T.append(t0) # record samples\n",
    "                    TK.append(TK1); TP.append(TP1); TQ.append(TQ1); E.append(E1)\n",
    "                    XX.append(x.get_value()[:,XS][:,:,XS][:,:,:,XS][:,:,:,:,XS])\n",
    "                    XV.append(v.get_value()[:,XS][:,:,XS][:,:,:,XS][:,:,:,:,XS])\n",
    "                    Rho.append(rho.get_value().item())\n",
    "                    print(\"t = %s t1 = %s rho = %s E1 = %s\"%(t0,t1,Rho[-1],E0))\n",
    "                while t0<t1: # loop\n",
    "                    t0 = VerletStep(ds,alpha).item()\n",
    "                    rho0 = rho.get_value().item()\n",
    "                    if rho0 > 100 or rho0 < 0.01:\n",
    "                        raise ValueError(\"Step control failed at %s. rho=%s\"%(t0,rho0))\n",
    "                # Check no-crossing\n",
    "                #if crossing(): raise ValueError(\"crossing at %s\",t0)\n",
    "        except KeyboardInterrupt:\n",
    "            print(\"Interrupted at %s ...\"%(t0))\n",
    "        break # success!\n",
    "    except ValueError as msg:\n",
    "        print(msg)\n",
    "        #break\n",
    "        dsn = dsn + 1\n",
    "        print(\"Trying a shorter initial step size: %s.\"%(ds0/dsn))\n",
    "        continue\n",
    "tmax = T[-1]\n",
    "print(\"t = %d\"%tmax)"
   ]
  },
  {
   "cell_type": "markdown",
   "metadata": {},
   "source": [
    "Step Density"
   ]
  },
  {
   "cell_type": "code",
   "execution_count": null,
   "metadata": {},
   "outputs": [],
   "source": [
    "figure(figsize=(10,5))\n",
    "plot(T, Rho)\n",
    "title('Step Density')\n",
    "xlabel('time'); ylabel('rho')\n",
    "show()"
   ]
  },
  {
   "cell_type": "markdown",
   "metadata": {},
   "source": [
    "#### Quantum Potential, Classical Potential and Kinetic Energy ####"
   ]
  },
  {
   "cell_type": "code",
   "execution_count": null,
   "metadata": {},
   "outputs": [],
   "source": [
    "figure(figsize=(10,5))\n",
    "plot(T, TK, color='green',label='kinetic')\n",
    "plot(T, TQ, color='red',label='quantum potential')\n",
    "plot(T, TP, color='blue',label='classical potential')\n",
    "legend()\n",
    "title('Total Energy')\n",
    "xlabel('time'); ylabel('energy')\n",
    "show(); close()"
   ]
  },
  {
   "cell_type": "code",
   "execution_count": null,
   "metadata": {},
   "outputs": [],
   "source": [
    "figure(figsize=(10,5))\n",
    "#plot(T, TK[T],color='green',label='kinetic')\n",
    "plot(T[40:], TQ[40:],color='red',label='quantum potential')\n",
    "#plot(T, TP[T],color='blue',label='classical potential')\n",
    "legend()\n",
    "title('Total Energy')\n",
    "xlabel('time'); ylabel('energy')\n",
    "show(); close()"
   ]
  },
  {
   "cell_type": "markdown",
   "metadata": {},
   "source": [
    "#### Energy Conservation ####"
   ]
  },
  {
   "cell_type": "code",
   "execution_count": null,
   "metadata": {},
   "outputs": [],
   "source": [
    "figure(figsize=(10,5))\n",
    "plot(T, E, color='red')\n",
    "title('Energy Conservation')\n",
    "xlabel('time'); ylabel('energy')\n",
    "show()\n",
    "close()"
   ]
  },
  {
   "cell_type": "markdown",
   "metadata": {},
   "source": [
    "#### Trajectories ####\n",
    "The trajectory of the particle in each world is shown below.  Notice how the trajectories do not cross, yet in some worlds the particle is scattered from the barrier while in others the particle tunnels across the barrier \"pushed\" by its counterpart in other worlds."
   ]
  },
  {
   "cell_type": "code",
   "execution_count": null,
   "metadata": {},
   "outputs": [],
   "source": [
    "XT=array(XX)"
   ]
  },
  {
   "cell_type": "code",
   "execution_count": null,
   "metadata": {},
   "outputs": [],
   "source": [
    "fig = figure(figsize=(20,10))\n",
    "ax = fig.gca(projection='3d')\n",
    "j=0\n",
    "for i in range(0,N):\n",
    "    ax.plot(XT[:,0,i+j,i+j,i+j,i+j], XT[:,1,i+j,i+j,i+j,i+j], T, color='red')\n",
    "    ax.plot(XT[:,2,i+j,i+j,i+j,i+j], XT[:,3,i+j,i+j,i+j,i+j], T, color='blue')\n",
    "show(); close()"
   ]
  },
  {
   "cell_type": "code",
   "execution_count": null,
   "metadata": {},
   "outputs": [],
   "source": [
    "fig = figure(figsize=(20,10))\n",
    "ax = fig.gca(projection='3d')\n",
    "\n",
    "ax.plot(XT[:,0,9,9,9,9], XT[:,1,9,9,9,9], T, color='red')\n",
    "ax.plot(XT[:,2,9,9,9,9], XT[:,3,9,9,9,9] , T, color='blue')\n",
    "\n",
    "ax.plot(XT[:,0,10,10,10,10], XT[:,1,10,10,10,10], T, color='red')\n",
    "ax.plot(XT[:,2,10,10,10,10], XT[:,3,10,10,10,10] , T, color='blue')\n",
    "\n",
    "ax.plot(XT[:,0,11,11,11,11], XT[:,1,11,11,11,11], T, color='red')\n",
    "ax.plot(XT[:,2,11,11,11,11], XT[:,3,11,11,11,11] , T, color='blue')\n",
    "\n",
    "ax.view_init(10, 20)\n",
    "show(); close()"
   ]
  },
  {
   "cell_type": "code",
   "execution_count": null,
   "metadata": {},
   "outputs": [],
   "source": [
    "figure(figsize=(20,10))\n",
    "plot(T, mean(XT[:,0],(1,2,3,4)), color='red',label='particle 0: x',linewidth=2)\n",
    "plot(T, mean(XT[:,1],(1,2,3,4)), color='pink',label='particle 0: y',linewidth=2)\n",
    "plot(T, mean(XT[:,2],(1,2,3,4)), color='blue',label='particle 1: x',linewidth=2)\n",
    "plot(T, mean(XT[:,3],(1,2,3,4)), color='lightblue',label='particle 1: y',linewidth=2)\n",
    "#line_color = Spectral(linspace(0,1,len(XS)))\n",
    "for i1 in range(8,13): #range(len(XS)):\n",
    "    for j1 in range(8,13): #range(len(XS)):\n",
    "        for i2 in range(8,13): #range(len(XS)):\n",
    "            for j2 in range(8,13): #range(len(XS)):\n",
    "                plot(T, XT[:,0,i1,j1,i2,j2],color='red',alpha=0.5,linewidth=0.5)\n",
    "                plot(T, XT[:,1,i1,j1,i2,j2],color='pink',alpha=0.5,linewidth=0.5)\n",
    "                plot(T, XT[:,2,i1,j1,i2,j2],color='blue',alpha=0.5,linewidth=0.5)\n",
    "                plot(T, XT[:,3,i1,j1,i2,j2],color='lightblue',alpha=0.5,linewidth=0.5)\n",
    "legend()\n",
    "title('World-Particle Trajectories')\n",
    "xlabel('time'); ylabel('location')\n",
    "show()"
   ]
  },
  {
   "cell_type": "markdown",
   "metadata": {},
   "source": [
    "#### Final Distribution ####\n",
    "The distribution at the end of the simulation shows the reflected and transmitted \"wave packets\" separating from each other."
   ]
  },
  {
   "cell_type": "markdown",
   "metadata": {},
   "source": [
    "In greater detail ..."
   ]
  },
  {
   "cell_type": "code",
   "execution_count": null,
   "metadata": {},
   "outputs": [],
   "source": [
    "scatter(p0[0],p0[1],s=0.1,color='red')\n",
    "scatter(p0[2],p0[3],s=0.1,color='blue')\n",
    "show()"
   ]
  },
  {
   "cell_type": "code",
   "execution_count": null,
   "metadata": {},
   "outputs": [],
   "source": [
    "scatter(debound(x[0]).eval(),debound(x[1]).eval(),s=0.05,color='red')\n",
    "scatter(debound(x[2]).eval(),debound(x[3]).eval(),s=0.05,color='blue')\n",
    "show()"
   ]
  },
  {
   "cell_type": "markdown",
   "metadata": {},
   "source": [
    "Tomographic projections"
   ]
  },
  {
   "cell_type": "code",
   "execution_count": null,
   "metadata": {},
   "outputs": [],
   "source": [
    "fig = figure(figsize=(12,6),dpi=100)\n",
    "ax1=fig.add_subplot(121)\n",
    "#ax1.set_aspect('equal')\n",
    "ax1.contourf(mean(debound(x[0]).eval(),(2,3)),mean(debound(x[1]).eval(),(2,3)),mean(D_(x.eval()),(2,3)),30)\n",
    "ax2=fig.add_subplot(122)\n",
    "#ax2.set_aspect('equal')\n",
    "ax2.contourf(mean(debound(x[0]).eval(),(0,1)),mean(debound(x[1]).eval(),(0,1)),mean(D_(x.eval()),(0,1)),30)\n",
    "xlabel('x'); ylabel('y')\n",
    "show()"
   ]
  },
  {
   "cell_type": "code",
   "execution_count": null,
   "metadata": {},
   "outputs": [],
   "source": [
    "fig = figure(figsize=(12,6),dpi=100)\n",
    "ax1=fig.add_subplot(121, projection='3d')\n",
    "#ax1.set_aspect('equal')\n",
    "ax1.plot_surface(mean(debound(x[0]).eval(),(2,3)),mean(debound(x[1]).eval(),(2,3)),mean(D_(x.eval()),(2,3)),\n",
    "                 color='lightblue', linewidth=0, antialiased=True)\n",
    "ax2=fig.add_subplot(122, projection='3d')\n",
    "#ax2.set_aspect('equal')\n",
    "ax2.plot_surface(mean(debound(x[0]).eval(),(0,1)),mean(debound(x[1]).eval(),(0,1)),mean(D_(x.eval()),(0,1)),\n",
    "                 color='lightblue', linewidth=0, antialiased=True)\n",
    "xlabel('x'); ylabel('y')\n",
    "show()"
   ]
  },
  {
   "cell_type": "code",
   "execution_count": null,
   "metadata": {},
   "outputs": [],
   "source": []
  }
 ],
 "metadata": {
  "kernelspec": {
   "display_name": "anaconda_kernel",
   "language": "python",
   "name": "anaconda_kernel"
  },
  "language_info": {
   "codemirror_mode": {
    "name": "ipython",
    "version": 2
   },
   "file_extension": ".py",
   "mimetype": "text/x-python",
   "name": "python",
   "nbconvert_exporter": "python",
   "pygments_lexer": "ipython2",
   "version": "2.7.14"
  }
 },
 "nbformat": 4,
 "nbformat_minor": 1
}
