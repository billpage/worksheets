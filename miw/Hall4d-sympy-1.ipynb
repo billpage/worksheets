{
 "cells": [
  {
   "cell_type": "code",
   "execution_count": 1,
   "metadata": {},
   "outputs": [
    {
     "name": "stdout",
     "output_type": "stream",
     "text": [
      "env: MKL_THREADING_LAYER=GNU\n",
      "env: THEANO_FLAGS=device=cuda,floatX=float64\n"
     ]
    }
   ],
   "source": [
    "%env MKL_THREADING_LAYER=GNU\n",
    "%env THEANO_FLAGS=device=cuda,floatX=float64\n",
    "# optimizer=fast_run,NanGuardMode.action=warn\n",
    "# assert_no_cpu_op='raise'\n",
    "# use device=cuda for gpu support"
   ]
  },
  {
   "cell_type": "code",
   "execution_count": 2,
   "metadata": {
    "collapsed": true
   },
   "outputs": [],
   "source": [
    "import sys\n",
    "from __future__ import division\n",
    "add = __builtin__.sum"
   ]
  },
  {
   "cell_type": "code",
   "execution_count": 3,
   "metadata": {},
   "outputs": [
    {
     "name": "stderr",
     "output_type": "stream",
     "text": [
      "Using cuDNN version 7005 on context None\n",
      "Mapped name None to device cuda: GeForce GTX 980 Ti (0000:01:00.0)\n"
     ]
    }
   ],
   "source": [
    "from theano import clone, function, pp, shared\n",
    "from theano.tensor import (concatenate, config, cosh, dot, erfinv, eq, grad, min,\n",
    "                           scalar, scalars, shape_padright, sum, switch,\n",
    "                           tensor3, tensor4, tensor5, TensorType, tile, vector)\n",
    "from theano.tensor.var import TensorVariable\n",
    "from theano.printing import debugprint, pydotprint\n",
    "#from theano.tensor.shared_randomstreams import RandomStreams\n",
    "# used later\n",
    "from theano.tensor import roll, stack"
   ]
  },
  {
   "cell_type": "code",
   "execution_count": 4,
   "metadata": {
    "collapsed": true
   },
   "outputs": [],
   "source": [
    "from numpy import (array, arange, asarray, exp, full, Inf, linspace,\n",
    "                   mean, meshgrid, pi, roll)\n",
    "# used later\n",
    "#from numpy import roll, stack"
   ]
  },
  {
   "cell_type": "code",
   "execution_count": 5,
   "metadata": {
    "collapsed": true
   },
   "outputs": [],
   "source": [
    "from sympy import (Abs, Eq, exp as Exp, I, init_printing, integrate,\n",
    "                   oo, pi as Pi, solve, symbols, Symbol)\n",
    "#from sympy.printing.theanocode\n",
    "# added erfinv\n",
    "from theanocode import theano_code, theano_function\n",
    "#from pymatrix import matrix, Matrix"
   ]
  },
  {
   "cell_type": "code",
   "execution_count": 6,
   "metadata": {
    "collapsed": true
   },
   "outputs": [],
   "source": [
    "init_printing()"
   ]
  },
  {
   "cell_type": "code",
   "execution_count": 7,
   "metadata": {
    "collapsed": true
   },
   "outputs": [],
   "source": [
    "from IPython.display import display, HTML, SVG"
   ]
  },
  {
   "cell_type": "code",
   "execution_count": 8,
   "metadata": {
    "collapsed": true
   },
   "outputs": [],
   "source": [
    "%matplotlib inline\n",
    "from matplotlib.pyplot import (axes, close, contour, contourf, figure,\n",
    "                               legend, plot, rcParams, scatter, show,\n",
    "                               title, xlabel, ylabel)\n",
    "from matplotlib.cm import * #coolwarm, Spectral, etc.\n",
    "from mpl_toolkits.mplot3d import axes3d\n",
    "from matplotlib import animation"
   ]
  },
  {
   "cell_type": "code",
   "execution_count": 9,
   "metadata": {
    "collapsed": true
   },
   "outputs": [],
   "source": [
    "from sdict import select"
   ]
  },
  {
   "cell_type": "code",
   "execution_count": 10,
   "metadata": {
    "collapsed": true
   },
   "outputs": [],
   "source": [
    "from smatrix import *"
   ]
  },
  {
   "cell_type": "code",
   "execution_count": 11,
   "metadata": {
    "collapsed": true
   },
   "outputs": [],
   "source": [
    "# function of specified variables fun(y,...) from expression f\n",
    "# where: fun(x,y)(f)(x,y) = f\n",
    "def fun(*y):\n",
    "    if isinstance(y[0],TensorVariable):\n",
    "        return lambda f: lambda *x: clone(f, dict([[y[i],x[i]] for i in range(len(y))]),strict=False)\n",
    "    else:\n",
    "        return lambda f: lambda *x: f.subs( dict([[y[i],x[i]] for i in range(len(y))]))"
   ]
  },
  {
   "cell_type": "markdown",
   "metadata": {},
   "source": [
    "#### Boundary Conditions\n",
    "\n",
    "We introduce fictitious worlds, two worlds deep, at the edges of the array to represent boundary conditions. Boundry worlds can be removed or set to zero."
   ]
  },
  {
   "cell_type": "code",
   "execution_count": 12,
   "metadata": {
    "collapsed": true
   },
   "outputs": [],
   "source": [
    "B=2\n",
    "def boundary0(r):\n",
    "    for i in range(r.ndim):\n",
    "        rs = list(r.shape); rs[i]=1\n",
    "        s = [1]*r.ndim; s[i]=B\n",
    "        before1 = tile(array([0]*B,config.floatX).reshape(*s),rs)\n",
    "        s = [1]*r.ndim; s[i]=B\n",
    "        after1 = tile(array([0]*B,config.floatX).reshape(*s),rs)\n",
    "        r = concatenate([before1,r,after1], axis=i)\n",
    "    return r"
   ]
  },
  {
   "cell_type": "code",
   "execution_count": 13,
   "metadata": {
    "collapsed": true
   },
   "outputs": [],
   "source": [
    "def boundary(s): return stack([boundary0(r) for r in s])"
   ]
  },
  {
   "cell_type": "code",
   "execution_count": 14,
   "metadata": {
    "collapsed": true
   },
   "outputs": [],
   "source": [
    "def debound(r): return r[tuple([slice(B,-B)]*(r.ndim))]"
   ]
  },
  {
   "cell_type": "code",
   "execution_count": 15,
   "metadata": {
    "collapsed": true
   },
   "outputs": [],
   "source": [
    "# uniform grid between 0 and 1 of dimension d and size N\n",
    "def grid(d,N):\n",
    "    return array(meshgrid(*[arange(0.0+0.5/N,1.0,1.0/N,config.floatX)]*d,\n",
    "                              indexing='ij'))"
   ]
  },
  {
   "cell_type": "markdown",
   "metadata": {},
   "source": [
    "### Difference operator ###"
   ]
  },
  {
   "cell_type": "markdown",
   "metadata": {},
   "source": [
    "Forward and backward differences"
   ]
  },
  {
   "cell_type": "code",
   "execution_count": 16,
   "metadata": {
    "collapsed": true
   },
   "outputs": [],
   "source": [
    "def d(dir,x,i):\n",
    "    if dir<0:\n",
    "        return roll(x, dir, axis = i) - x\n",
    "    else:\n",
    "        return x - roll(x, dir, axis = i)"
   ]
  },
  {
   "cell_type": "markdown",
   "metadata": {},
   "source": [
    "#### Jacobian ####"
   ]
  },
  {
   "cell_type": "code",
   "execution_count": 17,
   "metadata": {
    "collapsed": true
   },
   "outputs": [],
   "source": [
    "def J(C): return matrix([[d(-1,C[j],i) for i in dim] for j in dim])"
   ]
  },
  {
   "cell_type": "code",
   "execution_count": 18,
   "metadata": {
    "collapsed": true
   },
   "outputs": [],
   "source": [
    "def K(C): return 1/J(C) # inverse"
   ]
  },
  {
   "cell_type": "markdown",
   "metadata": {},
   "source": [
    "#### Quantum Potential (Schiff&Poirier eq. 20)####"
   ]
  },
  {
   "cell_type": "code",
   "execution_count": 19,
   "metadata": {
    "collapsed": true
   },
   "outputs": [],
   "source": [
    "def Q(hbar,mu,C):\n",
    "    K_C = K(C)\n",
    "    return debound(add([add([add([\n",
    "           -hbar**2/(4*mu[j])*(K_C[k,j]*d(-1,d(+1,K_C[l,j], k), l) + d(+1,K_C[l,j], l)*d(+1,K_C[k,j], k)/2)\n",
    "                 for k in dim]) for j in dim]) for l in dim]))"
   ]
  },
  {
   "cell_type": "markdown",
   "metadata": {},
   "source": [
    "The gradient of just the $2^{nd}$ order term in Schiff&Poirier eq. 20 (differing only by the sign), yields the same quantum force as the full expression.\n",
    "The discretized version of this expression is identical to that introduced by Hall & Deckart."
   ]
  },
  {
   "cell_type": "code",
   "execution_count": 20,
   "metadata": {
    "collapsed": true
   },
   "outputs": [],
   "source": [
    "def Q2(hbar,mu,C):\n",
    "    K_C = K(C)\n",
    "    return debound(add([add([add([\n",
    "           hbar**2/(8*mu[j])*d(+1,K_C[l,j], l)*d(+1,K_C[k,j], k)\n",
    "                 for k in dim]) for j in dim]) for l in dim]))"
   ]
  },
  {
   "cell_type": "markdown",
   "metadata": {},
   "source": [
    "#### Quantum Force (Schiff & Poirier eq 18) ####"
   ]
  },
  {
   "cell_type": "code",
   "execution_count": 21,
   "metadata": {
    "collapsed": true
   },
   "outputs": [],
   "source": [
    "def R(hbar,mu,C):\n",
    "    K_C=K(C)\n",
    "    return stack([debound(add([add([add([add([\n",
    "      hbar**2/(4*mu[j])*d(+1,K_C[k, i]*K_C[p, j]*d(-1,d(+1,K_C[l, j], k), l), p)\n",
    "        for p in dim]) for k in dim]) for j in dim]) for l in dim]))\n",
    "            for i in dim])"
   ]
  },
  {
   "cell_type": "markdown",
   "metadata": {},
   "source": [
    "### Start with 1-D expressions ##"
   ]
  },
  {
   "cell_type": "code",
   "execution_count": 22,
   "metadata": {
    "collapsed": true
   },
   "outputs": [],
   "source": [
    "dim = range(1) # dimension"
   ]
  },
  {
   "cell_type": "markdown",
   "metadata": {},
   "source": [
    "In the following we use numpy's roll and stack functions for symbolic operations. Later we will use the same theano functions for numeric operations."
   ]
  },
  {
   "cell_type": "code",
   "execution_count": 23,
   "metadata": {
    "collapsed": true
   },
   "outputs": [],
   "source": [
    "from numpy import roll, stack"
   ]
  },
  {
   "cell_type": "code",
   "execution_count": 24,
   "metadata": {
    "collapsed": true
   },
   "outputs": [],
   "source": [
    "mu=array(symbols(['mu%s'%i for i in dim])) # mass\n",
    "hbar=Symbol('hbar')"
   ]
  },
  {
   "cell_type": "markdown",
   "metadata": {},
   "source": [
    "The multidimensional symbolic array $s$ represents a \"uniformizing\" mapping of worlds into configuration space, i.e. the position of each particle in each world. Provided the number of worlds is large enough the trace of Q will contain sufficient information to compute the force as a gradient."
   ]
  },
  {
   "cell_type": "code",
   "execution_count": 25,
   "metadata": {
    "collapsed": true
   },
   "outputs": [],
   "source": [
    "N=9 # number of worlds"
   ]
  },
  {
   "cell_type": "code",
   "execution_count": 26,
   "metadata": {
    "collapsed": true
   },
   "outputs": [],
   "source": [
    "xb=array(symbols(['%s_{%s}'%('x'.replace(' ',''),str(Symbol(\"i\")+(i-N//2)).replace(' ','')) for i in range(N)]))"
   ]
  },
  {
   "cell_type": "markdown",
   "metadata": {},
   "source": [
    "The sympy variable names display symbolic indices."
   ]
  },
  {
   "cell_type": "code",
   "execution_count": 27,
   "metadata": {},
   "outputs": [
    {
     "data": {
      "image/png": "[encoded data removed]",
      "text/latex": [
       "$$\\left [ x_{i-4}, \\quad x_{i-3}, \\quad x_{i-2}, \\quad x_{i-1}, \\quad x_{i}, \\quad x_{i+1}, \\quad x_{i+2}, \\quad x_{i+3}, \\quad x_{i+4}\\right ]$$"
      ],
      "text/plain": [
       "[x_{i-4}, x_{i-3}, x_{i-2}, x_{i-1}, x_{i}, x_{i+1}, x_{i+2}, x_{i+3}, x_{i+4}\n",
       "]"
      ]
     },
     "execution_count": 27,
     "metadata": {},
     "output_type": "execute_result"
    }
   ],
   "source": [
    "xb.tolist()"
   ]
  },
  {
   "cell_type": "markdown",
   "metadata": {},
   "source": [
    "The index of the $i^{th}$ world with boundry worlds removed:"
   ]
  },
  {
   "cell_type": "code",
   "execution_count": 28,
   "metadata": {
    "collapsed": true
   },
   "outputs": [],
   "source": [
    "x=debound(xb)"
   ]
  },
  {
   "cell_type": "code",
   "execution_count": 29,
   "metadata": {},
   "outputs": [
    {
     "data": {
      "image/png": "[encoded data removed]",
      "text/latex": [
       "$$x_{i}$$"
      ],
      "text/plain": [
       "x_{i}"
      ]
     },
     "execution_count": 29,
     "metadata": {},
     "output_type": "execute_result"
    }
   ],
   "source": [
    "ith = N//2-B\n",
    "x[ith]"
   ]
  },
  {
   "cell_type": "markdown",
   "metadata": {},
   "source": [
    "The quantum potential at each world:"
   ]
  },
  {
   "cell_type": "code",
   "execution_count": 30,
   "metadata": {
    "collapsed": true
   },
   "outputs": [],
   "source": [
    "Qs2=Q2(hbar,mu,[xb])"
   ]
  },
  {
   "cell_type": "markdown",
   "metadata": {},
   "source": [
    "The $i^{th}$ entry in this array is generic, i.e. independent of the worlds at the boundary. "
   ]
  },
  {
   "cell_type": "code",
   "execution_count": 31,
   "metadata": {},
   "outputs": [
    {
     "data": {
      "image/png": "[encoded data removed]",
      "text/latex": [
       "$$\\frac{\\hbar^{2}}{8 \\mu_{0}} \\left(- \\frac{1}{- x_{i-1} + x_{i}} + \\frac{1}{x_{i+1} - x_{i}}\\right)^{2}$$"
      ],
      "text/plain": [
       "                                          2\n",
       "  2 ⎛         1                  1       ⎞ \n",
       "h̅ ⋅⎜- ──────────────── + ───────────────⎟ \n",
       "    ⎝  -x_{i-1} + x_{i}   x_{i+1} - x_{i}⎠ \n",
       "───────────────────────────────────────────\n",
       "                    8⋅μ₀                   "
      ]
     },
     "execution_count": 31,
     "metadata": {},
     "output_type": "execute_result"
    }
   ],
   "source": [
    "Qs2[ith]"
   ]
  },
  {
   "cell_type": "markdown",
   "metadata": {},
   "source": [
    "We consider it as a function of its mass $\\mu_0$ and 3 variables representing the positions of the particle in the $i^{th}$ world and immediately adjacent worlds ."
   ]
  },
  {
   "cell_type": "code",
   "execution_count": 32,
   "metadata": {},
   "outputs": [
    {
     "data": {
      "image/png": "[encoded data removed]",
      "text/latex": [
       "$$\\left [ x_{i+1}, \\quad x_{i}, \\quad x_{i-1}\\right ]$$"
      ],
      "text/plain": [
       "[x_{i+1}, x_{i}, x_{i-1}]"
      ]
     },
     "execution_count": 32,
     "metadata": {},
     "output_type": "execute_result"
    }
   ],
   "source": [
    "[x[ith-i] for i in range(-1,2)]"
   ]
  },
  {
   "cell_type": "code",
   "execution_count": 33,
   "metadata": {
    "collapsed": true
   },
   "outputs": [],
   "source": [
    "Q1=fun(mu[0],*[x[ith-i] for i in range(-1,2)])(Qs2[ith])"
   ]
  },
  {
   "cell_type": "markdown",
   "metadata": {},
   "source": [
    "Quantum force at each world:"
   ]
  },
  {
   "cell_type": "code",
   "execution_count": 34,
   "metadata": {
    "scrolled": true
   },
   "outputs": [
    {
     "data": {
      "image/png": "[encoded data removed]",
      "text/latex": [
       "$$\\left ( 1, \\quad 5\\right )$$"
      ],
      "text/plain": [
       "(1, 5)"
      ]
     },
     "execution_count": 34,
     "metadata": {},
     "output_type": "execute_result"
    }
   ],
   "source": [
    "Rs=R(hbar,mu,[xb])\n",
    "Rs.shape"
   ]
  },
  {
   "cell_type": "markdown",
   "metadata": {},
   "source": [
    "Again, the $i^{th}$ entry in these arrays are generic, i.e. independent of the boundary worlds."
   ]
  },
  {
   "cell_type": "code",
   "execution_count": 35,
   "metadata": {},
   "outputs": [
    {
     "data": {
      "image/png": "[encoded data removed]",
      "text/latex": [
       "$$\\frac{\\hbar^{2}}{4 \\mu_{0}} \\left(- \\frac{1}{\\left(- x_{i-1} + x_{i}\\right)^{2}} \\left(\\frac{1}{x_{i-1} - x_{i-2}} - \\frac{2}{- x_{i-1} + x_{i}} + \\frac{1}{x_{i+1} - x_{i}}\\right) + \\frac{1}{\\left(x_{i+1} - x_{i}\\right)^{2}} \\left(\\frac{1}{- x_{i-1} + x_{i}} - \\frac{2}{x_{i+1} - x_{i}} + \\frac{1}{- x_{i+1} + x_{i+2}}\\right)\\right)$$"
      ],
      "text/plain": [
       "    ⎛          1                  2                  1                 1      \n",
       "    ⎜  ───────────────── - ──────────────── + ───────────────   ──────────────\n",
       "  2 ⎜  x_{i-1} - x_{i-2}   -x_{i-1} + x_{i}   x_{i+1} - x_{i}   -x_{i-1} + x_{\n",
       "h̅ ⋅⎜- ────────────────────────────────────────────────────── + ──────────────\n",
       "    ⎜                                     2                                   \n",
       "    ⎝                   (-x_{i-1} + x_{i})                                    \n",
       "──────────────────────────────────────────────────────────────────────────────\n",
       "                                                          4⋅μ₀                \n",
       "\n",
       "            2                  1         ⎞\n",
       "── - ─────────────── + ──────────────────⎟\n",
       "i}   x_{i+1} - x_{i}   -x_{i+1} + x_{i+2}⎟\n",
       "─────────────────────────────────────────⎟\n",
       "                      2                  ⎟\n",
       "     (x_{i+1} - x_{i})                   ⎠\n",
       "──────────────────────────────────────────\n",
       "                                          "
      ]
     },
     "execution_count": 35,
     "metadata": {},
     "output_type": "execute_result"
    }
   ],
   "source": [
    "Rs[0,ith]"
   ]
  },
  {
   "cell_type": "markdown",
   "metadata": {},
   "source": [
    "As expected, the discretized Schiff and Poirier expression for the quantum force is minus the gradient of the trace of the discretized quantum potential."
   ]
  },
  {
   "cell_type": "code",
   "execution_count": 36,
   "metadata": {},
   "outputs": [
    {
     "data": {
      "text/plain": [
       "True"
      ]
     },
     "execution_count": 36,
     "metadata": {},
     "output_type": "execute_result"
    }
   ],
   "source": [
    "(Rs[0,ith] - -add([Qs2[i] for i in range(N-2*B)]).diff(x[ith])).simplify()==0"
   ]
  },
  {
   "cell_type": "markdown",
   "metadata": {},
   "source": [
    "We consider it as a function of its mass $\\mu_0$ and 5 variables representing the positions of the particle in the $i^{th}$ world and two adjacent worlds to the left and right."
   ]
  },
  {
   "cell_type": "code",
   "execution_count": 37,
   "metadata": {},
   "outputs": [
    {
     "data": {
      "image/png": "[encoded data removed]",
      "text/latex": [
       "$$\\left [ x_{i+2}, \\quad x_{i+1}, \\quad x_{i}, \\quad x_{i-1}, \\quad x_{i-2}\\right ]$$"
      ],
      "text/plain": [
       "[x_{i+2}, x_{i+1}, x_{i}, x_{i-1}, x_{i-2}]"
      ]
     },
     "execution_count": 37,
     "metadata": {},
     "output_type": "execute_result"
    }
   ],
   "source": [
    "[x[ith-i] for i in range(-2,3)]"
   ]
  },
  {
   "cell_type": "code",
   "execution_count": 38,
   "metadata": {
    "collapsed": true
   },
   "outputs": [],
   "source": [
    "R1=fun(mu[0],*[x[ith-i] for i in range(-2,3)])(Rs[0,ith])"
   ]
  },
  {
   "cell_type": "markdown",
   "metadata": {},
   "source": [
    "The 4-dimensional quantum potential and force can be expressed in terms of the 1-dimensional expressions."
   ]
  },
  {
   "cell_type": "markdown",
   "metadata": {},
   "source": [
    "### In 4 dimensions ... ###"
   ]
  },
  {
   "cell_type": "markdown",
   "metadata": {},
   "source": [
    "The generalization to higher dimensions/multiple particles is essentially trivial."
   ]
  },
  {
   "cell_type": "code",
   "execution_count": 39,
   "metadata": {
    "collapsed": true
   },
   "outputs": [],
   "source": [
    "dim = range(4) # dimension"
   ]
  },
  {
   "cell_type": "markdown",
   "metadata": {},
   "source": [
    "### Numeric computation ###\n",
    "\n",
    "These expressions can be converted directly to Theano functions for efficient execution on gpu and multicore processors."
   ]
  },
  {
   "cell_type": "code",
   "execution_count": 40,
   "metadata": {
    "collapsed": true
   },
   "outputs": [],
   "source": [
    "from theano.tensor import roll, stack"
   ]
  },
  {
   "cell_type": "code",
   "execution_count": 41,
   "metadata": {
    "collapsed": true
   },
   "outputs": [],
   "source": [
    "hbar_s = scalar('hbar_s')\n",
    "mu_v = vector('mu_v')\n",
    "C = TensorType(config.floatX, (False,)*(1+len(dim)))('C') # shape: d * N**d"
   ]
  },
  {
   "cell_type": "markdown",
   "metadata": {},
   "source": [
    "Replace symbolic differences with vector operators:"
   ]
  },
  {
   "cell_type": "code",
   "execution_count": 42,
   "metadata": {
    "collapsed": true
   },
   "outputs": [],
   "source": [
    "from theano.tensor import roll, stack"
   ]
  },
  {
   "cell_type": "code",
   "execution_count": 43,
   "metadata": {
    "collapsed": true
   },
   "outputs": [],
   "source": [
    "hbar_s = theano_code(hbar)\n",
    "mu_v = vector('mu')"
   ]
  },
  {
   "cell_type": "markdown",
   "metadata": {},
   "source": [
    "Without sympy simplification Theano would produce the following expressions (disabled below since they are not needed in this worksheet):"
   ]
  },
  {
   "cell_type": "markdown",
   "metadata": {},
   "source": [
    "Even after Theano graph optimization the functions obtained from the sympy simplified expressions above are shorter than those produced directly by Theano. To conversion the sympy expressions to Theano, we just need to replace symbols with appropriate vector operators:"
   ]
  },
  {
   "cell_type": "code",
   "execution_count": 44,
   "metadata": {
    "collapsed": true
   },
   "outputs": [],
   "source": [
    "Q2b=fun(hbar_s,mu_v,C)(debound(add([clone(theano_code( # from sympy\n",
    "                Q1(mu[0],*[x[ith-i] for i in range(-1,2)])),\n",
    "                dict( # scalar to vector\n",
    "                      [[theano_code(mu[0]),mu_v[j]]]+\n",
    "                      # indexed variable to vector operator\n",
    "                      [[theano_code(x[ith-i]),roll(C[j],i,axis=j)] for i in range(-1,2)]),\n",
    "                strict=False) for j in dim]) ))\n",
    "Q2b_=function([hbar_s,mu_v,C],Q2b(hbar_s,mu_v,C))\n",
    "#SVG(pydotprint(Q2b_.maker.fgraph.outputs[0], return_image=True, format='svg'))"
   ]
  },
  {
   "cell_type": "code",
   "execution_count": 45,
   "metadata": {
    "collapsed": true
   },
   "outputs": [],
   "source": [
    "Rb=fun(hbar_s,mu_v,C)(stack([debound(clone(theano_code( # from sympy\n",
    "                        R1(mu[0],*[x[ith-i] for i in range(-2,3)])),\n",
    "                        dict( # scalar to vector\n",
    "                              [[theano_code(mu[0]),mu_v[j]]]+\n",
    "                              # indexed variable to vector operator\n",
    "                              [[theano_code(x[ith-i]),roll(C[j],i,axis=j)] for i in range(-2,3)]),\n",
    "                        strict=False)) for j in dim]))\n",
    "Rb_=function([hbar_s,mu_v,C],Rb(hbar_s,mu_v,C))\n",
    "#SVG(pydotprint(Rb_.maker.fgraph.outputs[0], return_image=True, format='svg'))"
   ]
  },
  {
   "cell_type": "markdown",
   "metadata": {},
   "source": [
    "### Simulation ###\n",
    "\n",
    "Using the expressions derived above we can generate efficient numerical functions which we use later in determining the motion of a particle in many worlds simultaneously.\n",
    "\n",
    "We will use the symmetric difference approximation to Poirier's equations above for a numerical simulation of quantum motion in a small number of ``parallel'' worlds."
   ]
  },
  {
   "cell_type": "markdown",
   "metadata": {},
   "source": [
    "#### Classical Potential ####"
   ]
  },
  {
   "cell_type": "markdown",
   "metadata": {},
   "source": [
    "The multidimensional symbolic array $C$ represents a \"uniformizing\" mapping of worlds into configuration space, i.e. the position of each particle in each world. Provided the number of worlds is large enough the trace of Q will contain sufficient information to compute the force as a gradient."
   ]
  },
  {
   "cell_type": "code",
   "execution_count": 46,
   "metadata": {
    "collapsed": true
   },
   "outputs": [],
   "source": [
    "hbar = scalar('hbar')\n",
    "mu = vector('mu')"
   ]
  },
  {
   "cell_type": "code",
   "execution_count": 47,
   "metadata": {
    "collapsed": true
   },
   "outputs": [],
   "source": [
    "x1,y1,x2,y2=scalars('x1','y1','x2','y2')"
   ]
  },
  {
   "cell_type": "code",
   "execution_count": 48,
   "metadata": {
    "collapsed": true
   },
   "outputs": [],
   "source": [
    "# symbolic\n",
    "V = fun(x1,y1,x2,y2) (5.0*((x1-x2)**2+(y1-y2)**2))"
   ]
  },
  {
   "cell_type": "code",
   "execution_count": 49,
   "metadata": {
    "collapsed": true
   },
   "outputs": [],
   "source": [
    "# clone to compile vectorized numeric function\n",
    "V_ = function([C],V(C[0],C[1],C[2],C[3]))"
   ]
  },
  {
   "cell_type": "code",
   "execution_count": 50,
   "metadata": {
    "scrolled": true
   },
   "outputs": [
    {
     "data": {
      "text/plain": [
       "<matplotlib.figure.Figure at 0x7f0cb6926d90>"
      ]
     },
     "metadata": {},
     "output_type": "display_data"
    }
   ],
   "source": [
    "plot(49*(grid(1,49)-0.5)[0],V_(49*(grid(4,49)-0.5))[:,24,24,24])\n",
    "title('Classical Potential')\n",
    "show()"
   ]
  },
  {
   "cell_type": "markdown",
   "metadata": {},
   "source": [
    "#### Classical Force ####"
   ]
  },
  {
   "cell_type": "code",
   "execution_count": 51,
   "metadata": {
    "collapsed": true
   },
   "outputs": [],
   "source": [
    "# symbolic gradient\n",
    "Fx1 = fun(x1,y1,x2,y2) (-grad(V(x1,y1,x2,y2),x1))\n",
    "Fy1 = fun(x1,y1,x2,y2) (-grad(V(x1,y1,x2,y2),y1))\n",
    "Fx2 = fun(x1,y1,x2,y2) (-grad(V(x1,y1,x2,y2),x2))\n",
    "Fy2 = fun(x1,y1,x2,y2) (-grad(V(x1,y1,x2,y2),y2))"
   ]
  },
  {
   "cell_type": "code",
   "execution_count": 52,
   "metadata": {
    "collapsed": true
   },
   "outputs": [],
   "source": [
    "F_ = function([C],stack([Fx1(C[0],C[1],C[2],C[3]),Fy1(C[0],C[1],C[2],C[3]),Fx2(C[0],C[1],C[2],C[3]),Fy2(C[0],C[1],C[2],C[3])]))"
   ]
  },
  {
   "cell_type": "code",
   "execution_count": 53,
   "metadata": {
    "collapsed": true
   },
   "outputs": [],
   "source": [
    "test=49*(grid(4,49)-0.5)"
   ]
  },
  {
   "cell_type": "code",
   "execution_count": 54,
   "metadata": {},
   "outputs": [
    {
     "data": {
      "text/plain": [
       "<matplotlib.figure.Figure at 0x7f0cb206a490>"
      ]
     },
     "metadata": {},
     "output_type": "display_data"
    }
   ],
   "source": [
    "plot(test[0][:,24,24,24]+1, F_(test)[0][:,24,24,24], color='red')\n",
    "plot(test[1][24,:,24,24]+2, F_(test)[1][24,:,24,24], color='green')\n",
    "plot(test[2][24,24,:,24]+3, F_(test)[2][24,24,:,24], color='blue')\n",
    "plot(test[3][24,24,24,:]+4, F_(test)[3][24,24,24,:], color='black')\n",
    "title('Classical Force')\n",
    "xlabel('distance'); ylabel('force')\n",
    "show()"
   ]
  },
  {
   "cell_type": "markdown",
   "metadata": {},
   "source": [
    "#### Density ####"
   ]
  },
  {
   "cell_type": "code",
   "execution_count": 55,
   "metadata": {
    "collapsed": true
   },
   "outputs": [],
   "source": [
    "D_ = function([C],debound(1/J(C).determinant()))"
   ]
  },
  {
   "cell_type": "markdown",
   "metadata": {},
   "source": [
    "### Initial Data ###\n",
    "\n",
    "In order to compute the quantum force on the particles in world $n$ we introduce four widely separated fictitious particles in worlds to the left and right to represent open boundary conditions."
   ]
  },
  {
   "cell_type": "markdown",
   "metadata": {},
   "source": [
    "For example consider the spatial distribution of a Gaussian ensemble of one particle in  $N$ \"parallel\" worlds."
   ]
  },
  {
   "cell_type": "code",
   "execution_count": 253,
   "metadata": {},
   "outputs": [],
   "source": [
    "N = 20"
   ]
  },
  {
   "cell_type": "code",
   "execution_count": 254,
   "metadata": {
    "collapsed": true
   },
   "outputs": [],
   "source": [
    "crosses=fun(C)(min([debound(d(-1,C[j],0)) for j in dim])<0)"
   ]
  },
  {
   "cell_type": "markdown",
   "metadata": {},
   "source": [
    "#### Spatial Distribution\n",
    "\n",
    "For example consider the spatial distribution of a Gaussian ensemble of one particle in  $N$ ``parallel'' worlds. Everything is in atomic units below, so $\\hbar=1$."
   ]
  },
  {
   "cell_type": "code",
   "execution_count": 255,
   "metadata": {},
   "outputs": [
    {
     "data": {
      "image/png": "[encoded data removed]",
      "text/latex": [
       "$$\\left ( 4, \\quad 24, \\quad 24, \\quad 24, \\quad 24\\right )$$"
      ],
      "text/plain": [
       "(4, 24, 24, 24, 24)"
      ]
     },
     "execution_count": 255,
     "metadata": {},
     "output_type": "execute_result"
    }
   ],
   "source": [
    "bxy=2*(grid(4,N+4)-0.5); bxy.shape"
   ]
  },
  {
   "cell_type": "code",
   "execution_count": 256,
   "metadata": {},
   "outputs": [
    {
     "data": {
      "image/png": "[encoded data removed]",
      "text/latex": [
       "$$\\left ( 4, \\quad 20, \\quad 20, \\quad 20, \\quad 20\\right )$$"
      ],
      "text/plain": [
       "(4, 20, 20, 20, 20)"
      ]
     },
     "execution_count": 256,
     "metadata": {},
     "output_type": "execute_result"
    }
   ],
   "source": [
    "xy=array(map(debound,bxy)); xy.shape"
   ]
  },
  {
   "cell_type": "code",
   "execution_count": 257,
   "metadata": {
    "collapsed": true
   },
   "outputs": [],
   "source": [
    "def gauss4(f,xy): return stack([f[0](xy[0]),f[1](xy[1]),f[2](xy[2]),f[3](xy[3])])"
   ]
  },
  {
   "cell_type": "code",
   "execution_count": 258,
   "metadata": {},
   "outputs": [
    {
     "data": {
      "image/png": "[encoded data removed]",
      "text/latex": [
       "$$\\left ( 4, \\quad 24, \\quad 24, \\quad 24, \\quad 24\\right )$$"
      ],
      "text/plain": [
       "(4, 24, 24, 24, 24)"
      ]
     },
     "execution_count": 258,
     "metadata": {},
     "output_type": "execute_result"
    }
   ],
   "source": [
    "b0=gauss4([lambda x0:erfinv(x0)*10+20,lambda y0:erfinv(y0)*10,lambda x1:erfinv(x1)*10,lambda y1:erfinv(y1)*10-20],bxy).eval()\n",
    "#b0 *= 10**18; b0[:,1:-1,1:-1,1:-1,1:-1] *= 10**-9; b0[:,2:-2,2:-2,2:-2,2:-2] *= 10**-9\n",
    "for j in dim:\n",
    "    b0[j][0] -= 1e12;       b0[j][1] -= 1e6;       b0[j][-2] += 1e6;       b0[j][-1] += 1e12\n",
    "    b0[j][:,0] -= 1e12;     b0[j][:,1] -= 1e6;     b0[j][:,-2] += 1e6;     b0[j][:,-1] += 1e12\n",
    "    b0[j][:,:,0] -= 1e12;   b0[j][:,:,1] -= 1e6;   b0[j][:,:,-2] += 1e6;   b0[j][:,:,-1] += 1e12\n",
    "    b0[j][:,:,:,0] -= 1e12; b0[j][:,:,:,1] -= 1e6; b0[j][:,:,:,-2] += 1e6; b0[j][:,:,:,-1] += 1e12\n",
    "\n",
    "b0.shape"
   ]
  },
  {
   "cell_type": "code",
   "execution_count": 259,
   "metadata": {},
   "outputs": [
    {
     "data": {
      "text/plain": [
       "array(False, dtype=bool)"
      ]
     },
     "execution_count": 259,
     "metadata": {},
     "output_type": "execute_result"
    }
   ],
   "source": [
    "crosses(b0).eval()"
   ]
  },
  {
   "cell_type": "code",
   "execution_count": 260,
   "metadata": {
    "scrolled": true
   },
   "outputs": [
    {
     "data": {
      "text/plain": [
       "(array([ -1.00000000e+12,  -9.99990848e+05,   1.11034543e+01]),\n",
       " array([  2.88965457e+01,   1.00003085e+06,   1.00000000e+12]))"
      ]
     },
     "execution_count": 260,
     "metadata": {},
     "output_type": "execute_result"
    }
   ],
   "source": [
    "b0[0][:3,5,5,5], b0[0][-3:,5,5,5]"
   ]
  },
  {
   "cell_type": "code",
   "execution_count": 261,
   "metadata": {},
   "outputs": [
    {
     "data": {
      "text/plain": [
       "(array([ -1.00000000e+12,  -9.99985244e+05,   1.47561382e+01]),\n",
       " array([  1.47561382e+01,   1.00001476e+06,   1.00000000e+12]))"
      ]
     },
     "execution_count": 261,
     "metadata": {},
     "output_type": "execute_result"
    }
   ],
   "source": [
    "b0[0][5,:3,5,5], b0[0][5,-3:,5,5]"
   ]
  },
  {
   "cell_type": "code",
   "execution_count": 262,
   "metadata": {},
   "outputs": [
    {
     "data": {
      "text/plain": [
       "(array([ -1.00000000e+12,  -9.99985244e+05,   1.47561382e+01]),\n",
       " array([  1.47561382e+01,   1.00001476e+06,   1.00000000e+12]))"
      ]
     },
     "execution_count": 262,
     "metadata": {},
     "output_type": "execute_result"
    }
   ],
   "source": [
    "b0[0][5,5,:3,5], b0[0][5,5,-3:,5]"
   ]
  },
  {
   "cell_type": "code",
   "execution_count": 263,
   "metadata": {
    "scrolled": true
   },
   "outputs": [
    {
     "data": {
      "text/plain": [
       "(array([ -1.00000000e+12,  -9.99985244e+05,   1.47561382e+01]),\n",
       " array([  1.47561382e+01,   1.00001476e+06,   1.00000000e+12]))"
      ]
     },
     "execution_count": 263,
     "metadata": {},
     "output_type": "execute_result"
    }
   ],
   "source": [
    "b0[0][5,5,5,:3], b0[0][5,5,5,-3:]"
   ]
  },
  {
   "cell_type": "code",
   "execution_count": 264,
   "metadata": {},
   "outputs": [
    {
     "data": {
      "image/png": "[encoded data removed]",
      "text/latex": [
       "$$\\left ( 4, \\quad 20, \\quad 20, \\quad 20, \\quad 20\\right )$$"
      ],
      "text/plain": [
       "(4, 20, 20, 20, 20)"
      ]
     },
     "execution_count": 264,
     "metadata": {},
     "output_type": "execute_result"
    }
   ],
   "source": [
    "p0 = array(map(debound,b0))\n",
    "p0.shape"
   ]
  },
  {
   "cell_type": "code",
   "execution_count": 265,
   "metadata": {},
   "outputs": [
    {
     "data": {
      "text/plain": [
       "<matplotlib.figure.Figure at 0x7f0c7cfbba50>"
      ]
     },
     "metadata": {},
     "output_type": "display_data"
    }
   ],
   "source": [
    "scatter(p0[0],p0[1],color='red',s=0.1)\n",
    "scatter(p0[2],p0[3],color='blue',s=0.1)\n",
    "show()"
   ]
  },
  {
   "cell_type": "code",
   "execution_count": 266,
   "metadata": {},
   "outputs": [
    {
     "data": {
      "text/plain": [
       "<matplotlib.figure.Figure at 0x7f0c760e39d0>"
      ]
     },
     "metadata": {},
     "output_type": "display_data"
    }
   ],
   "source": [
    "fig = figure(figsize=(12,6),dpi=100)\n",
    "ax1=fig.add_subplot(121)\n",
    "#ax1.set_aspect('equal')\n",
    "ax1.contourf(p0[0][:,:,0,0],p0[1][:,:,0,0],D_(b0)[:,:,0,0],30)\n",
    "ax2=fig.add_subplot(122)\n",
    "#ax2.set_aspect('equal')\n",
    "ax2.contourf(p0[0][:,:,0,0],p0[1][:,:,0,0],Q2b_(1,[1,1,1,1],b0)[:,:,0,0],30)\n",
    "show()"
   ]
  },
  {
   "cell_type": "code",
   "execution_count": 267,
   "metadata": {},
   "outputs": [
    {
     "data": {
      "text/plain": [
       "<matplotlib.figure.Figure at 0x7f0c70c7d610>"
      ]
     },
     "metadata": {},
     "output_type": "display_data"
    }
   ],
   "source": [
    "fig = figure(figsize=(12,6),dpi=100)\n",
    "ax1 = fig.add_subplot(121, projection='3d')\n",
    "ax2 = fig.add_subplot(122, projection='3d')\n",
    "# Plot the surface\n",
    "ax1.plot_surface(p0[0][:,:,0,0], p0[1][:,:,0,0], D_(b0)[:,:,0,0], color='lightblue', linewidth=0, antialiased=True)\n",
    "ax1.view_init(10, 30)\n",
    "ax2.plot_surface(p0[0][:,:,0,0], p0[1][:,:,0,0], Q2b_(1,[1,1,1,1],b0)[:,:,0,0], cmap=coolwarm, linewidth=0, antialiased=True)\n",
    "ax2.view_init(10, 20)\n",
    "show()"
   ]
  },
  {
   "cell_type": "markdown",
   "metadata": {},
   "source": [
    "#### Distribution of Velocity ####\n",
    "The particles have an identical initial velocity in each world of"
   ]
  },
  {
   "cell_type": "code",
   "execution_count": 268,
   "metadata": {
    "collapsed": true
   },
   "outputs": [],
   "source": [
    "v0=full(b0.shape,0.0,config.floatX)\n",
    "v0=array(meshgrid(\n",
    "        array([-0.01 for i in range(N+2*B)],config.floatX),\n",
    "        array([-0.01 for i in range(N+2*B)],config.floatX),\n",
    "        array([0.01 for i in range(N+2*B)],config.floatX),\n",
    "        array([0.01 for i in range(N+2*B)],config.floatX)))"
   ]
  },
  {
   "cell_type": "markdown",
   "metadata": {},
   "source": [
    "#### Acceleration ####"
   ]
  },
  {
   "cell_type": "code",
   "execution_count": 269,
   "metadata": {},
   "outputs": [],
   "source": [
    "def boundary2(s): return stack([boundary0(s[i]) for i in dim])"
   ]
  },
  {
   "cell_type": "code",
   "execution_count": 270,
   "metadata": {},
   "outputs": [],
   "source": [
    "def debound2(s): return stack([debound(s[i]) for i in dim])"
   ]
  },
  {
   "cell_type": "code",
   "execution_count": 271,
   "metadata": {},
   "outputs": [],
   "source": [
    "def F(C): return stack([\n",
    "            Fx1(C[0],C[1],C[2],C[3]),\n",
    "            Fy1(C[0],C[1],C[2],C[3]),\n",
    "            Fx2(C[0],C[1],C[2],C[3]),\n",
    "            Fy2(C[0],C[1],C[2],C[3])])"
   ]
  },
  {
   "cell_type": "code",
   "execution_count": 272,
   "metadata": {},
   "outputs": [],
   "source": [
    "def A(hbar,mu,x):\n",
    "    return shape_padright(1/mu,4)*boundary2(F(debound2(x)) + Rb(hbar,mu,x))"
   ]
  },
  {
   "cell_type": "markdown",
   "metadata": {},
   "source": [
    "#### Step Size Controller ####\n",
    "Continuous integrating step size controller \\cite{hairer2005}"
   ]
  },
  {
   "cell_type": "code",
   "execution_count": 351,
   "metadata": {},
   "outputs": [],
   "source": [
    "def G(a,v,alpha):\n",
    "    eps = 1e-12\n",
    "    g1 = sum(a*v)\n",
    "    g2 = sum(v*v)\n",
    "    return switch(eq(g2,0),1/eps,-alpha*g1/g2)"
   ]
  },
  {
   "cell_type": "markdown",
   "metadata": {},
   "source": [
    "#### Integration ####\n",
    "Integrate using the Störmer–Verlet algorithm with adaptive step size."
   ]
  },
  {
   "cell_type": "code",
   "execution_count": 352,
   "metadata": {},
   "outputs": [],
   "source": [
    "mu = array([1.0,1.0,1.0,1.0])  # mass\n",
    "hbar = 1.0 # Planck's constant\n",
    "rho = shared(asarray(1.0, config.floatX),'rho') # step size control\n",
    "alpha = scalar('alpha') # sensitivity\n",
    "ds = scalar('ds')\n",
    "dt = ds/rho\n",
    "t = shared(asarray(0.0, config.floatX),'t')\n",
    "x = shared(b0,'x')"
   ]
  },
  {
   "cell_type": "code",
   "execution_count": 353,
   "metadata": {},
   "outputs": [],
   "source": [
    "a0 = A(hbar,mu,x).eval()"
   ]
  },
  {
   "cell_type": "code",
   "execution_count": 354,
   "metadata": {},
   "outputs": [],
   "source": [
    "a = shared(a0,'a')\n",
    "v = shared(v0,'v')\n",
    "x_new = x+v*dt+0.5*a*dt**2\n",
    "a_new = A(hbar,mu,x_new)\n",
    "v_new = v+0.5*a*dt+0.5*a_new*dt"
   ]
  },
  {
   "cell_type": "code",
   "execution_count": 355,
   "metadata": {},
   "outputs": [],
   "source": [
    "VerletStep = function([ds,alpha],t, updates=[\n",
    "    (rho, rho + G(a_new,v_new,alpha)*dt ),\n",
    "    (x, x_new ),\n",
    "    (v, v_new ),\n",
    "    (a, a_new ),\n",
    "    (t, t + dt)\n",
    "]) #,allow_input_downcast=True)"
   ]
  },
  {
   "cell_type": "markdown",
   "metadata": {},
   "source": [
    "#### Energy ####"
   ]
  },
  {
   "cell_type": "code",
   "execution_count": 373,
   "metadata": {
    "collapsed": true
   },
   "outputs": [],
   "source": [
    "KU1 = 0.5*sum(add([mu[j]*v[j]*v[j] for j in dim]))  # total kinetic energy\n",
    "PU1 = sum(debound(V(x[0],x[1],x[2],x[3])))        # total classical potential\n",
    "QU1 = sum(Q2b(hbar,mu,x))                         # total quantum potential\n",
    "E_ = function([],[KU1,PU1,QU1])"
   ]
  },
  {
   "cell_type": "code",
   "execution_count": 374,
   "metadata": {},
   "outputs": [
    {
     "data": {
      "text/plain": [
       "[array(398729628.21672845),\n",
       " array(319355444.9749896),\n",
       " array(6305.5091595315325)]"
      ]
     },
     "execution_count": 374,
     "metadata": {},
     "output_type": "execute_result"
    }
   ],
   "source": [
    "E_()"
   ]
  },
  {
   "cell_type": "code",
   "execution_count": 375,
   "metadata": {
    "collapsed": true
   },
   "outputs": [],
   "source": [
    "crossing=function([],crosses(x))"
   ]
  },
  {
   "cell_type": "code",
   "execution_count": 376,
   "metadata": {},
   "outputs": [
    {
     "data": {
      "text/plain": [
       "array(False, dtype=bool)"
      ]
     },
     "execution_count": 376,
     "metadata": {},
     "output_type": "execute_result"
    }
   ],
   "source": [
    "crossing()"
   ]
  },
  {
   "cell_type": "code",
   "execution_count": 394,
   "metadata": {
    "collapsed": true
   },
   "outputs": [],
   "source": [
    "t_start = 0.0; t_end = 10\n",
    "t_samples = 200; x_samples = N\n",
    "alpha = 0.0\n",
    "t_sample = t_end/t_samples\n",
    "x_sample = __builtin__.max(1,int(N)//int(x_samples))\n",
    "x_start = __builtin__.max(0,int(N-x_samples*x_sample)//int(2))\n",
    "XS = array(range(B+x_start,B+N-x_start,x_sample))\n",
    "#ds0 = 0.0008 # N=10 # initial step size\n",
    "#ds0 = 2e-5\n",
    "ds0 = 1e-5   # N=20 # initial step size\n",
    "dsn = 1 # initial step size divider"
   ]
  },
  {
   "cell_type": "code",
   "execution_count": 395,
   "metadata": {
    "scrolled": true
   },
   "outputs": [
    {
     "name": "stdout",
     "output_type": "stream",
     "text": [
      "t = 0.0 t1 = 0.05 rho = 1.0 E1 = 718091378.789\n",
      "t = 0.05 t1 = 0.1 rho = 1.0 E1 = 718091378.772\n",
      "t = 0.10001 t1 = 0.15001 rho = 1.0 E1 = 718091378.722\n",
      "t = 0.15001 t1 = 0.20001 rho = 1.0 E1 = 718091378.651\n",
      "t = 0.20001 t1 = 0.25001 rho = 1.0 E1 = 718091378.571\n",
      "t = 0.25001 t1 = 0.30001 rho = 1.0 E1 = 718091378.499\n",
      "t = 0.30001 t1 = 0.35001 rho = 1.0 E1 = 718091378.449\n",
      "t = 0.35001 t1 = 0.40001 rho = 1.0 E1 = 718091378.43\n",
      "t = 0.40001 t1 = 0.45001 rho = 1.0 E1 = 718091378.447\n",
      "t = 0.45001 t1 = 0.50001 rho = 1.0 E1 = 718091378.496\n",
      "t = 0.50001 t1 = 0.55001 rho = 1.0 E1 = 718091378.567\n",
      "t = 0.55002 t1 = 0.60002 rho = 1.0 E1 = 718091378.645\n",
      "t = 0.60003 t1 = 0.65003 rho = 1.0 E1 = 718091378.645\n",
      "Energy conservation bound failed at 0.65004. Delta E:|1.23934662342| > 0.1.\n",
      "Trying a shorter initial step size: 5e-06.\n",
      "t = 0.0 t1 = 0.05 rho = 1.0 E1 = 718091378.789\n",
      "t = 0.050005 t1 = 0.100005 rho = 1.0 E1 = 718091378.785\n",
      "t = 0.100005 t1 = 0.150005 rho = 1.0 E1 = 718091378.773\n",
      "t = 0.150005 t1 = 0.200005 rho = 1.0 E1 = 718091378.755\n",
      "t = 0.200005 t1 = 0.250005 rho = 1.0 E1 = 718091378.735\n",
      "t = 0.250005 t1 = 0.300005 rho = 1.0 E1 = 718091378.717\n",
      "t = 0.30001 t1 = 0.35001 rho = 1.0 E1 = 718091378.704\n",
      "t = 0.350015 t1 = 0.400015 rho = 1.0 E1 = 718091378.7\n",
      "t = 0.400019999999 t1 = 0.450019999999 rho = 1.0 E1 = 718091378.704\n",
      "t = 0.450024999999 t1 = 0.500024999999 rho = 1.0 E1 = 718091378.716\n",
      "t = 0.500029999999 t1 = 0.550029999999 rho = 1.0 E1 = 718091378.734\n",
      "t = 0.550029999999 t1 = 0.600029999999 rho = 1.0 E1 = 718091378.753\n",
      "t = 0.60003 t1 = 0.65003 rho = 1.0 E1 = 718091378.753\n",
      "Energy conservation bound failed at 0.65003. Delta E:|0.312037587166| > 0.1.\n",
      "Trying a shorter initial step size: 3.33333333333e-06.\n",
      "t = 0.0 t1 = 0.05 rho = 1.0 E1 = 718091378.789\n",
      "t = 0.05 t1 = 0.1 rho = 1.0 E1 = 718091378.788\n",
      "t = 0.100003333333 t1 = 0.150003333333 rho = 1.0 E1 = 718091378.782\n",
      "t = 0.150006666667 t1 = 0.200006666667 rho = 1.0 E1 = 718091378.774\n",
      "t = 0.20001 t1 = 0.25001 rho = 1.0 E1 = 718091378.765\n",
      "t = 0.250013333333 t1 = 0.300013333333 rho = 1.0 E1 = 718091378.757\n",
      "t = 0.300013333333 t1 = 0.350013333333 rho = 1.0 E1 = 718091378.752\n",
      "t = 0.350013333334 t1 = 0.400013333334 rho = 1.0 E1 = 718091378.75\n",
      "t = 0.400013333334 t1 = 0.450013333334 rho = 1.0 E1 = 718091378.751\n",
      "t = 0.450013333334 t1 = 0.500013333334 rho = 1.0 E1 = 718091378.757\n",
      "t = 0.500013333335 t1 = 0.550013333335 rho = 1.0 E1 = 718091378.765\n",
      "t = 0.550013333335 t1 = 0.600013333335 rho = 1.0 E1 = 718091378.773\n",
      "t = 0.600013333335 t1 = 0.650013333335 rho = 1.0 E1 = 718091378.773\n",
      "Energy conservation bound failed at 0.650013333336. Delta E:|0.139567375183| > 0.1.\n",
      "Trying a shorter initial step size: 2.5e-06.\n",
      "t = 0.0 t1 = 0.05 rho = 1.0 E1 = 718091378.789\n",
      "t = 0.05 t1 = 0.1 rho = 1.0 E1 = 718091378.788\n",
      "t = 0.1 t1 = 0.15 rho = 1.0 E1 = 718091378.785\n",
      "t = 0.1500025 t1 = 0.2000025 rho = 1.0 E1 = 718091378.781\n",
      "t = 0.200005 t1 = 0.250005 rho = 1.0 E1 = 718091378.776\n",
      "t = 0.2500075 t1 = 0.3000075 rho = 1.0 E1 = 718091378.771\n",
      "t = 0.3000075 t1 = 0.3500075 rho = 1.0 E1 = 718091378.768\n",
      "t = 0.3500075 t1 = 0.4000075 rho = 1.0 E1 = 718091378.767\n",
      "t = 0.400007500001 t1 = 0.450007500001 rho = 1.0 E1 = 718091378.768\n",
      "t = 0.450007500001 t1 = 0.500007500001 rho = 1.0 E1 = 718091378.771\n",
      "t = 0.500007500001 t1 = 0.550007500001 rho = 1.0 E1 = 718091378.776\n",
      "t = 0.550007500001 t1 = 0.600007500001 rho = 1.0 E1 = 718091378.78\n",
      "t = 0.600007500002 t1 = 0.650007500002 rho = 1.0 E1 = 718091378.78\n",
      "t = 0.650007500002 t1 = 0.700007500002 rho = 1.0 E1 = 718091378.859\n",
      "t = 0.700007500002 t1 = 0.750007500002 rho = 1.0 E1 = 718091378.782\n",
      "t = 0.750007500003 t1 = 0.800007500003 rho = 1.0 E1 = 718091378.788\n",
      "t = 0.800007500003 t1 = 0.850007500003 rho = 1.0 E1 = 718091378.785\n",
      "t = 0.850007500003 t1 = 0.900007500003 rho = 1.0 E1 = 718091378.78\n",
      "t = 0.900007500004 t1 = 0.950007500004 rho = 1.0 E1 = 718091378.776\n",
      "t = 0.950007500004 t1 = 1.0000075 rho = 1.0 E1 = 718091378.771\n",
      "t = 1.0000075 t1 = 1.0500075 rho = 1.0 E1 = 718091378.768\n",
      "t = 1.05001 t1 = 1.10001 rho = 1.0 E1 = 718091378.767\n",
      "t = 1.1000125 t1 = 1.1500125 rho = 1.0 E1 = 718091378.768\n",
      "t = 1.150015 t1 = 1.200015 rho = 1.0 E1 = 718091378.772\n",
      "t = 1.2000175 t1 = 1.2500175 rho = 1.0 E1 = 718091378.776\n",
      "t = 1.25001999999 t1 = 1.30001999999 rho = 1.0 E1 = 718091378.781\n",
      "t = 1.30002249999 t1 = 1.35002249999 rho = 1.0 E1 = 718091378.785\n",
      "t = 1.35002499999 t1 = 1.40002499999 rho = 1.0 E1 = 718091378.788\n",
      "t = 1.40002749999 t1 = 1.45002749999 rho = 1.0 E1 = 718091378.789\n",
      "t = 1.45002999999 t1 = 1.50002999999 rho = 1.0 E1 = 718091378.788\n",
      "t = 1.50003249999 t1 = 1.55003249999 rho = 1.0 E1 = 718091378.785\n",
      "t = 1.55003499998 t1 = 1.60003499998 rho = 1.0 E1 = 718091378.781\n",
      "t = 1.60003749998 t1 = 1.65003749998 rho = 1.0 E1 = 718091378.776\n",
      "t = 1.65003999998 t1 = 1.70003999998 rho = 1.0 E1 = 718091378.771\n",
      "t = 1.70004249998 t1 = 1.75004249998 rho = 1.0 E1 = 718091378.768\n",
      "t = 1.75004499998 t1 = 1.80004499998 rho = 1.0 E1 = 718091378.767\n",
      "t = 1.80004749997 t1 = 1.85004749997 rho = 1.0 E1 = 718091378.768\n",
      "t = 1.85004999997 t1 = 1.90004999997 rho = 1.0 E1 = 718091378.771\n",
      "t = 1.90005249997 t1 = 1.95005249997 rho = 1.0 E1 = 718091378.776\n",
      "t = 1.95005499997 t1 = 2.00005499997 rho = 1.0 E1 = 718091378.781\n",
      "t = 2.00005749997 t1 = 2.05005749997 rho = 1.0 E1 = 718091378.785\n",
      "t = 2.05005999996 t1 = 2.10005999996 rho = 1.0 E1 = 718091378.788\n",
      "t = 2.10006249996 t1 = 2.15006249996 rho = 1.0 E1 = 718091378.789\n",
      "t = 2.15006499996 t1 = 2.20006499996 rho = 1.0 E1 = 718091378.788\n",
      "t = 2.20006749996 t1 = 2.25006749996 rho = 1.0 E1 = 718091378.785\n",
      "t = 2.25006999996 t1 = 2.30006999996 rho = 1.0 E1 = 718091378.781\n",
      "t = 2.30007249996 t1 = 2.35007249996 rho = 1.0 E1 = 718091378.776\n",
      "t = 2.35007499995 t1 = 2.40007499995 rho = 1.0 E1 = 718091378.772\n",
      "t = 2.40007749995 t1 = 2.45007749995 rho = 1.0 E1 = 718091378.768\n",
      "t = 2.45007999995 t1 = 2.50007999995 rho = 1.0 E1 = 718091378.767\n",
      "t = 2.50008249995 t1 = 2.55008249995 rho = 1.0 E1 = 718091378.768\n",
      "t = 2.55008499995 t1 = 2.60008499995 rho = 1.0 E1 = 718091378.771\n",
      "t = 2.60008749994 t1 = 2.65008749994 rho = 1.0 E1 = 718091378.775\n",
      "t = 2.65008999994 t1 = 2.70008999994 rho = 1.0 E1 = 718091378.78\n",
      "t = 2.70009249994 t1 = 2.75009249994 rho = 1.0 E1 = 718091378.785\n",
      "t = 2.75009499994 t1 = 2.80009499994 rho = 1.0 E1 = 718091378.788\n",
      "t = 2.80009749994 t1 = 2.85009749994 rho = 1.0 E1 = 718091378.789\n",
      "t = 2.85009999993 t1 = 2.90009999993 rho = 1.0 E1 = 718091378.788\n",
      "t = 2.90010249993 t1 = 2.95010249993 rho = 1.0 E1 = 718091378.786\n",
      "t = 2.95010499993 t1 = 3.00010499993 rho = 1.0 E1 = 718091378.781\n",
      "t = 3.00010749993 t1 = 3.05010749993 rho = 1.0 E1 = 718091378.776\n",
      "t = 3.05010999993 t1 = 3.10010999993 rho = 1.0 E1 = 718091378.772\n",
      "t = 3.10011249992 t1 = 3.15011249992 rho = 1.0 E1 = 718091378.769\n",
      "t = 3.15011499992 t1 = 3.20011499992 rho = 1.0 E1 = 718091378.767\n",
      "t = 3.20011749992 t1 = 3.25011749992 rho = 1.0 E1 = 718091378.768\n",
      "t = 3.25011999992 t1 = 3.30011999992 rho = 1.0 E1 = 718091378.771\n",
      "t = 3.30012249992 t1 = 3.35012249992 rho = 1.0 E1 = 718091378.775\n",
      "t = 3.35012499992 t1 = 3.40012499992 rho = 1.0 E1 = 718091378.78\n",
      "t = 3.40012749991 t1 = 3.45012749991 rho = 1.0 E1 = 718091378.785\n",
      "t = 3.45012999991 t1 = 3.50012999991 rho = 1.0 E1 = 718091378.788\n",
      "t = 3.50013249991 t1 = 3.55013249991 rho = 1.0 E1 = 718091378.789\n",
      "t = 3.55013499991 t1 = 3.60013499991 rho = 1.0 E1 = 718091378.788\n",
      "t = 3.60013749991 t1 = 3.65013749991 rho = 1.0 E1 = 718091378.786\n",
      "t = 3.6501399999 t1 = 3.7001399999 rho = 1.0 E1 = 718091378.781\n",
      "t = 3.7001424999 t1 = 3.7501424999 rho = 1.0 E1 = 718091378.777\n",
      "t = 3.7501449999 t1 = 3.8001449999 rho = 1.0 E1 = 718091378.772\n",
      "t = 3.8001474999 t1 = 3.8501474999 rho = 1.0 E1 = 718091378.769\n",
      "t = 3.8501499999 t1 = 3.9001499999 rho = 1.0 E1 = 718091378.767\n",
      "t = 3.90015249989 t1 = 3.95015249989 rho = 1.0 E1 = 718091378.768\n",
      "t = 3.95015499989 t1 = 4.00015499989 rho = 1.0 E1 = 718091378.771\n",
      "t = 4.00015749989 t1 = 4.05015749989 rho = 1.0 E1 = 718091378.775\n",
      "t = 4.05015999989 t1 = 4.10015999989 rho = 1.0 E1 = 718091378.78\n",
      "t = 4.10016249989 t1 = 4.15016249989 rho = 1.0 E1 = 718091378.784\n",
      "t = 4.15016499989 t1 = 4.20016499989 rho = 1.0 E1 = 718091378.788\n",
      "t = 4.20016749988 t1 = 4.25016749988 rho = 1.0 E1 = 718091378.789\n",
      "t = 4.25016999988 t1 = 4.30016999988 rho = 1.0 E1 = 718091378.789\n",
      "t = 4.30017249988 t1 = 4.35017249988 rho = 1.0 E1 = 718091378.786\n"
     ]
    },
    {
     "name": "stdout",
     "output_type": "stream",
     "text": [
      "t = 4.35017499988 t1 = 4.40017499988 rho = 1.0 E1 = 718091378.782\n",
      "t = 4.40017749988 t1 = 4.45017749988 rho = 1.0 E1 = 718091378.777\n",
      "t = 4.45017999987 t1 = 4.50017999987 rho = 1.0 E1 = 718091378.772\n",
      "t = 4.50018249987 t1 = 4.55018249987 rho = 1.0 E1 = 718091378.769\n",
      "t = 4.55018499987 t1 = 4.60018499987 rho = 1.0 E1 = 718091378.767\n",
      "t = 4.60018749987 t1 = 4.65018749987 rho = 1.0 E1 = 718091378.768\n",
      "t = 4.65018999987 t1 = 4.70018999987 rho = 1.0 E1 = 718091378.771\n",
      "t = 4.70019249986 t1 = 4.75019249986 rho = 1.0 E1 = 718091378.775\n",
      "t = 4.75019499986 t1 = 4.80019499986 rho = 1.0 E1 = 718091378.78\n",
      "t = 4.80019749986 t1 = 4.85019749986 rho = 1.0 E1 = 718091378.784\n",
      "t = 4.85019999986 t1 = 4.90019999986 rho = 1.0 E1 = 718091378.788\n",
      "t = 4.90020249986 t1 = 4.95020249986 rho = 1.0 E1 = 718091378.789\n",
      "t = 4.95020499985 t1 = 5.00020499985 rho = 1.0 E1 = 718091378.789\n",
      "t = 5.00020749985 t1 = 5.05020749985 rho = 1.0 E1 = 718091378.786\n",
      "t = 5.05020999985 t1 = 5.10020999985 rho = 1.0 E1 = 718091378.782\n",
      "t = 5.10021249985 t1 = 5.15021249985 rho = 1.0 E1 = 718091378.777\n",
      "t = 5.15021499985 t1 = 5.20021499985 rho = 1.0 E1 = 718091378.772\n",
      "t = 5.20021749985 t1 = 5.25021749985 rho = 1.0 E1 = 718091378.769\n",
      "t = 5.25021999984 t1 = 5.30021999984 rho = 1.0 E1 = 718091378.767\n",
      "t = 5.30022249984 t1 = 5.35022249984 rho = 1.0 E1 = 718091378.768\n",
      "t = 5.35022499984 t1 = 5.40022499984 rho = 1.0 E1 = 718091378.77\n",
      "t = 5.40022749984 t1 = 5.45022749984 rho = 1.0 E1 = 718091378.775\n",
      "t = 5.45022999984 t1 = 5.50022999984 rho = 1.0 E1 = 718091378.779\n",
      "t = 5.50023249983 t1 = 5.55023249983 rho = 1.0 E1 = 718091378.784\n",
      "t = 5.55023499983 t1 = 5.60023499983 rho = 1.0 E1 = 718091378.788\n",
      "t = 5.60023749983 t1 = 5.65023749983 rho = 1.0 E1 = 718091378.789\n",
      "t = 5.65023999983 t1 = 5.70023999983 rho = 1.0 E1 = 718091378.789\n",
      "t = 5.70024249983 t1 = 5.75024249983 rho = 1.0 E1 = 718091378.786\n",
      "t = 5.75024499982 t1 = 5.80024499982 rho = 1.0 E1 = 718091378.782\n",
      "t = 5.80024749982 t1 = 5.85024749982 rho = 1.0 E1 = 718091378.777\n",
      "t = 5.85024999982 t1 = 5.90024999982 rho = 1.0 E1 = 718091378.773\n",
      "t = 5.90025249982 t1 = 5.95025249982 rho = 1.0 E1 = 718091378.769\n",
      "t = 5.95025499982 t1 = 6.00025499982 rho = 1.0 E1 = 718091378.767\n",
      "t = 6.00025749982 t1 = 6.05025749982 rho = 1.0 E1 = 718091378.768\n",
      "t = 6.05025999981 t1 = 6.10025999981 rho = 1.0 E1 = 718091378.77\n",
      "t = 6.10026249981 t1 = 6.15026249981 rho = 1.0 E1 = 718091378.774\n",
      "t = 6.15026499981 t1 = 6.20026499981 rho = 1.0 E1 = 718091378.779\n",
      "t = 6.20026749981 t1 = 6.25026749981 rho = 1.0 E1 = 718091378.784\n",
      "t = 6.25026999981 t1 = 6.30026999981 rho = 1.0 E1 = 718091378.787\n",
      "t = 6.3002724998 t1 = 6.3502724998 rho = 1.0 E1 = 718091378.789\n",
      "t = 6.3502749998 t1 = 6.4002749998 rho = 1.0 E1 = 718091378.789\n",
      "t = 6.4002774998 t1 = 6.4502774998 rho = 1.0 E1 = 718091378.786\n",
      "t = 6.4502799998 t1 = 6.5002799998 rho = 1.0 E1 = 718091378.782\n",
      "t = 6.5002824998 t1 = 6.5502824998 rho = 1.0 E1 = 718091378.778\n",
      "t = 6.55028499979 t1 = 6.60028499979 rho = 1.0 E1 = 718091378.773\n",
      "t = 6.60028749979 t1 = 6.65028749979 rho = 1.0 E1 = 718091378.769\n",
      "t = 6.65028999979 t1 = 6.70028999979 rho = 1.0 E1 = 718091378.767\n",
      "t = 6.70029249979 t1 = 6.75029249979 rho = 1.0 E1 = 718091378.768\n",
      "t = 6.75029499979 t1 = 6.80029499979 rho = 1.0 E1 = 718091378.77\n",
      "t = 6.80029749978 t1 = 6.85029749978 rho = 1.0 E1 = 718091378.774\n",
      "t = 6.85029999978 t1 = 6.90029999978 rho = 1.0 E1 = 718091378.779\n",
      "t = 6.90030249978 t1 = 6.95030249978 rho = 1.0 E1 = 718091378.784\n",
      "t = 6.95030499978 t1 = 7.00030499978 rho = 1.0 E1 = 718091378.787\n",
      "t = 7.00030749978 t1 = 7.05030749978 rho = 1.0 E1 = 718091378.789\n",
      "t = 7.05030999978 t1 = 7.10030999978 rho = 1.0 E1 = 718091378.789\n",
      "t = 7.10031249977 t1 = 7.15031249977 rho = 1.0 E1 = 718091378.787\n",
      "t = 7.15031499977 t1 = 7.20031499977 rho = 1.0 E1 = 718091378.783\n",
      "t = 7.20031749977 t1 = 7.25031749977 rho = 1.0 E1 = 718091378.778\n",
      "t = 7.25031999977 t1 = 7.30031999977 rho = 1.0 E1 = 718091378.773\n",
      "t = 7.30032249977 t1 = 7.35032249977 rho = 1.0 E1 = 718091378.769\n",
      "t = 7.35032499976 t1 = 7.40032499976 rho = 1.0 E1 = 718091378.767\n",
      "t = 7.40032749976 t1 = 7.45032749976 rho = 1.0 E1 = 718091378.768\n",
      "t = 7.45032999976 t1 = 7.50032999976 rho = 1.0 E1 = 718091378.77\n",
      "t = 7.50033249976 t1 = 7.55033249976 rho = 1.0 E1 = 718091378.774\n",
      "t = 7.55033499976 t1 = 7.60033499976 rho = 1.0 E1 = 718091378.779\n",
      "t = 7.60033749975 t1 = 7.65033749975 rho = 1.0 E1 = 718091378.783\n",
      "t = 7.65033999975 t1 = 7.70033999975 rho = 1.0 E1 = 718091378.787\n",
      "t = 7.70034249975 t1 = 7.75034249975 rho = 1.0 E1 = 718091378.789\n",
      "t = 7.75034499975 t1 = 7.80034499975 rho = 1.0 E1 = 718091378.789\n",
      "t = 7.80034749975 t1 = 7.85034749975 rho = 1.0 E1 = 718091378.787\n",
      "t = 7.85034999975 t1 = 7.90034999975 rho = 1.0 E1 = 718091378.783\n",
      "t = 7.90035249974 t1 = 7.95035249974 rho = 1.0 E1 = 718091378.778\n",
      "t = 7.95035499974 t1 = 8.00035499974 rho = 1.0 E1 = 718091378.773\n",
      "t = 8.00035749974 t1 = 8.05035749974 rho = 1.0 E1 = 718091378.77\n",
      "t = 8.05035749976 t1 = 8.10035749976 rho = 1.0 E1 = 718091378.768\n",
      "t = 8.10035749977 t1 = 8.15035749977 rho = 1.0 E1 = 718091378.768\n",
      "t = 8.15035749979 t1 = 8.20035749979 rho = 1.0 E1 = 718091378.77\n",
      "t = 8.2003574998 t1 = 8.2503574998 rho = 1.0 E1 = 718091378.774\n",
      "t = 8.25035749982 t1 = 8.30035749982 rho = 1.0 E1 = 718091378.778\n",
      "t = 8.30035749983 t1 = 8.35035749983 rho = 1.0 E1 = 718091378.783\n",
      "t = 8.35035749985 t1 = 8.40035749985 rho = 1.0 E1 = 718091378.787\n",
      "t = 8.40035749987 t1 = 8.45035749987 rho = 1.0 E1 = 718091378.789\n",
      "t = 8.45035749988 t1 = 8.50035749988 rho = 1.0 E1 = 718091378.789\n",
      "t = 8.5003574999 t1 = 8.5503574999 rho = 1.0 E1 = 718091378.787\n",
      "t = 8.55035749991 t1 = 8.60035749991 rho = 1.0 E1 = 718091378.783\n",
      "t = 8.60035749993 t1 = 8.65035749993 rho = 1.0 E1 = 718091378.778\n",
      "t = 8.65035749995 t1 = 8.70035749995 rho = 1.0 E1 = 718091378.774\n",
      "t = 8.70035749996 t1 = 8.75035749996 rho = 1.0 E1 = 718091378.77\n",
      "t = 8.75035749998 t1 = 8.80035749998 rho = 1.0 E1 = 718091378.768\n",
      "t = 8.80035749999 t1 = 8.85035749999 rho = 1.0 E1 = 718091378.768\n",
      "t = 8.85035750001 t1 = 8.90035750001 rho = 1.0 E1 = 718091378.77\n",
      "t = 8.90035750003 t1 = 8.95035750003 rho = 1.0 E1 = 718091378.773\n",
      "t = 8.95035750004 t1 = 9.00035750004 rho = 1.0 E1 = 718091378.778\n",
      "t = 9.00035750006 t1 = 9.05035750006 rho = 1.0 E1 = 718091378.783\n",
      "t = 9.05035750007 t1 = 9.10035750007 rho = 1.0 E1 = 718091378.787\n",
      "t = 9.10035750009 t1 = 9.15035750009 rho = 1.0 E1 = 718091378.789\n",
      "t = 9.1503575001 t1 = 9.2003575001 rho = 1.0 E1 = 718091378.789\n",
      "t = 9.20035750012 t1 = 9.25035750012 rho = 1.0 E1 = 718091378.787\n",
      "t = 9.25035750014 t1 = 9.30035750014 rho = 1.0 E1 = 718091378.783\n",
      "t = 9.30035750015 t1 = 9.35035750015 rho = 1.0 E1 = 718091378.779\n",
      "t = 9.35035750017 t1 = 9.40035750017 rho = 1.0 E1 = 718091378.774\n",
      "t = 9.40035750018 t1 = 9.45035750018 rho = 1.0 E1 = 718091378.77\n",
      "t = 9.4503575002 t1 = 9.5003575002 rho = 1.0 E1 = 718091378.768\n",
      "t = 9.50035750022 t1 = 9.55035750022 rho = 1.0 E1 = 718091378.768\n",
      "t = 9.55035750023 t1 = 9.60035750023 rho = 1.0 E1 = 718091378.77\n",
      "t = 9.60035750025 t1 = 9.65035750025 rho = 1.0 E1 = 718091378.773\n",
      "t = 9.65035750026 t1 = 9.70035750026 rho = 1.0 E1 = 718091378.778\n",
      "t = 9.70035750028 t1 = 9.75035750028 rho = 1.0 E1 = 718091378.783\n",
      "t = 9.7503575003 t1 = 9.8003575003 rho = 1.0 E1 = 718091378.787\n",
      "t = 9.80035750031 t1 = 9.85035750031 rho = 1.0 E1 = 718091378.789\n",
      "t = 9.85035750033 t1 = 9.90035750033 rho = 1.0 E1 = 718091378.789\n",
      "t = 9.90035750034 t1 = 9.95035750034 rho = 1.0 E1 = 718091378.787\n",
      "t = 9.95035750036 t1 = 10.0003575004 rho = 1.0 E1 = 718091378.783\n",
      "t = 9.95035750036\n"
     ]
    }
   ],
   "source": [
    "while True:\n",
    "    try: # step size\n",
    "        ds = ds0/dsn\n",
    "        # initial values\n",
    "        rho.set_value(1.0)\n",
    "        t.set_value(0.0)\n",
    "        x.set_value(b0)\n",
    "        v.set_value(v0)\n",
    "        a.set_value(a0)\n",
    "        # data recording\n",
    "        T = [] # sample times\n",
    "        Rho = [] # steo size\n",
    "        XX = [] # position\n",
    "        XV = [] # velocity\n",
    "        TK = [] # kinetic energy\n",
    "        TP = [] # classical potential\n",
    "        TQ = [] # quantum potential\n",
    "        E = []  # total energy\n",
    "        try:\n",
    "            t0 = t.get_value().item()\n",
    "            while t0<t_end:\n",
    "                t1 = t0 + t_sample\n",
    "                [TK1, TP1, TQ1] = E_(); E1 = TK1+TP1+TQ1\n",
    "                # Check total energy conservation\n",
    "                if len(E)>1 and abs(E1-E0)>0.1: raise ValueError(\n",
    "                     \"Energy conservation bound failed at %s. Delta E:\"\\\n",
    "                    \"|%s| > 0.1.\"%(t0,E1-E0))\n",
    "                E0 = E1\n",
    "                if t0>=t_start:\n",
    "                    T.append(t0) # record samples\n",
    "                    TK.append(TK1); TP.append(TP1); TQ.append(TQ1); E.append(E1)\n",
    "                    XX.append(x.get_value()[:,XS][:,:,XS][:,:,:,XS][:,:,:,:,XS])\n",
    "                    XV.append(v.get_value()[:,XS][:,:,XS][:,:,:,XS][:,:,:,:,XS])\n",
    "                    Rho.append(rho.get_value().item())\n",
    "                    print(\"t = %s t1 = %s rho = %s E1 = %s\"%(t0,t1,Rho[-1],E0))\n",
    "                while t0<t1: # loop\n",
    "                    t0 = VerletStep(ds,alpha).item()\n",
    "                    rho0 = rho.get_value().item()\n",
    "                    if rho0 > 100 or rho0 < 0.01:\n",
    "                        raise ValueError(\"Step control failed at %s. rho=%s\"%(t0,rho0))\n",
    "                # Check no-crossing\n",
    "                if crossing(): raise ValueError(\"crossing at %s\",t0)\n",
    "        except KeyboardInterrupt:\n",
    "            print(\"Interrupted at %s ...\"%(t0))\n",
    "        break # success!\n",
    "    except ValueError as msg:\n",
    "        print(msg)\n",
    "        #break\n",
    "        dsn = dsn + 1\n",
    "        print(\"Trying a shorter initial step size: %s.\"%(ds0/dsn))\n",
    "        continue\n",
    "tmax = T[-1]\n",
    "print(\"t = %s\"%tmax)"
   ]
  },
  {
   "cell_type": "markdown",
   "metadata": {},
   "source": [
    "Step Density"
   ]
  },
  {
   "cell_type": "code",
   "execution_count": 396,
   "metadata": {},
   "outputs": [
    {
     "data": {
      "text/plain": [
       "<matplotlib.figure.Figure at 0x7f0c7838a650>"
      ]
     },
     "metadata": {},
     "output_type": "display_data"
    }
   ],
   "source": [
    "figure(figsize=(10,5))\n",
    "plot(T, Rho)\n",
    "title('Step Density')\n",
    "xlabel('time'); ylabel('rho')\n",
    "show()"
   ]
  },
  {
   "cell_type": "markdown",
   "metadata": {},
   "source": [
    "#### Quantum Potential, Classical Potential and Kinetic Energy ####"
   ]
  },
  {
   "cell_type": "code",
   "execution_count": 397,
   "metadata": {},
   "outputs": [
    {
     "data": {
      "text/plain": [
       "<matplotlib.figure.Figure at 0x7f0c883a2790>"
      ]
     },
     "metadata": {},
     "output_type": "display_data"
    }
   ],
   "source": [
    "figure(figsize=(10,5))\n",
    "plot(T, TK, color='green',label='kinetic')\n",
    "plot(T, TQ, color='red',label='quantum potential')\n",
    "plot(T, TP, color='blue',label='classical potential')\n",
    "legend()\n",
    "title('Total Energy')\n",
    "xlabel('time'); ylabel('energy')\n",
    "show(); close()"
   ]
  },
  {
   "cell_type": "code",
   "execution_count": 398,
   "metadata": {
    "collapsed": true
   },
   "outputs": [],
   "source": [
    "from matplotlib.pyplot import semilogy"
   ]
  },
  {
   "cell_type": "code",
   "execution_count": 399,
   "metadata": {},
   "outputs": [
    {
     "data": {
      "image/png": "smc-blob::84438132-0f93-4ee2-992a-73afd86d70e0",
      "text/plain": [
       "<matplotlib.figure.Figure at 0x7f0c83cb0150>"
      ]
     },
     "metadata": {},
     "output_type": "display_data"
    }
   ],
   "source": [
    "figure(figsize=(10,5))\n",
    "semilogy(T, TQ,color='red',label='quantum potential')\n",
    "legend()\n",
    "title('Total Energy')\n",
    "xlabel('time'); ylabel('energy')\n",
    "show(); close()"
   ]
  },
  {
   "cell_type": "markdown",
   "metadata": {},
   "source": [
    "#### Energy Conservation ####"
   ]
  },
  {
   "cell_type": "code",
   "execution_count": 400,
   "metadata": {},
   "outputs": [
    {
     "data": {
      "image/png": "smc-blob::0533cead-43ee-4455-9598-e938e9a7033b",
      "text/plain": [
       "<matplotlib.figure.Figure at 0x7f0c7bed2050>"
      ]
     },
     "metadata": {},
     "output_type": "display_data"
    }
   ],
   "source": [
    "figure(figsize=(10,5))\n",
    "plot(T, E, color='red')\n",
    "title('Energy Conservation')\n",
    "xlabel('time'); ylabel('energy')\n",
    "show()\n",
    "close()"
   ]
  },
  {
   "cell_type": "markdown",
   "metadata": {},
   "source": [
    "#### Trajectories ####\n",
    "The trajectory of the particle in each world is shown below.  Notice how the trajectories do not cross, yet in some worlds the particle is scattered from the barrier while in others the particle tunnels across the barrier \"pushed\" by its counterpart in other worlds."
   ]
  },
  {
   "cell_type": "code",
   "execution_count": 401,
   "metadata": {
    "collapsed": true
   },
   "outputs": [],
   "source": [
    "XT=array(XX)"
   ]
  },
  {
   "cell_type": "code",
   "execution_count": 402,
   "metadata": {},
   "outputs": [
    {
     "data": {
      "image/png": "smc-blob::c98428e7-f74f-4904-bc6f-cd26fb1781a0",
      "text/plain": [
       "<matplotlib.figure.Figure at 0x7f0c7acd5090>"
      ]
     },
     "metadata": {},
     "output_type": "display_data"
    }
   ],
   "source": [
    "fig = figure(figsize=(20,10))\n",
    "ax = fig.gca(projection='3d')\n",
    "for i in range(0,N,2):\n",
    "    ax.plot(XT[:,0,i,i,i,i], XT[:,1,i,i,i,i], T, color='red',label='particle 1 in world (%s,%s,%s,%s)'%(i,i,i,i))\n",
    "    ax.plot(XT[:,2,i,i,i,i], XT[:,3,i,i,i,i], T, color='blue',label='particle 2 in world (%s,%s,%s,%s)'%(i,i,i,i))\n",
    "ax.set_xlabel('x'); ax.set_ylabel('y')\n",
    "ax.set_zlabel('time')\n",
    "legend()\n",
    "show(); close()"
   ]
  },
  {
   "cell_type": "code",
   "execution_count": 413,
   "metadata": {},
   "outputs": [
    {
     "data": {
      "text/plain": [
       "<matplotlib.figure.Figure at 0x7f0ca1abdc50>"
      ]
     },
     "metadata": {},
     "output_type": "display_data"
    }
   ],
   "source": [
    "fig = figure(figsize=(20,10))\n",
    "ax = fig.gca(projection='3d')\n",
    "for i in range(0,N):\n",
    "    ax.plot(XT[:50,0,i,i,i,i], XT[:50,1,i,i,i,i], T[:50], color='red',label='particle 1 in world (%s,%s,%s,%s)'%(i,i,i,i))\n",
    "    ax.plot(XT[:50,2,i,i,i,i], XT[:50,3,i,i,i,i], T[:50], color='blue',label='particle 2 in world (%s,%s,%s,%s)'%(i,i,i,i))\n",
    "ax.set_xlabel('x'); ax.set_ylabel('y')\n",
    "ax.set_zlabel('time')\n",
    "#legend()\n",
    "show(); close()"
   ]
  },
  {
   "cell_type": "code",
   "execution_count": 403,
   "metadata": {
    "scrolled": true
   },
   "outputs": [
    {
     "data": {
      "image/png": "smc-blob::9de3b948-ea70-4bc2-a6f9-9a72973e81e7",
      "text/plain": [
       "<matplotlib.figure.Figure at 0x7f0cad61ba50>"
      ]
     },
     "metadata": {},
     "output_type": "display_data"
    }
   ],
   "source": [
    "figure(figsize=(20,10))\n",
    "plot(T, mean(XT[:,0],(1,2,3,4)), color='red',label='particle 0: x',linewidth=2)\n",
    "plot(T, mean(XT[:,1],(1,2,3,4)), color='pink',label='particle 0: y',linewidth=2)\n",
    "plot(T, mean(XT[:,2],(1,2,3,4)), color='blue',label='particle 1: x',linewidth=2)\n",
    "plot(T, mean(XT[:,3],(1,2,3,4)), color='lightblue',label='particle 1: y',linewidth=2)\n",
    "legend()\n",
    "title('World-Particle Trajectories')\n",
    "xlabel('time'); ylabel('location')\n",
    "show()"
   ]
  },
  {
   "cell_type": "code",
   "execution_count": 404,
   "metadata": {},
   "outputs": [
    {
     "data": {
      "image/png": "[encoded data removed]",
      "text/latex": [
       "$$10$$"
      ],
      "text/plain": [
       "10"
      ]
     },
     "execution_count": 404,
     "metadata": {},
     "output_type": "execute_result"
    }
   ],
   "source": [
    "N//2"
   ]
  },
  {
   "cell_type": "code",
   "execution_count": 405,
   "metadata": {},
   "outputs": [
    {
     "data": {
      "image/png": "smc-blob::6902b3e7-facf-473a-bcab-a16d1b55b41e",
      "text/plain": [
       "<matplotlib.figure.Figure at 0x7f0c7b253190>"
      ]
     },
     "metadata": {},
     "output_type": "display_data"
    }
   ],
   "source": [
    "figure(figsize=(20,10))\n",
    "for i1 in range(N//2-1,N//2+1): #range(len(XS)):\n",
    "    for j1 in range(N//2-1,N//2+1): #range(len(XS)):\n",
    "        for i2 in range(N//2-1,N//2+1): #range(len(XS)):\n",
    "            for j2 in range(N//2-1,N//2+1): #range(len(XS)):\n",
    "                plot(T, XT[:,0,i1,j1,i2,j2],color='red',alpha=0.5,linewidth=0.5,label='particle 0 in world (%s,%s,%s,%s)'%(i1,j1,i2,j2))\n",
    "                plot(T, XT[:,1,i1,j1,i2,j2],color='pink',alpha=0.5,linewidth=0.5,label='particle 0 in world (%s,%s,%s,%s)'%(i1,j1,i2,j2))\n",
    "                plot(T, XT[:,2,i1,j1,i2,j2],color='blue',alpha=0.5,linewidth=0.5,label='particle 1 in world (%s,%s,%s,%s)'%(i1,j1,i2,j2))\n",
    "                plot(T, XT[:,3,i1,j1,i2,j2],color='lightblue',alpha=0.5,linewidth=0.5,label='particle 1 in world (%s,%s,%s,%s)'%(i1,j1,i2,j2))\n",
    "#legend()\n",
    "title('World-Particle Trajectories')\n",
    "xlabel('time'); ylabel('location')\n",
    "show()"
   ]
  },
  {
   "cell_type": "markdown",
   "metadata": {},
   "source": [
    "#### Final Distribution ####\n",
    "The distribution at the end of the simulation shows the reflected and transmitted \"wave packets\" separating from each other."
   ]
  },
  {
   "cell_type": "markdown",
   "metadata": {},
   "source": [
    "In greater detail ..."
   ]
  },
  {
   "cell_type": "code",
   "execution_count": 410,
   "metadata": {},
   "outputs": [
    {
     "data": {
      "image/png": "smc-blob::0334bfe9-5c06-4290-8850-0abe8d1322a2",
      "text/plain": [
       "<matplotlib.figure.Figure at 0x7f0ca6910b10>"
      ]
     },
     "metadata": {},
     "output_type": "display_data"
    }
   ],
   "source": [
    "figure(figsize=(20,10))\n",
    "scatter(p0[0],p0[1],s=0.1,color='red')\n",
    "scatter(p0[2],p0[3],s=0.1,color='blue')\n",
    "show()"
   ]
  },
  {
   "cell_type": "code",
   "execution_count": 411,
   "metadata": {},
   "outputs": [
    {
     "data": {
      "image/png": "smc-blob::b09ae457-11ae-413d-92c5-66397f8d5f6f",
      "text/plain": [
       "<matplotlib.figure.Figure at 0x7f0c8aaf7dd0>"
      ]
     },
     "metadata": {},
     "output_type": "display_data"
    }
   ],
   "source": [
    "figure(figsize=(20,10))\n",
    "scatter(debound(x[0]).eval(),debound(x[1]).eval(),s=0.05,color='red')\n",
    "scatter(debound(x[2]).eval(),debound(x[3]).eval(),s=0.05,color='blue')\n",
    "show()"
   ]
  },
  {
   "cell_type": "markdown",
   "metadata": {},
   "source": [
    "Tomographic projections"
   ]
  },
  {
   "cell_type": "code",
   "execution_count": 408,
   "metadata": {},
   "outputs": [
    {
     "data": {
      "image/png": "smc-blob::66eb51f0-0415-426c-9d9a-35b83bb7daaa",
      "text/plain": [
       "<matplotlib.figure.Figure at 0x7f0ca691cad0>"
      ]
     },
     "metadata": {},
     "output_type": "display_data"
    }
   ],
   "source": [
    "fig = figure(figsize=(12,6),dpi=100)\n",
    "ax1=fig.add_subplot(121)\n",
    "#ax1.set_aspect('equal')\n",
    "ax1.contourf(mean(debound(x[0]).eval(),(2,3)),mean(debound(x[1]).eval(),(2,3)),mean(D_(x.eval()),(2,3)),30)\n",
    "ax2=fig.add_subplot(122)\n",
    "#ax2.set_aspect('equal')\n",
    "ax2.contourf(mean(debound(x[0]).eval(),(0,1)),mean(debound(x[1]).eval(),(0,1)),mean(D_(x.eval()),(0,1)),30)\n",
    "xlabel('x'); ylabel('y')\n",
    "show()"
   ]
  },
  {
   "cell_type": "code",
   "execution_count": 409,
   "metadata": {},
   "outputs": [
    {
     "data": {
      "image/png": "smc-blob::5d3f12f1-6574-452d-85bc-1d6159b30840",
      "text/plain": [
       "<matplotlib.figure.Figure at 0x7f0c83543a90>"
      ]
     },
     "metadata": {},
     "output_type": "display_data"
    }
   ],
   "source": [
    "fig = figure(figsize=(12,6),dpi=100)\n",
    "ax1=fig.add_subplot(121, projection='3d')\n",
    "#ax1.set_aspect('equal')\n",
    "ax1.plot_surface(mean(debound(x[0]).eval(),(2,3)),mean(debound(x[1]).eval(),(2,3)),mean(D_(x.eval()),(2,3)),\n",
    "                 color='lightblue', linewidth=0, antialiased=True)\n",
    "ax2=fig.add_subplot(122, projection='3d')\n",
    "#ax2.set_aspect('equal')\n",
    "ax2.plot_surface(mean(debound(x[0]).eval(),(0,1)),mean(debound(x[1]).eval(),(0,1)),mean(D_(x.eval()),(0,1)),\n",
    "                 color='lightblue', linewidth=0, antialiased=True)\n",
    "xlabel('x'); ylabel('y')\n",
    "show()"
   ]
  },
  {
   "cell_type": "code",
   "execution_count": null,
   "metadata": {
    "collapsed": true
   },
   "outputs": [],
   "source": []
  },
  {
   "cell_type": "code",
   "execution_count": null,
   "metadata": {
    "collapsed": true
   },
   "outputs": [],
   "source": []
  }
 ],
 "metadata": {
  "kernelspec": {
   "display_name": "anaconda_kernel",
   "language": "python",
   "name": "anaconda_kernel"
  },
  "language_info": {
   "codemirror_mode": {
    "name": "ipython",
    "version": 2
   },
   "file_extension": ".py",
   "mimetype": "text/x-python",
   "name": "python",
   "nbconvert_exporter": "python",
   "pygments_lexer": "ipython2",
   "version": "2.7.14"
  }
 },
 "nbformat": 4,
 "nbformat_minor": 1
}
