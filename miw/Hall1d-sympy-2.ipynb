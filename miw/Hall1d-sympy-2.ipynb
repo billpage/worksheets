{
 "cells": [
  {
   "cell_type": "code",
   "execution_count": 1,
   "metadata": {
    "collapsed": false
   },
   "outputs": [
    {
     "name": "stdout",
     "output_type": "stream",
     "text": [
      "env: MKL_THREADING_LAYER=GNU\n",
      "env: THEANO_FLAGS=device=cpu,floatX=float64\n"
     ]
    }
   ],
   "source": [
    "%env MKL_THREADING_LAYER=GNU\n",
    "%env THEANO_FLAGS=device=cpu,floatX=float64\n",
    "# optimizer=fast_run,NanGuardMode.action=warn\n",
    "# use device=cuda for gpu support"
   ]
  },
  {
   "cell_type": "code",
   "execution_count": 2,
   "metadata": {
    "collapsed": false
   },
   "outputs": [
   ],
   "source": [
    "import sys\n",
    "from __future__ import division\n",
    "add = __builtin__.sum"
   ]
  },
  {
   "cell_type": "code",
   "execution_count": 3,
   "metadata": {
    "collapsed": false
   },
   "outputs": [
   ],
   "source": [
    "from theano import clone, function, pp, shared\n",
    "from theano.tensor import (concatenate, config, cosh, dot, erfinv, eq, grad, min,\n",
    "                           scalar, scalars, shape_padright, sum, switch,\n",
    "                           tensor3, tensor5, TensorType, tile, vector)\n",
    "from theano.tensor.var import TensorVariable\n",
    "from theano.printing import debugprint, pydotprint\n",
    "#from theano.tensor.shared_randomstreams import RandomStreams\n",
    "# used later\n",
    "from theano.tensor import roll, stack"
   ]
  },
  {
   "cell_type": "code",
   "execution_count": 4,
   "metadata": {
    "collapsed": false
   },
   "outputs": [
   ],
   "source": [
    "from numpy import (array, arange, asarray, exp, full, Inf, linspace,\n",
    "                   mean, meshgrid, pi, roll)\n",
    "# used later\n",
    "#from numpy import roll, stack"
   ]
  },
  {
   "cell_type": "code",
   "execution_count": 5,
   "metadata": {
    "collapsed": false
   },
   "outputs": [
   ],
   "source": [
    "from sympy import (Abs, Eq, exp as Exp, I, init_printing, integrate,\n",
    "                   oo, pi as Pi, solve, symbols, Symbol)\n",
    "#from sympy.printing.theanocode\n",
    "# added erfinv\n",
    "from theanocode import theano_code, theano_function\n",
    "#from pymatrix import matrix, Matrix"
   ]
  },
  {
   "cell_type": "code",
   "execution_count": 6,
   "metadata": {
    "collapsed": false
   },
   "outputs": [
   ],
   "source": [
    "init_printing(use_latex='mathjax')"
   ]
  },
  {
   "cell_type": "code",
   "execution_count": 7,
   "metadata": {
    "collapsed": false
   },
   "outputs": [
   ],
   "source": [
    "from IPython.display import display, HTML, SVG"
   ]
  },
  {
   "cell_type": "code",
   "execution_count": 8,
   "metadata": {
    "collapsed": false
   },
   "outputs": [
   ],
   "source": [
    "%matplotlib inline\n",
    "from matplotlib.pyplot import (axes, close, contour, contourf, figure,\n",
    "                               legend, plot, rcParams, show, title,\n",
    "                               xlabel, ylabel)\n",
    "from matplotlib.cm import * #coolwarm, Spectral, etc.\n",
    "from mpl_toolkits.mplot3d import axes3d\n",
    "from matplotlib import animation"
   ]
  },
  {
   "cell_type": "code",
   "execution_count": 9,
   "metadata": {
    "collapsed": false
   },
   "outputs": [
    {
     "data": {
      "text/plain": [
       "array([ 2.2,  3.2,  2.2,  2.2])"
      ]
     },
     "execution_count": 9,
     "metadata": {
     },
     "output_type": "execute_result"
    }
   ],
   "source": [
    "from sdict import select\n",
    "# E.g. select({3:3.2,2:2.2})[[2,3]] or\n",
    "S=select({3:3.2,2:2.2})\n",
    "S[array([2,3,2,2])]"
   ]
  },
  {
   "cell_type": "code",
   "execution_count": 10,
   "metadata": {
    "collapsed": false
   },
   "outputs": [
    {
     "name": "stdout",
     "output_type": "stream",
     "text": [
      "-2   1\n",
      "\n",
      " 1  -1\n"
     ]
    }
   ],
   "source": [
    "from smatrix import *\n",
    "# E.g.\n",
    "print matrix([[1,2],[3,4]]).inverse()"
   ]
  },
  {
   "cell_type": "code",
   "execution_count": 11,
   "metadata": {
    "collapsed": false
   },
   "outputs": [
   ],
   "source": [
    "# function of specified variables fun(y,...) from expression f\n",
    "# where: fun(x,y)(f)(x,y) = f\n",
    "def fun(*y):\n",
    "    if isinstance(y[0],TensorVariable):\n",
    "        return lambda f: lambda *x: clone(f, dict([[y[i],x[i]] for i in range(len(y))]),strict=False)\n",
    "    else:\n",
    "        return lambda f: lambda *x: f.subs( dict([[y[i],x[i]] for i in range(len(y))]))"
   ]
  },
  {
   "cell_type": "markdown",
   "metadata": {
    "collapsed": false
   },
   "source": [
    "The multidimensional symbolic array $C$ represents a \"uniformizing\" mapping of worlds into configuration space, i.e. the position of each particle in each world."
   ]
  },
  {
   "cell_type": "code",
   "execution_count": 12,
   "metadata": {
    "collapsed": false
   },
   "outputs": [
   ],
   "source": [
    "dim = range(1) # dimension\n",
    "C = TensorType(config.floatX, (False,)*(1+len(dim)))('C') # shape: d * N**d"
   ]
  },
  {
   "cell_type": "markdown",
   "metadata": {
    "collapsed": false
   },
   "source": [
    "#### Boundary Conditions\n",
    "\n",
    "World outside the boundary of the simulation are assumed to be infinity far away. Expressions are adjusted by taking appropriate limits."
   ]
  },
  {
   "cell_type": "code",
   "execution_count": 13,
   "metadata": {
    "collapsed": false
   },
   "outputs": [
   ],
   "source": [
    "# uniform grid between 0 and 1 of dimension d and size N\n",
    "def grid(d,N):\n",
    "    return array(meshgrid(*[arange(0.0+0.5/N,1.0,1.0/N,config.floatX)]*d,\n",
    "                              indexing='ij'))"
   ]
  },
  {
   "cell_type": "markdown",
   "metadata": {
    "collapsed": false
   },
   "source": [
    "### Difference operator ###"
   ]
  },
  {
   "cell_type": "code",
   "execution_count": 14,
   "metadata": {
    "collapsed": false
   },
   "outputs": [
   ],
   "source": [
    "# In the following use numpy's roll and stack. Later we will use theano for these operations.\n",
    "from numpy import roll, stack"
   ]
  },
  {
   "cell_type": "code",
   "execution_count": 15,
   "metadata": {
    "collapsed": false
   },
   "outputs": [
   ],
   "source": [
    "N=5"
   ]
  },
  {
   "cell_type": "code",
   "execution_count": 16,
   "metadata": {
    "collapsed": false
   },
   "outputs": [
    {
     "data": {
      "text/latex": [
       "$$\\left ( 1, \\quad 5\\right )$$"
      ]
     },
     "execution_count": 16,
     "metadata": {
     },
     "output_type": "execute_result"
    }
   ],
   "source": [
    "x=array([symbols(['x_{%s}'%(str(Symbol(\"i\")+(i-N//2)).replace(' ','')) for i in range(N)])])\n",
    "x.shape"
   ]
  },
  {
   "cell_type": "code",
   "execution_count": 17,
   "metadata": {
    "collapsed": false
   },
   "outputs": [
    {
     "data": {
      "text/latex": [
       "$$\\left [ x_{i-2}, \\quad x_{i-1}, \\quad x_{i}, \\quad x_{i+1}, \\quad x_{i+2}\\right ]$$"
      ]
     },
     "execution_count": 17,
     "metadata": {
     },
     "output_type": "execute_result"
    }
   ],
   "source": [
    "list(x[0])"
   ]
  },
  {
   "cell_type": "markdown",
   "metadata": {
    "collapsed": false
   },
   "source": [
    "The index of the $i^{th}$ world:"
   ]
  },
  {
   "cell_type": "code",
   "execution_count": 18,
   "metadata": {
    "collapsed": false
   },
   "outputs": [
    {
     "data": {
      "text/latex": [
       "$$x_{i}$$"
      ]
     },
     "execution_count": 18,
     "metadata": {
     },
     "output_type": "execute_result"
    }
   ],
   "source": [
    "ith = N//2\n",
    "x_i = x[0,ith]\n",
    "x_i"
   ]
  },
  {
   "cell_type": "markdown",
   "metadata": {
    "collapsed": false
   },
   "source": [
    "Forward and backward differences"
   ]
  },
  {
   "cell_type": "code",
   "execution_count": 19,
   "metadata": {
    "collapsed": false
   },
   "outputs": [
   ],
   "source": [
    "def d(dir,x,i):\n",
    "    if dir<0:\n",
    "        return roll(x, dir, axis = i) - x\n",
    "    else:\n",
    "        return x - roll(x, dir, axis = i)"
   ]
  },
  {
   "cell_type": "code",
   "execution_count": 20,
   "metadata": {
    "collapsed": false
   },
   "outputs": [
    {
     "data": {
      "text/latex": [
       "$$- x_{i-1} + x_{i}$$"
      ]
     },
     "execution_count": 20,
     "metadata": {
     },
     "output_type": "execute_result"
    }
   ],
   "source": [
    "d(+1,x[0],0)[ith]"
   ]
  },
  {
   "cell_type": "code",
   "execution_count": 21,
   "metadata": {
    "collapsed": false
   },
   "outputs": [
    {
     "data": {
      "text/latex": [
       "$$x_{i+1} - x_{i}$$"
      ]
     },
     "execution_count": 21,
     "metadata": {
     },
     "output_type": "execute_result"
    }
   ],
   "source": [
    "d(-1,x[0],0)[ith]"
   ]
  },
  {
   "cell_type": "markdown",
   "metadata": {
    "collapsed": false
   },
   "source": [
    "Jacobian"
   ]
  },
  {
   "cell_type": "code",
   "execution_count": 22,
   "metadata": {
    "collapsed": false
   },
   "outputs": [
   ],
   "source": [
    "def J(C): return matrix([[d(-1,C[j],i) for i in dim] for j in dim])"
   ]
  },
  {
   "cell_type": "code",
   "execution_count": 23,
   "metadata": {
    "collapsed": false
   },
   "outputs": [
   ],
   "source": [
    "def K(C): return 1/J(C)"
   ]
  },
  {
   "cell_type": "markdown",
   "metadata": {
    "collapsed": false
   },
   "source": [
    "#### Density ####"
   ]
  },
  {
   "cell_type": "code",
   "execution_count": 24,
   "metadata": {
    "collapsed": false
   },
   "outputs": [
   ],
   "source": [
    "def D(C): return 1/J(C).determinant()"
   ]
  },
  {
   "cell_type": "code",
   "execution_count": 25,
   "metadata": {
    "collapsed": false
   },
   "outputs": [
   ],
   "source": [
    "Ds=D(x)"
   ]
  },
  {
   "cell_type": "code",
   "execution_count": 26,
   "metadata": {
    "collapsed": false
   },
   "outputs": [
    {
     "data": {
      "text/latex": [
       "$$\\frac{1}{x_{i+1} - x_{i}}$$"
      ]
     },
     "execution_count": 26,
     "metadata": {
     },
     "output_type": "execute_result"
    }
   ],
   "source": [
    "Ds[ith]"
   ]
  },
  {
   "cell_type": "markdown",
   "metadata": {
    "collapsed": false
   },
   "source": [
    "#### Quantum Potential (Schiff&Poirier eq. 20)####"
   ]
  },
  {
   "cell_type": "code",
   "execution_count": 27,
   "metadata": {
    "collapsed": false
   },
   "outputs": [
   ],
   "source": [
    "def Q(hbar,mu,C):\n",
    "    K_C = K(C)\n",
    "    return add([add([add([\n",
    "           -hbar**2/(4*mu[j])*(K_C[k,j]*d(-1,d(+1,K_C[l,j], k), l) + d(+1,K_C[l,j], l)*d(+1,K_C[k,j], k)/2)\n",
    "                 for k in dim]) for j in dim]) for l in dim])"
   ]
  },
  {
   "cell_type": "code",
   "execution_count": 28,
   "metadata": {
    "collapsed": false
   },
   "outputs": [
    {
     "data": {
      "text/latex": [
       "$$\\left [ \\mu_{0}\\right ]$$"
      ]
     },
     "execution_count": 28,
     "metadata": {
     },
     "output_type": "execute_result"
    }
   ],
   "source": [
    "mu=array(symbols(['mu%s'%i for i in dim])) # mass\n",
    "list(mu)"
   ]
  },
  {
   "cell_type": "code",
   "execution_count": 29,
   "metadata": {
    "collapsed": false
   },
   "outputs": [
   ],
   "source": [
    "hbar=Symbol('hbar')"
   ]
  },
  {
   "cell_type": "markdown",
   "metadata": {
    "collapsed": false
   },
   "source": [
    "The quantum potential at the $i^{th}$ world:"
   ]
  },
  {
   "cell_type": "code",
   "execution_count": 30,
   "metadata": {
    "collapsed": false
   },
   "outputs": [
   ],
   "source": [
    "Qs=Q(hbar,mu,x)"
   ]
  },
  {
   "cell_type": "code",
   "execution_count": 31,
   "metadata": {
    "collapsed": false
   },
   "outputs": [
    {
     "data": {
      "text/latex": [
       "$$- \\frac{\\hbar^{2}}{4 \\mu_{0}} \\left(\\frac{1}{2} \\left(- \\frac{1}{- x_{i-1} + x_{i}} + \\frac{1}{x_{i+1} - x_{i}}\\right)^{2} + \\frac{1}{x_{i+1} - x_{i}} \\left(\\frac{1}{- x_{i-1} + x_{i}} - \\frac{2}{x_{i+1} - x_{i}} + \\frac{1}{- x_{i+1} + x_{i+2}}\\right)\\right)$$"
      ]
     },
     "execution_count": 31,
     "metadata": {
     },
     "output_type": "execute_result"
    }
   ],
   "source": [
    "Qs[ith]"
   ]
  },
  {
   "cell_type": "markdown",
   "metadata": {
    "collapsed": false
   },
   "source": [
    "#### Quantum Force ####\n",
    "\n",
    "In general the force is a vector.\n",
    "Provided the number of worlds is large enough the trace of Q contains sufficient information to compute gradients."
   ]
  },
  {
   "cell_type": "code",
   "execution_count": 32,
   "metadata": {
    "collapsed": false
   },
   "outputs": [
   ],
   "source": [
    "QU=add(Qs) # trace in 1-d"
   ]
  },
  {
   "cell_type": "code",
   "execution_count": 33,
   "metadata": {
    "collapsed": false
   },
   "outputs": [
    {
     "data": {
      "text/latex": [
       "$$\\frac{\\hbar^{2}}{4 \\mu_{0}} \\left(- \\frac{1}{\\left(x_{i+1} - x_{i}\\right)^{2}} \\left(- \\frac{1}{x_{i+1} - x_{i}} + \\frac{1}{- x_{i+1} + x_{i+2}}\\right) + \\frac{1}{\\left(- x_{i+1} + x_{i+2}\\right) \\left(x_{i+1} - x_{i}\\right)^{2}}\\right) + \\frac{\\hbar^{2}}{4 \\mu_{0}} \\left(\\frac{\\frac{2}{\\left(- x_{i-1} + x_{i}\\right)^{2}} + \\frac{1}{\\left(x_{i+1} - x_{i}\\right)^{2}}}{- x_{i-1} + x_{i}} - \\frac{1}{\\left(- x_{i-1} + x_{i}\\right)^{2}} \\left(- \\frac{1}{x_{i-1} - x_{i-2}} + \\frac{1}{- x_{i-1} + x_{i}}\\right) - \\frac{1}{\\left(- x_{i-1} + x_{i}\\right)^{2}} \\left(\\frac{1}{x_{i-1} - x_{i-2}} - \\frac{2}{- x_{i-1} + x_{i}} + \\frac{1}{x_{i+1} - x_{i}}\\right)\\right) + \\frac{\\hbar^{2}}{4 \\mu_{0}} \\left(\\frac{1}{2} \\left(\\frac{2}{\\left(- x_{i-1} + x_{i}\\right)^{2}} + \\frac{2}{\\left(x_{i+1} - x_{i}\\right)^{2}}\\right) \\left(- \\frac{1}{- x_{i-1} + x_{i}} + \\frac{1}{x_{i+1} - x_{i}}\\right) + \\frac{1}{x_{i+1} - x_{i}} \\left(- \\frac{1}{\\left(- x_{i-1} + x_{i}\\right)^{2}} - \\frac{2}{\\left(x_{i+1} - x_{i}\\right)^{2}}\\right) + \\frac{1}{\\left(x_{i+1} - x_{i}\\right)^{2}} \\left(\\frac{1}{- x_{i-1} + x_{i}} - \\frac{2}{x_{i+1} - x_{i}} + \\frac{1}{- x_{i+1} + x_{i+2}}\\right)\\right) - \\frac{\\hbar^{2}}{4 \\mu_{0} \\left(- x_{i-1} + x_{i}\\right)^{2} \\left(x_{i-1} - x_{i-2}\\right)}$$"
      ]
     },
     "execution_count": 33,
     "metadata": {
     },
     "output_type": "execute_result"
    }
   ],
   "source": [
    "R0 = -QU.diff(x_i); R0"
   ]
  },
  {
   "cell_type": "markdown",
   "metadata": {
    "collapsed": false
   },
   "source": [
    " Schiff & Poirier eq 18"
   ]
  },
  {
   "cell_type": "code",
   "execution_count": 34,
   "metadata": {
    "collapsed": false
   },
   "outputs": [
   ],
   "source": [
    "def R(hbar,mu,C):\n",
    "    K_C=K(C)\n",
    "    return stack([add([add([add([add([\n",
    "      hbar**2/(4*mu[j])*d(+1,K_C[k, i]*K_C[p, j]*d(-1,d(+1,K_C[l, j], k), l), p)\n",
    "        for p in dim]) for k in dim]) for j in dim]) for l in dim])\n",
    "            for i in dim])"
   ]
  },
  {
   "cell_type": "code",
   "execution_count": 35,
   "metadata": {
    "collapsed": false,
    "scrolled": true
   },
   "outputs": [
    {
     "data": {
      "text/latex": [
       "$$\\frac{\\hbar^{2}}{4 \\mu_{0}} \\left(- \\frac{1}{\\left(- x_{i-1} + x_{i}\\right)^{2}} \\left(\\frac{1}{x_{i-1} - x_{i-2}} - \\frac{2}{- x_{i-1} + x_{i}} + \\frac{1}{x_{i+1} - x_{i}}\\right) + \\frac{1}{\\left(x_{i+1} - x_{i}\\right)^{2}} \\left(\\frac{1}{- x_{i-1} + x_{i}} - \\frac{2}{x_{i+1} - x_{i}} + \\frac{1}{- x_{i+1} + x_{i+2}}\\right)\\right)$$"
      ]
     },
     "execution_count": 35,
     "metadata": {
     },
     "output_type": "execute_result"
    }
   ],
   "source": [
    "Rs=R(hbar,mu,x); Rs[0,ith]"
   ]
  },
  {
   "cell_type": "markdown",
   "metadata": {
    "collapsed": false
   },
   "source": [
    "The discretized Schiff and Poirier expression for the force is the gradient of the potential above."
   ]
  },
  {
   "cell_type": "code",
   "execution_count": 36,
   "metadata": {
    "collapsed": false
   },
   "outputs": [
    {
     "data": {
      "text/plain": [
       "True"
      ]
     },
     "execution_count": 36,
     "metadata": {
     },
     "output_type": "execute_result"
    }
   ],
   "source": [
    "Rs[0,ith].expand()==R0.expand()"
   ]
  },
  {
   "cell_type": "markdown",
   "metadata": {
    "collapsed": false
   },
   "source": [
    "It is interesting to note that the gradient of another expression for the potential which differs from the $2^{nd}$ order term from Schiff&Poirier eq. 20 by only the sign yields the same expression for the quantum force."
   ]
  },
  {
   "cell_type": "code",
   "execution_count": 37,
   "metadata": {
    "collapsed": false
   },
   "outputs": [
   ],
   "source": [
    "def Q2(hbar,mu,C):\n",
    "    K_C = K(C)\n",
    "    return add([add([add([\n",
    "           hbar**2/(8*mu[j])*d(+1,K_C[l,j], l)*d(+1,K_C[k,j], k)\n",
    "                 for k in dim]) for j in dim]) for l in dim])"
   ]
  },
  {
   "cell_type": "code",
   "execution_count": 38,
   "metadata": {
    "collapsed": false
   },
   "outputs": [
   ],
   "source": [
    "Qs2=Q2(hbar,mu,x)"
   ]
  },
  {
   "cell_type": "markdown",
   "metadata": {
    "collapsed": false
   },
   "source": [
    "The discretized version of this expression is identical to that introduced by Hall & Deckart."
   ]
  },
  {
   "cell_type": "code",
   "execution_count": 39,
   "metadata": {
    "collapsed": false
   },
   "outputs": [
    {
     "data": {
      "text/latex": [
       "$$\\frac{\\hbar^{2}}{8 \\mu_{0}} \\left(- \\frac{1}{- x_{i-1} + x_{i}} + \\frac{1}{x_{i+1} - x_{i}}\\right)^{2}$$"
      ]
     },
     "execution_count": 39,
     "metadata": {
     },
     "output_type": "execute_result"
    }
   ],
   "source": [
    "Qs2[ith]"
   ]
  },
  {
   "cell_type": "code",
   "execution_count": 40,
   "metadata": {
    "collapsed": false
   },
   "outputs": [
   ],
   "source": [
    "Q2R0 = -add(Qs2).diff(x_i)"
   ]
  },
  {
   "cell_type": "code",
   "execution_count": 41,
   "metadata": {
    "collapsed": false
   },
   "outputs": [
    {
     "data": {
      "text/plain": [
       "True"
      ]
     },
     "execution_count": 41,
     "metadata": {
     },
     "output_type": "execute_result"
    }
   ],
   "source": [
    "(Rs[0,ith] - Q2R0).simplify()==0"
   ]
  },
  {
   "cell_type": "markdown",
   "metadata": {
    "collapsed": false
   },
   "source": [
    "Boundary conditions"
   ]
  },
  {
   "cell_type": "code",
   "execution_count": 42,
   "metadata": {
    "collapsed": false
   },
   "outputs": [
   ],
   "source": [
    "from sympy import Eq, limit, oo, Piecewise"
   ]
  },
  {
   "cell_type": "code",
   "execution_count": 43,
   "metadata": {
    "collapsed": false
   },
   "outputs": [
   ],
   "source": [
    "i = Symbol('i')\n",
    "n = Symbol('n')"
   ]
  },
  {
   "cell_type": "code",
   "execution_count": 0,
   "metadata": {
    "collapsed": false
   },
   "outputs": [
   ],
   "source": [
   ]
  },
  {
   "cell_type": "markdown",
   "metadata": {
    "collapsed": false
   },
   "source": [
    "Assume $x_i=\\pm \\infty$ outside the boundary of $0\\le i\\le n$:"
   ]
  },
  {
   "cell_type": "code",
   "execution_count": 44,
   "metadata": {
    "collapsed": false
   },
   "outputs": [
    {
     "data": {
      "text/latex": [
       "$$\\begin{cases} \\frac{1}{x_{i+1} - x_{i}} & \\text{for}\\: i < n \\\\0 & \\text{for}\\: i \\geq n \\end{cases}$$"
      ]
     },
     "execution_count": 44,
     "metadata": {
     },
     "output_type": "execute_result"
    }
   ],
   "source": [
    "Dn=Piecewise(\n",
    "    (Ds[ith], i<n),\n",
    "    (limit(Ds[ith],x[0,ith+1],+oo), i>=n)\n",
    ")\n",
    "Dn"
   ]
  },
  {
   "cell_type": "code",
   "execution_count": 45,
   "metadata": {
    "collapsed": false
   },
   "outputs": [
    {
     "data": {
      "text/latex": [
       "$$\\begin{cases} \\frac{\\hbar^{2}}{8 \\mu_{0}} \\left(- \\frac{1}{- x_{i-1} + x_{i}} + \\frac{1}{x_{i+1} - x_{i}}\\right)^{2} & \\text{for}\\: i > 0 \\wedge i < n \\\\\\frac{\\hbar^{2}}{8 \\mu_{0} \\left(x_{i+1} - x_{i}\\right)^{2}} & \\text{for}\\: i \\leq 0 \\\\\\frac{\\hbar^{2}}{8 \\mu_{0} \\left(x_{i-1} - x_{i}\\right)^{2}} & \\text{for}\\: i \\geq n \\end{cases}$$"
      ]
     },
     "execution_count": 45,
     "metadata": {
     },
     "output_type": "execute_result"
    }
   ],
   "source": [
    "Qn=Piecewise(\n",
    "    (Qs2[ith], (i>0) & (i<n) ),\n",
    "    (limit(Qs2[ith],x[0,ith-1],-oo), i<=0),\n",
    "    (limit(Qs2[ith],x[0,ith+1],+oo), i>=n)\n",
    ")\n",
    "Qn"
   ]
  },
  {
   "cell_type": "code",
   "execution_count": 46,
   "metadata": {
    "collapsed": false
   },
   "outputs": [
    {
     "data": {
      "text/latex": [
       "$$\\begin{cases} \\frac{\\hbar^{2} \\left(- 3 x_{i+1} + 2 x_{i+2} + x_{i}\\right)}{4 \\mu_{0} \\left(x_{i+1} - x_{i+2}\\right) \\left(x_{i+1} - x_{i}\\right)^{3}} & \\text{for}\\: i \\leq 0 \\\\\\frac{\\hbar^{2}}{4 \\mu_{0} \\left(x_{i+1} - x_{i+2}\\right) \\left(x_{i+1} - x_{i}\\right)^{3} \\left(x_{i-1} - x_{i}\\right)^{3}} \\left(2 \\left(- x_{i+1} + x_{i+2}\\right) \\left(x_{i+1} - x_{i}\\right)^{3} + \\left(- x_{i+1} + x_{i+2}\\right) \\left(x_{i+1} - x_{i}\\right)^{2} \\left(x_{i-1} - x_{i}\\right) + \\left(- x_{i+1} + x_{i+2}\\right) \\left(x_{i+1} - x_{i}\\right) \\left(x_{i-1} - x_{i}\\right)^{2} + 2 \\left(- x_{i+1} + x_{i+2}\\right) \\left(x_{i-1} - x_{i}\\right)^{3} - \\left(x_{i+1} - x_{i}\\right) \\left(x_{i-1} - x_{i}\\right)^{3}\\right) & \\text{for}\\: i = 1 \\\\\\frac{\\hbar^{2}}{4 \\mu_{0}} \\left(- \\frac{1}{\\left(- x_{i-1} + x_{i}\\right)^{2}} \\left(\\frac{1}{x_{i-1} - x_{i-2}} - \\frac{2}{- x_{i-1} + x_{i}} + \\frac{1}{x_{i+1} - x_{i}}\\right) + \\frac{1}{\\left(x_{i+1} - x_{i}\\right)^{2}} \\left(\\frac{1}{- x_{i-1} + x_{i}} - \\frac{2}{x_{i+1} - x_{i}} + \\frac{1}{- x_{i+1} + x_{i+2}}\\right)\\right) & \\text{for}\\: i > 1 \\wedge i < n - 1 \\\\\\frac{\\hbar^{2}}{4 \\mu_{0} \\left(x_{i+1} - x_{i}\\right)^{3} \\left(x_{i-1} - x_{i-2}\\right) \\left(x_{i-1} - x_{i}\\right)^{3}} \\left(2 \\left(x_{i+1} - x_{i}\\right)^{3} \\left(- x_{i-1} + x_{i-2}\\right) - \\left(x_{i+1} - x_{i}\\right)^{3} \\left(x_{i-1} - x_{i}\\right) + \\left(x_{i+1} - x_{i}\\right)^{2} \\left(- x_{i-1} + x_{i-2}\\right) \\left(x_{i-1} - x_{i}\\right) + \\left(x_{i+1} - x_{i}\\right) \\left(- x_{i-1} + x_{i-2}\\right) \\left(x_{i-1} - x_{i}\\right)^{2} + 2 \\left(- x_{i-1} + x_{i-2}\\right) \\left(x_{i-1} - x_{i}\\right)^{3}\\right) & \\text{for}\\: i = n - 1 \\\\\\frac{\\hbar^{2} \\left(- 3 x_{i-1} + 2 x_{i-2} + x_{i}\\right)}{4 \\mu_{0} \\left(x_{i-1} - x_{i-2}\\right) \\left(x_{i-1} - x_{i}\\right)^{3}} & \\text{for}\\: i \\geq n \\end{cases}$$"
      ]
     },
     "execution_count": 46,
     "metadata": {
     },
     "output_type": "execute_result"
    }
   ],
   "source": [
    "Rn=Piecewise(\n",
    "    (limit(Rs[0,ith],x[0,ith-1],-oo), i<=0              ),\n",
    "    (limit(Rs[0,ith],x[0,ith-2],-oo), Eq(i,1)           ),\n",
    "    (Rs[0,ith],                       (i>1) & (i < n-1) ),\n",
    "    (limit(Rs[0,ith],x[0,ith+2],+oo), Eq(i,n-1)         ),\n",
    "    (limit(Rs[0,ith],x[0,ith+1],+oo), i>=n              )\n",
    ")\n",
    "Rn"
   ]
  },
  {
   "cell_type": "markdown",
   "metadata": {
    "collapsed": false
   },
   "source": [
    "### Numeric computation ###\n",
    "\n",
    "These sympy expressions can be converted to theano functions for efficient execution on gpu and multicore processors."
   ]
  },
  {
   "cell_type": "code",
   "execution_count": 47,
   "metadata": {
    "collapsed": false
   },
   "outputs": [
   ],
   "source": [
    "from theano.tensor import arange as Arange, roll, stack"
   ]
  },
  {
   "cell_type": "code",
   "execution_count": 48,
   "metadata": {
    "collapsed": false
   },
   "outputs": [
   ],
   "source": [
    "hbar_s = theano_code(hbar)\n",
    "mu_v = vector('mu')\n",
    "# boundary\n",
    "#B = TensorType(config.floatX, (False,)*(1+len(dim)))('B') # shape: d * N**d [-2,-1,0,..., 0,1,2]\n",
    "# mesh\n",
    "C = TensorType(config.floatX, (False,)*(1+len(dim)))('C') # shape: d * N**d"
   ]
  },
  {
   "cell_type": "markdown",
   "metadata": {
    "collapsed": false
   },
   "source": [
    "Density"
   ]
  },
  {
   "cell_type": "code",
   "execution_count": 49,
   "metadata": {
    "collapsed": false
   },
   "outputs": [
   ],
   "source": [
    "Db = fun(C)(clone(\n",
    "    theano_code(Dn), # from sympy\n",
    "    dict(\n",
    "        [[theano_code(Symbol('n')),C[0].shape[0]-1]]+\n",
    "        [[theano_code(Symbol('i')),Arange(C[0].shape[0])]]+\n",
    "        [[theano_code(x[0,ith-i]),roll(C[0],i,axis=0)] for i in range(-1,2)]\n",
    "        ), strict=False))\n",
    "D_ = function([C],Db(C))"
   ]
  },
  {
   "cell_type": "code",
   "execution_count": 50,
   "metadata": {
    "collapsed": false
   },
   "outputs": [
    {
     "data": {
      "text/plain": [
       "\"Elemwise{Composite{Switch(LT(i0, i1), inv((i2 + (-i3))), Switch(GE(i0, i1), i4, i5))}}[(0, 2)](ARange{dtype='int64'}(TensorConstant{0}, Shape_i{1}(C), TensorConstant{1}), (TensorConstant{(1,) of -1} + Shape_i{1}(C)), join(TensorConstant{0}, C[ScalarFromTensor(Elemwise{Composite{(-(i0 % i1))}}(TensorConstant{-1}, Shape_i{1}(C))), int64:], C[ScalarFromTensor(Elemwise{Composite{(-(i0 % i1))}}(TensorConstant{-1}, Shape_i{1}(C))), int64:int64]), join(TensorConstant{0}, C[ScalarFromTensor(Elemwise{Composite{(-(i0 % i1))}}[(0, 1)](TensorConstant{0}, Shape_i{1}(C))), int64:], C[ScalarFromTensor(Elemwise{Composite{(-(i0 % i1))}}[(0, 1)](TensorConstant{0}, Shape_i{1}(C))), int64:int64]), TensorConstant{(1,) of 0}, TensorConstant{[ nan]})\""
      ]
     },
     "execution_count": 50,
     "metadata": {
     },
     "output_type": "execute_result"
    }
   ],
   "source": [
    "pp(D_.maker.fgraph.outputs[0])"
   ]
  },
  {
   "cell_type": "markdown",
   "metadata": {
    "collapsed": false
   },
   "source": [
    "$2^{nd}$ order potential"
   ]
  },
  {
   "cell_type": "code",
   "execution_count": 51,
   "metadata": {
    "collapsed": false
   },
   "outputs": [
   ],
   "source": [
    "Q2b=fun(hbar_s,mu_v,C)(add([clone(\n",
    "    theano_code(Qn), # from sympy\n",
    "    dict(\n",
    "         [[theano_code(Symbol('n')),C[0].shape[0]-1]]+\n",
    "         [[theano_code(Symbol('i')),Arange(C[0].shape[0])]]+\n",
    "         # scalar to vector\n",
    "         [[theano_code(mu[0]),mu_v[j]]]+\n",
    "         # indexed variable to vector operator\n",
    "         [[theano_code(x[0,ith-i]),roll(C[j],i,axis=j)] for i in range(-1,2)]),\n",
    "    strict=False) for j in dim]))\n",
    "Q2b_ = function([hbar_s,mu_v,C],Q2b(hbar_s,mu_v,C))"
   ]
  },
  {
   "cell_type": "code",
   "execution_count": 52,
   "metadata": {
    "collapsed": false
   },
   "outputs": [
    {
     "data": {
      "text/plain": [
       "\"Elemwise{Composite{Switch(AND(GT(i0, i1), LT(i0, i2)), (i3 * i4 * i5 * sqr((inv((i6 + (-i7))) + (-inv((i7 + (-i8))))))), Switch(LE(i0, i1), (i3 * i4 * i5 * inv(sqr((i6 + (-i7))))), Switch(GE(i0, i2), (i3 * i4 * i5 * inv(sqr((i8 + (-i7))))), i9)))}}[(0, 6)](ARange{dtype='int64'}(TensorConstant{0}, Shape_i{1}(C), TensorConstant{1}), TensorConstant{(1,) of 0}, (TensorConstant{(1,) of -1} + Shape_i{1}(C)), TensorConstant{(1,) of 0.125}, sqr(hbar), inv(mu[Constant{0}]), join(TensorConstant{0}, C[ScalarFromTensor(Elemwise{Composite{(-(i0 % i1))}}(TensorConstant{-1}, Shape_i{1}(C))), int64:], C[ScalarFromTensor(Elemwise{Composite{(-(i0 % i1))}}(TensorConstant{-1}, Shape_i{1}(C))), int64:int64]), join(TensorConstant{0}, C[ScalarFromTensor(Elemwise{Composite{(-(i0 % i1))}}(TensorConstant{0}, Shape_i{1}(C))), int64:], C[ScalarFromTensor(Elemwise{Composite{(-(i0 % i1))}}(TensorConstant{0}, Shape_i{1}(C))), int64:int64]), join(TensorConstant{0}, C[ScalarFromTensor(Elemwise{Composite{(-(i0 % i1))}}[(0, 1)](TensorConstant{1}, Shape_i{1}(C))), int64:], C[ScalarFromTensor(Elemwise{Composite{(-(i0 % i1))}}[(0, 1)](TensorConstant{1}, Shape_i{1}(C))), int64:int64]), TensorConstant{[ nan]})\""
      ]
     },
     "execution_count": 52,
     "metadata": {
     },
     "output_type": "execute_result"
    }
   ],
   "source": [
    "pp(Q2b_.maker.fgraph.outputs[0])"
   ]
  },
  {
   "cell_type": "markdown",
   "metadata": {
    "collapsed": false
   },
   "source": [
    "Quantum force"
   ]
  },
  {
   "cell_type": "code",
   "execution_count": 53,
   "metadata": {
    "collapsed": false
   },
   "outputs": [
   ],
   "source": [
    "Rb=fun(hbar_s,mu_v,C)(stack([clone(\n",
    "   theano_code(Rn), # from sympy\n",
    "   dict(\n",
    "        [[theano_code(Symbol('n')),C[0].shape[0]-1]]+\n",
    "        [[theano_code(Symbol('i')),Arange(C[0].shape[0])]]+\n",
    "        # scalar to vector\n",
    "        [[theano_code(mu[0]),mu_v[j]]]+\n",
    "        # indexed variable to vector operator\n",
    "        [[theano_code(x[0,ith-i]),roll(C[j],i,axis=j)] for i in range(-2,3)]),\n",
    "   strict=False) for j in dim]))\n",
    "Rb_ = function([hbar_s,mu_v,C],Rb(hbar_s,mu_v,C))"
   ]
  },
  {
   "cell_type": "markdown",
   "metadata": {
    "collapsed": false
   },
   "source": [
    "After optimization:"
   ]
  },
  {
   "cell_type": "code",
   "execution_count": 54,
   "metadata": {
    "collapsed": false,
    "scrolled": true
   },
   "outputs": [
    {
     "data": {
      "text/plain": [
       "\"Elemwise{Composite{Switch(LE(i0, i1), (i2 * i3 * i4 * Composite{inv((i0 + (-i1)))}(i5, i6) * Composite{inv(Composite{(sqr(i0) * i0)}(i0))}((i5 + (-i7))) * (i7 + (i8 * i5) + (i9 * i6))), Switch(EQ(i0, i10), (i2 * i3 * i4 * Composite{inv((i0 + (-i1)))}(i5, i6) * Composite{inv(Composite{(sqr(i0) * i0)}(i0))}((i5 + (-i7))) * Composite{inv(Composite{(sqr(i0) * i0)}(i0))}((i11 + (-i7))) * ((i12 * Composite{(sqr(i0) * i0)}((i11 + (-i7))) * (i5 + (-i7))) + (i9 * Composite{(sqr(i0) * i0)}((i5 + (-i7))) * Composite{(i0 + (-i1))}(i6, i5)) + (i9 * Composite{(sqr(i0) * i0)}((i11 + (-i7))) * Composite{(i0 + (-i1))}(i6, i5)) + (sqr((i5 + (-i7))) * Composite{(i0 + (-i1))}(i6, i5) * (i11 + (-i7))) + (sqr((i11 + (-i7))) * (i5 + (-i7)) * Composite{(i0 + (-i1))}(i6, i5)))), Switch(AND(GT(i0, i10), LT(i0, i13)), (i2 * i3 * i4 * ((inv(sqr((i5 + (-i7)))) * (inv(Composite{(i0 + (-i1))}(i6, i5)) + inv((i7 + (-i11))) + (i14 * inv((i5 + (-i7)))))) + (i12 * inv(sqr((i7 + (-i11)))) * (inv((i5 + (-i7))) + Composite{inv((i0 + (-i1)))}(i11, i15) + (i14 * inv((i7 + (-i11)))))))), Switch(EQ(i0, i13), (i2 * i3 * i4 * Composite{inv(Composite{(sqr(i0) * i0)}(i0))}((i5 + (-i7))) * Composite{inv((i0 + (-i1)))}(i11, i15) * Composite{inv(Composite{(sqr(i0) * i0)}(i0))}((i11 + (-i7))) * ((i12 * Composite{(sqr(i0) * i0)}((i5 + (-i7))) * (i11 + (-i7))) + (i9 * Composite{(sqr(i0) * i0)}((i5 + (-i7))) * (i15 + (-i11))) + (i9 * Composite{(sqr(i0) * i0)}((i11 + (-i7))) * (i15 + (-i11))) + (sqr((i5 + (-i7))) * (i11 + (-i7)) * (i15 + (-i11))) + (sqr((i11 + (-i7))) * (i5 + (-i7)) * (i15 + (-i11))))), Switch(GE(i0, i16), (i2 * i3 * i4 * Composite{inv((i0 + (-i1)))}(i11, i15) * Composite{inv(Composite{(sqr(i0) * i0)}(i0))}((i11 + (-i7))) * (i7 + (i8 * i11) + (i9 * i15))), i17)))))}}[(0, 5)](ARange{dtype='int64'}(TensorConstant{0}, Shape_i{1}(C), TensorConstant{1}), TensorConstant{(1, 1) of 0}, TensorConstant{(1, 1) of 0.25}, sqr(hbar), inv(mu[Constant{0}]), join(TensorConstant{0}, C[ScalarFromTensor(Elemwise{Composite{(-(i0 % i1))}}(TensorConstant{-1}, Shape_i{1}(C))), int64:], C[ScalarFromTensor(Elemwise{Composite{(-(i0 % i1))}}(TensorConstant{-1}, Shape_i{1}(C))), int64:int64]), join(TensorConstant{0}, C[ScalarFromTensor(Elemwise{Composite{(-(i0 % i1))}}(TensorConstant{-2}, Shape_i{1}(C))), int64:], C[ScalarFromTensor(Elemwise{Composite{(-(i0 % i1))}}(TensorConstant{-2}, Shape_i{1}(C))), int64:int64]), join(TensorConstant{0}, C[ScalarFromTensor(Elemwise{Composite{(-(i0 % i1))}}(TensorConstant{0}, Shape_i{1}(C))), int64:], C[ScalarFromTensor(Elemwise{Composite{(-(i0 % i1))}}(TensorConstant{0}, Shape_i{1}(C))), int64:int64]), TensorConstant{(1, 1) of -3.0}, TensorConstant{(1, 1) of 2.0}, TensorConstant{(1, 1) of 1}, join(TensorConstant{0}, C[ScalarFromTensor(Elemwise{Composite{(-(i0 % i1))}}(TensorConstant{1}, Shape_i{1}(C))), int64:], C[ScalarFromTensor(Elemwise{Composite{(-(i0 % i1))}}(TensorConstant{1}, Shape_i{1}(C))), int64:int64]), TensorConstant{(1, 1) of -1.0}, (TensorConstant{(1, 1) of -2} + Shape_i{1}(C)), TensorConstant{(1, 1) of -2.0}, join(TensorConstant{0}, C[ScalarFromTensor(Elemwise{Composite{(-(i0 % i1))}}(TensorConstant{2}, Shape_i{1}(C))), int64:], C[ScalarFromTensor(Elemwise{Composite{(-(i0 % i1))}}(TensorConstant{2}, Shape_i{1}(C))), int64:int64]), Elemwise{Add}[(0, 1)](TensorConstant{(1, 1) of -1}, Shape_i{1}(C)), TensorConstant{[[ nan]]})\""
      ]
     },
     "execution_count": 54,
     "metadata": {
     },
     "output_type": "execute_result"
    }
   ],
   "source": [
    "pp(Rb_.maker.fgraph.outputs[0])"
   ]
  },
  {
   "cell_type": "markdown",
   "metadata": {
    "collapsed": false
   },
   "source": [
    "### Simulation ###\n",
    "\n",
    "Using the expressions derived above we can generate efficient numerical functions which we use later in determining the motion of a particle in many worlds simultaneously.\n",
    "\n",
    "We use the discrete difference approximation to Poirier's equations above for a numerical simulation of quantum motion in a small number of ``parallel'' worlds."
   ]
  },
  {
   "cell_type": "markdown",
   "metadata": {
    "collapsed": false
   },
   "source": [
    "#### Classical Potential ####\n",
    "\n",
    "Poirier's problem"
   ]
  },
  {
   "cell_type": "code",
   "execution_count": 55,
   "metadata": {
    "collapsed": false
   },
   "outputs": [
   ],
   "source": [
    "alpha,x0,B0,x1=scalars('alpha','x0','B0','x1')\n",
    "poirier={alpha:asarray(2.5,config.floatX),x0:asarray(0.0,config.floatX),B0:asarray(0.0024,config.floatX)}"
   ]
  },
  {
   "cell_type": "code",
   "execution_count": 56,
   "metadata": {
    "collapsed": false
   },
   "outputs": [
   ],
   "source": [
    "# symbolic\n",
    "V = fun(x1) (clone(B0 / cosh(alpha * (x1-x0))**2, poirier))"
   ]
  },
  {
   "cell_type": "code",
   "execution_count": 57,
   "metadata": {
    "collapsed": false
   },
   "outputs": [
   ],
   "source": [
    "xv=vector('xv')\n",
    "V_ = function([xv],V(xv))"
   ]
  },
  {
   "cell_type": "code",
   "execution_count": 58,
   "metadata": {
    "collapsed": false,
    "scrolled": true
   },
   "outputs": [
    {
     "data": {
      "image/png": "[encoded data removed]"
     },
     "execution_count": 58,
     "metadata": {
     },
     "output_type": "execute_result"
    }
   ],
   "source": [
    "plot(arange(-3,3,0.01,config.floatX), V_(arange(-3,3,0.01,config.floatX)))\n",
    "title('Classical Potential')\n",
    "show()"
   ]
  },
  {
   "cell_type": "markdown",
   "metadata": {
    "collapsed": false
   },
   "source": [
    "#### Classical Force ####"
   ]
  },
  {
   "cell_type": "code",
   "execution_count": 59,
   "metadata": {
    "collapsed": false
   },
   "outputs": [
   ],
   "source": [
    "# symbolic gradient\n",
    "Fx = fun(x1) (-grad(V(x1),x1))"
   ]
  },
  {
   "cell_type": "code",
   "execution_count": 60,
   "metadata": {
    "collapsed": false
   },
   "outputs": [
   ],
   "source": [
    "Fx_ = function([xv],Fx(xv))"
   ]
  },
  {
   "cell_type": "code",
   "execution_count": 61,
   "metadata": {
    "collapsed": false
   },
   "outputs": [
    {
     "data": {
      "image/png": "[encoded data removed]"
     },
     "execution_count": 61,
     "metadata": {
     },
     "output_type": "execute_result"
    }
   ],
   "source": [
    "plot(arange(-3,3,0.01,config.floatX), Fx_(arange(-3,3,0.01,config.floatX)))\n",
    "title('Classical Force')\n",
    "xlabel('distance'); ylabel('force')\n",
    "show()"
   ]
  },
  {
   "cell_type": "markdown",
   "metadata": {
    "collapsed": false
   },
   "source": [
    "### Initial Data ###\n",
    "\n",
    "In order to compute the quantum force on the particles in world $n$ we introduce four widely separated fictitious particles in worlds to the left and right to represent open boundary conditions."
   ]
  },
  {
   "cell_type": "markdown",
   "metadata": {
    "collapsed": false
   },
   "source": [
    "For example consider the spatial distribution of a Gaussian ensemble of one particle in  $N$ \"parallel\" worlds."
   ]
  },
  {
   "cell_type": "code",
   "execution_count": 62,
   "metadata": {
    "collapsed": false
   },
   "outputs": [
   ],
   "source": [
    "N = 5000"
   ]
  },
  {
   "cell_type": "markdown",
   "metadata": {
    "collapsed": false
   },
   "source": [
    "#### Spatial Distribution\n",
    "\n",
    "For example consider the spatial distribution of a Gaussian ensemble of one particle in  $N$ ``parallel'' worlds. Everything is in atomic units below, so $\\hbar=1$."
   ]
  },
  {
   "cell_type": "code",
   "execution_count": 63,
   "metadata": {
    "collapsed": false
   },
   "outputs": [
    {
     "data": {
      "text/latex": [
       "$$\\frac{\\alpha^{0.5}}{\\pi^{0.5}} e^{- \\alpha \\left(x_{0} - x_{1}\\right)^{2}}$$"
      ]
     },
     "execution_count": 63,
     "metadata": {
     },
     "output_type": "execute_result"
    }
   ],
   "source": [
    "#from sympy import Abs, Symbol,pi as Pi, I, exp as Exp, integrate, oo, solve, Eq\n",
    "#x = Symbol(\"x\", real=True)\n",
    "alpha = Symbol(\"alpha\", positive=True)\n",
    "x0 = Symbol(\"x0\", real=True)\n",
    "m = Symbol(\"m\", real=True)\n",
    "v = Symbol(\"v\", real=True)\n",
    "x1 = Symbol(\"x1\", real=True)\n",
    "x2 = Symbol(\"x2\", real=True)\n",
    "y1 = Symbol(\"y1\", real=True)\n",
    "model1={m:2000,alpha:0.70,v:0.00164317,x0:-7.0}\n",
    "Wx=Abs((alpha/Pi)**(1/4)*Exp(-(alpha/2)*(x1-x0)**2)*Exp(I*m*v*x1))**2\n",
    "Wx"
   ]
  },
  {
   "cell_type": "code",
   "execution_count": 64,
   "metadata": {
    "collapsed": false
   },
   "outputs": [
    {
     "data": {
      "text/latex": [
       "$$\\frac{0.836660026534076}{\\pi^{0.5}} e^{- 0.7 \\left(- x_{1} - 7.0\\right)^{2}}$$"
      ]
     },
     "execution_count": 64,
     "metadata": {
     },
     "output_type": "execute_result"
    }
   ],
   "source": [
    "Wx.subs(model1)"
   ]
  },
  {
   "cell_type": "code",
   "execution_count": 65,
   "metadata": {
    "collapsed": false
   },
   "outputs": [
   ],
   "source": [
    "W=theano_function([x1],[Wx.subs(model1)], dims={x1: 1}, dtypes={x1: config.floatX})"
   ]
  },
  {
   "cell_type": "markdown",
   "metadata": {
    "collapsed": false
   },
   "source": [
    "We may compute a monotonic uniformizing mapping into this distribution by inverting the cummulative distribution."
   ]
  },
  {
   "cell_type": "code",
   "execution_count": 66,
   "metadata": {
    "collapsed": false
   },
   "outputs": [
    {
     "data": {
      "text/latex": [
       "$$\\frac{1}{2} \\operatorname{erf}{\\left (\\sqrt{\\alpha} \\left(- x_{0} + x_{2}\\right) \\right )} + \\frac{1}{2}$$"
      ]
     },
     "execution_count": 66,
     "metadata": {
     },
     "output_type": "execute_result"
    }
   ],
   "source": [
    "cumWx = integrate(Wx,(x1,-oo,x2)); cumWx"
   ]
  },
  {
   "cell_type": "code",
   "execution_count": 67,
   "metadata": {
    "collapsed": false
   },
   "outputs": [
    {
     "data": {
      "text/latex": [
       "$$x_{0} - \\frac{1}{\\sqrt{\\alpha}} \\operatorname{erfinv}{\\left (- 2 y_{1} + 1 \\right )}$$"
      ]
     },
     "execution_count": 67,
     "metadata": {
     },
     "output_type": "execute_result"
    }
   ],
   "source": [
    "erfinv0=solve(Eq(y1,cumWx),x2)[0]\n",
    "erfinv0"
   ]
  },
  {
   "cell_type": "code",
   "execution_count": 68,
   "metadata": {
    "collapsed": false
   },
   "outputs": [
    {
     "data": {
      "text/latex": [
       "$$- 1.19522860933439 \\operatorname{erfinv}{\\left (- 2 y_{1} + 1 \\right )} - 7.0$$"
      ]
     },
     "execution_count": 68,
     "metadata": {
     },
     "output_type": "execute_result"
    }
   ],
   "source": [
    "erfinv0.subs(model1)"
   ]
  },
  {
   "cell_type": "code",
   "execution_count": 69,
   "metadata": {
    "collapsed": false
   },
   "outputs": [
   ],
   "source": [
    "erfinv1=theano_function([y1],[erfinv0.subs(model1)], dims={y1: 2}, dtypes={y1: config.floatX})"
   ]
  },
  {
   "cell_type": "code",
   "execution_count": 0,
   "metadata": {
    "collapsed": false
   },
   "outputs": [
   ],
   "source": [
   ]
  },
  {
   "cell_type": "code",
   "execution_count": 70,
   "metadata": {
    "collapsed": false
   },
   "outputs": [
   ],
   "source": [
    "crosses=fun(C)(min(Db(C))<0)"
   ]
  },
  {
   "cell_type": "code",
   "execution_count": 71,
   "metadata": {
    "collapsed": false
   },
   "outputs": [
    {
     "data": {
      "text/latex": [
       "$$\\left ( 1, \\quad 5000\\right )$$"
      ]
     },
     "execution_count": 71,
     "metadata": {
     },
     "output_type": "execute_result"
    }
   ],
   "source": [
    "p0 = erfinv1(grid(1,N))\n",
    "p0.shape"
   ]
  },
  {
   "cell_type": "code",
   "execution_count": 72,
   "metadata": {
    "collapsed": false
   },
   "outputs": [
    {
     "data": {
      "text/latex": [
       "$$\\left ( 5000\\right )$$"
      ]
     },
     "execution_count": 72,
     "metadata": {
     },
     "output_type": "execute_result"
    }
   ],
   "source": [
    "D_(p0).shape"
   ]
  },
  {
   "cell_type": "code",
   "execution_count": 73,
   "metadata": {
    "collapsed": false
   },
   "outputs": [
    {
     "data": {
      "text/plain": [
       "array(False, dtype=bool)"
      ]
     },
     "execution_count": 73,
     "metadata": {
     },
     "output_type": "execute_result"
    }
   ],
   "source": [
    "crosses(p0).eval()"
   ]
  },
  {
   "cell_type": "code",
   "execution_count": 74,
   "metadata": {
    "collapsed": false,
    "scrolled": true
   },
   "outputs": [
    {
     "data": {
      "image/png": "[encoded data removed]"
     },
     "execution_count": 74,
     "metadata": {
     },
     "output_type": "execute_result"
    }
   ],
   "source": [
    "figure(figsize=(10,5))\n",
    "plot(p0[0], D_(p0)/N, color='red',label='discrete')\n",
    "plot(p0[0], W(p0[0]), color='blue',label='continuous')\n",
    "legend()\n",
    "title('Probablity Density')\n",
    "xlabel('location'); ylabel('density')\n",
    "show()"
   ]
  },
  {
   "cell_type": "markdown",
   "metadata": {
    "collapsed": false
   },
   "source": [
    "#### Distribution of Velocity ####\n",
    "The particles have an identical initial velocity in each world of"
   ]
  },
  {
   "cell_type": "code",
   "execution_count": 75,
   "metadata": {
    "collapsed": false
   },
   "outputs": [
    {
     "data": {
      "text/latex": [
       "$$\\left ( 1, \\quad 5000\\right )$$"
      ]
     },
     "execution_count": 75,
     "metadata": {
     },
     "output_type": "execute_result"
    }
   ],
   "source": [
    "v0=array([full(N,v.subs(model1),config.floatX)]); v0.shape"
   ]
  },
  {
   "cell_type": "code",
   "execution_count": 76,
   "metadata": {
    "collapsed": false
   },
   "outputs": [
    {
     "data": {
      "image/png": "[encoded data removed]"
     },
     "execution_count": 76,
     "metadata": {
     },
     "output_type": "execute_result"
    }
   ],
   "source": [
    "figure(figsize=(10,5))\n",
    "plot(p0[0], Q2b_(1,[1],p0), color='red')\n",
    "plot(p0[0], W(p0[0]), color='blue')\n",
    "show()"
   ]
  },
  {
   "cell_type": "code",
   "execution_count": 77,
   "metadata": {
    "collapsed": false
   },
   "outputs": [
    {
     "data": {
      "text/latex": [
       "$$\\left ( 1, \\quad 5000\\right )$$"
      ]
     },
     "execution_count": 77,
     "metadata": {
     },
     "output_type": "execute_result"
    }
   ],
   "source": [
    "Rb_(1,[1],p0).shape"
   ]
  },
  {
   "cell_type": "code",
   "execution_count": 78,
   "metadata": {
    "collapsed": false
   },
   "outputs": [
    {
     "data": {
      "image/png": "[encoded data removed]"
     },
     "execution_count": 78,
     "metadata": {
     },
     "output_type": "execute_result"
    }
   ],
   "source": [
    "figure(figsize=(10,5))\n",
    "plot(p0[0], Rb_(1,[1],p0)[0], color='red')\n",
    "plot(p0[0], W(p0[0]), color='blue')\n",
    "show()"
   ]
  },
  {
   "cell_type": "markdown",
   "metadata": {
    "collapsed": false
   },
   "source": [
    "#### Acceleration ####"
   ]
  },
  {
   "cell_type": "code",
   "execution_count": 79,
   "metadata": {
    "collapsed": false
   },
   "outputs": [
   ],
   "source": [
    "def A(hbar,mu,x):\n",
    "    #debound(clone(theano_code(r2),ro,strict=False))\n",
    "    return (1/mu[0])*(Fx(x[0]) + Rb(hbar,mu,x))[0]"
   ]
  },
  {
   "cell_type": "markdown",
   "metadata": {
    "collapsed": false
   },
   "source": [
    "#### Step Size Controller ####\n",
    "Continuous integrating step size controller \\cite{hairer2005}"
   ]
  },
  {
   "cell_type": "code",
   "execution_count": 162,
   "metadata": {
    "collapsed": false
   },
   "outputs": [
   ],
   "source": [
    "def G(a,v):\n",
    "    alpha = 0.0 # sensitivity\n",
    "    eps = 1e-12\n",
    "    g1 = sum(a*v)\n",
    "    g2 = sum(v*v)\n",
    "    return switch(eq(g2,0),1/eps,-alpha*g1/g2)"
   ]
  },
  {
   "cell_type": "markdown",
   "metadata": {
    "collapsed": false
   },
   "source": [
    "#### Integration ####\n",
    "Integrate using the Störmer–Verlet algorithm with adaptive step size."
   ]
  },
  {
   "cell_type": "code",
   "execution_count": 163,
   "metadata": {
    "collapsed": false
   },
   "outputs": [
   ],
   "source": [
    "mu = array([2000.0])  # mass\n",
    "hbar = 1.0  # Planck's constant"
   ]
  },
  {
   "cell_type": "code",
   "execution_count": 164,
   "metadata": {
    "collapsed": false
   },
   "outputs": [
   ],
   "source": [
    "rho = shared(asarray(1.0, config.floatX))\n",
    "ds = scalar()\n",
    "dt = ds/rho\n",
    "t = shared(asarray(0.0, config.floatX))\n",
    "x = shared(p0)"
   ]
  },
  {
   "cell_type": "code",
   "execution_count": 165,
   "metadata": {
    "collapsed": false
   },
   "outputs": [
   ],
   "source": [
    "a0 = A(hbar,mu,x).eval()"
   ]
  },
  {
   "cell_type": "code",
   "execution_count": 166,
   "metadata": {
    "collapsed": false,
    "scrolled": true
   },
   "outputs": [
   ],
   "source": [
    "a = shared(a0)\n",
    "v = shared(v0)\n",
    "x_new = x+v*dt+0.5*a*dt**2\n",
    "a_new = A(hbar,mu,x_new)\n",
    "v_new = v+0.5*a*dt+0.5*a_new*dt"
   ]
  },
  {
   "cell_type": "code",
   "execution_count": 167,
   "metadata": {
    "collapsed": false
   },
   "outputs": [
   ],
   "source": [
    "VerletStep = function([ds],t, updates=[\n",
    "    (rho, rho + G(a,v)*dt ),\n",
    "    (x, x_new ),\n",
    "    (v, v_new ),\n",
    "    (a, a_new ),\n",
    "    (t, t + dt)\n",
    "],allow_input_downcast=True)"
   ]
  },
  {
   "cell_type": "markdown",
   "metadata": {
    "collapsed": false
   },
   "source": [
    "#### Energy ####"
   ]
  },
  {
   "cell_type": "code",
   "execution_count": 168,
   "metadata": {
    "collapsed": false
   },
   "outputs": [
   ],
   "source": [
    "KU1 = 0.5*mu[0]*sum(v*v)  # total kinetic energy\n",
    "PU1 = sum(V(x[0]))             # total classical potential\n",
    "QU1 = sum(Q2b(hbar,mu,x))            # total quantum potential\n",
    "E_ = function([],[KU1,PU1,QU1])"
   ]
  },
  {
   "cell_type": "code",
   "execution_count": 169,
   "metadata": {
    "collapsed": false
   },
   "outputs": [
    {
     "data": {
      "text/plain": [
       "[array(13.500038244500788),\n",
       " array(9.598058652348208e-11),\n",
       " array(0.43745617479016785)]"
      ]
     },
     "execution_count": 169,
     "metadata": {
     },
     "output_type": "execute_result"
    }
   ],
   "source": [
    "E_()"
   ]
  },
  {
   "cell_type": "code",
   "execution_count": 170,
   "metadata": {
    "collapsed": false
   },
   "outputs": [
   ],
   "source": [
    "crossing=function([],crosses(x))"
   ]
  },
  {
   "cell_type": "code",
   "execution_count": 171,
   "metadata": {
    "collapsed": false
   },
   "outputs": [
   ],
   "source": [
    "t_start = 0.0; t_end = 10000.0;\n",
    "\n",
    "t_samples = 100; x_samples = 100\n",
    "t_sample = t_end/t_samples\n",
    "x_sample = __builtin__.max(1,int(N)//int(x_samples))\n",
    "x_start = __builtin__.max(0,int(N-x_samples*x_sample)//int(2))\n",
    "XS = array(range(x_start,N-x_start-1,x_sample))\n",
    "\n",
    "#ds0 = 0.01 # N=1000 # initial step size\n",
    "ds0 = 0.000175 # N=5000\n",
    "#ds0 =  0.00008 # 0.0000001 # N=10000\n",
    "#ds0 =  0.0000008 # 0.0000001 # N=100000\n",
    "dsn = 1 # initial step size divider"
   ]
  },
  {
   "cell_type": "code",
   "execution_count": 172,
   "metadata": {
    "collapsed": false
   },
   "outputs": [
   ],
   "source": [
    "from theano.tensor import isnan,any"
   ]
  },
  {
   "cell_type": "code",
   "execution_count": 173,
   "metadata": {
    "collapsed": false
   },
   "outputs": [
   ],
   "source": [
    "checkxnan=function([],any(isnan(x)))\n",
    "checkvnan=function([],any(isnan(v)))\n",
    "checkanan=function([],any(isnan(a)))"
   ]
  },
  {
   "cell_type": "code",
   "execution_count": 174,
   "metadata": {
    "collapsed": false
   },
   "outputs": [
   ],
   "source": [
    "if checkanan(): print(\"a NaN\")\n",
    "if checkvnan(): print(\"v NaN\")\n",
    "if checkxnan(): print(\"x NaN\")"
   ]
  },
  {
   "cell_type": "code",
   "execution_count": 175,
   "metadata": {
    "collapsed": false,
    "scrolled": true
   },
   "outputs": [
    {
     "name": "stdout",
     "output_type": "stream",
     "text": [
      "t = 100.00025 t1 = 100.0 rho = 1.0 Delta E = -1.44240175359e-12\n"
     ]
    },
    {
     "name": "stdout",
     "output_type": "stream",
     "text": [
      "t = 200.000499999 t1 = 200.00025 rho = 1.0 Delta E = -1.81366033303e-12\n"
     ]
    },
    {
     "name": "stdout",
     "output_type": "stream",
     "text": [
      "t = 300.000750002 t1 = 300.000499999 rho = 1.0 Delta E = -2.6645352591e-12\n"
     ]
    },
    {
     "name": "stdout",
     "output_type": "stream",
     "text": [
      "t = 400.001000009 t1 = 400.000750002 rho = 1.0 Delta E = -2.24709140184e-12\n"
     ]
    },
    {
     "name": "stdout",
     "output_type": "stream",
     "text": [
      "t = 500.001250016 t1 = 500.001000009 rho = 1.0 Delta E = -1.66267000168e-12\n"
     ]
    },
    {
     "name": "stdout",
     "output_type": "stream",
     "text": [
      "t = 600.001500024 t1 = 600.001250016 rho = 1.0 Delta E = -1.54543045028e-12\n"
     ]
    },
    {
     "name": "stdout",
     "output_type": "stream",
     "text": [
      "t = 700.001750031 t1 = 700.001500024 rho = 1.0 Delta E = -1.45483625147e-12\n"
     ]
    },
    {
     "name": "stdout",
     "output_type": "stream",
     "text": [
      "t = 800.002000039 t1 = 800.001750031 rho = 1.0 Delta E = -1.27897692437e-12\n"
     ]
    },
    {
     "name": "stdout",
     "output_type": "stream",
     "text": [
      "t = 900.002250046 t1 = 900.002000039 rho = 1.0 Delta E = -1.03383968053e-12\n"
     ]
    },
    {
     "name": "stdout",
     "output_type": "stream",
     "text": [
      "t = 1000.00250005 t1 = 1000.00225005 rho = 1.0 Delta E = -1.11732845198e-12\n"
     ]
    },
    {
     "name": "stdout",
     "output_type": "stream",
     "text": [
      "t = 1100.00275006 t1 = 1100.00250005 rho = 1.0 Delta E = -1.20259358027e-12\n"
     ]
    },
    {
     "name": "stdout",
     "output_type": "stream",
     "text": [
      "t = 1200.00300007 t1 = 1200.00275006 rho = 1.0 Delta E = -7.92255150373e-13\n"
     ]
    },
    {
     "name": "stdout",
     "output_type": "stream",
     "text": [
      "t = 1300.00325008 t1 = 1300.00300007 rho = 1.0 Delta E = -1.42819089888e-12\n"
     ]
    },
    {
     "name": "stdout",
     "output_type": "stream",
     "text": [
      "t = 1400.00350008 t1 = 1400.00325008 rho = 1.0 Delta E = -7.35411731512e-13\n"
     ]
    },
    {
     "name": "stdout",
     "output_type": "stream",
     "text": [
      "t = 1500.00375009 t1 = 1500.00350008 rho = 1.0 Delta E = -6.53699316899e-13\n"
     ]
    },
    {
     "name": "stdout",
     "output_type": "stream",
     "text": [
      "t = 1600.0040001 t1 = 1600.00375009 rho = 1.0 Delta E = -8.33111357679e-13\n"
     ]
    },
    {
     "name": "stdout",
     "output_type": "stream",
     "text": [
      "t = 1700.0042501 t1 = 1700.0040001 rho = 1.0 Delta E = -3.67705865756e-13\n"
     ]
    },
    {
     "name": "stdout",
     "output_type": "stream",
     "text": [
      "t = 1800.00450011 t1 = 1800.0042501 rho = 1.0 Delta E = -5.3290705182e-13\n"
     ]
    },
    {
     "name": "stdout",
     "output_type": "stream",
     "text": [
      "t = 1900.00475012 t1 = 1900.00450011 rho = 1.0 Delta E = -6.09290395914e-13\n"
     ]
    },
    {
     "name": "stdout",
     "output_type": "stream",
     "text": [
      "t = 2000.00500013 t1 = 2000.00475012 rho = 1.0 Delta E = 5.68434188608e-14\n"
     ]
    },
    {
     "name": "stdout",
     "output_type": "stream",
     "text": [
      "t = 2100.0052501 t1 = 2100.00500013 rho = 1.0 Delta E = -3.39284156325e-13\n"
     ]
    },
    {
     "name": "stdout",
     "output_type": "stream",
     "text": [
      "t = 2200.00550004 t1 = 2200.0052501 rho = 1.0 Delta E = -8.34887714518e-14\n"
     ]
    },
    {
     "name": "stdout",
     "output_type": "stream",
     "text": [
      "t = 2300.00574999 t1 = 2300.00550004 rho = 1.0 Delta E = -1.20792265079e-13\n"
     ]
    },
    {
     "name": "stdout",
     "output_type": "stream",
     "text": [
      "t = 2400.00599993 t1 = 2400.00574999 rho = 1.0 Delta E = -7.28306304154e-14\n"
     ]
    },
    {
     "name": "stdout",
     "output_type": "stream",
     "text": [
      "t = 2500.00624987 t1 = 2500.00599993 rho = 1.0 Delta E = -1.06581410364e-13\n"
     ]
    },
    {
     "name": "stdout",
     "output_type": "stream",
     "text": [
      "t = 2600.00649981 t1 = 2600.00624987 rho = 1.0 Delta E = -1.95399252334e-13\n"
     ]
    },
    {
     "name": "stdout",
     "output_type": "stream",
     "text": [
      "t = 2700.00674976 t1 = 2700.00649981 rho = 1.0 Delta E = -6.57252030578e-14\n"
     ]
    },
    {
     "name": "stdout",
     "output_type": "stream",
     "text": [
      "t = 2800.0069997 t1 = 2800.00674976 rho = 1.0 Delta E = 1.06581410364e-13\n"
     ]
    },
    {
     "name": "stdout",
     "output_type": "stream",
     "text": [
      "t = 2900.00724964 t1 = 2900.0069997 rho = 1.0 Delta E = -1.63424829225e-13\n"
     ]
    },
    {
     "name": "stdout",
     "output_type": "stream",
     "text": [
      "t = 3000.00749958 t1 = 3000.00724964 rho = 1.0 Delta E = 5.68434188608e-14\n"
     ]
    },
    {
     "name": "stdout",
     "output_type": "stream",
     "text": [
      "t = 3100.00774952 t1 = 3100.00749958 rho = 1.0 Delta E = -4.08562073062e-14\n"
     ]
    },
    {
     "name": "stdout",
     "output_type": "stream",
     "text": [
      "t = 3200.00799947 t1 = 3200.00774952 rho = 1.0 Delta E = 8.34887714518e-14\n"
     ]
    },
    {
     "name": "stdout",
     "output_type": "stream",
     "text": [
      "t = 3300.00824941 t1 = 3300.00799947 rho = 1.0 Delta E = -9.23705556488e-14\n"
     ]
    },
    {
     "name": "stdout",
     "output_type": "stream",
     "text": [
      "t = 3400.00849935 t1 = 3400.00824941 rho = 1.0 Delta E = 5.15143483426e-14\n"
     ]
    },
    {
     "name": "stdout",
     "output_type": "stream",
     "text": [
      "t = 3500.00874929 t1 = 3500.00849935 rho = 1.0 Delta E = 2.84217094304e-14\n"
     ]
    },
    {
     "name": "stdout",
     "output_type": "stream",
     "text": [
      "t = 3600.00899924 t1 = 3600.00874929 rho = 1.0 Delta E = 9.41469124882e-14\n"
     ]
    },
    {
     "name": "stdout",
     "output_type": "stream",
     "text": [
      "t = 3700.00924918 t1 = 3700.00899924 rho = 1.0 Delta E = 1.01252339846e-13\n"
     ]
    },
    {
     "name": "stdout",
     "output_type": "stream",
     "text": [
      "t = 3800.00949912 t1 = 3800.00924918 rho = 1.0 Delta E = -1.13686837722e-13\n"
     ]
    },
    {
     "name": "stdout",
     "output_type": "stream",
     "text": [
      "a NaN\n",
      "Trying a shorter initial step size: 0.000175.\n"
     ]
    },
    {
     "name": "stdout",
     "output_type": "stream",
     "text": [
      "t = 100.000074999 t1 = 100.0 rho = 1.0 Delta E = 9.96536186904e-13\n"
     ]
    },
    {
     "name": "stdout",
     "output_type": "stream",
     "text": [
      "t = 200.000150004 t1 = 200.000074999 rho = 1.0 Delta E = 4.68958205602e-13\n"
     ]
    },
    {
     "name": "stdout",
     "output_type": "stream",
     "text": [
      "t = 300.000225012 t1 = 300.000150004 rho = 1.0 Delta E = -6.37356833977e-12\n"
     ]
    },
    {
     "name": "stdout",
     "output_type": "stream",
     "text": [
      "t = 400.000300019 t1 = 400.000225012 rho = 1.0 Delta E = -2.03570493795e-12\n"
     ]
    },
    {
     "name": "stdout",
     "output_type": "stream",
     "text": [
      "t = 500.000375027 t1 = 500.000300019 rho = 1.0 Delta E = -6.10533845702e-12\n"
     ]
    },
    {
     "name": "stdout",
     "output_type": "stream",
     "text": [
      "t = 600.000450034 t1 = 600.000375027 rho = 1.0 Delta E = -4.1389114358e-12\n"
     ]
    },
    {
     "name": "stdout",
     "output_type": "stream",
     "text": [
      "t = 700.000525041 t1 = 700.000450034 rho = 1.0 Delta E = -2.71072053692e-12\n"
     ]
    },
    {
     "name": "stdout",
     "output_type": "stream",
     "text": [
      "t = 800.000600049 t1 = 800.000525041 rho = 1.0 Delta E = -1.92201810023e-12\n"
     ]
    },
    {
     "name": "stdout",
     "output_type": "stream",
     "text": [
      "t = 900.000675056 t1 = 900.000600049 rho = 1.0 Delta E = -1.21502807815e-12\n"
     ]
    },
    {
     "name": "stdout",
     "output_type": "stream",
     "text": [
      "t = 1000.00075006 t1 = 1000.00067506 rho = 1.0 Delta E = -1.66267000168e-12\n"
     ]
    },
    {
     "name": "stdout",
     "output_type": "stream",
     "text": [
      "t = 1100.00082502 t1 = 1100.00075006 rho = 1.0 Delta E = -1.72306613422e-12\n"
     ]
    },
    {
     "name": "stdout",
     "output_type": "stream",
     "text": [
      "t = 1200.00089996 t1 = 1200.00082502 rho = 1.0 Delta E = -7.49622586227e-13\n"
     ]
    },
    {
     "name": "stdout",
     "output_type": "stream",
     "text": [
      "t = 1300.00097491 t1 = 1300.00089996 rho = 1.0 Delta E = -2.14939177567e-12\n"
     ]
    },
    {
     "name": "stdout",
     "output_type": "stream",
     "text": [
      "t = 1400.00104985 t1 = 1400.00097491 rho = 1.0 Delta E = -2.10143014101e-12\n"
     ]
    },
    {
     "name": "stdout",
     "output_type": "stream",
     "text": [
      "t = 1500.00112479 t1 = 1500.00104985 rho = 1.0 Delta E = -2.14761541883e-12\n"
     ]
    },
    {
     "name": "stdout",
     "output_type": "stream",
     "text": [
      "t = 1600.00119973 t1 = 1600.00112479 rho = 1.0 Delta E = -2.4389379405e-12\n"
     ]
    },
    {
     "name": "stdout",
     "output_type": "stream",
     "text": [
      "t = 1700.00127468 t1 = 1700.00119973 rho = 1.0 Delta E = -1.33937305691e-12\n"
     ]
    },
    {
     "name": "stdout",
     "output_type": "stream",
     "text": [
      "t = 1800.00134962 t1 = 1800.00127468 rho = 1.0 Delta E = -7.24753590475e-13\n"
     ]
    },
    {
     "name": "stdout",
     "output_type": "stream",
     "text": [
      "t = 1900.00142456 t1 = 1900.00134962 rho = 1.0 Delta E = -9.68114477473e-13\n"
     ]
    },
    {
     "name": "stdout",
     "output_type": "stream",
     "text": [
      "t = 2000.0014995 t1 = 2000.00142456 rho = 1.0 Delta E = -6.73239242133e-13\n"
     ]
    },
    {
     "name": "stdout",
     "output_type": "stream",
     "text": [
      "t = 2100.00157451 t1 = 2100.0014995 rho = 1.0 Delta E = -1.1137757383e-12\n"
     ]
    },
    {
     "name": "stdout",
     "output_type": "stream",
     "text": [
      "t = 2200.00164959 t1 = 2200.00157451 rho = 1.0 Delta E = 1.50990331349e-13\n"
     ]
    },
    {
     "name": "stdout",
     "output_type": "stream",
     "text": [
      "t = 2300.00172466 t1 = 2300.00164959 rho = 1.0 Delta E = -9.16600129131e-13\n"
     ]
    },
    {
     "name": "stdout",
     "output_type": "stream",
     "text": [
      "t = 2400.00179973 t1 = 2400.00172466 rho = 1.0 Delta E = -1.15285558877e-12\n"
     ]
    },
    {
     "name": "stdout",
     "output_type": "stream",
     "text": [
      "t = 2500.0018748 t1 = 2500.00179973 rho = 1.0 Delta E = -5.09814412908e-13\n"
     ]
    },
    {
     "name": "stdout",
     "output_type": "stream",
     "text": [
      "t = 2600.00194987 t1 = 2600.0018748 rho = 1.0 Delta E = -6.89226453687e-13\n"
     ]
    },
    {
     "name": "stdout",
     "output_type": "stream",
     "text": [
      "t = 2700.00202495 t1 = 2700.00194987 rho = 1.0 Delta E = -1.82431847406e-12\n"
     ]
    },
    {
     "name": "stdout",
     "output_type": "stream",
     "text": [
      "t = 2800.00210002 t1 = 2800.00202495 rho = 1.0 Delta E = 1.86517468137e-13\n"
     ]
    },
    {
     "name": "stdout",
     "output_type": "stream",
     "text": [
      "t = 2900.00217509 t1 = 2900.00210002 rho = 1.0 Delta E = -7.56728013585e-13\n"
     ]
    },
    {
     "name": "stdout",
     "output_type": "stream",
     "text": [
      "t = 3000.00225016 t1 = 3000.00217509 rho = 1.0 Delta E = 0.0\n"
     ]
    },
    {
     "name": "stdout",
     "output_type": "stream",
     "text": [
      "t = 3100.00232524 t1 = 3100.00225016 rho = 1.0 Delta E = -5.08038056068e-13\n"
     ]
    },
    {
     "name": "stdout",
     "output_type": "stream",
     "text": [
      "t = 3200.00240031 t1 = 3200.00232524 rho = 1.0 Delta E = -9.55679979597e-13\n"
     ]
    },
    {
     "name": "stdout",
     "output_type": "stream",
     "text": [
      "t = 3300.00247538 t1 = 3300.00240031 rho = 1.0 Delta E = 3.57047724719e-13\n"
     ]
    },
    {
     "name": "stdout",
     "output_type": "stream",
     "text": [
      "t = 3400.00255045 t1 = 3400.00247538 rho = 1.0 Delta E = -2.27373675443e-13\n"
     ]
    },
    {
     "name": "stdout",
     "output_type": "stream",
     "text": [
      "t = 3500.00262553 t1 = 3500.00255045 rho = 1.0 Delta E = -8.881784197e-14\n"
     ]
    },
    {
     "name": "stdout",
     "output_type": "stream",
     "text": [
      "t = 3600.0027006 t1 = 3600.00262553 rho = 1.0 Delta E = 2.3625545964e-13\n"
     ]
    },
    {
     "name": "stdout",
     "output_type": "stream",
     "text": [
      "t = 3700.00277567 t1 = 3700.0027006 rho = 1.0 Delta E = 4.61852778244e-14\n"
     ]
    },
    {
     "name": "stdout",
     "output_type": "stream",
     "text": [
      "t = 3800.00285074 t1 = 3800.00277567 rho = 1.0 Delta E = -1.61648472385e-13\n"
     ]
    },
    {
     "name": "stdout",
     "output_type": "stream",
     "text": [
      "t = 3900.00292582 t1 = 3900.00285074 rho = 1.0 Delta E = -2.39808173319e-13\n"
     ]
    },
    {
     "name": "stdout",
     "output_type": "stream",
     "text": [
      "t = 4000.00300089 t1 = 4000.00292582 rho = 1.0 Delta E = -2.98427949019e-13\n"
     ]
    },
    {
     "name": "stdout",
     "output_type": "stream",
     "text": [
      "t = 4100.00307596 t1 = 4100.00300089 rho = 1.0 Delta E = -2.85993451143e-13\n"
     ]
    },
    {
     "name": "stdout",
     "output_type": "stream",
     "text": [
      "t = 4200.00315103 t1 = 4200.00307596 rho = 1.0 Delta E = 8.34887714518e-13\n"
     ]
    },
    {
     "name": "stdout",
     "output_type": "stream",
     "text": [
      "t = 4300.0032261 t1 = 4300.00315103 rho = 1.0 Delta E = -5.34683408659e-13\n"
     ]
    },
    {
     "name": "stdout",
     "output_type": "stream",
     "text": [
      "t = 4400.00330118 t1 = 4400.0032261 rho = 1.0 Delta E = 7.9936057773e-13\n"
     ]
    },
    {
     "name": "stdout",
     "output_type": "stream",
     "text": [
      "t = 4500.00337625 t1 = 4500.00330118 rho = 1.0 Delta E = 3.00204305859e-13\n"
     ]
    },
    {
     "name": "stdout",
     "output_type": "stream",
     "text": [
      "t = 4600.00345132 t1 = 4600.00337625 rho = 1.0 Delta E = 1.00719432794e-12\n"
     ]
    },
    {
     "name": "stdout",
     "output_type": "stream",
     "text": [
      "t = 4700.00352639 t1 = 4700.00345132 rho = 1.0 Delta E = 5.57776047572e-13\n"
     ]
    },
    {
     "name": "stdout",
     "output_type": "stream",
     "text": [
      "t = 4800.00360147 t1 = 4800.00352639 rho = 1.0 Delta E = 1.05337960576e-12\n"
     ]
    },
    {
     "name": "stdout",
     "output_type": "stream",
     "text": [
      "t = 4900.00367654 t1 = 4900.00360147 rho = 1.0 Delta E = 1.94173566115e-11\n"
     ]
    },
    {
     "name": "stdout",
     "output_type": "stream",
     "text": [
      "t = 5000.00375161 t1 = 5000.00367654 rho = 1.0 Delta E = 1.04789066313e-10\n"
     ]
    },
    {
     "name": "stdout",
     "output_type": "stream",
     "text": [
      "t = 5100.00382668 t1 = 5100.00375161 rho = 1.0 Delta E = 3.14267722956e-10\n"
     ]
    },
    {
     "name": "stdout",
     "output_type": "stream",
     "text": [
      "t = 5200.00390176 t1 = 5200.00382668 rho = 1.0 Delta E = 1.99817051794e-10\n"
     ]
    },
    {
     "name": "stdout",
     "output_type": "stream",
     "text": [
      "t = 5300.00397683 t1 = 5300.00390176 rho = 1.0 Delta E = 1.15997167427e-09\n"
     ]
    },
    {
     "name": "stdout",
     "output_type": "stream",
     "text": [
      "t = 5400.0040519 t1 = 5400.00397683 rho = 1.0 Delta E = 1.49919188175e-09\n"
     ]
    },
    {
     "name": "stdout",
     "output_type": "stream",
     "text": [
      "t = 5500.00412697 t1 = 5500.0040519 rho = 1.0 Delta E = 2.21034035519e-09\n"
     ]
    },
    {
     "name": "stdout",
     "output_type": "stream",
     "text": [
      "t = 5600.00420205 t1 = 5600.00412697 rho = 1.0 Delta E = 1.18603793453e-10\n"
     ]
    },
    {
     "name": "stdout",
     "output_type": "stream",
     "text": [
      "t = 5700.00427712 t1 = 5700.00420205 rho = 1.0 Delta E = 1.70371627917e-09\n"
     ]
    },
    {
     "name": "stdout",
     "output_type": "stream",
     "text": [
      "t = 5800.00435219 t1 = 5800.00427712 rho = 1.0 Delta E = 2.36945929544e-09\n"
     ]
    },
    {
     "name": "stdout",
     "output_type": "stream",
     "text": [
      "t = 5900.00442726 t1 = 5900.00435219 rho = 1.0 Delta E = -3.51965567802e-10\n"
     ]
    },
    {
     "name": "stdout",
     "output_type": "stream",
     "text": [
      "t = 6000.00450233 t1 = 6000.00442726 rho = 1.0 Delta E = 1.66645008903e-09\n"
     ]
    },
    {
     "name": "stdout",
     "output_type": "stream",
     "text": [
      "t = 6100.00457741 t1 = 6100.00450233 rho = 1.0 Delta E = -7.57864881962e-11\n"
     ]
    },
    {
     "name": "stdout",
     "output_type": "stream",
     "text": [
      "t = 6200.00465248 t1 = 6200.00457741 rho = 1.0 Delta E = 1.06980557746e-09\n"
     ]
    },
    {
     "name": "stdout",
     "output_type": "stream",
     "text": [
      "t = 6300.00472755 t1 = 6300.00465248 rho = 1.0 Delta E = -2.57702836848e-09\n"
     ]
    },
    {
     "name": "stdout",
     "output_type": "stream",
     "text": [
      "t = 6400.00480262 t1 = 6400.00472755 rho = 1.0 Delta E = 3.77225184423e-09\n"
     ]
    },
    {
     "name": "stdout",
     "output_type": "stream",
     "text": [
      "t = 6500.0048777 t1 = 6500.00480262 rho = 1.0 Delta E = -3.99078636804e-09\n"
     ]
    },
    {
     "name": "stdout",
     "output_type": "stream",
     "text": [
      "t = 6600.00495277 t1 = 6600.0048777 rho = 1.0 Delta E = 6.99932556358e-10\n"
     ]
    },
    {
     "name": "stdout",
     "output_type": "stream",
     "text": [
      "t = 6700.00502784 t1 = 6700.00495277 rho = 1.0 Delta E = 2.61588617434e-09\n"
     ]
    },
    {
     "name": "stdout",
     "output_type": "stream",
     "text": [
      "t = 6800.00510291 t1 = 6800.00502784 rho = 1.0 Delta E = -1.62451740948e-09\n"
     ]
    },
    {
     "name": "stdout",
     "output_type": "stream",
     "text": [
      "t = 6900.00517799 t1 = 6900.00510291 rho = 1.0 Delta E = 2.10645900722e-09\n"
     ]
    },
    {
     "name": "stdout",
     "output_type": "stream",
     "text": [
      "t = 7000.00525306 t1 = 7000.00517799 rho = 1.0 Delta E = 9.80502790071e-10\n"
     ]
    },
    {
     "name": "stdout",
     "output_type": "stream",
     "text": [
      "t = 7100.00532813 t1 = 7100.00525306 rho = 1.0 Delta E = 1.52931889374e-10\n"
     ]
    },
    {
     "name": "stdout",
     "output_type": "stream",
     "text": [
      "t = 7200.0054032 t1 = 7200.00532813 rho = 1.0 Delta E = -1.11625020338e-09\n"
     ]
    },
    {
     "name": "stdout",
     "output_type": "stream",
     "text": [
      "t = 7300.00547828 t1 = 7300.0054032 rho = 1.0 Delta E = -7.60877583161e-10\n"
     ]
    },
    {
     "name": "stdout",
     "output_type": "stream",
     "text": [
      "t = 7400.00555335 t1 = 7400.00547828 rho = 1.0 Delta E = 9.47835587795e-10\n"
     ]
    },
    {
     "name": "stdout",
     "output_type": "stream",
     "text": [
      "t = 7500.00562842 t1 = 7500.00555335 rho = 1.0 Delta E = -1.59288049417e-09\n"
     ]
    },
    {
     "name": "stdout",
     "output_type": "stream",
     "text": [
      "t = 7600.00570349 t1 = 7600.00562842 rho = 1.0 Delta E = 4.69530192504e-10\n"
     ]
    },
    {
     "name": "stdout",
     "output_type": "stream",
     "text": [
      "t = 7700.00577856 t1 = 7700.00570349 rho = 1.0 Delta E = -2.74392419897e-09\n"
     ]
    },
    {
     "name": "stdout",
     "output_type": "stream",
     "text": [
      "t = 7800.00585364 t1 = 7800.00577856 rho = 1.0 Delta E = 1.63287516841e-09\n"
     ]
    },
    {
     "name": "stdout",
     "output_type": "stream",
     "text": [
      "t = 7900.00592871 t1 = 7900.00585364 rho = 1.0 Delta E = -6.35758112821e-11\n"
     ]
    },
    {
     "name": "stdout",
     "output_type": "stream",
     "text": [
      "t = 8000.00600378 t1 = 8000.00592871 rho = 1.0 Delta E = -3.7117686702e-10\n"
     ]
    },
    {
     "name": "stdout",
     "output_type": "stream",
     "text": [
      "t = 8100.00607885 t1 = 8100.00600378 rho = 1.0 Delta E = 8.52086401437e-10\n"
     ]
    },
    {
     "name": "stdout",
     "output_type": "stream",
     "text": [
      "t = 8200.00615388 t1 = 8200.00607885 rho = 1.0 Delta E = -2.87384516184e-09\n"
     ]
    },
    {
     "name": "stdout",
     "output_type": "stream",
     "text": [
      "t = 8300.00622844 t1 = 8300.00615388 rho = 1.0 Delta E = -1.00172137252e-09\n"
     ]
    },
    {
     "name": "stdout",
     "output_type": "stream",
     "text": [
      "t = 8400.00630299 t1 = 8400.00622844 rho = 1.0 Delta E = 7.98342725261e-10\n"
     ]
    },
    {
     "name": "stdout",
     "output_type": "stream",
     "text": [
      "t = 8500.00637754 t1 = 8500.00630299 rho = 1.0 Delta E = 6.8842709311e-10\n"
     ]
    },
    {
     "name": "stdout",
     "output_type": "stream",
     "text": [
      "t = 8600.0064521 t1 = 8600.00637754 rho = 1.0 Delta E = -4.99490226957e-10\n"
     ]
    },
    {
     "name": "stdout",
     "output_type": "stream",
     "text": [
      "t = 8700.00652665 t1 = 8700.0064521 rho = 1.0 Delta E = -7.37855998523e-10\n"
     ]
    },
    {
     "name": "stdout",
     "output_type": "stream",
     "text": [
      "t = 8800.0066012 t1 = 8800.00652665 rho = 1.0 Delta E = -1.25422516817e-09\n"
     ]
    },
    {
     "name": "stdout",
     "output_type": "stream",
     "text": [
      "t = 8900.00667575 t1 = 8900.0066012 rho = 1.0 Delta E = 1.76024528287e-10\n"
     ]
    },
    {
     "name": "stdout",
     "output_type": "stream",
     "text": [
      "t = 9000.00675031 t1 = 9000.00667575 rho = 1.0 Delta E = -2.92429191973e-10\n"
     ]
    },
    {
     "name": "stdout",
     "output_type": "stream",
     "text": [
      "t = 9100.00682486 t1 = 9100.00675031 rho = 1.0 Delta E = -5.55306911565e-10\n"
     ]
    },
    {
     "name": "stdout",
     "output_type": "stream",
     "text": [
      "t = 9200.00689941 t1 = 9200.00682486 rho = 1.0 Delta E = -3.65917074419e-10\n"
     ]
    },
    {
     "name": "stdout",
     "output_type": "stream",
     "text": [
      "t = 9300.00697396 t1 = 9300.00689941 rho = 1.0 Delta E = 1.05599085032e-10\n"
     ]
    },
    {
     "name": "stdout",
     "output_type": "stream",
     "text": [
      "t = 9400.00704852 t1 = 9400.00697396 rho = 1.0 Delta E = -8.20516987687e-10\n"
     ]
    },
    {
     "name": "stdout",
     "output_type": "stream",
     "text": [
      "t = 9500.00712307 t1 = 9500.00704852 rho = 1.0 Delta E = 6.91708024192e-10\n"
     ]
    },
    {
     "name": "stdout",
     "output_type": "stream",
     "text": [
      "t = 9600.00719762 t1 = 9600.00712307 rho = 1.0 Delta E = -1.04058095474e-09\n"
     ]
    },
    {
     "name": "stdout",
     "output_type": "stream",
     "text": [
      "t = 9700.00727217 t1 = 9700.00719762 rho = 1.0 Delta E = 3.06259906324e-10\n"
     ]
    },
    {
     "name": "stdout",
     "output_type": "stream",
     "text": [
      "t = 9800.00734673 t1 = 9800.00727217 rho = 1.0 Delta E = -9.12304898293e-10\n"
     ]
    },
    {
     "name": "stdout",
     "output_type": "stream",
     "text": [
      "t = 9900.00742128 t1 = 9900.00734673 rho = 1.0 Delta E = 6.76745770534e-10\n"
     ]
    },
    {
     "name": "stdout",
     "output_type": "stream",
     "text": [
      "t = 10000.0074958 t1 = 10000.0074213 rho = 1.0 Delta E = -7.91617438267e-10\n"
     ]
    },
    {
     "name": "stdout",
     "output_type": "stream",
     "text": [
      "t = 10000.0074958\n"
     ]
    }
   ],
   "source": [
    "while True:\n",
    "    try: # step size\n",
    "        ds = ds0/dsn\n",
    "        # initial values\n",
    "        rho0 = 1.0\n",
    "        rho.set_value(rho0)\n",
    "        t.set_value(t_start)\n",
    "        x.set_value(p0)\n",
    "        v.set_value(v0)\n",
    "        a.set_value(a0)\n",
    "        # recording\n",
    "        T = [t_start]\n",
    "        Rho = select({t_start:rho.get_value().item()})\n",
    "        XX = select({t_start:x.get_value()[0][XS]})\n",
    "        XV = select({t_start:v.get_value()[0][XS]})\n",
    "        [KK,PP,QQ] = E_()\n",
    "        E1 = KK+PP+QQ  # total energy\n",
    "        TK = select({t_start:KK})\n",
    "        TP = select({t_start:PP})\n",
    "        TQ = select({t_start:QQ})\n",
    "        E = select({t_start:E1})\n",
    "        \n",
    "        try:\n",
    "            t0 = t_start\n",
    "            while t0<t_end:\n",
    "                t1 = t0 + t_sample\n",
    "                while t0<t1:\n",
    "                    rho0 = rho.get_value().item()\n",
    "                    if rho0 > 100 or rho0 < 0.01:\n",
    "                        raise ValueError(\"Step control failed at %s. rho=%s\"%(t0,rho0))\n",
    "                    t0 = VerletStep(ds).item()\n",
    "                    if checkanan(): raise ValueError(\"a NaN\")\n",
    "                if checkvnan(): raise ValueError(\"v NaN\")\n",
    "                if checkxnan(): raise ValueError(\"x NaN\")\n",
    "                # Check no-crossing\n",
    "                if crossing()<0:\n",
    "                    raise ValueError(\"crossing at %s\",t)\n",
    "                # Check total energy conservation\n",
    "                [KK,PP,QQ] = E_()\n",
    "                E2 = KK+PP+QQ\n",
    "                print \"t =\", t0, \"t1 =\",t1,\"rho =\", rho0, \"Delta E =\",E1-E2\n",
    "                sys.stdout.flush()\n",
    "                if abs(E1-E2)/N>1e-10:\n",
    "                    raise ValueError(\n",
    "                        \"Energy conservation bound failed at %s. Delta E:\"\\\n",
    "                        \"|%s|/N > 1e-10.\"%(t0,E1-E2))\n",
    "                E1 = E2\n",
    "                T += [t0]; XX[t0] = x.get_value()[0][XS]; XV[t0] = v.get_value()[0][XS]\n",
    "                Rho[t0] = rho.get_value().item(); TK[t0] = KK; TP[t0] = PP; TQ[t0] = QQ; E[t0] = E1\n",
    "                #t0 = t.get_value().item()\n",
    "        except KeyboardInterrupt:\n",
    "            print \"Interrupted at %s ...\"%(t0)\n",
    "            T += [t0]; XX[t0] = x.get_value()[0][XS]; XV[t0] = v.get_value()[0][XS]\n",
    "            Rho[t0] = rho.get_value().item(); TK[t0] = KK; TP[t0] = PP; TQ[t0] = QQ; E[t0] = E1\n",
    "        tmax = t0\n",
    "        break\n",
    "    except ValueError as msg:\n",
    "        print msg\n",
    "        dsn = dsn + 1\n",
    "        print \"Trying a shorter initial step size: %s.\"%(ds0/dsn)\n",
    "        #continue\n",
    "T=array(T)\n",
    "print \"t =\", tmax"
   ]
  },
  {
   "cell_type": "markdown",
   "metadata": {
    "collapsed": false
   },
   "source": [
    "Step Density"
   ]
  },
  {
   "cell_type": "code",
   "execution_count": 176,
   "metadata": {
    "collapsed": false
   },
   "outputs": [
    {
     "data": {
      "image/png": "[encoded data removed]"
     },
     "execution_count": 176,
     "metadata": {
     },
     "output_type": "execute_result"
    }
   ],
   "source": [
    "figure(figsize=(10,5))\n",
    "plot(T, Rho[T])\n",
    "title('Step Density')\n",
    "xlabel('time'); ylabel('rho')\n",
    "show()"
   ]
  },
  {
   "cell_type": "markdown",
   "metadata": {
    "collapsed": false
   },
   "source": [
    "#### Quantum Potential, Classical Potential and Kinetic Energy ####"
   ]
  },
  {
   "cell_type": "code",
   "execution_count": 177,
   "metadata": {
    "collapsed": false
   },
   "outputs": [
    {
     "data": {
      "image/png": "[encoded data removed]"
     },
     "execution_count": 177,
     "metadata": {
     },
     "output_type": "execute_result"
    }
   ],
   "source": [
    "figure(figsize=(10,5))\n",
    "plot(T, TK[T],color='green',label='kinetic')\n",
    "plot(T, TQ[T],color='red',label='quantum potential')\n",
    "plot(T, TP[T],color='blue',label='classical potential')\n",
    "legend()\n",
    "title('Total Energy')\n",
    "xlabel('time'); ylabel('energy')\n",
    "show()"
   ]
  },
  {
   "cell_type": "markdown",
   "metadata": {
    "collapsed": false
   },
   "source": [
    "#### Energy Conservation ####"
   ]
  },
  {
   "cell_type": "code",
   "execution_count": 178,
   "metadata": {
    "collapsed": false
   },
   "outputs": [
    {
     "data": {
      "image/png": "[encoded data removed]"
     },
     "execution_count": 178,
     "metadata": {
     },
     "output_type": "execute_result"
    }
   ],
   "source": [
    "plot(T, E[T],color='black')\n",
    "title('Energy Conservation')\n",
    "xlabel('time'); ylabel('energy')\n",
    "show()"
   ]
  },
  {
   "cell_type": "markdown",
   "metadata": {
    "collapsed": false
   },
   "source": [
    "#### Trajectories ####\n",
    "The trajectory of the particle in each world is shown below.  Notice how the trajectories do not cross, yet in some worlds the particle is scattered from the barrier while in others the particle tunnels across the barrier \"pushed\" by its counterpart in other worlds."
   ]
  },
  {
   "cell_type": "code",
   "execution_count": 179,
   "metadata": {
    "collapsed": false
   },
   "outputs": [
    {
     "data": {
      "image/png": "[encoded data removed]"
     },
     "execution_count": 179,
     "metadata": {
     },
     "output_type": "execute_result"
    }
   ],
   "source": [
    "figure(figsize=(20,10))\n",
    "plot(T, mean(XX[T],1), color='black',label='average',linewidth=2)\n",
    "line_color = Spectral(linspace(0,1,len(XS)))\n",
    "for i in range(len(XS)):\n",
    "    plot(T, XX[T][:,i],color=line_color[i],alpha=0.5)\n",
    "legend()\n",
    "title('Trajectories')\n",
    "xlabel('time'); ylabel('location')\n",
    "show()"
   ]
  },
  {
   "cell_type": "markdown",
   "metadata": {
    "collapsed": false
   },
   "source": [
    "#### Final Distribution ####\n",
    "The distribution at the end of the simulation shows the reflected and transmitted \"wave packets\" separating from each other."
   ]
  },
  {
   "cell_type": "code",
   "execution_count": 180,
   "metadata": {
    "collapsed": false,
    "scrolled": true
   },
   "outputs": [
    {
     "data": {
      "text/html": [
       "<video width=\"720\" height=\"360\" controls autoplay loop>\n",
       "  <source type=\"video/mp4\" src=\"data:video/mp4;base64,AAAAHGZ0eXBNNFYgAAACAGlzb21pc28yYXZjMQAAAAhmcmVlAAD7fm1kYXQAAAKuBgX//6rcRem9\n",
       "5tlIt5Ys2CDZI+7veDI2NCAtIGNvcmUgMTQ4IHIyNzQ4IDk3ZWFlZjIgLSBILjI2NC9NUEVHLTQg\n",
       "QVZDIGNvZGVjIC0gQ29weWxlZnQgMjAwMy0yMDE2IC0gaHR0cDovL3d3dy52aWRlb2xhbi5vcmcv\n",
       "eDI2NC5odG1sIC0gb3B0aW9uczogY2FiYWM9MSByZWY9MyBkZWJsb2NrPTE6MDowIGFuYWx5c2U9\n",
       "MHgzOjB4MTEzIG1lPWhleCBzdWJtZT03IHBzeT0xIHBzeV9yZD0xLjAwOjAuMDAgbWl4ZWRfcmVm\n",
       "PTEgbWVfcmFuZ2U9MTYgY2hyb21hX21lPTEgdHJlbGxpcz0xIDh4OGRjdD0xIGNxbT0wIGRlYWR6\n",
       "b25lPTIxLDExIGZhc3RfcHNraXA9MSBjaHJvbWFfcXBfb2Zmc2V0PS0yIHRocmVhZHM9OSBsb29r\n",
       "YWhlYWRfdGhyZWFkcz0xIHNsaWNlZF90aHJlYWRzPTAgbnI9MCBkZWNpbWF0ZT0xIGludGVybGFj\n",
       "ZWQ9MCBibHVyYXlfY29tcGF0PTAgY29uc3RyYWluZWRfaW50cmE9MCBiZnJhbWVzPTMgYl9weXJh\n",
       "bWlkPTIgYl9hZGFwdD0xIGJfYmlhcz0wIGRpcmVjdD0xIHdlaWdodGI9MSBvcGVuX2dvcD0wIHdl\n",
       "aWdodHA9MiBrZXlpbnQ9MjUwIGtleWludF9taW49MTAgc2NlbmVjdXQ9NDAgaW50cmFfcmVmcmVz\n",
       "aD0wIHJjX2xvb2thaGVhZD00MCByYz1jcmYgbWJ0cmVlPTEgY3JmPTIzLjAgcWNvbXA9MC42MCBx\n",
       "cG1pbj0wIHFwbWF4PTY5IHFwc3RlcD00IGlwX3JhdGlvPTEuNDAgYXE9MToxLjAwAIAAAA4fZYiE\n",
       "AD///vdonwKbWkN6gOSVxSXbT4H/q2dwfI/pAwAAAwAAAwAAAwAj/AuQLzeVYYFgAAADADTKM53r\n",
       "GUX75gGz2cz0TTv0El47e3Yw4B+326uO2qlBeAOkUMVXppBgq74IYhWLQfPCdbGJA6ZCeQC1MpYa\n",
       "JAmCbV7IJXXlx4Qta4jrADTMlscZgzZdQK8aZTrcwM4Qt9Pjf/sb/pV2M55MKrm3MyB/fMFsr112\n",
       "dL4UVEaPCQYdHcncojSBP3zH8yKLinLTTpyj5BAu3s0ciSZ4ORHi0oaRoV/BtN2bZvJ6GHfJVQeO\n",
       "8AWtBahJVuf/Kv6vMWATp0l5zyLN8soFyZYDlIW+iJaeBM/tXUQ8zTsXPgBQLZai2b7TqigHfWVE\n",
       "6VCxN82yoZkvaoiSioPgg+/Cr+q71ddcdzeAh5QLeyhB9MmKX80uwWu3gE6YYUVcn8PRvEfmZQtR\n",
       "TAASQnI5zqsVVLb/TYAcndGXdRgivuF4aAdgNe3sxYR8SfBUjhHeiHZR7ba7OcKgvPStlv6esNZo\n",
       "IrhOQC7kG08jLHQ113f4WBmx5vbe+DrIXTx7MQOmZ0LpoIU5QF76NGDvevhpvOQlVJHxkoUpUpQF\n",
       "PXY5DxYQi1ocANQgvP+s1sPEWAleLiT/ldZJ5jdWYikb0MVNUFPEDAdzlD2Ro/TEBWMviWtUwIbv\n",
       "zwxEroUz0cfXV++YMRfzUnz+znDXVydpxiEeknUK/V1Y2BiBMbaVgL/RUePMmQijZG/TjnuCV8Z3\n",
       "rz4j46xgnovhHuFHuZsIOtB4acUFar2dVD0075UiIAtzuciYWG+Gp6h77We9r1hdQO+5oLERZb8x\n",
       "oANA8GQ9YgBAc2zZ85z1W0zfSEu19ds0/wJD9QFDAAx2mfICb3L0tiy9ZPtajL1Y5bhCfDp4ygsH\n",
       "Iz3Oe3JDVFkroe5INriyj3mqaPTq1yESGa0fKmNkJTj42Fx+aivdWJdpvBiovQuJ/V3PZP3JndAk\n",
       "AdCul5Zo9kLKJzs+gw+/b3F+EULmeYOi9umIFfU9zNtczxruLSXJYNghkOOLvqami2dSomDuwe1d\n",
       "PZXgCV3XH7Y5NJmtIOe3Ien45MH6ZqDDcVhzGPNXclnTIwI+znPdqI1L5bVwFPMKXy1UGVdoTr1D\n",
       "N0EqdOXyU7el2vU4pBFxhmpqAAiT0he2Rm9HqqETicAxR75ZNFqdZ5m6mJwQCI8KuREbyU7CHWqk\n",
       "Vef0j0yRxwOIuNfdlBxVt76qL8gcivrxGfd88mc5j7SU+WUFO5jES/7eCoegsFyu5TAK84f5+5nw\n",
       "zXUoAwN/Y9Y9+Me+1AHLl9mVlfZno9kFFmA+232z/fmUDwtiXS/IwXVl0MqkIFMtAG8e3setTvhJ\n",
       "iLwjv9nSN+RwxEHkx4UYnyIDyeIcLPz+ewHJ3iML4UIhCsyuofMdFX9FjCUfJ8TND8MdTKvpMJyk\n",
       "xcglnBCWShFvC3zJBDRgecZbhG7UIVucMudjHTPyquUABeR7FA5w0st4ans9QcpB2g3t9REogK2L\n",
       "sLtirft3IT3YwVTf1fmukc5RuhjjuAFXeXjk3w+8P16p7oFozltjyGQmI5w/U9QIRJdC02DKB39J\n",
       "tcJd0pVoxS98RBgDpNDCw3JAA8XexioChoQCG/IjDtbm8efWMczAFEFiVMcXABmZZCN17F+XgKvZ\n",
       "a4OG0vLuVZ2zAH1u9USZa4voHOczX1SRqQOqm3TkaItp+BkRk5DbNvy5om7OBGCtOPfAMrh0KFtr\n",
       "8CAfJoSI21owDjcxCW9gHnAFUQQkipBYNWmzy/hiasHFT4fw8V2NHucFLvaDhz+W4pisfJcdqXLv\n",
       "gFwpbtkMAK/pTKWIUVgMf2JKJKLyvHDgAAAPaQx8wJIF7V45F56pHr45mMMkPP1ekB5c3aO7YO/R\n",
       "s7HEGp5bKvmYTbbTMXPNP676e6AHAu/76RQwF+NWBSniTM11vQcN/0surRLIAAIPCigtNX1kB1jD\n",
       "hesMX1EIYRnthLvmb680CMuCmA/CUxkRAq/HQX+SauBpxfTRSbeSMuIsPJ3XFF9SVIJqJPOuRHBG\n",
       "sDFZBjnOgdwuG//NduHb+zgdLtdvvF8OoyiqAgv8q4x3fJ/5xFGn+dyoG6k6ms6qCdpszZ4AxQe1\n",
       "SEgRyOR6FtO7S/DK6Yz3P4Wm395q2QXU7OT/OuDlwjzPyobOXxDKo7FLYs6mNfBRUE+xasshgtKS\n",
       "VyXnlTlnoT0FMmhGYxJ+b4vr0J8POGqqBQsAyJheaeMqpK8mqSNg7Iol5Cmqr1IrV4TbffdvdsRg\n",
       "nY8CxnS0h3QHHCrLHkYN3zxSSbtT8KHN7xPEBdajCmu4JQZqu6ThxCNlplwlQg4maGR7qE9iZEBw\n",
       "lVTkM1a9YtWeVRsF2mnq7KziB3MHf2LjxEIENeFHdeRyfCEqxAe6orWnwJjYLsq7ywdpwHHYRlkz\n",
       "9Htq+QpW2gVNlcLF6WgeLlFJJuxKZBWqNER/IS3/He7kBwhSLFRM1O/BT/8G3FFx1XNZupzbbLuu\n",
       "4UpzNhgMyjuqNCRCPE3ZZZKR9t5xw6a+EOX9ESdz859NKnzlhIzFxopzoGgf3bd6r5t4MvCxJU2m\n",
       "o8j+64BK2W5Y12SZGoBQRkNGkENkW+RQbFTKvYa5cIrfWf48dpxC1RYYqJODw9NnASDV4a1V//zW\n",
       "lU3rV5jgYpAVc9dQr6hsw7YdD+vZiobZe+6VRCZV8vmWj82WEdBaUNWC/eqKcFg2I5sO+E6BBQJa\n",
       "PASYE8QfyTamP54OP09y85dEgJTVx4/SGgn2b1DGlMJg8RppqdQBfdZmKYHjuvAZVCvloySucX6n\n",
       "v4+m3X5RCUnvGDVIkn31fXjGwVV15V1NPzBeQViclxRB8lqp91OkSPmnPrd6USHM3/CFnGyjOa0r\n",
       "Ge+ymAR1byicW90rotdWqxb0AFuU30hWgROCvILCFPMS7zQgx3p8g3qfqNGJTytTBJcHaXjxtGb7\n",
       "p0LYEakbGCXyO0oVGC898ClO9MYRgA2JWZXPpYsYemGD5OxSiO1E+FJiIEkAUCvROrIJHkVyqT6l\n",
       "O88wOgHpVDlmmLvsBLwqm3ieCtfRsIF5OK0a1ywX4ooper7HPe3mwQaGSFr5dQoMgrnAg9CoQ+Jw\n",
       "j8D4M98DxWUt3Fhm0itH4NZ1ExjkTHVvRlmwSJIQkTrkmIj8ug+cJ7nwt76uqyUuG98lxriIemz/\n",
       "CRWCLeMHlTUTTwxeXnB1EU3CXCajITXDrAhmtJM5Y2em4+ysbtoR6qeMtuG+cSs9ex/mQ6/wYZNB\n",
       "3DqDeCwdeytpt5qTdY/bE3Cx//aOxv7uYsx4vxIzFuJk8MH2hnrH5dlAGttdbL9kp8YwAlH//+Bv\n",
       "zxNEFTN+6jWcAte7isX28iPC9VKJInqjgXjvbT6coG8yMzNRPYK/f0hmPn/WUtyhAA9yMaaSVTlz\n",
       "r7ratTqEAZbQWR4kg5j+qiou6RvwNJelCPjsl8LctgoOwU/H2A1rMFI92Rxr8qPAoIBCd/ZJTdvy\n",
       "g+IWU6u1y+rUfb67v7A/EjF79wfii/zmBwIXZwnlBSaOHxh+fevZasXz8JQxumco06VOAk5AvTmp\n",
       "68LSijvIWWNMokK2bcFN3wjreRX9cUYKHNlyB7FHsGB+el6mdrdABzzUr1giZtlK/3xHCRiCOmJJ\n",
       "+WzLRNFIqTci6B6U03omH8JGpYhuWlVT6qji0tZcqbDucb5oa3eNOG1NPEf/pyJ86FCBYiKkNcJi\n",
       "CdTbJIsJ/JWSMr89X+DyB8BEmQCuVKpi4DtmnBO5CV4nDxFaS2So3shL+cHVTh0Q4ACismK57fU0\n",
       "5cAYgFbW8seWLh2q9RQ30YQacLVcUsEsyyq9g5cIVVQNk8YGLGQ0f0eBeyhztLb3f6IJQ9dU8Mc7\n",
       "m+WJ2LzO1DuvP5lXMFdu3PHDOwIDAuiS+1hOhOqdmOb1deZgUIaaXh06LVAuLAsoIQonPU87VSCg\n",
       "E+TzxxYC9vNVQi9Wq+tKo69dnznAGDf8nlWke4hDQhfOhJ2CuPP58XjVtZkIcwAJKP2NNliMdVS2\n",
       "4SPGeoMGis3hhLvhbzJhS0XtShmtJ6/xl3JLbMDHBhW18FkNVbdHRTNG5fLeU/y7HqO5SDpGY6ZK\n",
       "rtmYhJ9bLzLo3gt1v8uDdiUPH6tOflh7+OWFObV73shaVrJbeEl9YdutvcI0HbRBZbPBdMxOmvb3\n",
       "30TX20fsGcfCNY4s8czmLNlFHoDaQTJwa8P35dkfxC8gj6fAuwJPIdtWFutGORyeTGtmmom2LTzI\n",
       "PK0H+Bmg+b8Jg2AiquR3aQSEMBIuT+EQwlGQaihckztkTsTNpZ7DzP8Ckjn3vqZG5sH37H9xVQty\n",
       "UrWg8oi48DCUZQTxx+vf+URbl18MxYOOZnmZUxZrwCYRPJUPbuPKQP/aPSPjydgTZB8Wr6hsXHNr\n",
       "hsjT8yrv1Q5lLVQx/Br+rJ2yh2ETlbg3O2n20yyVDg6eqAzejbrjucVSu8VzApze8+4228qsbmch\n",
       "o62VqEgEAzlz4KXHmm/Vg7zX3qPEi9PaVB94+dCCQu2LQETCIiIBe28eMxWCaNDl5rCwlCEaq7ic\n",
       "U2CiCZVcyzSP10ufKqnqzAGlq0yKlJ0gffkzWfYM/cmKXuQCZK+xuNMp/upMaYqQI/jGZ2cn/8WW\n",
       "ruKxA/VvfIjE2+pAAS3QrCsiREac/B1NTiE6dV+zkBJQPR92boldUGg0oRCmAOQ+nlg+b61Js2HH\n",
       "8swiAgwLWDi/r/OWlNq38ro+7fhKB5hb6rVHET9jPwqmrOPHpXYo/2Ja+91hwp1Km+/TKZ6KBG81\n",
       "NUu7wNWzUfedKYAjD4zYPNfQAAbFAAABUEGaIWxD//6plgAYGXljeAFqiFChYQhHIZtsGZZ0j1Vq\n",
       "g515fT+ZuLVBUXJniDN23K1RP2MgcP2m86cmbc6+KmIER89pHj9BwQaJMGqQeVkVKW06ZbXb6pUR\n",
       "CJwwLeHqE9a+97H/P/BZ2cKb5/7nzM+aoAU4n9I2MyB1dRtZUi5mOUpKCvek7mSfJhKIRlm4Dd+/\n",
       "z86TQ2BlSbm6Qdc+sg8YyKdwK8ETCv/m/gV7Gt5E37FVO6zSJbx9ny93mVx7091WQKADDmeH0Yn0\n",
       "/BoDvZRvn5ugZ1kW8D4KzAuxbAmb4quJe//yDSj7kAxHvlaxvNZEL6vhmYqdFZ/3jdJV/NnwOiNs\n",
       "PDfMqmEub/hoHnEeI27uxgrKQgGV692IhE4ir8bkj23zU8bd/+ADcyXWzhRusW/SkZs6+Y9H+DSP\n",
       "ebW+VP0wAeWM27HiEPLF19FnXAAAASlBmkI8IZMphD///qmWABgIu14uAUOwNxKlu4hTA3KRllxp\n",
       "O9jnJNLI/XSlgxNRNV8tDkrj0b5YGcURuCafcFWaIi5pI56AFr3AWgI85zh0Mu7H5lt4gev/Areh\n",
       "/1r2DwYcbBQuI+h1wwBIQ5jD1zFn0qI61yZm4YS6/35sruYLxiChVbLqu8svitx3R0Vc+HyG+8oy\n",
       "eEgv+hkWvIjvSvDKAuJGyDU3eei2TAYuRthx5VD4b7ikkpnUU05B9E9D2MnYrojtvzMbsCnOZrVN\n",
       "9SsqBdjLiI0HXTpG/HwX1WcoJCKK/ciVuMbuu8vcxI3cAokqENUEgVeEGvt4uRMXiY2rtY5rCzlr\n",
       "7en6BBl3iK7HBEJz3iLkuXyCk5s81v+8t8lXkPDyO0Njx3EAAAE4QZpjSeEPJlMCH//+qZYAGC4v\n",
       "3oi2X2W0gALjUUu2CHjbag+cAFlGx0Az+IaxbyTwzDpq5D6aHsE8dfLmNdxbnXSAK03J3vZhTJae\n",
       "jeb7lwTTpBDg4yNukf6be5K4fRP3UyeUiDJHBTK+xwas94KACk+7xPdF7bZRd7K5wuZw99UhbYKb\n",
       "G53Ga1qnExppIitXx10JvLJ7ii2C/PHPnxvJG+KAOk6QHb71+d4+A7uwycNIk8EJfxdd095jFpjo\n",
       "YJDCBWcYe6YHhGJYB8G4PORBgpmTZi+WkuE4FDwG44eJ/G9l2TRYkhI8eGQ3iOuj/UKXPM2S3Pr0\n",
       "sGAnT+O1TSNMVZWvHOJ1uKoAFORCjPgBz0/W9udRvoZ+Mg5MNYGzAAghdqIweEce9BGPiUkEm1BA\n",
       "eT5WMwTO2WPwAAABIUGahEnhDyZTAh///qmWABdq7TzncyTCAFzHKadiduetm4CVUYW6tylrxi84\n",
       "98aLPmXD6wSqGJCgvWnbYl4DdpTocZ9gy7WKWH23M/9HOaS+DEjLXXtKD32Oa+N8SvAkzpNOLZ6+\n",
       "H40W/+i2YaaOPIEcsLE9Bla09FYPHgsFfCSrvZ31vMn/yGYU11tfiZlhAY9tmFO7IozVeGuQAPrH\n",
       "PLXW0uOfMo8JxfsThabHQ2tcD7TOM2BexUzBYHW+dHP6nsn+LhbS7hFMUz6LEptkXkUv8i+FS98f\n",
       "fpTxQFOUC1GauWe/90N8YTC5XHF1WRoM+rW2uI1HK6LY+5og6jL+ZO7TD0zA59iloGQjPeT4gO5f\n",
       "ry0hfhIyNxtia7eateuhMKEAAADhQZqlSeEPJlMCH//+qZYAF224qmcIAcb0LlOuO5iUEh77/E+/\n",
       "Y0XXml2QsVsp1UyeUNb3M8dMwq7mu2I5OQlR557ub4orV5GgNSBp1DrEFcmhC5SORp8odYC2UPtK\n",
       "4RVQtydvMOfC2PHhZnfOShsNQ5bECpluobkHrauRDTr27Zz/qAlfLauTC15K+lXNgFlkXY4OwgSb\n",
       "W6h53MZRiYS/x+qrrsmNlIjo2qm+7ZwfvRyCeAXb68YulKMrkU+2orCtrTbKHGfQUD3DklCFeyTc\n",
       "8hay3lAe2X+eev4LGt0t+yHBAAAA5EGaxknhDyZTAh///qmWABePhTI5CE8Vebb/FYVgBs/UtBQl\n",
       "GVlUajI3l9QYz8Ub+7Amy7Tzw2MxHkL229wYFbzV8CHwPefAryFnklLRcg9oODDlF+L93ARO11N4\n",
       "c0jjAf3nhkjfq2HkAz2VDdorjCyR7BNzOWo14Q4/NsXsP/8hOiaGlnc+0Akk/nOu4YoEyAY7g+cE\n",
       "U9UloAKsF70ILcbFKdN5iw8s0T2AwLqJbm9xLR3CxMjUq3Vvf1MrDQ/Y/1qyanlHmsYvqjXsbWGI\n",
       "Sk0xwmix/R3o4OgaC/X60YEWFkQh8QAAAP1BmudJ4Q8mUwIf//6plgAW//Gh5qae1Y8/ibEtU98w\n",
       "CprbEWTOO7toDKSybqoPvFqZBt7bamJX5T1K/gGXa+6xo/iBs1XjlJVG78QS0I0Uzh5J3UYdCMEM\n",
       "aYnjC9EIslQIgUWbwU/NR0zKFim+JALwKnj3/zbApVNpLFf9RHgxF0irKJhudYfqXGJ3Y6dlI2bE\n",
       "zgnK/ZtdPwlYSgWyiLKZgpEuC9/zBiGBzieWABMC4ssEQyuXF1wv3A4aANYoEaQl+ILPuu8SXJs5\n",
       "9TB6/49iL5BZtEgDvZ1pB9CypyupnuY3+yzHPiwe5FsjmBxxLRfd5M/XOiarnoy8iu7BAAABGkGb\n",
       "CEnhDyZTAh///qmWABb+eeWXHvFRlE9/3BP5cfEkKNJygBLZ3w0FgD7eANyeE4sDh/hhDXOw2Zjp\n",
       "gQ/NMvaCeE7z7yS3rgsgV07CFouwm6e7/9lOo+4cR0P8F+Ed+Xc3poTJr7mZcELIouaGmocCFxoA\n",
       "yItE+ObW6r71kTbC9d1mzd0sd/EBuwXWl6N+ldzqj/Oigo0djbZ/BoPipdM+CEF2CkVw1m8Oo4/n\n",
       "Ji5pMTeXyiRtD7GSap95mdjJhjvcAYq2xdcpuCAq64aJu8GF+bEfQSMrXt14qWSH44224jdQtN7j\n",
       "PwS4rElHEYDxyQS5tN7c548ofdcmFM6lIYIL33F2nHbN+YohxaOclfz7potaez8DBWmJlgAAAQdB\n",
       "mylJ4Q8mUwIIf/6qVQAB1EyGlKIjXzt+AD+Tz86iKJhp6U5s87ndPojnw/3LZ3dmwJ7CxHhypn7M\n",
       "G+Z5ZobpyNAYKjaHMWMC0HechFRyzIm0umfXSOjZd33uRZCDLrpf01K5rTRB2+kGqxyUE+cpeAN4\n",
       "ljNAXVkjtXuDz+7Il246//seAZKOrf1OxNe6oWAnuFuRb2OGxe5+Ko8e+lPyIyxqkU2Oo1v48ELU\n",
       "hM0bLtISZy4ybTWIJqisNPVJmpmi/IK6PN5C5hVKoZOnWaPA7H6mI8e4XeGLYg8uneULOQB/4UK/\n",
       "IKFGGTErlk/suuOUwoFc/rpQVWCGCJggK0uygNBxecK/WAAAATJBm0tJ4Q8mUwURPD///qmWAAcn\n",
       "i/dxCAjAkBfJ6gBLcnaYuJD9xysn2nvNMfRcyNfeyTSiNR2gwAOwTAWSu8P67SkLhSJhhkaWvv80\n",
       "ry9kbz6cM7aLAgsLuPjKaoFnMmTEdlxQVY0QNo1EZ1clQK/BHGjXHLZzStL6/KgqfmFgbxGgztf3\n",
       "fAZk3mpxZkXrXWy90cvph2JgXIVrh76G0VF9+Nv/Bx1lwfzjUDYtR/O3ThYm5UP5TU++3/ftMRV2\n",
       "PYuZR0+ZWN1v+Kh6lu13l44ZpdUY5e9/7KYjh81xgAGUiLL47N0dCdPWt8AbhctX+V4wTPIgQwIN\n",
       "+rrQ4oGp2mXYlmdlDkCzBOlFUKevZ/r0pAzo7f7+2nuvBcPDwxOI9HwRDreSrmImsOz6E/JWvRam\n",
       "UhcAAACpAZ9qakN/AAUaWJtxsvXAC1y9FBO1r1URApTrrAHKlBC04CqgArk14jrix3fZB1OWkODc\n",
       "jHvcbl/+7V0aHeLA7JdAOwW9bHWDEE4yJ/iD/fhoMDdzdXLTems4HRrPb/xfBIWlVb8BRc14gg4J\n",
       "jhTx41qbSYdfe6WOPXNfV6TEFUGB6+h+a5zY3SkI5TyzGmKmavbuC8sHS7nT2NNzPW7HyVqgmi2O\n",
       "rUSScAAAASRBm2xJ4Q8mUwIf//6plgAG8i4mHiwXMMROoknrVR/QAnG1BcG+ZP1edZ/dn1UUdOgW\n",
       "vI8KS1riVnd5XI5rLT+VeE5V8MJTRLRCWDWGr0cFY0JW90lsgjQP0HeMH9PU6c19RkYPrSmHQD9K\n",
       "PWfF+uNbaFj7SoIfVml3xb5smHzv15W2YRg1D0vJKLXq7s2NIhh3mx+VddLGzbdBGpHbjVUNzDum\n",
       "my7inzHX3nJPynIs/oRr46BNOXF0/eepHRy6GMISU5j9SHlpjCggdHDdNPrz2EEya5ocwfCHu/GC\n",
       "ftSnZ/CWzAzg9hsB4BkY/TqE+2lX6uulFJ95EkI28ffI3VCWQgvxl3tDnFfa3ri5WhGh3iHx4SHe\n",
       "yGDD5HKpOTaaJTPR0DsDAAAA/UGbjUnhDyZTAgh//qpVAAHHaNorc5+vma8GVf3HUs1cCA/F/PfN\n",
       "x77VCEqkAqEgka883rTlOPEqRDVQw1M8JE1q67nelzCaSZ/ldqv0/69zH4qOSzYDlQmFYlIVGwFd\n",
       "0zeHNvY3Ksm553s58AKzaGoqtZ4gWBH6EpYRKb5tdj2TFpE2+Uf8UfXzsP6piljKeZAeap21aBUj\n",
       "R7fTT+GB5vJBYPfPS8qgfvIxnkHfdnuqB84opiGmnrOuSD/3/qYUY0Rjllt7BHEqZzvj4VxfAQ7v\n",
       "b3Tye/9W+gQFOjiNig+qSkYk+hX76eRhIAhP8YdCMj36cEFSma8DvpDiziMAAAFIQZuvSeEPJlMF\n",
       "ETw///6plgACMGMzBiQ8ALOViDiUIrXUjgVqUqTxo5U3eDjB0KLgSVSQgwRuaA+hOxm9+TWUMlii\n",
       "JuB3RCi10fxZ8tKTRKM+snfXYe62REmSmJ6DjiPwrNnSLLY6vJThWOD/owdjb0s96+k9lO765aXX\n",
       "3BK0eyWiUiZEp+koZemr1WQlVVJre006wPRxd5ElMkoyDOYbUdMVRQ46QJVuKA5Umvn/i0XqoJ0u\n",
       "jzMtlRWTt7wme4b5D+9yvA1727WDI4qTDHhgNDgNLVTu5Qg8BZv/jl+HZ/huv6gubAUMRXlpaBEX\n",
       "nBo8OPbafpF7rWYnbQR+Qs4SRf+uAxSzUb6hnv2yhwCdQkFRSebyDYFw/W+aYEHs/6fHpxgiQyso\n",
       "Z+t3/DARwuyLXSiQdbr0QU+J+A+fLbqPuSJ4Xw1rAKbCVQAAAHMBn85qQ38AAZFbB9o7Quq0BBLf\n",
       "naFYXiId5XlcOUCP8KnJgKH83QjtIB9pJId4BDZlWEhOc5R21CDtpZ8D6jYv8d4x/BsVgLU+B2Md\n",
       "dHBmSZErl+/K3YCGQJ9Nemtp1T6sIH91OspihYhOiks8CEkN6W9BAAABFEGb0EnhDyZTAh///qmW\n",
       "AAIz8n76SidTi+1DgBYgeXJDmbzJcCdUxDgawgOso5F3jrRTmDM/uUZB++ky4b7h9SeyjziKrO3p\n",
       "7zbrxQHUHZ913zqTCAQEKpGyvryN2GNYxrcwJbhyAbXdSwlsb9r+0qJmufXfNtyzxsIslCSgwNyh\n",
       "+ApcLlmDQ0KptSDUcg/tCU4TL//7uFU3Erxq0t4JZjk+o9P6P/JFLGy4QM9s48l3iHFycuZu4og7\n",
       "Jmpx355nEueRHE6tGe1KX6Y2KJTrTN3j6CPQmb9Gn5T3S3vK0ibSBQMEotvGoBN9dlAjBcrn3nKk\n",
       "IeOGeeSstCSjhzVH9PknfmF1QRTFAJXfIojESAaNlYsAgAAAAQtBm/FJ4Q8mUwIf//6plgACIgk/\n",
       "DDxPZoMAHcpIYJw5oSI3/C+Z4b/uAsuiKj09YEPitHGIziR+HEDqlktVfzY+ewpayT/MZbYHtX5d\n",
       "MRNLbdurxPBvXixdFqxaZ7DcXMVTNvxM73K90zMJrvmXddjW3EEXW/IBcMPCWLqpmFiv2AW8EDjO\n",
       "sLpMa0bjWLQZXzbKXFGsuJ1zXLMsirqldrZ7Pv+BLgbwjX6n2RM6oEv6OeZqiXS4TLzPiUsRrsxn\n",
       "valYN/P752qj64z1zyLKcwQYCzfHJbIjjmb1li9Wv3dZhYeUpRyX1Usv8oLMJZUcJER8tZFnC6U/\n",
       "8CGGobwA65MO1PYSywFnz3i0kRAAAAEfQZoSSeEPJlMCH//+qZYAAiP9tTwfCVLK83EDsl7BhRdU\n",
       "77cCgGfRpbsY89KjSU7qVchrTbW1FDLhOyAFL/Aw6d2GhZSDSpK5npm7HHKWB7AAppQhROVziL56\n",
       "p9eM3j1V7RaIpMx7yO4V89+i87TgAZrOeDQXzWm1sq6UpIJ0FuoJsHAEPlYS+CJ2lZ0zQYx8FFzT\n",
       "0WbJxDacbVTfLbQlwWsi1qdVqV3cz01/SktzPrMFP91iQojnpMgvBPPbXKXADKjkKAr893LpxJ4e\n",
       "FX49c0djt12fZ4R7WNBSYka7HkKDYq3HO+yfNRdIcGkOuzHvvgWjlvsJ+Ux1FlogR+S678o0TG3f\n",
       "BrA2EchS/QAsMOdLL/FrZrm7JoSBLr61Ji0AAAEMQZozSeEPJlMCH//+qZYAAiPzKaFJZEmnRac4\n",
       "AFpm/QQdxrQG3bEmApnV+BYmK8g1i2KAFkyER2CzqOSP6PLTm8Kffrc3ZgyVyI6wBl05qN8E7kLF\n",
       "ppZQu1+n0/aRJuX8SFRFqhkvSuhUd+wI5F4+t6h7DvyzeK4hyV9FK0HCb/bo4MEqNwTUFffuI9TL\n",
       "MFeG1DsAoUSY1ZNZrBa9450Lbtf+WKuu0CpEqRCIGMIcAGufC/l5G2zFaCZ5zvNa3Wxmtsrt/lds\n",
       "X35wlsWmmeu9twPqicn5oDqpdOL/716X6hjq38JP5HShXbNJTpbw6BNbdQxxBPEJKzszPSxmq4+I\n",
       "nMiK8hK6xrgO8Nl8PAAAAPVBmlRJ4Q8mUwIf//6plgAArgISoyOko2v4SswMAH9Bw4jhuqFlA4EU\n",
       "POxY9Y6V2v6MhD2HAQq9dujZ8y9dW1l8YkL5I9gY07H7jxaoVaXyXa0crC7p//iY/AeL9HTVe8hB\n",
       "IeFpfmyS0V7xOZaAtPJAJYcLYeFW1XiThgNHgUt0Z/cNf5LxBLow73ONUkUkLn1BifqKROYBjU3k\n",
       "gx/I36WopRJQHZ2wD59DHytN59DrSbDF7eLdggIMobn54Af1P8EQriNJBwC0Ry52tgaozIXeNFoS\n",
       "uA2Hdy15qNDnlwP07BDza9c4hRPCgkJfat3NgOAxkdYt8AAAASNBmnVJ4Q8mUwIf//6plgAArvwy\n",
       "PlnE09jALIqSW/kfA30oKEqknn27rIuuKWo2TD/u/6r6SCx9XgA+JvdA+QCgQiuSa5pB1Eo6YsVG\n",
       "81EYAQk/E0Yjo+/0DvshmYaULN3z8Ldop7jYEdZAeieuQ37nJTDVzuQTtIahnN+jRGm6j+rEoCxS\n",
       "LYWkI68fiJfhCuxd+ritgiJgODH/EqcGRGlANi0xLwUmh+FCrKmHxGvJ+tvvtYphBpSAB/yuXovw\n",
       "w8VtC8+EZaoceUJbMqDwKAi9w27aVEhAY3HMN3EPJ+e6FqXS89fhPwsW2WsRjZiFq7cyRIelcUhg\n",
       "J9V1Sk4IdI7V7UVqBOACTuxCbvvg08oGYU5l4or+48ZuyYfjz1I9tG9t8cUAAAD/QZqWSeEPJlMC\n",
       "H//+qZYAAKmCIXJd6V/+wW5z4h20TxdeJEuVhlaD/R2UwB+7O+Cp7vfBKupCsN/vr8dI9S3M5T1b\n",
       "eiFJg/K2iOa8Df0iCcLMCQ1+9Z3rOi5YvAp2EnT/MwqzHlJqI//qY9+o3xwYFUtS8fIuzvDWLAXR\n",
       "cr0UssfKvg8iY/DWxtbtjRMDLjLTsR4ngts/fdGUd5eUClCKWI6D0ShBBa5jGLuuYWr3/hnlMAGs\n",
       "B5wnageW/Vd0hXbU1rqpKLamq+SZPqmWxGo5jD8LBgc6+fXrfTaGmy3KyOk55Flx9cd+KgmVNilk\n",
       "6blvCH0RLMnd/AT75+Q/ZR2QAAABAUGat0nhDyZTAh///qmWAACqc88roY6+GS4EQvy3eZAAJwrP\n",
       "4vL+zBzvl2NV9KD5OCqH85BMnloZKHaV1ENHcfhOrRaXxhW0eMm8p3otHmnRce8YBidBjUZ/kZ0c\n",
       "46ixZqmj5EZNscrWfsFOt/D8dK8G1W2r+z8n07QRFGRf2WyZ8eG4Mq6x33qd94ywX7vPZyng+fcm\n",
       "DJCHPLkWbT42Dr4p+zmu1dmcBcheJYQ8bgHTNFBvxqy6JLvRSc8lUFqI6eOme+JAbQ//uXuntUz/\n",
       "8uHPdWdswccC20/02CWRyjqtdDmngdVgqNLQy7IIDE9sn36jAXg+wjSR5WsPRIsjy0QJAAABIUGa\n",
       "2EnhDyZTAh///qmWAAA1EXdrGGgAtz4hCVWozbE+h6/D9nXMyHzFXPbM94aUNtCXbf2XZedR8Yjb\n",
       "ls4+vFxhUtRYjvWBdaQ2Nb2cnULDY/wq1p0d8d5xLAdM5SgLNvcMsa2ul0joOyf5aXlPZOYKkr59\n",
       "vE8CpFl/xO8jLESYW0txPnxetTaq118PZEBHqctLVGhNyYreJp8mpL0ouL0E6Y52h2F93E55RnH8\n",
       "he3I9RTQdSnw+PKFKnSwRCMyOXQ5/wVNQxsU21IpXesNOQi8yrNG0mXkVvFqhBALWwKslOy5jHuQ\n",
       "B2mi8SfE0KHASAt2wkMWJ7vm0NemywKTGxtTvLZMo0ku7JWe32g5PiMZsJFssQb50x+sufdM3I19\n",
       "JFEAAAEdQZr5SeEPJlMCH//+qZYAADVcX7vSdvBpS0gAJspUk9g5uE1zc8RBu+hgGKobFYPQAnY8\n",
       "ZfpVfH6vmlSMjzcPq3WtbIgdFFR/BWEtvRbD9jvQd5kPTsb/v7r8FRJyEG1KPAJBxcNICNhBvYSX\n",
       "tUgP7RtUoB8q2B5fl7DtZoE6tcB/ysgaZLZ9yaSAFuRMIruzy/sYREaeoI1wp6Cf3aNjSzQFO3I3\n",
       "erH4Xe9P7NVW+CFKgJAel8DCzIXSbwZ+dgdB8aPZnQIrutwlSKS3YG5uC8zFnsnLtRUevSjyeAZP\n",
       "ILmZhjuHFAnBXv28YLcDxd2a13yuj8E/SfHx0h0R8r1zMrNCS6JV4swJI9YrE5sjg31V/n1D/Okp\n",
       "IGMFXBmAAAAA+0GbGknhDyZTAh///qmWAAAz2KT/e/UlABc0mVw1hhSq5aueVRkPKNlD1AOROFXY\n",
       "F6fjFgxfNKmKvW0d0pMAZTqevyaSGxGeefl73VyH7XCCy1KhCNZ+iZlUD14sJ4rmyiSb2O8lhrEL\n",
       "v/yukVAEVNk6VClPUaLPAtYpunRkUw9pTc4JganFIr1PSsAj9MTrC0RNiZp90ozjFbDStoq/RYqO\n",
       "R78jFE7siLpVTIUN1meP496NmfSEffpHfQzb/Btm1Gi61RUPrns/ckPYIY31lAlirLh2vVvtqMl8\n",
       "4fXk13531/+3f6W1gpAuDOmqTWmrnMAwHQcgcHd2KPN5AAABWEGbO0nhDyZTAh///qmWAAA0Bevh\n",
       "qd3V/DYTcvMyoCXx5YJuvk/htaCacfCFUgTKeoG9pEa0MjKDcFHL8scbxh0bOI8a2fogLNstXIBs\n",
       "RD78HUn4yDJSdHVfxLTXx9VH6tP+DSVrzibFZ7u3DpmPBv0Jvs9u0AbU30Fg7bHHoQfdzKboHeWe\n",
       "LSUhKI+ixAuPbFeP8HmdZ1YHP/ZlSKIZDblri9iMRf/f1hDQ3w86ipIjn6UstrQBNkRHrQoPU1ye\n",
       "ZLmGGZoLuC+jutBWqUAipYOp3N/8NEbm2vsmE8AUnBR9pL/PBGe+cMog6qAJ+dXyk6ijXhkM7JZX\n",
       "dlGG3n0CDTWZTMDIl67ISrXvW/VCqWCgVt4m/tmF9Ok19J4yS6fprwFtJlYVS99TaL3dBv7ciLgL\n",
       "fZr40o4fyOmWAwhBnh0NIkiHS5QMQGuF0CETV9vkNA7Yn8h5fUWoAAABiEGbXEnhDyZTAh///qmW\n",
       "AAA0H4gCSohtDl7hj9wGjgDi4k6C7RLlDAw8sWuFBxdfiLSr0WhXYyf/ddETgloZjEQkeCnnS68n\n",
       "1Jk6yIUcqNsDvCPcSyDHyRAHgSIg+s2bHMX+6iYD8xFadIgZEZR6ZzmVgJzlbUsAROGQtPjyYqf/\n",
       "ZWzcRmMsVXmqYltS2ZCALofEACyFvsmhegyhoJPxsfa/6ZtO/wyW1YFyxhf5Y9PiINmZ+gqNhPCr\n",
       "0TRC9ZKzZfgronWIjBPEs4EK3mKJljRu4U73a2IJzG35WOxbha9hN6DOH9wJMvoDnEmbE0cfcv8u\n",
       "oguY9QA+kzi/nwpHhgJqOzKulLSPotV2r0oxE3BSZ31FZKxVtBU/a63QkNenq417pLzoK5ccfLbs\n",
       "ARtH4GsyCfg/zPEyAe6MMF/SN9aE3iJ+wtLW4/jOtRQJQGBGAttilEGVfgnZBLcqhS13HGtGK4DD\n",
       "vMX1U0cryx68nAZxoqa1AbWAaS7lcVRz382dBw1Hfxw0v+rpAAABnkGbfUnhDyZTAh///qmWAAAQ\n",
       "AwXAwjUWkpt/juN8ZFdQARAnLFmWuKaYx9ycwk0itAdfWw/Gq6Pft6CZp/s/qvOVYKhJH+YifXKi\n",
       "7GuORmnMZ+/zY/C/dEDpKTxlE1WXFAkiO3+P1vXz3mkKBEjhEGthoczAMYSy6roeJXY9zDaap/ii\n",
       "gQrngx1DisdbMee42YFPYekR6blqZNBxtxfHnWG6U4k+I9koSY0Uv2RL2fRFuGt+WErHzSNW5fbb\n",
       "nQ1KPI4OXB6gQJGjV1TNmfucHz6uZo8zVvggpZGGbdjYsVnS2cpSUtsWRTiWQTHE8lraCX3hpFxA\n",
       "Wz/2O/dmBjeJTimrxeamGW/YKvsKwi7QZ/kAJaY+ef4+tK7cSq4f6iLruvR3caYSjtz9t1jbQRLu\n",
       "nnbeAybpUqE9RogYzABSJFD9BKFtfFvTkWbQM/tHqY4EiUcou5qXyhq9OkPhhUXntxxjiEOriZTY\n",
       "pmgs5Hpb0/rks1VreQ0qId9UpklODEUdO/u1TMT7pVtzj7iBbU0MHcaguNcB3hbhhjWeN1qHGQAA\n",
       "AbNBm55J4Q8mUwIf//6plgAAEB+M35kOwhXlK1AF3pmGdY5Zm6IHPzwigZAAWUxIo8jfJiiafl/s\n",
       "+4ieKxHpj3Zf9dgOGj/a04DT7uk7fSbC5cn2SO3fj1Z7eazduQ7kB4AZy5hG52qBQXHmZUYRRM7/\n",
       "ll6Pxbj4X846jiLQ8Hdbfsjvjag0T5ORr/ONGHKox/4cXvBSTU9iN+RGPFDkbYffQEDjCqJcMva+\n",
       "6ZjMRezaubeTGCT5fWNAP0643ZNs1ICq8mVO0lXrObg6ngu6gQZ/aAtI9qYIcFvbAXopDxPpsytY\n",
       "pXCKha2Ic73XpYkz4j2PUMNVBqG3Fsrl6xjxIUkMDgrmu/hc5KGgNwyl0dsn19YSBhh0EPdHfV7P\n",
       "h+KO7PEFPaFWXbhPZN0E5gc4yPR/FUZgahVg8dCp9x3pAscr7TRgjO8a00drdxS1Icgc5HveKCbw\n",
       "crPzGv+cWXYHNKkYDGm3RCiTyNeeF3HOHZF78bXSTX6GWjukSBlfm0oGK6o6K8htkvxpvWGNkZaB\n",
       "BQjSigbP2KGbzy/B8iefNcMDii08pGqz4tqhFRuc4NfP70VSfTAAAAIXQZu/SeEPJlMCH//+qZYA\n",
       "AA+e4cxAKxGAD9ZZlUVMjGqtXGVKza+U5RHkOYqBkhIEXN9RVVruXlG3K1HizYfTITY1htmOlYV6\n",
       "RVWfReiw0hTGPW/f6OYGd/SwXiTyyR1F0p6a4v1Az55ZCSfMQKrZ4e5Fw1ozbjXUBJMpC15EU9PD\n",
       "cGiv2zVeSq92kHrbgci+iUjGOESLT3y/8OLaIxWkq4FAtzDXUP8N1tSSwPrnaiqs/OuJ6BVq6OZX\n",
       "Yat5gQyTaGgtgaTg2+9afMu8J0VjwXLHAcufVCcaPxT/XE+Uv0iavwlyGte0F9k02yifV4fjVzdq\n",
       "HgfoB2H47LKjqIXigYjdv3+5HJtyU43qojHy0yFC5fuzQj3UiD7bKDqA6N/hSI6NeILYOMiJ/GuL\n",
       "2UQU9OhloLXPKOivncLln/C0Dq+1gOvowrDDncigHPP3t+zfZX0SRmpLJfLidN+AuimOJp5j74PZ\n",
       "LhcVoFnbqpCgVLk7Xev6TGvC826s4PsPcztHdrP7hyMCMsgLjs7PST2bPPm22E9rkVekUmmxpCgL\n",
       "1YLhJKduSC6TJLBozPHi2p/TK/s5fuQT1mLEw4UDx+uRjAWaWjd0T37N+uReTmxa9YEqX1OWTku8\n",
       "SIr5kVL7V/3zzbBJlDw5gt1e/w21aUADLoxMHI+qMV+R++a3Q33vaXRgUZsgbQHRiAqSbaj6C5L/\n",
       "gqsFiMJ/OAAAAkBBm8BJ4Q8mUwIIf/6qVQAABAf7a97wqYbwsfZf+EPa8AX/bLxUGSiqoo/Ti+Go\n",
       "+xp/VY4YV1nyoLGJXRwbt3+4eiqI5/YqZ6puifB7mS7Lst8i3zxHg7iZnv80lU7hopY3cmPgTi7C\n",
       "vKRUMRSttxa0VOMFBSxo4q+PLux4TB72jF9Lb2v6KVm9RHvVvaIzP0vCRHkULmhfaWBbuahIWcR1\n",
       "PV2AhkFuA0TSBb7B54cq9Ca+DrArjcen67kyIrMTZtlcd+BYKdSVsLh85OABPsKPwx0zoNeorOWj\n",
       "dBOjgY4Kes2i11TzForymlXh722mOV2j+hzrBsWO7f9htBiBRWc89SzkDPX28v5eYlGpnthrQOps\n",
       "XXUcr+btRkU4cwLl1YLoXrAFFIeJp0m7A56hlNS90cTJ8tpYPLQZWeT6Z2Jv31aEudLcUIKvf0yg\n",
       "tyQznjwFexTE8Xxu3MyIDoEIvkKuY4lU0yiNwh797q/3zO0sHafX2CrAIW+daRX6orNsR8GWrGN0\n",
       "N5ahswv9giNBALvvtQvtOsdg6OoccjVbE22BZq/ONNOEKXLQolVWB+Pv0f5O/uxLeFKWIYPe+3zn\n",
       "pDMoMcb88vKofMt1RrLeFssu1YsN6CaPua8PLplCkzZAZctKMrEP+cO+CZg8p2HSD8fXTsEDyFib\n",
       "df0OWKVpp9sNqeJMSSgKGH/Jq4arz0xy1m2FonLVmmBR1fNeQmyzNcxqQbLZwYMrzGS/b53YDurj\n",
       "/ZX2+mpFYieJ0RjjXgIFA6kAAAN2QZviSeEPJlMFETw///6plgAAD0E2mteArUAOCHArN08aolG1\n",
       "fnf3wUb2flS7y/ug6lTuq1HT1z39jpPPJ3iEKLGQrYuQFVR75d4qu5jb1ymGn/4GBQM+QEYc0ByQ\n",
       "Oeop8JxOGyZSpgVDn+K2jtKuWckFQT45maUJBuKZuGDW7iu/eDLuNSnHvDayh5zazg5t37YJ6RRL\n",
       "hreQBqRwuY/EeewlJx8kZ4sYJn/xnJ2m+zC55upZgXzEPpZKoi11dbJy2GCmAD64CZwu/V9hAARh\n",
       "ilcg+62fWqrqxiPvbm+RACI8bziCFq49iXpBwSuH9XWSBzABZ4bxTpvqYPkke0C2ZcmhvPvJ44QD\n",
       "SuFXMfz9f2foEOy/c8GjbzRPK09ibOFL7eKhgw5Z82i/Ijks2vbBSLBPTQSSJDIH3iTGu0yMOGGy\n",
       "M4aum3yIYH5uAFQOrqiwWGcs6I4+KaoKfKTpExr9vFy14c1SBzseITOg7RxyFEK9gq/e2yM+eQrO\n",
       "fADu2FbwBmdj2tfMOqh42WW8czpT9Ae4fA0mr/lf2sbm2Bl10pZTlGabLAF0nuofImdLpVCl+kDa\n",
       "8EcgyzLUAjh+Pau9Arg5lL2bAEFzyuk01IX7NBL+65K250g3O6zWVlNgS6mdykTNQlg8PbrFKwS4\n",
       "6JP0SYjTdzwqueaJQKjIY+biI7utpqIV7X1YU6qOnVeoC/nyF5lxpxkteHlZ5BEW2Glgu5cVHF2/\n",
       "Tr7bIyumqVxbwwnjVgIFMI7gehAJ4wCqLKf9NA3a6FjOWmNtJZATLs+u/T7FT1XgVlV7cdSqJ0FI\n",
       "k2kmTckEMElxzNkk/kpGcCGBH+SuLAGHmAVXjqeCbmlJxKhxrn3SwxQ9sUX3QzNorhoRoVqATLrK\n",
       "cE/ZU3TefFArwQNI+HxNHbc23PP4M8ImE9vARPmAjMlw2oRTxRMTd4DPhCr2ADBx+ZbnwKRVu7ON\n",
       "Yfplptgs1jLzFFrXYX+0blJGU0bpi70b2xLs6pA+/Sd4zwN/ezISqeULjJqILz7jGdy3NQLo2jqQ\n",
       "Vx8A/3Laksdnicoenot42XL/KASOKVpJxpGTyWCAvASG5DjSOpCL7DQe44Wr9gHXeX75XG4o4Ixr\n",
       "Lphgs7bitNcWDGwrwgAz+2qe0/Mvz8iPvbzDVJ4p28qbal4qVJkvFrA3Yxiv+lW8NNpK2AAAAToB\n",
       "ngFqQ38AACK160RKjpe4gBIn1ptsyO2uQV6BcflEW8QybBYSdDFCa410rLo1DjbKq7v/1JdkxBE8\n",
       "iGAxunjB4utwZjDG84ZouMnMnNtvvJsUJmxgfD7fnFV61wqB3RI+LWNeG6cpp0ppcAHFenoiqa8l\n",
       "SK537bupUgALSMBRcmMfJa70URGpHuboOOZRcD/9cZOPykfKStTtjnBQUKyAT3MFkgO0pwQBdJdW\n",
       "cwKVqexUIOaM/z1ECRLexrBt8JhIsv7XIDah/3qxPKp9UTbQGUvPmUH0KJXE3v1WtRmanOCGIOg9\n",
       "hVYU61LeP97I/3vE0JtY/xL7B1Hi4OTz7lZTirNNyCOMHi5Mfs02M323dSu220PBzxak4fn42hZi\n",
       "5IGKzlmWQWm91OAvK+ikSA5BZPYQEiQzlfQCgwAAAo5BmgNJ4Q8mUwIf//6plgAAmB7bQAcb5EHR\n",
       "XWLuXMSoYxjIVnXGMWv3/+piwlHmsYAU4qgDh5AN5HiWSefFtRpZ9bV8JZCNrLkpT8Qq6fXCRg8L\n",
       "I8F1U7Sib+EUY29xvV7ADJVEZ6ZzRuE3mH/djISeO3/yvYgc8HMVUeI1PqdOoenKeNGfcBz/hui+\n",
       "b5MLefus/WfYZ3cwJYSmng2Uq4o7/DNWME+fzj63MvZtoyRDBxLP4utHcG4M5jky3YKrq01HoL+C\n",
       "h4Hz2ewlIm/Qhri6zm93wAoXCUM6arL4J3dgZ8ImGyxO4mTbP/O1U9n5wkMCi/IQ+d/hRUL+kIi6\n",
       "deu+4+4UpM8ekSeV4hMGAaVz+yF2ftNctajpGtufSJAGIuMtZorkWc6CoRTobohNzf7k0JeDmm8x\n",
       "gDNSHWOzt3CIGJxetHuWW87pi2w6y//9J+/jjdn8X8mdXd9kCw9uTyQkZWeQ/vXhlgltxfk928EX\n",
       "bsVxxSq0tEAYpFuCJluy1A3KWpd7JAFt997uVsDYlyUm5VY9koM+a8SPDFe1JSYkUBX6rVHvktex\n",
       "Do9hQliZtCtcym4G9NxJWSdg9PEvd36dw8ZibdPCbPCdZ1RDnQor2CiBRiLNB5RGa9+xK4MNtw1D\n",
       "H9RvpLrmvxZt4prn0CE5Yb4n8ZY3lvI2FeWcyW3qpN3F1EWMd0gZlKMy0p9dvrm0T7z4y4W+pjgt\n",
       "lJzYLvC4GEgLe4t+mfed0uHvz+akmWugFZeR1AYUxTbctkEg4zuGZiSjFe7wLX73s4tCr9w7uofY\n",
       "mZMv9nnFZ8QJED/9ehOwgWzUHljpWlkFRMHXiQoVbBup9FfUeloYV6Kmjbqk4oxXnRVexfcLrXha\n",
       "IBgAAAKSQZokSeEPJlMCH//+qZYAAd/Z/8GWAcARCR2P+flpWNgenO2FL2fQVMnsePg0FI5mvmar\n",
       "YuddziKjan4Fqm3OjTmVtrrSd55ZiNq+MdXJPJGz8qfcUZzAa2QoZ5rLsTL+7jr4LUvRmb6vA8ZK\n",
       "7OBOt1RK88Zo0e2nnWkcv+INs05gxC+ooy2LZSpIrFe55BrQ8/aXobEEzmWsZLv3hr1p5cAlRcBx\n",
       "87Hx8V1fNQmU6sWgCq8PCFel9pT8rUgHqAFKuusoOuOVLXHVlKGqNumqay1EmwNsJnxGCH2e+i0y\n",
       "Rs5EjmwxS4MI5We4OcvYLG7Cf2W6lbR3twJRv1Cmr83/RYJx4/vJCE5FX3mJwRHL+BAVApQqmoXc\n",
       "TrZoSgGHZOcBsHmVcIpBsxzsZ/Z6Yt0IpEaDPBGUjTx0oVbADkZVSBYsZ2YPjoFxp/YH3Z0Mbz0R\n",
       "t9gYtlWm2RP/urIJs5v8PdCVaKXK52FcfgWToh45WZ0W7+h6c9SD4FTHR7HxSdItAYjf9t+6dkac\n",
       "If+w4TNyLo1ym9YuPf25IF3/JKQiFAT0rXIH6cuzBmY7XiqLRzI+sQ8zyM3MTDuOPn35x2xgeMxL\n",
       "mnEWKvMlP8XfTrkgm5uG+HW/AOS3VHkpxkW5enF7qxkQbk2Ai7H6Ji0gdG4K28FPhhBfs4Q7DUcq\n",
       "EAm69ayeyn8XODy/VFd+kEigD+K1OG6zYfazNDa7YmApFq0kWPUk6rKY275zkmLiTnN/c0N7xlX/\n",
       "SuFTeKLvOUATv/uk/ki2R7TIWSkqLpr07dtoWHnjXtcMWb80tkEF1gsC4xUG91+djO97ZLky9/YO\n",
       "KjfUjIWw88ul17xBryTrj2VB37E7Ss+IQeVk9alyK0YE892N2QAAAi5BmkVJ4Q8mUwIf//6plgAG\n",
       "BKJHbC8ALOIjtVsNhNBrFWafpa04Z0AMIH02EoEGP/RxIEkAGLHYMsErQ7Kx7alg9/FZUEm6lCfY\n",
       "k3qYaRh79YyajIE/+zEe6d2S1TSg+jB85bF5xjY7RWi06cjSZtPsPt43bCvwVNqrIjua9EzDHJeS\n",
       "TLq6ZIvgPXcaQ1EVTpXmaVFEtghrvH1p3ryYerz9Qm8sepy3AuQdFlbMIreNomi7j9F/X7cxXyqM\n",
       "NfRiiQ7BY3JVfZq7/9ZTaErc1FcL8k9ydMyXBeorcOyARpxaRX++Bju+cprk8nG1hDwpI80uCbde\n",
       "+PWvn/ptiTELs6cJqu9+r1Z1hzBE9xUShcrGuMTDzVt5D9XIwniqsPIK7L8/Iy3KAixK05cStuMK\n",
       "F6k/bGMQndyeebzd7iXlRTAoIBNqXtqflxXYvBEPo34sRzzRWxpz3HWy99n9VdXCrK4Exr0zDnr2\n",
       "9Tbm1jjBZLYZBNsqdVEoKvz7x8n43pLOdrzGfei54pv5hJc4bs+3IwOiwZAcLJncr7ZN6X6oOPGj\n",
       "NHw0xt4xVNciO5Osc0OcjLe6BfXES5vBE/d0KaoXIIkAcRb7UOMRwRp/n/a+hRu2vL4ajSmgmzZD\n",
       "PEb2ENMnwcAwQWhtpwyvKEHPdcPOKJsmMabkewajt8ib7sDIM0f0/g7vWlRkz2LyZ9B7S8HTnrrn\n",
       "E8jPyGHxbpqBWx+0MZPcJ12BpGOKQB8JBY+pdMEAAAJQQZpmSeEPJlMCH//+qZYAExit4xeuAC2R\n",
       "y0mMeM+1LDvnLVzS/5EH5CyV4jxeDuNf54kL+Ma7eEO1mWkcZfRr/w3WFnUECMZxhy3Fh/mCeN2J\n",
       "53TlOQD54ZqwpJV/Xd0HusEcFIlVyhAOvPYL27od+RIeDxMIDxaFj3Lgvcl5L06SonG7nu9vSHn9\n",
       "4ljLyTZGzhQ+emW/er1PG89il3cYgecS3Vz/TMG38cL2WwtYz6tn0rlAbqM0E4TYCnNaDJZ1gLPW\n",
       "fD18S3TwrqQnnlE42/2OGTf/9zVGvtgEH1sB85kHaOy3TLGBB6GhYtZzz3lhbLcgmSnfl1ZpB6ux\n",
       "u6VvVlL+yjI1HcQPUxqPAkqjcMCwpRVIfw8SZPPyluUJDfdYYBOIGYlno624TCuN1ruX6BhK8FIR\n",
       "ptmXpH2IowjTqDot+TupUmtu+2YQ5n3AjfJ7DCHRbsHrNp8BwSyXuB/MMChrkuctU+ypd9zD60q1\n",
       "2UWwo9B2YINes43nbWVpVujIbzM7OGk9EDD7SsokwhVPQBnAaQXfZaYtbac2fqnUuArrSZ0WhQcy\n",
       "zpa72a5KjDKhxdtimUTt8/1E0VwaC5VDHH0GsnxfZ+Lz5/THkkJ8ek/98TysrXtqNtAQnejIL6vR\n",
       "3NUQj16B06Bs4K94BsSsMnYQNF5x3WoGHg+cuJSzAX5OIg6k7TE1s1CD9X4HmI6ozaWBimN99BSt\n",
       "c4PAxEIsIpi/DyGAA4GimCMLKPjUIUIU//By+otGpruYb1ZpVIpILOI9MAv2Z5w9Cr8Lli3X2QAA\n",
       "Ak5BmodJ4Q8mUwIf//6plgA7ptKQA3Y8uItMJWgxWcSyKtxYo/UxS3e7uQwKh7gx7KWK0Iq8+Ifw\n",
       "jqaFpLzuitWqPpobPzMO1XItlpIIUmq9a1+ZQt3AA1xuWs1Exde7+c7KH7ZXw8449n1OI35VpunN\n",
       "bhmJAEJ0o5zbcx9LmdSoqOViNrtIRGqqEJdAm9/rj3NouN5VcXcco1EN3Dt3lHDRRIdJUzyVNcBx\n",
       "r/HGMuRIZrY8tFSTJXvwsMIcai5J5aJAyZrBJbXnfOfb+2mHV/tppWdWRGZIUl3E/tu7SwwqyP5+\n",
       "KSny5sqwcN3ro9RY16MALuuuiNJa4oTNMUIDOAZWtPcodhqvr1NXTffR0mlw45EIE/wEqzd+JLSW\n",
       "+NDxMhBsrURpEpteWUs5oMtaT1PbTwd3YeiMox3M/9HSzJxAiIVEb0kB8vIX4hKGtjEiJkI6j5qp\n",
       "QCusQrTgJKfGO3Pk9j7Bt0TejZcVrEfG0YnnZmZRAEdOmif7XPTQE004jvh9i2hmN01mOG9ojXdQ\n",
       "x5DRwFY1uHZFX3ev6HQMe3XfRldS/xTuwKQvOQVxM9z4S315jJZyfF3A3wCycKnte8dKgDz4VL45\n",
       "bcqJTE1UTMgDsWzFnLwKZLb/ZitY602vwsDz+l7idlc9AAopS/+L7JQRE75p3tn3Je/CIAo4hQuw\n",
       "SQXkXdVb3LD7STVV7hgfvctymzgNzVBLHFFQkuRIGXVk7HXL87jN/tuhu6AiZKSNRzdM2Um9yzZy\n",
       "SgjQ2fIFE0lWH36Y2eqwKBfCDoBWYQAAAjBBmqhJ4Q8mUwIf//6plgA7pV/GgBXC3XN7O5gOgFyV\n",
       "k3NMaE6FwpaLKqUaXn86oDcxONpeaoI3/UEYIBqiOqyfDoQO+vvjcmhPtDunh5HlhL3USQ9ClNeX\n",
       "/t58C9mM40U5U/GDijx2Xmj6doo3kbS0zcJlvkwqKCMzxR2CWz0s9W2b5PLQRriewH9BiH7BIUdg\n",
       "eIAIixUpHcBJ5JGtnmTcaickfYOAXwmqGe664cP4mrKWwBxNVEvTDUneGmjcD0VDdeWsXS059EDY\n",
       "UJHD2/JM+Ejl1MtEFhhX/txOiGj3KaYi+4jXlvZv/BOCIdxs5aRBUkynvUXOphMkPQNz0EEKAHbm\n",
       "5pJGBhqYm1dwuASNfmw/Vwgfis3/LFWij0gpmW3j0baffI/vslqWPAtQg2Bq5hbTC0ldGAl/CfW4\n",
       "DSmAc37CoML6ZxJ3o1gfPVW44c/9H236du+3gVm13jrrMvYAD5TD+t2KnHDRm2pxp894BPfj2g8W\n",
       "DZBgwparyNc2g4Ji+WR/OsMGEtu2BmxEF9NFDtHvqcXSZhts+rnr0x9ywHnM+LQG8EAxBR8dI3pg\n",
       "thD5fH/LFRSJSupGXJ+G63/sQs4TNV/rSHJdeGV1hVQaed81fug/3QZeDMqv+i6PGb0fuUqQlKRB\n",
       "rI8kJluDPv1pIodZxkoVrGquVwaYqs1VSCRlgnej/qfJIRi0SQHXPC3/IbAA13bMac0DclICjqHE\n",
       "oPkVYFtgIrOc8ks2SFR4EAAAAhxBmslJ4Q8mUwIf//6plgA7obzoARkDu9x1E/fo/et70Dd3lLXy\n",
       "5FGWVg+D8odMuiG0EclBcyMySy80k5UF5Q50JwKubnm2VzSpl/s/Hj0P3Iwwo/dgYedYLgZlkETK\n",
       "43eEUb2M7Lz365QsqVxa04lb+4hYuWrNM5sEqWWJsLMLDZVHahzKCuotiESswYap0+SwHM+pUd4a\n",
       "TVvnoM/rGDm+pwZZAR+iw6lASNptGNw7xta/J3tpuCenmeZnVPBgbgMYRgeiSkYeCxePuv2J3Mdi\n",
       "s+RRa+N7tkOHq3uyiwomT/6+quzwX1OYH3Nea66F3lujEQC7quXSRiM/qGIi2Pppl5/DGhTdhHvx\n",
       "pbEcNXCa52/oT76vUAAPjIUAymn05n3x8kX3Kegr4lfxQe2t7Qr+la4W17Yjbw2Ha50HU2z7UpzU\n",
       "uuXwo2sfMXhFRrKMdlRo4kWU8y3FbeDh4He8tMp9z+/h4rbG0foBylttbNUWqLV1hdTuQlFBDEck\n",
       "veB/R6BNb7+kRzG3fO2tWY2Y8svlrYddLSuEFLkGrWHnkJB1h0vcJqMAgHqTt/wL0wTOh/gshh03\n",
       "XhvuSKWvEQOfNm+aOaQDTQjMqfuaMlYC/IzMHEZJ///rB5MuHFfk+rDD5PLB42CpUKtqJURvbgtB\n",
       "sa7JfqdVWdGlyPUJB3AEo2sqGEH7bPAYLrgmijHdlSriM+b+OG4oFmiHyNvOI2AAAAIPQZrqSeEP\n",
       "JlMCH//+qZYAO6Guo96ADifuuh3aIB5JKFjlIyGHWO5jGuega/r7C/PeDT/N1bN+aO+0FoeJpINY\n",
       "Hs34oYkrBYbYPyHlALTgfxyx6Ml9h9ENdiXu/Lv5Hf8U8/R4PuMTl6lupuzIDq9ZlTIT024376Fo\n",
       "NNlH5lLveVsclYEBqnlTLkHt4DZeC9YkeaoxN1oS6WC/g2KE7HHO7C/f8Ev8PmlNvhw7ldni7woi\n",
       "ZP93xCxBCIE6+ex/G0HSJRB9uqftPolnVJ7qpc9cHbXpmwDANhrXYUVdbIDjgU65oCt1CWtpBA8/\n",
       "DsMbbRowkYQSW3qiQAZ3sUCGCeGjNiFcuFLsw245Ij/6Nj3tTzdk8j1CGGKQOvkXqZ1QT/ZFQSWo\n",
       "QekjBgZ+64PuS12Hr18OOlV+sHSeZRsZgN8pzWf57mevBSMWCRXVSVvdhnjR1fhYdwTzwnxFoXJC\n",
       "iitpCmKTIn7amEBgHQuELVMqQKiHVOpyT6YmUrO/6k6IQQqT7WtnVaYluCY9g2DYSbtDkVVNPcRB\n",
       "QrgVcD0k25fsks1OXC7HKpMAbVmbQLYzNUYWzB+fYYf66XirlHlUsxGHnez2V6zW9SmPSubwo13S\n",
       "C4G8TAGKN9N3hYHN5mRDqYQmeHadqatnso7DsVGQywE9/O2Yn/xzKo1Xo3rSVp79JJ/xtd74ap3E\n",
       "KAXGyyrOXsEAAAINQZsLSeEPJlMCH//+qZYAO6by8AOOEZx8jzQr0h3kJtfTD2hd6hbFNy3IfiAH\n",
       "VIQLfdRccWRGnn1bAL5IOkBi7o7FzfwEfvcxQPZv1QgmPR6QlG3FBQonKPXnxSrf+j4RkTbB5VOl\n",
       "pVWg0fbQ+xb3TzbqcalJgTbcYb17v/x3qPIVX6QSxerMU75rZpTpVvO7z0WVqp0ycC1xGztSDbAQ\n",
       "OChE/CBrUXf6G+S8XeTtZMWjE9gGbwBaJEsrgtA1UAipLQ5eYB1FawQQmr0ooCn5mjTE2JRYQtbI\n",
       "yOkTFaFIlMRymoMLtdAJQDApcWNtBNIY/r/lf1I7DIlL2rgrlP9TTtq2tfmB/U3jAcEZAlUIUe2M\n",
       "GV2zWpWKWlXq0hSDE1gwfZph0qcgAhtroI0avIOhLZNorVMfWMR+4wduwLNPID4Pa1DnmVkLM57H\n",
       "5+qcevykQOAIAPnGtH6/0QtX2tFIP+RKaqjupehVSlso0DBpjNG7Ee6FsFWcbxZ37TZXF4OITmDK\n",
       "KAMFRqD5IFBceIEROGH8VqvlfxehucYBRWG+8XFYPCCLB38WfvV+px4hJ/It9zqcqnHMRb/nkn+p\n",
       "busy3u+8xxJBokLEtnIlWfNCIV+RI/3S0pN26GrHl7c+jSvgHQBEMbNaMjiev5geKU76a/+c68ku\n",
       "UWqIgSGKr2DNNBZ20rAH/4dVFd4ZuKUVAAACREGbLEnhDyZTAgh//qpVAA7rFwzABxXrG3/g2gSs\n",
       "OulZzxd4QN0VNOYRqf3PtGViiAs+uie29b7H77HCYaCKOVeJNS/41iB+A1jFAYTa3OZ5l1XsBVRV\n",
       "HQ1og3YVjsBDoqC7VVzJoWlthaO7wi3fIMMj5z2C2/XxI2d9fRDNdi3ZwKtxKUfIuzi8GxZjXrho\n",
       "ontHyGZTUuXmi4lMu2Lq78rthlXS2OR6Ha5LJMUX4+1Yrv/8vaLgpH/PPA9aypihDd2L1u402A+7\n",
       "QyUZ3kvF7Qahzk6aH08+Q9h2FPYwfsoQDL5DlK/h1UdGFGoTowFHOCn4DT01qF8mcGfyw5IK/QHG\n",
       "F3IA6iaKLukC4alkLIujXBYbwXXjDRJM5jBKsVvRO1rUF3YdqnQsnYvJSDx+oWq27fWONX+LK+X6\n",
       "tjCzS7XRKSnWShkcU8Odm0Xa1l2l8EhhIqSn0VRMp9M0CYANPKyDM0SbUa/rX+o3oRWHitYDPGS3\n",
       "swJkpcLvNQAjvWOYQLxgFNtcnJE8lYD8LTy0jqtvEYFlwOyp65k3S1Opl4drxIFeanUtJtuTesMa\n",
       "hx1FkleqYnWw9Hmsxuu2JxzJbwHw7OzvltW4CKHhzlL/RFzjTStmhSARUnbxoq4eOWgqzsOeNDlM\n",
       "Tw3oU3XgcnPeM9I9HHaX1wYm+lhRPuZzryBXutv4E4paPJOq+TJUsbE9aR6svon+yYeYfo+QnJ5/\n",
       "DPW7I/Ype0GIuuO2K3dkHq4pfGjvBOjQAJhxYbC0Lv7AxNeSh6QAAAKYQZtNSeEPJlMCCH/+qlUA\n",
       "D0N3rZlgAD+AH0u//z3KToLb71YA5LD9eC2v4jIBz3i2lBG8K0f04uFxg7UzvPkU+3ERsylix+Hi\n",
       "p4w8AcUY7Naog3W3dGOaoSFafSzLDwyBmSR/3iTGxjuiqOeIsHNd5lnIcZjwy+XwrgcskPb0Gq+3\n",
       "zOaaSyAIQ+0kvsgHyKI88a5VENHoYwV/1ULfvmBrzI1Tk6KZCoBw6eafe1BqYoggqr6+Oz2r4SvI\n",
       "41keG3sGKLhYkro3NFSWKJCMjZ4Tg/Go6mlHV8QGTT22eSNeIAnvdEcDQe1JaGki0B/alePc/EK2\n",
       "T3+do7Vv69nJpH+FqNXr19xZRRVSkyz4HJeeF0bDPhhgt+aTQzpTIu62r4YnLi696A7I9WhMyvtb\n",
       "cCDtCQgk/fDF9tceCS1fPgK10ACWuR/+WPgZPHRXZtoXqr8iVvni/wq+CyrEpVH1lEmVyrhwpakh\n",
       "1ZpspinoRiJj93w0RBXoJEgK1/V9k4igIU2wSoDvRrU1+V/RcqPPlwjYrrVd4sEK7mgKuIlw42rE\n",
       "Bu9OV4yzbGZd6sBdZPAi8nQpilGWPYpKZFEfpA7Fc1o13AsamtlV7fUMHAJ9u8KWBmyWGhLVIF6m\n",
       "AaXTX/0XwBuJ8jr/3LYiMtoaeT3bqhboEtJ2ohgfsgywDXrO2/G/+tAaXmCfqZaYSV91x/Wi7Ybn\n",
       "jo3pxBl3nn/9gaqv8I4vZwqga0vJcgwK2dmmQuPpto80B16H9gqmAJ6TcGv+b7KoH4BZHnOjwe6/\n",
       "Ow0/wH14fdTAWm93OhhUhfoo5Nkqj2oEXvYBiwik/a3pYe1vLHBG6lP4PgJkq8plC4vjtRJBnaby\n",
       "4wN3sh5vr8h4hGDFLbbW6XOCUIangQAAAlRBm25J4Q8mUwII//61KoAHoZwqABCja/ab9f2TjVew\n",
       "zhnwKrHx96Of4CwVmlkSQN5XDmfiVxoum8pPbcvUi6T12WkPciM+qP5UVVnx4ySA39qfjNeuAs9x\n",
       "ZwN5koYEb8/u3L3oZY1/9q+JP12wi8WZ2j3iPp+ssjo0rR+Gg54dXyJzElWh6W9kHVcqvw6bcAJv\n",
       "gJ/+IkrGf57CXWtsU3UofUwYM3IWCL5jbFDjW++J2lHL+fCuLOVTY8qZrZQZZCSptBDAdaQ4urtw\n",
       "ne+q7lJSn0/8ttYUcqnK02EL/X2/HugsBJS43wMUzdOYjgvbYmic9mtKLO5D+XLV6CpTMdGDSoKN\n",
       "RWc98nSESqH3fGpMGZm52so56xRVyvQYvsN0yXoO7XwNpnQdD0o6d9OTGJA0ZFewc4CuIlm5Bfbd\n",
       "jGlyQkTAR2xUfqQMYgY3dgfOND+1yzbgaKFfIZSnxD2B90I2Q1zJxG5LebqSR6mg7YMSQjm9bW4g\n",
       "9ugEQWFf4kaI2xdw5/2b2tilgBq0RUkMO/LRxTuNW3U88xmRy5d90pRHra2dstZdVGPU2AvWPuuQ\n",
       "FEdoFlLUnUzSkYGxa//80lN4/zaj0KXoAHyh9z1GSTMH2t1IInfqsv/lJ5TY/YPUEwDpKlRdLD37\n",
       "vG6sa8YD3YvGPWXw5x9JvOJsMp3LM2PJ3DClu+gcdygXt01UIAHhRb5bf6jfAQATSGzn0QCwkFIl\n",
       "dQDSXjW01R1Tw+30z2xJfGDPCzvn8TKliO410XAme5js/5p9/G2on+BkgNp7O9xYFJKR1QAAA0ZB\n",
       "m5BJ4Q8mUwURPBH//rUqgAegu/NE0VyH8k0YIANgdtJcKtPRVYbfp+ewOZubs4Mj0UvQRxzy4IU1\n",
       "lw8uEhcyrmNJEpQP1VwV+bQMbAfFaS3OEhWomqjJJwWTcnHxGL5a3HKiNVM6lLcUOTbMwrt+fKdw\n",
       "SAXY9ErZ6VFlBlZVqrhUc+kfUcqDRsS873miUCsdUIol5VymqhV0u0gta63NeG/TlXxrVJMFaCTO\n",
       "xLuFW/yn87KIEtYG8mKD9/tL0HYQliZTn5A/R37jPvyI6KbqjYzmn+7WBNtcF3oM72zi8Impoa0D\n",
       "7rFj2wp/IDjs/2McujyDTmhyQglP2ckS4pdbwW1ySKi//sF0cTD7wy20qLakPBzjKL405QfH48Wu\n",
       "kDm74PaKjBYPEppIsQrq0SNMGot7xa8UGXsAc7O3DiqexncaV57Ko8ZAzgbuUjSYJnyZWkswYV9N\n",
       "pYs+cG8b8snSYkVyqKqMGS6O/fHKJhQjYsWuHwiLzY20Rt0o1rL0OEHr/6rhmI4IG5zGU5ROi3NJ\n",
       "veOQ9VynRS9x6KBkOg0zJumjtXBdfa6dI+ikKM671O0zMLbDjxvwhhnN7xURQNU9PC8QKjdc331H\n",
       "gdtQql284uR6+5iAcYiA4ezowvVTSlUwiLgcoa9FDGGY6D6WUTiSCBA8nJVJ4bZ514IYOzQm/f1L\n",
       "Vpmr/NC4G4Vky76uB4FYhgxG4YzF95LCrFKBYlYqMYFIu6yETtnadtJLn9kyzMkaeyPAmIcLyYzG\n",
       "w8og8om03dq0T8/CKS5Q1Xj7XH1lbM73WqFVL1E0W8kYdC3kbxOE4OikxUzw1fO3YP7V06EH+C/7\n",
       "jjg8ExRdm+WIpbsnO/wyTvazr9P84W6XddBJHdCPv3XY6lqAlW3ytXgHuRbbdWn1m/0dc2Ml91+J\n",
       "LQsNbzs/1hX4baFte87L5I08Ofj8kyGSKYaAERqMH0sb8ZkUFR9TI+eXKMqz30TCw8Y+ZwkujNZB\n",
       "tqpMlMrxfxNyGaG+MD2CHUa5CAVGXeSkUahz7lJJpHtTvkAKGrkherGI5AOy3H6Xgf4J0R1/4cDa\n",
       "C5rFTeMz8sPBBd41WRGFEYsZ7hBhZYfcWskgT/8ckejJu6IyuV3hAAABkQGfr2pDfwArMscyl0LT\n",
       "HfAiIOf0pDcUBtyfpp0m/bllSwdcBzDZpngzCvuzQaxLXmBhj/Tzto2V+7gAlU9hj9gR4G16+VTk\n",
       "RJvxz+tMlbHCOjNVmGGDvfUaYP/q6tVVTVt4GbPLPC/etynKxeLZyCeQrkelSXKzIcR/GcMPO+4i\n",
       "s71oEXLjlFchOVOigbUyXZn722+mYiR+JUXE6WnTTcz5RIgL3rRf6oJicBGtyKMTjp4g8vGHFNih\n",
       "4QHCzOqlV0cL5ITEoVhexJjOWTYZ5neYFP7OLvAzS9Fw0KP6pZYNMV/4I5XVkNbYfsaERXbFfk4l\n",
       "GFkKQkDHAvVQ0YnehOu5pM2eKJH7bMaPXLugUxunTsJHYiGg4G6/f38IeZohMiNQsC4YDYgWliUo\n",
       "53HH2aA4QBiqjH1UJSnCtSe5CLp5IIuE8h76Zz+sxatveeOaslZA8tK2iEE1CCB8Pgylr3F7TsXY\n",
       "spT3JpMV87s/l/Qd1qPepuaKbXPMj0tM9LSZB2fifO4vx1NKsbRa/XBOoylBAAAEA0GbtEnhDyZT\n",
       "Agj//rUqgAJz9+2UzZ7Gwd3FdpQE6lENGZHwAJfXpiKWi6wXJDp6BEK7U8eGRo0hQojR6X+hsDGD\n",
       "TWTq0kAWcfqUiBIdL0F997OhaSEYLJkN8DADzkbSrfmBqWpObI+I3wFXeo1TICbaMGG7tY5rOoxt\n",
       "Y7NOvQAeIS/1d1542XbH26gVJI1mBh/I9V62/KXpOluiBtFuDAiasdBX2YfPiB+vbMSru+PUH9fa\n",
       "ZazpeymW0yECbp0z7kczszwhOJxW1GFlpEIlNIiy4OCYgbVCV/pZ83nMngqiuMKGT97Z66ftGcsD\n",
       "y8cFiWMCSN7zYxVb2mVVn1fwSWecRDZtbduiIwkA2oy8mOiUDA7TfxAPtsyFu3f7HpLfTi6GR9AK\n",
       "/pfEmvWQ1hX2BLM9ETkjaGAoLsdBP48KJ9w+/MawKuh8JAt6HFFFwq66eGUEUgn+MIxkE2WsANtu\n",
       "o5yWr1ycOKg/+J0oQGhvPMLl5RM7b2waqrLi5NSTQkLXAm97AIcg9qTrU6IBi8t/++2T3G/JEvFa\n",
       "CHVXJitzkgnp/hTu4hpZkI5BCokH0C7g3ofsc5xAubHJ/DXlo6Qt/t9dBR8v/A2GVAkgiZWNQly7\n",
       "2GHTFBBPZgwj9h7yDxm+nRFXf/t1JW4Xp1JU2/3g5mEkzMXAGRNYKeXqs3blHOzIcGV3GvcEdqH2\n",
       "RR3/35tjbIQ8Pg+/NGHPsg4MJWeLc3Gn+M9giJzy7iKzat3yjkkpSHOi2Yfgda1CHixHuDNVnlqT\n",
       "V8c3IHZ3MzfO9vpnJamEABndI9WBjlxBvbuIM7I81CTOpvxLSZIsLvky5//g+KM2ehU0wkoT5Ceb\n",
       "vsfAzLFtn0v0VsbY8NkT3PSF+J4yhGIYHsfHg/XKCvDD6L0pFSlueSfc/SgJf4sFFtkxt5Fbn9H1\n",
       "gIMkpxyeUnVfhuZ6bNVxuH7Wxc1KQqJFpneaqpJoTarI5lBksCiDHJsjn+H8wFiEuyLdQrWoVKSF\n",
       "igRARvAk/Yatv7nj/fkIMyXXew7YuIMax52XkdrvDppVvHoLDNERiDBzOT5hoeWtxLGfNCA/Oh9o\n",
       "KbYRMqS/Cuu6A2yNd3AIBifvgvevkRuXl6fzBHHXdzI8pjaFTHaI9JjMB81mGY423tU5JDStkEOp\n",
       "YLgeY653w9N1/k0SQqRNgaM0egxwt5U+RVn3f/+A1gHg/bue0xBOELoORQQMQPYv8WC/jOoK7Thk\n",
       "ewqq5StV2/mhfFxlfZdc6OjaYs1cgWS3N/mCQfnYoQaT9S7MEX8RId9hMYmwvjsIQ2jwpqJXLhIp\n",
       "rHiByt//qtu3rPnr08nPgva36/5h71BgcYoP8ZaFck6H3AHA/5Tt54ult6IzeqPH0FAAAAJQQZ/S\n",
       "RRE8O/8ACYOSbeZxoycGP2CAATt6d3kOHc65F56tzvdVYkp4ZUu/fNPnjJeCrNfj8h5+FhD0maUz\n",
       "UKxSG7U9aoEG9dQJkdshsh1q8DzbLhdpcaEwNX/myNFe8IVuY0bpmNYB0GrX2VJTdQJvCjO9QWx9\n",
       "FkMCgdcC996pP7zTfPd+hXftzEcBs1mVns2oSQo7EG9+Hvwzd7kYTBJ9Tv8qQ0zvvfYG+w/j1JDM\n",
       "oqxP4LTdcc24btszbctyYFtsURKqJf5pvHwgKlghVx9Y7Nkui79tRnFOM1X7xaUl4+/hoO4gqqQe\n",
       "F2e1qKaYAD3QuvMHR+n90GQ+9rUxlJeXqagKK9xb+YByHnUuU19YyKmg3rxUiXPYlUibLGTdMrII\n",
       "tRGgd8n5z9yp5ElLURtHgPetdPQH6HW3ntCNYUsHnJYxS++KAJWUjSz90oeQ+w41PhMDsFQKH7H5\n",
       "gweD+qKWHZ43WfYYUtPmI9vAea9/nmltrO13Krq0F9SKLEpm1RBEbtikR30HLYyEVfy3NjsDjRJL\n",
       "glgx4jdO3L00wOpSwaMznIwlP0g5Af8ERBczUq72whdt5lcBORMCfP9KtJiZKMyNvN0PaCpet5w1\n",
       "G+HWve7+phfNpGU+fkj3IrrEHOTvJmKddXmiXwft6+rUpp1sw9UVieSLR5a4TrFKF6d/OUin+Owc\n",
       "icki+AqA640mSFlJG2v/BSEs7cuvOSkWR85JRxfC6D6WgaJaIGvTB7VlgRF+g5BQVGQXvAymX9AL\n",
       "BjhtN5peb9m21/OLATMkKchYwQAAAZ4Bn/F0Q38ADXpKYqIyAFiNlaIn8Vl8iO0OHdsFljMSK21d\n",
       "JJWyas2X0s2Djjb7nTbV49f+em2nStT0pnpQY9OTIuQVJnHoOc4NT93xV2ng8AdFpS1wL8XQAQ4A\n",
       "MZ4CI7EIXyVXeErHWzjVME4wrufbwAWXzObjlHS8azL0AqzpHFPiWDTRv89Lwut3yFe9B4oUSZZB\n",
       "V8mOrHRQrlXugJ54j/Ld/j549vmhRbAte5BjgkFZIvKxJavmqLbO2jVziFZ1/G6ZWPaLbzzC+TMt\n",
       "v/xfbIt3FZfP1pg332u7FoW/Iv76TaltXhQjonLjtmZulWdOtNpmH0KXD3nXByMqBA/eUAuAjtja\n",
       "zLFLXTjHXzzwNay0VwGi1O7xq12LHEFpXC1UmthdjBfCJwxOvcV2DeWNxH1UAWv2uY21Leoe44Uw\n",
       "zCeZWe28le0CIRgM0aka7oza3JlpmRvIyRpW5jZhfXR/rM6BwjRqQT06D1oPtR1Xc9cEJOMi3h6q\n",
       "85jqdRcnk5ydboAAAAMAGbCyiko98wQb8QErPztD/9FC9+54BLwAAAITAZ/zakN/AA2ABk2zh5Qw\n",
       "8n0ALaOD0JGJoZlG3Vb1zBZ08V3PhreUF3x4KGehONevICEoRAYshtZeWQzs+XNqxqeeUBi49e8Q\n",
       "PlmZoGkndRQYhk9vz/w4KjAkdc2SZwsLWIT23M9AxGDpWSsw7OV66GPyk9/kpFOUzRWKhGzPeIfy\n",
       "DC0d3mJj4PF4KXLxXtukIJ4Y8SW9A/ujA7jIpY29g4Oi2fH4i+VEt99Lf5JClrfnfBdVVVhsE0Tf\n",
       "4754oDaT6OwYv6WyNSWhIgCop6PgNsTShAzYuR3qqLmO6mbiRAKtW2T6OzKf9CEr05aFNoJqxxOm\n",
       "s/1fnKG71K9afp5I9K22DihX2+ROWxPCyZ/2sFRyaM1qGDnX3r0c5KgeOV6sqS453v7Jsd1eearu\n",
       "+EC6tiDpVDqxhArpi6BAD0gtHmj1AgP4vAkQgddsLklUzfzwzQcxbWcK0M+Nxl7NQWyOQ5EbtaMv\n",
       "2GXRzmtdxp9wHofXDChXCTQQUf33ORndBDUe8SaQzrIwN0Bin9iJYfeH/TNiL8/Q+aWy3/OwISMJ\n",
       "ZJakQjYwsZPOA1Xg8iejnChCqSga9CjZVGrZiynYR3j5ZSf/zlOra4twy7Dp+8NEao20sTyAsbOl\n",
       "hrzixjZqZJSi0bOJewtmul+eeRdaha/th8Yl32K6gOgT6tCtHr/8kunX38H8qUv+gLEB9SGV58zS\n",
       "iAVMAAAF6kGb+EmoQWiZTAgj//61KoAAE5+zcy94gcCAGzBcjzb+EqArAESpG7otWfAcC7gXlKKf\n",
       "NzLTobXuAArkaI21mH/GtsXARxLjUatfu/+CD+7ULPP89D+uA7sMX76W/e3rs3oAWKgsNei3BPSU\n",
       "T2HjsNgsmYAHPJE8Co2ch1fJyikGZtyq7QlAp+hoCOdST0yJ5erK/MurDB9nqfsvJXpfHkIY8bXE\n",
       "UNZpECcvG6ule2sImPZV1j8e8hNqGJveORkVLG7ZkqbXr6Nw3WUG6MWZOg2mvklZ9Q471ROn2b2I\n",
       "r+ZkQ2i6rAyvMKpiO5W9/V524u5pTO/L+IFsLjah5EW2dFDEULqHOISyyIrzO1DonRMVCWJOt78V\n",
       "MGEiqgWw0K6nFvB/XxmwNmn2TznasdI6X6ZlncGYsnISkzfX0/OJZkkadnDoE2xKzFhHHhWrK57t\n",
       "lNfHh0nmgeTXPQGJvAPIe4cljaZfuNtcPlad0IjLOK/A431s8e4bdPDV6f/sl6DvtNks+zKHIiA+\n",
       "xpof1QUp5culvp1H9zD2N5kva6AuvENrE0wfCURyfz3agwf+oJVqhwrS82ISNZmkQrs7XkcA7nqB\n",
       "P4NsGvHhUDu4TfIygFp1YlVaPKlImLAzezwqyr1E7TltakUJIU1Lz0akEqWYBbhoGPowtDRwsRcx\n",
       "e+fDVIJsstE4MpfrEzm754TXDmtpw9vwm8thuI2bpnroQ/fKfKuWWQ9NlvCIMB2u/zBnVamBnQKa\n",
       "p+FOrJdm2PzEzbzZXN3/pnOcLKU9MY/Kzb3MOWMCmTfJT86ucqnStNXEMnKBlpPrXz5X8XiGD/Yu\n",
       "M+0WCzmrgNpqn/9SCDpMYhzyJ//g8exMgv6Ej6Mlrei/YD9ffSxI7KcYkL0Z0PPr69v7LCJ3beGS\n",
       "dBgJTRCAlYJWYy+NkHPUAstTmsPlDH/JqPdIQEUAyarkTt1qbSVbeGzf90dtSFaz8Q/IX2ew85ti\n",
       "NusaXXJ583RptTdtoC4vhh9jFpFDfVNfjhiB6yYh+//nfWwERmmobAIogmiyY+rcFf0tNuLKuOrT\n",
       "JJzK9mHFUkwWPRphyFpMvWjvoiC7MFNgbtBvjfqYNzLWMdo11YzDeqtUdZFza1SdLr5YxqIq4CoC\n",
       "34d1B3lUTqBxei0RY0wp3yhC+Kj4mCtaDO4I8wRdpSa6hTMzfcvnZW+Q/8bWIr6gbHcw7MfVi+Ac\n",
       "m/t5/LZ2WrInxujr4V+EzPA1mhCuzNx75FovYxZ7ZStmmWGABLPLIgRROdNPZCuqsSCKWwY4R1iH\n",
       "s1ekyYEAgj8I+xp60WaRXOvxIvFo3qT6xyTzCpKxbO6ZgAmjPaC5NJxBiUnj8H2fljmNEs4G3nEe\n",
       "qABannx5bP4gMLbsqg5Dcd83vTyRR0dJi5ADzYewPsAhY2UYEiIwtEPVWJ1YTM3YBFt/naeBNDjd\n",
       "8OEXMpMiVX9VjIPxR3QXt40s4f4uv7gZGhk9mYl1mvlMiXR+fMOSaMPl4wV8qTFYgdD67BPYPwBI\n",
       "/jAPiZp9KzkPMfgD2pSSG53AjhlfwHn5Coyn5yCmm+/KWcuC91HXLw/x8mTEHWxYDCVihsksWiHF\n",
       "uRwkig1EQlFUEgtgZ/n9Yxp6PZJps6bh8QAp0kbiMyfT3Oz0+NXkWHCeXa2DPME9iX8i+qOAfhsT\n",
       "QS15sFOYz9ypVcRKuBLB9kFsq2BeV5bUw+Q8xh3RPlTzMzMtqgDp+7GXfjcs2az5K4i5icpMenmL\n",
       "TqD1nBKQ0rfmQkIxfB2cUB+VQWUJ2rXDvjMJchp33/KIYAhzKrg5ZNbtAeaINWvcNDjj87n6baYO\n",
       "+XsoJIzujG0xoAFuS+g9POrdOCB8hZcZPEX1RzXaXsSreW7FsRTH6tJmUzU7kU7TOjdRSi9HOcXP\n",
       "O8+YuhnZ73KbJUK7qCIKcGy7HSs0Aqa/DZ7gW9dHcYFwtqGhf0ITBzHO1/2Kly8QPutg1Ppz+CCO\n",
       "jy1CYBFeUIBH+GjS9r6U75G1DWakZKp7hQ72HTvovCB4mTR7xKXhAAADRUGeFkURLDv/AAOQRpsd\n",
       "DIQgnrwCEfDStvMsHleLIWZklC3f+9rV5tAWOdmo3GPof67haACRhOIagDuKFwWQPsbO8AZq3MMZ\n",
       "sr8Jubp772jWWtYefu+Rc/DzPhILXN62onD38Q7xpWiZtkMRC4N5TolvFbbBRzZ5oLVKLBnDKoBA\n",
       "kyNjZBX+Wp/D7Fjhg4CO9VFdaKK85yX+0umouTB1NXoPVV/XkBGGPw30OmlVFYIVoeYLDuH9R7S6\n",
       "VFvGwQRapvP7yht/UfNTyB/2xqcK45C40DNFhEiOGFbprZaFj60Xv19tWyr3xYBJE0h3so6JBoE8\n",
       "h1z0FRs2APWwSHeFXiPgPviG0e+oPo1a/baRPrUVL2A5+T4FxiHb70eNhO0MME/t/5xtB9AUIX8N\n",
       "sO6HxWPTagbowQUDF0vhL3WA2kwI9MVDzGGdglKznBx2+2hFndQP8OaVIakz/kUD7Y6ln3mdJUIx\n",
       "b7JT/9pFLRWa7E0tW5zVe1vsvri/aahIjBJoZuFLdNI4d2jpiWhvhPfdNf320h9BeqVmBWrM2Sr2\n",
       "dUcm1EvmbR6H5smpu8LzN5s0rTWfwf1hau0PoUh5p6NphBTZknXYY6eq2SkrqcxGSOJwSyyNPVpS\n",
       "xX1Lgs+tIUQNqTu7gEmMok6tR/kbgnWzUk4Rek/m/XwX9bjexa73o80KXYY9HLIdn7HSf18jECFx\n",
       "Db2GZho7muDaOxgSQjVkGMNbNL7nmRV0utz7lwa7katclzrU0uqMriq7WejCfVf49bKfrthKDUwk\n",
       "o1FdBe7egrnaMHrRVtbZWvDumC6O2cgnrtzNyv9XaDxBUCeU0ZroKW4VyDTtQBQF9IpL9OY1Zh9Y\n",
       "5Z2a3frqsIkgguITujedW0VOhlkS6yRcIMfXjY1Z1ot92UVwyYiQ5oTlaMbQsWO46LFuSVutWsl6\n",
       "mWsFbY841vbt8wlCZlKXzCWUdbE9n5s61FoH2Nytd/3vW1fujjPOmcnZNeoTEJ3cE4BCqEt1vq0D\n",
       "daaMCEpbXPxS942KnxJRmAaROirXU0JsijyQvCiaLPmHGk9pIwvBzcsa3wu6/oySPwITxUUqm8ob\n",
       "sS+8oorQTFPgR3Puh5DnOe6ewr5imNIHzAAAApABnjV0Q38ABRzverWTUitonOwDAB4UGLkXWMcM\n",
       "akySYxSrjlGLB94QFI5N3NAsBtlgF4g3XoiBL6+oJT8PfrlqfwenM9R/6UIMkKYKzTNtY1cOWKBE\n",
       "ggWgfnk33dsSCIBg4Mjg3ULL7ZAmht9xupJqO8I7gAm82lqiCYbHN42u9KFzbrebHfjk3FFr4CRE\n",
       "OcNNCE2zT0rgbUq2+JLmmXq/76vc5jo+V6t2XJJvTe7NzRMhhDWjXXdBlxjDpBekmCXjpbQ8VtRl\n",
       "2OMrFGf3TsAcPeZvj2EVp1yQ6odgBKea/5iNKlrGkvLGCVe+xwVtvR/dEw9sCKrJcEJiFEtoGZ3o\n",
       "/wxPT6jesUKVIPPpEn2gMv0SLYMkLpOxP8ioW3xGxaEccfB2NR9REp6xl57wV7tNqdtrwJ5/xbi4\n",
       "BcFXovXF2TQR6C+62rO4HNPm8Fj//u3E7pL/JHrb46xVOZFjEeA4yb4Ns7tC8z+Cw4ucKebIP3nE\n",
       "2o8wTAiomXwzjucqrggoygbLuVkxksp4Amgfr7ANK51bh88mXb/1hbBjLsgJ6zcJA0saYPoTP8pT\n",
       "p3jF4z0ig4FpQKCSX5PFJNQREw90n+cEBOqLpp7rjeYWjp2nXCZCZ5jDxjcLjEyVgjN94wVx1I6K\n",
       "/j1FkDYa7d1zyGxH6MeoktkIxU91gSFFhq044qoAii+d4YeHVNDT5A0KMrEjANIzZZn3B/OpP1xo\n",
       "wIZxWkXhB/UFZ+cLzLYtv+pVhc7lzxRG7FDRbG4OSIJnbh6yyUkmNxCoZjeH3gluV7a8QGPK90dS\n",
       "fmzlzBfCZyXKWvQyF+aGZz9tzGC91helsmYi3fS5Ts9VrwISrEq/26cEhcLtxp2pKC8J4EkEykzK\n",
       "gQAAAqcBnjdqQ38ABR3oOZhgF7VBTO9x2YRxFgoOAEykXJ88ez7swe3xTCM1wg37JNpgftH97cER\n",
       "u1SX9wUeFiCAWYLp94PAscpPp675V0/19lmF5kqxzdDTIiopq9RgJikgIC8WTJ/MqoIsbkWviyZE\n",
       "rvwgBJuoOTrgcAKs4IDUO/8qSHW4+SWSigG/nbA+zrGZZduFyoL/M/zZQ8HJP3ef9FJxVxbkj7H5\n",
       "3L7lXHrHfG/GxcyvrlqfQUJaLI5z3TLtBIYVeOS+38LRByy7OOC4FavlSHxFGB4TMERnKmbplGVZ\n",
       "XSy43ZMP/gSKjFyYcaXRiMJw+ZZ6+9ryU7nvZ1AWGVy425Ditile9DfmpGd1mjdBQxy5nU4rl/ue\n",
       "epS7L0hBKSlu8jcTiaoqo95j1rh7OFoWZNqj4epVblP6P5Tm/IuholjwKuKdQG7Bb+kobHB3wvfl\n",
       "3KZ9qPpmy0yy7s8PDr6cPECRXSyT2MHXv+97bpcpg5x1nmPMsFvKs8F8Dz+8QHTSRxQFb8MAwixM\n",
       "yPHw3Kgbb3HDOoJ7K3VmKdO+aK8KqnP4Q5/o4Ja9VFi1VzvrpxR4OMUj/7HOQCwjwjVN80NxmvzX\n",
       "RyMUdYxMDEYPmgblEkOEl6WMO+Q7MkvEcV+L5hFJFnEYDy7NIOKnpp1RBCXv+nhOH7DAegJrH7SK\n",
       "eHueYDxTkNRgMnUP3Bf7hAcuimUTh8CM3hjjk4EeTSmb3QmsssQpoeYOWQLbqJ41OOp9XcIkN3v/\n",
       "I2wtx/W5rnxXNhFhlja6CdkOmRCXnMO95BgNRAkSy5qLFPYjdlyAm67eYC9+u1a8U+Z1xQ65gSeS\n",
       "zPdnywHN6mNcLtqyyD+RaiX2CsIBASZzj9JJyS21omyawigfq/0XWxa8FUaKDnNaahN3CLgJwBux\n",
       "AAAGlkGaPEmoQWyZTAgj//61KoAAAJz9m6a1W/YQfzQ0SVeLksWOVPjofZ0CJ2Y6XOgnPwYu2I2A\n",
       "CMDcOKBvuQlU3m5Fxar05PxWCiohRfBUZxkqkbxVpEX3SUYvtNUEvEgEsA1qCavo4pLNlhy9bvui\n",
       "x3Q2XP0fUNWVJoQ+7y6ibK+uuLHV2W17dXPW10ccDRrl5xySjlQ2wNBFX2b95bFVLXeN0kPEfCAE\n",
       "9TPgsuTjPD9Fi+kL0TTCRgPGxlYckzXw0eMYYXTDdrfjp72emoioDbN4hNLA3ERMAPMeET5qkc/S\n",
       "TOigHxrN0xhlKikNQZpTqjRpHfgPpI0b8qCF91nZHJNjal5aeAPOF9haY3Hgah0HP0TGgSpjkuNX\n",
       "VBWXPSL9GNA0F9YnvlMZpp72JGRNaJjWXzdwc9fwZ/Yg4cAOuZW2xlPUOk2DrRMz9jI7Xy7uxNwT\n",
       "r3pIAuvfQiXhmMGOMO7rP6FOGDlb98atU31J0gRoZh4jrLq2S+u6C9nKxR7o3pInXeqT0AkkEj//\n",
       "LjLx3GUUBhxpPtvtICqI3UEhfQfx84iZss+lrbiZCpXhzUKOEoxcJwJM6nPpkYeyUgzh83I6pLVu\n",
       "iKJ7jK31vCXBjEtQS8ZUS1wlgLwkVkJ9A4orXyS9hCC/qY8jIE3lvmLTfevvAOWTJKNGptip5w7U\n",
       "m6Gogk5uv0KgSPhCa2JBguNVmp7x36ri17ugZR2CQzaX7wsIbmu0gHHrKe4xXKXJjv/8wTtsDnGq\n",
       "YmmXwZrZRWx+lgkpUJpdnAQsIkbQfN3LItDDdU6zrHt4FhQhZeVj5MHZ7cNWDLMKEcIA0CoCaAcr\n",
       "Jyysj2GhaEToouSNsKQrvQaSY7E3ppfvHnCoDkT/PK4dw4XwIyQM9YdJv4O0gWbgT0V1Mw+O6JIe\n",
       "3sDsWwQ232A69fz+q5Nk5Y06u4f6i8KqoNMuZE3LbwJPF7qNplqY5H4zaF4wVRJW6ScH990jhZF1\n",
       "0gogZTuOtOG4DsV3ZFl1XFwAI+qpRovlZ4ibOP7GGwDsQml2ZtCoMBLIOQf5+SW6C4KdgOLl6iYo\n",
       "excSMDloyS5Ukz8WO+uukkaLmKD220EM0eC5BBZgx1RHgRYRLsIT147iId5eFvv4EksXY6ffBFDy\n",
       "rV/ZQxRNEqAt9Yr1hY7DBu2t88A3g1AxKCC6/vVIjLBVD3QIh/2EpakK62Ft8PtQeZATbHTCd9Rq\n",
       "8/Xu1Xh1AT0mzvwLWo1De6LePQb4xOzA8SPfryAolCXCz3/sbheHX0+VgLKSBhljNHwmpYSh/LNI\n",
       "nPRgVRGMNLq3Bd4s9Ae0kxadrEzAcXkTvh3eLXiBbdux7D3V5zohUYIFCMa2EpxrKN9L83BHtoq8\n",
       "wXLTm4jZC3h/GBTKpL5DqtBFEHQsLjlx07mNKKl/SaBRNT7hwa/95YDVIuKTDEBuI8mWcthjXa6t\n",
       "7C9RxxJcnv9udtaBXSKVUjLceFg3OBnLS7zwuH3Ta8Y7lkaifgLdbV86Rb77x3Sq+JnjS6g8YYGN\n",
       "/V5tCFEi2LS+Dkarkf6di3xHiUF+sykcTSfW4tPYhp2P2A1c6N2uneJy6tc+iIkOse9FirnD4FXn\n",
       "kpUvI5uA9eJU9uqNOJ5iHiDcTcYzoS6lghSZ4KGHwO8Kv2ZnLocpia82KS8ff6i6+g9cFGheDkux\n",
       "6zPYbQZ/nlzd2vW5WrDS0IU3pJeuoe1dWbR5ixIzJf3akX1eMksvCzeMNuis40cuSo6dnV0xpMje\n",
       "RVLR+ElxFHhyL1gOzbbRVsq+H3v4YLsMlhtgUQLd8L0L+1OpRjWeLGkaAugC65TID2262t+gEaIe\n",
       "fXnmj2mY8h3TxKfxV/RDvqEOK3rBUE19egH41JeZx6j/noxAhV8AucBywfdxU/PhKjgsiYD1PyBn\n",
       "a/0Pc2MOtBX9HR+lNqSSPSL9qXw1wYU244RJg0/HLHdFKMNY3cMs5enhfCscnXFSAr9XKF6RdcfW\n",
       "nUI02MlpZi9iPs6/q3XU7+4VlOfkkfwXlH6siTbdkGzeSlMeyGvO3GhsqH9XuWosGjQ66dxsCNmc\n",
       "VVYzjBd8Wnk7kBu4L7mhcaTHldTAqvnopiF3NH9139fiM604Qp09u/ZGx1c5CGhxo8esrUJBcUyh\n",
       "KptlFmqAXosZ9usOzEONFaECVm4pyJZ/SNHjWPHONrzRIogDS6agxvGnr0DG3PJLSh7EPtVrKcYF\n",
       "X/NwYFsGJppcDx03zNIBH7y4Ni7Ffk9UMEwqfmOYHayTIzqicwAABANBnlpFFSw7/wADkEaaiIlV\n",
       "UXd5EsQvWG+3pMQAlDi9ixjN3dcPaUtFTgKNMELRZgaTNpkSC6VKCU3jMZfGBCORDxlGis6WQ8Zy\n",
       "ZXEB9zQA6d22h+o7v4Kw8ukuqnW09mBGpcajyAgtwh38pcypbC7iPpU0guM15/Tj9f+bdK+DoFIE\n",
       "XDZXwTm04hHWwZ/3/l8Pf510BUGHaVeEFC7fw91HKRuOY4V8cHM4lOKWXJvJA/hfBeJ7M+AeNJ/7\n",
       "lG7lWz8ZkRr018aNfkZuU6eN1DPwxyJug5gyGaHTpZy7TB/ch7UpTFFAxPkqE1yDlk1GMOuNddlT\n",
       "/lX9fMolIPwM2vVdTC+Y5b3woCgCKrQXXQfl9Yjl7dZUmsViRP2e5AnsQlZ3eWA5EzaKxO3Ob29/\n",
       "hpKzpEbJl7XN5KjLn+m2Li7i2qjRVRLlciYNU/fhSEfK5z9O0JQ946dP1xdvRKqB6jUpX+ElJ5Hm\n",
       "jwtdkBGp+MhrgeuE4oIpDzupUzFx15G9PKqbhrgOtsGtWELHoyA7r5aHDOBthbEWPBV33zTgd/rs\n",
       "qYryUXDiHzAbIDUVpJsHi9qeSuhmt87st23AZoyfe4NSEJB3l4gdUwXLlwh6gcVezI7K5pwoL7Ao\n",
       "xt0B/ruuWLcQVuq/mAwVOfJXmPMQbBg/h67UQLtQXv/MZUkse4bJBinc8z4rYXlyaK18/2hbkvU0\n",
       "jFtosCrcdijlkWFW8YWjpfN+BMAgvrod2t1W2iUTmdracWMq54/K1wh3ZU2iz4CYg2X4O2wckHdi\n",
       "6G4PPlogWDmIzkk0MGsSMmU6Hj75W7WkK826wuDmenJBf8sZN/x0er+/38nlXqSG0O/+wjSJHZfg\n",
       "OyqcPW5/Jrh4SL/sX2KZa4H3MthIqHMAUoPX2sWLF5TqvKSVFQNc3hXUAqGlYz7pDlMiyEiDifw5\n",
       "BtB3ZqgrJ0E1xnW1gTP4YTsCUeKa2uUsIYKaF+4WegGJJju6ZXKjJSh0MfT5C40TD2llS/qo8xAH\n",
       "n4SESZXGc8euEqSIZ9XO9Hmnz8we+JU51NAlDta5qHqqyri7uYfbca0GaVfDf0KQjS6FN2mp8pP2\n",
       "L3xPyW+Hz5heu7nC50GO2vekVBjy+fsxJ7E0VO/0e9pVD41BawBrXORXaclz4lJm2X6MuQz+Dbwk\n",
       "YYoWyF/KrqGlWCOOWYtHCf+DVW8iLoAFxBrCd8FqTgk/anyVBg3EEDR47MOz3jPS9qamLXh5dxg9\n",
       "ALkOxPaoGvRHvdL37QJzp/kZpPdR5P4+X1jJmFj+oBg06A1jI7VR1M9GSR1dtBZ/CQvfvFlh7MZd\n",
       "I2CF+McG2AqZVBvyE7/A51jMmDlzplXxb3AnIv8BXpFpGjCZhmZ+4LGBAAAC7gGeeXRDfwAFHO92\n",
       "0SiRFszg1E++/P7NyBPni0evrAB8UsDqkXCh51SqLE+dKU9DdCk1QAZHmo4qJsLAwoFviBhWo6tF\n",
       "+z4mE5P9e4K4Cu9IbHBQcKF3iMYStlivfeY2Sq9wXfkATaqWexy3ViL2ohu9h6JYSllTkdickCqe\n",
       "dtI3AMYmxJxOrV2y47K9CZb7hedxaFoaBuSIVCOv1GMgefCMnT2zpOJNSLvdtbg+E3XX9tzA77DU\n",
       "M1ljIpVj7zQ0RqXaaZVTlhtEu4f0RZU9TKXEJJ9ajRUHNrkjaKoMENJkBhFP61K84TAkmq8etPBs\n",
       "x8+Gqxml5KVfGcpMce5aD49Z/7jKGyi/nXJQ8/a9CnpA4//bd/n22AErs7rZG9M44kCLU6bSFWFU\n",
       "dghOHt6882jjEKZRYo7z6j4GcnEYLFZKnzuZkiqY59h6VP9CaO9Re2ZKj4XEGotHX/0SUyPGYQud\n",
       "D8droKnY3nC7r1Rv4aIWAHZw4XotzofQ+caQbYwyJLsqg977ct8WaGSUUjOLIPBNRRvgarsWln7+\n",
       "ZDA9boU1FijXzVZmuGKZIXyCMlfGDhnxTYMsaGluUx/Y8Fn6/nk95LO9KcHEL4u8oyfOU96R7tYt\n",
       "RUF4N5OMYwoNZi3Rf3RBp4oZL2Oo97ZrPKHDqUE3PfZwpVgIIP+QJkDaCl23g9i9+KKmgFtFo9tE\n",
       "xXn3KKh2AVs5FqTw2yDl69/Bu1wOBm57rXTYPzLjgXH/zNjjrHMIbV7ljeryTHWZDlEn6ckNhco5\n",
       "KGkEEGoh+u2g5AvzpLzK8lZlTKCMUKnXvcv11nplcqFjlnLxASo1xjEhu7iq9zA4aQKPKVFlm4pI\n",
       "v1wBuJBngxHjzmxLeOzpwd1CP2qzIgvCnyEKFnLTndCFWp7rWkq3hCrU9tsLx0thiqhkH+83NVBF\n",
       "JAwIfTnC9/e7N/20nN+8jEkwwxDT432Hxb3KHhS3JOGiUvbJtGWH8f5KukpM80ciqubvH0wTcAAA\n",
       "AwEBnntqQ38ABR3oOPHeeP/JfqYna7BHfAIPOV25qgPNVfoENLyiYplHZ898aVfBWtQXD+PYoV5H\n",
       "1PD8km/aFJj4bJCTBOP9Pk0VrT9KZLhPVf/iQTR0WqfrG4wYfEV6XsELTa1XStk5yvxvPJnmUK0H\n",
       "aX9uhTwTJD5+8ot/IH/xDv+ubIcTEnyoPaiqP2z85delWbxHH8lwq1HS+j9ZunecAJa4wWCkIQY/\n",
       "woppF8/xS6jma7fAR8b8EP5/sQNRa+GY/ffzp6jt0lDVofaczgbWxkYmkH1IeWpY+1Wp3Bw8JqZu\n",
       "xS1CAXHn/s+NItL4BAwgmjtNpsGOgiyDna4dcXBs6ZvmVFYn1oug5cfBHTRmZhbuT7YEc2xAJWrI\n",
       "ptC5mG71MZ7vINnBagYZJ1k+EegThUjFoEDMjTIPJ/BzThb3SXweF4fdMS96Ad/taCyZXahaxHH5\n",
       "w3PHcc1Fbt1EAbAfhMFYwL6/JEwXLqvYaPTdmbqSsOanyYn4C8Xr79IrPoP6BxD9SGJpWKO7NPzH\n",
       "dcZGungmb2ML4owh4VEUkIXqZSiZXktDztnf5MCy6scd70r2ldsb6x7xuTC7ZFg3hV5CBqEJ8Mon\n",
       "EigibC1sRP4iLMqwh0qewLNv5B3DjVbG62/tugHUn7n4h6LP4tuCXGiWD6AQvioR68cNlz9JZC8c\n",
       "jjfo1weEJfUqq+7kdCbtVMlq63/fm2/Gfl567TZwPtmoxHpTLNjhp0gOUhaqlBIEgvhWD78BKsd7\n",
       "xE6BbWP7+93j/LZ+k/jGDRckr86WMDqXECUCwhFlfPaV/PYUWFt/AQZpiW0kaUmF3YaH678L3dA2\n",
       "g+rVOMbgZWvpNDFSoh50TYSxnBVzNVDVunF6RY02ZKZ7mW4L/swoOrqxcYp2f5yfXnIvxdQKicyR\n",
       "C25JuucxqNbz2oKIAB6b99A7maIbVhlCpKoOLsh0yl/9F3TfLV+ymWG+wALk9IlkH1+8owKyUf4O\n",
       "rIYNZXVdsyF+EnKPV4h1+97oe2baWndTdYgIALaBAAAF4EGaf0moQWyZTAgj//61KoAAAA9EbaUo\n",
       "AxSJGhZsbSDII5n3EWjJrOTpf6RG7ZkjHinSNVj+IxHAYPRY5bTCnhKQziHFqPnNyveu++mM7x4m\n",
       "irTEz+02T//Sy6ujTf3a1P59OiLulRXRxwt+m2GaNrHOUG0nILkdtoaO4Yuet+ObHNP2KbyZDG9I\n",
       "spfnSt6RpkAjKNqLL+LrkxNZW5MlXrrft2tevVFoaC15V6Sbd2hk/134D7/GChaJMPGgnQtKmjT/\n",
       "MQSQg6aoLRb54W1yuk/6WNhtsFaVxD3WUgUDI+xjxafVIZf8n+RQc7GWPDzEY9JHXi1AuananUrP\n",
       "or6/9526iK0aUbRyQWUwgao5lTu/gE6gNvLlOsrf0TQiL9QCZ96I1hr3B8MmIGR2GvqJHSisOAw1\n",
       "8+U8gnFTI3ab0Xgld/LasvEiFKtq2T47QrWlCk5b93uOzi2ywrwsCW42/+6jaCrVqwzMrIwRumFG\n",
       "6fCcnGbv33yGbT9nj25s++Kv8q/Z5iHiB7GbDrMCOyx4cf1xm7uc3hjJ9TNjVuytyRIAARRAWGdd\n",
       "Gn4AB2b0a8p+58Ok+/0xre3tm1G79Dv73RsfaWw3lySMR4edtDtEj2RCRJ0YRyAtOTB2aMbA2J5u\n",
       "Jiq2IwfhB1FeyLWCYzqxR3To29yua2391cry7bm9lPIL9Zz9NW/+k5zok/UYThutob7FBNpx2WWk\n",
       "M8nc1WAGc373FMxUlgCkbE6OuIu2X8kIE/KjoEqhoaDja3tsCQRd/eXwxEGC/l8ET+ymvyiKCcLF\n",
       "Wf42YWPiVRarNZdAfTe1jhBypGejagFce7NqY9sAxLVuYCLZHfS6YE9cofCS9DtuQcOqsF1BpN83\n",
       "iHdVtGIhlCwjLB2n8XTGDUGESYmEJN3lqW8stUmICjMKGM1UU2HWUcGu5Mc1qflvWYZLKOY67F5V\n",
       "obxexw+CtfpZNVrNVjMcd5EZO++/e0FHfxkMXZYgvUdWIEvo0Mut5cLhqtFDKT6aoiLWjjbpvjVe\n",
       "6/+W6dEQoLkqgtQ/1MuQ5IaotsN82MaLVPFNTZ+83JbooJL+fDkv4KRgQn2KMmShidnK+XV5NTo+\n",
       "6emt0HhLdzYUbiO1mNH7Z9vgZoulduEkdaGMO3B/1lra612ltFvUKd2Bg0M9SBDwjM+E2/kqQFub\n",
       "PqZJn7qZjWMisTMH7w9rr0cdX/rGwBihaIjpJ5W7mKQsLcriXs0cDdW4SXMk5hPS0eNhFa7FG9QV\n",
       "Z4HYCUHZ6HacpEanPyV8QpFCunusHWppEv5l8Lt0ZQVZ1E4csqZ6EZHKUeEQcPl9CLgN6T1WZygz\n",
       "JkhW3fH1acHnAb9C0q1xzgssiVIhnwsJl9AL+y0fcdcj739rCKcGHcH9VbZmQW1guZIssDZXIx+t\n",
       "uZGH0ITYwe7OblFV6G0F0Ji43zvRiwe3A+/4VEElYkDvESumhXYG/MJYbVMptvg3xX+Tbd5qKLOl\n",
       "eRagOUN5v9rS830XLj8N3OdBRVJMduhlGIkz2xhtk6My51Zru4TchcbZwLMijjgrgc9hnGKtWNRF\n",
       "xmkiLyNxijlKbk+owoZEbMJ9PvxxlCYuoIQOmqyG8Jd4Zmuek3lF0eh4tWgsy/MCNnLWAvU3Anu7\n",
       "H0y0DqQ3HOWXyd4Ysiw1Xi+4Uwh8E+7Ae2kxVUdSnbxmZEhAwg/+U87B7cz4J5RkpwHX8GD/8b/j\n",
       "vvjjZmtrRYP7jJGNg8/oT3jEKXxKrNnnMNzYaOr0Mq+0I08k+ZgJDV6Vrde5NmXlahSInSavOP4B\n",
       "qoxnkzPMVr1gAkD8HESjjuObsclMh5vF8jEiAc7Q5srf2mHEwrzHpFLZrvvNX0tqdrL0/c+bF1ht\n",
       "NxjnvYYwcVRZ9/P55kwYW9IWwnkhzsDA/JqQnfJu8/nE6vrWgwCfE9RWjCTwToVvCv6kQZFbLxPO\n",
       "lQD2wsvWR8wLy9xBWKBzryw0PS/HM8wy5PJsj4c8ud5vAMdxAFl63EvEZAYr/1LV2EhyfOnAKkEA\n",
       "AAM2QZ6dRRUsN/8ABR5geHj0lYjhMBmJQikn+uku0W9x1UIAJ0YbtqJxuNKZy57+15EJMEOTnt9O\n",
       "3lNovcAVpssRuN4TOzSkpN598fli2jtNyyfiH8fk43jxe+L4m/wfmO6GhGrwx5QHGMe9zZRVwrGB\n",
       "RKzwHQYhIxTW6r0M3QZLtj8pB3mgCvNLhW7SZE2civv0FZNDxpdhi28fOGUSUM6Mw9iE3lWdXaW2\n",
       "I3/77Sq9BiJ6MRQUhOrqQLix1HSql18gPDoLGWXiH0/RR7HAmARcnOqb782LVMWJyMln9fLCGGjR\n",
       "qZZgYaqrs5Xre0q5O1kbz4gUxmIvnAVovQBne+2n6bAnrmY1sENcfZcwXa/Lj0Nv7nLnuMPGIDBW\n",
       "BPZzU5rhzqob+Ng6lxB5hvB4pwIRASJREbnXsWVPoBrh1BaynXeEfi55wq/WvopRor8XdwlC0oDl\n",
       "kVLz+ShatHgDMMOfaAxhWsIIQL6K9N52lNyLsq4tQP29Ga9ADtEkruTd8Y+0ErNTpjtz/KQ9UKzc\n",
       "r/KzAR6BG1P9EnQzY0VxsWvm7hgXklWYbZtOIDnako00XQsviwvoVfJZ2Eg/ATU3Bvw4JyaNvujO\n",
       "RqNJS1cZaOAUTV109UsCY6kd1uE3on0B6R09PhCrCiKJfJlrZjFScxpLPBabXnN3nRPVgvQAQSBf\n",
       "BmvA6MnvfjmRx4FtdOyPyQfkC34xCu0+wR72U5e15RuDfdTHhgrBf1cTHDK487+eN4is50BnQuCj\n",
       "H/C37vdKYcj4j9xhaLWfTJNCOJ4J+CtAzLOQAD0jeqmmxTfR5KVu6d7ip+uUP0WAJiFI9lD51xPP\n",
       "PngEf5NxSy7SSrnN35peUBp2PEHcx2e3wCcuMwLh6kVJbDgHcmLoBZp2HW2TZdSb/+hhPdE3NaeL\n",
       "gyCpMjp5vcPxpoq3TJUJXk0pzg0cHOMPe5Oq8TeToG8ueMZtegy4wQC3v3siYKfrFS6IsJZHvsrY\n",
       "7iaKM+ZApHcJi/hvTGSDDRAlKNh6L5o6wfCllgtssw/zXfZ8qckk7Cd83y3PUmvybJzBftdnxI91\n",
       "lE5XXv/o9bEVFXql0lf9RecxoM2ASHZHZBAwAAACeQGevmpDfwAFHeg48d54/8l+jKjxfTzH1UkC\n",
       "1iAAtYZhYScYBhA5wEtiUUgSBfRhMcsV9U5RlqJKgw8CLrHipIqcX0/Q1UkOa6YikWg28/t9P+Ny\n",
       "J3R2FTOFaVtI+2MAU08scRdJ6UIa2KEW1UaR4SVIDWwEX0rH5+aoLu3aiVm4JDzISRXHdhqyU5V+\n",
       "BLpIjcG4Ft3yQgju7KPidHt/xwW5RiaV0UMfwykC4GwB8GLsR/oroasEOeYod9MA35o/HgfotKar\n",
       "7kCwlZGnNfi3gqw8wKiMwgHcvZMTDyPU/2JGp0eIKtBpiN9KENGzMkADVckzQZHMt+x73oBg1j6L\n",
       "Xeoxzopevf0wWEbZqNpSEs49B3qEAnMIlDeq5Scg1sr8fuafDi3YtSW1oLSMQ3sxTDD7f9LoUsoA\n",
       "Z86eKvDGtf79WcBPIK7FTRCW1uoRB80MaRzZBZSMGTUe+f2qLjL9EJPy1KXqsvbsQqr6iHP0N9H1\n",
       "unHrd5ObmKfP54I6U+Qb6zkM7l/AeseSfknLIqBaCj7gYdFEMLo2DZRBym2dF4pMmJORyxI/w6IZ\n",
       "n7VR0Jz8Rd/peOTi+Js9/Z/GHsgS6Yvvtm3V7rOeh2ql3vxS8UoJYpu+XueCt5PinPjNvFdwoGtr\n",
       "z8nl/kqHPRugq7B+MMB8H7Lf8FWxJ+hlRjqOcwmhjnO9z2ai/0XGiQn8oG8V4raIgcR4cWwAaAOB\n",
       "va7mo+UfAW8n6X9Wa88ddQfgyLZYZluV+kqzMvUeQtM7JOEiQgBL5nHJssK14t8zZQ53khY7Sp4c\n",
       "OXl8TfWjfLIcpaiAC3pbIYwou3IJ5XOSB2+C/zUA2hpyMbCB0wAABghBmqNJqEFsmUwII//+tSqA\n",
       "AAAPV8fNsf8I4zSdKSrikD8jRpzEec1RgAXNRXDQ/0Oav/E7Qfg2vjDReTLbEa1zgxXDE6mFuY7/\n",
       "aCsDuOUt+41LHq0cNvkZlHv65hc+PArDV+0cAvXtI1Ed+NLjmMhXBdH//zQvVjKMidSWGdKMogy4\n",
       "uBEPM13o/F6EVxqaN5gouFRT9wXRQPYrXl54FjhrncXHEhCGHM8sKb8O5s2vsXiA+EfFur69ofWN\n",
       "l/lWfwburCZ5FMXxSMF0ReEhKAatyX5RjG+GE0Q3imnTMLhzt5nKdkfvbd+UrbuLj1b66I6XLRjX\n",
       "2CgZXrQa0KegZNIscDH2ECf+bHiAqVGEfxMsHSmvNSwQrd/HyBxS2M2HgDzkr9nZlKcpmxLXDRvL\n",
       "9KmzbmHxsxP4EWAa7LVhn+4fdLhH1EgLT1VVX9AQl5d7d7hnYLjIqKXXY0Wkhkd8zpQL0eHhnjdY\n",
       "1Jg2i55o7T3t6XsBjKFGDD7zX2ka8Cd+FQ8OSJXonSiaXn8kdYOTodp7NaaoQ3KebSjhCnj6vVTL\n",
       "4HVt80dlm0vLtAewVFXhLimtlcSX9hegcz/mIyuwThxqX9HM8yWgQ1Ep16QixgP33WKZ4CRUGR+L\n",
       "waXedThqsP1xm3leRGCwTzXnzs//2PaEM+RF4Y6MkXsMOprjAtRWyDMGJLRVr5mZT1U5lXHVuhSj\n",
       "akDGNXjjralsJ5VLDLFBjigTh6MPYGcXu3Jo89eHr8xmvQVDpJ55+qVgkJ0wrFlUw+wUBlr/ldTw\n",
       "DfH3u2yC4dD1JMaAOTLd+1wOIn7TG7VJR/iHY69KAEI3r3OjeMNdrmKyRSJ7jjd1Nn5ARtP8CLRa\n",
       "bpvXhFSXzrWiYTNKEckZwlY7DOcOba2Bu5yimQR/MYBSptCFaY76qLrEBxRAazu/hRuHK1BJV+ol\n",
       "VoJ9+pUzLYLmmwmY5bUp9h3CVGMxAGOjzFC/oBtrKsTWroMf7nAuXWdO2WSUD7J2UOOcrg8LbzfN\n",
       "spE06rcdT7leZP2GMGZzeHdatSPWBVYdUUlVbZtgTQCGaHoKVKEp2QeIXvPYslNo2QadtU0ckp5g\n",
       "NldXDuJp0psR8L+62YF/XKGEd4ICpwaSOIM93Z+SdlPKje+Yp0XY7aDee6P4YPcbhO5loAib7AjW\n",
       "U10wounqN3x9RCoRL5mVKea8Sjn9aAmPVt519XPpY6CTZ/sRVBT+YxscjbZgST3C1yVFJX+96Onw\n",
       "pigl15ysWHl3YN8mngKyLPz2o4pikvFtk2TFKpyyM6KKwXhHSDMYkkLiWtcofmnBfK0wz/IbxIkn\n",
       "ghPjmh9OL4XWNPlWmOrqIv/8bo0+g624jEHtqARJgzvRwmldG17rLIxy1FMqLHBm6edw7haggUh6\n",
       "yyb2zDiZsje+X10F4uIU6PBbiknea0lZzVmufa0RbRwbWoVAs3DBzQ5CnyV/5SFc9x82N8wOGASE\n",
       "78KE4aGLtFgkb0PfCkKyoFJAcekRyJgZMtZhboDnpAgx0D9GlIZgFQ91ndYwjqMPRrB+w+eBujS1\n",
       "D5MEn7MXwsRI72LWSkmVQ70wJOQt+rJ0SbQojf61Aj8UwhPg9Ud8K49yKekYvI7MX3gI/lvTuGy0\n",
       "8A5pEKoK0qcmbn37MEbFmesaVuJ/V7LLn6zx0cUq23NSzVMS8Q20v427Y2WjhZNIzL/8fNvTLvrM\n",
       "oV4WtAxq9TR9PZhxTGAacPEyfrNl0BtX3FKqNb90uzjAM6JYS7SbNJyf0hzB0BBn/0p5r0ujNd/v\n",
       "GoWjOsCwMmevpusf+kQXDel6nPUk1Ytdt7twDBc4cHs5FN1YgLPEGJID/j7+miQCVfFhUY8DsEcI\n",
       "5IRdc4H+ex99crLnrw/pTetIZrmoXPp0j23MBgIo4yXgiPdSbaqYs03G4jOqDHLFDUiY9Z4ME0mS\n",
       "WvAI0ZRexemEYom8Ap6G9g8kU0N4nwBF7Jw3sPAp0C8r/AsfJ+q3O+CLcmV5pwP6WbQ6rWcrnqWO\n",
       "y2TXFMfXQK+1U8pYMjv0EJnFK7TOOvYpnXHAQZPGKufUSlAiKk5sRp1qgiGZgQAAA0RBnsFFFSw7\n",
       "/wADkEaaiIlVUYSxOLMGtPOuRgTfWnGAEtVQc3c/6b6TFG8e5Ks6BAEMHZwDOU1jo97LLkm4ukB+\n",
       "bdRc6p0q4iV/rvNNxE8JPtOvcVkw1tdO7dk9L5i6wKQ2ttZPPJY84n3/mW9KfrKQkuJ/CUaAKuok\n",
       "jp44WdkgpM/d2AC/HzG0fnL6VRX7j3fdd8vai5kqN7U6nxG/VlbOldKVKtRSXdXFJP7lR4NMpv1Z\n",
       "y1vE3aQj5JbC7h75FsbbxosYcVGaQPeiIEkxHFmJc2JX1mehiqrq4/FgoWf/WAK28+fSO5qLs4w0\n",
       "1Nvy0yIt79eZtkvF9WOkyW2IheD+hrGoXWchagoD/5mkE94OrCJ2Oi/xY/u3moRMekFVXCEJn0OC\n",
       "B+hZF+jMCjNPA/pb9xIzF9OLy4DqS+7AYH927KIetzp0NauIaCezY1vGloRYgZ6tRamUTgpfqi/4\n",
       "esTYI0I3Effkqge4AZBRMaVeo4Zm/ChZUooGj3C3iyaE25CM7jmGJEgrturwyFvgl7DYNBa7cFyh\n",
       "+n/jxyLSjPelRPsebYjpU87Z4eY57V3Rue6NftlDE3LgJaSYz9aSaJzBD2yFaunC691NM5ToL79f\n",
       "c6FmCngHH5NwgzS7rdsucTRpS8FMlZ6e/gNhui9keZh3rlG13iCJXb1XlQiH/TKCgT2J9c4R5vRT\n",
       "geM1W8Kr4nBnuvSJhBJwU0DkRc/EGXdUz6+xt2Czm2lbWQBhVFBdOl1oZKJcZSqCZcFRx4adXL3H\n",
       "JhiQUFoqvI2TYMWAUU+9YRMP9TCY47y+/taG0mhoThoW1We3OAFxCdYVyaJkHLzhV7xaA9zaVk+p\n",
       "w2ytCPOD5VMQkCo4WYBESYUG/+bS0xtJ5rcyGZajOij2X0Cbtnh63pZ5Nc2sRPLG3poZPkh4Jm4d\n",
       "rWGscyNtxgAfylSxpPtKfITEEotURrsNH+jd68QEJXi70cxQGMwPq789Tr+k1mbUq5NQ0ENRWUmz\n",
       "mE+P3CSToGP0kzsW08Y0wmiC+vRr3rFrtpczmEiO30Vgfgu7OYGAjm3IfW961BaCy8R1qe5WIzb0\n",
       "+xAunPwd2SyH/JvNnGJZaj9qyXXIrgPg0ReGXWDEgAAAAo0BnuB0Q38ABRzvdtEokRor0TJe5SqR\n",
       "7gMIJQAs5ZtCYCbFi1GMpffUKsPZcI0ICfPA9pAHn/VPfc3kMfzM5Xk+iPVvtalR4Da2pTJjJGLW\n",
       "/vlXBfbDO8kXY8tvIPw7H9A7kqaoMYmmMzrrPdW8LTrHf6Am8unXmii30U4H4hhne8njplXTzp7d\n",
       "Oa5I/F6jiRl6rHCGStmAknaXupv4Zgh8H+LVW+3++hNK25tNKtX+l0YZgqh44rf38judjU+6fDaO\n",
       "S+DSYMZ1VTngWmCmP1OlIkVWgjWcl9mfbwg07vnznhQCxqXblGEkTlvyGY/3cagWBX8DpQkEyk3+\n",
       "UjTkd5G/3OJy65+oytrdZoHAexUnXeXDE7J20B+/VZxMGEKQf+0y2MfjFa+e8foVK/0eJIQXa0YI\n",
       "lGLlE08686/Juw7bdVpe+32tI5meUWlbU/AqKO4qxvV65mNAS6+5LNoSpr6VQzN+KEzXjAi4Hi9B\n",
       "RAhSXIGeyLXZOgi+7x09GAbsvn6f61Eu7LALN+LcxTWFg0mHvwRcCvU+akrZTT5G8Zkj92qwx+fx\n",
       "uHOiiR8IJe0+4YiaTphsQj860qgxI4IOEsssjV2LskOe5+NEPRWkGJeNVbHyhJ3cXXNrnLQTnpvP\n",
       "li09KRdiSxbx8IqXd4HJgA7mKCxa68qlD+5mejdfMteJ2eSt8HEIEB1oC9uUAa2411JyWZ1jwBY0\n",
       "E4tVqdF/WxThwA/0YZzLEJnbfmhacWMc2ASByA8WiR3rTLK17Yqa19wZgU5D5T9hA9lwIrmfKDIs\n",
       "u1Wff+FclN8kjYsvJNtNCsb078eTYhXUFRhxJk6biRhcJU4QbJo2BKbNQG7Ju6+gmpjTqWh28xgw\n",
       "5Igq4QAAAmcBnuJqQ38ABR3oOPHeeP/JfosPOoD46EABWlyLdsITuoVa0v87/ACAisSDLmLjVFOA\n",
       "rYNL86wlwc315ts1SpjxLI1Gf8vYG0Npm/6LVjpCh9rIEPH3hpIsKw07g3nSsr5oF8yn/Sx92nzg\n",
       "2cVH5FG25Sv4ZZPGFsZIQGEfRlwT8vJo75REkTJBcWV7scuIh6N0/8cAsu/797hvHmc2aztyRzdD\n",
       "c12WNWXT60KgfYl4jni6PAGczq0BCsQ8az4c3nr2kaS4H/9gFrbi6NAH0q6cJX/WyHpfz/X9c9HK\n",
       "4OjGMuNKSLyQAMp11qFtU4gx2fYXNiKeVPJhcnZJxORpUxwp70FLrswr7JK0X/dltq+hRv0SFbB4\n",
       "EvAoykV7rfoYfIGvv9rMYqqWKI7QzcF7i9BSzTfRvFN0pBbq4WMwGoImHX+yK+Kzumb8YxMtVCKS\n",
       "sIXjoeM9i+3SdVFZS4ovQeiOlyHGYlDbvW5eT/rU1dIbdfnh7EpAhqMPuw/EUr2GdA+OyDTY6Ttc\n",
       "nnFra3pov6EqSJDSiETEqkNDvbxLzgs/zIjp1ZSY9jRW7cRGzEdeF7cx8rSrkx4ktZDVcRl+XMC+\n",
       "LEWOZYNPn0Ign6oVe6YAzuiqJru0J3zySX+WSUPBUDVE7xrIsKsu0SowbIyMW7vUHREX80dnSQH/\n",
       "wyjOSDY+EJD1+msxTkMhbTaZIqajG8vPdRpviO5bOtNFntP5Efr0xYtKGm0IHgYT5xwo5TT8ythG\n",
       "xx4VXQtM+A3Umdhgv6CWyZ8Iyngx4PUHBswx8qF6MW7TO5zFNVtOVHy3azwGmpMIN0/uFDAAAARB\n",
       "QZrlSahBbJlMFEwR//61KoAAAAMBlZSoouXWdirABoS0cclC5uWL+g1KLkIo1ipGJU3z8ghuvtou\n",
       "lVvc1ZXPUNiad4WwD+Nde/3Achk8/blDN5VzRFCq+OtMlyDhxVmIjVpI4/3YV0/aALFN9LjoqPDC\n",
       "QjoXEvP+l5um+ZzM2CffU96f++F1Liho340uYhdOCp7FB8aqXOG4ouZpFa4U+9K1WARa73L/tAWj\n",
       "dYnIuib00SOZe66G6FANZUPcPxXk/uMQXTz111+5UsiEZovUewIo1JT+IRKLjMytddhre2F0avSA\n",
       "SwszVMj4Q9rk8zU/v+lQDtnMr7FCdxmuXsIh+oGrPqHToUvMxM2vS4stHXHZWozkR47FfuO2TTWe\n",
       "k/Sc0FybEMZTDVxI/WwW0MtHz1N839BUEAuSoCJkckFdoUvDVEJwRsYGTkMgEm+GTNvGKgPZHz2k\n",
       "Ys1G3lXHp5FT0AMJfZ7kBjRkReq5976IUDlqb58lrrhVFDxmuU6S151GGij/OKTFmeYmmcQ4lWlO\n",
       "ElPkdLqvj2TnQgH4HH3l06DTOOEEAUyaaUmryflPYwmdefhqAIiQE65n6PDDPLr1FFtmTmc2ggh1\n",
       "1QOJlvkMVOduuvhK88+3Fsx/O3JxyOiSdfAsxEf2Wd/dCkCKxbY7VXqstaCU43GokHy15rsaHvTX\n",
       "+edmvJ2BTmjrNbHrO+mebsJBoc2BaljnoyieIaSpHi0s8BWWoRDGOsKY5i1AC9YDMhMkzTpTs/XL\n",
       "/nvRaH624daa6u3GNLGo8dUyVAoY7gOJwuEi3iN72vE+BytUULz9yiwRLtVqqGqDa3GBTaYCxGtJ\n",
       "PGm5HFlcdpbXCLnhBI3qB5BlOVg05SGw2JRP2M2EgE88vVugbvQgJE3k14GVaonN5MCUI8MkVTF0\n",
       "ElTwRyaNbUpgST3CGRcVGcQ/4WXaiKNLT9eCa+pCGnTWe4Uq3gpU6vww/g14SDG0gToqmtGmEfeH\n",
       "+Hh4FBYWH7mTcguPBew83YHtM96HnBFwRnW/VPTk6XHvSaEwKwNfuIOtYELQJiNrHEfdBO0mX8PV\n",
       "DUISZtSCzY5PaTaOyzllRJtmSpCQyBQqDlUwT2rW3oikO0TnbPJUSdcf0cNYJSSYW5AwkOLEMi/a\n",
       "DGLmKM8gMEcHjbadJstOnadic+4lGZLhIRC2GDmBL09WwQi6LkFpYcFaoWXK3XESfVro1my+sJ1E\n",
       "oNdi3SJpT6/lx+I/wQYOKCuVDY7/xrXkzaMELMjFgV1+euHAqGIkjyIgUc3hQ+dZS2+U8lpyb/fX\n",
       "z30u5fyDxzlfcbCfxkumGgx/C9OY0oflB8W+Pwns9RSzrh1nG6WUvpi0h2zQrbp+DySk4uAVQXEb\n",
       "VO/2P9xlOwIKGa5CPyTEG2ulUrrR4eWa8NKnlm+znCu6yZrTBZDHuKBn0beCu41JLMdYoMv47UU4\n",
       "FPXhblPJAAACNwGfBGpDfwAFHmB4ePSViOEwGYd63pb9AQ8LkwYyjiLVwQgBNXts/Owr0QtL762/\n",
       "ewNTQhuGcOwHsNWNr7y6cmUrVBY5TOKqioVF7hmDhJUoVVXFszQ1YP1OsHNEtNPTrAb0Lqpxq2Z9\n",
       "RrlEexVjErMBUdU+Cpc6FGToLaQ9bpVSH/vZniXDyoeup66J7eJs3dpSo4WAVjoCpBO/lReIVFm7\n",
       "arJTuEAOTbCdukdBt2h09fWW+rTTmRz+Uj7YKb87gDwpeAVXi7SVCiUoOpkofxjncttq4zcbEzY2\n",
       "OXaRVLKYXx6NfjEhEdIcdPysaaGCjeCZz9yawjuvGuvctJGA+525k/hNE7XLp3LkCaa5QPe3yIbA\n",
       "jMppiQolrTDOgQ1ESi/lyfbBuvYegfHSx7TP1Ml/VXCNoezcTx+Qj7oVPXOPXDpAdGRK+9KNrmi2\n",
       "kaCoqfnHPBJkLWdXCbhFy+yjQ2bghmokVYbmSPOazgs0zY20DcPPvzX5CD6svc0jm3zV5BQLM3SJ\n",
       "uxDB+VbrqwgFHVLiPZIt3m3mKNVtUO7rirXmjRrOxWFA8kVOg8vJ8YAyDyxRuTAh1TfIpdSwIqtP\n",
       "D3WhpOelrmwTxkIJQjdkiMVXYaQ0KXNTy2nFEXeby6WvC+qKPDxc6ehYdMp2usisJWpvhRVnvsYL\n",
       "lDrPjlsWT1QzYywdcI5AnW5JwvHG12SIaI/JnCbrAqohG9oJ0uTbL4FGFND+9xjow5uzjCaYOav2\n",
       "9nBy8B4GzQAABdJBmwhJ4QpSZTAgj//+tSqAAAADAZTmUOpDQBm/SuqVl3Iaw36lm3H2ExU/nmWD\n",
       "WXhsrSY2LWTmlqVsUeiEurwYQNCZ+x1Tz7Kk9GmPWDhr+BF49l3inh6gco0qQqyd86gtIsUSSE2k\n",
       "yAq2kGjyXKPeA9LV1jselprHKsC9bhwULFmguHaOP7ngbCEXiURx7C36+cQ/H/OT4OWLNfxz0UVh\n",
       "9L1F/QazNMy1npcuxON18LsX/LEnjknx+JjbvMdA+2iLLm/VRLcVS/moWio5Xb5k5lB+Itl7AqSl\n",
       "JWRVPsXQiXv1SNO605ePY+mZ0p8xjslUIwlzG/ahK4beAyACRku3W2Qvacygh0nhNzA6RfmguPHE\n",
       "6/kHE0IrH0tsdBa3iwszpqzhFIkYYFTtpNFS/gjrcopp3+6xCilPzbk1d87vKry+EOLfWqpcyz3c\n",
       "eCfJUyNV1+zyUCmbQI2j3t5uxq/COSXcKiKi40CXb1Foi4GzddqI6r/wubi7oy+L76Bc6qib8WKk\n",
       "dkMoK7DTq50bAqHf0tObnC+xn3R2HQYPns1oMi/EAK5rfbND4heyUMheRwPMP8Mf3GsvkuMO6odT\n",
       "fG7Wznfhd/0IAZpjj9DmpZHCsifrOQNKpdFUnzZ/4uHvH614P/BeTQFzsMt63a1YsGlDWePzOBVZ\n",
       "mM9BRt/RtO5XLPHY2lIPTy8MAzZ/uQjuM40xlTwFW7L1OIXoVLQWd8MKdpx6x1J5oVe4C+TgHkro\n",
       "0ymyNGL83A4aFNh01Xp2dfbqVE012Jf79k+FkEQr4uVIiUyKAKDcYxaFxv7lVdkkB3uISDbOJx1o\n",
       "Y4aAbY8V11hGZphyR+w24eBZA/Sp66IQJ4DwS2AsxwbtWeigmuOA5TwSrzwGZYzz/CUIuhWgIn4Q\n",
       "9GgaaLaadWrpAOVwohjVW2QCSk8Y3H33iq7Hm4M92B2H29VsUzLWilJ3e2BSAor4rixlBjKmoS9z\n",
       "7t+TtuNf8KpgOyY3aeEqu+EL3Yplg2WPQnMxNR3k14Mv0szS9yQpwfwm6IogUZRy/s/rawWsitwn\n",
       "plOoTBJmy7gcNRAvBCRkyM0XtYlHnFs1nY8DryqtVd7d+bI9JDmQhieevUJDsvoWpjRiMWnQMQPs\n",
       "yXbrx2J1fKR4IL8v8XEY+jZwzj0+R/puOQgcSeI+tBEOwSbrDu8mdKwdVfrP+FIpmkcRqFtCZoNE\n",
       "Fgc7eaIl21SZAq8Y4hAN/p5bMU6wNOw1y7v1oW5dbuSdfO5HFFgibMDztyvpWsFigkQoFWC5j6/a\n",
       "20l3RtjKVPy9NRMjQ4H9mWQUehKQqxm1gmVQsaKQOFuGc3tWP9WmCYxXO74Cp1etjIxyzsSr0Y7w\n",
       "gRi81MHDN6XfmoKjTpgpiz3janruU+PfS6ygvcK53Lzb48AkB+mD69bTnVX76CvakMxtoWcKGo18\n",
       "59NIwa/5AmwLtv9fHA0KJX3WmXradhyDARrVjBpWIzgMLV/84lbH4iGxPGNLiw+NmCgqOuGq7LbY\n",
       "vSrhKOHuEW1sDOkSFKKycKk6R/9MaVpqFlApljQRMpaE9XMgQzcy/ukW+zFFV9OyKROS7MFzymSr\n",
       "sAzUXPSGt5EciJ8uCobjLcMJ6joaiLvM6xfl/bKajtdLZ4XqvItijylPyHSjl9OeDv8kVf2SaPm8\n",
       "y2ii2XE7bU5zDmYP8kf799ax1r6f2IzMFhomkgrKp6d/DifHNikhDHMNqelakg7NrlfMEOkoBG8L\n",
       "rh2FXQ9bzzCBJmUqdTCqsNPfXX+OKRIafBGlCRgWMSdLGkQyka7anTL6XxrYX6xRwXlTwqzoIMTK\n",
       "CJSMOXs0pAiJwyR4RzaZlMC7Kww1VPuKxBsDwAvIjbztI3bge4u1Valffo6nTgJmim+LQW1CYW2J\n",
       "7nrg5adnFER4GRkVJ+3M0K5SnuMyy0EfzPD/P02pch8aJPAjIUVHc7ziW9WUQr771SK4i4aumgnb\n",
       "s2K0GZ0wkENiL5WMefoLN03iKQAAAlpBnyZFNEw3/wAFHiKdtFQJwDBjm7HetEW+wBhuwyGrbqAE\n",
       "s9nRxaSuh9Uo9iAaTsw1J2VSqMFPQpJ9b1qW5k0CZqMavX7ZV+c/HyrNhqSf8fByP7aic7oYgDay\n",
       "igd6T0FJ7KW5clx28w690jIxPcdQizWjX1YR23quYvDT0AWb4j+ZO7f2UnSXzWvNJi5143yUTLiW\n",
       "hRSPhItPGU0I84DxhI2PRrpd/yBENPIWHpYI6KKn9pf7541TVBit4M+FEoD7G2FwaaF49MWApWGJ\n",
       "Cyrbq9Qv+AwdlhUK4iuAU5OIA6QqqY2Fe+jgGk/7kfiqOQntBI8gG8V4tXe2puHsYuO+103vOGEm\n",
       "IFMQVZxjLMD/5M+5YKtMqVkwBautf0+hODmvQAr7bfo4v6FnR/1lJNFMfm++K9zvwEi9bEk3ONHK\n",
       "dN/mubXW1ANUyvy5KzvZ4p4eXOt22ASOyGkzdyFgi/QgLNf6aENGj/gNjktH2t9TpiLBZQSpLlbC\n",
       "lNq29PbAkrh4CDeuOC8wugOMSpbENoEalFh3Zg0oggd6Ov31Wh4SEsr6lHTF6tE1GdROctMDNtlg\n",
       "v72yqv+giqBqMa6L4tuDQBd/hjDGxaZd2HyZAsR8jOIG8HwHjMcHmY4cPxgQvMpHVZdUe42fL2G3\n",
       "D+95o3d6+ZGWtNZuVUGNwGJhVKczerFKZDoHqdactNZxOY9aO73/Bz5jemWrlELumFYcyvJMPhpx\n",
       "lqbtb5YsiVC3F3I6ARKayXHWxpXZCenmw0AN/B+vBLLvD1JoTiznmcFKw27gZXMxDAHE/OAVMQAA\n",
       "Aj4Bn0dqQ38ABR3oOPHeeP/JfoqbN1bLqfcM+nhXUCRiuaOACNRRwhYgX3Q8zKf9QtdMJq1mOQca\n",
       "Tm6uI4vfKu7iI8K6fH1b7brnbkTqRc8DfwTXkdG5lrcWhIYks5jXvs6QU9T0KTEuSfnKld44fgsQ\n",
       "dL/o1cpGA8YeDD0x6VhL2FBwwlyx0LC00s/phtnsSFJWo/97bgAYccD6LRYc/OIc8+RLJY1zFB/5\n",
       "vGyUdC429JEClZyRVpI89tbzuBi+e9VELV7rotDL6cfOk9JEN+UoD6LGFXl0XHMUXxM0ZyJUHvli\n",
       "o960F41rhPIXva4jLfyouVwRClJIMf5XZ0tLZQaOJ+oa10bPLx0KtTPPYYepAhorP49q+15EC8O3\n",
       "oIWcrB8IzEvq2nIjvy7STKm67EA+jk7r05samRL4UFtL37/fzSZw/jUoDkurKJf54Nps+bx8EEsl\n",
       "0zWtwZiMEufDFzLxeBVqLGQIoH1mR+lJlD9TLjioRQXYpQvW/2zAHc4mibKoLqO/K8iQ44deFu+p\n",
       "moluf6Q1wqTVslBW9p8Qz4AesS4l0VLM7ei6IT+Tt63Y1Le4HaYlGmbZst5tO2xtDXvNkygwDOga\n",
       "sXRSrrQdYPdhv1aq6M8kdrla/Je7E/AzcafKyzGwHzFFgPfN6cb2zAR3hL6rYA5AaDpx2S2aTCio\n",
       "tjY5pgQm9eN9a7tRcE4qxdyWXb571a8gL/fuCo1Kidqr7nAuU4GNVyP+D9crY3svcDgHLtiY5jBF\n",
       "zgifeULAAAAFG0GbS0moQWiZTAgj//61KoAAAAMBlvj5ti9eGpb94AGjfQsm4NEaHUYm23w/1kLv\n",
       "O5S7C3WU1DN3pP01GKH6XlHFVpydE62ytjU9e/qtCeyOpp4MZu5Jr+9tUMQSoU7g1y1TuBeXtYFY\n",
       "EeW5v/rbO83LNCZk/UjhZ/wTni+0zj4POgE6HKFVR5uK0depCAv8U1IkQ5nqtjJanTvJDK3nON2c\n",
       "3g4szkM6Qr8KH6a0sZGvjPRU2v8KHLjgKnfGUZE3vS5TV46S4XdMP8+V2kKzaDgHsTxydkw37cvc\n",
       "TxYW+/4x6BmktN5STbFHhfDzf6faN2yXBPajvwqM4dpzt1KkiWMsldvBomtxifFK4lGh+ObU8riD\n",
       "2SKXxAPKrE0qHn/USHI46hyR4ljod04gxRVcVvkem/OvBKMT/VCTu1uNlZ32SNmp+SPMx6Kse4+p\n",
       "PrIHc8D+MoLPK+hKX3Z7WNy/R3bElYWSj5m+TsA10SiOPqcCm7XK0osjv2OeidHR+zuL2CDyHez+\n",
       "eMSHa9B1EQwVefbHSZNQhD6zESQhp1lszimx4KL41YdRXB56fS+3LGO2c8I2ucPuqhnaVU20Uq66\n",
       "U/TXvnC0AJ2aNId0G7oErrDd40uXnvlScSs2T3a+ZKoa8mYXIHn0s3Kwf56VC2TT90QhZKDefA1N\n",
       "HLyqh57Zr1sFZa/1Ckz23nWJtjMlCoJq9kQv80nsCa0Z83RU1yUcja9iKliVFSrCeyfa4rPg2Ovd\n",
       "3qndSjVbVvNQVuCqa+VGy+xcR1/jf/cKqPpUz35FgonPhFdKe6N/md0/tiigpvH7tN2OJXTfmAFC\n",
       "Jzd/o401xGLi3yaimGfnpElzI8pDdvWpZX1DFF7jipXjljZL6KhkYOArNDQf2BF6Gz5I7zWM8wA1\n",
       "tk8+kzhwYUsFfgr3EobZ9qvCBPbgzuBV8a48yXVjF78ZL/dq2EzAniZnZ4X0FT6t+gL1B2hlrMm4\n",
       "H1pxqnouBxEdRRxd9wzBZtGqCdjrYqJkYjY28MTCBn7fYGftE2V729LCwy9PlIjEAs8Kpz1Dz4c7\n",
       "oV2PS5GuXyzFETgh2Ua6aT5rMSNaRGSrnmdhKNYTYOzPdD2mNpBywx9AwWB8wMkCfQf9g2yoYvxZ\n",
       "HawERvbHmt797wSMhXKgadTghgfGYyB0g4Mo6BS7Q6atCKknNQX8kFgfjfENpOjkTWNBjM7uO+Cp\n",
       "qfraZrbFycthLdZEUxTQ1SYoIdL6mR7SJCl8nd1DdrGq32jv7o7altZO8/5xpziCVSWAmRBxl0B8\n",
       "2rjPwqCHz1iDfVn2uKedKHSrKELZiXo4op2nClP7aQ5EsNIEUsw4NmyvKhWqakUkzsnnj7jhOBnp\n",
       "ONwKWfUEwKDSIwTcVMMhbZ8LYZDfUpAZdVkbLH9IrkRapdyt6b4CNUIIzYkqpJvtSfUJFqwHQp1s\n",
       "HQZEpdPRpNJXTxbulMucmbLnHWZUxZw+Zck63zuTLIwZnagelIOsGdxwga7MafaJWs63fR1zXW6g\n",
       "PYeSlhhjM+/cd/AcmCFxLIeMB+Sz2/VFXjJ6vjxfv7MK/T4SSrZu0oNtwt0itBDVKCjZugAWPyKE\n",
       "v9g1viCPFJD1HpKiJAPI3V1+h7RG/zCUeDbogDfkXicOgmoiB++m+IId1HRfqgSuHfccyJ7GyHCU\n",
       "pm+pvsXc9oFZBMRydcIBhitJdNwOhRhh/VhGXm0myy650h2Pv07X0/ducpYdzH0eXCOyvfHNIH3N\n",
       "pGI6YHz9AAACX0GfaUURLDf/AAUeYHh49JWI4TAZh3relv0OgjBroTnJaAImS+TJgCvtD3b7wrtQ\n",
       "2AVtTfw9N7KPalaypZQiyILWq4xilk34RrToaPiug3NQDOrY1wohceTgoG0aeJ9Zn+QcPQ7kH3OS\n",
       "vK9h/mZcHbrBjjF5r9E7jrkWA+nllVIh97V39WOVT1PqVl7YItQUlOU3hnyoMFjAIlQiSdch6HM4\n",
       "q15xnE6YQGDGMwhLiR0CXgaL6zdFvqqqPGrkEKi+gEDp+/A8Tl6E11APFGU4uiehHicnl94Xyy1E\n",
       "izx7oOvoWjPWiOdPseUBRldBehi5qFeSVCDksv55b+iy5O9MxzRUV6tv75l8HAIpnwngj7SDjJL2\n",
       "/BIdpNosQ3BHMXWcAbrI0R+b85UnWVlLm5oOjN6urBx4HAGQFlm1N3Fj1e+ADE3HRUdYJTHywNuk\n",
       "N+mC+Qp7jIWVTZGtBLO57xUnfZ3ulD/76SGn31JxZpnL2mHQAAFHmn369QmcE0BQDiuLO/0ZFKv5\n",
       "a0kYKzdf36N6VZQlqc4o4bj9PKdoBIWdO1LCjMAZdpBG3ylGf+SpdG3loz2KqKqNZi4csD5tINh8\n",
       "VutHofTGfSh1flTFtQqDxOOP0wJH1h6AEJy+bgAQK9g4dIO8FqeLKioqEDVxRsszXrYEr3x/x2sH\n",
       "jqBEfAjQS/GeO/H8SjI148//wNYEZFbD7+ndKNOMxiIVceA2atyMGymK2Jv9n1+lZ2OFGzbO77Vv\n",
       "3pntSWD851kNt8591XjI1p0n7mmIZ44+bTFB5vzcYIhJKg3Z2/0cGANqsT24h4EAAAH9AZ+KakN/\n",
       "AAUd6Djx3nj/yX6KmzdYRk7HQEPph6oABb6aKBAJs7WO9OSwK0uI8Vi3nTsfhE/5JVKtz+L3boTm\n",
       "h3cNl7h5tNrFop59ME64sDs0fpk+v2Awr0QgtuizIRTV3wnSws2noDbv+eWe1y5tAzuom6RqnaGS\n",
       "MnoIVkBpz/tW5tnmRkK0PmP0f5rmDymNZ+O2PixPlXwNOz50mZpMFbKReffwCyl0sUToFVjUoCEH\n",
       "zMEU0AiYIZR6335gF7B208NnW4qS+9wUBSgbQGJD/PP340v6QuBDVaLr1dME9iwJZjjeuMXqzL1V\n",
       "trHpDYlmWXPZ2HY8iZE5Gy0d75wHxnVD0QOTB2lFBl1WUzAKNwX+kSdYRxHNbVpmBoYT1OHYsd1H\n",
       "C9iPtZWspWu42ziwbspb2zBFYZ91ViS5fOUWLYsEKnC4rFTrFjFf+/0Kyr57S01CvyyzINU6mLVZ\n",
       "KxpkXDw6Jh0z/rt01d3KDQDB7+aq1KkpiOfIt+aCDGFxa7mqwEWhH7sPKpPoT9cjUHX1RIiTjbKw\n",
       "7aBm+SwXQCNKQMj8xoKewlrrxvwIYNuSsCjGOupFIgVma5n+qMuIGVWmMvAXo1O5ybm81sLGH5Nq\n",
       "w8xBemQLBfdW6tc8KeUEh7V+ZSL65C/0ST+ddo5S2kbBZVWBZPvrwtIxOAIoRcAAAAW1QZuPSahB\n",
       "bJlMCCP//rUqgAAAAwCA9f97R39mHA9bbJtLjHVACcYbZWM1GQy3phH1MvLfIorXPbjsFrBeGHto\n",
       "j2qGXnlro23Vl8nXtaQRWtduzEWEGqqwdbV4VbQuq8cEo0tay4RiI+0eLAp2A6d4dnheGCz3j9La\n",
       "5m9udKJKmp6ZUMOJSAN2QBie5XgmbUrSaG1hwXvxKWyFWtqwaTRvGVcb2lpb8Jaw8Dlf3qqlvQAz\n",
       "V/vzece652fCjtGOcD7sYD1am0jkxVlnF0u3H7dZC0p3Mp7R69J8+U9q95VRF0ioItfBwMC5qPj8\n",
       "2MntmKVS5DOpBGO/rdkSdJHEQhh0DysZ4a9uH9Kqjmn8nK6tIxM/0cGJpfySLyUQZuhaIHxT8MfD\n",
       "AHJVBSrHsglcw39Eaz8iupda98l2JabOrucCgYgvG1XJXLMdHvnJySdgzLdseBHNWJh4srfB9C/p\n",
       "NqJYJC54lAm5dHvdWSrsHvwcYN05x2n9/aQmlNXXB/o0AN5/Dx8VEjAzCFypGQCnrQnGR4YO8wns\n",
       "d8HB/yk55GmDgAcwbcIx+xpg296AVsD41ljuoioUdjMOkpmB+ofWSHePIua47AqBadpW6wOZET2/\n",
       "F/8Xff2lb93ghfdK8B/1msgexv54is//AaCsmswhckkyoI+O3eY97NqGW3jlkQqafVsFescU728e\n",
       "RY58NJp6RTNO3e18jpEHizFUcpeLfNHMHYgWp74uBCCZMWHPmide3RHxvPqOwOrLAK1XWJgeteHi\n",
       "hpIFa6+WiHoJRGu+4Bg5GX5d+6TJS48KfHmVXy0w8UTfbm112Dv0Oh618Rnnrxt0BqvIq2wrnedi\n",
       "FsycLSck6LYOcQ273T7fO1L1esOPLrJd/873zP2OtuMnpjQWhS8ZwL1v9eG7WXpGthqMNSdCYKDM\n",
       "djVy7sd6sWViovbH67uRnkfakc286D//lXoWhhTu0eABhhoRA5/qib6agu+ytrihx2xqZDHefEmu\n",
       "UkDVdsh8TggjdOPrw3/OrIpA/6boC4JH+1Y7xJwRzZOVOxj/WJ+yBDKB4wI/jefzUDTfxgf/OM6W\n",
       "4cy5bis83UZmaolYo7tI+t3XahT1RnNOTfYTq1wdcv84owOLm4QtrfwnspJoHctiZwJqy9cndvk3\n",
       "jyxUKSzyyrWQEbqCP5C16F32WRaF6DTWjVETW75XIsFS1eTrnEDLV4EY2XJrJOSWOUxLQJWCHplg\n",
       "JSa30wNtHgexH6vTI4w5itG6LzNi0hir0GrSe07sDyavh8TNERrRu+sKbRSC2AJy8+GYi/0aabiB\n",
       "rLRhUz8+aR+QCGtE9oSI8Np4mCz//j1TSJRRvmq+txdyuGV+58K63yBL+QQHXDj2HNj6MKzWFQ7g\n",
       "tShhFa7FzBkIycOidyItRoSvSr0xw6o1QwsY9a9/L3vWsrzrThtSO8pYoYAeo7t9vT2URk2TKOfJ\n",
       "Jf94ItzK26XJ+9B51/ZBTbZXeTDJkE0YlGbyAq1mkhEM4t0Dd9gxl1mC4gxZncu7Zs3phQEJfXK6\n",
       "EeBgoRM5jWdAM90S4eb/KRl3W70IZlkARsvTihS7nNLsXdsWd9CFvpdgk5FHUt8VwTXXuKBCV1Ub\n",
       "MJLywFtivx1J/7nrFQuBZhQ33bym3xwpRMVKPOGZ922CCSHB6qHjlKkIx0TBUoUnfRDevNr5Rbof\n",
       "UjSPEG4WhjCDgJO492QEESyOEyYG5Cq04WWUBurzLwRweQi7EnylQ4AmdV02ka+Us46e2MWxI3Qc\n",
       "0Zsva0AzP7xZZAbAIouOwhcg9O4YwsMpmrQJ482QVwuZ9xcAUrM1C++/6KiS2gOuzlXTs7msRizp\n",
       "/zzTSbXbAw8Z0CpWKtdacjt/4dhLyRuqTl5bSLa8P/JoPBadpDNslR8geX5G2ELvTyHtwiIlf/wZ\n",
       "HVFfXmZ4timwRNaISASDV5QjhGqqbCN3cTiuBufmAAACckGfrUUVLDv/AAOQRpqIiVVRhLE4srMf\n",
       "jE56Gzpkh9otHLptAA4dtBoVGQk7GcLtghU/mY9xh/NKmFF2ixuQ/q170r1qV/v9dhvTmRfmtJJw\n",
       "tzz7W1QWCHcr9eoH7iGtAZ37B+ZD/e3q/5XFBlLs9s/zvGA34Xqz1DsaTCXoNBYBk0NARQhul6x3\n",
       "IvaE9+ZM81u9cY7lyuU6kPll0l6OCq7Q8dwuDwSfDoVlkkK6l3p8Hd9wC0mFQxz5ODM8MMfDB0nS\n",
       "TFcwv9GcS9ce7wRe2RTC+R8StOdhpMMElu40dgaSKsTcghs+DkydJET+aMEkGWZke44tSPMKaD7R\n",
       "KnfW/YhNJO1zBoWUvn1EmyZGnrCFet1pc4wA8s3xsduD33HuzzB1YWz0mbXBZlxtjfQo4/ylG6VZ\n",
       "s3VwdCTADJne52TU9UL1J7k4n/51rpSHB7f/pYJDxUtUka0i60pxrKsUT0g3PRZd5VLcf/cGYwEv\n",
       "M1+leVgekynEUFcJnHnSm/v3HWPx31Z1MJhWBDjpMKp2TFro8i5Ew2tABGO5eKp44LEwbANWmHq2\n",
       "QuVJol7I3B8AaUS1QQXUCCDg7c3R3zOiLkUAf7CmZ18U/fzOnMoxmRr8zmETPy341MtGia2WnoA3\n",
       "WdZvIIzC/zSBrG6X3yh06wJl2vPdztiX3ooENLfdfd205zZVzY5Qd2jPQVQmDP/qO+y136pU+zVz\n",
       "Q3o5uGGxqcV6hKcg4IRZGP2mzIK86eNxS0UmpDffBz7shUzgF9dlLc+QdV0uQwl3u2WiuMdm/hIB\n",
       "qMslg1T19DF4wbadK0+EvMB5mdgTEYGGLOy7ouS/iXUlAAAB1gGfzHRDfwAFHO920SiRGivRKmze\n",
       "qwKAUpC2Ll9EAF0nqfuRDSpVkhgMRZ/DNeyZDze0HWuxi/jk57G7cXo3jIzUM/c/uRUW9aMUva2h\n",
       "v2xDxocC2W4w4FoPhIGKNGxYvkE4VvFL3+wI1/6VsUT0smhi4gGuzrxs3Vy3PpvlHlVB3T/xT+Qr\n",
       "4I+h4tHDE1D6VE608aSlp3OrSfYNIgYAGb0a5Tur8OYfBZRSQBcfpqyDUFl5o6JR9+zBmdkVuO3B\n",
       "D35E36+vdE8PYmvz6xIcn8yzmXlxr7Bgq+PylOr74LPslW8tM47RJQ76kR4Iw5QQIw0d9t50Othf\n",
       "Ks8dgdCAbjYCeIzRqknT79Vfn7ipMyVNKWDEKsZgNq5WtJGU4ypg0HfSKawZibff+1nb5H/oLma8\n",
       "DoteoqJo3IJnnXCnW0dkdRE5JENLdpET04JUwDXYB1/zlt7BCbMIXLjKXlsRnVMIz6Hj4v7LnRDh\n",
       "b8W0ukwx1kvfw2n1MTgB/s2Ba1u2jghhoyhRn5i5TRA0Ylk8alBHy9Xs0QpFYqGilggor/kxxAEE\n",
       "xwIDZF8iMdlqQFtMITr9U0DHO0kDtM59IyY+ke5hh+CPHsc/fQsCZ0pcyklflatiZdbBAAAB8wGf\n",
       "zmpDfwAFHeg48d54/8l+ips3TewWil/tGwHT3EEXKGx1jnBwA4SkUY9c5SZ6hHWJQlWokic8vRce\n",
       "huH28hDwlW5lrKGNQg+zBqh4bKZ/E9ZsvIfYOQI+Dj54fbvIpdfrUkPTjE6O2kpW7sKA0gQpTZGf\n",
       "nBQZyTb4Df7/6n2B7qCt3SRF4WhpD5WpW2hifCSsXvT/Z3ey4/JlNWushlubyyhgyF/jjfZqV6v8\n",
       "0sLZAmUgEMHRO4YzZBtjva2HOtNxsxKVbD13a0nt3jPgK0vSlxV1Ew1dgxoETuXORiiFnPo2rvb5\n",
       "YG1k+LiGniUj3qOPUQQGhk5+lPg6E6adJXzX1SPGdavR7AnGqRNmILjvjAAmfMaNmAuUWLG8dd6v\n",
       "BDXKyqW7IPRLVWrv0BUeVmJWEgi8EA/BmGJPdCqIA4ubbQEB7tIeavyBapDbNPmAlheYa1yWC8S6\n",
       "iYVzr5nlhvWI17n5BOAQlo5wiicwCHRkK0e9Z73kx0gcv80fbHn3/APTyypLbzsgNku6gAnhy3xa\n",
       "A73oN2UvcaS3Km7NAM9ekKYA9qR391W6oLl62l87QKusuGuItAS/lbGSgEdnAquLth15o0Jk6zTr\n",
       "OQQEFgeEksFQQmBfCJMMpGWIYej4PbEDW7J8jaqZGymx0UNMe//2aXkAAAXIQZvTSahBbJlMCCP/\n",
       "/rUqgAAAAwAqY7ONc2nQATt9KdS9wgT4mKtfBuQWiWlKMx48K9aE+aVPOSMgoEihy9HD+GrxYy9x\n",
       "IOyp4lyrhYtU8x1S4dvCkGe+xAlz31e76lTGrnVyLCGVlzMDtslhfnD3pY2oLiWbLbfm6TH+tF8q\n",
       "AlU4WKF1RdXF7tTTiYoORfPCsT3Ba5jIn/RaptxFIYzYduSqDHSFuQy0UDkmKbuH8/y9SxMDC2hR\n",
       "WNcsV/w6pFcqWLLnUV4VcNYDScbPVP+WMHS0Rnq4p4FR+x+4+BhXPS/kKKrUI7u8efgvjFuqq3er\n",
       "9C9cGimPd66D6J8rKWeo/JZsPruT3F7jh7lFx7ES0oNLwXKna6g/AoylwfPi48gC914QMPF3q4mH\n",
       "OTBuOulI3nx2aD52gl0DTjJiDdQcdGrYCcJPDAkcrpEM/pdZcjvZr0IWvhTuviBq6N2Q640XhhHJ\n",
       "c9dpnrvA7BkoG7shbWxImMptglFbT3o2SgLDIl0oB3SiAy3Inu7RkeAYEpJUtnl2ce5cN7HfnDKQ\n",
       "7jHbw5VeLv0Sv8d/2TjiD7NyGlediVLf/laM2vIjyjcRTyDNJIAe1qC/YVSjJ36siUAlhW5w4ZzM\n",
       "eeDBv+QBgS29wPMG6ysC31AhVJrsmpL/OJAVD5Zb5FYImJL5OBWVdUUrZYXzanX2Rq3qMcDdYa1B\n",
       "pM3O3fF2/8YWoIEqg3RL2/pnPRlUniVHbH7LlNGYr5VuJlBE1vU9FsSBP2YFfFWOHpE9sWlSXQGB\n",
       "G6OrN8c5Rauw/gKhA0l78gw1hmIMdx5NfbrRAWh1tJrTkC2eq5ZVjREuMnrjTM1EPwxCpSQEav+y\n",
       "E605H7uAqQdYHBNawX2o3gk3o1kaYrby3jHYcl7CobBbIviZ2W9LPV52ZUsT+fhSRPLCDotbplrj\n",
       "k9NG+6PjGipSwRSBwRHusW42EKLf+RzzLcxFqIg6/CORQ6s/I7D+2OI5W/a+7bE35+L/3IDiSYdk\n",
       "2BTQuKyMPJbMXInDL3LIzgaalO7TxeIUC9f8MRYmpzdn+WEmlq6APRtKCOBiE38seJLG1H4Zmv3q\n",
       "9q1TnQc6Youu/jkctlKoChSlCh09Q9p42DvTzwtbY3eheZryMYa6L9VrncTr6cKHZRbuerXOPBJ+\n",
       "m1/EwpETV2BN/kwZh51/Cy7vArD8BJQwefsHcXJPjiWmbq19y+Qv622pZkeNWK3H+Wggv0O5vXa5\n",
       "DHs6b2hIJvG2Rm1HwO+KXWLBxmhMe+2J0apQEEOk04o2UrvLI23E6L/ut5JRxsDzyExGT+rmXUWk\n",
       "DgFYkV4AQ8czrR+/pS28riLHR4Z+NQFlLBp6kgLYmiHeD4at2bIpdutVPBN4+xzDj+Y3kWttAu3Y\n",
       "WRuNS+e5wSZtH//vyVw/DyyiM3yM68T2wbPyAsPiYhDUIFJGEvXwKdV1zD98lyGpWJzZg8vVwdpR\n",
       "+DW8wDGNvisUiz6rAS1l3oLXg+tLaqa3b9rHmHaL5G0rvmEMhuGGprDJrUbp4vO9BsYblGhfOWmj\n",
       "tLyatjyOEfs73aEe2SweKxKTl8ASxePJPWhujxDy73s7X1DBe4H8tfDF5/p+bmL4AU9eHR4zNaUn\n",
       "pFDKGhbNGtQpkfX0UwnQbXQ9FqjdKORiBA83vRgOuY1X0R8gpLmsQvLzkS+vE0H+ebEKFtz8M6iA\n",
       "Td/GqIYBUoYNzBsdLJQq055IaQjc97rLBfsFVyISSx6MO9ItRHSTaSC/DQ7ncQdAbfz3H+8EfGEz\n",
       "UNPDJ3IA10DsPhUvyfEDtqcjJG76lFnEMceT/oHL2IIYayaQFDpbzP4ikV5WXzGAaqkdHJnvNr6i\n",
       "WOpn8cFizhX7Gve9ieo3CZN8jD+ElYzZQJdTPlOv4thmuppRnpuxG4eGzemGfiwLlij8CAmJ+4qK\n",
       "6rxKycQEC5FfK75vJ/p5qO1qFQ0hmTZ3u1o7x3HZeP2e/8YdrAEOmju0gAAAAqNBn/FFFSw7/wAD\n",
       "kEaaiIlVUYSxOLKzH4xOe04tAcGGgZQcvGUFa9aNFrAEAG7He2pLqMTmXFmFaUlOG0qIrnsO/MQH\n",
       "Z6GWxqlaPwOpxaTramvlr4Zq/QQxxhgLXTrtGU4is3Jr+V0ga5UhFCb80c2UUlpzcg5et4DRbRWF\n",
       "5uoYiXrJJ53csXD5pUL+ZnTsz1+VMINJ4szMImoheuPgS6GDN0DoeRVdfo7atNAroM1BKY01KK7y\n",
       "6btl8FPodpgFb5yXE/5g6Wsxo1HklauhxfaaVEp/8XtVkWJqc8d2DentrXCS5WkCtGsFFu+2DrrV\n",
       "Hv2AaElp98yRXNqCPhDy3IZqgmDrfoOP0tg5uoiU50vynqXYcEslrrnKOqg77kIavyuhFwMKLvmV\n",
       "+C6aoj06rh7gZme/3phCs7RwbN1FG2zIYQBYU2ctwR3PtdhXZ87oPYXq6f8yCQrrjU5xw+5LZ67e\n",
       "Po8e06belWygzpF+ib1KWDXCRgHUL64wG5+lMBQCisOcazyZxU3Na001po5bD01HWPtmiiFcwcLM\n",
       "wVH+7pELLbIEglf1OQ7NzG8ygzESydXZZu7AFIL51xA1CPx0Ty6WR4FxsvbrPd2ja6K2qO6D/Vyg\n",
       "JHsiYqanjjzOevZRDb5MkVS6mYCXkMHp0PD6j6bWPyGl1RLYOwLF0yQL9CAAgeUmNoDTFgoSVmHN\n",
       "/kpUHf4d9zlsq4+2wqW07FOiErkUlcUQYPMZGCi/q0v3hwV8nTx2enX2ahgVPqbiyzgg95n5JCe1\n",
       "r1Az8ILzKr3qR+Wvo3rYj6kMsdus+GB6cxLLZSYoa6BykrKYjSwMd1tz6weQuS8QuDvtb1K+PtMi\n",
       "suZO7FPlP4QQ28d0ZegtTMtj1nPKVNuJDdCdAZ0spclmN1jkknAAAAIEAZ4QdEN/AAUc73bRKJEa\n",
       "K9EqbN6rAn/kY47Cejzq3mUAC30+Q4aIGBzEAXUhlV7gsOlm7rj+y6l2CvnoDoPWM5T5VX6gT68n\n",
       "7hMKfGVb/8OECmN1VojF+gEyku0lcHPkJikny5dmY+ZzOgJw7sYbl+qpd713ZDHER6q3dPPpsHto\n",
       "6OIQsJPlNeVUqDzXi2kA//+2plWC4V6RRsaB48hm1k5qGwyNaQiMzzK55Y1wiP+b/lfkHmvndn6l\n",
       "Ae3xlO6/9Gedh+aWJ+bbFUEK/wTMfxtZazeBbzRtkONjm8UqsGdCh0MAAFb3LjNfrwEfglHrjdAT\n",
       "+n5rVPmrg4uZvlHDXNDQjeW7bpWlw7hNCdqHAYZFTao0nd/zP9O8YLr0IdLnZC8N/eIYBfGVQtK+\n",
       "YXLXTYcFjh8gcvUdmdGwuAPMhw4pbxDlcuVX/OXhW/RQJtnl1OBc2g0mZeSz47CmX6o19Gm+CN1F\n",
       "JDSVJVh75yBzEfR/JqKjqE8d+eCipX/YDKwvu4/7WVh6XEVRLM7f8Qg4guhHkh1TByZLeiuCaUTe\n",
       "zbRIqQap7QEpw43ajss7JESLzGut8TQdRLGuQo4iPIi1e3SeGOyyGVKJd5uaSpZKuMfxJ6xziwu5\n",
       "NC7W5HTFSHFv6TFFV85imr2Me6ktRBLdGrj4XHxxDrqNwxWwOoB904R7vk3BAAABwwGeEmpDfwAF\n",
       "Heg48d54/8l+ips3TewWgABv6Z8p1PunF2G/tpspRgQALWVcwUDkeey75cfLz+lj2WraNYQN4GWk\n",
       "eDKRlXbAlZk2lQaJ/qiX3D1McVuNVPw4QVWw4peoqax39prth2EfUGbotgzW91BLwTXaKSgwM6I2\n",
       "SzHG5j6fwgcn9BeqYhjwUYzNWqZD4owCiQSS8GSkDxRBE+fOSoBy20Z4Xr58cGd2MYja+MeiU0lb\n",
       "XcoCShbwSmsK/q9ICcKMM5F+WtlFRTQbpnKZjGjXG0AtbaMh0GCOCPgvCxBF5LFriox1qhj4BKw0\n",
       "v8HmPB35aVzIycFHwwjQJuqZbh5dVIHUtD7/1vVBK57E1rx6QD6kOhWjOSIE+eHS+i8X1UYHFAgS\n",
       "l8OkL6QG1Qzs+03S2xGsjn6TpCH2S6jKeAWuB43rCoYKRq4OHtvHP3H1v9Lxk+CX4daeiXGRRvXC\n",
       "j+1k7AlUE9LxrsRjE78wybPqMO+GS8QBbq7Ko/zepwPtPyI5OKtEnsaMMofviLG4HJ6bCB1drbD1\n",
       "1enySeMkE9d2XzNlFyEBz4Gh5lPuFBQxGcCQwW8LTM8Pd33WqnRDhf9eoIAAAATGQZoXSahBbJlM\n",
       "CCH//qpVAAADAAC8fGRoW2fkoYBc2X+4nZAWjCHC8BsCG2ZYH1Zh01N8iFsGNwk9ahVyE/DAXMqZ\n",
       "GXyDiMbYm1eAZk2hu4xSLdBkGvqoMojepFJzCzBrM1AeryST9lxIVhch13Koy5NLDDTJaolOxPAf\n",
       "cMhIeXlWBWyX5Z6CFpqWOs2gIH74xLD+E398I1+vKrsSnaCzWwpzt1Wo1Ixc/FHa6z5Wy9fhwTEk\n",
       "iFXmsWXaK/Fa80rI6pqbQbxaAJsggz9EfJHtYXG5Bp4arHtzEBQmZ2Rr4k7azXU70B5kUBjVqrm7\n",
       "9z08bSMEBa/OCJys9yrUy2hbASKWr7GRmZxE7cIQ48q2Ci0enkIVWX1eCKoImyquvytXy+y96GBj\n",
       "g8/JyEy+bVgemwj7M74cbiIYlz9CoKKpEj2n//o5UtWPDAfcFDTUwG7gPkrbbxLrZAXC942JviVz\n",
       "2xfA4dShZxeEBK++3Juw5J+Zz1CR1yhM0vjPoVY7bL5ORV3rO94vGgPT0rDY4XMtjhE8xMHjxv03\n",
       "zuHlkOscFQE7N+WXvI5AxCkVQuqpP/2JdPr/y0CG9e0zIDxLhhsqQ6tQ01ZKvymOUPhCWCXycd2T\n",
       "O96bW+ty0DFZlTVkPHq7I0Oyc52b17+zU7SKdmh38QWcEq7PEXp8tR25t6kUOP/lJ/WGtFy0+DZe\n",
       "fogYpxCl8uggFgDQcGiJy873mWbjeDTxHr1UyI9by751tDortCXDlkuN7rRvUhO59W+I3WISQ/Ia\n",
       "lTniLpl8nTkaKxO/fwIhdISJqHfc/Dz3VFC7BRF8EXP+/O18wgLOzJWCmc5HN2vCt+RFgEPgerGh\n",
       "VGWpaV2ZEfWMCLzxQlu4henZJLijVy1vF95Vd0DoWu2uOQz01noG0Db6sXo170H2eakHwubNpBq3\n",
       "4JWwfwPK5Ih2wr1//g5QLzJkkilenxgMN2Z2UfIvD5NUzJYDrA3rPg/HbdcU8LfuQbVF8MW99m+l\n",
       "ndC2QCvZVTe4/a7XwqGcl+5pwmpe/urRTsdOqU0rFY2O8v08+IldTmZceZayqpfgG4isZfc/pPdg\n",
       "P0ZDNMRm6X4pZJGJOi1t4BxfcAtqikXnpiYedAo3StEAvefnlNfPzUxXMjsOrWNHsaqphyQWt3vN\n",
       "WDZuYSMisuweif216v29WfHvqpnFb44CGmtlrwmJwaGXcoz8d0JfUuZxQbPdf2P1z6v/ULTZEKJ4\n",
       "VP9DYA1QB3F30ABHDcW58ajnErhDBxpxqFwBt0qolFPub0p7aiCZwmkSkknEP2hSCpj2G9rg2S5s\n",
       "yGuWWE5uU4O182iptAXKo04+o+SDtZx/vsZIhZzzKJ0Rn//ivdf4ZziZ7AUVehMlzULtytm9ZiOc\n",
       "vVcxcyxqflO+PcmZnlstUbkML5x/f29jVJX8y1itSPglUqo80dlr7T06nHEme5XagPSrvzor2wKb\n",
       "O1VR8/MArHUn4ozTTSPCbw5lzD+2qQypbwtKINrXNKkOmWehacZ1ux5zhzE8E8cXvshkekMJvLoe\n",
       "WMCYY8z+Z1NEtwW1sSQz4X1akdzlC5O9F2qvDFXIfye0GAjFSQi8KePKINgfQNw3/lQLOKk6/sr2\n",
       "43styaQctYjlsRk0KQcPOAAAAqBBnjVFFSw7/wADkEaaiIlVUYSxOLKzH4xOe04tAcDw3Qxzf8ty\n",
       "7aK9Eyv+AEs1hLgNsDHjzTNImaVesWHq8wAfEu7PhXfyFVE/SpZwBCXcuA/LRre/8vUs/P2Zbuny\n",
       "tl1AehyFzXWdWRWaK7TVPwETcjrlTuCkR6bybevP8kXmmf9lxmz4u7pj+P8R+McerLv4bNonTMjC\n",
       "Ctgvld+slG2LqY/rPEbwMNUmq5WzrtckszGSF6GurW0XToCr6lSOY0vJB5xVocBjS0dBM3wXQclq\n",
       "LsL5lVktIkzwoHNRO2ZvM5bCdqyfFJtbZSkA0ZB8xAzyry+rn0itwNblG0vmYrDy+yXkoXzkGvz0\n",
       "LiwlI2Jh6AhTDNJ2k+LXwz5GR5ABui08orxedceRab7OJCM2n47gdlafKhaZuWW/IUbyAMzMQR9G\n",
       "6jWG565RO371vgDSq0SXs79u3SjtnJpi74mVZyFTiChkMBONhcRnoaC8HqDhz34xOo0Vs9nTGlo2\n",
       "HRvmOEu1SPwRxQUFdVbpdGEm0Cqa8OTUM7Oky+pCEaRTwm1SLMpOMB1S/urM3Fr/LrleAWR23oBp\n",
       "RyEtI0E9BOQ5Xe4WYmVH1ZG1P71YUL1tZWyaO9b3CP/XAyrCTRiHa74F1IjYL+U9izH9pJEUw0IA\n",
       "Wp8XhSZaotL5gMbFjM/Bg9mChSkIJkdizlTaaiPDd7KyLEi6AxtVso5/kkRLk8YFOObf7IRCBthL\n",
       "mxYYaMoiNEAmRmC3zgG2JlWoPV4+IaXmiZAlaiEXTXc0LH6NffHwuQ/6fKHFp+wOhnjHE0NL5EpR\n",
       "oIz7TWbFccfD+tuBg5MUQj/XL3NMWCSoi0VTfWFSjalGU6KgcHY3t7kzStl1+9CaJtQELG0mgeWg\n",
       "Oo0ZiO/an5EAAAHQAZ5UdEN/AAUc73bRKJEaK9EqbN6rAn/kZh0Ahl0XqaAH3rAgAXSfcSP/19aF\n",
       "+l+GCp9RpgeIZXHUZzPcc6cX86pdyCZABPkM9dtZ0TPXGerDux0R9/wUZnvWLSpHD4pDvJtNJTS9\n",
       "RE9E1YsAoRa+G2blLj7AAPVPyTRSdVbMv9N16inETvqFqRNvAVKbKqvRmYr/hlu9qx/L+mW7klwr\n",
       "CS3zzHgKbl91Zt+gIaItSdOt37rzUsIezVOBzw5hFWfqZrJkbnll0MfA6QVyDM11tEXVUwDhrmS7\n",
       "Xs4L9MaxrmcEmbLcJmpi5iv8Bq1CZ0Y9JA96nrLaqV4m/7AQWgHKyXC+xL+lrTuuTCsXfqfXP2UQ\n",
       "lYVn6HXTWqOY6Q+iEdFqVzFBhXpHzq0S/hTaH7Q3mueo2NgH7L8BgDoWHGxjXAwDLTSYPbmvOno1\n",
       "p0/bc/6cDXfT2HNNTKGgV5Ohw9j9ZjUs1EZU04V1gAMe21kjhynjxBFJZXkM1I343B6z/VTWO/G0\n",
       "P9uPCFUSk8IEughvIVrgf+9864EOOLbmAMJiv0pEndnRhYN4nFErBgKGACVZXGiPD2U+zRCEA10Z\n",
       "p1C9AZQ5MSD/l2n1I8H3ouU6xqwAAAHlAZ5WakN/AAUd6Djx3nj/yX6KmzdN7BaAAGhxHIbz3gw4\n",
       "xcZ4gBKnpeUhgmFjHBDc8yA8FGiABbPjd4V+00tGKJ9HVWhKKcC5Hw8SB9vFIdCIoIvLWlZEiYyU\n",
       "3MRxQ3YGYe9fqiRnzd7lEBaQkvT/adox5nbihsfsQ4Y8IdLqn85ZRyFkKoxEjhQIhFuTd1+RaJo7\n",
       "VGBcVHoIMx7zg1U1POL6GkU8h+1oxdcgzOWRr63utjSX1sy7bZMZJgrG9GabFN+Tr6AAAAMA62j4\n",
       "k6QtTc309qXVdyFV9xawFoPdVU7dc2NUkq/XKZZB3jUMT0N3lFGC2YATyKY0/fbTFDGwLHitlX40\n",
       "KGYaZn45P01cRFCTp6lh2B8/54ogK1VWs5qTunVrsESu2d0eoDfNGnBv1zzKflEx52mO3LIOGJku\n",
       "wWBikqwICJKD30JwPqAha5qURAQn8QJMEdzkOdOGqifCGwcxILrKXaUEQTW/7oWlL9d4314rWyaR\n",
       "H2VqS37PRf9kQ2ra1SO4EzrLI60knk1vTzElI9i0J3+Ry/Hhnj+V6znYN9NhNIJAkXoZt3ILTiKG\n",
       "JpV+17P8Gq3NDaVioilDGziv2KjrIXj3Yihi+/OJsgdoEDuV2dx8S+c0eW8ljoWqkNRMVMEAAAQf\n",
       "QZpZSahBbJlMFEwQ//6qVQAAAwAAO/xfvZ8cbWRLEAJSabiDxU+nX8VaQwOMUB+d174pkQQjmDED\n",
       "yjwMtpy6BR3KC0AhWRC5aIFl/Tw/Z6WFi+mcwS3PZcJbn50F8U9i1yPuV0P/FEo6VgJIA97JPDl3\n",
       "IQdqmdR9bmQ3EhXht/PzKA2cdTCJcU4WnK39nI62xbPAu7URXSoiCFXUxpC+kYN4BEbVNOz2GoM6\n",
       "WukfI4s7DEmNyRhELLQucjh3txXXWtH5yqEJV+Wj5KYSlzDFf949C5EMxMQZRfBtRzx8jWMOK94j\n",
       "4yZoMwyrJyb4ggBz3bEL+zl0pVmKcqiHdrbdcPN6Hi0YVhqSjL+vKIpLJuZkUDngV8GFNUtnwRuJ\n",
       "rUcAS1Si0RlwQqmPBo6AqYXcDDijvzGfB8UcKY+DLoCpjgq0xZqXOcRuLl0CI2ddmlCkTJU1Q7pr\n",
       "pTj9+/rflG2OJseU608LfN1yWotnW/e7w/o55LTrmvk8Q/O1nRGOo8Y0As3HHbxCr49VcxdbxchQ\n",
       "q5tEqKiRcJm41f7OXB+gFzAtwvoXFvrjhS9aay30QCgogjRH+j9i1PuqjwX+66Iq5lLyRZd6j836\n",
       "qci9RVDofhhYLw9Hawihgqve8OUf0fwdGCehPMyZx49rQCHW7r8a1JVQcHbgextbM2dHAsejB0vO\n",
       "FkPE/oXyU1K9yJMP8ods3STAWCUYCxRl6OROu7O46tUXo5ehjVeZBJJVaiXCXXSz5Xj4QdhbS0FX\n",
       "XzIdZE41Kf/GGo1lL5JceF6vzZA0qCo9X/M6ThaOZXtLCjktIhuJr+WEySC5KaRmZ4gIV3jWAg6m\n",
       "rhmn65yc+SbKKwSYqyGnPlNpDx9/PBb74boZXToO3TknRylNpqxPpsmq0dQzHbVF9/NZM4sq3lGn\n",
       "0kOYnBXrfUNau4x3ni6giJoBsCaWWoUYpf15Rfmlu5vP9fsBNTdPAKtkDiH5jzid8yfuXwiCCHKC\n",
       "fKacHBEuzIY58iNpMAeCNubG4ncQ96YAEqRcK+koglKGfNVOzyFYxkRXWZiEhVGr/3p4vUdErq7A\n",
       "GntpOSsqqnoDGcq3xD9Bdln5fHuMwCNu+Poa6Yrkhx9IiLETdYqERbHyrbm+so72cFx4SuU7sLAZ\n",
       "KDxlkUbro6TcZhdjmM8Gae7peqU9w873fwFzCkd5hpibUkwygJAhpp9hSA0tQq25KOHQRFeIw4YM\n",
       "zHVBDwIdhYHd2oiZv7qXozaIrnNcNyAqq3CyEQ5JDChDjGxDTAZKtPCe9FGhE1K0AoC5pqrV9yXI\n",
       "ucREoyKITx2+26LndRcWo6uqPQNWb7MHjYAlv5emuw2wVTUczLniWgTkwwObxIkrpedgdvotqNU6\n",
       "EOIG5aoDiSkchr8714i62wasQ/JMJX0CqEwZ74EAAAGWAZ54akN/AAUeYHh49JWI4TAZh3relvzH\n",
       "UrQUehzZo8hBnCwMbAQNFYs+uQAm3ym41EwPrkBcvQRnZGhfrvLqx009Q6CbDxGq+1fy4nGMxq9Z\n",
       "AoGb2R/YsBiWxhHNi5KZelY9U3fcQlUPKOwkfVwhCsvNPJKaezPbmYzjUc+UbQ900mSPUkXYFC4y\n",
       "jzI/6ikK9irp1WdxOUXeaM0JBnIklG1/0E2YBKkE5NzQn2OgxKHymZdT4FWlO8B1q2mbzbQK8I4q\n",
       "M6TCsojzvG37cipsU3f4AUCzJeS8LAKe6M3Wr5pqxsURqC6CJr97gdqetF1Gh5muOlDr8nA1g+xx\n",
       "ee7cDcXjQUOx8e7FaLZOIr2k7A6wCY9h3cKtAeVSbJe9pOJVDjq+PBp5rE7baNg5d2DTMB9d31lo\n",
       "oItyv4PkSq0GfkDfj6zSYddwXdUq1oxHgfQ08yGg4gG6doem/RxYmx16X6rqf+qYPZ5albz++Qo8\n",
       "Z9joBmxkvoAIaIaPr6cfQXUP8n7A+Zp1FDiX2Ewq52uf788gYO0KSAAABAdBmntJ4QpSZTBSwQ/+\n",
       "qlUAAAMAADv/HjT70YhpjD9Rnk6gH7WQDR+6IFNuVV66PGaOZmyfA74vHiI9U1EH0tue5+U7CxJR\n",
       "BN2OmU6ZdbPDaUQuceeQVMniynWYA3plXewZRwFATPlbkf34fPtav34DPhTLxM3Tkxg19Fl2KRam\n",
       "SxJaAriYl7GsfNcsacatbXNyxomVPDOPqG4ZgqFG6/b1bx7V876CVEY7EhfgVWmb7fZIeKumZyGO\n",
       "NKEBZfoENPh0aXZ2YIeehTlyEdIdmGAKjuFZmH2EUR9hbVeDZVqNJbd6WBTnlHAYAlhpHuSaBo3V\n",
       "9elBN6pkcIJNBcgGUSCAf0zkbTQ+sbk1y66qh4++D7R/Ef4ESn9P4hv2y7bJEdec806SRsS3oSfC\n",
       "A/UWG5hbtPiIOESwoZYTi+b5PyNhaGJm/OAkZI+hFn6cFX3A+JBVngbm12pNk5avWwGSgvhjq172\n",
       "6ONPFZX7DymfWCGBal9PFHYotKGZ0wcCCiKDdx7OhBJZQSTMpfAwMFUSD7PFvEtoOnmP/G3E8Ziu\n",
       "MXVH0LOGxL0hJHx0Ntdkg7NTMSU/OtFJ6ggOfPa7K/Mj05bg+6yEtgRwLNMCFBJzb3l/jgTelaKt\n",
       "qEQ8RMWWLheHICzlH6QE0RnloNP5V0SUEjI3j+kBqVMPx0YM0sp1hTlVVm7yplYAi7bi9yekFKJf\n",
       "qGrljnfMqLQfBV5Dv9hD2J7aBzrvKeZU3WUWAKbe6HsIF9jQHNNNv6JTXPQuDoNvyAdrW+j8j236\n",
       "NHKnoxzYAmgUiy/yqDbvBr7HJ60HpahSZmw6utsOCa3MATvU2zikqSSMzRgzaLBhfxwWq69ryggY\n",
       "00y2qfFSgQd2+aUbGnRqWDbxaw9HWECRaufWNeHjIT6+3qElLMVq1QY3yQSz7seNFRM+aBWhm4l4\n",
       "0SxH24ZRzD65PLDG7435QKY94r2xmXMqKP+DigtXniy781iS7qAXQvwFIH1sCrE31XkslySbdidb\n",
       "emvRHS5IsmRx+lGOg8Me7NAAHwTYK7Ca+FJNXj1pkdAFQvcip6e0hMbMTB0Y/ezNo78QIl8vRAby\n",
       "T4or91FAAbq0oUPvbc1S1CS1o857WRi6nvWeNkaCVnP/rn4Zl8OSWiZdO0IdI+U916i7BUkvr/Nv\n",
       "TQLNd0swJXSNnY/XDJJw6zRw/E/sCE7uBEYYfjfbSDAn5FWsG9oMpiYeKaxwRQYGQXheyuMyLoFN\n",
       "9MbVFOw6c6evWoaMKOuSX6YSoquaY0u5Amfj/2+f3FTmic+rC6QdAeWzpWAFO4mGYwjgAitfve03\n",
       "3divKmvc60dDJYReAa5oy1cD9M8dQr4H41PeyA6agRsumFiS+bW8UVOKcmOnQOEF8QAAAX8Bnppq\n",
       "Q38AAAMAAKgnWjtMepIAFzjSqKGaeirkMDoCaSt06Qbl46hIL9JM8HgOJVpcP3EtLouOuhv/nxzO\n",
       "fIiKjuwLtIA6bfP1HL2QRQFQTvjnp1HXdl/SHerksFXPUcyj3xSmDBybV1foJaRtRVn0xVvvnDY5\n",
       "rf5rErKY+wTN6tDegq/Lvp/R8/pWj1pNTM6RimHEkiT2lmCOUxUo8by8p9C6FsEDuJYHy4s2q2aC\n",
       "MxJgHBlkcvhg9o7XIgUXPypHHS765t+ytgGDD0de6jBP07yJrPJzNfa+CQaULGUnw6V0iNpRfPF2\n",
       "uBwGcEM7TE4cGqvP2KY17txxNx+WFFuiC7aVGechu6phuf7iUESEjoWXjGxUvkNelbwL+otRUFIi\n",
       "Lgndy3FNMsogrJhavhzK081PcsVOi66/UrOGOpHUwiO/jbFpiWp1iqGsa1beKBmmn9UdGEwi2jUk\n",
       "tPcOAL8viIxeaM+cB4NbUOtqShWZHG5F1znZmmEiV938QEIP8AAAA9pBmp5J4Q6JlMCCH/6qVQAA\n",
       "AwAAOpxfviHAP6IALBaCG2b44hCGN7DhSMS6cgQmEIlMQ5iDwtv2jHQFZJXzSssarlob06dm4GcQ\n",
       "uJ0XW8w2LwOF5wFzAvRfgqL5uXHtpPBBulZiexRULPksaTwjN7ik/y5T37sR2cOu8GW+OxQSpg55\n",
       "6UX83yYHO2zwIl65fPHUDDdhQFZ5CKiSi97Q59VPaWS2kV9qM5nRCA8h4s4EEsxC2Bm9w5IV9eje\n",
       "zSwwXFbA9fC5548+9kvrMKF3dRI9TIB+E2d/FzLwkVKLcdE933RLlMG9vuKCODp32lunMhKsrR0p\n",
       "5k2cwR5t6FfpkT9Pe3TuUnfqG6iUOC+A1fU0g33d27dNiJZ6rvY7ULTO5IVe4L4yuJcnHJKmPoH/\n",
       "ly1GJh0PGyOtWlMzeuH2foweRDw8402BJ5dRxMmPIXX2POWTI8JY/abyVTmrpkwJpkTHq+GulOiX\n",
       "PUB2/qqIWWSYzJSw5rjnVVeki5RXaPZHm1+0yYIET8KyjpxX0JwoGwWgKTD4hhxW8kEoX0eaUyuw\n",
       "j/blgBpog6tZ1p50e5U1+Y4sbvZMlqwCjaDU/rO45j7LKVjs2i9fzKj77z/p2hBW2SUf9sGti9Eh\n",
       "Ibar7tCXwClZFvYsMM+QJZte2uJVt+J/kXNaL3bRNseBlZBjr5Iu/Ku7TaXs2CkJ4a8OUDmSDpbY\n",
       "bLY9/ZNPOnGua4wUQAHBw+QCi4PxGmr4S4o4JxSY6ACF0Zk97LxrQDWhTU1O328itK44APdwxPcz\n",
       "s17P+ot+zJadyIIq2MBuEyEy07it+dPPqS6iYcISnQp1QtA50k74GQefsHf2p3x2Pu0zFAFKj522\n",
       "mJeg5n4YZ0PGUGCl5TM4vU+wXEzjwxvOBp7xUg8uuiw+O4n/f7PmOYHCzIZwiGthfwmdwsMPPS+f\n",
       "Jkm33SPSI6bemaBexYmxkMdRKOEnjVPZSSDr5XiylqwV2H1918J5QyC/oZ4qPgUPjWr5UARjBEuy\n",
       "aeQy7BluvvN1pOP6ijQ9JjP/kgIEKIqWh4bgiFUwXyoLs6n6fmzKhhTTFe7BgcuORf9k9sU+26Pg\n",
       "uJVz5R4i9/feURLxj+5DWDMMxD1BXEMrM3LHEALcPu7zgRV0l3p2PsMKgVzpncVvEXJ9UUaXAfXK\n",
       "Fs+c6+w+npUZcrAePkuqptQnhHxxukfMar7DKLdtJA1wegGHrHD3BzrQFLRgxrSoFSnL3g+BUUMN\n",
       "Kt2cnqOWmRRc2dOqpL3LT380ANX2cFgZX/09HM1yWCl7fOxnK5tMvTNUZWCHDSb5WcVHBze7hefV\n",
       "ZwAAAa5BnrxFFTw3/wAAAwAAo6cp+NqpyfwkAJXXvrtRdsJ0RnoBh7wU+N/aEBsJmWuz55ygrVLo\n",
       "zXXD6akRF5D3WE0XHGXpa7zDPn8FpJ/jqp+5oEhxejmYY5ewydz3s5haH5s/CvGjiO8+guFMgLcO\n",
       "oDYnmQBImJp4jq10WNBV3oiDvFaDHYD/JnDq2cycY+GeQ5H9JXYAD0g6vTZafZgyREKme2b2w+Zp\n",
       "VuZAAOKiTwyS4chOjSPyaQOEHlFJBUXfpeDZE+sPiTkRUjtneRkDswaqKE6Sf1ewe9PsFJiWwBnJ\n",
       "PinvTq7k/kSo3J810xZUjMD+nxhR2VIt3/iLC+VMtE2wIN0JMIMgMyPCTg7DIbsJHC22up7NO9q2\n",
       "z1otn+mdJ7Z7nFuCGYsPBQXMqgO3aRCrSNc77w/lFJelrJ6ZZY1nY6NnDmszkt1mBxOa4/7YnrKE\n",
       "PD4HVIWqKVzAyRkrKkSYt1GLPHKz0Y0nIGCBbnTDRSWSpdaiCG20hJ1CXClbWZYz6xrSWKUcruoy\n",
       "RCqSklIk8Avk5fxz76fPX9nFXV0E3vPJG/KIHzYoXyg5gM6BAAABcQGe3WpDfwAAAwAAnzl7/m5A\n",
       "ETXMOnKC9NCfnnoKK94bELTkLJDwndSSBKHLoXtzntP1Nxg3C+xCOfTjRUTSM9eVpctzFvQidS/f\n",
       "OZvzLwrzaFR0UcGxL+PcAneI4wuCunnyUfB9EXnwAWY+aYIkxzvUoIljIv06tf4vvdrotzGo72wi\n",
       "t+sFwYFMD1/ZDkv+26BN8Q7wqNYPNJ0ld8K8wPwE550L6XD9q/9hNj+XRGBnSn/6JVA8diz89Ix7\n",
       "1SlVjJy3sQLZJa59YNsY2g7N0pdE4LyZCK5jcp6Qc5upSpBzTmoUo9jfiufK2Of71vSBOfzKeoXv\n",
       "waUIAplemf0GjqwnSGq5xgxxpyOPL+EAZJ/39zMrFFLJskNHP+W0/3g/BmltifIDOUTgcpthkjwf\n",
       "ZFbspmu6N37L0i0l2TCmG07NtSdHYSVpB5v/Eh6q5ertVeTdfm594BguMi2q4+51gP+m+umVYlDm\n",
       "vKtUrBOdLRZvLgAAA1dBmsBJqEFomUwU8P/+qZYAAAMAAN97otU7LJHJ/PAG4Acc0JQiYhXN81wS\n",
       "iPUh/XrnK/3tqHQWwTpbfjg/4bXVR5K8BvghxuE5bOJB3f/A5pLJ6zX7kYxdlQMa0tLrIPYGN+5Y\n",
       "WN6RkKwf8kUr+kqnwxHB93ozfF6wkOiS/a5bsK+5SNo1A831yxpc48EM6ZOVJZb4OU1HAg2A0Rhi\n",
       "s4UpM4PqkRzkSX2mUF+mMfwJ9qnS2fNlAZSwSog0q7DXL9SVi9YKn9XI0ICyzKwsV2UGpw3aAbQK\n",
       "njbx3eSd1Jxd5rlwC/ID5E8yy/n+ja1Qwj7x7Sb30g2SQHbukAoifkzdPgYz+c3NkoRx+xFRBxtc\n",
       "JVTWFB/yjwBvSA2B5f/smrbwG9IR+dr3tJyNnLdFdZCvQsy7Kpb/+k9RiNjKTqOgpxiiK7B5pGyQ\n",
       "rjgYIGL74N1ixh8g4++osQ+zmwe7cpjbC+3AbF+jpj+OupqgXihO8A4U/IiNLnMf+yh/Zup178XE\n",
       "6zjsCMqWtOzSe/OlICs8O8L3vEhh7Xe1WMglTXkQC/M9N4sbtK2P2537dMlit9b/y3FkSYlvakVg\n",
       "MUDVzDchyUEU+l007IYospPFb1Sc91GcvyUACf2KDN3XC1WVVBE02GHy3oYmQZg9aIl5T9Wat3bq\n",
       "YHt5HsQ0jtoVjgfgibNiSU2dVpXRmOYjJULToSyqGP5wHLs67RYYOP4ie4LidrreBdc5bN2F1ce4\n",
       "j8c6iv4/ite6c8pbuUDwfHPP2KhrjQivUbqRCkSpYy5izTPD1B/B5E+gqNVrUq60to48IjOOcQz/\n",
       "zn93oNp5LEHC61dbHLutpChEXvKsdaBR2EKA4CCNXG8G4bi00JVSruB58VQemhaknz6BZ9LTw0iW\n",
       "V8QNWh0jb03K84Bu9KUb8TyHk8Af9Rjf1RELdEYWWg+XC3ZEehajiqJj+QtR57id12+q8hUgZ8dd\n",
       "CHedRWCyom4NW06fHDwcrDYykFVMpJmFDBpJZ+0NdR9mgsL6P21Rgn9BEhm3o8Ix7Kp6j+e8Be8G\n",
       "OCwHFN43DD1FoKI8wLW0iksExOqWN4EufI/InHMUclqMvJT8qpd/y8eKCajiyEFVssDZ+29VDZst\n",
       "MwOek8ZJsykl3FaPIaoAAAFVAZ7/akN/AAADAACfJzEE4FDRIAjoA+mI1piJgF/MNnqBobt9NMhU\n",
       "kfHmQL67gBwNlc8+ikADWb1Z/veN4rtAzZY2xP72t2WMPp1BSDT2z0OONgvAP6l8D0F4rrmHkfAB\n",
       "6bJVNIwf9gFYlSk6EQx/IdPWeEFDjsimy+gZWur/kSFUDHp/FpleLCigM2fxFZpgKVVdH1f+ecJr\n",
       "t3Sw46PsbbRBpqtVmrAJui25d7bd1Xk9Ry5MDQ99cuhRGW8UhXXaWn80ZnMP3yAEFj1k5XlgiClf\n",
       "PyA/n8RN649bqJ4/Yw5dqa3Q5p4H4gWPZij0RKMvqJizGTkAZjkWgeiDEbyVHGYFgAcGBIk+wgJX\n",
       "TQZn1Ao9SG2Oqinw32J9rc3B1bn7aAF9wM9ITgj5ujSjpIjf88GsIaCDspkEYXjNpM08203qkIaP\n",
       "8kdiCjUt0jJydZXc0tCAH+EAAAKrQZriSeEKUmUwUsP//qmWAAADAABsx0/gP0r9g2AE0qipKAAv\n",
       "mP97xqIn1cPW3PYE0emoN0oxhVqnKfzkF6HuVV/1UhENqxkezNS6mWwQTiVdbWQ4tXzn2LCkj9eG\n",
       "0+nrIBZkEtJ8jUUuSDd83n0RBKwVc+8o0lBFUenOmGgcRFriH3J4yi2wRu2ru38A0UbeflDbTuR6\n",
       "ViTdugtrs9qucdMDnBQY7jHpeqjvYLkpRcKQvAVjan2by311aHg9FAUBGH1mWWfr+ld2mPsH+rXP\n",
       "8s/jFkiB8SKlf7HpUl982HfeTsZ5VHOzCQ7zXCmwrEEheOTFr2MxDFIriuBJJhitnrV5uuVfxv4v\n",
       "ETdUtkJbQP0jK3+Pr4Tcgysza0OcWWCtoku/5RRBgilpT61Xqy1aa523o7eP23/L4qzRPB9sjsj8\n",
       "NfZvl6czlFVF8dPJY2VqKFkxJmbhqzpwfJY80Q8gFV4FdwsndZisinBFI2M2/UUjblNaNctAX3Qd\n",
       "pN415a7m3bs/YFjO06UEw/kjYBi3lrAj1C1TuixJ42P+vPMBIo2yFufDT9C+tKZ9wiZL+ukeMZLu\n",
       "ln7x5uIYzQ5DrsdOUoMu4daCPl27gqCijS6tRxo4W3p4xDDEJUuHP7JR3SfMHCenrTy6zQG1UKk1\n",
       "IZ9WdFtdXEpUgySqUz0w0fyoB8J53dxEo4jxcPR74gZPefIzFSha32Me4VzO8gCZsIlQlmLl6Td1\n",
       "WSYUd8ImYp3OPOel1/8I3aoNWhj2ZLnu4cl3G+QAM/dCjErSZEqECyaD8M8bi+1RsKRUDbLcIqJ0\n",
       "EdAsH/qqtmeGxNYc/Wy+7d563Po+v3epSW5ysKWq6Jy7OYan7b6T2fpByrIBuWCN1Dt78/WKsTgH\n",
       "8bphvW6p7ZuN99eNitOc5kT/gZAAAAE/AZ8BakN/AAADAACVSAB8BMV2AHGi36iulmzjTcFtNWsz\n",
       "dsLRGhIXvbucK/hYHxKCYff7vm9AqwPpZJjdDCZkk4QhFWf02rnhvuINr2V7sj/VPXyTo136CfSt\n",
       "a+zt/sTKeioygtn+l2lYMtydQjq0WiSPWl9qNb+AYeBUfy+NAjEPNgGLErHRg5b2b0zyyCK/kUYE\n",
       "+wQCXPQ1TLs3l5PX/zr0HzTi3wmjqUfrlUJqrvmtpabLkqJ7mmEH/P+vDYDkr0A85lzX4ddf+DJy\n",
       "vJI7eP54E9+V9CsxUZ76RHRK7cKhFm/hgyY8Nh4iRqt/Kyy+IDBaqaFmh8tT2RUMGq8JFBD9DZQh\n",
       "aAHAyZuIHPYJsC/WiktQkuVrjcROG78Z+ZdGld+siabq4iPTfxKN5WM2GZBImSwRym/fFPzO891q\n",
       "4QAAAeRBmwRJ4Q6JlMFEw3/+p4QAAAMAANj7KfaZijORvFkgBKn8nna1E8LW3r4Oe+P2XI8DrqIB\n",
       "FwtO//HywA+6cGN8+c0l40zQ91k3uJIugfd2Joum0zx5bo8FR23hPZeN+OYxehjoCnyq8CdkG3lO\n",
       "fW+Ydm+a27o8BOHkbtloquJFOyM80zIlM0oeSg2HV9NLzFrZSP8B+46vvQCikIQG8vTbJY4UaGOH\n",
       "kyaSN9sbMduWMwaEtB4K3T5SuAsFVB25hCS2i5G4on7l9gaI24nz+zMAPI4AW6XU5rt3nVD6W9Xa\n",
       "wWHnZA67qmDJDaDhHORuhEyq4rueeycmu13QvEU13fs2dfPLrtc1Fycdgexz1fpxx3N9GhAMR6PA\n",
       "7D/rClyuLeO02W3MCZbNc8TUrXIJ4m3KBj659loe2RBCw0YtkknA+kiGtEdCZiHp5U4aTZVBKefI\n",
       "y/4sM8zTqP84FZMH4lE1m/YL7lZSsuv8cWl9u6KnLVJ0ISLmfZ1Woi1Y5XkGxug0eFxH3WdqkYis\n",
       "e19itTp2Db7dU6HE9AHuv+2rrYewogQqpsa2QUUNX7K/lTSBcNlU0+qGcdy1UfCQ4Vtf3LIIeLoA\n",
       "PIWG8FTNS+vPLYEUQC9aoOVuRqdCnBjHXfa6AU6uaJTAAAABcgGfI2pDfwAAAwAAlUgDcgdRDECA\n",
       "r1dMzA4FoLjiDz0PTsAK8a1e8XIn1GSMGsWTeJztB8H7AoVv99X7M9qmrBQTpzodTqnpKiZZy9MC\n",
       "J9l/W+sheCiSJbIFpgMRp7lGA3Ar4Hh/GfZlc9ym8MaWVYi/4flU2PT43+SfI8gFiTSZWgdrBAz+\n",
       "bFFbx1THuoHSsLx51m5ieio8nY2zRXBNrYKdNrvj+fcQbNM8Ijb5vkOnijTfqdfNtGDYVwE3mV8G\n",
       "zOPnF3irmoZSmiEDKMQ34vvfCK26l1K2noTj+2Vfv3lnquJoGpzIfsHR90Mf7HoU7uxMc/IcWvRw\n",
       "JeZFNHra5Yzp6FqtK2GixwBNMMjPbx/aYOCQbR4RCIkCM6c6kfCDJFnsxck1W2HUriDQcbEwAc55\n",
       "hHCN23T7Kyi+UgV/ljKmrECyah6DA40pfE1uLMRySPcsrygOhXHeZw1JUOAJKMI0Gxn1SpufOyk0\n",
       "xab8tFcJdX0AAAajbW9vdgAAAGxtdmhkAAAAAAAAAAAAAAAAAAAD6AAAJ3QAAQAAAQAAAAAAAAAA\n",
       "AAAAAAEAAAAAAAAAAAAAAAAAAAABAAAAAAAAAAAAAAAAAABAAAAAAAAAAAAAAAAAAAAAAAAAAAAA\n",
       "AAAAAAAAAAAAAgAABc10cmFrAAAAXHRraGQAAAADAAAAAAAAAAAAAAABAAAAAAAAJ3QAAAAAAAAA\n",
       "AAAAAAAAAAAAAAEAAAAAAAAAAAAAAAAAAAABAAAAAAAAAAAAAAAAAABAAAAAAtAAAAFoAAAAAAAk\n",
       "ZWR0cwAAABxlbHN0AAAAAAAAAAEAACd0AAAIAAABAAAAAAVFbWRpYQAAACBtZGhkAAAAAAAAAAAA\n",
       "AAAAAAAoAAABlABVxAAAAAAALWhkbHIAAAAAAAAAAHZpZGUAAAAAAAAAAAAAAABWaWRlb0hhbmRs\n",
       "ZXIAAAAE8G1pbmYAAAAUdm1oZAAAAAEAAAAAAAAAAAAAACRkaW5mAAAAHGRyZWYAAAAAAAAAAQAA\n",
       "AAx1cmwgAAAAAQAABLBzdGJsAAAAtHN0c2QAAAAAAAAAAQAAAKRhdmMxAAAAAAAAAAEAAAAAAAAA\n",
       "AAAAAAAAAAAAAtABaABIAAAASAAAAAAAAAABAAAAAAAAAAAAAAAAAAAAAAAAAAAAAAAAAAAAAAAA\n",
       "AAAAGP//AAAAMmF2Y0MBZAAW/+EAGWdkABas2UC0L/lhAAADAAEAAAMAFA8WLZYBAAZo6+PLIsAA\n",
       "AAAcdXVpZGtoQPJfJE/FujmlG88DI/MAAAAAAAAAGHN0dHMAAAAAAAAAAQAAAGUAAAQAAAAAFHN0\n",
       "c3MAAAAAAAAAAQAAAAEAAAHwY3R0cwAAAAAAAAA8AAAACgAACAAAAAABAAAMAAAAAAEAAAQAAAAA\n",
       "AgAACAAAAAABAAAMAAAAAAEAAAQAAAAAEQAACAAAAAABAAAMAAAAAAEAAAQAAAAADAAACAAAAAAB\n",
       "AAAMAAAAAAEAAAQAAAAAAQAAFAAAAAABAAAIAAAAAAEAAAAAAAAAAQAABAAAAAABAAAUAAAAAAEA\n",
       "AAgAAAAAAQAAAAAAAAABAAAEAAAAAAEAABQAAAAAAQAACAAAAAABAAAAAAAAAAEAAAQAAAAAAQAA\n",
       "EAAAAAACAAAEAAAAAAEAABQAAAAAAQAACAAAAAABAAAAAAAAAAEAAAQAAAAAAQAADAAAAAABAAAE\n",
       "AAAAAAEAABAAAAAAAgAABAAAAAABAAAQAAAAAAIAAAQAAAAAAQAAFAAAAAABAAAIAAAAAAEAAAAA\n",
       "AAAAAQAABAAAAAABAAAUAAAAAAEAAAgAAAAAAQAAAAAAAAABAAAEAAAAAAEAABQAAAAAAQAACAAA\n",
       "AAABAAAAAAAAAAEAAAQAAAAAAQAADAAAAAABAAAEAAAAAAEAAAwAAAAAAQAABAAAAAABAAAQAAAA\n",
       "AAIAAAQAAAAAAQAADAAAAAABAAAEAAAAAAEAAAwAAAAAAQAABAAAAAABAAAMAAAAAAEAAAQAAAAA\n",
       "HHN0c2MAAAAAAAAAAQAAAAEAAABlAAAAAQAAAahzdHN6AAAAAAAAAAAAAABlAAAQ1QAAAVQAAAEt\n",
       "AAABPAAAASUAAADlAAAA6AAAAQEAAAEeAAABCwAAATYAAACtAAABKAAAAQEAAAFMAAAAdwAAARgA\n",
       "AAEPAAABIwAAARAAAAD5AAABJwAAAQMAAAEFAAABJQAAASEAAAD/AAABXAAAAYwAAAGiAAABtwAA\n",
       "AhsAAAJEAAADegAAAT4AAAKSAAAClgAAAjIAAAJUAAACUgAAAjQAAAIgAAACEwAAAhEAAAJIAAAC\n",
       "nAAAAlgAAANKAAABlQAABAcAAAJUAAABogAAAhcAAAXuAAADSQAAApQAAAKrAAAGmgAABAcAAALy\n",
       "AAADBQAABeQAAAM6AAACfQAABgwAAANIAAACkQAAAmsAAARFAAACOwAABdYAAAJeAAACQgAABR8A\n",
       "AAJjAAACAQAABbkAAAJ2AAAB2gAAAfcAAAXMAAACpwAAAggAAAHHAAAEygAAAqQAAAHUAAAB6QAA\n",
       "BCMAAAGaAAAECwAAAYMAAAPeAAABsgAAAXUAAANbAAABWQAAAq8AAAFDAAAB6AAAAXYAAAAUc3Rj\n",
       "bwAAAAAAAAABAAAALAAAAGJ1ZHRhAAAAWm1ldGEAAAAAAAAAIWhkbHIAAAAAAAAAAG1kaXJhcHBs\n",
       "AAAAAAAAAAAAAAAALWlsc3QAAAAlqXRvbwAAAB1kYXRhAAAAAQAAAABMYXZmNTcuNTYuMTAx\n",
       "\">\n",
       "  Your browser does not support the video tag.\n",
       "</video>"
      ]
     },
     "execution_count": 180,
     "metadata": {
     },
     "output_type": "execute_result"
    }
   ],
   "source": [
    "fig = figure(figsize=(10,5))\n",
    "ax = axes()\n",
    "ax.set_xlim(( -10, 15))\n",
    "ax.set_ylim((0, 0.5))\n",
    "line, = ax.plot([], [], lw=2)\n",
    "def animate(t):\n",
    "    line.set_data(XX[t],D_([XX[t]])/x_samples)\n",
    "    return (line,)\n",
    "ani=animation.FuncAnimation(fig, animate, frames=T, interval=100, blit=True)\n",
    "close()\n",
    "HTML(ani.to_html5_video())"
   ]
  },
  {
   "cell_type": "markdown",
   "metadata": {
    "collapsed": false
   },
   "source": [
    "In greater detail ..."
   ]
  },
  {
   "cell_type": "code",
   "execution_count": 185,
   "metadata": {
    "collapsed": false
   },
   "outputs": [
    {
     "data": {
      "image/png": "[encoded data removed]"
     },
     "execution_count": 185,
     "metadata": {
     },
     "output_type": "execute_result"
    }
   ],
   "source": [
    "figure(figsize=(10,5))\n",
    "plot(x.get_value()[0],D_(x.get_value()),color='black',label='density')\n",
    "legend()\n",
    "title('Final Probablity Density')\n",
    "xlabel('location'); ylabel('density')\n",
    "show()"
   ]
  },
  {
   "cell_type": "code",
   "execution_count": 186,
   "metadata": {
    "collapsed": false
   },
   "outputs": [
    {
     "data": {
      "image/png": "[encoded data removed]"
     },
     "execution_count": 186,
     "metadata": {
     },
     "output_type": "execute_result"
    }
   ],
   "source": [
    "plot(T, mean(select(XV)[T]>0,1))\n",
    "title('Transmission')\n",
    "xlabel('time'); ylabel('probablity')\n",
    "show()"
   ]
  },
  {
   "cell_type": "markdown",
   "metadata": {
    "collapsed": false
   },
   "source": [
    "Final transmission probability"
   ]
  },
  {
   "cell_type": "code",
   "execution_count": 187,
   "metadata": {
    "collapsed": false
   },
   "outputs": [
    {
     "name": "stdout",
     "output_type": "stream",
     "text": [
      "0.6584\n"
     ]
    }
   ],
   "source": [
    "print '%.4f'%(v.get_value()>0).mean()"
   ]
  },
  {
   "cell_type": "code",
   "execution_count": 0,
   "metadata": {
    "collapsed": false
   },
   "outputs": [
   ],
   "source": [
   ]
  }
 ],
 "metadata": {
  "kernelspec": {
   "display_name": "anaconda_kernel",
   "language": "python",
   "name": "anaconda_kernel"
  },
  "language_info": {
   "codemirror_mode": {
    "name": "ipython",
    "version": 2
   },
   "file_extension": ".py",
   "mimetype": "text/x-python",
   "name": "python",
   "nbconvert_exporter": "python",
   "pygments_lexer": "ipython2",
   "version": "2.7.14"
  }
 },
 "nbformat": 4,
 "nbformat_minor": 0
}